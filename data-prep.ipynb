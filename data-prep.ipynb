{
 "metadata": {
  "language_info": {
   "codemirror_mode": {
    "name": "ipython",
    "version": 3
   },
   "file_extension": ".py",
   "mimetype": "text/x-python",
   "name": "python",
   "nbconvert_exporter": "python",
   "pygments_lexer": "ipython3",
   "version": "3.9.1-final"
  },
  "orig_nbformat": 2,
  "kernelspec": {
   "name": "python3",
   "display_name": "Python 3",
   "language": "python"
  }
 },
 "nbformat": 4,
 "nbformat_minor": 2,
 "cells": [
  {
   "cell_type": "code",
   "execution_count": 2,
   "metadata": {},
   "outputs": [],
   "source": [
    "import numpy as np\n",
    "import pandas as pd\n",
    "import geopandas as gpd\n",
    "\n",
    "import datetime\n",
    "import ndpretty\n",
    "\n",
    "from tqdm.notebook import tqdm"
   ]
  },
  {
   "cell_type": "code",
   "execution_count": 4,
   "metadata": {},
   "outputs": [],
   "source": [
    "ndpretty.default()"
   ]
  },
  {
   "source": [
    "## Load data\n",
    "\n",
    "### Metadata"
   ],
   "cell_type": "markdown",
   "metadata": {}
  },
  {
   "cell_type": "code",
   "execution_count": 6,
   "metadata": {},
   "outputs": [],
   "source": [
    "def load_metadata():\n",
    "    bj = pd.read_csv('data/bj_stations.csv')\n",
    "    bj = bj.rename(columns={'deviceid': 'device_id'})\n",
    "    bj[\"city\"] = \"Beijing\"\n",
    "\n",
    "    hebei = pd.read_csv('data/hebei_translated.csv')\n",
    "\n",
    "    meta = pd.concat([bj, hebei])\n",
    "    meta = gpd.GeoDataFrame(meta, geometry=gpd.points_from_xy(meta.lon, meta.lat))\n",
    "    return meta\n",
    "\n",
    "# load_metadata()"
   ]
  },
  {
   "source": [
    "### Air quality measurements and weather data\n",
    "\n",
    "First we set a start and an end date for the data considered in this project."
   ],
   "cell_type": "markdown",
   "metadata": {}
  },
  {
   "cell_type": "code",
   "execution_count": 8,
   "metadata": {},
   "outputs": [],
   "source": [
    "def load_measurements(devices, start='2016-01-01 08:00:00', end='2021-01-01 00:00:00'):\n",
    "    air_path = 'data/air/'\n",
    "    weather_path = 'data/city_level_data/csv/'\n",
    "\n",
    "    start = pd.Timestamp(start)\n",
    "    end = pd.Timestamp(end)\n",
    "\n",
    "    date_idx = pd.date_range(start, end, freq='h')\n",
    "\n",
    "    measurements = []\n",
    "    no_weather_devices = []\n",
    "\n",
    "    air_features = None\n",
    "    weather_features = None\n",
    "\n",
    "    for device_id in tqdm(devices):\n",
    "        air_df = pd.read_csv(air_path + device_id + '.csv')\n",
    "        air_df['time'] = pd.to_datetime(air_df[\"time\"])\n",
    "        air_df = air_df.set_index('time', drop=False).reindex(index=date_idx)\n",
    "        air_df['time'] = air_df.index\n",
    "        air_df['device_id'] = device_id\n",
    "\n",
    "        try:\n",
    "            weather_df = pd.read_csv(weather_path + device_id + '.csv')\n",
    "            weather_df['time'] = pd.to_datetime(weather_df['time'])\n",
    "\n",
    "            both_df = air_df.merge(weather_df, on='time', how='left')\n",
    "\n",
    "            measurements.append(both_df)\n",
    "        except FileNotFoundError as e:\n",
    "            print(e)\n",
    "            measurements.append(air_df)\n",
    "            no_weather_devices.append(device_id)\n",
    "        \n",
    "        if air_features is None:\n",
    "            air_features = list(air_df.columns.drop(['time', 'device_id']))\n",
    "\n",
    "        if weather_features is None:\n",
    "            weather_features = list(weather_df.columns.drop(['time']))\n",
    "\n",
    "    all_df = pd.concat(measurements)\n",
    "    \n",
    "    num_devices = len(all_df['device_id'].unique())\n",
    "    assert not all_df['time'].isnull().any(), \"Time values mustn't be NaN\"\n",
    "    assert all_df.shape[0] / num_devices == len(date_idx), \"Don't have entries for all time steps for all devices\"\n",
    "\n",
    "    print(f\"Loaded air quality data from {len(measurements)} devices. No weather data for {no_weather_devices}\")\n",
    "\n",
    "    return all_df, air_features, weather_features\n",
    "\n",
    "# devices = load_metadata()['device_id'].unique()\n",
    "# load_measurements(devices)"
   ]
  },
  {
   "cell_type": "code",
   "execution_count": 10,
   "metadata": {},
   "outputs": [],
   "source": [
    "class Event:\n",
    "    def __init__(self, name, start, end, color):\n",
    "        self.name = name\n",
    "        self.start = start\n",
    "        self.end = end\n",
    "        self.color = color\n",
    "    \n",
    "    def __repr__(self):\n",
    "        date_fmt = '%Y/%m/%d'\n",
    "        return f\" Event '{self.name}' ({self.start.strftime(date_fmt)} - {self.end.strftime(date_fmt)})\"\n",
    "\n",
    "    def __str__(self):\n",
    "        return self.name\n",
    "\n",
    "def get_beijing_lockdowns():\n",
    "    ld1 = Event(\"LD 1\", pd.to_datetime('2020-01-23'), pd.to_datetime('2020-04-08'), 'green')\n",
    "    ld2 = Event(\"LD 2 (light)\", pd.to_datetime('2020-06-15'), pd.to_datetime('2020-09-01'), 'blue')\n",
    "\n",
    "    return [ld1, ld2]\n",
    "\n",
    "# get_beijing_lockdowns()"
   ]
  },
  {
   "cell_type": "code",
   "execution_count": 12,
   "metadata": {},
   "outputs": [],
   "source": [
    "class CityData:\n",
    "    def __init__(self, name, metadata, measurements, air_features, weather_features, events):\n",
    "        self.name = name\n",
    "        self.metadata = metadata\n",
    "        self.measurements = measurements\n",
    "        self.air_features = air_features\n",
    "        self.weather_features = weather_features\n",
    "        self.events = events\n",
    "\n",
    "    @property\n",
    "    def devices(self):\n",
    "        return self.metadata['device_id'].unique()\n",
    "\n",
    "    @property\n",
    "    def measurements_joined(self):\n",
    "        return self.measurements.merge(self.metadata, on='device_id')\n",
    "\n",
    "    def __repr__(self):\n",
    "        return f\"CityData '{self.name}'\"\n",
    "\n",
    "def load_beijing_data():\n",
    "    devices = load_metadata()['device_id'].unique()\n",
    "    return CityData('Beijing', load_metadata(), *load_measurements(devices), get_beijing_lockdowns())\n",
    "\n",
    "# beijing_data = load_beijing_data()"
   ]
  }
 ]
}