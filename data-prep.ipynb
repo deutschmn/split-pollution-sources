{
 "metadata": {
  "language_info": {
   "codemirror_mode": {
    "name": "ipython",
    "version": 3
   },
   "file_extension": ".py",
   "mimetype": "text/x-python",
   "name": "python",
   "nbconvert_exporter": "python",
   "pygments_lexer": "ipython3",
   "version": "3.9.1-final"
  },
  "orig_nbformat": 2,
  "kernelspec": {
   "name": "python3",
   "display_name": "Python 3",
   "language": "python"
  }
 },
 "nbformat": 4,
 "nbformat_minor": 2,
 "cells": [
  {
   "cell_type": "code",
   "execution_count": 1,
   "metadata": {},
   "outputs": [],
   "source": [
    "from __future__ import print_function\n",
    "\n",
    "import plotly.express as px\n",
    "\n",
    "from IPython.display import display\n",
    "from ipywidgets import interact, interactive, fixed, interact_manual\n",
    "import ipywidgets as widgets\n",
    "\n",
    "import numpy as np\n",
    "import pandas as pd\n",
    "import geopandas as gpd\n",
    "\n",
    "import datetime\n",
    "import pickle\n",
    "\n",
    "import matplotlib.pyplot as plt\n",
    "import ndpretty"
   ]
  },
  {
   "cell_type": "code",
   "execution_count": 2,
   "metadata": {},
   "outputs": [],
   "source": [
    "ndpretty.default_max_dim_size = 50\n",
    "ndpretty.default()"
   ]
  },
  {
   "cell_type": "code",
   "execution_count": 3,
   "metadata": {},
   "outputs": [],
   "source": [
    "# %matplotlib widget"
   ]
  },
  {
   "source": [
    "## Load data\n",
    "\n",
    "### Metadata"
   ],
   "cell_type": "markdown",
   "metadata": {}
  },
  {
   "cell_type": "code",
   "execution_count": 4,
   "metadata": {},
   "outputs": [],
   "source": [
    "bj = pd.read_csv('data/bj_stations.csv')\n",
    "bj = bj.rename(columns={'deviceid': 'device_id'})\n",
    "bj[\"city\"] = \"Beijing\"\n",
    "\n",
    "hebei = pd.read_csv('data/hebei_translated.csv')\n",
    "\n",
    "meta = pd.concat([bj, hebei])\n",
    "\n",
    "meta = gpd.GeoDataFrame(meta, geometry=gpd.points_from_xy(meta.lon, meta.lat))"
   ]
  },
  {
   "cell_type": "code",
   "execution_count": 5,
   "metadata": {},
   "outputs": [
    {
     "output_type": "display_data",
     "data": {
      "application/vnd.plotly.v1+json": {
       "config": {
        "plotlyServerURL": "https://plot.ly"
       },
       "data": [
        {
         "customdata": [
          [
           "dongsi",
           null
          ],
          [
           "tiantan",
           null
          ],
          [
           "guanyuan",
           null
          ],
          [
           "wanshouxigong",
           null
          ],
          [
           "aotizhongxin",
           null
          ],
          [
           "nongzhanguan",
           null
          ],
          [
           "wanliu",
           null
          ],
          [
           "beibuxinqu",
           null
          ],
          [
           "zhiwuyuan",
           null
          ],
          [
           "fengtaihuayuan",
           null
          ],
          [
           "yungang",
           null
          ],
          [
           "gucheng",
           null
          ],
          [
           "fangshan",
           null
          ],
          [
           "daxing",
           null
          ],
          [
           "yizhuang",
           null
          ],
          [
           "tongzhou",
           null
          ],
          [
           "shunyi",
           null
          ],
          [
           "changping",
           null
          ],
          [
           "mentougou",
           null
          ],
          [
           "pinggu",
           null
          ],
          [
           "huairou",
           null
          ],
          [
           "miyun",
           null
          ],
          [
           "yanqing",
           null
          ],
          [
           "dingling",
           null
          ],
          [
           "badaling",
           null
          ],
          [
           "miyunshuiku",
           null
          ],
          [
           "donggaocun",
           null
          ],
          [
           "yongledian",
           null
          ],
          [
           "yufa",
           null
          ],
          [
           "liulihe",
           null
          ],
          [
           "qianmen",
           null
          ],
          [
           "yongdingmennei",
           null
          ],
          [
           "xizhimenbei",
           null
          ],
          [
           "nansanhuan",
           null
          ],
          [
           "dongsihuan",
           null
          ],
          [
           "1029A",
           "Staff Hospital"
          ],
          [
           "1030A",
           "High-tech Zone"
          ],
          [
           "1031A",
           "Northwest Water Source"
          ],
          [
           "1032A",
           "Southwest Higher Education"
          ],
          [
           "1033A",
           "Century Park"
          ],
          [
           "1034A",
           "People's Hall"
          ],
          [
           "1035A",
           "Fenglong Mountain"
          ],
          [
           "1036A",
           "Supply and Marketing Cooperative"
          ],
          [
           "1037A",
           "radar station"
          ],
          [
           "1038A",
           "Material Bureau"
          ],
          [
           "1039A",
           "Ceramic Company"
          ],
          [
           "1040A",
           "Twelfth Middle School"
          ],
          [
           "1041A",
           "Xiaoshan"
          ],
          [
           "1042A",
           "Beidaihe Environmental Protection Bureau"
          ],
          [
           "1043A",
           "the first pass"
          ],
          [
           "1044A",
           "Monitoring Station"
          ],
          [
           "1045A",
           "Municipal Government"
          ],
          [
           "1046A",
           "Jianshe Building"
          ],
          [
           "1047A",
           "Environmental Protection Bureau"
          ],
          [
           "1048A",
           "East Sewage Treatment Plant"
          ],
          [
           "1049A",
           "Mining Institute"
          ],
          [
           "1050A",
           "Congtai Park"
          ],
          [
           "1051A",
           "Swimming Pool"
          ],
          [
           "1052A",
           "Huadian District 2"
          ],
          [
           "1053A",
           "Reception Center"
          ],
          [
           "1054A",
           "Surface Water Plant"
          ],
          [
           "1055A",
           "Film Factory"
          ],
          [
           "1056A",
           "Monitoring Station"
          ],
          [
           "1057A",
           "People's Park"
          ],
          [
           "1058A",
           "Tanji Factory"
          ],
          [
           "1059A",
           "Hardware Depot"
          ],
          [
           "1060A",
           "Century Plaza"
          ],
          [
           "1061A",
           "North Pump House"
          ],
          [
           "1062A",
           "Railway"
          ],
          [
           "1063A",
           "Bank of China"
          ],
          [
           "1064A",
           "Development Zone"
          ],
          [
           "1065A",
           "Cultural Center"
          ],
          [
           "1066A",
           "Li Palace"
          ],
          [
           "1067A",
           "Medicinal Materials Company"
          ],
          [
           "1068A",
           "Development Zone"
          ],
          [
           "1069A",
           "Environmental Monitoring Supervision Center"
          ],
          [
           "1070A",
           "Beihua University of Aeronautics and Astronautics"
          ],
          [
           "1071A",
           "Cang County Urban Construction Bureau"
          ],
          [
           "1072A",
           "TV relay station"
          ],
          [
           "1073A",
           "Municipal Environmental Protection Bureau"
          ],
          [
           "1074A",
           "North Motor Factory"
          ],
          [
           "1075A",
           "City Monitoring Station"
          ],
          [
           "1076A",
           "Municipal Environmental Protection Bureau"
          ],
          [
           "1077A",
           "Dahuo Spring"
          ],
          [
           "1078A",
           "Xing Teachers College"
          ],
          [
           "1079A",
           "Road and Bridge Company"
          ],
          [
           "1080A",
           "Municipal Environmental Protection Bureau"
          ]
         ],
         "hovertemplate": "<b>%{hovertext}</b><br><br>lat=%{lat}<br>lon=%{lon}<br>device_id=%{customdata[0]}<br>device_name=%{customdata[1]}<br>color=%{marker.color}<extra></extra>",
         "hovertext": [
          "Beijing",
          "Beijing",
          "Beijing",
          "Beijing",
          "Beijing",
          "Beijing",
          "Beijing",
          "Beijing",
          "Beijing",
          "Beijing",
          "Beijing",
          "Beijing",
          "Beijing",
          "Beijing",
          "Beijing",
          "Beijing",
          "Beijing",
          "Beijing",
          "Beijing",
          "Beijing",
          "Beijing",
          "Beijing",
          "Beijing",
          "Beijing",
          "Beijing",
          "Beijing",
          "Beijing",
          "Beijing",
          "Beijing",
          "Beijing",
          "Beijing",
          "Beijing",
          "Beijing",
          "Beijing",
          "Beijing",
          "Shijiazhuang",
          "Shijiazhuang",
          "Shijiazhuang",
          "Shijiazhuang",
          "Shijiazhuang",
          "Shijiazhuang",
          "Shijiazhuang",
          "Tangshan",
          "Tangshan",
          "Tangshan",
          "Tangshan",
          "Tangshan",
          "Tangshan",
          "Qinhuangdao",
          "Qinhuangdao",
          "Qinhuangdao",
          "Qinhuangdao",
          "Qinhuangdao",
          "Handan",
          "Handan",
          "Handan",
          "Handan",
          "Baoding",
          "Baoding",
          "Baoding",
          "Baoding",
          "Baoding",
          "Baoding",
          "Zhangjiakou",
          "Zhangjiakou",
          "Zhangjiakou",
          "Zhangjiakou",
          "Zhangjiakou",
          "Chengde",
          "Chengde",
          "Chengde",
          "Chengde",
          "Chengde",
          "Langfang",
          "Langfang",
          "Langfang",
          "Langfang",
          "Cangzhou",
          "Cangzhou",
          "Cangzhou",
          "Hengshui",
          "Hengshui",
          "Hengshui",
          "Xingtai",
          "Xingtai",
          "Xingtai",
          "Xingtai"
         ],
         "lat": [
          39.929,
          39.886,
          39.929,
          39.878,
          39.982,
          39.937,
          39.987,
          40.09,
          40.002,
          39.863,
          39.824,
          39.914,
          39.742,
          39.718,
          39.795,
          39.886,
          40.127,
          40.217,
          39.937,
          40.143,
          40.328,
          40.37,
          40.453,
          40.292,
          40.365,
          40.499,
          40.1,
          39.712,
          39.52,
          39.58,
          39.899,
          39.876,
          39.954,
          39.856,
          39.939,
          38.0513,
          38.0398,
          38.1398,
          38.00583333,
          38.01777778,
          38.0524,
          37.9097,
          39.6308,
          39.643,
          39.6407,
          39.6679,
          39.65782,
          39.6295,
          39.8283,
          40.0181,
          39.9567,
          39.9358,
          39.9419,
          36.61763,
          36.6164,
          36.5776,
          36.61981,
          38.8632,
          38.8957,
          38.9108,
          38.8416,
          38.8756,
          38.8707,
          40.8367,
          40.79481,
          40.8115,
          40.7688,
          40.8725,
          40.9161,
          40.9843,
          40.9359,
          40.9733,
          41.0112,
          39.5178,
          39.5747,
          39.5571,
          39.5343,
          38.2991,
          38.3254,
          38.3228,
          37.7575,
          37.7379,
          37.739,
          37.0967,
          37.0533,
          37.0964,
          37.062
         ],
         "legendgroup": "",
         "lon": [
          116.417,
          116.407,
          116.339,
          116.352,
          116.397,
          116.461,
          116.287,
          116.174,
          116.207,
          116.279,
          116.146,
          116.184,
          116.136,
          116.404,
          116.506,
          116.663,
          116.655,
          116.23,
          116.106,
          117.1,
          116.628,
          116.832,
          115.972,
          116.22,
          115.988,
          116.911,
          117.12,
          116.783,
          116.3,
          116,
          116.395,
          116.394,
          116.349,
          116.368,
          116.483,
          114.4548,
          114.6046,
          114.5019,
          114.4586111,
          114.53305559999998,
          114.5214,
          114.3541,
          118.1662,
          118.144,
          118.1853,
          118.2185,
          118.1838,
          118.1997,
          119.5259,
          119.7624,
          119.6023,
          119.607,
          119.5369,
          114.5129,
          114.5426,
          114.5035,
          114.4965,
          115.493,
          115.5223,
          115.4713,
          115.4612,
          115.442,
          115.5214,
          114.8985,
          114.892,
          114.8814,
          114.9032,
          114.904,
          117.9664,
          117.9525,
          117.963,
          117.8184,
          117.9384,
          116.6838,
          116.7729,
          116.715,
          116.7464,
          116.8854,
          116.8584,
          116.8709,
          115.6951,
          115.6426,
          115.6906,
          114.4821,
          114.5261,
          114.5331,
          114.4854
         ],
         "marker": {
          "color": [
           0,
           0,
           0,
           0,
           0,
           0,
           0,
           0,
           0,
           0,
           0,
           0,
           0,
           0,
           0,
           0,
           0,
           0,
           0,
           0,
           0,
           0,
           0,
           0,
           0,
           0,
           0,
           0,
           0,
           0,
           0,
           0,
           0,
           0,
           0,
           1,
           1,
           1,
           1,
           1,
           1,
           1,
           1,
           1,
           1,
           1,
           1,
           1,
           1,
           1,
           1,
           1,
           1,
           1,
           1,
           1,
           1,
           1,
           1,
           1,
           1,
           1,
           1,
           1,
           1,
           1,
           1,
           1,
           1,
           1,
           1,
           1,
           1,
           1,
           1,
           1,
           1,
           1,
           1,
           1,
           1,
           1,
           1,
           1,
           1,
           1,
           1
          ],
          "coloraxis": "coloraxis"
         },
         "mode": "markers",
         "name": "",
         "showlegend": false,
         "subplot": "mapbox",
         "type": "scattermapbox"
        }
       ],
       "layout": {
        "autosize": true,
        "coloraxis": {
         "colorbar": {
          "title": {
           "text": "color"
          }
         },
         "colorscale": [
          [
           0,
           "rgb(0,0,0)"
          ],
          [
           0.25,
           "rgb(230,0,0)"
          ],
          [
           0.5,
           "rgb(230,210,0)"
          ],
          [
           0.75,
           "rgb(255,255,255)"
          ],
          [
           1,
           "rgb(160,200,255)"
          ]
         ]
        },
        "height": 700,
        "hovermode": "closest",
        "legend": {
         "tracegroupgap": 0
        },
        "mapbox": {
         "bearing": 0,
         "center": {
          "lat": 39,
          "lon": 117
         },
         "domain": {
          "x": [
           0,
           1
          ],
          "y": [
           0,
           1
          ]
         },
         "pitch": 0,
         "style": "stamen-terrain",
         "zoom": 5
        },
        "margin": {
         "t": 60
        },
        "showlegend": false,
        "template": {
         "data": {
          "bar": [
           {
            "error_x": {
             "color": "#2a3f5f"
            },
            "error_y": {
             "color": "#2a3f5f"
            },
            "marker": {
             "line": {
              "color": "#E5ECF6",
              "width": 0.5
             }
            },
            "type": "bar"
           }
          ],
          "barpolar": [
           {
            "marker": {
             "line": {
              "color": "#E5ECF6",
              "width": 0.5
             }
            },
            "type": "barpolar"
           }
          ],
          "carpet": [
           {
            "aaxis": {
             "endlinecolor": "#2a3f5f",
             "gridcolor": "white",
             "linecolor": "white",
             "minorgridcolor": "white",
             "startlinecolor": "#2a3f5f"
            },
            "baxis": {
             "endlinecolor": "#2a3f5f",
             "gridcolor": "white",
             "linecolor": "white",
             "minorgridcolor": "white",
             "startlinecolor": "#2a3f5f"
            },
            "type": "carpet"
           }
          ],
          "choropleth": [
           {
            "colorbar": {
             "outlinewidth": 0,
             "ticks": ""
            },
            "type": "choropleth"
           }
          ],
          "contour": [
           {
            "colorbar": {
             "outlinewidth": 0,
             "ticks": ""
            },
            "colorscale": [
             [
              0,
              "#0d0887"
             ],
             [
              0.1111111111111111,
              "#46039f"
             ],
             [
              0.2222222222222222,
              "#7201a8"
             ],
             [
              0.3333333333333333,
              "#9c179e"
             ],
             [
              0.4444444444444444,
              "#bd3786"
             ],
             [
              0.5555555555555556,
              "#d8576b"
             ],
             [
              0.6666666666666666,
              "#ed7953"
             ],
             [
              0.7777777777777778,
              "#fb9f3a"
             ],
             [
              0.8888888888888888,
              "#fdca26"
             ],
             [
              1,
              "#f0f921"
             ]
            ],
            "type": "contour"
           }
          ],
          "contourcarpet": [
           {
            "colorbar": {
             "outlinewidth": 0,
             "ticks": ""
            },
            "type": "contourcarpet"
           }
          ],
          "heatmap": [
           {
            "colorbar": {
             "outlinewidth": 0,
             "ticks": ""
            },
            "colorscale": [
             [
              0,
              "#0d0887"
             ],
             [
              0.1111111111111111,
              "#46039f"
             ],
             [
              0.2222222222222222,
              "#7201a8"
             ],
             [
              0.3333333333333333,
              "#9c179e"
             ],
             [
              0.4444444444444444,
              "#bd3786"
             ],
             [
              0.5555555555555556,
              "#d8576b"
             ],
             [
              0.6666666666666666,
              "#ed7953"
             ],
             [
              0.7777777777777778,
              "#fb9f3a"
             ],
             [
              0.8888888888888888,
              "#fdca26"
             ],
             [
              1,
              "#f0f921"
             ]
            ],
            "type": "heatmap"
           }
          ],
          "heatmapgl": [
           {
            "colorbar": {
             "outlinewidth": 0,
             "ticks": ""
            },
            "colorscale": [
             [
              0,
              "#0d0887"
             ],
             [
              0.1111111111111111,
              "#46039f"
             ],
             [
              0.2222222222222222,
              "#7201a8"
             ],
             [
              0.3333333333333333,
              "#9c179e"
             ],
             [
              0.4444444444444444,
              "#bd3786"
             ],
             [
              0.5555555555555556,
              "#d8576b"
             ],
             [
              0.6666666666666666,
              "#ed7953"
             ],
             [
              0.7777777777777778,
              "#fb9f3a"
             ],
             [
              0.8888888888888888,
              "#fdca26"
             ],
             [
              1,
              "#f0f921"
             ]
            ],
            "type": "heatmapgl"
           }
          ],
          "histogram": [
           {
            "marker": {
             "colorbar": {
              "outlinewidth": 0,
              "ticks": ""
             }
            },
            "type": "histogram"
           }
          ],
          "histogram2d": [
           {
            "colorbar": {
             "outlinewidth": 0,
             "ticks": ""
            },
            "colorscale": [
             [
              0,
              "#0d0887"
             ],
             [
              0.1111111111111111,
              "#46039f"
             ],
             [
              0.2222222222222222,
              "#7201a8"
             ],
             [
              0.3333333333333333,
              "#9c179e"
             ],
             [
              0.4444444444444444,
              "#bd3786"
             ],
             [
              0.5555555555555556,
              "#d8576b"
             ],
             [
              0.6666666666666666,
              "#ed7953"
             ],
             [
              0.7777777777777778,
              "#fb9f3a"
             ],
             [
              0.8888888888888888,
              "#fdca26"
             ],
             [
              1,
              "#f0f921"
             ]
            ],
            "type": "histogram2d"
           }
          ],
          "histogram2dcontour": [
           {
            "colorbar": {
             "outlinewidth": 0,
             "ticks": ""
            },
            "colorscale": [
             [
              0,
              "#0d0887"
             ],
             [
              0.1111111111111111,
              "#46039f"
             ],
             [
              0.2222222222222222,
              "#7201a8"
             ],
             [
              0.3333333333333333,
              "#9c179e"
             ],
             [
              0.4444444444444444,
              "#bd3786"
             ],
             [
              0.5555555555555556,
              "#d8576b"
             ],
             [
              0.6666666666666666,
              "#ed7953"
             ],
             [
              0.7777777777777778,
              "#fb9f3a"
             ],
             [
              0.8888888888888888,
              "#fdca26"
             ],
             [
              1,
              "#f0f921"
             ]
            ],
            "type": "histogram2dcontour"
           }
          ],
          "mesh3d": [
           {
            "colorbar": {
             "outlinewidth": 0,
             "ticks": ""
            },
            "type": "mesh3d"
           }
          ],
          "parcoords": [
           {
            "line": {
             "colorbar": {
              "outlinewidth": 0,
              "ticks": ""
             }
            },
            "type": "parcoords"
           }
          ],
          "pie": [
           {
            "automargin": true,
            "type": "pie"
           }
          ],
          "scatter": [
           {
            "marker": {
             "colorbar": {
              "outlinewidth": 0,
              "ticks": ""
             }
            },
            "type": "scatter"
           }
          ],
          "scatter3d": [
           {
            "line": {
             "colorbar": {
              "outlinewidth": 0,
              "ticks": ""
             }
            },
            "marker": {
             "colorbar": {
              "outlinewidth": 0,
              "ticks": ""
             }
            },
            "type": "scatter3d"
           }
          ],
          "scattercarpet": [
           {
            "marker": {
             "colorbar": {
              "outlinewidth": 0,
              "ticks": ""
             }
            },
            "type": "scattercarpet"
           }
          ],
          "scattergeo": [
           {
            "marker": {
             "colorbar": {
              "outlinewidth": 0,
              "ticks": ""
             }
            },
            "type": "scattergeo"
           }
          ],
          "scattergl": [
           {
            "marker": {
             "colorbar": {
              "outlinewidth": 0,
              "ticks": ""
             }
            },
            "type": "scattergl"
           }
          ],
          "scattermapbox": [
           {
            "marker": {
             "colorbar": {
              "outlinewidth": 0,
              "ticks": ""
             }
            },
            "type": "scattermapbox"
           }
          ],
          "scatterpolar": [
           {
            "marker": {
             "colorbar": {
              "outlinewidth": 0,
              "ticks": ""
             }
            },
            "type": "scatterpolar"
           }
          ],
          "scatterpolargl": [
           {
            "marker": {
             "colorbar": {
              "outlinewidth": 0,
              "ticks": ""
             }
            },
            "type": "scatterpolargl"
           }
          ],
          "scatterternary": [
           {
            "marker": {
             "colorbar": {
              "outlinewidth": 0,
              "ticks": ""
             }
            },
            "type": "scatterternary"
           }
          ],
          "surface": [
           {
            "colorbar": {
             "outlinewidth": 0,
             "ticks": ""
            },
            "colorscale": [
             [
              0,
              "#0d0887"
             ],
             [
              0.1111111111111111,
              "#46039f"
             ],
             [
              0.2222222222222222,
              "#7201a8"
             ],
             [
              0.3333333333333333,
              "#9c179e"
             ],
             [
              0.4444444444444444,
              "#bd3786"
             ],
             [
              0.5555555555555556,
              "#d8576b"
             ],
             [
              0.6666666666666666,
              "#ed7953"
             ],
             [
              0.7777777777777778,
              "#fb9f3a"
             ],
             [
              0.8888888888888888,
              "#fdca26"
             ],
             [
              1,
              "#f0f921"
             ]
            ],
            "type": "surface"
           }
          ],
          "table": [
           {
            "cells": {
             "fill": {
              "color": "#EBF0F8"
             },
             "line": {
              "color": "white"
             }
            },
            "header": {
             "fill": {
              "color": "#C8D4E3"
             },
             "line": {
              "color": "white"
             }
            },
            "type": "table"
           }
          ]
         },
         "layout": {
          "annotationdefaults": {
           "arrowcolor": "#2a3f5f",
           "arrowhead": 0,
           "arrowwidth": 1
          },
          "autotypenumbers": "strict",
          "coloraxis": {
           "colorbar": {
            "outlinewidth": 0,
            "ticks": ""
           }
          },
          "colorscale": {
           "diverging": [
            [
             0,
             "#8e0152"
            ],
            [
             0.1,
             "#c51b7d"
            ],
            [
             0.2,
             "#de77ae"
            ],
            [
             0.3,
             "#f1b6da"
            ],
            [
             0.4,
             "#fde0ef"
            ],
            [
             0.5,
             "#f7f7f7"
            ],
            [
             0.6,
             "#e6f5d0"
            ],
            [
             0.7,
             "#b8e186"
            ],
            [
             0.8,
             "#7fbc41"
            ],
            [
             0.9,
             "#4d9221"
            ],
            [
             1,
             "#276419"
            ]
           ],
           "sequential": [
            [
             0,
             "#0d0887"
            ],
            [
             0.1111111111111111,
             "#46039f"
            ],
            [
             0.2222222222222222,
             "#7201a8"
            ],
            [
             0.3333333333333333,
             "#9c179e"
            ],
            [
             0.4444444444444444,
             "#bd3786"
            ],
            [
             0.5555555555555556,
             "#d8576b"
            ],
            [
             0.6666666666666666,
             "#ed7953"
            ],
            [
             0.7777777777777778,
             "#fb9f3a"
            ],
            [
             0.8888888888888888,
             "#fdca26"
            ],
            [
             1,
             "#f0f921"
            ]
           ],
           "sequentialminus": [
            [
             0,
             "#0d0887"
            ],
            [
             0.1111111111111111,
             "#46039f"
            ],
            [
             0.2222222222222222,
             "#7201a8"
            ],
            [
             0.3333333333333333,
             "#9c179e"
            ],
            [
             0.4444444444444444,
             "#bd3786"
            ],
            [
             0.5555555555555556,
             "#d8576b"
            ],
            [
             0.6666666666666666,
             "#ed7953"
            ],
            [
             0.7777777777777778,
             "#fb9f3a"
            ],
            [
             0.8888888888888888,
             "#fdca26"
            ],
            [
             1,
             "#f0f921"
            ]
           ]
          },
          "colorway": [
           "#636efa",
           "#EF553B",
           "#00cc96",
           "#ab63fa",
           "#FFA15A",
           "#19d3f3",
           "#FF6692",
           "#B6E880",
           "#FF97FF",
           "#FECB52"
          ],
          "font": {
           "color": "#2a3f5f"
          },
          "geo": {
           "bgcolor": "white",
           "lakecolor": "white",
           "landcolor": "#E5ECF6",
           "showlakes": true,
           "showland": true,
           "subunitcolor": "white"
          },
          "hoverlabel": {
           "align": "left"
          },
          "hovermode": "closest",
          "mapbox": {
           "style": "light"
          },
          "paper_bgcolor": "white",
          "plot_bgcolor": "#E5ECF6",
          "polar": {
           "angularaxis": {
            "gridcolor": "white",
            "linecolor": "white",
            "ticks": ""
           },
           "bgcolor": "#E5ECF6",
           "radialaxis": {
            "gridcolor": "white",
            "linecolor": "white",
            "ticks": ""
           }
          },
          "scene": {
           "xaxis": {
            "backgroundcolor": "#E5ECF6",
            "gridcolor": "white",
            "gridwidth": 2,
            "linecolor": "white",
            "showbackground": true,
            "ticks": "",
            "zerolinecolor": "white"
           },
           "yaxis": {
            "backgroundcolor": "#E5ECF6",
            "gridcolor": "white",
            "gridwidth": 2,
            "linecolor": "white",
            "showbackground": true,
            "ticks": "",
            "zerolinecolor": "white"
           },
           "zaxis": {
            "backgroundcolor": "#E5ECF6",
            "gridcolor": "white",
            "gridwidth": 2,
            "linecolor": "white",
            "showbackground": true,
            "ticks": "",
            "zerolinecolor": "white"
           }
          },
          "shapedefaults": {
           "line": {
            "color": "#2a3f5f"
           }
          },
          "ternary": {
           "aaxis": {
            "gridcolor": "white",
            "linecolor": "white",
            "ticks": ""
           },
           "baxis": {
            "gridcolor": "white",
            "linecolor": "white",
            "ticks": ""
           },
           "bgcolor": "#E5ECF6",
           "caxis": {
            "gridcolor": "white",
            "linecolor": "white",
            "ticks": ""
           }
          },
          "title": {
           "x": 0.05
          },
          "xaxis": {
           "automargin": true,
           "gridcolor": "white",
           "linecolor": "white",
           "ticks": "",
           "title": {
            "standoff": 15
           },
           "zerolinecolor": "white",
           "zerolinewidth": 2
          },
          "yaxis": {
           "automargin": true,
           "gridcolor": "white",
           "linecolor": "white",
           "ticks": "",
           "title": {
            "standoff": 15
           },
           "zerolinecolor": "white",
           "zerolinewidth": 2
          }
         }
        },
        "title": {
         "text": "Devices"
        },
        "width": 1000
       }
      }
     },
     "metadata": {}
    }
   ],
   "source": [
    "meta_plot = meta.copy()\n",
    "meta_plot['color'] = 1\n",
    "meta_plot.loc[meta_plot['city'] == 'Beijing', 'color'] = 0\n",
    "\n",
    "fig = px.scatter_mapbox(meta_plot,\n",
    "                        lat=meta_plot.geometry.y,\n",
    "                        lon=meta_plot.geometry.x,\n",
    "                        color='color',\n",
    "                        color_continuous_scale=px.colors.sequential.Blackbody,\n",
    "                        hover_name='city',\n",
    "                        hover_data=[\"device_id\", 'device_name'],\n",
    "                        width=1000, height=700)\n",
    "\n",
    "fig.update_layout(\n",
    "    title='Devices',\n",
    "    autosize=True,\n",
    "    hovermode='closest',\n",
    "    showlegend=False,\n",
    "    mapbox=dict(\n",
    "        bearing=0,\n",
    "        center=dict(\n",
    "            lat=39,\n",
    "            lon=117\n",
    "        ),\n",
    "        pitch=0,\n",
    "        zoom=5,\n",
    "        style='stamen-terrain'\n",
    "    ),\n",
    ")\n",
    "\n",
    "fig.show()"
   ]
  },
  {
   "source": [
    "### Air quality measurements and weather data\n",
    "\n",
    "First we set a start and an end date for the data considered in this project."
   ],
   "cell_type": "markdown",
   "metadata": {}
  },
  {
   "cell_type": "code",
   "execution_count": 6,
   "metadata": {},
   "outputs": [],
   "source": [
    "start = pd.Timestamp('2016-01-01 00:00:00')\n",
    "end = pd.Timestamp('2021-01-01 00:00:00')\n",
    "\n",
    "date_idx = pd.date_range(start, end, freq='h')"
   ]
  },
  {
   "cell_type": "code",
   "execution_count": 7,
   "metadata": {},
   "outputs": [
    {
     "output_type": "stream",
     "name": "stdout",
     "text": [
      "[Errno 2] No such file or directory: 'data/wea/fangshan.csv'\n",
      "[Errno 2] No such file or directory: 'data/wea/miyun.csv'\n",
      "[Errno 2] No such file or directory: 'data/wea/yanqing.csv'\n",
      "[Errno 2] No such file or directory: 'data/wea/badaling.csv'\n",
      "[Errno 2] No such file or directory: 'data/wea/miyunshuiku.csv'\n",
      "[Errno 2] No such file or directory: 'data/wea/yufa.csv'\n",
      "[Errno 2] No such file or directory: 'data/wea/liulihe.csv'\n",
      "[Errno 2] No such file or directory: 'data/wea/1042A.csv'\n",
      "[Errno 2] No such file or directory: 'data/wea/1043A.csv'\n",
      "[Errno 2] No such file or directory: 'data/wea/1044A.csv'\n",
      "[Errno 2] No such file or directory: 'data/wea/1045A.csv'\n",
      "[Errno 2] No such file or directory: 'data/wea/1046A.csv'\n",
      "[Errno 2] No such file or directory: 'data/wea/1047A.csv'\n",
      "[Errno 2] No such file or directory: 'data/wea/1048A.csv'\n",
      "[Errno 2] No such file or directory: 'data/wea/1049A.csv'\n",
      "[Errno 2] No such file or directory: 'data/wea/1050A.csv'\n",
      "[Errno 2] No such file or directory: 'data/wea/1067A.csv'\n",
      "[Errno 2] No such file or directory: 'data/wea/1068A.csv'\n",
      "[Errno 2] No such file or directory: 'data/wea/1069A.csv'\n",
      "[Errno 2] No such file or directory: 'data/wea/1070A.csv'\n",
      "[Errno 2] No such file or directory: 'data/wea/1074A.csv'\n",
      "[Errno 2] No such file or directory: 'data/wea/1075A.csv'\n",
      "[Errno 2] No such file or directory: 'data/wea/1076A.csv'\n",
      "Loaded air quality data from 87 devices\n"
     ]
    }
   ],
   "source": [
    "measurements = []\n",
    "no_weather_devices = []\n",
    "\n",
    "for device_id in meta['device_id'].unique():\n",
    "    #device_id = '1029A'\n",
    "\n",
    "    air_df = pd.read_csv('data/air/' + device_id + '.csv')\n",
    "    air_df['time'] = pd.to_datetime(air_df[\"time\"])\n",
    "    air_df = air_df.set_index('time', drop=False).reindex(index=date_idx)\n",
    "    air_df['time'] = air_df.index\n",
    "    air_df['device_id'] = device_id\n",
    "    air_df['city'] = meta[meta['device_id'] == device_id]['city'].iloc[0]\n",
    "\n",
    "    try:\n",
    "        weather_df = pd.read_csv('data/wea/' + device_id + '.csv')\n",
    "        weather_df['time'] = pd.to_datetime(weather_df[\"datetime\"])\n",
    "        del weather_df['datetime']\n",
    "\n",
    "        both_df = air_df.merge(weather_df, on='time', how='left')\n",
    "\n",
    "        measurements.append(both_df)\n",
    "    except Exception as e:\n",
    "        print(e)\n",
    "        measurements.append(air_df)\n",
    "        no_weather_devices.append(device_id)\n",
    "\n",
    "all_df = pd.concat(measurements)\n",
    "\n",
    "assert not all_df['time'].isnull().any(), \"Time values mustn't be NaN\"\n",
    "\n",
    "print(f\"Loaded air quality data from {len(measurements)} devices\")"
   ]
  },
  {
   "source": [
    "Look only at data from 2020 onwards"
   ],
   "cell_type": "markdown",
   "metadata": {}
  },
  {
   "cell_type": "code",
   "execution_count": 8,
   "metadata": {},
   "outputs": [],
   "source": [
    "# all_df = all_df[all_df['time'] >= '2020-01-01']"
   ]
  },
  {
   "cell_type": "code",
   "execution_count": 9,
   "metadata": {},
   "outputs": [
    {
     "output_type": "execute_result",
     "data": {
      "text/plain": [
       "[ Event 'LD 1' (2020/01/23 - 2020/04/08),\n",
       "  Event 'LD 2 (light)' (2020/06/15 - 2020/09/01)]"
      ]
     },
     "metadata": {},
     "execution_count": 9
    }
   ],
   "source": [
    "class Event:\n",
    "    def __init__(self, name, start, end, color):\n",
    "        self.name = name\n",
    "        self.start = start\n",
    "        self.end = end\n",
    "        self.color = color\n",
    "    \n",
    "    def __repr__(self):\n",
    "        date_fmt = '%Y/%m/%d'\n",
    "        return f\" Event '{self.name}' ({self.start.strftime(date_fmt)} - {self.end.strftime(date_fmt)})\"\n",
    "\n",
    "    def __str__(self):\n",
    "        return self.name\n",
    "\n",
    "lockdowns = []\n",
    "\n",
    "lockdowns.append(Event(\"LD 1\", pd.to_datetime('2020-01-23'), pd.to_datetime('2020-04-08'), 'green'))\n",
    "lockdowns.append(Event(\"LD 2 (light)\", pd.to_datetime('2020-06-15'), pd.to_datetime('2020-09-01'), 'blue'))\n",
    "\n",
    "lockdowns"
   ]
  },
  {
   "cell_type": "code",
   "execution_count": 10,
   "metadata": {},
   "outputs": [],
   "source": [
    "feature_list = list(all_df.columns.drop(['time', 'device_id']))"
   ]
  },
  {
   "cell_type": "code",
   "execution_count": 169,
   "metadata": {},
   "outputs": [],
   "source": [
    "days_list = pd.date_range(all_df[\"time\"].min(), all_df[\"time\"].max(), freq='D')\n",
    "days_list_formatted = [(date.strftime(' %d-%m-%y '), date) for date in days_list]\n",
    "\n",
    "ld1 = lockdowns[0]\n",
    "start = ld1.start - datetime.timedelta(days=14)\n",
    "end = ld1.end + datetime.timedelta(days=14)\n",
    "\n",
    "date_slider = widgets.SelectionRangeSlider(\n",
    "    options=days_list_formatted,\n",
    "    index=(0, len(days_list_formatted) - 1),\n",
    "    value=(start, end),\n",
    "    description='Dates',\n",
    "    orientation='horizontal',\n",
    "    layout={'width': '500px'}\n",
    ")"
   ]
  },
  {
   "cell_type": "code",
   "execution_count": 170,
   "metadata": {},
   "outputs": [],
   "source": [
    "devices = meta['device_id']\n",
    "descriptions = meta['device_id'] + \" (\" + meta['city'] + \")\"\n",
    "dic = dict(zip(descriptions, devices))"
   ]
  },
  {
   "cell_type": "code",
   "execution_count": 176,
   "metadata": {},
   "outputs": [
    {
     "output_type": "display_data",
     "data": {
      "text/plain": "interactive(children=(SelectMultiple(description='Devices', options=('dongsi (Beijing)', 'tiantan (Beijing)', …",
      "application/vnd.jupyter.widget-view+json": {
       "version_major": 2,
       "version_minor": 0,
       "model_id": "05a265c314dd4c7298ac413d9e90a9af"
      }
     },
     "metadata": {}
    },
    {
     "output_type": "execute_result",
     "data": {
      "text/plain": [
       "<function __main__.plot_data(data, devices, date_range, feature, events=[], device_id_mapping=None)>"
      ]
     },
     "metadata": {},
     "execution_count": 176
    }
   ],
   "source": [
    "def plot_data(data, devices, date_range, feature, events=[], device_id_mapping=None):\n",
    "    plt.figure(figsize=(10,5))\n",
    "\n",
    "    # plot events\n",
    "    for event in events:\n",
    "        plt.axvspan(event.start, event.end, color=event.color, alpha=0.1, label=event.name)\n",
    "\n",
    "    # plot measurements\n",
    "    (start, end) = date_range\n",
    "    for device in devices:\n",
    "        if device_id_mapping is not None:\n",
    "            device_id = device_id_mapping[device]\n",
    "        else:\n",
    "            device_id = device\n",
    "        y = data[(data['device_id'] == device_id) & (data['time'] >= start) & (data['time'] < end)]\n",
    "        plt.plot(y['time'], y[feature], label=device)\n",
    "\n",
    "    plt.tight_layout()\n",
    "\n",
    "    plt.title(feature)\n",
    "    plt.legend(loc='upper left')\n",
    "    axes = plt.gca()\n",
    "    axes.set_xlim([start,end])\n",
    "\n",
    "    plt.show()\n",
    "\n",
    "device_widget = widgets.SelectMultiple(\n",
    "    options=dic.keys(),\n",
    "    rows=15,\n",
    "    description='Devices',\n",
    "    disabled=False\n",
    ")\n",
    "\n",
    "feature_widget = widgets.Dropdown(\n",
    "    options=feature_list,\n",
    "    value='pm25',\n",
    "    description='Feature:'\n",
    ")\n",
    "\n",
    "interact_manual(plot_data, data=fixed(all_df), devices=device_widget, date_range=date_slider, feature=feature_widget, events=fixed(lockdowns), device_id_mapping=fixed(dic))"
   ]
  },
  {
   "cell_type": "code",
   "execution_count": 14,
   "metadata": {},
   "outputs": [],
   "source": [
    "city_means = all_df.groupby(by=['city', 'time']).mean().reset_index()\n",
    "city_means = city_means.rename(columns={'city': 'device_id'})"
   ]
  },
  {
   "cell_type": "code",
   "execution_count": 138,
   "metadata": {},
   "outputs": [
    {
     "output_type": "execute_result",
     "data": {
      "text/plain": [
       "          device_id                time        co         no2         o3  \\\n",
       "0           Baoding 2016-01-01 00:00:00  6.110833  152.000000   7.500000   \n",
       "1           Baoding 2016-01-01 01:00:00  6.463000  153.000000   8.666667   \n",
       "2           Baoding 2016-01-01 02:00:00  7.179500  148.000000   9.000000   \n",
       "3           Baoding 2016-01-01 03:00:00  6.713000  132.833333   8.166667   \n",
       "4           Baoding 2016-01-01 04:00:00  4.945667  108.333333   7.333333   \n",
       "...             ...                 ...       ...         ...        ...   \n",
       "526183  Zhangjiakou 2020-12-31 20:00:00  0.925000   34.250000  34.750000   \n",
       "526184  Zhangjiakou 2020-12-31 21:00:00  0.825000   26.000000  39.750000   \n",
       "526185  Zhangjiakou 2020-12-31 22:00:00  0.900000   25.000000  37.500000   \n",
       "526186  Zhangjiakou 2020-12-31 23:00:00  1.000000   30.750000  27.750000   \n",
       "526187  Zhangjiakou 2021-01-01 00:00:00  1.000000   33.000000  27.000000   \n",
       "\n",
       "              pm10        pm25         so2  temperature  humidity  windSpeed  \\\n",
       "0              NaN         NaN  158.333333          NaN       NaN        NaN   \n",
       "1       375.666667  301.000000  146.333333          NaN       NaN        NaN   \n",
       "2       402.166667  320.833333  135.666667    -4.115741     0.875      2.240   \n",
       "3       379.666667  302.666667  127.333333          NaN       NaN        NaN   \n",
       "4       263.666667  211.333333  116.500000          NaN       NaN        NaN   \n",
       "...            ...         ...         ...          ...       ...        ...   \n",
       "526183   57.000000   28.500000   25.750000   -13.032222     0.260      6.018   \n",
       "526184   53.333333   27.000000   18.750000   -13.811111     0.274      6.064   \n",
       "526185   69.250000   43.250000   22.000000   -14.842222     0.300      5.670   \n",
       "526186   57.250000   32.250000   27.250000   -15.684444     0.312      4.870   \n",
       "526187   51.000000   27.000000   20.000000   -16.273333     0.330      4.342   \n",
       "\n",
       "        windBearing  precipIntensity  \n",
       "0               NaN              NaN  \n",
       "1               NaN              NaN  \n",
       "2              71.0              0.0  \n",
       "3               NaN              NaN  \n",
       "4               NaN              NaN  \n",
       "...             ...              ...  \n",
       "526183        323.8              0.0  \n",
       "526184        315.2              0.0  \n",
       "526185        323.6              0.0  \n",
       "526186        332.0              0.0  \n",
       "526187        333.8              0.0  \n",
       "\n",
       "[526188 rows x 13 columns]"
      ],
      "text/html": "<div>\n<style scoped>\n    .dataframe tbody tr th:only-of-type {\n        vertical-align: middle;\n    }\n\n    .dataframe tbody tr th {\n        vertical-align: top;\n    }\n\n    .dataframe thead th {\n        text-align: right;\n    }\n</style>\n<table border=\"1\" class=\"dataframe\">\n  <thead>\n    <tr style=\"text-align: right;\">\n      <th></th>\n      <th>device_id</th>\n      <th>time</th>\n      <th>co</th>\n      <th>no2</th>\n      <th>o3</th>\n      <th>pm10</th>\n      <th>pm25</th>\n      <th>so2</th>\n      <th>temperature</th>\n      <th>humidity</th>\n      <th>windSpeed</th>\n      <th>windBearing</th>\n      <th>precipIntensity</th>\n    </tr>\n  </thead>\n  <tbody>\n    <tr>\n      <th>0</th>\n      <td>Baoding</td>\n      <td>2016-01-01 00:00:00</td>\n      <td>6.110833</td>\n      <td>152.000000</td>\n      <td>7.500000</td>\n      <td>NaN</td>\n      <td>NaN</td>\n      <td>158.333333</td>\n      <td>NaN</td>\n      <td>NaN</td>\n      <td>NaN</td>\n      <td>NaN</td>\n      <td>NaN</td>\n    </tr>\n    <tr>\n      <th>1</th>\n      <td>Baoding</td>\n      <td>2016-01-01 01:00:00</td>\n      <td>6.463000</td>\n      <td>153.000000</td>\n      <td>8.666667</td>\n      <td>375.666667</td>\n      <td>301.000000</td>\n      <td>146.333333</td>\n      <td>NaN</td>\n      <td>NaN</td>\n      <td>NaN</td>\n      <td>NaN</td>\n      <td>NaN</td>\n    </tr>\n    <tr>\n      <th>2</th>\n      <td>Baoding</td>\n      <td>2016-01-01 02:00:00</td>\n      <td>7.179500</td>\n      <td>148.000000</td>\n      <td>9.000000</td>\n      <td>402.166667</td>\n      <td>320.833333</td>\n      <td>135.666667</td>\n      <td>-4.115741</td>\n      <td>0.875</td>\n      <td>2.240</td>\n      <td>71.0</td>\n      <td>0.0</td>\n    </tr>\n    <tr>\n      <th>3</th>\n      <td>Baoding</td>\n      <td>2016-01-01 03:00:00</td>\n      <td>6.713000</td>\n      <td>132.833333</td>\n      <td>8.166667</td>\n      <td>379.666667</td>\n      <td>302.666667</td>\n      <td>127.333333</td>\n      <td>NaN</td>\n      <td>NaN</td>\n      <td>NaN</td>\n      <td>NaN</td>\n      <td>NaN</td>\n    </tr>\n    <tr>\n      <th>4</th>\n      <td>Baoding</td>\n      <td>2016-01-01 04:00:00</td>\n      <td>4.945667</td>\n      <td>108.333333</td>\n      <td>7.333333</td>\n      <td>263.666667</td>\n      <td>211.333333</td>\n      <td>116.500000</td>\n      <td>NaN</td>\n      <td>NaN</td>\n      <td>NaN</td>\n      <td>NaN</td>\n      <td>NaN</td>\n    </tr>\n    <tr>\n      <th>...</th>\n      <td>...</td>\n      <td>...</td>\n      <td>...</td>\n      <td>...</td>\n      <td>...</td>\n      <td>...</td>\n      <td>...</td>\n      <td>...</td>\n      <td>...</td>\n      <td>...</td>\n      <td>...</td>\n      <td>...</td>\n      <td>...</td>\n    </tr>\n    <tr>\n      <th>526183</th>\n      <td>Zhangjiakou</td>\n      <td>2020-12-31 20:00:00</td>\n      <td>0.925000</td>\n      <td>34.250000</td>\n      <td>34.750000</td>\n      <td>57.000000</td>\n      <td>28.500000</td>\n      <td>25.750000</td>\n      <td>-13.032222</td>\n      <td>0.260</td>\n      <td>6.018</td>\n      <td>323.8</td>\n      <td>0.0</td>\n    </tr>\n    <tr>\n      <th>526184</th>\n      <td>Zhangjiakou</td>\n      <td>2020-12-31 21:00:00</td>\n      <td>0.825000</td>\n      <td>26.000000</td>\n      <td>39.750000</td>\n      <td>53.333333</td>\n      <td>27.000000</td>\n      <td>18.750000</td>\n      <td>-13.811111</td>\n      <td>0.274</td>\n      <td>6.064</td>\n      <td>315.2</td>\n      <td>0.0</td>\n    </tr>\n    <tr>\n      <th>526185</th>\n      <td>Zhangjiakou</td>\n      <td>2020-12-31 22:00:00</td>\n      <td>0.900000</td>\n      <td>25.000000</td>\n      <td>37.500000</td>\n      <td>69.250000</td>\n      <td>43.250000</td>\n      <td>22.000000</td>\n      <td>-14.842222</td>\n      <td>0.300</td>\n      <td>5.670</td>\n      <td>323.6</td>\n      <td>0.0</td>\n    </tr>\n    <tr>\n      <th>526186</th>\n      <td>Zhangjiakou</td>\n      <td>2020-12-31 23:00:00</td>\n      <td>1.000000</td>\n      <td>30.750000</td>\n      <td>27.750000</td>\n      <td>57.250000</td>\n      <td>32.250000</td>\n      <td>27.250000</td>\n      <td>-15.684444</td>\n      <td>0.312</td>\n      <td>4.870</td>\n      <td>332.0</td>\n      <td>0.0</td>\n    </tr>\n    <tr>\n      <th>526187</th>\n      <td>Zhangjiakou</td>\n      <td>2021-01-01 00:00:00</td>\n      <td>1.000000</td>\n      <td>33.000000</td>\n      <td>27.000000</td>\n      <td>51.000000</td>\n      <td>27.000000</td>\n      <td>20.000000</td>\n      <td>-16.273333</td>\n      <td>0.330</td>\n      <td>4.342</td>\n      <td>333.8</td>\n      <td>0.0</td>\n    </tr>\n  </tbody>\n</table>\n<p>526188 rows × 13 columns</p>\n</div>"
     },
     "metadata": {},
     "execution_count": 138
    }
   ],
   "source": [
    "city_means"
   ]
  },
  {
   "cell_type": "code",
   "execution_count": 175,
   "metadata": {},
   "outputs": [
    {
     "output_type": "display_data",
     "data": {
      "text/plain": "interactive(children=(SelectMultiple(description='Devices', options=('Baoding', 'Beijing', 'Cangzhou', 'Chengd…",
      "application/vnd.jupyter.widget-view+json": {
       "version_major": 2,
       "version_minor": 0,
       "model_id": "670feb95423648a69875448c73909be9"
      }
     },
     "metadata": {}
    },
    {
     "output_type": "execute_result",
     "data": {
      "text/plain": [
       "<function __main__.plot_data(data, devices, date_range, feature, events=[], device_id_mapping=None)>"
      ]
     },
     "metadata": {},
     "execution_count": 175
    }
   ],
   "source": [
    "city_widget = widgets.SelectMultiple(\n",
    "    options=list(city_means['device_id'].unique()),\n",
    "    rows=15,\n",
    "    description='Devices',\n",
    "    disabled=False\n",
    ")\n",
    "\n",
    "interact_manual(plot_data, data=fixed(city_means), devices=city_widget, date_range=date_slider, feature=feature_widget, events=fixed(lockdowns), device_id_mapping=fixed(None))"
   ]
  },
  {
   "cell_type": "code",
   "execution_count": 164,
   "metadata": {},
   "outputs": [
    {
     "output_type": "display_data",
     "data": {
      "application/vnd.plotly.v1+json": {
       "config": {
        "plotlyServerURL": "https://plot.ly"
       },
       "data": [
        {
         "customdata": [
          [
           "dongsi",
           null
          ],
          [
           "tiantan",
           null
          ],
          [
           "guanyuan",
           null
          ],
          [
           "wanshouxigong",
           null
          ],
          [
           "aotizhongxin",
           null
          ],
          [
           "nongzhanguan",
           null
          ],
          [
           "wanliu",
           null
          ],
          [
           "beibuxinqu",
           null
          ],
          [
           "zhiwuyuan",
           null
          ],
          [
           "fengtaihuayuan",
           null
          ],
          [
           "yungang",
           null
          ],
          [
           "gucheng",
           null
          ],
          [
           "fangshan",
           null
          ],
          [
           "daxing",
           null
          ],
          [
           "yizhuang",
           null
          ],
          [
           "tongzhou",
           null
          ],
          [
           "shunyi",
           null
          ],
          [
           "changping",
           null
          ],
          [
           "mentougou",
           null
          ],
          [
           "pinggu",
           null
          ],
          [
           "huairou",
           null
          ],
          [
           "miyun",
           null
          ],
          [
           "yanqing",
           null
          ],
          [
           "dingling",
           null
          ],
          [
           "badaling",
           null
          ],
          [
           "miyunshuiku",
           null
          ],
          [
           "donggaocun",
           null
          ],
          [
           "yongledian",
           null
          ],
          [
           "yufa",
           null
          ],
          [
           "liulihe",
           null
          ],
          [
           "qianmen",
           null
          ],
          [
           "yongdingmennei",
           null
          ],
          [
           "xizhimenbei",
           null
          ],
          [
           "nansanhuan",
           null
          ],
          [
           "dongsihuan",
           null
          ],
          [
           "1029A",
           "Staff Hospital"
          ],
          [
           "1030A",
           "High-tech Zone"
          ],
          [
           "1031A",
           "Northwest Water Source"
          ],
          [
           "1032A",
           "Southwest Higher Education"
          ],
          [
           "1033A",
           "Century Park"
          ],
          [
           "1034A",
           "People's Hall"
          ],
          [
           "1035A",
           "Fenglong Mountain"
          ],
          [
           "1036A",
           "Supply and Marketing Cooperative"
          ],
          [
           "1037A",
           "radar station"
          ],
          [
           "1038A",
           "Material Bureau"
          ],
          [
           "1039A",
           "Ceramic Company"
          ],
          [
           "1040A",
           "Twelfth Middle School"
          ],
          [
           "1041A",
           "Xiaoshan"
          ],
          [
           "1042A",
           "Beidaihe Environmental Protection Bureau"
          ],
          [
           "1043A",
           "the first pass"
          ],
          [
           "1044A",
           "Monitoring Station"
          ],
          [
           "1045A",
           "Municipal Government"
          ],
          [
           "1046A",
           "Jianshe Building"
          ],
          [
           "1047A",
           "Environmental Protection Bureau"
          ],
          [
           "1048A",
           "East Sewage Treatment Plant"
          ],
          [
           "1049A",
           "Mining Institute"
          ],
          [
           "1050A",
           "Congtai Park"
          ],
          [
           "1051A",
           "Swimming Pool"
          ],
          [
           "1052A",
           "Huadian District 2"
          ],
          [
           "1053A",
           "Reception Center"
          ],
          [
           "1054A",
           "Surface Water Plant"
          ],
          [
           "1055A",
           "Film Factory"
          ],
          [
           "1056A",
           "Monitoring Station"
          ],
          [
           "1057A",
           "People's Park"
          ],
          [
           "1058A",
           "Tanji Factory"
          ],
          [
           "1059A",
           "Hardware Depot"
          ],
          [
           "1060A",
           "Century Plaza"
          ],
          [
           "1061A",
           "North Pump House"
          ],
          [
           "1062A",
           "Railway"
          ],
          [
           "1063A",
           "Bank of China"
          ],
          [
           "1064A",
           "Development Zone"
          ],
          [
           "1065A",
           "Cultural Center"
          ],
          [
           "1066A",
           "Li Palace"
          ],
          [
           "1067A",
           "Medicinal Materials Company"
          ],
          [
           "1068A",
           "Development Zone"
          ],
          [
           "1069A",
           "Environmental Monitoring Supervision Center"
          ],
          [
           "1070A",
           "Beihua University of Aeronautics and Astronautics"
          ],
          [
           "1071A",
           "Cang County Urban Construction Bureau"
          ],
          [
           "1072A",
           "TV relay station"
          ],
          [
           "1073A",
           "Municipal Environmental Protection Bureau"
          ],
          [
           "1074A",
           "North Motor Factory"
          ],
          [
           "1075A",
           "City Monitoring Station"
          ],
          [
           "1076A",
           "Municipal Environmental Protection Bureau"
          ],
          [
           "1077A",
           "Dahuo Spring"
          ],
          [
           "1078A",
           "Xing Teachers College"
          ],
          [
           "1079A",
           "Road and Bridge Company"
          ],
          [
           "1080A",
           "Municipal Environmental Protection Bureau"
          ]
         ],
         "hovertemplate": "<b>%{hovertext}</b><br><br>size=%{marker.size}<br>lat=%{lat}<br>lon=%{lon}<br>device_id=%{customdata[0]}<br>device_name=%{customdata[1]}<br>pm25=%{marker.color}<extra></extra>",
         "hovertext": [
          "Beijing",
          "Beijing",
          "Beijing",
          "Beijing",
          "Beijing",
          "Beijing",
          "Beijing",
          "Beijing",
          "Beijing",
          "Beijing",
          "Beijing",
          "Beijing",
          "Beijing",
          "Beijing",
          "Beijing",
          "Beijing",
          "Beijing",
          "Beijing",
          "Beijing",
          "Beijing",
          "Beijing",
          "Beijing",
          "Beijing",
          "Beijing",
          "Beijing",
          "Beijing",
          "Beijing",
          "Beijing",
          "Beijing",
          "Beijing",
          "Beijing",
          "Beijing",
          "Beijing",
          "Beijing",
          "Beijing",
          "Shijiazhuang",
          "Shijiazhuang",
          "Shijiazhuang",
          "Shijiazhuang",
          "Shijiazhuang",
          "Shijiazhuang",
          "Shijiazhuang",
          "Tangshan",
          "Tangshan",
          "Tangshan",
          "Tangshan",
          "Tangshan",
          "Tangshan",
          "Qinhuangdao",
          "Qinhuangdao",
          "Qinhuangdao",
          "Qinhuangdao",
          "Qinhuangdao",
          "Handan",
          "Handan",
          "Handan",
          "Handan",
          "Baoding",
          "Baoding",
          "Baoding",
          "Baoding",
          "Baoding",
          "Baoding",
          "Zhangjiakou",
          "Zhangjiakou",
          "Zhangjiakou",
          "Zhangjiakou",
          "Zhangjiakou",
          "Chengde",
          "Chengde",
          "Chengde",
          "Chengde",
          "Chengde",
          "Langfang",
          "Langfang",
          "Langfang",
          "Langfang",
          "Cangzhou",
          "Cangzhou",
          "Cangzhou",
          "Hengshui",
          "Hengshui",
          "Hengshui",
          "Xingtai",
          "Xingtai",
          "Xingtai",
          "Xingtai"
         ],
         "lat": [
          39.929,
          39.886,
          39.929,
          39.878,
          39.982,
          39.937,
          39.987,
          40.09,
          40.002,
          39.863,
          39.824,
          39.914,
          39.742,
          39.718,
          39.795,
          39.886,
          40.127,
          40.217,
          39.937,
          40.143,
          40.328,
          40.37,
          40.453,
          40.292,
          40.365,
          40.499,
          40.1,
          39.712,
          39.52,
          39.58,
          39.899,
          39.876,
          39.954,
          39.856,
          39.939,
          38.0513,
          38.0398,
          38.1398,
          38.00583333,
          38.01777778,
          38.0524,
          37.9097,
          39.6308,
          39.643,
          39.6407,
          39.6679,
          39.65782,
          39.6295,
          39.8283,
          40.0181,
          39.9567,
          39.9358,
          39.9419,
          36.61763,
          36.6164,
          36.5776,
          36.61981,
          38.8632,
          38.8957,
          38.9108,
          38.8416,
          38.8756,
          38.8707,
          40.8367,
          40.79481,
          40.8115,
          40.7688,
          40.8725,
          40.9161,
          40.9843,
          40.9359,
          40.9733,
          41.0112,
          39.5178,
          39.5747,
          39.5571,
          39.5343,
          38.2991,
          38.3254,
          38.3228,
          37.7575,
          37.7379,
          37.739,
          37.0967,
          37.0533,
          37.0964,
          37.062
         ],
         "legendgroup": "",
         "lon": [
          116.417,
          116.407,
          116.339,
          116.352,
          116.397,
          116.461,
          116.287,
          116.174,
          116.207,
          116.279,
          116.146,
          116.184,
          116.136,
          116.404,
          116.506,
          116.663,
          116.655,
          116.23,
          116.106,
          117.1,
          116.628,
          116.832,
          115.972,
          116.22,
          115.988,
          116.911,
          117.12,
          116.783,
          116.3,
          116,
          116.395,
          116.394,
          116.349,
          116.368,
          116.483,
          114.4548,
          114.6046,
          114.5019,
          114.4586111,
          114.53305559999998,
          114.5214,
          114.3541,
          118.1662,
          118.144,
          118.1853,
          118.2185,
          118.1838,
          118.1997,
          119.5259,
          119.7624,
          119.6023,
          119.607,
          119.5369,
          114.5129,
          114.5426,
          114.5035,
          114.4965,
          115.493,
          115.5223,
          115.4713,
          115.4612,
          115.442,
          115.5214,
          114.8985,
          114.892,
          114.8814,
          114.9032,
          114.904,
          117.9664,
          117.9525,
          117.963,
          117.8184,
          117.9384,
          116.6838,
          116.7729,
          116.715,
          116.7464,
          116.8854,
          116.8584,
          116.8709,
          115.6951,
          115.6426,
          115.6906,
          114.4821,
          114.5261,
          114.5331,
          114.4854
         ],
         "marker": {
          "color": [
           48,
           43,
           47,
           51,
           48,
           48,
           48,
           89,
           null,
           null,
           51,
           78,
           59,
           46,
           44,
           44,
           56,
           94,
           90,
           51,
           68,
           37,
           88,
           90,
           94,
           52,
           53,
           74,
           35,
           68,
           39,
           45,
           46,
           43,
           36,
           42,
           32,
           42,
           40,
           21,
           36,
           34,
           null,
           51,
           53,
           null,
           50,
           70,
           97,
           83,
           89,
           null,
           83,
           40,
           33,
           39,
           38,
           33,
           33,
           34,
           35,
           38,
           36,
           89,
           null,
           61,
           89,
           57,
           49,
           42,
           47,
           39,
           41,
           43,
           37,
           null,
           38,
           44,
           39,
           46,
           48,
           43,
           null,
           32,
           null,
           35,
           43
          ],
          "coloraxis": "coloraxis",
          "size": [
           10,
           10,
           10,
           10,
           10,
           10,
           10,
           10,
           10,
           10,
           10,
           10,
           10,
           10,
           10,
           10,
           10,
           10,
           10,
           10,
           10,
           10,
           10,
           10,
           10,
           10,
           10,
           10,
           10,
           10,
           10,
           10,
           10,
           10,
           10,
           10,
           10,
           10,
           10,
           10,
           10,
           10,
           10,
           10,
           10,
           10,
           10,
           10,
           10,
           10,
           10,
           10,
           10,
           10,
           10,
           10,
           10,
           10,
           10,
           10,
           10,
           10,
           10,
           10,
           10,
           10,
           10,
           10,
           10,
           10,
           10,
           10,
           10,
           10,
           10,
           10,
           10,
           10,
           10,
           10,
           10,
           10,
           10,
           10,
           10,
           10,
           10
          ],
          "sizemode": "area",
          "sizeref": 0.025
         },
         "mode": "markers",
         "name": "",
         "showlegend": false,
         "subplot": "mapbox",
         "type": "scattermapbox"
        }
       ],
       "layout": {
        "autosize": true,
        "coloraxis": {
         "colorbar": {
          "title": {
           "text": "pm25"
          }
         },
         "colorscale": [
          [
           0,
           "rgb(253, 237, 176)"
          ],
          [
           0.09090909090909091,
           "rgb(250, 205, 145)"
          ],
          [
           0.18181818181818182,
           "rgb(246, 173, 119)"
          ],
          [
           0.2727272727272727,
           "rgb(240, 142, 98)"
          ],
          [
           0.36363636363636365,
           "rgb(231, 109, 84)"
          ],
          [
           0.45454545454545453,
           "rgb(216, 80, 83)"
          ],
          [
           0.5454545454545454,
           "rgb(195, 56, 90)"
          ],
          [
           0.6363636363636364,
           "rgb(168, 40, 96)"
          ],
          [
           0.7272727272727273,
           "rgb(138, 29, 99)"
          ],
          [
           0.8181818181818182,
           "rgb(107, 24, 93)"
          ],
          [
           0.9090909090909091,
           "rgb(76, 21, 80)"
          ],
          [
           1,
           "rgb(47, 15, 61)"
          ]
         ]
        },
        "height": 700,
        "hovermode": "closest",
        "legend": {
         "itemsizing": "constant",
         "tracegroupgap": 0
        },
        "mapbox": {
         "bearing": 0,
         "center": {
          "lat": 39,
          "lon": 117
         },
         "domain": {
          "x": [
           0,
           1
          ],
          "y": [
           0,
           1
          ]
         },
         "pitch": 0,
         "style": "stamen-terrain",
         "zoom": 5
        },
        "margin": {
         "t": 60
        },
        "showlegend": false,
        "template": {
         "data": {
          "bar": [
           {
            "error_x": {
             "color": "#2a3f5f"
            },
            "error_y": {
             "color": "#2a3f5f"
            },
            "marker": {
             "line": {
              "color": "#E5ECF6",
              "width": 0.5
             }
            },
            "type": "bar"
           }
          ],
          "barpolar": [
           {
            "marker": {
             "line": {
              "color": "#E5ECF6",
              "width": 0.5
             }
            },
            "type": "barpolar"
           }
          ],
          "carpet": [
           {
            "aaxis": {
             "endlinecolor": "#2a3f5f",
             "gridcolor": "white",
             "linecolor": "white",
             "minorgridcolor": "white",
             "startlinecolor": "#2a3f5f"
            },
            "baxis": {
             "endlinecolor": "#2a3f5f",
             "gridcolor": "white",
             "linecolor": "white",
             "minorgridcolor": "white",
             "startlinecolor": "#2a3f5f"
            },
            "type": "carpet"
           }
          ],
          "choropleth": [
           {
            "colorbar": {
             "outlinewidth": 0,
             "ticks": ""
            },
            "type": "choropleth"
           }
          ],
          "contour": [
           {
            "colorbar": {
             "outlinewidth": 0,
             "ticks": ""
            },
            "colorscale": [
             [
              0,
              "#0d0887"
             ],
             [
              0.1111111111111111,
              "#46039f"
             ],
             [
              0.2222222222222222,
              "#7201a8"
             ],
             [
              0.3333333333333333,
              "#9c179e"
             ],
             [
              0.4444444444444444,
              "#bd3786"
             ],
             [
              0.5555555555555556,
              "#d8576b"
             ],
             [
              0.6666666666666666,
              "#ed7953"
             ],
             [
              0.7777777777777778,
              "#fb9f3a"
             ],
             [
              0.8888888888888888,
              "#fdca26"
             ],
             [
              1,
              "#f0f921"
             ]
            ],
            "type": "contour"
           }
          ],
          "contourcarpet": [
           {
            "colorbar": {
             "outlinewidth": 0,
             "ticks": ""
            },
            "type": "contourcarpet"
           }
          ],
          "heatmap": [
           {
            "colorbar": {
             "outlinewidth": 0,
             "ticks": ""
            },
            "colorscale": [
             [
              0,
              "#0d0887"
             ],
             [
              0.1111111111111111,
              "#46039f"
             ],
             [
              0.2222222222222222,
              "#7201a8"
             ],
             [
              0.3333333333333333,
              "#9c179e"
             ],
             [
              0.4444444444444444,
              "#bd3786"
             ],
             [
              0.5555555555555556,
              "#d8576b"
             ],
             [
              0.6666666666666666,
              "#ed7953"
             ],
             [
              0.7777777777777778,
              "#fb9f3a"
             ],
             [
              0.8888888888888888,
              "#fdca26"
             ],
             [
              1,
              "#f0f921"
             ]
            ],
            "type": "heatmap"
           }
          ],
          "heatmapgl": [
           {
            "colorbar": {
             "outlinewidth": 0,
             "ticks": ""
            },
            "colorscale": [
             [
              0,
              "#0d0887"
             ],
             [
              0.1111111111111111,
              "#46039f"
             ],
             [
              0.2222222222222222,
              "#7201a8"
             ],
             [
              0.3333333333333333,
              "#9c179e"
             ],
             [
              0.4444444444444444,
              "#bd3786"
             ],
             [
              0.5555555555555556,
              "#d8576b"
             ],
             [
              0.6666666666666666,
              "#ed7953"
             ],
             [
              0.7777777777777778,
              "#fb9f3a"
             ],
             [
              0.8888888888888888,
              "#fdca26"
             ],
             [
              1,
              "#f0f921"
             ]
            ],
            "type": "heatmapgl"
           }
          ],
          "histogram": [
           {
            "marker": {
             "colorbar": {
              "outlinewidth": 0,
              "ticks": ""
             }
            },
            "type": "histogram"
           }
          ],
          "histogram2d": [
           {
            "colorbar": {
             "outlinewidth": 0,
             "ticks": ""
            },
            "colorscale": [
             [
              0,
              "#0d0887"
             ],
             [
              0.1111111111111111,
              "#46039f"
             ],
             [
              0.2222222222222222,
              "#7201a8"
             ],
             [
              0.3333333333333333,
              "#9c179e"
             ],
             [
              0.4444444444444444,
              "#bd3786"
             ],
             [
              0.5555555555555556,
              "#d8576b"
             ],
             [
              0.6666666666666666,
              "#ed7953"
             ],
             [
              0.7777777777777778,
              "#fb9f3a"
             ],
             [
              0.8888888888888888,
              "#fdca26"
             ],
             [
              1,
              "#f0f921"
             ]
            ],
            "type": "histogram2d"
           }
          ],
          "histogram2dcontour": [
           {
            "colorbar": {
             "outlinewidth": 0,
             "ticks": ""
            },
            "colorscale": [
             [
              0,
              "#0d0887"
             ],
             [
              0.1111111111111111,
              "#46039f"
             ],
             [
              0.2222222222222222,
              "#7201a8"
             ],
             [
              0.3333333333333333,
              "#9c179e"
             ],
             [
              0.4444444444444444,
              "#bd3786"
             ],
             [
              0.5555555555555556,
              "#d8576b"
             ],
             [
              0.6666666666666666,
              "#ed7953"
             ],
             [
              0.7777777777777778,
              "#fb9f3a"
             ],
             [
              0.8888888888888888,
              "#fdca26"
             ],
             [
              1,
              "#f0f921"
             ]
            ],
            "type": "histogram2dcontour"
           }
          ],
          "mesh3d": [
           {
            "colorbar": {
             "outlinewidth": 0,
             "ticks": ""
            },
            "type": "mesh3d"
           }
          ],
          "parcoords": [
           {
            "line": {
             "colorbar": {
              "outlinewidth": 0,
              "ticks": ""
             }
            },
            "type": "parcoords"
           }
          ],
          "pie": [
           {
            "automargin": true,
            "type": "pie"
           }
          ],
          "scatter": [
           {
            "marker": {
             "colorbar": {
              "outlinewidth": 0,
              "ticks": ""
             }
            },
            "type": "scatter"
           }
          ],
          "scatter3d": [
           {
            "line": {
             "colorbar": {
              "outlinewidth": 0,
              "ticks": ""
             }
            },
            "marker": {
             "colorbar": {
              "outlinewidth": 0,
              "ticks": ""
             }
            },
            "type": "scatter3d"
           }
          ],
          "scattercarpet": [
           {
            "marker": {
             "colorbar": {
              "outlinewidth": 0,
              "ticks": ""
             }
            },
            "type": "scattercarpet"
           }
          ],
          "scattergeo": [
           {
            "marker": {
             "colorbar": {
              "outlinewidth": 0,
              "ticks": ""
             }
            },
            "type": "scattergeo"
           }
          ],
          "scattergl": [
           {
            "marker": {
             "colorbar": {
              "outlinewidth": 0,
              "ticks": ""
             }
            },
            "type": "scattergl"
           }
          ],
          "scattermapbox": [
           {
            "marker": {
             "colorbar": {
              "outlinewidth": 0,
              "ticks": ""
             }
            },
            "type": "scattermapbox"
           }
          ],
          "scatterpolar": [
           {
            "marker": {
             "colorbar": {
              "outlinewidth": 0,
              "ticks": ""
             }
            },
            "type": "scatterpolar"
           }
          ],
          "scatterpolargl": [
           {
            "marker": {
             "colorbar": {
              "outlinewidth": 0,
              "ticks": ""
             }
            },
            "type": "scatterpolargl"
           }
          ],
          "scatterternary": [
           {
            "marker": {
             "colorbar": {
              "outlinewidth": 0,
              "ticks": ""
             }
            },
            "type": "scatterternary"
           }
          ],
          "surface": [
           {
            "colorbar": {
             "outlinewidth": 0,
             "ticks": ""
            },
            "colorscale": [
             [
              0,
              "#0d0887"
             ],
             [
              0.1111111111111111,
              "#46039f"
             ],
             [
              0.2222222222222222,
              "#7201a8"
             ],
             [
              0.3333333333333333,
              "#9c179e"
             ],
             [
              0.4444444444444444,
              "#bd3786"
             ],
             [
              0.5555555555555556,
              "#d8576b"
             ],
             [
              0.6666666666666666,
              "#ed7953"
             ],
             [
              0.7777777777777778,
              "#fb9f3a"
             ],
             [
              0.8888888888888888,
              "#fdca26"
             ],
             [
              1,
              "#f0f921"
             ]
            ],
            "type": "surface"
           }
          ],
          "table": [
           {
            "cells": {
             "fill": {
              "color": "#EBF0F8"
             },
             "line": {
              "color": "white"
             }
            },
            "header": {
             "fill": {
              "color": "#C8D4E3"
             },
             "line": {
              "color": "white"
             }
            },
            "type": "table"
           }
          ]
         },
         "layout": {
          "annotationdefaults": {
           "arrowcolor": "#2a3f5f",
           "arrowhead": 0,
           "arrowwidth": 1
          },
          "autotypenumbers": "strict",
          "coloraxis": {
           "colorbar": {
            "outlinewidth": 0,
            "ticks": ""
           }
          },
          "colorscale": {
           "diverging": [
            [
             0,
             "#8e0152"
            ],
            [
             0.1,
             "#c51b7d"
            ],
            [
             0.2,
             "#de77ae"
            ],
            [
             0.3,
             "#f1b6da"
            ],
            [
             0.4,
             "#fde0ef"
            ],
            [
             0.5,
             "#f7f7f7"
            ],
            [
             0.6,
             "#e6f5d0"
            ],
            [
             0.7,
             "#b8e186"
            ],
            [
             0.8,
             "#7fbc41"
            ],
            [
             0.9,
             "#4d9221"
            ],
            [
             1,
             "#276419"
            ]
           ],
           "sequential": [
            [
             0,
             "#0d0887"
            ],
            [
             0.1111111111111111,
             "#46039f"
            ],
            [
             0.2222222222222222,
             "#7201a8"
            ],
            [
             0.3333333333333333,
             "#9c179e"
            ],
            [
             0.4444444444444444,
             "#bd3786"
            ],
            [
             0.5555555555555556,
             "#d8576b"
            ],
            [
             0.6666666666666666,
             "#ed7953"
            ],
            [
             0.7777777777777778,
             "#fb9f3a"
            ],
            [
             0.8888888888888888,
             "#fdca26"
            ],
            [
             1,
             "#f0f921"
            ]
           ],
           "sequentialminus": [
            [
             0,
             "#0d0887"
            ],
            [
             0.1111111111111111,
             "#46039f"
            ],
            [
             0.2222222222222222,
             "#7201a8"
            ],
            [
             0.3333333333333333,
             "#9c179e"
            ],
            [
             0.4444444444444444,
             "#bd3786"
            ],
            [
             0.5555555555555556,
             "#d8576b"
            ],
            [
             0.6666666666666666,
             "#ed7953"
            ],
            [
             0.7777777777777778,
             "#fb9f3a"
            ],
            [
             0.8888888888888888,
             "#fdca26"
            ],
            [
             1,
             "#f0f921"
            ]
           ]
          },
          "colorway": [
           "#636efa",
           "#EF553B",
           "#00cc96",
           "#ab63fa",
           "#FFA15A",
           "#19d3f3",
           "#FF6692",
           "#B6E880",
           "#FF97FF",
           "#FECB52"
          ],
          "font": {
           "color": "#2a3f5f"
          },
          "geo": {
           "bgcolor": "white",
           "lakecolor": "white",
           "landcolor": "#E5ECF6",
           "showlakes": true,
           "showland": true,
           "subunitcolor": "white"
          },
          "hoverlabel": {
           "align": "left"
          },
          "hovermode": "closest",
          "mapbox": {
           "style": "light"
          },
          "paper_bgcolor": "white",
          "plot_bgcolor": "#E5ECF6",
          "polar": {
           "angularaxis": {
            "gridcolor": "white",
            "linecolor": "white",
            "ticks": ""
           },
           "bgcolor": "#E5ECF6",
           "radialaxis": {
            "gridcolor": "white",
            "linecolor": "white",
            "ticks": ""
           }
          },
          "scene": {
           "xaxis": {
            "backgroundcolor": "#E5ECF6",
            "gridcolor": "white",
            "gridwidth": 2,
            "linecolor": "white",
            "showbackground": true,
            "ticks": "",
            "zerolinecolor": "white"
           },
           "yaxis": {
            "backgroundcolor": "#E5ECF6",
            "gridcolor": "white",
            "gridwidth": 2,
            "linecolor": "white",
            "showbackground": true,
            "ticks": "",
            "zerolinecolor": "white"
           },
           "zaxis": {
            "backgroundcolor": "#E5ECF6",
            "gridcolor": "white",
            "gridwidth": 2,
            "linecolor": "white",
            "showbackground": true,
            "ticks": "",
            "zerolinecolor": "white"
           }
          },
          "shapedefaults": {
           "line": {
            "color": "#2a3f5f"
           }
          },
          "ternary": {
           "aaxis": {
            "gridcolor": "white",
            "linecolor": "white",
            "ticks": ""
           },
           "baxis": {
            "gridcolor": "white",
            "linecolor": "white",
            "ticks": ""
           },
           "bgcolor": "#E5ECF6",
           "caxis": {
            "gridcolor": "white",
            "linecolor": "white",
            "ticks": ""
           }
          },
          "title": {
           "x": 0.05
          },
          "xaxis": {
           "automargin": true,
           "gridcolor": "white",
           "linecolor": "white",
           "ticks": "",
           "title": {
            "standoff": 15
           },
           "zerolinecolor": "white",
           "zerolinewidth": 2
          },
          "yaxis": {
           "automargin": true,
           "gridcolor": "white",
           "linecolor": "white",
           "ticks": "",
           "title": {
            "standoff": 15
           },
           "zerolinecolor": "white",
           "zerolinewidth": 2
          }
         }
        },
        "title": {
         "text": "Measurements on 2020-04-15 00:00:00"
        },
        "width": 1000
       }
      }
     },
     "metadata": {}
    }
   ],
   "source": [
    "def show_map(time, feature):\n",
    "    x = all_df[all_df['time'] == time]\n",
    "    \n",
    "    x = x.merge(meta, on=['device_id', 'city'])\n",
    "    x = gpd.GeoDataFrame(x)\n",
    "\n",
    "    x[\"size\"] = 10\n",
    "\n",
    "    fig = px.scatter_mapbox(x,\n",
    "                            lat=x.geometry.y,\n",
    "                            lon=x.geometry.x,\n",
    "                            hover_name='city',\n",
    "                            hover_data=[\"device_id\", 'device_name'],\n",
    "                            color=feature,\n",
    "                            size='size',\n",
    "                            color_continuous_scale=px.colors.sequential.matter,\n",
    "                            width=1000, height=700)\n",
    "\n",
    "    fig.update_layout(\n",
    "        title=f'Measurements on {time}',\n",
    "        autosize=True,\n",
    "        hovermode='closest',\n",
    "        showlegend=False,\n",
    "        mapbox=dict(\n",
    "            bearing=0,\n",
    "            center=dict(\n",
    "                lat=39,\n",
    "                lon=117\n",
    "            ),\n",
    "            pitch=0,\n",
    "            zoom=5,\n",
    "            style='stamen-terrain' # 'stamen-terrain'\n",
    "        ),\n",
    "    )\n",
    "\n",
    "    fig.show()\n",
    "    # plt.show()s\n",
    "\n",
    "# interact(show_map, time=date_slider)\n",
    "show_map('2020-04-15 00:00:00', 'pm25')"
   ]
  },
  {
   "source": [
    "## Lockdown analysis"
   ],
   "cell_type": "markdown",
   "metadata": {}
  },
  {
   "cell_type": "code",
   "execution_count": 18,
   "metadata": {},
   "outputs": [],
   "source": [
    "ld1 = lockdowns[0]\n",
    "start = ld1.start - datetime.timedelta(days=14)\n",
    "end = ld1.end + datetime.timedelta(days=14)"
   ]
  },
  {
   "cell_type": "code",
   "execution_count": 19,
   "metadata": {},
   "outputs": [
    {
     "output_type": "display_data",
     "data": {
      "text/plain": "interactive(children=(SelectMultiple(description='Devices', options=('dongsi (Beijing)', 'tiantan (Beijing)', …",
      "application/vnd.jupyter.widget-view+json": {
       "version_major": 2,
       "version_minor": 0,
       "model_id": "de54cce680714bc09ebdba086dbd9e67"
      }
     },
     "metadata": {}
    },
    {
     "output_type": "execute_result",
     "data": {
      "text/plain": [
       "<function __main__.plot_data(data, devices, date_range, feature, events=[], device_id_mapping=None)>"
      ]
     },
     "metadata": {},
     "execution_count": 19
    }
   ],
   "source": [
    "interact_manual(plot_data, data=fixed(all_df), devices=device_widget, date_range=fixed((start, end)), feature=feature_list, events=fixed(lockdowns), device_id_mapping=fixed(dic))"
   ]
  },
  {
   "cell_type": "code",
   "execution_count": 20,
   "metadata": {},
   "outputs": [
    {
     "output_type": "execute_result",
     "data": {
      "text/plain": [
       "        co    no2    o3   pm10   pm25   so2                time device_id  \\\n",
       "0      3.4   98.0   2.0  209.0  200.0  31.0 2016-01-01 00:00:00    dongsi   \n",
       "1      3.4   97.0   3.0  203.0  193.0  46.0 2016-01-01 01:00:00    dongsi   \n",
       "2      3.7  102.0   3.0  237.0  219.0  49.0 2016-01-01 02:00:00    dongsi   \n",
       "3      3.1   94.0   3.0  196.0  187.0  40.0 2016-01-01 03:00:00    dongsi   \n",
       "4      3.1   91.0   2.0    NaN  160.0  35.0 2016-01-01 04:00:00    dongsi   \n",
       "...    ...    ...   ...    ...    ...   ...                 ...       ...   \n",
       "43844  0.8   42.0  29.0   61.0   30.0   8.0 2020-12-31 20:00:00     1080A   \n",
       "43845  0.7   50.0  21.0   62.0   28.0   8.0 2020-12-31 21:00:00     1080A   \n",
       "43846  0.7   57.0  13.0   58.0   27.0   9.0 2020-12-31 22:00:00     1080A   \n",
       "43847  0.8   62.0   8.0   60.0   27.0  10.0 2020-12-31 23:00:00     1080A   \n",
       "43848  1.1   62.0   8.0   89.0    NaN  11.0 2021-01-01 00:00:00     1080A   \n",
       "\n",
       "          city  temperature  humidity  windSpeed  windBearing  precipIntensity  \n",
       "0      Beijing          NaN       NaN        NaN          NaN              NaN  \n",
       "1      Beijing          NaN       NaN        NaN          NaN              NaN  \n",
       "2      Beijing          NaN       NaN        NaN          NaN              NaN  \n",
       "3      Beijing          NaN       NaN        NaN          NaN              NaN  \n",
       "4      Beijing          NaN       NaN        NaN          NaN              NaN  \n",
       "...        ...          ...       ...        ...          ...              ...  \n",
       "43844  Xingtai    -3.877778      0.16       4.47        227.0              0.0  \n",
       "43845  Xingtai    -4.450000      0.15       3.53        167.0              0.0  \n",
       "43846  Xingtai    -5.950000      0.18       3.24        355.0              0.0  \n",
       "43847  Xingtai    -7.233333      0.19       3.36        285.0              0.0  \n",
       "43848  Xingtai    -8.122222      0.20       3.56        286.0              0.0  \n",
       "\n",
       "[3814863 rows x 14 columns]"
      ],
      "text/html": "<div>\n<style scoped>\n    .dataframe tbody tr th:only-of-type {\n        vertical-align: middle;\n    }\n\n    .dataframe tbody tr th {\n        vertical-align: top;\n    }\n\n    .dataframe thead th {\n        text-align: right;\n    }\n</style>\n<table border=\"1\" class=\"dataframe\">\n  <thead>\n    <tr style=\"text-align: right;\">\n      <th></th>\n      <th>co</th>\n      <th>no2</th>\n      <th>o3</th>\n      <th>pm10</th>\n      <th>pm25</th>\n      <th>so2</th>\n      <th>time</th>\n      <th>device_id</th>\n      <th>city</th>\n      <th>temperature</th>\n      <th>humidity</th>\n      <th>windSpeed</th>\n      <th>windBearing</th>\n      <th>precipIntensity</th>\n    </tr>\n  </thead>\n  <tbody>\n    <tr>\n      <th>0</th>\n      <td>3.4</td>\n      <td>98.0</td>\n      <td>2.0</td>\n      <td>209.0</td>\n      <td>200.0</td>\n      <td>31.0</td>\n      <td>2016-01-01 00:00:00</td>\n      <td>dongsi</td>\n      <td>Beijing</td>\n      <td>NaN</td>\n      <td>NaN</td>\n      <td>NaN</td>\n      <td>NaN</td>\n      <td>NaN</td>\n    </tr>\n    <tr>\n      <th>1</th>\n      <td>3.4</td>\n      <td>97.0</td>\n      <td>3.0</td>\n      <td>203.0</td>\n      <td>193.0</td>\n      <td>46.0</td>\n      <td>2016-01-01 01:00:00</td>\n      <td>dongsi</td>\n      <td>Beijing</td>\n      <td>NaN</td>\n      <td>NaN</td>\n      <td>NaN</td>\n      <td>NaN</td>\n      <td>NaN</td>\n    </tr>\n    <tr>\n      <th>2</th>\n      <td>3.7</td>\n      <td>102.0</td>\n      <td>3.0</td>\n      <td>237.0</td>\n      <td>219.0</td>\n      <td>49.0</td>\n      <td>2016-01-01 02:00:00</td>\n      <td>dongsi</td>\n      <td>Beijing</td>\n      <td>NaN</td>\n      <td>NaN</td>\n      <td>NaN</td>\n      <td>NaN</td>\n      <td>NaN</td>\n    </tr>\n    <tr>\n      <th>3</th>\n      <td>3.1</td>\n      <td>94.0</td>\n      <td>3.0</td>\n      <td>196.0</td>\n      <td>187.0</td>\n      <td>40.0</td>\n      <td>2016-01-01 03:00:00</td>\n      <td>dongsi</td>\n      <td>Beijing</td>\n      <td>NaN</td>\n      <td>NaN</td>\n      <td>NaN</td>\n      <td>NaN</td>\n      <td>NaN</td>\n    </tr>\n    <tr>\n      <th>4</th>\n      <td>3.1</td>\n      <td>91.0</td>\n      <td>2.0</td>\n      <td>NaN</td>\n      <td>160.0</td>\n      <td>35.0</td>\n      <td>2016-01-01 04:00:00</td>\n      <td>dongsi</td>\n      <td>Beijing</td>\n      <td>NaN</td>\n      <td>NaN</td>\n      <td>NaN</td>\n      <td>NaN</td>\n      <td>NaN</td>\n    </tr>\n    <tr>\n      <th>...</th>\n      <td>...</td>\n      <td>...</td>\n      <td>...</td>\n      <td>...</td>\n      <td>...</td>\n      <td>...</td>\n      <td>...</td>\n      <td>...</td>\n      <td>...</td>\n      <td>...</td>\n      <td>...</td>\n      <td>...</td>\n      <td>...</td>\n      <td>...</td>\n    </tr>\n    <tr>\n      <th>43844</th>\n      <td>0.8</td>\n      <td>42.0</td>\n      <td>29.0</td>\n      <td>61.0</td>\n      <td>30.0</td>\n      <td>8.0</td>\n      <td>2020-12-31 20:00:00</td>\n      <td>1080A</td>\n      <td>Xingtai</td>\n      <td>-3.877778</td>\n      <td>0.16</td>\n      <td>4.47</td>\n      <td>227.0</td>\n      <td>0.0</td>\n    </tr>\n    <tr>\n      <th>43845</th>\n      <td>0.7</td>\n      <td>50.0</td>\n      <td>21.0</td>\n      <td>62.0</td>\n      <td>28.0</td>\n      <td>8.0</td>\n      <td>2020-12-31 21:00:00</td>\n      <td>1080A</td>\n      <td>Xingtai</td>\n      <td>-4.450000</td>\n      <td>0.15</td>\n      <td>3.53</td>\n      <td>167.0</td>\n      <td>0.0</td>\n    </tr>\n    <tr>\n      <th>43846</th>\n      <td>0.7</td>\n      <td>57.0</td>\n      <td>13.0</td>\n      <td>58.0</td>\n      <td>27.0</td>\n      <td>9.0</td>\n      <td>2020-12-31 22:00:00</td>\n      <td>1080A</td>\n      <td>Xingtai</td>\n      <td>-5.950000</td>\n      <td>0.18</td>\n      <td>3.24</td>\n      <td>355.0</td>\n      <td>0.0</td>\n    </tr>\n    <tr>\n      <th>43847</th>\n      <td>0.8</td>\n      <td>62.0</td>\n      <td>8.0</td>\n      <td>60.0</td>\n      <td>27.0</td>\n      <td>10.0</td>\n      <td>2020-12-31 23:00:00</td>\n      <td>1080A</td>\n      <td>Xingtai</td>\n      <td>-7.233333</td>\n      <td>0.19</td>\n      <td>3.36</td>\n      <td>285.0</td>\n      <td>0.0</td>\n    </tr>\n    <tr>\n      <th>43848</th>\n      <td>1.1</td>\n      <td>62.0</td>\n      <td>8.0</td>\n      <td>89.0</td>\n      <td>NaN</td>\n      <td>11.0</td>\n      <td>2021-01-01 00:00:00</td>\n      <td>1080A</td>\n      <td>Xingtai</td>\n      <td>-8.122222</td>\n      <td>0.20</td>\n      <td>3.56</td>\n      <td>286.0</td>\n      <td>0.0</td>\n    </tr>\n  </tbody>\n</table>\n<p>3814863 rows × 14 columns</p>\n</div>"
     },
     "metadata": {},
     "execution_count": 20
    }
   ],
   "source": [
    "all_df"
   ]
  },
  {
   "source": [
    "## PM2.5 GNN"
   ],
   "cell_type": "markdown",
   "metadata": {}
  },
  {
   "cell_type": "code",
   "execution_count": 21,
   "metadata": {},
   "outputs": [],
   "source": [
    "data_path = \"Previous work/PM2.5-GNN/data/\"\n",
    "\n",
    "know_air = np.load(data_path + \"KnowAir.npy\")\n",
    "cities = pd.read_table(data_path + \"city.txt\", delimiter=' ', header=None)\n",
    "altitude = np.load(data_path + \"altitude.npy\")"
   ]
  },
  {
   "cell_type": "code",
   "execution_count": 22,
   "metadata": {},
   "outputs": [
    {
     "output_type": "execute_result",
     "data": {
      "text/plain": [
       "       0             1           2          3\n",
       "0      0       Beijing  116.398250  40.045975\n",
       "1      1       Tianjin  117.322167  39.077683\n",
       "2      2  Shijiazhuang  114.493171  38.033629\n",
       "3      3      Tangshan  118.182917  39.644953\n",
       "4      4   Qinhuangdao  119.606875  39.936250\n",
       "..   ...           ...         ...        ...\n",
       "179  179        Dingxi  104.619850  35.584450\n",
       "180  180    Linxiazhou  103.210150  35.601800\n",
       "181  181       Wuzhong  106.199250  37.978350\n",
       "182  182      Zhongwei  105.188550  37.258700\n",
       "183  183        Guyuan  106.249533  36.055000\n",
       "\n",
       "[184 rows x 4 columns]"
      ],
      "text/html": "<div>\n<style scoped>\n    .dataframe tbody tr th:only-of-type {\n        vertical-align: middle;\n    }\n\n    .dataframe tbody tr th {\n        vertical-align: top;\n    }\n\n    .dataframe thead th {\n        text-align: right;\n    }\n</style>\n<table border=\"1\" class=\"dataframe\">\n  <thead>\n    <tr style=\"text-align: right;\">\n      <th></th>\n      <th>0</th>\n      <th>1</th>\n      <th>2</th>\n      <th>3</th>\n    </tr>\n  </thead>\n  <tbody>\n    <tr>\n      <th>0</th>\n      <td>0</td>\n      <td>Beijing</td>\n      <td>116.398250</td>\n      <td>40.045975</td>\n    </tr>\n    <tr>\n      <th>1</th>\n      <td>1</td>\n      <td>Tianjin</td>\n      <td>117.322167</td>\n      <td>39.077683</td>\n    </tr>\n    <tr>\n      <th>2</th>\n      <td>2</td>\n      <td>Shijiazhuang</td>\n      <td>114.493171</td>\n      <td>38.033629</td>\n    </tr>\n    <tr>\n      <th>3</th>\n      <td>3</td>\n      <td>Tangshan</td>\n      <td>118.182917</td>\n      <td>39.644953</td>\n    </tr>\n    <tr>\n      <th>4</th>\n      <td>4</td>\n      <td>Qinhuangdao</td>\n      <td>119.606875</td>\n      <td>39.936250</td>\n    </tr>\n    <tr>\n      <th>...</th>\n      <td>...</td>\n      <td>...</td>\n      <td>...</td>\n      <td>...</td>\n    </tr>\n    <tr>\n      <th>179</th>\n      <td>179</td>\n      <td>Dingxi</td>\n      <td>104.619850</td>\n      <td>35.584450</td>\n    </tr>\n    <tr>\n      <th>180</th>\n      <td>180</td>\n      <td>Linxiazhou</td>\n      <td>103.210150</td>\n      <td>35.601800</td>\n    </tr>\n    <tr>\n      <th>181</th>\n      <td>181</td>\n      <td>Wuzhong</td>\n      <td>106.199250</td>\n      <td>37.978350</td>\n    </tr>\n    <tr>\n      <th>182</th>\n      <td>182</td>\n      <td>Zhongwei</td>\n      <td>105.188550</td>\n      <td>37.258700</td>\n    </tr>\n    <tr>\n      <th>183</th>\n      <td>183</td>\n      <td>Guyuan</td>\n      <td>106.249533</td>\n      <td>36.055000</td>\n    </tr>\n  </tbody>\n</table>\n<p>184 rows × 4 columns</p>\n</div>"
     },
     "metadata": {},
     "execution_count": 22
    }
   ],
   "source": [
    "cities"
   ]
  },
  {
   "cell_type": "code",
   "execution_count": 23,
   "metadata": {},
   "outputs": [
    {
     "output_type": "execute_result",
     "data": {
      "text/plain": [
       "        co    no2    o3   pm10   pm25   so2                time device_id  \\\n",
       "0      3.4   98.0   2.0  209.0  200.0  31.0 2016-01-01 00:00:00    dongsi   \n",
       "1      3.4   97.0   3.0  203.0  193.0  46.0 2016-01-01 01:00:00    dongsi   \n",
       "2      3.7  102.0   3.0  237.0  219.0  49.0 2016-01-01 02:00:00    dongsi   \n",
       "3      3.1   94.0   3.0  196.0  187.0  40.0 2016-01-01 03:00:00    dongsi   \n",
       "4      3.1   91.0   2.0    NaN  160.0  35.0 2016-01-01 04:00:00    dongsi   \n",
       "...    ...    ...   ...    ...    ...   ...                 ...       ...   \n",
       "43844  0.8   42.0  29.0   61.0   30.0   8.0 2020-12-31 20:00:00     1080A   \n",
       "43845  0.7   50.0  21.0   62.0   28.0   8.0 2020-12-31 21:00:00     1080A   \n",
       "43846  0.7   57.0  13.0   58.0   27.0   9.0 2020-12-31 22:00:00     1080A   \n",
       "43847  0.8   62.0   8.0   60.0   27.0  10.0 2020-12-31 23:00:00     1080A   \n",
       "43848  1.1   62.0   8.0   89.0    NaN  11.0 2021-01-01 00:00:00     1080A   \n",
       "\n",
       "          city  temperature  humidity  windSpeed  windBearing  precipIntensity  \n",
       "0      Beijing          NaN       NaN        NaN          NaN              NaN  \n",
       "1      Beijing          NaN       NaN        NaN          NaN              NaN  \n",
       "2      Beijing          NaN       NaN        NaN          NaN              NaN  \n",
       "3      Beijing          NaN       NaN        NaN          NaN              NaN  \n",
       "4      Beijing          NaN       NaN        NaN          NaN              NaN  \n",
       "...        ...          ...       ...        ...          ...              ...  \n",
       "43844  Xingtai    -3.877778      0.16       4.47        227.0              0.0  \n",
       "43845  Xingtai    -4.450000      0.15       3.53        167.0              0.0  \n",
       "43846  Xingtai    -5.950000      0.18       3.24        355.0              0.0  \n",
       "43847  Xingtai    -7.233333      0.19       3.36        285.0              0.0  \n",
       "43848  Xingtai    -8.122222      0.20       3.56        286.0              0.0  \n",
       "\n",
       "[3814863 rows x 14 columns]"
      ],
      "text/html": "<div>\n<style scoped>\n    .dataframe tbody tr th:only-of-type {\n        vertical-align: middle;\n    }\n\n    .dataframe tbody tr th {\n        vertical-align: top;\n    }\n\n    .dataframe thead th {\n        text-align: right;\n    }\n</style>\n<table border=\"1\" class=\"dataframe\">\n  <thead>\n    <tr style=\"text-align: right;\">\n      <th></th>\n      <th>co</th>\n      <th>no2</th>\n      <th>o3</th>\n      <th>pm10</th>\n      <th>pm25</th>\n      <th>so2</th>\n      <th>time</th>\n      <th>device_id</th>\n      <th>city</th>\n      <th>temperature</th>\n      <th>humidity</th>\n      <th>windSpeed</th>\n      <th>windBearing</th>\n      <th>precipIntensity</th>\n    </tr>\n  </thead>\n  <tbody>\n    <tr>\n      <th>0</th>\n      <td>3.4</td>\n      <td>98.0</td>\n      <td>2.0</td>\n      <td>209.0</td>\n      <td>200.0</td>\n      <td>31.0</td>\n      <td>2016-01-01 00:00:00</td>\n      <td>dongsi</td>\n      <td>Beijing</td>\n      <td>NaN</td>\n      <td>NaN</td>\n      <td>NaN</td>\n      <td>NaN</td>\n      <td>NaN</td>\n    </tr>\n    <tr>\n      <th>1</th>\n      <td>3.4</td>\n      <td>97.0</td>\n      <td>3.0</td>\n      <td>203.0</td>\n      <td>193.0</td>\n      <td>46.0</td>\n      <td>2016-01-01 01:00:00</td>\n      <td>dongsi</td>\n      <td>Beijing</td>\n      <td>NaN</td>\n      <td>NaN</td>\n      <td>NaN</td>\n      <td>NaN</td>\n      <td>NaN</td>\n    </tr>\n    <tr>\n      <th>2</th>\n      <td>3.7</td>\n      <td>102.0</td>\n      <td>3.0</td>\n      <td>237.0</td>\n      <td>219.0</td>\n      <td>49.0</td>\n      <td>2016-01-01 02:00:00</td>\n      <td>dongsi</td>\n      <td>Beijing</td>\n      <td>NaN</td>\n      <td>NaN</td>\n      <td>NaN</td>\n      <td>NaN</td>\n      <td>NaN</td>\n    </tr>\n    <tr>\n      <th>3</th>\n      <td>3.1</td>\n      <td>94.0</td>\n      <td>3.0</td>\n      <td>196.0</td>\n      <td>187.0</td>\n      <td>40.0</td>\n      <td>2016-01-01 03:00:00</td>\n      <td>dongsi</td>\n      <td>Beijing</td>\n      <td>NaN</td>\n      <td>NaN</td>\n      <td>NaN</td>\n      <td>NaN</td>\n      <td>NaN</td>\n    </tr>\n    <tr>\n      <th>4</th>\n      <td>3.1</td>\n      <td>91.0</td>\n      <td>2.0</td>\n      <td>NaN</td>\n      <td>160.0</td>\n      <td>35.0</td>\n      <td>2016-01-01 04:00:00</td>\n      <td>dongsi</td>\n      <td>Beijing</td>\n      <td>NaN</td>\n      <td>NaN</td>\n      <td>NaN</td>\n      <td>NaN</td>\n      <td>NaN</td>\n    </tr>\n    <tr>\n      <th>...</th>\n      <td>...</td>\n      <td>...</td>\n      <td>...</td>\n      <td>...</td>\n      <td>...</td>\n      <td>...</td>\n      <td>...</td>\n      <td>...</td>\n      <td>...</td>\n      <td>...</td>\n      <td>...</td>\n      <td>...</td>\n      <td>...</td>\n      <td>...</td>\n    </tr>\n    <tr>\n      <th>43844</th>\n      <td>0.8</td>\n      <td>42.0</td>\n      <td>29.0</td>\n      <td>61.0</td>\n      <td>30.0</td>\n      <td>8.0</td>\n      <td>2020-12-31 20:00:00</td>\n      <td>1080A</td>\n      <td>Xingtai</td>\n      <td>-3.877778</td>\n      <td>0.16</td>\n      <td>4.47</td>\n      <td>227.0</td>\n      <td>0.0</td>\n    </tr>\n    <tr>\n      <th>43845</th>\n      <td>0.7</td>\n      <td>50.0</td>\n      <td>21.0</td>\n      <td>62.0</td>\n      <td>28.0</td>\n      <td>8.0</td>\n      <td>2020-12-31 21:00:00</td>\n      <td>1080A</td>\n      <td>Xingtai</td>\n      <td>-4.450000</td>\n      <td>0.15</td>\n      <td>3.53</td>\n      <td>167.0</td>\n      <td>0.0</td>\n    </tr>\n    <tr>\n      <th>43846</th>\n      <td>0.7</td>\n      <td>57.0</td>\n      <td>13.0</td>\n      <td>58.0</td>\n      <td>27.0</td>\n      <td>9.0</td>\n      <td>2020-12-31 22:00:00</td>\n      <td>1080A</td>\n      <td>Xingtai</td>\n      <td>-5.950000</td>\n      <td>0.18</td>\n      <td>3.24</td>\n      <td>355.0</td>\n      <td>0.0</td>\n    </tr>\n    <tr>\n      <th>43847</th>\n      <td>0.8</td>\n      <td>62.0</td>\n      <td>8.0</td>\n      <td>60.0</td>\n      <td>27.0</td>\n      <td>10.0</td>\n      <td>2020-12-31 23:00:00</td>\n      <td>1080A</td>\n      <td>Xingtai</td>\n      <td>-7.233333</td>\n      <td>0.19</td>\n      <td>3.36</td>\n      <td>285.0</td>\n      <td>0.0</td>\n    </tr>\n    <tr>\n      <th>43848</th>\n      <td>1.1</td>\n      <td>62.0</td>\n      <td>8.0</td>\n      <td>89.0</td>\n      <td>NaN</td>\n      <td>11.0</td>\n      <td>2021-01-01 00:00:00</td>\n      <td>1080A</td>\n      <td>Xingtai</td>\n      <td>-8.122222</td>\n      <td>0.20</td>\n      <td>3.56</td>\n      <td>286.0</td>\n      <td>0.0</td>\n    </tr>\n  </tbody>\n</table>\n<p>3814863 rows × 14 columns</p>\n</div>"
     },
     "metadata": {},
     "execution_count": 23
    }
   ],
   "source": [
    "all_df"
   ]
  },
  {
   "cell_type": "code",
   "execution_count": 89,
   "metadata": {},
   "outputs": [
    {
     "output_type": "execute_result",
     "data": {
      "text/plain": [
       "False"
      ]
     },
     "metadata": {},
     "execution_count": 89
    }
   ],
   "source": [
    "# time × city × measure (17 features, 1 col for PM25)\n",
    "np.isnan(know_air).any()"
   ]
  },
  {
   "cell_type": "code",
   "execution_count": 25,
   "metadata": {},
   "outputs": [],
   "source": [
    "# altitude"
   ]
  },
  {
   "cell_type": "code",
   "execution_count": 97,
   "metadata": {},
   "outputs": [
    {
     "output_type": "execute_result",
     "data": {
      "text/plain": [
       "[['1001A', 116.366, 39.8673, 'Wanshouxigong'],\n",
       " ['1002A', 116.17, 40.2865, 'Dingling'],\n",
       " ['1003A', 116.434, 39.9522, 'Dongsi'],\n",
       " ['1004A', 116.434, 39.8745, 'Tiantan'],\n",
       " ['1005A', 116.473, 39.9716, 'Nongzhanguan'],\n",
       " ['1006A', 116.361, 39.9425, 'Guanyuan'],\n",
       " ['1007A', 116.315, 39.9934, 'Haidianquwanliu'],\n",
       " ['1008A', 116.72, 40.1438, 'Shunyixincheng'],\n",
       " ['1009A', 116.64399999999999, 40.3937, 'Huairouzhen'],\n",
       " ['1010A', 116.23, 40.1952, 'Changpingzhen'],\n",
       " ['1011A', 116.40700000000001, 40.0031, 'Aotizhongxin'],\n",
       " ['1012A', 116.225, 39.9279, 'Gucheng']]"
      ]
     },
     "metadata": {},
     "execution_count": 97
    }
   ],
   "source": [
    "with open(data_path + \"city_dict.pkl\", 'rb') as f:\n",
    "    city_dict = pickle.load(f)\n",
    "city_dict['Beijing']"
   ]
  },
  {
   "cell_type": "code",
   "execution_count": 133,
   "metadata": {},
   "outputs": [],
   "source": [
    "all_x = list(map(lambda x: x[1], city_dict['Beijing']))\n",
    "all_y = list(map(lambda x: x[2], city_dict['Beijing']))\n",
    "\n",
    "all_bj = gpd.GeoDataFrame(geometry=gpd.points_from_xy(all_x, all_y))\n",
    "all_bj['color'] = 1"
   ]
  },
  {
   "cell_type": "code",
   "execution_count": 131,
   "metadata": {},
   "outputs": [],
   "source": [
    "city_x, city_y = cities.loc[0][2], cities.loc[0][3]\n",
    "all_bj = all_bj.append({'color': 0.5, 'geometry': gpd.points_from_xy([city_x], [city_y])[0]}, ignore_index=True)"
   ]
  },
  {
   "cell_type": "code",
   "execution_count": 132,
   "metadata": {},
   "outputs": [
    {
     "output_type": "display_data",
     "data": {
      "application/vnd.plotly.v1+json": {
       "config": {
        "plotlyServerURL": "https://plot.ly"
       },
       "data": [
        {
         "hovertemplate": "lat=%{lat}<br>lon=%{lon}<br>color=%{marker.color}<extra></extra>",
         "lat": [
          39.8673,
          40.2865,
          39.9522,
          39.8745,
          39.9716,
          39.9425,
          39.9934,
          40.1438,
          40.3937,
          40.1952,
          40.0031,
          39.9279,
          40.045975000000006
         ],
         "legendgroup": "",
         "lon": [
          116.366,
          116.17,
          116.434,
          116.434,
          116.473,
          116.361,
          116.315,
          116.72,
          116.64399999999999,
          116.23,
          116.40700000000001,
          116.225,
          116.39824999999998
         ],
         "marker": {
          "color": [
           1,
           1,
           1,
           1,
           1,
           1,
           1,
           1,
           1,
           1,
           1,
           1,
           0.5
          ],
          "coloraxis": "coloraxis"
         },
         "mode": "markers",
         "name": "",
         "showlegend": false,
         "subplot": "mapbox",
         "type": "scattermapbox"
        }
       ],
       "layout": {
        "autosize": true,
        "coloraxis": {
         "colorbar": {
          "title": {
           "text": "color"
          }
         },
         "colorscale": [
          [
           0,
           "rgb(0,0,0)"
          ],
          [
           0.25,
           "rgb(230,0,0)"
          ],
          [
           0.5,
           "rgb(230,210,0)"
          ],
          [
           0.75,
           "rgb(255,255,255)"
          ],
          [
           1,
           "rgb(160,200,255)"
          ]
         ]
        },
        "height": 700,
        "hovermode": "closest",
        "legend": {
         "tracegroupgap": 0
        },
        "mapbox": {
         "bearing": 0,
         "center": {
          "lat": 40,
          "lon": 116
         },
         "domain": {
          "x": [
           0,
           1
          ],
          "y": [
           0,
           1
          ]
         },
         "pitch": 0,
         "style": "stamen-terrain",
         "zoom": 8
        },
        "margin": {
         "t": 60
        },
        "showlegend": false,
        "template": {
         "data": {
          "bar": [
           {
            "error_x": {
             "color": "#2a3f5f"
            },
            "error_y": {
             "color": "#2a3f5f"
            },
            "marker": {
             "line": {
              "color": "#E5ECF6",
              "width": 0.5
             }
            },
            "type": "bar"
           }
          ],
          "barpolar": [
           {
            "marker": {
             "line": {
              "color": "#E5ECF6",
              "width": 0.5
             }
            },
            "type": "barpolar"
           }
          ],
          "carpet": [
           {
            "aaxis": {
             "endlinecolor": "#2a3f5f",
             "gridcolor": "white",
             "linecolor": "white",
             "minorgridcolor": "white",
             "startlinecolor": "#2a3f5f"
            },
            "baxis": {
             "endlinecolor": "#2a3f5f",
             "gridcolor": "white",
             "linecolor": "white",
             "minorgridcolor": "white",
             "startlinecolor": "#2a3f5f"
            },
            "type": "carpet"
           }
          ],
          "choropleth": [
           {
            "colorbar": {
             "outlinewidth": 0,
             "ticks": ""
            },
            "type": "choropleth"
           }
          ],
          "contour": [
           {
            "colorbar": {
             "outlinewidth": 0,
             "ticks": ""
            },
            "colorscale": [
             [
              0,
              "#0d0887"
             ],
             [
              0.1111111111111111,
              "#46039f"
             ],
             [
              0.2222222222222222,
              "#7201a8"
             ],
             [
              0.3333333333333333,
              "#9c179e"
             ],
             [
              0.4444444444444444,
              "#bd3786"
             ],
             [
              0.5555555555555556,
              "#d8576b"
             ],
             [
              0.6666666666666666,
              "#ed7953"
             ],
             [
              0.7777777777777778,
              "#fb9f3a"
             ],
             [
              0.8888888888888888,
              "#fdca26"
             ],
             [
              1,
              "#f0f921"
             ]
            ],
            "type": "contour"
           }
          ],
          "contourcarpet": [
           {
            "colorbar": {
             "outlinewidth": 0,
             "ticks": ""
            },
            "type": "contourcarpet"
           }
          ],
          "heatmap": [
           {
            "colorbar": {
             "outlinewidth": 0,
             "ticks": ""
            },
            "colorscale": [
             [
              0,
              "#0d0887"
             ],
             [
              0.1111111111111111,
              "#46039f"
             ],
             [
              0.2222222222222222,
              "#7201a8"
             ],
             [
              0.3333333333333333,
              "#9c179e"
             ],
             [
              0.4444444444444444,
              "#bd3786"
             ],
             [
              0.5555555555555556,
              "#d8576b"
             ],
             [
              0.6666666666666666,
              "#ed7953"
             ],
             [
              0.7777777777777778,
              "#fb9f3a"
             ],
             [
              0.8888888888888888,
              "#fdca26"
             ],
             [
              1,
              "#f0f921"
             ]
            ],
            "type": "heatmap"
           }
          ],
          "heatmapgl": [
           {
            "colorbar": {
             "outlinewidth": 0,
             "ticks": ""
            },
            "colorscale": [
             [
              0,
              "#0d0887"
             ],
             [
              0.1111111111111111,
              "#46039f"
             ],
             [
              0.2222222222222222,
              "#7201a8"
             ],
             [
              0.3333333333333333,
              "#9c179e"
             ],
             [
              0.4444444444444444,
              "#bd3786"
             ],
             [
              0.5555555555555556,
              "#d8576b"
             ],
             [
              0.6666666666666666,
              "#ed7953"
             ],
             [
              0.7777777777777778,
              "#fb9f3a"
             ],
             [
              0.8888888888888888,
              "#fdca26"
             ],
             [
              1,
              "#f0f921"
             ]
            ],
            "type": "heatmapgl"
           }
          ],
          "histogram": [
           {
            "marker": {
             "colorbar": {
              "outlinewidth": 0,
              "ticks": ""
             }
            },
            "type": "histogram"
           }
          ],
          "histogram2d": [
           {
            "colorbar": {
             "outlinewidth": 0,
             "ticks": ""
            },
            "colorscale": [
             [
              0,
              "#0d0887"
             ],
             [
              0.1111111111111111,
              "#46039f"
             ],
             [
              0.2222222222222222,
              "#7201a8"
             ],
             [
              0.3333333333333333,
              "#9c179e"
             ],
             [
              0.4444444444444444,
              "#bd3786"
             ],
             [
              0.5555555555555556,
              "#d8576b"
             ],
             [
              0.6666666666666666,
              "#ed7953"
             ],
             [
              0.7777777777777778,
              "#fb9f3a"
             ],
             [
              0.8888888888888888,
              "#fdca26"
             ],
             [
              1,
              "#f0f921"
             ]
            ],
            "type": "histogram2d"
           }
          ],
          "histogram2dcontour": [
           {
            "colorbar": {
             "outlinewidth": 0,
             "ticks": ""
            },
            "colorscale": [
             [
              0,
              "#0d0887"
             ],
             [
              0.1111111111111111,
              "#46039f"
             ],
             [
              0.2222222222222222,
              "#7201a8"
             ],
             [
              0.3333333333333333,
              "#9c179e"
             ],
             [
              0.4444444444444444,
              "#bd3786"
             ],
             [
              0.5555555555555556,
              "#d8576b"
             ],
             [
              0.6666666666666666,
              "#ed7953"
             ],
             [
              0.7777777777777778,
              "#fb9f3a"
             ],
             [
              0.8888888888888888,
              "#fdca26"
             ],
             [
              1,
              "#f0f921"
             ]
            ],
            "type": "histogram2dcontour"
           }
          ],
          "mesh3d": [
           {
            "colorbar": {
             "outlinewidth": 0,
             "ticks": ""
            },
            "type": "mesh3d"
           }
          ],
          "parcoords": [
           {
            "line": {
             "colorbar": {
              "outlinewidth": 0,
              "ticks": ""
             }
            },
            "type": "parcoords"
           }
          ],
          "pie": [
           {
            "automargin": true,
            "type": "pie"
           }
          ],
          "scatter": [
           {
            "marker": {
             "colorbar": {
              "outlinewidth": 0,
              "ticks": ""
             }
            },
            "type": "scatter"
           }
          ],
          "scatter3d": [
           {
            "line": {
             "colorbar": {
              "outlinewidth": 0,
              "ticks": ""
             }
            },
            "marker": {
             "colorbar": {
              "outlinewidth": 0,
              "ticks": ""
             }
            },
            "type": "scatter3d"
           }
          ],
          "scattercarpet": [
           {
            "marker": {
             "colorbar": {
              "outlinewidth": 0,
              "ticks": ""
             }
            },
            "type": "scattercarpet"
           }
          ],
          "scattergeo": [
           {
            "marker": {
             "colorbar": {
              "outlinewidth": 0,
              "ticks": ""
             }
            },
            "type": "scattergeo"
           }
          ],
          "scattergl": [
           {
            "marker": {
             "colorbar": {
              "outlinewidth": 0,
              "ticks": ""
             }
            },
            "type": "scattergl"
           }
          ],
          "scattermapbox": [
           {
            "marker": {
             "colorbar": {
              "outlinewidth": 0,
              "ticks": ""
             }
            },
            "type": "scattermapbox"
           }
          ],
          "scatterpolar": [
           {
            "marker": {
             "colorbar": {
              "outlinewidth": 0,
              "ticks": ""
             }
            },
            "type": "scatterpolar"
           }
          ],
          "scatterpolargl": [
           {
            "marker": {
             "colorbar": {
              "outlinewidth": 0,
              "ticks": ""
             }
            },
            "type": "scatterpolargl"
           }
          ],
          "scatterternary": [
           {
            "marker": {
             "colorbar": {
              "outlinewidth": 0,
              "ticks": ""
             }
            },
            "type": "scatterternary"
           }
          ],
          "surface": [
           {
            "colorbar": {
             "outlinewidth": 0,
             "ticks": ""
            },
            "colorscale": [
             [
              0,
              "#0d0887"
             ],
             [
              0.1111111111111111,
              "#46039f"
             ],
             [
              0.2222222222222222,
              "#7201a8"
             ],
             [
              0.3333333333333333,
              "#9c179e"
             ],
             [
              0.4444444444444444,
              "#bd3786"
             ],
             [
              0.5555555555555556,
              "#d8576b"
             ],
             [
              0.6666666666666666,
              "#ed7953"
             ],
             [
              0.7777777777777778,
              "#fb9f3a"
             ],
             [
              0.8888888888888888,
              "#fdca26"
             ],
             [
              1,
              "#f0f921"
             ]
            ],
            "type": "surface"
           }
          ],
          "table": [
           {
            "cells": {
             "fill": {
              "color": "#EBF0F8"
             },
             "line": {
              "color": "white"
             }
            },
            "header": {
             "fill": {
              "color": "#C8D4E3"
             },
             "line": {
              "color": "white"
             }
            },
            "type": "table"
           }
          ]
         },
         "layout": {
          "annotationdefaults": {
           "arrowcolor": "#2a3f5f",
           "arrowhead": 0,
           "arrowwidth": 1
          },
          "autotypenumbers": "strict",
          "coloraxis": {
           "colorbar": {
            "outlinewidth": 0,
            "ticks": ""
           }
          },
          "colorscale": {
           "diverging": [
            [
             0,
             "#8e0152"
            ],
            [
             0.1,
             "#c51b7d"
            ],
            [
             0.2,
             "#de77ae"
            ],
            [
             0.3,
             "#f1b6da"
            ],
            [
             0.4,
             "#fde0ef"
            ],
            [
             0.5,
             "#f7f7f7"
            ],
            [
             0.6,
             "#e6f5d0"
            ],
            [
             0.7,
             "#b8e186"
            ],
            [
             0.8,
             "#7fbc41"
            ],
            [
             0.9,
             "#4d9221"
            ],
            [
             1,
             "#276419"
            ]
           ],
           "sequential": [
            [
             0,
             "#0d0887"
            ],
            [
             0.1111111111111111,
             "#46039f"
            ],
            [
             0.2222222222222222,
             "#7201a8"
            ],
            [
             0.3333333333333333,
             "#9c179e"
            ],
            [
             0.4444444444444444,
             "#bd3786"
            ],
            [
             0.5555555555555556,
             "#d8576b"
            ],
            [
             0.6666666666666666,
             "#ed7953"
            ],
            [
             0.7777777777777778,
             "#fb9f3a"
            ],
            [
             0.8888888888888888,
             "#fdca26"
            ],
            [
             1,
             "#f0f921"
            ]
           ],
           "sequentialminus": [
            [
             0,
             "#0d0887"
            ],
            [
             0.1111111111111111,
             "#46039f"
            ],
            [
             0.2222222222222222,
             "#7201a8"
            ],
            [
             0.3333333333333333,
             "#9c179e"
            ],
            [
             0.4444444444444444,
             "#bd3786"
            ],
            [
             0.5555555555555556,
             "#d8576b"
            ],
            [
             0.6666666666666666,
             "#ed7953"
            ],
            [
             0.7777777777777778,
             "#fb9f3a"
            ],
            [
             0.8888888888888888,
             "#fdca26"
            ],
            [
             1,
             "#f0f921"
            ]
           ]
          },
          "colorway": [
           "#636efa",
           "#EF553B",
           "#00cc96",
           "#ab63fa",
           "#FFA15A",
           "#19d3f3",
           "#FF6692",
           "#B6E880",
           "#FF97FF",
           "#FECB52"
          ],
          "font": {
           "color": "#2a3f5f"
          },
          "geo": {
           "bgcolor": "white",
           "lakecolor": "white",
           "landcolor": "#E5ECF6",
           "showlakes": true,
           "showland": true,
           "subunitcolor": "white"
          },
          "hoverlabel": {
           "align": "left"
          },
          "hovermode": "closest",
          "mapbox": {
           "style": "light"
          },
          "paper_bgcolor": "white",
          "plot_bgcolor": "#E5ECF6",
          "polar": {
           "angularaxis": {
            "gridcolor": "white",
            "linecolor": "white",
            "ticks": ""
           },
           "bgcolor": "#E5ECF6",
           "radialaxis": {
            "gridcolor": "white",
            "linecolor": "white",
            "ticks": ""
           }
          },
          "scene": {
           "xaxis": {
            "backgroundcolor": "#E5ECF6",
            "gridcolor": "white",
            "gridwidth": 2,
            "linecolor": "white",
            "showbackground": true,
            "ticks": "",
            "zerolinecolor": "white"
           },
           "yaxis": {
            "backgroundcolor": "#E5ECF6",
            "gridcolor": "white",
            "gridwidth": 2,
            "linecolor": "white",
            "showbackground": true,
            "ticks": "",
            "zerolinecolor": "white"
           },
           "zaxis": {
            "backgroundcolor": "#E5ECF6",
            "gridcolor": "white",
            "gridwidth": 2,
            "linecolor": "white",
            "showbackground": true,
            "ticks": "",
            "zerolinecolor": "white"
           }
          },
          "shapedefaults": {
           "line": {
            "color": "#2a3f5f"
           }
          },
          "ternary": {
           "aaxis": {
            "gridcolor": "white",
            "linecolor": "white",
            "ticks": ""
           },
           "baxis": {
            "gridcolor": "white",
            "linecolor": "white",
            "ticks": ""
           },
           "bgcolor": "#E5ECF6",
           "caxis": {
            "gridcolor": "white",
            "linecolor": "white",
            "ticks": ""
           }
          },
          "title": {
           "x": 0.05
          },
          "xaxis": {
           "automargin": true,
           "gridcolor": "white",
           "linecolor": "white",
           "ticks": "",
           "title": {
            "standoff": 15
           },
           "zerolinecolor": "white",
           "zerolinewidth": 2
          },
          "yaxis": {
           "automargin": true,
           "gridcolor": "white",
           "linecolor": "white",
           "ticks": "",
           "title": {
            "standoff": 15
           },
           "zerolinecolor": "white",
           "zerolinewidth": 2
          }
         }
        },
        "title": {
         "text": "Devices"
        },
        "width": 1000
       }
      }
     },
     "metadata": {}
    }
   ],
   "source": [
    "\n",
    "# meta_plot.loc[meta_plot['city'] == 'Beijing', 'color'] = 0\n",
    "\n",
    "fig = px.scatter_mapbox(all_bj,\n",
    "                        lat=all_bj.geometry.y,\n",
    "                        lon=all_bj.geometry.x,\n",
    "                        color='color',\n",
    "                        color_continuous_scale=px.colors.sequential.Blackbody,\n",
    "                        #hover_name='city',\n",
    "                        #hover_data=[\"device_id\", 'device_name'],\n",
    "                        width=1000, height=700)\n",
    "\n",
    "fig.update_layout(\n",
    "    title='Devices',\n",
    "    autosize=True,\n",
    "    hovermode='closest',\n",
    "    showlegend=False,\n",
    "    mapbox=dict(\n",
    "        bearing=0,\n",
    "        center=dict(\n",
    "            lat=40,\n",
    "            lon=116\n",
    "        ),\n",
    "        pitch=0,\n",
    "        zoom=8,\n",
    "        style='stamen-terrain'\n",
    "    ),\n",
    ")\n",
    "\n",
    "fig.show()"
   ]
  },
  {
   "cell_type": "code",
   "execution_count": 99,
   "metadata": {},
   "outputs": [
    {
     "output_type": "stream",
     "name": "stdout",
     "text": [
      "11688×184×18 float64 ndarray\n"
     ]
    },
    {
     "output_type": "display_data",
     "data": {
      "text/plain": "interactive(children=(Text(value='[:100, :100, 0]', description='Slice:', placeholder='e.g. [:100, :100, 0]'),…",
      "application/vnd.jupyter.widget-view+json": {
       "version_major": 2,
       "version_minor": 0,
       "model_id": "5763a6a6839b42bbb87f7ea463cf7426"
      }
     },
     "metadata": {}
    },
    {
     "output_type": "execute_result",
     "data": {
      "text/plain": []
     },
     "metadata": {},
     "execution_count": 99
    }
   ],
   "source": [
    "know_air"
   ]
  },
  {
   "source": [
    "### Check for missing data"
   ],
   "cell_type": "markdown",
   "metadata": {}
  },
  {
   "cell_type": "code",
   "execution_count": 27,
   "metadata": {},
   "outputs": [],
   "source": [
    "num_devices = len(all_df['device_id'].unique())"
   ]
  },
  {
   "cell_type": "code",
   "execution_count": 28,
   "metadata": {},
   "outputs": [
    {
     "output_type": "execute_result",
     "data": {
      "text/plain": [
       "(3814863, 43849.0)"
      ]
     },
     "metadata": {},
     "execution_count": 28
    }
   ],
   "source": [
    "all_df.shape[0], all_df.shape[0] / num_devices"
   ]
  },
  {
   "cell_type": "code",
   "execution_count": 145,
   "metadata": {},
   "outputs": [],
   "source": [
    "t = city_means['time']"
   ]
  },
  {
   "cell_type": "code",
   "execution_count": 153,
   "metadata": {},
   "outputs": [],
   "source": [
    "# select only every third hour (that's how they use it in PM2.5-GNN) - use %2==2, since we have most data for (2:00, 5:00, 8:00, etc.)\n",
    "filtered_city_means = city_means[city_means['time'].dt.hour % 6 == 2]\n",
    "del filtered_city_means['co']\n",
    "del filtered_city_means['no2']\n",
    "del filtered_city_means['o3']\n",
    "del filtered_city_means['pm10']\n",
    "del filtered_city_means['so2']\n",
    "# filtered_city_means\n",
    "missing_city_means = filtered_city_means[filtered_city_means.isnull().any(axis=1)]"
   ]
  },
  {
   "cell_type": "code",
   "execution_count": 163,
   "metadata": {},
   "outputs": [
    {
     "output_type": "execute_result",
     "data": {
      "text/plain": [
       "                     co  no2  o3  pm10  pm25  so2                time  \\\n",
       "1610                NaN  NaN NaN   NaN   NaN  NaN 2016-03-08 02:00:00   \n",
       "1610                NaN  NaN NaN   NaN   NaN  NaN 2016-03-08 02:00:00   \n",
       "1610                NaN  NaN NaN   NaN   NaN  NaN 2016-03-08 02:00:00   \n",
       "1610                NaN  NaN NaN   NaN   NaN  NaN 2016-03-08 02:00:00   \n",
       "1610                NaN  NaN NaN   NaN   NaN  NaN 2016-03-08 02:00:00   \n",
       "1610                NaN  NaN NaN   NaN   NaN  NaN 2016-03-08 02:00:00   \n",
       "1610                NaN  NaN NaN   NaN   NaN  NaN 2016-03-08 02:00:00   \n",
       "1610                NaN  NaN NaN   NaN   NaN  NaN 2016-03-08 02:00:00   \n",
       "1610                NaN  NaN NaN   NaN   NaN  NaN 2016-03-08 02:00:00   \n",
       "1610                NaN  NaN NaN   NaN   NaN  NaN 2016-03-08 02:00:00   \n",
       "1610                NaN  NaN NaN   NaN   NaN  NaN 2016-03-08 02:00:00   \n",
       "1610                NaN  NaN NaN   NaN   NaN  NaN 2016-03-08 02:00:00   \n",
       "2016-03-08 02:00:00 NaN  NaN NaN   NaN   NaN  NaN 2016-03-08 02:00:00   \n",
       "1610                NaN  NaN NaN   NaN   NaN  NaN 2016-03-08 02:00:00   \n",
       "1610                NaN  NaN NaN   NaN   NaN  NaN 2016-03-08 02:00:00   \n",
       "1610                NaN  NaN NaN   NaN   NaN  NaN 2016-03-08 02:00:00   \n",
       "1610                NaN  NaN NaN   NaN   NaN  NaN 2016-03-08 02:00:00   \n",
       "1610                NaN  NaN NaN   NaN   NaN  NaN 2016-03-08 02:00:00   \n",
       "1610                NaN  NaN NaN   NaN   NaN  NaN 2016-03-08 02:00:00   \n",
       "1610                NaN  NaN NaN   NaN   NaN  NaN 2016-03-08 02:00:00   \n",
       "1610                NaN  NaN NaN   NaN   NaN  NaN 2016-03-08 02:00:00   \n",
       "2016-03-08 02:00:00 NaN  NaN NaN   NaN   NaN  NaN 2016-03-08 02:00:00   \n",
       "2016-03-08 02:00:00 NaN  NaN NaN   NaN   NaN  NaN 2016-03-08 02:00:00   \n",
       "1610                NaN  NaN NaN   NaN   NaN  NaN 2016-03-08 02:00:00   \n",
       "2016-03-08 02:00:00 NaN  NaN NaN   NaN   NaN  NaN 2016-03-08 02:00:00   \n",
       "2016-03-08 02:00:00 NaN  NaN NaN   NaN   NaN  NaN 2016-03-08 02:00:00   \n",
       "1610                NaN  NaN NaN   NaN   NaN  NaN 2016-03-08 02:00:00   \n",
       "1610                NaN  NaN NaN   NaN   NaN  NaN 2016-03-08 02:00:00   \n",
       "2016-03-08 02:00:00 NaN  NaN NaN   NaN   NaN  NaN 2016-03-08 02:00:00   \n",
       "2016-03-08 02:00:00 NaN  NaN NaN   NaN   NaN  NaN 2016-03-08 02:00:00   \n",
       "1610                NaN  NaN NaN   NaN   NaN  NaN 2016-03-08 02:00:00   \n",
       "1610                NaN  NaN NaN   NaN   NaN  NaN 2016-03-08 02:00:00   \n",
       "1610                NaN  NaN NaN   NaN   NaN  NaN 2016-03-08 02:00:00   \n",
       "1610                NaN  NaN NaN   NaN   NaN  NaN 2016-03-08 02:00:00   \n",
       "1610                NaN  NaN NaN   NaN   NaN  NaN 2016-03-08 02:00:00   \n",
       "\n",
       "                          device_id     city  temperature  humidity  \\\n",
       "1610                         dongsi  Beijing          NaN       NaN   \n",
       "1610                        tiantan  Beijing     0.272222      0.22   \n",
       "1610                       guanyuan  Beijing     0.233333      0.22   \n",
       "1610                  wanshouxigong  Beijing     0.244444      0.22   \n",
       "1610                   aotizhongxin  Beijing     0.266667      0.22   \n",
       "1610                   nongzhanguan  Beijing     0.288889      0.22   \n",
       "1610                         wanliu  Beijing     0.283333      0.22   \n",
       "1610                     beibuxinqu  Beijing     0.338889      0.22   \n",
       "1610                      zhiwuyuan  Beijing    -0.472222      0.23   \n",
       "1610                 fengtaihuayuan  Beijing     0.266667      0.22   \n",
       "1610                        yungang  Beijing     0.005556      0.23   \n",
       "1610                        gucheng  Beijing     0.133333      0.22   \n",
       "2016-03-08 02:00:00        fangshan  Beijing          NaN       NaN   \n",
       "1610                         daxing  Beijing     0.344444      0.22   \n",
       "1610                       yizhuang  Beijing     0.338889      0.22   \n",
       "1610                       tongzhou  Beijing     0.361111      0.22   \n",
       "1610                         shunyi  Beijing     0.288889      0.22   \n",
       "1610                      changping  Beijing     0.183333      0.22   \n",
       "1610                      mentougou  Beijing    -0.005556      0.23   \n",
       "1610                         pinggu  Beijing     0.038889      0.21   \n",
       "1610                        huairou  Beijing     0.183333      0.22   \n",
       "2016-03-08 02:00:00           miyun  Beijing          NaN       NaN   \n",
       "2016-03-08 02:00:00         yanqing  Beijing          NaN       NaN   \n",
       "1610                       dingling  Beijing    -0.183333      0.23   \n",
       "2016-03-08 02:00:00        badaling  Beijing          NaN       NaN   \n",
       "2016-03-08 02:00:00     miyunshuiku  Beijing          NaN       NaN   \n",
       "1610                     donggaocun  Beijing    -0.105556      0.21   \n",
       "1610                     yongledian  Beijing     0.377778      0.21   \n",
       "2016-03-08 02:00:00            yufa  Beijing          NaN       NaN   \n",
       "2016-03-08 02:00:00         liulihe  Beijing          NaN       NaN   \n",
       "1610                        qianmen  Beijing     0.255556      0.22   \n",
       "1610                 yongdingmennei  Beijing     0.272222      0.22   \n",
       "1610                    xizhimenbei  Beijing     0.227778      0.22   \n",
       "1610                     nansanhuan  Beijing     0.294444      0.22   \n",
       "1610                     dongsihuan  Beijing     0.316667      0.22   \n",
       "\n",
       "                     windSpeed  windBearing  precipIntensity  \n",
       "1610                       NaN          NaN              NaN  \n",
       "1610                      7.44         42.0              0.0  \n",
       "1610                      7.28         41.0              0.0  \n",
       "1610                      7.33         42.0              0.0  \n",
       "1610                      7.36         42.0              0.0  \n",
       "1610                      7.51         42.0              0.0  \n",
       "1610                      7.14         41.0              0.0  \n",
       "1610                      6.87         40.0              0.0  \n",
       "1610                      6.98         41.0              0.0  \n",
       "1610                      7.20         41.0              0.0  \n",
       "1610                      6.96         40.0              0.0  \n",
       "1610                      6.98         41.0              0.0  \n",
       "2016-03-08 02:00:00        NaN          NaN              NaN  \n",
       "1610                      7.53         42.0              0.0  \n",
       "1610                      7.68         43.0              0.0  \n",
       "1610                      7.94         43.0              0.0  \n",
       "1610                      7.79         43.0              0.0  \n",
       "1610                      6.91         40.0              0.0  \n",
       "1610                      6.82         40.0              0.0  \n",
       "1610                     11.19         50.0              0.0  \n",
       "1610                      7.62         43.0              0.0  \n",
       "2016-03-08 02:00:00        NaN          NaN              NaN  \n",
       "2016-03-08 02:00:00        NaN          NaN              NaN  \n",
       "1610                      6.85         40.0              0.0  \n",
       "2016-03-08 02:00:00        NaN          NaN              NaN  \n",
       "2016-03-08 02:00:00        NaN          NaN              NaN  \n",
       "1610                     11.19         50.0              0.0  \n",
       "1610                      8.27         44.0              0.0  \n",
       "2016-03-08 02:00:00        NaN          NaN              NaN  \n",
       "2016-03-08 02:00:00        NaN          NaN              NaN  \n",
       "1610                      7.41         42.0              0.0  \n",
       "1610                      7.42         42.0              0.0  \n",
       "1610                      7.28         42.0              0.0  \n",
       "1610                      7.38         42.0              0.0  \n",
       "1610                      7.56         42.0              0.0  "
      ],
      "text/html": "<div>\n<style scoped>\n    .dataframe tbody tr th:only-of-type {\n        vertical-align: middle;\n    }\n\n    .dataframe tbody tr th {\n        vertical-align: top;\n    }\n\n    .dataframe thead th {\n        text-align: right;\n    }\n</style>\n<table border=\"1\" class=\"dataframe\">\n  <thead>\n    <tr style=\"text-align: right;\">\n      <th></th>\n      <th>co</th>\n      <th>no2</th>\n      <th>o3</th>\n      <th>pm10</th>\n      <th>pm25</th>\n      <th>so2</th>\n      <th>time</th>\n      <th>device_id</th>\n      <th>city</th>\n      <th>temperature</th>\n      <th>humidity</th>\n      <th>windSpeed</th>\n      <th>windBearing</th>\n      <th>precipIntensity</th>\n    </tr>\n  </thead>\n  <tbody>\n    <tr>\n      <th>1610</th>\n      <td>NaN</td>\n      <td>NaN</td>\n      <td>NaN</td>\n      <td>NaN</td>\n      <td>NaN</td>\n      <td>NaN</td>\n      <td>2016-03-08 02:00:00</td>\n      <td>dongsi</td>\n      <td>Beijing</td>\n      <td>NaN</td>\n      <td>NaN</td>\n      <td>NaN</td>\n      <td>NaN</td>\n      <td>NaN</td>\n    </tr>\n    <tr>\n      <th>1610</th>\n      <td>NaN</td>\n      <td>NaN</td>\n      <td>NaN</td>\n      <td>NaN</td>\n      <td>NaN</td>\n      <td>NaN</td>\n      <td>2016-03-08 02:00:00</td>\n      <td>tiantan</td>\n      <td>Beijing</td>\n      <td>0.272222</td>\n      <td>0.22</td>\n      <td>7.44</td>\n      <td>42.0</td>\n      <td>0.0</td>\n    </tr>\n    <tr>\n      <th>1610</th>\n      <td>NaN</td>\n      <td>NaN</td>\n      <td>NaN</td>\n      <td>NaN</td>\n      <td>NaN</td>\n      <td>NaN</td>\n      <td>2016-03-08 02:00:00</td>\n      <td>guanyuan</td>\n      <td>Beijing</td>\n      <td>0.233333</td>\n      <td>0.22</td>\n      <td>7.28</td>\n      <td>41.0</td>\n      <td>0.0</td>\n    </tr>\n    <tr>\n      <th>1610</th>\n      <td>NaN</td>\n      <td>NaN</td>\n      <td>NaN</td>\n      <td>NaN</td>\n      <td>NaN</td>\n      <td>NaN</td>\n      <td>2016-03-08 02:00:00</td>\n      <td>wanshouxigong</td>\n      <td>Beijing</td>\n      <td>0.244444</td>\n      <td>0.22</td>\n      <td>7.33</td>\n      <td>42.0</td>\n      <td>0.0</td>\n    </tr>\n    <tr>\n      <th>1610</th>\n      <td>NaN</td>\n      <td>NaN</td>\n      <td>NaN</td>\n      <td>NaN</td>\n      <td>NaN</td>\n      <td>NaN</td>\n      <td>2016-03-08 02:00:00</td>\n      <td>aotizhongxin</td>\n      <td>Beijing</td>\n      <td>0.266667</td>\n      <td>0.22</td>\n      <td>7.36</td>\n      <td>42.0</td>\n      <td>0.0</td>\n    </tr>\n    <tr>\n      <th>1610</th>\n      <td>NaN</td>\n      <td>NaN</td>\n      <td>NaN</td>\n      <td>NaN</td>\n      <td>NaN</td>\n      <td>NaN</td>\n      <td>2016-03-08 02:00:00</td>\n      <td>nongzhanguan</td>\n      <td>Beijing</td>\n      <td>0.288889</td>\n      <td>0.22</td>\n      <td>7.51</td>\n      <td>42.0</td>\n      <td>0.0</td>\n    </tr>\n    <tr>\n      <th>1610</th>\n      <td>NaN</td>\n      <td>NaN</td>\n      <td>NaN</td>\n      <td>NaN</td>\n      <td>NaN</td>\n      <td>NaN</td>\n      <td>2016-03-08 02:00:00</td>\n      <td>wanliu</td>\n      <td>Beijing</td>\n      <td>0.283333</td>\n      <td>0.22</td>\n      <td>7.14</td>\n      <td>41.0</td>\n      <td>0.0</td>\n    </tr>\n    <tr>\n      <th>1610</th>\n      <td>NaN</td>\n      <td>NaN</td>\n      <td>NaN</td>\n      <td>NaN</td>\n      <td>NaN</td>\n      <td>NaN</td>\n      <td>2016-03-08 02:00:00</td>\n      <td>beibuxinqu</td>\n      <td>Beijing</td>\n      <td>0.338889</td>\n      <td>0.22</td>\n      <td>6.87</td>\n      <td>40.0</td>\n      <td>0.0</td>\n    </tr>\n    <tr>\n      <th>1610</th>\n      <td>NaN</td>\n      <td>NaN</td>\n      <td>NaN</td>\n      <td>NaN</td>\n      <td>NaN</td>\n      <td>NaN</td>\n      <td>2016-03-08 02:00:00</td>\n      <td>zhiwuyuan</td>\n      <td>Beijing</td>\n      <td>-0.472222</td>\n      <td>0.23</td>\n      <td>6.98</td>\n      <td>41.0</td>\n      <td>0.0</td>\n    </tr>\n    <tr>\n      <th>1610</th>\n      <td>NaN</td>\n      <td>NaN</td>\n      <td>NaN</td>\n      <td>NaN</td>\n      <td>NaN</td>\n      <td>NaN</td>\n      <td>2016-03-08 02:00:00</td>\n      <td>fengtaihuayuan</td>\n      <td>Beijing</td>\n      <td>0.266667</td>\n      <td>0.22</td>\n      <td>7.20</td>\n      <td>41.0</td>\n      <td>0.0</td>\n    </tr>\n    <tr>\n      <th>1610</th>\n      <td>NaN</td>\n      <td>NaN</td>\n      <td>NaN</td>\n      <td>NaN</td>\n      <td>NaN</td>\n      <td>NaN</td>\n      <td>2016-03-08 02:00:00</td>\n      <td>yungang</td>\n      <td>Beijing</td>\n      <td>0.005556</td>\n      <td>0.23</td>\n      <td>6.96</td>\n      <td>40.0</td>\n      <td>0.0</td>\n    </tr>\n    <tr>\n      <th>1610</th>\n      <td>NaN</td>\n      <td>NaN</td>\n      <td>NaN</td>\n      <td>NaN</td>\n      <td>NaN</td>\n      <td>NaN</td>\n      <td>2016-03-08 02:00:00</td>\n      <td>gucheng</td>\n      <td>Beijing</td>\n      <td>0.133333</td>\n      <td>0.22</td>\n      <td>6.98</td>\n      <td>41.0</td>\n      <td>0.0</td>\n    </tr>\n    <tr>\n      <th>2016-03-08 02:00:00</th>\n      <td>NaN</td>\n      <td>NaN</td>\n      <td>NaN</td>\n      <td>NaN</td>\n      <td>NaN</td>\n      <td>NaN</td>\n      <td>2016-03-08 02:00:00</td>\n      <td>fangshan</td>\n      <td>Beijing</td>\n      <td>NaN</td>\n      <td>NaN</td>\n      <td>NaN</td>\n      <td>NaN</td>\n      <td>NaN</td>\n    </tr>\n    <tr>\n      <th>1610</th>\n      <td>NaN</td>\n      <td>NaN</td>\n      <td>NaN</td>\n      <td>NaN</td>\n      <td>NaN</td>\n      <td>NaN</td>\n      <td>2016-03-08 02:00:00</td>\n      <td>daxing</td>\n      <td>Beijing</td>\n      <td>0.344444</td>\n      <td>0.22</td>\n      <td>7.53</td>\n      <td>42.0</td>\n      <td>0.0</td>\n    </tr>\n    <tr>\n      <th>1610</th>\n      <td>NaN</td>\n      <td>NaN</td>\n      <td>NaN</td>\n      <td>NaN</td>\n      <td>NaN</td>\n      <td>NaN</td>\n      <td>2016-03-08 02:00:00</td>\n      <td>yizhuang</td>\n      <td>Beijing</td>\n      <td>0.338889</td>\n      <td>0.22</td>\n      <td>7.68</td>\n      <td>43.0</td>\n      <td>0.0</td>\n    </tr>\n    <tr>\n      <th>1610</th>\n      <td>NaN</td>\n      <td>NaN</td>\n      <td>NaN</td>\n      <td>NaN</td>\n      <td>NaN</td>\n      <td>NaN</td>\n      <td>2016-03-08 02:00:00</td>\n      <td>tongzhou</td>\n      <td>Beijing</td>\n      <td>0.361111</td>\n      <td>0.22</td>\n      <td>7.94</td>\n      <td>43.0</td>\n      <td>0.0</td>\n    </tr>\n    <tr>\n      <th>1610</th>\n      <td>NaN</td>\n      <td>NaN</td>\n      <td>NaN</td>\n      <td>NaN</td>\n      <td>NaN</td>\n      <td>NaN</td>\n      <td>2016-03-08 02:00:00</td>\n      <td>shunyi</td>\n      <td>Beijing</td>\n      <td>0.288889</td>\n      <td>0.22</td>\n      <td>7.79</td>\n      <td>43.0</td>\n      <td>0.0</td>\n    </tr>\n    <tr>\n      <th>1610</th>\n      <td>NaN</td>\n      <td>NaN</td>\n      <td>NaN</td>\n      <td>NaN</td>\n      <td>NaN</td>\n      <td>NaN</td>\n      <td>2016-03-08 02:00:00</td>\n      <td>changping</td>\n      <td>Beijing</td>\n      <td>0.183333</td>\n      <td>0.22</td>\n      <td>6.91</td>\n      <td>40.0</td>\n      <td>0.0</td>\n    </tr>\n    <tr>\n      <th>1610</th>\n      <td>NaN</td>\n      <td>NaN</td>\n      <td>NaN</td>\n      <td>NaN</td>\n      <td>NaN</td>\n      <td>NaN</td>\n      <td>2016-03-08 02:00:00</td>\n      <td>mentougou</td>\n      <td>Beijing</td>\n      <td>-0.005556</td>\n      <td>0.23</td>\n      <td>6.82</td>\n      <td>40.0</td>\n      <td>0.0</td>\n    </tr>\n    <tr>\n      <th>1610</th>\n      <td>NaN</td>\n      <td>NaN</td>\n      <td>NaN</td>\n      <td>NaN</td>\n      <td>NaN</td>\n      <td>NaN</td>\n      <td>2016-03-08 02:00:00</td>\n      <td>pinggu</td>\n      <td>Beijing</td>\n      <td>0.038889</td>\n      <td>0.21</td>\n      <td>11.19</td>\n      <td>50.0</td>\n      <td>0.0</td>\n    </tr>\n    <tr>\n      <th>1610</th>\n      <td>NaN</td>\n      <td>NaN</td>\n      <td>NaN</td>\n      <td>NaN</td>\n      <td>NaN</td>\n      <td>NaN</td>\n      <td>2016-03-08 02:00:00</td>\n      <td>huairou</td>\n      <td>Beijing</td>\n      <td>0.183333</td>\n      <td>0.22</td>\n      <td>7.62</td>\n      <td>43.0</td>\n      <td>0.0</td>\n    </tr>\n    <tr>\n      <th>2016-03-08 02:00:00</th>\n      <td>NaN</td>\n      <td>NaN</td>\n      <td>NaN</td>\n      <td>NaN</td>\n      <td>NaN</td>\n      <td>NaN</td>\n      <td>2016-03-08 02:00:00</td>\n      <td>miyun</td>\n      <td>Beijing</td>\n      <td>NaN</td>\n      <td>NaN</td>\n      <td>NaN</td>\n      <td>NaN</td>\n      <td>NaN</td>\n    </tr>\n    <tr>\n      <th>2016-03-08 02:00:00</th>\n      <td>NaN</td>\n      <td>NaN</td>\n      <td>NaN</td>\n      <td>NaN</td>\n      <td>NaN</td>\n      <td>NaN</td>\n      <td>2016-03-08 02:00:00</td>\n      <td>yanqing</td>\n      <td>Beijing</td>\n      <td>NaN</td>\n      <td>NaN</td>\n      <td>NaN</td>\n      <td>NaN</td>\n      <td>NaN</td>\n    </tr>\n    <tr>\n      <th>1610</th>\n      <td>NaN</td>\n      <td>NaN</td>\n      <td>NaN</td>\n      <td>NaN</td>\n      <td>NaN</td>\n      <td>NaN</td>\n      <td>2016-03-08 02:00:00</td>\n      <td>dingling</td>\n      <td>Beijing</td>\n      <td>-0.183333</td>\n      <td>0.23</td>\n      <td>6.85</td>\n      <td>40.0</td>\n      <td>0.0</td>\n    </tr>\n    <tr>\n      <th>2016-03-08 02:00:00</th>\n      <td>NaN</td>\n      <td>NaN</td>\n      <td>NaN</td>\n      <td>NaN</td>\n      <td>NaN</td>\n      <td>NaN</td>\n      <td>2016-03-08 02:00:00</td>\n      <td>badaling</td>\n      <td>Beijing</td>\n      <td>NaN</td>\n      <td>NaN</td>\n      <td>NaN</td>\n      <td>NaN</td>\n      <td>NaN</td>\n    </tr>\n    <tr>\n      <th>2016-03-08 02:00:00</th>\n      <td>NaN</td>\n      <td>NaN</td>\n      <td>NaN</td>\n      <td>NaN</td>\n      <td>NaN</td>\n      <td>NaN</td>\n      <td>2016-03-08 02:00:00</td>\n      <td>miyunshuiku</td>\n      <td>Beijing</td>\n      <td>NaN</td>\n      <td>NaN</td>\n      <td>NaN</td>\n      <td>NaN</td>\n      <td>NaN</td>\n    </tr>\n    <tr>\n      <th>1610</th>\n      <td>NaN</td>\n      <td>NaN</td>\n      <td>NaN</td>\n      <td>NaN</td>\n      <td>NaN</td>\n      <td>NaN</td>\n      <td>2016-03-08 02:00:00</td>\n      <td>donggaocun</td>\n      <td>Beijing</td>\n      <td>-0.105556</td>\n      <td>0.21</td>\n      <td>11.19</td>\n      <td>50.0</td>\n      <td>0.0</td>\n    </tr>\n    <tr>\n      <th>1610</th>\n      <td>NaN</td>\n      <td>NaN</td>\n      <td>NaN</td>\n      <td>NaN</td>\n      <td>NaN</td>\n      <td>NaN</td>\n      <td>2016-03-08 02:00:00</td>\n      <td>yongledian</td>\n      <td>Beijing</td>\n      <td>0.377778</td>\n      <td>0.21</td>\n      <td>8.27</td>\n      <td>44.0</td>\n      <td>0.0</td>\n    </tr>\n    <tr>\n      <th>2016-03-08 02:00:00</th>\n      <td>NaN</td>\n      <td>NaN</td>\n      <td>NaN</td>\n      <td>NaN</td>\n      <td>NaN</td>\n      <td>NaN</td>\n      <td>2016-03-08 02:00:00</td>\n      <td>yufa</td>\n      <td>Beijing</td>\n      <td>NaN</td>\n      <td>NaN</td>\n      <td>NaN</td>\n      <td>NaN</td>\n      <td>NaN</td>\n    </tr>\n    <tr>\n      <th>2016-03-08 02:00:00</th>\n      <td>NaN</td>\n      <td>NaN</td>\n      <td>NaN</td>\n      <td>NaN</td>\n      <td>NaN</td>\n      <td>NaN</td>\n      <td>2016-03-08 02:00:00</td>\n      <td>liulihe</td>\n      <td>Beijing</td>\n      <td>NaN</td>\n      <td>NaN</td>\n      <td>NaN</td>\n      <td>NaN</td>\n      <td>NaN</td>\n    </tr>\n    <tr>\n      <th>1610</th>\n      <td>NaN</td>\n      <td>NaN</td>\n      <td>NaN</td>\n      <td>NaN</td>\n      <td>NaN</td>\n      <td>NaN</td>\n      <td>2016-03-08 02:00:00</td>\n      <td>qianmen</td>\n      <td>Beijing</td>\n      <td>0.255556</td>\n      <td>0.22</td>\n      <td>7.41</td>\n      <td>42.0</td>\n      <td>0.0</td>\n    </tr>\n    <tr>\n      <th>1610</th>\n      <td>NaN</td>\n      <td>NaN</td>\n      <td>NaN</td>\n      <td>NaN</td>\n      <td>NaN</td>\n      <td>NaN</td>\n      <td>2016-03-08 02:00:00</td>\n      <td>yongdingmennei</td>\n      <td>Beijing</td>\n      <td>0.272222</td>\n      <td>0.22</td>\n      <td>7.42</td>\n      <td>42.0</td>\n      <td>0.0</td>\n    </tr>\n    <tr>\n      <th>1610</th>\n      <td>NaN</td>\n      <td>NaN</td>\n      <td>NaN</td>\n      <td>NaN</td>\n      <td>NaN</td>\n      <td>NaN</td>\n      <td>2016-03-08 02:00:00</td>\n      <td>xizhimenbei</td>\n      <td>Beijing</td>\n      <td>0.227778</td>\n      <td>0.22</td>\n      <td>7.28</td>\n      <td>42.0</td>\n      <td>0.0</td>\n    </tr>\n    <tr>\n      <th>1610</th>\n      <td>NaN</td>\n      <td>NaN</td>\n      <td>NaN</td>\n      <td>NaN</td>\n      <td>NaN</td>\n      <td>NaN</td>\n      <td>2016-03-08 02:00:00</td>\n      <td>nansanhuan</td>\n      <td>Beijing</td>\n      <td>0.294444</td>\n      <td>0.22</td>\n      <td>7.38</td>\n      <td>42.0</td>\n      <td>0.0</td>\n    </tr>\n    <tr>\n      <th>1610</th>\n      <td>NaN</td>\n      <td>NaN</td>\n      <td>NaN</td>\n      <td>NaN</td>\n      <td>NaN</td>\n      <td>NaN</td>\n      <td>2016-03-08 02:00:00</td>\n      <td>dongsihuan</td>\n      <td>Beijing</td>\n      <td>0.316667</td>\n      <td>0.22</td>\n      <td>7.56</td>\n      <td>42.0</td>\n      <td>0.0</td>\n    </tr>\n  </tbody>\n</table>\n</div>"
     },
     "metadata": {},
     "execution_count": 163
    }
   ],
   "source": [
    "all_df[(all_df['city'] == 'Beijing') & (all_df['time'] == '2016-03-08 02:00:00')]"
   ]
  },
  {
   "cell_type": "code",
   "execution_count": 157,
   "metadata": {},
   "outputs": [
    {
     "output_type": "execute_result",
     "data": {
      "text/plain": [
       "      device_id                time  pm25  temperature  humidity  windSpeed  \\\n",
       "45459   Beijing 2016-03-08 02:00:00   NaN     0.187037  0.220370   7.625556   \n",
       "46449   Beijing 2016-04-18 08:00:00   NaN    13.851235  0.311852   6.720000   \n",
       "46473   Beijing 2016-04-19 08:00:00   NaN    10.847942  0.627037   6.720000   \n",
       "48915   Beijing 2016-07-30 02:00:00   NaN    27.862346  0.844074   6.720000   \n",
       "49149   Beijing 2016-08-08 20:00:00   NaN    26.843621  0.662222   4.480000   \n",
       "...         ...                 ...   ...          ...       ...        ...   \n",
       "86283   Beijing 2020-11-03 02:00:00   NaN     3.484362  0.182963   3.548148   \n",
       "86289   Beijing 2020-11-03 08:00:00   NaN     2.942798  0.256296   3.371111   \n",
       "86841   Beijing 2020-11-26 08:00:00   NaN    -1.250206  0.608889   2.531481   \n",
       "87237   Beijing 2020-12-12 20:00:00   NaN    -0.088477  0.678519   6.358148   \n",
       "87687   Beijing 2020-12-31 14:00:00   NaN    -0.936420  0.072963   6.852963   \n",
       "\n",
       "       windBearing  precipIntensity  \n",
       "45459    42.259259         0.000000  \n",
       "46449     0.000000         0.000000  \n",
       "46473   120.000000         0.000000  \n",
       "48915   110.000000         0.000000  \n",
       "49149   161.000000         0.000000  \n",
       "...            ...              ...  \n",
       "86283   276.851852         0.000000  \n",
       "86289   288.370370         0.000000  \n",
       "86841    75.296296         0.000000  \n",
       "87237   261.074074         0.007615  \n",
       "87687   278.740741         0.000000  \n",
       "\n",
       "[437 rows x 8 columns]"
      ],
      "text/html": "<div>\n<style scoped>\n    .dataframe tbody tr th:only-of-type {\n        vertical-align: middle;\n    }\n\n    .dataframe tbody tr th {\n        vertical-align: top;\n    }\n\n    .dataframe thead th {\n        text-align: right;\n    }\n</style>\n<table border=\"1\" class=\"dataframe\">\n  <thead>\n    <tr style=\"text-align: right;\">\n      <th></th>\n      <th>device_id</th>\n      <th>time</th>\n      <th>pm25</th>\n      <th>temperature</th>\n      <th>humidity</th>\n      <th>windSpeed</th>\n      <th>windBearing</th>\n      <th>precipIntensity</th>\n    </tr>\n  </thead>\n  <tbody>\n    <tr>\n      <th>45459</th>\n      <td>Beijing</td>\n      <td>2016-03-08 02:00:00</td>\n      <td>NaN</td>\n      <td>0.187037</td>\n      <td>0.220370</td>\n      <td>7.625556</td>\n      <td>42.259259</td>\n      <td>0.000000</td>\n    </tr>\n    <tr>\n      <th>46449</th>\n      <td>Beijing</td>\n      <td>2016-04-18 08:00:00</td>\n      <td>NaN</td>\n      <td>13.851235</td>\n      <td>0.311852</td>\n      <td>6.720000</td>\n      <td>0.000000</td>\n      <td>0.000000</td>\n    </tr>\n    <tr>\n      <th>46473</th>\n      <td>Beijing</td>\n      <td>2016-04-19 08:00:00</td>\n      <td>NaN</td>\n      <td>10.847942</td>\n      <td>0.627037</td>\n      <td>6.720000</td>\n      <td>120.000000</td>\n      <td>0.000000</td>\n    </tr>\n    <tr>\n      <th>48915</th>\n      <td>Beijing</td>\n      <td>2016-07-30 02:00:00</td>\n      <td>NaN</td>\n      <td>27.862346</td>\n      <td>0.844074</td>\n      <td>6.720000</td>\n      <td>110.000000</td>\n      <td>0.000000</td>\n    </tr>\n    <tr>\n      <th>49149</th>\n      <td>Beijing</td>\n      <td>2016-08-08 20:00:00</td>\n      <td>NaN</td>\n      <td>26.843621</td>\n      <td>0.662222</td>\n      <td>4.480000</td>\n      <td>161.000000</td>\n      <td>0.000000</td>\n    </tr>\n    <tr>\n      <th>...</th>\n      <td>...</td>\n      <td>...</td>\n      <td>...</td>\n      <td>...</td>\n      <td>...</td>\n      <td>...</td>\n      <td>...</td>\n      <td>...</td>\n    </tr>\n    <tr>\n      <th>86283</th>\n      <td>Beijing</td>\n      <td>2020-11-03 02:00:00</td>\n      <td>NaN</td>\n      <td>3.484362</td>\n      <td>0.182963</td>\n      <td>3.548148</td>\n      <td>276.851852</td>\n      <td>0.000000</td>\n    </tr>\n    <tr>\n      <th>86289</th>\n      <td>Beijing</td>\n      <td>2020-11-03 08:00:00</td>\n      <td>NaN</td>\n      <td>2.942798</td>\n      <td>0.256296</td>\n      <td>3.371111</td>\n      <td>288.370370</td>\n      <td>0.000000</td>\n    </tr>\n    <tr>\n      <th>86841</th>\n      <td>Beijing</td>\n      <td>2020-11-26 08:00:00</td>\n      <td>NaN</td>\n      <td>-1.250206</td>\n      <td>0.608889</td>\n      <td>2.531481</td>\n      <td>75.296296</td>\n      <td>0.000000</td>\n    </tr>\n    <tr>\n      <th>87237</th>\n      <td>Beijing</td>\n      <td>2020-12-12 20:00:00</td>\n      <td>NaN</td>\n      <td>-0.088477</td>\n      <td>0.678519</td>\n      <td>6.358148</td>\n      <td>261.074074</td>\n      <td>0.007615</td>\n    </tr>\n    <tr>\n      <th>87687</th>\n      <td>Beijing</td>\n      <td>2020-12-31 14:00:00</td>\n      <td>NaN</td>\n      <td>-0.936420</td>\n      <td>0.072963</td>\n      <td>6.852963</td>\n      <td>278.740741</td>\n      <td>0.000000</td>\n    </tr>\n  </tbody>\n</table>\n<p>437 rows × 8 columns</p>\n</div>"
     },
     "metadata": {},
     "execution_count": 157
    }
   ],
   "source": [
    "missing_city_means[missing_city_means['device_id'] == 'Beijing']"
   ]
  },
  {
   "source": [
    "### Generate my own input data"
   ],
   "cell_type": "markdown",
   "metadata": {}
  },
  {
   "cell_type": "code",
   "execution_count": 31,
   "metadata": {},
   "outputs": [
    {
     "output_type": "execute_result",
     "data": {
      "text/plain": [
       "        device_id       lon      lat      city  \\\n",
       "0          dongsi  116.4170  39.9290   Beijing   \n",
       "1         tiantan  116.4070  39.8860   Beijing   \n",
       "2        guanyuan  116.3390  39.9290   Beijing   \n",
       "3   wanshouxigong  116.3520  39.8780   Beijing   \n",
       "4    aotizhongxin  116.3970  39.9820   Beijing   \n",
       "..            ...       ...      ...       ...   \n",
       "47          1076A  115.6906  37.7390  Hengshui   \n",
       "48          1077A  114.4821  37.0967   Xingtai   \n",
       "49          1078A  114.5261  37.0533   Xingtai   \n",
       "50          1079A  114.5331  37.0964   Xingtai   \n",
       "51          1080A  114.4854  37.0620   Xingtai   \n",
       "\n",
       "                                  device_name                    geometry  \n",
       "0                                         NaN  POINT (116.41700 39.92900)  \n",
       "1                                         NaN  POINT (116.40700 39.88600)  \n",
       "2                                         NaN  POINT (116.33900 39.92900)  \n",
       "3                                         NaN  POINT (116.35200 39.87800)  \n",
       "4                                         NaN  POINT (116.39700 39.98200)  \n",
       "..                                        ...                         ...  \n",
       "47  Municipal Environmental Protection Bureau  POINT (115.69060 37.73900)  \n",
       "48                               Dahuo Spring  POINT (114.48210 37.09670)  \n",
       "49                      Xing Teachers College  POINT (114.52610 37.05330)  \n",
       "50                    Road and Bridge Company  POINT (114.53310 37.09640)  \n",
       "51  Municipal Environmental Protection Bureau  POINT (114.48540 37.06200)  \n",
       "\n",
       "[87 rows x 6 columns]"
      ],
      "text/html": "<div>\n<style scoped>\n    .dataframe tbody tr th:only-of-type {\n        vertical-align: middle;\n    }\n\n    .dataframe tbody tr th {\n        vertical-align: top;\n    }\n\n    .dataframe thead th {\n        text-align: right;\n    }\n</style>\n<table border=\"1\" class=\"dataframe\">\n  <thead>\n    <tr style=\"text-align: right;\">\n      <th></th>\n      <th>device_id</th>\n      <th>lon</th>\n      <th>lat</th>\n      <th>city</th>\n      <th>device_name</th>\n      <th>geometry</th>\n    </tr>\n  </thead>\n  <tbody>\n    <tr>\n      <th>0</th>\n      <td>dongsi</td>\n      <td>116.4170</td>\n      <td>39.9290</td>\n      <td>Beijing</td>\n      <td>NaN</td>\n      <td>POINT (116.41700 39.92900)</td>\n    </tr>\n    <tr>\n      <th>1</th>\n      <td>tiantan</td>\n      <td>116.4070</td>\n      <td>39.8860</td>\n      <td>Beijing</td>\n      <td>NaN</td>\n      <td>POINT (116.40700 39.88600)</td>\n    </tr>\n    <tr>\n      <th>2</th>\n      <td>guanyuan</td>\n      <td>116.3390</td>\n      <td>39.9290</td>\n      <td>Beijing</td>\n      <td>NaN</td>\n      <td>POINT (116.33900 39.92900)</td>\n    </tr>\n    <tr>\n      <th>3</th>\n      <td>wanshouxigong</td>\n      <td>116.3520</td>\n      <td>39.8780</td>\n      <td>Beijing</td>\n      <td>NaN</td>\n      <td>POINT (116.35200 39.87800)</td>\n    </tr>\n    <tr>\n      <th>4</th>\n      <td>aotizhongxin</td>\n      <td>116.3970</td>\n      <td>39.9820</td>\n      <td>Beijing</td>\n      <td>NaN</td>\n      <td>POINT (116.39700 39.98200)</td>\n    </tr>\n    <tr>\n      <th>...</th>\n      <td>...</td>\n      <td>...</td>\n      <td>...</td>\n      <td>...</td>\n      <td>...</td>\n      <td>...</td>\n    </tr>\n    <tr>\n      <th>47</th>\n      <td>1076A</td>\n      <td>115.6906</td>\n      <td>37.7390</td>\n      <td>Hengshui</td>\n      <td>Municipal Environmental Protection Bureau</td>\n      <td>POINT (115.69060 37.73900)</td>\n    </tr>\n    <tr>\n      <th>48</th>\n      <td>1077A</td>\n      <td>114.4821</td>\n      <td>37.0967</td>\n      <td>Xingtai</td>\n      <td>Dahuo Spring</td>\n      <td>POINT (114.48210 37.09670)</td>\n    </tr>\n    <tr>\n      <th>49</th>\n      <td>1078A</td>\n      <td>114.5261</td>\n      <td>37.0533</td>\n      <td>Xingtai</td>\n      <td>Xing Teachers College</td>\n      <td>POINT (114.52610 37.05330)</td>\n    </tr>\n    <tr>\n      <th>50</th>\n      <td>1079A</td>\n      <td>114.5331</td>\n      <td>37.0964</td>\n      <td>Xingtai</td>\n      <td>Road and Bridge Company</td>\n      <td>POINT (114.53310 37.09640)</td>\n    </tr>\n    <tr>\n      <th>51</th>\n      <td>1080A</td>\n      <td>114.4854</td>\n      <td>37.0620</td>\n      <td>Xingtai</td>\n      <td>Municipal Environmental Protection Bureau</td>\n      <td>POINT (114.48540 37.06200)</td>\n    </tr>\n  </tbody>\n</table>\n<p>87 rows × 6 columns</p>\n</div>"
     },
     "metadata": {},
     "execution_count": 31
    }
   ],
   "source": [
    "meta"
   ]
  },
  {
   "cell_type": "code",
   "execution_count": 32,
   "metadata": {},
   "outputs": [],
   "source": [
    "cities_export = meta[['device_id', 'lon', 'lat']]"
   ]
  },
  {
   "cell_type": "code",
   "execution_count": 33,
   "metadata": {},
   "outputs": [],
   "source": [
    "with open(data_path + 'city_import.txt', 'w') as city_f:\n",
    "    city_f.write(cities_export.to_csv(sep=' ', header=False))"
   ]
  },
  {
   "source": [
    "### KnowAir.npy"
   ],
   "cell_type": "markdown",
   "metadata": {}
  },
  {
   "cell_type": "code",
   "execution_count": 34,
   "metadata": {},
   "outputs": [
    {
     "output_type": "execute_result",
     "data": {
      "text/plain": [
       "11688"
      ]
     },
     "metadata": {},
     "execution_count": 34
    }
   ],
   "source": [
    "know_air.shape[0]"
   ]
  },
  {
   "cell_type": "code",
   "execution_count": 35,
   "metadata": {},
   "outputs": [
    {
     "output_type": "execute_result",
     "data": {
      "text/plain": [
       "(Timedelta('1460 days 21:00:00'), 35064, 11688.0)"
      ]
     },
     "metadata": {},
     "execution_count": 35
    }
   ],
   "source": [
    "data_start = pd.to_datetime(\"2015-01-01 00:00\")\n",
    "data_end = pd.to_datetime(\"2018-12-31 21:00\")\n",
    "\n",
    "pd.Timedelta(data_end - data_start), (1460 * 24 + 21 + 3), (1460 * 24 + 21 + 3) / 3"
   ]
  },
  {
   "cell_type": "code",
   "execution_count": 36,
   "metadata": {},
   "outputs": [
    {
     "output_type": "execute_result",
     "data": {
      "text/plain": [
       "        co    no2    o3   pm10   pm25   so2                time device_id  \\\n",
       "0      3.4   98.0   2.0  209.0  200.0  31.0 2016-01-01 00:00:00    dongsi   \n",
       "1      3.4   97.0   3.0  203.0  193.0  46.0 2016-01-01 01:00:00    dongsi   \n",
       "2      3.7  102.0   3.0  237.0  219.0  49.0 2016-01-01 02:00:00    dongsi   \n",
       "3      3.1   94.0   3.0  196.0  187.0  40.0 2016-01-01 03:00:00    dongsi   \n",
       "4      3.1   91.0   2.0    NaN  160.0  35.0 2016-01-01 04:00:00    dongsi   \n",
       "...    ...    ...   ...    ...    ...   ...                 ...       ...   \n",
       "43844  0.8   42.0  29.0   61.0   30.0   8.0 2020-12-31 20:00:00     1080A   \n",
       "43845  0.7   50.0  21.0   62.0   28.0   8.0 2020-12-31 21:00:00     1080A   \n",
       "43846  0.7   57.0  13.0   58.0   27.0   9.0 2020-12-31 22:00:00     1080A   \n",
       "43847  0.8   62.0   8.0   60.0   27.0  10.0 2020-12-31 23:00:00     1080A   \n",
       "43848  1.1   62.0   8.0   89.0    NaN  11.0 2021-01-01 00:00:00     1080A   \n",
       "\n",
       "          city  temperature  humidity  windSpeed  windBearing  precipIntensity  \n",
       "0      Beijing          NaN       NaN        NaN          NaN              NaN  \n",
       "1      Beijing          NaN       NaN        NaN          NaN              NaN  \n",
       "2      Beijing          NaN       NaN        NaN          NaN              NaN  \n",
       "3      Beijing          NaN       NaN        NaN          NaN              NaN  \n",
       "4      Beijing          NaN       NaN        NaN          NaN              NaN  \n",
       "...        ...          ...       ...        ...          ...              ...  \n",
       "43844  Xingtai    -3.877778      0.16       4.47        227.0              0.0  \n",
       "43845  Xingtai    -4.450000      0.15       3.53        167.0              0.0  \n",
       "43846  Xingtai    -5.950000      0.18       3.24        355.0              0.0  \n",
       "43847  Xingtai    -7.233333      0.19       3.36        285.0              0.0  \n",
       "43848  Xingtai    -8.122222      0.20       3.56        286.0              0.0  \n",
       "\n",
       "[3814863 rows x 14 columns]"
      ],
      "text/html": "<div>\n<style scoped>\n    .dataframe tbody tr th:only-of-type {\n        vertical-align: middle;\n    }\n\n    .dataframe tbody tr th {\n        vertical-align: top;\n    }\n\n    .dataframe thead th {\n        text-align: right;\n    }\n</style>\n<table border=\"1\" class=\"dataframe\">\n  <thead>\n    <tr style=\"text-align: right;\">\n      <th></th>\n      <th>co</th>\n      <th>no2</th>\n      <th>o3</th>\n      <th>pm10</th>\n      <th>pm25</th>\n      <th>so2</th>\n      <th>time</th>\n      <th>device_id</th>\n      <th>city</th>\n      <th>temperature</th>\n      <th>humidity</th>\n      <th>windSpeed</th>\n      <th>windBearing</th>\n      <th>precipIntensity</th>\n    </tr>\n  </thead>\n  <tbody>\n    <tr>\n      <th>0</th>\n      <td>3.4</td>\n      <td>98.0</td>\n      <td>2.0</td>\n      <td>209.0</td>\n      <td>200.0</td>\n      <td>31.0</td>\n      <td>2016-01-01 00:00:00</td>\n      <td>dongsi</td>\n      <td>Beijing</td>\n      <td>NaN</td>\n      <td>NaN</td>\n      <td>NaN</td>\n      <td>NaN</td>\n      <td>NaN</td>\n    </tr>\n    <tr>\n      <th>1</th>\n      <td>3.4</td>\n      <td>97.0</td>\n      <td>3.0</td>\n      <td>203.0</td>\n      <td>193.0</td>\n      <td>46.0</td>\n      <td>2016-01-01 01:00:00</td>\n      <td>dongsi</td>\n      <td>Beijing</td>\n      <td>NaN</td>\n      <td>NaN</td>\n      <td>NaN</td>\n      <td>NaN</td>\n      <td>NaN</td>\n    </tr>\n    <tr>\n      <th>2</th>\n      <td>3.7</td>\n      <td>102.0</td>\n      <td>3.0</td>\n      <td>237.0</td>\n      <td>219.0</td>\n      <td>49.0</td>\n      <td>2016-01-01 02:00:00</td>\n      <td>dongsi</td>\n      <td>Beijing</td>\n      <td>NaN</td>\n      <td>NaN</td>\n      <td>NaN</td>\n      <td>NaN</td>\n      <td>NaN</td>\n    </tr>\n    <tr>\n      <th>3</th>\n      <td>3.1</td>\n      <td>94.0</td>\n      <td>3.0</td>\n      <td>196.0</td>\n      <td>187.0</td>\n      <td>40.0</td>\n      <td>2016-01-01 03:00:00</td>\n      <td>dongsi</td>\n      <td>Beijing</td>\n      <td>NaN</td>\n      <td>NaN</td>\n      <td>NaN</td>\n      <td>NaN</td>\n      <td>NaN</td>\n    </tr>\n    <tr>\n      <th>4</th>\n      <td>3.1</td>\n      <td>91.0</td>\n      <td>2.0</td>\n      <td>NaN</td>\n      <td>160.0</td>\n      <td>35.0</td>\n      <td>2016-01-01 04:00:00</td>\n      <td>dongsi</td>\n      <td>Beijing</td>\n      <td>NaN</td>\n      <td>NaN</td>\n      <td>NaN</td>\n      <td>NaN</td>\n      <td>NaN</td>\n    </tr>\n    <tr>\n      <th>...</th>\n      <td>...</td>\n      <td>...</td>\n      <td>...</td>\n      <td>...</td>\n      <td>...</td>\n      <td>...</td>\n      <td>...</td>\n      <td>...</td>\n      <td>...</td>\n      <td>...</td>\n      <td>...</td>\n      <td>...</td>\n      <td>...</td>\n      <td>...</td>\n    </tr>\n    <tr>\n      <th>43844</th>\n      <td>0.8</td>\n      <td>42.0</td>\n      <td>29.0</td>\n      <td>61.0</td>\n      <td>30.0</td>\n      <td>8.0</td>\n      <td>2020-12-31 20:00:00</td>\n      <td>1080A</td>\n      <td>Xingtai</td>\n      <td>-3.877778</td>\n      <td>0.16</td>\n      <td>4.47</td>\n      <td>227.0</td>\n      <td>0.0</td>\n    </tr>\n    <tr>\n      <th>43845</th>\n      <td>0.7</td>\n      <td>50.0</td>\n      <td>21.0</td>\n      <td>62.0</td>\n      <td>28.0</td>\n      <td>8.0</td>\n      <td>2020-12-31 21:00:00</td>\n      <td>1080A</td>\n      <td>Xingtai</td>\n      <td>-4.450000</td>\n      <td>0.15</td>\n      <td>3.53</td>\n      <td>167.0</td>\n      <td>0.0</td>\n    </tr>\n    <tr>\n      <th>43846</th>\n      <td>0.7</td>\n      <td>57.0</td>\n      <td>13.0</td>\n      <td>58.0</td>\n      <td>27.0</td>\n      <td>9.0</td>\n      <td>2020-12-31 22:00:00</td>\n      <td>1080A</td>\n      <td>Xingtai</td>\n      <td>-5.950000</td>\n      <td>0.18</td>\n      <td>3.24</td>\n      <td>355.0</td>\n      <td>0.0</td>\n    </tr>\n    <tr>\n      <th>43847</th>\n      <td>0.8</td>\n      <td>62.0</td>\n      <td>8.0</td>\n      <td>60.0</td>\n      <td>27.0</td>\n      <td>10.0</td>\n      <td>2020-12-31 23:00:00</td>\n      <td>1080A</td>\n      <td>Xingtai</td>\n      <td>-7.233333</td>\n      <td>0.19</td>\n      <td>3.36</td>\n      <td>285.0</td>\n      <td>0.0</td>\n    </tr>\n    <tr>\n      <th>43848</th>\n      <td>1.1</td>\n      <td>62.0</td>\n      <td>8.0</td>\n      <td>89.0</td>\n      <td>NaN</td>\n      <td>11.0</td>\n      <td>2021-01-01 00:00:00</td>\n      <td>1080A</td>\n      <td>Xingtai</td>\n      <td>-8.122222</td>\n      <td>0.20</td>\n      <td>3.56</td>\n      <td>286.0</td>\n      <td>0.0</td>\n    </tr>\n  </tbody>\n</table>\n<p>3814863 rows × 14 columns</p>\n</div>"
     },
     "metadata": {},
     "execution_count": 36
    }
   ],
   "source": [
    "all_df"
   ]
  },
  {
   "cell_type": "code",
   "execution_count": 57,
   "metadata": {},
   "outputs": [
    {
     "output_type": "execute_result",
     "data": {
      "text/plain": [
       "                    device_id                time  2m_temperature  \\\n",
       "time                                                                \n",
       "2016-01-01 00:00:00    dongsi 2016-01-01 00:00:00             NaN   \n",
       "2016-01-01 01:00:00    dongsi 2016-01-01 01:00:00             NaN   \n",
       "2016-01-01 02:00:00    dongsi 2016-01-01 02:00:00             NaN   \n",
       "2016-01-01 03:00:00    dongsi 2016-01-01 03:00:00             NaN   \n",
       "2016-01-01 04:00:00    dongsi 2016-01-01 04:00:00             NaN   \n",
       "...                       ...                 ...             ...   \n",
       "2020-12-31 20:00:00     1080A 2020-12-31 20:00:00       -3.877778   \n",
       "2020-12-31 21:00:00     1080A 2020-12-31 21:00:00       -4.450000   \n",
       "2020-12-31 22:00:00     1080A 2020-12-31 22:00:00       -5.950000   \n",
       "2020-12-31 23:00:00     1080A 2020-12-31 23:00:00       -7.233333   \n",
       "2021-01-01 00:00:00     1080A 2021-01-01 00:00:00       -8.122222   \n",
       "\n",
       "                     relative_humidity+950  total_precipitation  wind_speed  \\\n",
       "time                                                                          \n",
       "2016-01-01 00:00:00                    NaN                  NaN         NaN   \n",
       "2016-01-01 01:00:00                    NaN                  NaN         NaN   \n",
       "2016-01-01 02:00:00                    NaN                  NaN         NaN   \n",
       "2016-01-01 03:00:00                    NaN                  NaN         NaN   \n",
       "2016-01-01 04:00:00                    NaN                  NaN         NaN   \n",
       "...                                    ...                  ...         ...   \n",
       "2020-12-31 20:00:00                   16.0                  0.0        4.47   \n",
       "2020-12-31 21:00:00                   15.0                  0.0        3.53   \n",
       "2020-12-31 22:00:00                   18.0                  0.0        3.24   \n",
       "2020-12-31 23:00:00                   19.0                  0.0        3.36   \n",
       "2021-01-01 00:00:00                   20.0                  0.0        3.56   \n",
       "\n",
       "                     wind_direction   pm25  \n",
       "time                                        \n",
       "2016-01-01 00:00:00             NaN  200.0  \n",
       "2016-01-01 01:00:00             NaN  193.0  \n",
       "2016-01-01 02:00:00             NaN  219.0  \n",
       "2016-01-01 03:00:00             NaN  187.0  \n",
       "2016-01-01 04:00:00             NaN  160.0  \n",
       "...                             ...    ...  \n",
       "2020-12-31 20:00:00           227.0   30.0  \n",
       "2020-12-31 21:00:00           167.0   28.0  \n",
       "2020-12-31 22:00:00           355.0   27.0  \n",
       "2020-12-31 23:00:00           285.0   27.0  \n",
       "2021-01-01 00:00:00           286.0    NaN  \n",
       "\n",
       "[3814863 rows x 8 columns]"
      ],
      "text/html": "<div>\n<style scoped>\n    .dataframe tbody tr th:only-of-type {\n        vertical-align: middle;\n    }\n\n    .dataframe tbody tr th {\n        vertical-align: top;\n    }\n\n    .dataframe thead th {\n        text-align: right;\n    }\n</style>\n<table border=\"1\" class=\"dataframe\">\n  <thead>\n    <tr style=\"text-align: right;\">\n      <th></th>\n      <th>device_id</th>\n      <th>time</th>\n      <th>2m_temperature</th>\n      <th>relative_humidity+950</th>\n      <th>total_precipitation</th>\n      <th>wind_speed</th>\n      <th>wind_direction</th>\n      <th>pm25</th>\n    </tr>\n    <tr>\n      <th>time</th>\n      <th></th>\n      <th></th>\n      <th></th>\n      <th></th>\n      <th></th>\n      <th></th>\n      <th></th>\n      <th></th>\n    </tr>\n  </thead>\n  <tbody>\n    <tr>\n      <th>2016-01-01 00:00:00</th>\n      <td>dongsi</td>\n      <td>2016-01-01 00:00:00</td>\n      <td>NaN</td>\n      <td>NaN</td>\n      <td>NaN</td>\n      <td>NaN</td>\n      <td>NaN</td>\n      <td>200.0</td>\n    </tr>\n    <tr>\n      <th>2016-01-01 01:00:00</th>\n      <td>dongsi</td>\n      <td>2016-01-01 01:00:00</td>\n      <td>NaN</td>\n      <td>NaN</td>\n      <td>NaN</td>\n      <td>NaN</td>\n      <td>NaN</td>\n      <td>193.0</td>\n    </tr>\n    <tr>\n      <th>2016-01-01 02:00:00</th>\n      <td>dongsi</td>\n      <td>2016-01-01 02:00:00</td>\n      <td>NaN</td>\n      <td>NaN</td>\n      <td>NaN</td>\n      <td>NaN</td>\n      <td>NaN</td>\n      <td>219.0</td>\n    </tr>\n    <tr>\n      <th>2016-01-01 03:00:00</th>\n      <td>dongsi</td>\n      <td>2016-01-01 03:00:00</td>\n      <td>NaN</td>\n      <td>NaN</td>\n      <td>NaN</td>\n      <td>NaN</td>\n      <td>NaN</td>\n      <td>187.0</td>\n    </tr>\n    <tr>\n      <th>2016-01-01 04:00:00</th>\n      <td>dongsi</td>\n      <td>2016-01-01 04:00:00</td>\n      <td>NaN</td>\n      <td>NaN</td>\n      <td>NaN</td>\n      <td>NaN</td>\n      <td>NaN</td>\n      <td>160.0</td>\n    </tr>\n    <tr>\n      <th>...</th>\n      <td>...</td>\n      <td>...</td>\n      <td>...</td>\n      <td>...</td>\n      <td>...</td>\n      <td>...</td>\n      <td>...</td>\n      <td>...</td>\n    </tr>\n    <tr>\n      <th>2020-12-31 20:00:00</th>\n      <td>1080A</td>\n      <td>2020-12-31 20:00:00</td>\n      <td>-3.877778</td>\n      <td>16.0</td>\n      <td>0.0</td>\n      <td>4.47</td>\n      <td>227.0</td>\n      <td>30.0</td>\n    </tr>\n    <tr>\n      <th>2020-12-31 21:00:00</th>\n      <td>1080A</td>\n      <td>2020-12-31 21:00:00</td>\n      <td>-4.450000</td>\n      <td>15.0</td>\n      <td>0.0</td>\n      <td>3.53</td>\n      <td>167.0</td>\n      <td>28.0</td>\n    </tr>\n    <tr>\n      <th>2020-12-31 22:00:00</th>\n      <td>1080A</td>\n      <td>2020-12-31 22:00:00</td>\n      <td>-5.950000</td>\n      <td>18.0</td>\n      <td>0.0</td>\n      <td>3.24</td>\n      <td>355.0</td>\n      <td>27.0</td>\n    </tr>\n    <tr>\n      <th>2020-12-31 23:00:00</th>\n      <td>1080A</td>\n      <td>2020-12-31 23:00:00</td>\n      <td>-7.233333</td>\n      <td>19.0</td>\n      <td>0.0</td>\n      <td>3.36</td>\n      <td>285.0</td>\n      <td>27.0</td>\n    </tr>\n    <tr>\n      <th>2021-01-01 00:00:00</th>\n      <td>1080A</td>\n      <td>2021-01-01 00:00:00</td>\n      <td>-8.122222</td>\n      <td>20.0</td>\n      <td>0.0</td>\n      <td>3.56</td>\n      <td>286.0</td>\n      <td>NaN</td>\n    </tr>\n  </tbody>\n</table>\n<p>3814863 rows × 8 columns</p>\n</div>"
     },
     "metadata": {},
     "execution_count": 57
    }
   ],
   "source": [
    "export_df = pd.DataFrame()\n",
    "export_df['device_id'] = all_df['device_id']\n",
    "export_df['time'] = all_df['time']\n",
    "export_df['2m_temperature'] = all_df['temperature']\n",
    "export_df['relative_humidity+950'] = all_df['humidity'] * 100\n",
    "export_df['total_precipitation'] = all_df['precipIntensity']\n",
    "export_df['wind_speed'] = all_df['windSpeed']\n",
    "export_df['wind_direction'] = all_df['windBearing']\n",
    "export_df['pm25'] = all_df['pm25']\n",
    "export_df.index = all_df['time']\n",
    "\n",
    "\n",
    "\n",
    "export_df"
   ]
  },
  {
   "cell_type": "code",
   "execution_count": 58,
   "metadata": {},
   "outputs": [
    {
     "output_type": "execute_result",
     "data": {
      "text/plain": [
       "                    device_id                time  2m_temperature  \\\n",
       "time                                                                \n",
       "2016-01-01 02:00:00    dongsi 2016-01-01 02:00:00             NaN   \n",
       "2016-01-01 08:00:00    dongsi 2016-01-01 08:00:00             NaN   \n",
       "2016-01-01 14:00:00    dongsi 2016-01-01 14:00:00             NaN   \n",
       "2016-01-01 20:00:00    dongsi 2016-01-01 20:00:00             NaN   \n",
       "2016-01-02 02:00:00    dongsi 2016-01-02 02:00:00             NaN   \n",
       "...                       ...                 ...             ...   \n",
       "2020-12-30 20:00:00     1080A 2020-12-30 20:00:00       -6.988889   \n",
       "2020-12-31 02:00:00     1080A 2020-12-31 02:00:00      -10.472222   \n",
       "2020-12-31 08:00:00     1080A 2020-12-31 08:00:00      -11.605556   \n",
       "2020-12-31 14:00:00     1080A 2020-12-31 14:00:00        3.777778   \n",
       "2020-12-31 20:00:00     1080A 2020-12-31 20:00:00       -3.877778   \n",
       "\n",
       "                     relative_humidity+950  total_precipitation  wind_speed  \\\n",
       "time                                                                          \n",
       "2016-01-01 02:00:00                    NaN                  NaN         NaN   \n",
       "2016-01-01 08:00:00                    NaN                  NaN         NaN   \n",
       "2016-01-01 14:00:00                    NaN                  NaN         NaN   \n",
       "2016-01-01 20:00:00                    NaN                  NaN         NaN   \n",
       "2016-01-02 02:00:00                    NaN                  NaN         NaN   \n",
       "...                                    ...                  ...         ...   \n",
       "2020-12-30 20:00:00                   13.0                  0.0        3.59   \n",
       "2020-12-31 02:00:00                   16.0                  0.0        3.84   \n",
       "2020-12-31 08:00:00                   26.0                  0.0        3.18   \n",
       "2020-12-31 14:00:00                    5.0                  0.0        6.76   \n",
       "2020-12-31 20:00:00                   16.0                  0.0        4.47   \n",
       "\n",
       "                     wind_direction   pm25  \n",
       "time                                        \n",
       "2016-01-01 02:00:00             NaN  219.0  \n",
       "2016-01-01 08:00:00             NaN  106.0  \n",
       "2016-01-01 14:00:00             NaN  172.0  \n",
       "2016-01-01 20:00:00             NaN  260.0  \n",
       "2016-01-02 02:00:00             NaN  306.0  \n",
       "...                             ...    ...  \n",
       "2020-12-30 20:00:00           211.0   22.0  \n",
       "2020-12-31 02:00:00           237.0   56.0  \n",
       "2020-12-31 08:00:00           285.0   30.0  \n",
       "2020-12-31 14:00:00           179.0    9.0  \n",
       "2020-12-31 20:00:00           227.0   30.0  \n",
       "\n",
       "[635796 rows x 8 columns]"
      ],
      "text/html": "<div>\n<style scoped>\n    .dataframe tbody tr th:only-of-type {\n        vertical-align: middle;\n    }\n\n    .dataframe tbody tr th {\n        vertical-align: top;\n    }\n\n    .dataframe thead th {\n        text-align: right;\n    }\n</style>\n<table border=\"1\" class=\"dataframe\">\n  <thead>\n    <tr style=\"text-align: right;\">\n      <th></th>\n      <th>device_id</th>\n      <th>time</th>\n      <th>2m_temperature</th>\n      <th>relative_humidity+950</th>\n      <th>total_precipitation</th>\n      <th>wind_speed</th>\n      <th>wind_direction</th>\n      <th>pm25</th>\n    </tr>\n    <tr>\n      <th>time</th>\n      <th></th>\n      <th></th>\n      <th></th>\n      <th></th>\n      <th></th>\n      <th></th>\n      <th></th>\n      <th></th>\n    </tr>\n  </thead>\n  <tbody>\n    <tr>\n      <th>2016-01-01 02:00:00</th>\n      <td>dongsi</td>\n      <td>2016-01-01 02:00:00</td>\n      <td>NaN</td>\n      <td>NaN</td>\n      <td>NaN</td>\n      <td>NaN</td>\n      <td>NaN</td>\n      <td>219.0</td>\n    </tr>\n    <tr>\n      <th>2016-01-01 08:00:00</th>\n      <td>dongsi</td>\n      <td>2016-01-01 08:00:00</td>\n      <td>NaN</td>\n      <td>NaN</td>\n      <td>NaN</td>\n      <td>NaN</td>\n      <td>NaN</td>\n      <td>106.0</td>\n    </tr>\n    <tr>\n      <th>2016-01-01 14:00:00</th>\n      <td>dongsi</td>\n      <td>2016-01-01 14:00:00</td>\n      <td>NaN</td>\n      <td>NaN</td>\n      <td>NaN</td>\n      <td>NaN</td>\n      <td>NaN</td>\n      <td>172.0</td>\n    </tr>\n    <tr>\n      <th>2016-01-01 20:00:00</th>\n      <td>dongsi</td>\n      <td>2016-01-01 20:00:00</td>\n      <td>NaN</td>\n      <td>NaN</td>\n      <td>NaN</td>\n      <td>NaN</td>\n      <td>NaN</td>\n      <td>260.0</td>\n    </tr>\n    <tr>\n      <th>2016-01-02 02:00:00</th>\n      <td>dongsi</td>\n      <td>2016-01-02 02:00:00</td>\n      <td>NaN</td>\n      <td>NaN</td>\n      <td>NaN</td>\n      <td>NaN</td>\n      <td>NaN</td>\n      <td>306.0</td>\n    </tr>\n    <tr>\n      <th>...</th>\n      <td>...</td>\n      <td>...</td>\n      <td>...</td>\n      <td>...</td>\n      <td>...</td>\n      <td>...</td>\n      <td>...</td>\n      <td>...</td>\n    </tr>\n    <tr>\n      <th>2020-12-30 20:00:00</th>\n      <td>1080A</td>\n      <td>2020-12-30 20:00:00</td>\n      <td>-6.988889</td>\n      <td>13.0</td>\n      <td>0.0</td>\n      <td>3.59</td>\n      <td>211.0</td>\n      <td>22.0</td>\n    </tr>\n    <tr>\n      <th>2020-12-31 02:00:00</th>\n      <td>1080A</td>\n      <td>2020-12-31 02:00:00</td>\n      <td>-10.472222</td>\n      <td>16.0</td>\n      <td>0.0</td>\n      <td>3.84</td>\n      <td>237.0</td>\n      <td>56.0</td>\n    </tr>\n    <tr>\n      <th>2020-12-31 08:00:00</th>\n      <td>1080A</td>\n      <td>2020-12-31 08:00:00</td>\n      <td>-11.605556</td>\n      <td>26.0</td>\n      <td>0.0</td>\n      <td>3.18</td>\n      <td>285.0</td>\n      <td>30.0</td>\n    </tr>\n    <tr>\n      <th>2020-12-31 14:00:00</th>\n      <td>1080A</td>\n      <td>2020-12-31 14:00:00</td>\n      <td>3.777778</td>\n      <td>5.0</td>\n      <td>0.0</td>\n      <td>6.76</td>\n      <td>179.0</td>\n      <td>9.0</td>\n    </tr>\n    <tr>\n      <th>2020-12-31 20:00:00</th>\n      <td>1080A</td>\n      <td>2020-12-31 20:00:00</td>\n      <td>-3.877778</td>\n      <td>16.0</td>\n      <td>0.0</td>\n      <td>4.47</td>\n      <td>227.0</td>\n      <td>30.0</td>\n    </tr>\n  </tbody>\n</table>\n<p>635796 rows × 8 columns</p>\n</div>"
     },
     "metadata": {},
     "execution_count": 58
    }
   ],
   "source": [
    "# select only every third hour (that's how they use it in PM2.5-GNN) - use %2==2, since we have most data for (2:00, 5:00, 8:00, etc.)\n",
    "export_df = export_df[export_df.index.hour % 6 == 2]\n",
    "export_df"
   ]
  },
  {
   "cell_type": "code",
   "execution_count": 59,
   "metadata": {},
   "outputs": [
    {
     "output_type": "execute_result",
     "data": {
      "text/plain": [
       "                    device_id                time  2m_temperature  \\\n",
       "time                                                                \n",
       "2016-01-01 02:00:00  guanyuan 2016-01-01 02:00:00       -4.022222   \n",
       "2016-01-01 08:00:00  guanyuan 2016-01-01 08:00:00       -5.083333   \n",
       "2016-01-01 14:00:00  guanyuan 2016-01-01 14:00:00        4.616667   \n",
       "2016-01-01 20:00:00  guanyuan 2016-01-01 20:00:00       -0.227778   \n",
       "2016-01-02 02:00:00  guanyuan 2016-01-02 02:00:00       -2.961111   \n",
       "...                       ...                 ...             ...   \n",
       "2020-12-30 20:00:00     1079A 2020-12-30 20:00:00       -7.011111   \n",
       "2020-12-31 02:00:00     1079A 2020-12-31 02:00:00      -10.455556   \n",
       "2020-12-31 08:00:00     1079A 2020-12-31 08:00:00      -11.733333   \n",
       "2020-12-31 14:00:00     1079A 2020-12-31 14:00:00        3.594444   \n",
       "2020-12-31 20:00:00     1079A 2020-12-31 20:00:00       -3.922222   \n",
       "\n",
       "                     relative_humidity+950  total_precipitation  wind_speed  \\\n",
       "time                                                                          \n",
       "2016-01-01 02:00:00                   72.0                  0.0        2.04   \n",
       "2016-01-01 08:00:00                   77.0                  0.0        3.06   \n",
       "2016-01-01 14:00:00                   44.0                  0.0        2.04   \n",
       "2016-01-01 20:00:00                   66.0                  0.0        1.02   \n",
       "2016-01-02 02:00:00                   77.0                  0.0        2.04   \n",
       "...                                    ...                  ...         ...   \n",
       "2020-12-30 20:00:00                   13.0                  0.0        3.23   \n",
       "2020-12-31 02:00:00                   17.0                  0.0        3.68   \n",
       "2020-12-31 08:00:00                   26.0                  0.0        3.03   \n",
       "2020-12-31 14:00:00                    5.0                  0.0        6.97   \n",
       "2020-12-31 20:00:00                   17.0                  0.0        4.46   \n",
       "\n",
       "                     wind_direction   pm25  \n",
       "time                                        \n",
       "2016-01-01 02:00:00           350.0  181.0  \n",
       "2016-01-01 08:00:00           341.0  100.0  \n",
       "2016-01-01 14:00:00           300.0  155.0  \n",
       "2016-01-01 20:00:00            80.0  293.0  \n",
       "2016-01-02 02:00:00           330.0  287.0  \n",
       "...                             ...    ...  \n",
       "2020-12-30 20:00:00           205.0   26.0  \n",
       "2020-12-31 02:00:00           231.0   25.0  \n",
       "2020-12-31 08:00:00           280.0   34.0  \n",
       "2020-12-31 14:00:00           180.0    6.0  \n",
       "2020-12-31 20:00:00           215.0   27.0  \n",
       "\n",
       "[416556 rows x 8 columns]"
      ],
      "text/html": "<div>\n<style scoped>\n    .dataframe tbody tr th:only-of-type {\n        vertical-align: middle;\n    }\n\n    .dataframe tbody tr th {\n        vertical-align: top;\n    }\n\n    .dataframe thead th {\n        text-align: right;\n    }\n</style>\n<table border=\"1\" class=\"dataframe\">\n  <thead>\n    <tr style=\"text-align: right;\">\n      <th></th>\n      <th>device_id</th>\n      <th>time</th>\n      <th>2m_temperature</th>\n      <th>relative_humidity+950</th>\n      <th>total_precipitation</th>\n      <th>wind_speed</th>\n      <th>wind_direction</th>\n      <th>pm25</th>\n    </tr>\n    <tr>\n      <th>time</th>\n      <th></th>\n      <th></th>\n      <th></th>\n      <th></th>\n      <th></th>\n      <th></th>\n      <th></th>\n      <th></th>\n    </tr>\n  </thead>\n  <tbody>\n    <tr>\n      <th>2016-01-01 02:00:00</th>\n      <td>guanyuan</td>\n      <td>2016-01-01 02:00:00</td>\n      <td>-4.022222</td>\n      <td>72.0</td>\n      <td>0.0</td>\n      <td>2.04</td>\n      <td>350.0</td>\n      <td>181.0</td>\n    </tr>\n    <tr>\n      <th>2016-01-01 08:00:00</th>\n      <td>guanyuan</td>\n      <td>2016-01-01 08:00:00</td>\n      <td>-5.083333</td>\n      <td>77.0</td>\n      <td>0.0</td>\n      <td>3.06</td>\n      <td>341.0</td>\n      <td>100.0</td>\n    </tr>\n    <tr>\n      <th>2016-01-01 14:00:00</th>\n      <td>guanyuan</td>\n      <td>2016-01-01 14:00:00</td>\n      <td>4.616667</td>\n      <td>44.0</td>\n      <td>0.0</td>\n      <td>2.04</td>\n      <td>300.0</td>\n      <td>155.0</td>\n    </tr>\n    <tr>\n      <th>2016-01-01 20:00:00</th>\n      <td>guanyuan</td>\n      <td>2016-01-01 20:00:00</td>\n      <td>-0.227778</td>\n      <td>66.0</td>\n      <td>0.0</td>\n      <td>1.02</td>\n      <td>80.0</td>\n      <td>293.0</td>\n    </tr>\n    <tr>\n      <th>2016-01-02 02:00:00</th>\n      <td>guanyuan</td>\n      <td>2016-01-02 02:00:00</td>\n      <td>-2.961111</td>\n      <td>77.0</td>\n      <td>0.0</td>\n      <td>2.04</td>\n      <td>330.0</td>\n      <td>287.0</td>\n    </tr>\n    <tr>\n      <th>...</th>\n      <td>...</td>\n      <td>...</td>\n      <td>...</td>\n      <td>...</td>\n      <td>...</td>\n      <td>...</td>\n      <td>...</td>\n      <td>...</td>\n    </tr>\n    <tr>\n      <th>2020-12-30 20:00:00</th>\n      <td>1079A</td>\n      <td>2020-12-30 20:00:00</td>\n      <td>-7.011111</td>\n      <td>13.0</td>\n      <td>0.0</td>\n      <td>3.23</td>\n      <td>205.0</td>\n      <td>26.0</td>\n    </tr>\n    <tr>\n      <th>2020-12-31 02:00:00</th>\n      <td>1079A</td>\n      <td>2020-12-31 02:00:00</td>\n      <td>-10.455556</td>\n      <td>17.0</td>\n      <td>0.0</td>\n      <td>3.68</td>\n      <td>231.0</td>\n      <td>25.0</td>\n    </tr>\n    <tr>\n      <th>2020-12-31 08:00:00</th>\n      <td>1079A</td>\n      <td>2020-12-31 08:00:00</td>\n      <td>-11.733333</td>\n      <td>26.0</td>\n      <td>0.0</td>\n      <td>3.03</td>\n      <td>280.0</td>\n      <td>34.0</td>\n    </tr>\n    <tr>\n      <th>2020-12-31 14:00:00</th>\n      <td>1079A</td>\n      <td>2020-12-31 14:00:00</td>\n      <td>3.594444</td>\n      <td>5.0</td>\n      <td>0.0</td>\n      <td>6.97</td>\n      <td>180.0</td>\n      <td>6.0</td>\n    </tr>\n    <tr>\n      <th>2020-12-31 20:00:00</th>\n      <td>1079A</td>\n      <td>2020-12-31 20:00:00</td>\n      <td>-3.922222</td>\n      <td>17.0</td>\n      <td>0.0</td>\n      <td>4.46</td>\n      <td>215.0</td>\n      <td>27.0</td>\n    </tr>\n  </tbody>\n</table>\n<p>416556 rows × 8 columns</p>\n</div>"
     },
     "metadata": {},
     "execution_count": 59
    }
   ],
   "source": [
    "# filter out devices with a lot of missing data\n",
    "filter_devices = ['dongsi', 'zhiwuyuan', '1058A', '1036A', '1039A', 'tiantan', '1080A']\n",
    "filter_devices.extend(no_weather_devices)\n",
    "\n",
    "export_df = export_df[~export_df['device_id'].isin(filter_devices)]\n",
    "export_df"
   ]
  },
  {
   "cell_type": "code",
   "execution_count": 60,
   "metadata": {},
   "outputs": [
    {
     "output_type": "execute_result",
     "data": {
      "text/plain": [
       "                    device_id                time  2m_temperature  \\\n",
       "time                                                                \n",
       "2016-03-08 02:00:00  guanyuan 2016-03-08 02:00:00        0.233333   \n",
       "2016-03-15 14:00:00  guanyuan 2016-03-15 14:00:00       11.733333   \n",
       "2016-04-02 14:00:00  guanyuan 2016-04-02 14:00:00       17.866667   \n",
       "2016-04-03 14:00:00  guanyuan 2016-04-03 14:00:00       18.866667   \n",
       "2016-04-18 08:00:00  guanyuan 2016-04-18 08:00:00       13.866667   \n",
       "...                       ...                 ...             ...   \n",
       "2020-10-27 02:00:00     1079A 2020-10-27 02:00:00       13.944444   \n",
       "2020-10-28 14:00:00     1079A 2020-10-28 14:00:00       18.127778   \n",
       "2020-11-04 14:00:00     1079A 2020-11-04 14:00:00       21.116667   \n",
       "2020-12-25 20:00:00     1079A 2020-12-25 20:00:00        2.794444   \n",
       "2020-12-27 02:00:00     1079A 2020-12-27 02:00:00       -3.416667   \n",
       "\n",
       "                     relative_humidity+950  total_precipitation  wind_speed  \\\n",
       "time                                                                          \n",
       "2016-03-08 02:00:00                   22.0                  0.0        7.28   \n",
       "2016-03-15 14:00:00                   35.0                  0.0        4.08   \n",
       "2016-04-02 14:00:00                   14.0                  0.0       15.65   \n",
       "2016-04-03 14:00:00                   11.0                  0.0        4.48   \n",
       "2016-04-18 08:00:00                   31.0                  0.0        6.72   \n",
       "...                                    ...                  ...         ...   \n",
       "2020-10-27 02:00:00                   61.0                  0.0        9.54   \n",
       "2020-10-28 14:00:00                   15.0                  0.0        3.36   \n",
       "2020-11-04 14:00:00                   13.0                  0.0       12.85   \n",
       "2020-12-25 20:00:00                   31.0                  0.0        4.62   \n",
       "2020-12-27 02:00:00                   56.0                  0.0        3.94   \n",
       "\n",
       "                     wind_direction  pm25  \n",
       "time                                       \n",
       "2016-03-08 02:00:00            41.0   NaN  \n",
       "2016-03-15 14:00:00           200.0   NaN  \n",
       "2016-04-02 14:00:00           290.0   NaN  \n",
       "2016-04-03 14:00:00           180.0   NaN  \n",
       "2016-04-18 08:00:00             0.0   NaN  \n",
       "...                             ...   ...  \n",
       "2020-10-27 02:00:00             2.0   NaN  \n",
       "2020-10-28 14:00:00           139.0   NaN  \n",
       "2020-11-04 14:00:00           176.0   NaN  \n",
       "2020-12-25 20:00:00           343.0   NaN  \n",
       "2020-12-27 02:00:00           348.0   NaN  \n",
       "\n",
       "[67863 rows x 8 columns]"
      ],
      "text/html": "<div>\n<style scoped>\n    .dataframe tbody tr th:only-of-type {\n        vertical-align: middle;\n    }\n\n    .dataframe tbody tr th {\n        vertical-align: top;\n    }\n\n    .dataframe thead th {\n        text-align: right;\n    }\n</style>\n<table border=\"1\" class=\"dataframe\">\n  <thead>\n    <tr style=\"text-align: right;\">\n      <th></th>\n      <th>device_id</th>\n      <th>time</th>\n      <th>2m_temperature</th>\n      <th>relative_humidity+950</th>\n      <th>total_precipitation</th>\n      <th>wind_speed</th>\n      <th>wind_direction</th>\n      <th>pm25</th>\n    </tr>\n    <tr>\n      <th>time</th>\n      <th></th>\n      <th></th>\n      <th></th>\n      <th></th>\n      <th></th>\n      <th></th>\n      <th></th>\n      <th></th>\n    </tr>\n  </thead>\n  <tbody>\n    <tr>\n      <th>2016-03-08 02:00:00</th>\n      <td>guanyuan</td>\n      <td>2016-03-08 02:00:00</td>\n      <td>0.233333</td>\n      <td>22.0</td>\n      <td>0.0</td>\n      <td>7.28</td>\n      <td>41.0</td>\n      <td>NaN</td>\n    </tr>\n    <tr>\n      <th>2016-03-15 14:00:00</th>\n      <td>guanyuan</td>\n      <td>2016-03-15 14:00:00</td>\n      <td>11.733333</td>\n      <td>35.0</td>\n      <td>0.0</td>\n      <td>4.08</td>\n      <td>200.0</td>\n      <td>NaN</td>\n    </tr>\n    <tr>\n      <th>2016-04-02 14:00:00</th>\n      <td>guanyuan</td>\n      <td>2016-04-02 14:00:00</td>\n      <td>17.866667</td>\n      <td>14.0</td>\n      <td>0.0</td>\n      <td>15.65</td>\n      <td>290.0</td>\n      <td>NaN</td>\n    </tr>\n    <tr>\n      <th>2016-04-03 14:00:00</th>\n      <td>guanyuan</td>\n      <td>2016-04-03 14:00:00</td>\n      <td>18.866667</td>\n      <td>11.0</td>\n      <td>0.0</td>\n      <td>4.48</td>\n      <td>180.0</td>\n      <td>NaN</td>\n    </tr>\n    <tr>\n      <th>2016-04-18 08:00:00</th>\n      <td>guanyuan</td>\n      <td>2016-04-18 08:00:00</td>\n      <td>13.866667</td>\n      <td>31.0</td>\n      <td>0.0</td>\n      <td>6.72</td>\n      <td>0.0</td>\n      <td>NaN</td>\n    </tr>\n    <tr>\n      <th>...</th>\n      <td>...</td>\n      <td>...</td>\n      <td>...</td>\n      <td>...</td>\n      <td>...</td>\n      <td>...</td>\n      <td>...</td>\n      <td>...</td>\n    </tr>\n    <tr>\n      <th>2020-10-27 02:00:00</th>\n      <td>1079A</td>\n      <td>2020-10-27 02:00:00</td>\n      <td>13.944444</td>\n      <td>61.0</td>\n      <td>0.0</td>\n      <td>9.54</td>\n      <td>2.0</td>\n      <td>NaN</td>\n    </tr>\n    <tr>\n      <th>2020-10-28 14:00:00</th>\n      <td>1079A</td>\n      <td>2020-10-28 14:00:00</td>\n      <td>18.127778</td>\n      <td>15.0</td>\n      <td>0.0</td>\n      <td>3.36</td>\n      <td>139.0</td>\n      <td>NaN</td>\n    </tr>\n    <tr>\n      <th>2020-11-04 14:00:00</th>\n      <td>1079A</td>\n      <td>2020-11-04 14:00:00</td>\n      <td>21.116667</td>\n      <td>13.0</td>\n      <td>0.0</td>\n      <td>12.85</td>\n      <td>176.0</td>\n      <td>NaN</td>\n    </tr>\n    <tr>\n      <th>2020-12-25 20:00:00</th>\n      <td>1079A</td>\n      <td>2020-12-25 20:00:00</td>\n      <td>2.794444</td>\n      <td>31.0</td>\n      <td>0.0</td>\n      <td>4.62</td>\n      <td>343.0</td>\n      <td>NaN</td>\n    </tr>\n    <tr>\n      <th>2020-12-27 02:00:00</th>\n      <td>1079A</td>\n      <td>2020-12-27 02:00:00</td>\n      <td>-3.416667</td>\n      <td>56.0</td>\n      <td>0.0</td>\n      <td>3.94</td>\n      <td>348.0</td>\n      <td>NaN</td>\n    </tr>\n  </tbody>\n</table>\n<p>67863 rows × 8 columns</p>\n</div>"
     },
     "metadata": {},
     "execution_count": 60
    }
   ],
   "source": [
    "mask = export_df.isnull().any(axis=1)\n",
    "export_df[mask]"
   ]
  },
  {
   "cell_type": "code",
   "execution_count": 56,
   "metadata": {},
   "outputs": [],
   "source": [
    "# export_df[mask][export_df[mask].index.hour != 23]"
   ]
  },
  {
   "cell_type": "code",
   "execution_count": 61,
   "metadata": {},
   "outputs": [
    {
     "output_type": "display_data",
     "data": {
      "text/plain": "<Figure size 1440x720 with 1 Axes>",
      "image/svg+xml": "<?xml version=\"1.0\" encoding=\"utf-8\" standalone=\"no\"?>\n<!DOCTYPE svg PUBLIC \"-//W3C//DTD SVG 1.1//EN\"\n  \"http://www.w3.org/Graphics/SVG/1.1/DTD/svg11.dtd\">\n<!-- Created with matplotlib (https://matplotlib.org/) -->\n<svg height=\"649.035938pt\" version=\"1.1\" viewBox=\"0 0 1162.85 649.035938\" width=\"1162.85pt\" xmlns=\"http://www.w3.org/2000/svg\" xmlns:xlink=\"http://www.w3.org/1999/xlink\">\n <metadata>\n  <rdf:RDF xmlns:cc=\"http://creativecommons.org/ns#\" xmlns:dc=\"http://purl.org/dc/elements/1.1/\" xmlns:rdf=\"http://www.w3.org/1999/02/22-rdf-syntax-ns#\">\n   <cc:Work>\n    <dc:type rdf:resource=\"http://purl.org/dc/dcmitype/StillImage\"/>\n    <dc:date>2021-02-21T10:59:23.862887</dc:date>\n    <dc:format>image/svg+xml</dc:format>\n    <dc:creator>\n     <cc:Agent>\n      <dc:title>Matplotlib v3.3.3, https://matplotlib.org/</dc:title>\n     </cc:Agent>\n    </dc:creator>\n   </cc:Work>\n  </rdf:RDF>\n </metadata>\n <defs>\n  <style type=\"text/css\">*{stroke-linecap:butt;stroke-linejoin:round;}</style>\n </defs>\n <g id=\"figure_1\">\n  <g id=\"patch_1\">\n   <path d=\"M 0 649.035938 \nL 1162.85 649.035938 \nL 1162.85 0 \nL 0 0 \nz\n\" style=\"fill:none;\"/>\n  </g>\n  <g id=\"axes_1\">\n   <g id=\"patch_2\">\n    <path d=\"M 39.65 550.8 \nL 1155.65 550.8 \nL 1155.65 7.2 \nL 39.65 7.2 \nz\n\" style=\"fill:#ffffff;\"/>\n   </g>\n   <g id=\"patch_3\">\n    <path clip-path=\"url(#pc17b191d2b)\" d=\"M 90.377273 550.8 \nL 104.666645 550.8 \nL 104.666645 118.09627 \nL 90.377273 118.09627 \nz\n\" style=\"fill:#1f77b4;\"/>\n   </g>\n   <g id=\"patch_4\">\n    <path clip-path=\"url(#pc17b191d2b)\" d=\"M 108.238988 550.8 \nL 122.528361 550.8 \nL 122.528361 115.829322 \nL 108.238988 115.829322 \nz\n\" style=\"fill:#1f77b4;\"/>\n   </g>\n   <g id=\"patch_5\">\n    <path clip-path=\"url(#pc17b191d2b)\" d=\"M 126.100704 550.8 \nL 140.390077 550.8 \nL 140.390077 115.545954 \nL 126.100704 115.545954 \nz\n\" style=\"fill:#1f77b4;\"/>\n   </g>\n   <g id=\"patch_6\">\n    <path clip-path=\"url(#pc17b191d2b)\" d=\"M 143.96242 550.8 \nL 158.251793 550.8 \nL 158.251793 121.496692 \nL 143.96242 121.496692 \nz\n\" style=\"fill:#1f77b4;\"/>\n   </g>\n   <g id=\"patch_7\">\n    <path clip-path=\"url(#pc17b191d2b)\" d=\"M 161.824136 550.8 \nL 176.113508 550.8 \nL 176.113508 102.511002 \nL 161.824136 102.511002 \nz\n\" style=\"fill:#1f77b4;\"/>\n   </g>\n   <g id=\"patch_8\">\n    <path clip-path=\"url(#pc17b191d2b)\" d=\"M 179.685851 550.8 \nL 193.975224 550.8 \nL 193.975224 114.129111 \nL 179.685851 114.129111 \nz\n\" style=\"fill:#1f77b4;\"/>\n   </g>\n   <g id=\"patch_9\">\n    <path clip-path=\"url(#pc17b191d2b)\" d=\"M 197.547567 550.8 \nL 211.83694 550.8 \nL 211.83694 97.410368 \nL 197.547567 97.410368 \nz\n\" style=\"fill:#1f77b4;\"/>\n   </g>\n   <g id=\"patch_10\">\n    <path clip-path=\"url(#pc17b191d2b)\" d=\"M 215.409283 550.8 \nL 229.698656 550.8 \nL 229.698656 126.313957 \nL 215.409283 126.313957 \nz\n\" style=\"fill:#1f77b4;\"/>\n   </g>\n   <g id=\"patch_11\">\n    <path clip-path=\"url(#pc17b191d2b)\" d=\"M 233.270999 550.8 \nL 247.560371 550.8 \nL 247.560371 110.161952 \nL 233.270999 110.161952 \nz\n\" style=\"fill:#1f77b4;\"/>\n   </g>\n   <g id=\"patch_12\">\n    <path clip-path=\"url(#pc17b191d2b)\" d=\"M 251.132714 550.8 \nL 265.422087 550.8 \nL 265.422087 101.660896 \nL 251.132714 101.660896 \nz\n\" style=\"fill:#1f77b4;\"/>\n   </g>\n   <g id=\"patch_13\">\n    <path clip-path=\"url(#pc17b191d2b)\" d=\"M 268.99443 550.8 \nL 283.283803 550.8 \nL 283.283803 126.313957 \nL 268.99443 126.313957 \nz\n\" style=\"fill:#1f77b4;\"/>\n   </g>\n   <g id=\"patch_14\">\n    <path clip-path=\"url(#pc17b191d2b)\" d=\"M 286.856146 550.8 \nL 301.145519 550.8 \nL 301.145519 122.346798 \nL 286.856146 122.346798 \nz\n\" style=\"fill:#1f77b4;\"/>\n   </g>\n   <g id=\"patch_15\">\n    <path clip-path=\"url(#pc17b191d2b)\" d=\"M 304.717862 550.8 \nL 319.007234 550.8 \nL 319.007234 71.623833 \nL 304.717862 71.623833 \nz\n\" style=\"fill:#1f77b4;\"/>\n   </g>\n   <g id=\"patch_16\">\n    <path clip-path=\"url(#pc17b191d2b)\" d=\"M 322.579577 550.8 \nL 336.86895 550.8 \nL 336.86895 116.396059 \nL 322.579577 116.396059 \nz\n\" style=\"fill:#1f77b4;\"/>\n   </g>\n   <g id=\"patch_17\">\n    <path clip-path=\"url(#pc17b191d2b)\" d=\"M 340.441293 550.8 \nL 354.730666 550.8 \nL 354.730666 89.192681 \nL 340.441293 89.192681 \nz\n\" style=\"fill:#1f77b4;\"/>\n   </g>\n   <g id=\"patch_18\">\n    <path clip-path=\"url(#pc17b191d2b)\" d=\"M 358.303009 550.8 \nL 372.592382 550.8 \nL 372.592382 118.946376 \nL 358.303009 118.946376 \nz\n\" style=\"fill:#1f77b4;\"/>\n   </g>\n   <g id=\"patch_19\">\n    <path clip-path=\"url(#pc17b191d2b)\" d=\"M 376.164725 550.8 \nL 390.454097 550.8 \nL 390.454097 116.962796 \nL 376.164725 116.962796 \nz\n\" style=\"fill:#1f77b4;\"/>\n   </g>\n   <g id=\"patch_20\">\n    <path clip-path=\"url(#pc17b191d2b)\" d=\"M 394.02644 550.8 \nL 408.315813 550.8 \nL 408.315813 105.061318 \nL 394.02644 105.061318 \nz\n\" style=\"fill:#1f77b4;\"/>\n   </g>\n   <g id=\"patch_21\">\n    <path clip-path=\"url(#pc17b191d2b)\" d=\"M 411.888156 550.8 \nL 426.177529 550.8 \nL 426.177529 33.085714 \nL 411.888156 33.085714 \nz\n\" style=\"fill:#1f77b4;\"/>\n   </g>\n   <g id=\"patch_22\">\n    <path clip-path=\"url(#pc17b191d2b)\" d=\"M 429.749872 550.8 \nL 444.039245 550.8 \nL 444.039245 111.578794 \nL 429.749872 111.578794 \nz\n\" style=\"fill:#1f77b4;\"/>\n   </g>\n   <g id=\"patch_23\">\n    <path clip-path=\"url(#pc17b191d2b)\" d=\"M 447.611588 550.8 \nL 461.90096 550.8 \nL 461.90096 80.691626 \nL 447.611588 80.691626 \nz\n\" style=\"fill:#1f77b4;\"/>\n   </g>\n   <g id=\"patch_24\">\n    <path clip-path=\"url(#pc17b191d2b)\" d=\"M 465.473303 550.8 \nL 479.762676 550.8 \nL 479.762676 122.630167 \nL 465.473303 122.630167 \nz\n\" style=\"fill:#1f77b4;\"/>\n   </g>\n   <g id=\"patch_25\">\n    <path clip-path=\"url(#pc17b191d2b)\" d=\"M 483.335019 550.8 \nL 497.624392 550.8 \nL 497.624392 118.663007 \nL 483.335019 118.663007 \nz\n\" style=\"fill:#1f77b4;\"/>\n   </g>\n   <g id=\"patch_26\">\n    <path clip-path=\"url(#pc17b191d2b)\" d=\"M 501.196735 550.8 \nL 515.486108 550.8 \nL 515.486108 122.913535 \nL 501.196735 122.913535 \nz\n\" style=\"fill:#1f77b4;\"/>\n   </g>\n   <g id=\"patch_27\">\n    <path clip-path=\"url(#pc17b191d2b)\" d=\"M 519.058451 550.8 \nL 533.347823 550.8 \nL 533.347823 111.012057 \nL 519.058451 111.012057 \nz\n\" style=\"fill:#1f77b4;\"/>\n   </g>\n   <g id=\"patch_28\">\n    <path clip-path=\"url(#pc17b191d2b)\" d=\"M 536.920166 550.8 \nL 551.209539 550.8 \nL 551.209539 78.991414 \nL 536.920166 78.991414 \nz\n\" style=\"fill:#1f77b4;\"/>\n   </g>\n   <g id=\"patch_29\">\n    <path clip-path=\"url(#pc17b191d2b)\" d=\"M 554.781882 550.8 \nL 569.071255 550.8 \nL 569.071255 109.878583 \nL 554.781882 109.878583 \nz\n\" style=\"fill:#1f77b4;\"/>\n   </g>\n   <g id=\"patch_30\">\n    <path clip-path=\"url(#pc17b191d2b)\" d=\"M 572.643598 550.8 \nL 586.932971 550.8 \nL 586.932971 108.178372 \nL 572.643598 108.178372 \nz\n\" style=\"fill:#1f77b4;\"/>\n   </g>\n   <g id=\"patch_31\">\n    <path clip-path=\"url(#pc17b191d2b)\" d=\"M 590.505314 550.8 \nL 604.794686 550.8 \nL 604.794686 118.946376 \nL 590.505314 118.946376 \nz\n\" style=\"fill:#1f77b4;\"/>\n   </g>\n   <g id=\"patch_32\">\n    <path clip-path=\"url(#pc17b191d2b)\" d=\"M 608.367029 550.8 \nL 622.656402 550.8 \nL 622.656402 98.543842 \nL 608.367029 98.543842 \nz\n\" style=\"fill:#1f77b4;\"/>\n   </g>\n   <g id=\"patch_33\">\n    <path clip-path=\"url(#pc17b191d2b)\" d=\"M 626.228745 550.8 \nL 640.518118 550.8 \nL 640.518118 79.84152 \nL 626.228745 79.84152 \nz\n\" style=\"fill:#1f77b4;\"/>\n   </g>\n   <g id=\"patch_34\">\n    <path clip-path=\"url(#pc17b191d2b)\" d=\"M 644.090461 550.8 \nL 658.379834 550.8 \nL 658.379834 100.810791 \nL 644.090461 100.810791 \nz\n\" style=\"fill:#1f77b4;\"/>\n   </g>\n   <g id=\"patch_35\">\n    <path clip-path=\"url(#pc17b191d2b)\" d=\"M 661.952177 550.8 \nL 676.241549 550.8 \nL 676.241549 392.963734 \nL 661.952177 392.963734 \nz\n\" style=\"fill:#1f77b4;\"/>\n   </g>\n   <g id=\"patch_36\">\n    <path clip-path=\"url(#pc17b191d2b)\" d=\"M 679.813892 550.8 \nL 694.103265 550.8 \nL 694.103265 339.123716 \nL 679.813892 339.123716 \nz\n\" style=\"fill:#1f77b4;\"/>\n   </g>\n   <g id=\"patch_37\">\n    <path clip-path=\"url(#pc17b191d2b)\" d=\"M 697.675608 550.8 \nL 711.964981 550.8 \nL 711.964981 391.546892 \nL 697.675608 391.546892 \nz\n\" style=\"fill:#1f77b4;\"/>\n   </g>\n   <g id=\"patch_38\">\n    <path clip-path=\"url(#pc17b191d2b)\" d=\"M 715.537324 550.8 \nL 729.826697 550.8 \nL 729.826697 357.826038 \nL 715.537324 357.826038 \nz\n\" style=\"fill:#1f77b4;\"/>\n   </g>\n   <g id=\"patch_39\">\n    <path clip-path=\"url(#pc17b191d2b)\" d=\"M 733.39904 550.8 \nL 747.688412 550.8 \nL 747.688412 389.279944 \nL 733.39904 389.279944 \nz\n\" style=\"fill:#1f77b4;\"/>\n   </g>\n   <g id=\"patch_40\">\n    <path clip-path=\"url(#pc17b191d2b)\" d=\"M 751.260755 550.8 \nL 765.550128 550.8 \nL 765.550128 239.094628 \nL 751.260755 239.094628 \nz\n\" style=\"fill:#1f77b4;\"/>\n   </g>\n   <g id=\"patch_41\">\n    <path clip-path=\"url(#pc17b191d2b)\" d=\"M 769.122471 550.8 \nL 783.411844 550.8 \nL 783.411844 259.78053 \nL 769.122471 259.78053 \nz\n\" style=\"fill:#1f77b4;\"/>\n   </g>\n   <g id=\"patch_42\">\n    <path clip-path=\"url(#pc17b191d2b)\" d=\"M 786.984187 550.8 \nL 801.27356 550.8 \nL 801.27356 355.842458 \nL 786.984187 355.842458 \nz\n\" style=\"fill:#1f77b4;\"/>\n   </g>\n   <g id=\"patch_43\">\n    <path clip-path=\"url(#pc17b191d2b)\" d=\"M 804.845903 550.8 \nL 819.135275 550.8 \nL 819.135275 387.863101 \nL 804.845903 387.863101 \nz\n\" style=\"fill:#1f77b4;\"/>\n   </g>\n   <g id=\"patch_44\">\n    <path clip-path=\"url(#pc17b191d2b)\" d=\"M 822.707618 550.8 \nL 836.996991 550.8 \nL 836.996991 387.579733 \nL 822.707618 387.579733 \nz\n\" style=\"fill:#1f77b4;\"/>\n   </g>\n   <g id=\"patch_45\">\n    <path clip-path=\"url(#pc17b191d2b)\" d=\"M 840.569334 550.8 \nL 854.858707 550.8 \nL 854.858707 377.661834 \nL 840.569334 377.661834 \nz\n\" style=\"fill:#1f77b4;\"/>\n   </g>\n   <g id=\"patch_46\">\n    <path clip-path=\"url(#pc17b191d2b)\" d=\"M 858.43105 550.8 \nL 872.720423 550.8 \nL 872.720423 385.312784 \nL 858.43105 385.312784 \nz\n\" style=\"fill:#1f77b4;\"/>\n   </g>\n   <g id=\"patch_47\">\n    <path clip-path=\"url(#pc17b191d2b)\" d=\"M 876.292766 550.8 \nL 890.582138 550.8 \nL 890.582138 235.127469 \nL 876.292766 235.127469 \nz\n\" style=\"fill:#1f77b4;\"/>\n   </g>\n   <g id=\"patch_48\">\n    <path clip-path=\"url(#pc17b191d2b)\" d=\"M 894.154481 550.8 \nL 908.443854 550.8 \nL 908.443854 387.863101 \nL 894.154481 387.863101 \nz\n\" style=\"fill:#1f77b4;\"/>\n   </g>\n   <g id=\"patch_49\">\n    <path clip-path=\"url(#pc17b191d2b)\" d=\"M 912.016197 550.8 \nL 926.30557 550.8 \nL 926.30557 383.329205 \nL 912.016197 383.329205 \nz\n\" style=\"fill:#1f77b4;\"/>\n   </g>\n   <g id=\"patch_50\">\n    <path clip-path=\"url(#pc17b191d2b)\" d=\"M 929.877913 550.8 \nL 944.167286 550.8 \nL 944.167286 315.037392 \nL 929.877913 315.037392 \nz\n\" style=\"fill:#1f77b4;\"/>\n   </g>\n   <g id=\"patch_51\">\n    <path clip-path=\"url(#pc17b191d2b)\" d=\"M 947.739629 550.8 \nL 962.029001 550.8 \nL 962.029001 377.945203 \nL 947.739629 377.945203 \nz\n\" style=\"fill:#1f77b4;\"/>\n   </g>\n   <g id=\"patch_52\">\n    <path clip-path=\"url(#pc17b191d2b)\" d=\"M 965.601344 550.8 \nL 979.890717 550.8 \nL 979.890717 227.759887 \nL 965.601344 227.759887 \nz\n\" style=\"fill:#1f77b4;\"/>\n   </g>\n   <g id=\"patch_53\">\n    <path clip-path=\"url(#pc17b191d2b)\" d=\"M 983.46306 550.8 \nL 997.752433 550.8 \nL 997.752433 389.279944 \nL 983.46306 389.279944 \nz\n\" style=\"fill:#1f77b4;\"/>\n   </g>\n   <g id=\"patch_54\">\n    <path clip-path=\"url(#pc17b191d2b)\" d=\"M 1001.324776 550.8 \nL 1015.614149 550.8 \nL 1015.614149 384.17931 \nL 1001.324776 384.17931 \nz\n\" style=\"fill:#1f77b4;\"/>\n   </g>\n   <g id=\"patch_55\">\n    <path clip-path=\"url(#pc17b191d2b)\" d=\"M 1019.186492 550.8 \nL 1033.475864 550.8 \nL 1033.475864 361.793197 \nL 1019.186492 361.793197 \nz\n\" style=\"fill:#1f77b4;\"/>\n   </g>\n   <g id=\"patch_56\">\n    <path clip-path=\"url(#pc17b191d2b)\" d=\"M 1037.048207 550.8 \nL 1051.33758 550.8 \nL 1051.33758 383.329205 \nL 1037.048207 383.329205 \nz\n\" style=\"fill:#1f77b4;\"/>\n   </g>\n   <g id=\"patch_57\">\n    <path clip-path=\"url(#pc17b191d2b)\" d=\"M 1054.909923 550.8 \nL 1069.199296 550.8 \nL 1069.199296 347.90814 \nL 1054.909923 347.90814 \nz\n\" style=\"fill:#1f77b4;\"/>\n   </g>\n   <g id=\"patch_58\">\n    <path clip-path=\"url(#pc17b191d2b)\" d=\"M 1072.771639 550.8 \nL 1087.061012 550.8 \nL 1087.061012 342.524138 \nL 1072.771639 342.524138 \nz\n\" style=\"fill:#1f77b4;\"/>\n   </g>\n   <g id=\"patch_59\">\n    <path clip-path=\"url(#pc17b191d2b)\" d=\"M 1090.633355 550.8 \nL 1104.922727 550.8 \nL 1104.922727 379.645414 \nL 1090.633355 379.645414 \nz\n\" style=\"fill:#1f77b4;\"/>\n   </g>\n   <g id=\"matplotlib.axis_1\">\n    <g id=\"xtick_1\">\n     <g id=\"line2d_1\">\n      <defs>\n       <path d=\"M 0 0 \nL 0 3.5 \n\" id=\"m8ca8c20bfa\" style=\"stroke:#000000;stroke-width:0.8;\"/>\n      </defs>\n      <g>\n       <use style=\"stroke:#000000;stroke-width:0.8;\" x=\"97.521959\" xlink:href=\"#m8ca8c20bfa\" y=\"550.8\"/>\n      </g>\n     </g>\n     <g id=\"text_1\">\n      <!-- 1029A -->\n      <g transform=\"translate(100.281334 590.090625)rotate(-90)scale(0.1 -0.1)\">\n       <defs>\n        <path d=\"M 12.40625 8.296875 \nL 28.515625 8.296875 \nL 28.515625 63.921875 \nL 10.984375 60.40625 \nL 10.984375 69.390625 \nL 28.421875 72.90625 \nL 38.28125 72.90625 \nL 38.28125 8.296875 \nL 54.390625 8.296875 \nL 54.390625 0 \nL 12.40625 0 \nz\n\" id=\"DejaVuSans-49\"/>\n        <path d=\"M 31.78125 66.40625 \nQ 24.171875 66.40625 20.328125 58.90625 \nQ 16.5 51.421875 16.5 36.375 \nQ 16.5 21.390625 20.328125 13.890625 \nQ 24.171875 6.390625 31.78125 6.390625 \nQ 39.453125 6.390625 43.28125 13.890625 \nQ 47.125 21.390625 47.125 36.375 \nQ 47.125 51.421875 43.28125 58.90625 \nQ 39.453125 66.40625 31.78125 66.40625 \nz\nM 31.78125 74.21875 \nQ 44.046875 74.21875 50.515625 64.515625 \nQ 56.984375 54.828125 56.984375 36.375 \nQ 56.984375 17.96875 50.515625 8.265625 \nQ 44.046875 -1.421875 31.78125 -1.421875 \nQ 19.53125 -1.421875 13.0625 8.265625 \nQ 6.59375 17.96875 6.59375 36.375 \nQ 6.59375 54.828125 13.0625 64.515625 \nQ 19.53125 74.21875 31.78125 74.21875 \nz\n\" id=\"DejaVuSans-48\"/>\n        <path d=\"M 19.1875 8.296875 \nL 53.609375 8.296875 \nL 53.609375 0 \nL 7.328125 0 \nL 7.328125 8.296875 \nQ 12.9375 14.109375 22.625 23.890625 \nQ 32.328125 33.6875 34.8125 36.53125 \nQ 39.546875 41.84375 41.421875 45.53125 \nQ 43.3125 49.21875 43.3125 52.78125 \nQ 43.3125 58.59375 39.234375 62.25 \nQ 35.15625 65.921875 28.609375 65.921875 \nQ 23.96875 65.921875 18.8125 64.3125 \nQ 13.671875 62.703125 7.8125 59.421875 \nL 7.8125 69.390625 \nQ 13.765625 71.78125 18.9375 73 \nQ 24.125 74.21875 28.421875 74.21875 \nQ 39.75 74.21875 46.484375 68.546875 \nQ 53.21875 62.890625 53.21875 53.421875 \nQ 53.21875 48.921875 51.53125 44.890625 \nQ 49.859375 40.875 45.40625 35.40625 \nQ 44.1875 33.984375 37.640625 27.21875 \nQ 31.109375 20.453125 19.1875 8.296875 \nz\n\" id=\"DejaVuSans-50\"/>\n        <path d=\"M 10.984375 1.515625 \nL 10.984375 10.5 \nQ 14.703125 8.734375 18.5 7.8125 \nQ 22.3125 6.890625 25.984375 6.890625 \nQ 35.75 6.890625 40.890625 13.453125 \nQ 46.046875 20.015625 46.78125 33.40625 \nQ 43.953125 29.203125 39.59375 26.953125 \nQ 35.25 24.703125 29.984375 24.703125 \nQ 19.046875 24.703125 12.671875 31.3125 \nQ 6.296875 37.9375 6.296875 49.421875 \nQ 6.296875 60.640625 12.9375 67.421875 \nQ 19.578125 74.21875 30.609375 74.21875 \nQ 43.265625 74.21875 49.921875 64.515625 \nQ 56.59375 54.828125 56.59375 36.375 \nQ 56.59375 19.140625 48.40625 8.859375 \nQ 40.234375 -1.421875 26.421875 -1.421875 \nQ 22.703125 -1.421875 18.890625 -0.6875 \nQ 15.09375 0.046875 10.984375 1.515625 \nz\nM 30.609375 32.421875 \nQ 37.25 32.421875 41.125 36.953125 \nQ 45.015625 41.5 45.015625 49.421875 \nQ 45.015625 57.28125 41.125 61.84375 \nQ 37.25 66.40625 30.609375 66.40625 \nQ 23.96875 66.40625 20.09375 61.84375 \nQ 16.21875 57.28125 16.21875 49.421875 \nQ 16.21875 41.5 20.09375 36.953125 \nQ 23.96875 32.421875 30.609375 32.421875 \nz\n\" id=\"DejaVuSans-57\"/>\n        <path d=\"M 34.1875 63.1875 \nL 20.796875 26.90625 \nL 47.609375 26.90625 \nz\nM 28.609375 72.90625 \nL 39.796875 72.90625 \nL 67.578125 0 \nL 57.328125 0 \nL 50.6875 18.703125 \nL 17.828125 18.703125 \nL 11.1875 0 \nL 0.78125 0 \nz\n\" id=\"DejaVuSans-65\"/>\n       </defs>\n       <use xlink:href=\"#DejaVuSans-49\"/>\n       <use x=\"63.623047\" xlink:href=\"#DejaVuSans-48\"/>\n       <use x=\"127.246094\" xlink:href=\"#DejaVuSans-50\"/>\n       <use x=\"190.869141\" xlink:href=\"#DejaVuSans-57\"/>\n       <use x=\"254.492188\" xlink:href=\"#DejaVuSans-65\"/>\n      </g>\n     </g>\n    </g>\n    <g id=\"xtick_2\">\n     <g id=\"line2d_2\">\n      <g>\n       <use style=\"stroke:#000000;stroke-width:0.8;\" x=\"115.383675\" xlink:href=\"#m8ca8c20bfa\" y=\"550.8\"/>\n      </g>\n     </g>\n     <g id=\"text_2\">\n      <!-- 1030A -->\n      <g transform=\"translate(118.14305 590.090625)rotate(-90)scale(0.1 -0.1)\">\n       <defs>\n        <path d=\"M 40.578125 39.3125 \nQ 47.65625 37.796875 51.625 33 \nQ 55.609375 28.21875 55.609375 21.1875 \nQ 55.609375 10.40625 48.1875 4.484375 \nQ 40.765625 -1.421875 27.09375 -1.421875 \nQ 22.515625 -1.421875 17.65625 -0.515625 \nQ 12.796875 0.390625 7.625 2.203125 \nL 7.625 11.71875 \nQ 11.71875 9.328125 16.59375 8.109375 \nQ 21.484375 6.890625 26.8125 6.890625 \nQ 36.078125 6.890625 40.9375 10.546875 \nQ 45.796875 14.203125 45.796875 21.1875 \nQ 45.796875 27.640625 41.28125 31.265625 \nQ 36.765625 34.90625 28.71875 34.90625 \nL 20.21875 34.90625 \nL 20.21875 43.015625 \nL 29.109375 43.015625 \nQ 36.375 43.015625 40.234375 45.921875 \nQ 44.09375 48.828125 44.09375 54.296875 \nQ 44.09375 59.90625 40.109375 62.90625 \nQ 36.140625 65.921875 28.71875 65.921875 \nQ 24.65625 65.921875 20.015625 65.03125 \nQ 15.375 64.15625 9.8125 62.3125 \nL 9.8125 71.09375 \nQ 15.4375 72.65625 20.34375 73.4375 \nQ 25.25 74.21875 29.59375 74.21875 \nQ 40.828125 74.21875 47.359375 69.109375 \nQ 53.90625 64.015625 53.90625 55.328125 \nQ 53.90625 49.265625 50.4375 45.09375 \nQ 46.96875 40.921875 40.578125 39.3125 \nz\n\" id=\"DejaVuSans-51\"/>\n       </defs>\n       <use xlink:href=\"#DejaVuSans-49\"/>\n       <use x=\"63.623047\" xlink:href=\"#DejaVuSans-48\"/>\n       <use x=\"127.246094\" xlink:href=\"#DejaVuSans-51\"/>\n       <use x=\"190.869141\" xlink:href=\"#DejaVuSans-48\"/>\n       <use x=\"254.492188\" xlink:href=\"#DejaVuSans-65\"/>\n      </g>\n     </g>\n    </g>\n    <g id=\"xtick_3\">\n     <g id=\"line2d_3\">\n      <g>\n       <use style=\"stroke:#000000;stroke-width:0.8;\" x=\"133.245391\" xlink:href=\"#m8ca8c20bfa\" y=\"550.8\"/>\n      </g>\n     </g>\n     <g id=\"text_3\">\n      <!-- 1031A -->\n      <g transform=\"translate(136.004766 590.090625)rotate(-90)scale(0.1 -0.1)\">\n       <use xlink:href=\"#DejaVuSans-49\"/>\n       <use x=\"63.623047\" xlink:href=\"#DejaVuSans-48\"/>\n       <use x=\"127.246094\" xlink:href=\"#DejaVuSans-51\"/>\n       <use x=\"190.869141\" xlink:href=\"#DejaVuSans-49\"/>\n       <use x=\"254.492188\" xlink:href=\"#DejaVuSans-65\"/>\n      </g>\n     </g>\n    </g>\n    <g id=\"xtick_4\">\n     <g id=\"line2d_4\">\n      <g>\n       <use style=\"stroke:#000000;stroke-width:0.8;\" x=\"151.107106\" xlink:href=\"#m8ca8c20bfa\" y=\"550.8\"/>\n      </g>\n     </g>\n     <g id=\"text_4\">\n      <!-- 1032A -->\n      <g transform=\"translate(153.866481 590.090625)rotate(-90)scale(0.1 -0.1)\">\n       <use xlink:href=\"#DejaVuSans-49\"/>\n       <use x=\"63.623047\" xlink:href=\"#DejaVuSans-48\"/>\n       <use x=\"127.246094\" xlink:href=\"#DejaVuSans-51\"/>\n       <use x=\"190.869141\" xlink:href=\"#DejaVuSans-50\"/>\n       <use x=\"254.492188\" xlink:href=\"#DejaVuSans-65\"/>\n      </g>\n     </g>\n    </g>\n    <g id=\"xtick_5\">\n     <g id=\"line2d_5\">\n      <g>\n       <use style=\"stroke:#000000;stroke-width:0.8;\" x=\"168.968822\" xlink:href=\"#m8ca8c20bfa\" y=\"550.8\"/>\n      </g>\n     </g>\n     <g id=\"text_5\">\n      <!-- 1033A -->\n      <g transform=\"translate(171.728197 590.090625)rotate(-90)scale(0.1 -0.1)\">\n       <use xlink:href=\"#DejaVuSans-49\"/>\n       <use x=\"63.623047\" xlink:href=\"#DejaVuSans-48\"/>\n       <use x=\"127.246094\" xlink:href=\"#DejaVuSans-51\"/>\n       <use x=\"190.869141\" xlink:href=\"#DejaVuSans-51\"/>\n       <use x=\"254.492188\" xlink:href=\"#DejaVuSans-65\"/>\n      </g>\n     </g>\n    </g>\n    <g id=\"xtick_6\">\n     <g id=\"line2d_6\">\n      <g>\n       <use style=\"stroke:#000000;stroke-width:0.8;\" x=\"186.830538\" xlink:href=\"#m8ca8c20bfa\" y=\"550.8\"/>\n      </g>\n     </g>\n     <g id=\"text_6\">\n      <!-- 1034A -->\n      <g transform=\"translate(189.589913 590.090625)rotate(-90)scale(0.1 -0.1)\">\n       <defs>\n        <path d=\"M 37.796875 64.3125 \nL 12.890625 25.390625 \nL 37.796875 25.390625 \nz\nM 35.203125 72.90625 \nL 47.609375 72.90625 \nL 47.609375 25.390625 \nL 58.015625 25.390625 \nL 58.015625 17.1875 \nL 47.609375 17.1875 \nL 47.609375 0 \nL 37.796875 0 \nL 37.796875 17.1875 \nL 4.890625 17.1875 \nL 4.890625 26.703125 \nz\n\" id=\"DejaVuSans-52\"/>\n       </defs>\n       <use xlink:href=\"#DejaVuSans-49\"/>\n       <use x=\"63.623047\" xlink:href=\"#DejaVuSans-48\"/>\n       <use x=\"127.246094\" xlink:href=\"#DejaVuSans-51\"/>\n       <use x=\"190.869141\" xlink:href=\"#DejaVuSans-52\"/>\n       <use x=\"254.492188\" xlink:href=\"#DejaVuSans-65\"/>\n      </g>\n     </g>\n    </g>\n    <g id=\"xtick_7\">\n     <g id=\"line2d_7\">\n      <g>\n       <use style=\"stroke:#000000;stroke-width:0.8;\" x=\"204.692254\" xlink:href=\"#m8ca8c20bfa\" y=\"550.8\"/>\n      </g>\n     </g>\n     <g id=\"text_7\">\n      <!-- 1035A -->\n      <g transform=\"translate(207.451629 590.090625)rotate(-90)scale(0.1 -0.1)\">\n       <defs>\n        <path d=\"M 10.796875 72.90625 \nL 49.515625 72.90625 \nL 49.515625 64.59375 \nL 19.828125 64.59375 \nL 19.828125 46.734375 \nQ 21.96875 47.46875 24.109375 47.828125 \nQ 26.265625 48.1875 28.421875 48.1875 \nQ 40.625 48.1875 47.75 41.5 \nQ 54.890625 34.8125 54.890625 23.390625 \nQ 54.890625 11.625 47.5625 5.09375 \nQ 40.234375 -1.421875 26.90625 -1.421875 \nQ 22.3125 -1.421875 17.546875 -0.640625 \nQ 12.796875 0.140625 7.71875 1.703125 \nL 7.71875 11.625 \nQ 12.109375 9.234375 16.796875 8.0625 \nQ 21.484375 6.890625 26.703125 6.890625 \nQ 35.15625 6.890625 40.078125 11.328125 \nQ 45.015625 15.765625 45.015625 23.390625 \nQ 45.015625 31 40.078125 35.4375 \nQ 35.15625 39.890625 26.703125 39.890625 \nQ 22.75 39.890625 18.8125 39.015625 \nQ 14.890625 38.140625 10.796875 36.28125 \nz\n\" id=\"DejaVuSans-53\"/>\n       </defs>\n       <use xlink:href=\"#DejaVuSans-49\"/>\n       <use x=\"63.623047\" xlink:href=\"#DejaVuSans-48\"/>\n       <use x=\"127.246094\" xlink:href=\"#DejaVuSans-51\"/>\n       <use x=\"190.869141\" xlink:href=\"#DejaVuSans-53\"/>\n       <use x=\"254.492188\" xlink:href=\"#DejaVuSans-65\"/>\n      </g>\n     </g>\n    </g>\n    <g id=\"xtick_8\">\n     <g id=\"line2d_8\">\n      <g>\n       <use style=\"stroke:#000000;stroke-width:0.8;\" x=\"222.553969\" xlink:href=\"#m8ca8c20bfa\" y=\"550.8\"/>\n      </g>\n     </g>\n     <g id=\"text_8\">\n      <!-- 1037A -->\n      <g transform=\"translate(225.313344 590.090625)rotate(-90)scale(0.1 -0.1)\">\n       <defs>\n        <path d=\"M 8.203125 72.90625 \nL 55.078125 72.90625 \nL 55.078125 68.703125 \nL 28.609375 0 \nL 18.3125 0 \nL 43.21875 64.59375 \nL 8.203125 64.59375 \nz\n\" id=\"DejaVuSans-55\"/>\n       </defs>\n       <use xlink:href=\"#DejaVuSans-49\"/>\n       <use x=\"63.623047\" xlink:href=\"#DejaVuSans-48\"/>\n       <use x=\"127.246094\" xlink:href=\"#DejaVuSans-51\"/>\n       <use x=\"190.869141\" xlink:href=\"#DejaVuSans-55\"/>\n       <use x=\"254.492188\" xlink:href=\"#DejaVuSans-65\"/>\n      </g>\n     </g>\n    </g>\n    <g id=\"xtick_9\">\n     <g id=\"line2d_9\">\n      <g>\n       <use style=\"stroke:#000000;stroke-width:0.8;\" x=\"240.415685\" xlink:href=\"#m8ca8c20bfa\" y=\"550.8\"/>\n      </g>\n     </g>\n     <g id=\"text_9\">\n      <!-- 1038A -->\n      <g transform=\"translate(243.17506 590.090625)rotate(-90)scale(0.1 -0.1)\">\n       <defs>\n        <path d=\"M 31.78125 34.625 \nQ 24.75 34.625 20.71875 30.859375 \nQ 16.703125 27.09375 16.703125 20.515625 \nQ 16.703125 13.921875 20.71875 10.15625 \nQ 24.75 6.390625 31.78125 6.390625 \nQ 38.8125 6.390625 42.859375 10.171875 \nQ 46.921875 13.96875 46.921875 20.515625 \nQ 46.921875 27.09375 42.890625 30.859375 \nQ 38.875 34.625 31.78125 34.625 \nz\nM 21.921875 38.8125 \nQ 15.578125 40.375 12.03125 44.71875 \nQ 8.5 49.078125 8.5 55.328125 \nQ 8.5 64.0625 14.71875 69.140625 \nQ 20.953125 74.21875 31.78125 74.21875 \nQ 42.671875 74.21875 48.875 69.140625 \nQ 55.078125 64.0625 55.078125 55.328125 \nQ 55.078125 49.078125 51.53125 44.71875 \nQ 48 40.375 41.703125 38.8125 \nQ 48.828125 37.15625 52.796875 32.3125 \nQ 56.78125 27.484375 56.78125 20.515625 \nQ 56.78125 9.90625 50.3125 4.234375 \nQ 43.84375 -1.421875 31.78125 -1.421875 \nQ 19.734375 -1.421875 13.25 4.234375 \nQ 6.78125 9.90625 6.78125 20.515625 \nQ 6.78125 27.484375 10.78125 32.3125 \nQ 14.796875 37.15625 21.921875 38.8125 \nz\nM 18.3125 54.390625 \nQ 18.3125 48.734375 21.84375 45.5625 \nQ 25.390625 42.390625 31.78125 42.390625 \nQ 38.140625 42.390625 41.71875 45.5625 \nQ 45.3125 48.734375 45.3125 54.390625 \nQ 45.3125 60.0625 41.71875 63.234375 \nQ 38.140625 66.40625 31.78125 66.40625 \nQ 25.390625 66.40625 21.84375 63.234375 \nQ 18.3125 60.0625 18.3125 54.390625 \nz\n\" id=\"DejaVuSans-56\"/>\n       </defs>\n       <use xlink:href=\"#DejaVuSans-49\"/>\n       <use x=\"63.623047\" xlink:href=\"#DejaVuSans-48\"/>\n       <use x=\"127.246094\" xlink:href=\"#DejaVuSans-51\"/>\n       <use x=\"190.869141\" xlink:href=\"#DejaVuSans-56\"/>\n       <use x=\"254.492188\" xlink:href=\"#DejaVuSans-65\"/>\n      </g>\n     </g>\n    </g>\n    <g id=\"xtick_10\">\n     <g id=\"line2d_10\">\n      <g>\n       <use style=\"stroke:#000000;stroke-width:0.8;\" x=\"258.277401\" xlink:href=\"#m8ca8c20bfa\" y=\"550.8\"/>\n      </g>\n     </g>\n     <g id=\"text_10\">\n      <!-- 1040A -->\n      <g transform=\"translate(261.036776 590.090625)rotate(-90)scale(0.1 -0.1)\">\n       <use xlink:href=\"#DejaVuSans-49\"/>\n       <use x=\"63.623047\" xlink:href=\"#DejaVuSans-48\"/>\n       <use x=\"127.246094\" xlink:href=\"#DejaVuSans-52\"/>\n       <use x=\"190.869141\" xlink:href=\"#DejaVuSans-48\"/>\n       <use x=\"254.492188\" xlink:href=\"#DejaVuSans-65\"/>\n      </g>\n     </g>\n    </g>\n    <g id=\"xtick_11\">\n     <g id=\"line2d_11\">\n      <g>\n       <use style=\"stroke:#000000;stroke-width:0.8;\" x=\"276.139117\" xlink:href=\"#m8ca8c20bfa\" y=\"550.8\"/>\n      </g>\n     </g>\n     <g id=\"text_11\">\n      <!-- 1041A -->\n      <g transform=\"translate(278.898492 590.090625)rotate(-90)scale(0.1 -0.1)\">\n       <use xlink:href=\"#DejaVuSans-49\"/>\n       <use x=\"63.623047\" xlink:href=\"#DejaVuSans-48\"/>\n       <use x=\"127.246094\" xlink:href=\"#DejaVuSans-52\"/>\n       <use x=\"190.869141\" xlink:href=\"#DejaVuSans-49\"/>\n       <use x=\"254.492188\" xlink:href=\"#DejaVuSans-65\"/>\n      </g>\n     </g>\n    </g>\n    <g id=\"xtick_12\">\n     <g id=\"line2d_12\">\n      <g>\n       <use style=\"stroke:#000000;stroke-width:0.8;\" x=\"294.000832\" xlink:href=\"#m8ca8c20bfa\" y=\"550.8\"/>\n      </g>\n     </g>\n     <g id=\"text_12\">\n      <!-- 1051A -->\n      <g transform=\"translate(296.760207 590.090625)rotate(-90)scale(0.1 -0.1)\">\n       <use xlink:href=\"#DejaVuSans-49\"/>\n       <use x=\"63.623047\" xlink:href=\"#DejaVuSans-48\"/>\n       <use x=\"127.246094\" xlink:href=\"#DejaVuSans-53\"/>\n       <use x=\"190.869141\" xlink:href=\"#DejaVuSans-49\"/>\n       <use x=\"254.492188\" xlink:href=\"#DejaVuSans-65\"/>\n      </g>\n     </g>\n    </g>\n    <g id=\"xtick_13\">\n     <g id=\"line2d_13\">\n      <g>\n       <use style=\"stroke:#000000;stroke-width:0.8;\" x=\"311.862548\" xlink:href=\"#m8ca8c20bfa\" y=\"550.8\"/>\n      </g>\n     </g>\n     <g id=\"text_13\">\n      <!-- 1052A -->\n      <g transform=\"translate(314.621923 590.090625)rotate(-90)scale(0.1 -0.1)\">\n       <use xlink:href=\"#DejaVuSans-49\"/>\n       <use x=\"63.623047\" xlink:href=\"#DejaVuSans-48\"/>\n       <use x=\"127.246094\" xlink:href=\"#DejaVuSans-53\"/>\n       <use x=\"190.869141\" xlink:href=\"#DejaVuSans-50\"/>\n       <use x=\"254.492188\" xlink:href=\"#DejaVuSans-65\"/>\n      </g>\n     </g>\n    </g>\n    <g id=\"xtick_14\">\n     <g id=\"line2d_14\">\n      <g>\n       <use style=\"stroke:#000000;stroke-width:0.8;\" x=\"329.724264\" xlink:href=\"#m8ca8c20bfa\" y=\"550.8\"/>\n      </g>\n     </g>\n     <g id=\"text_14\">\n      <!-- 1053A -->\n      <g transform=\"translate(332.483639 590.090625)rotate(-90)scale(0.1 -0.1)\">\n       <use xlink:href=\"#DejaVuSans-49\"/>\n       <use x=\"63.623047\" xlink:href=\"#DejaVuSans-48\"/>\n       <use x=\"127.246094\" xlink:href=\"#DejaVuSans-53\"/>\n       <use x=\"190.869141\" xlink:href=\"#DejaVuSans-51\"/>\n       <use x=\"254.492188\" xlink:href=\"#DejaVuSans-65\"/>\n      </g>\n     </g>\n    </g>\n    <g id=\"xtick_15\">\n     <g id=\"line2d_15\">\n      <g>\n       <use style=\"stroke:#000000;stroke-width:0.8;\" x=\"347.58598\" xlink:href=\"#m8ca8c20bfa\" y=\"550.8\"/>\n      </g>\n     </g>\n     <g id=\"text_15\">\n      <!-- 1054A -->\n      <g transform=\"translate(350.345355 590.090625)rotate(-90)scale(0.1 -0.1)\">\n       <use xlink:href=\"#DejaVuSans-49\"/>\n       <use x=\"63.623047\" xlink:href=\"#DejaVuSans-48\"/>\n       <use x=\"127.246094\" xlink:href=\"#DejaVuSans-53\"/>\n       <use x=\"190.869141\" xlink:href=\"#DejaVuSans-52\"/>\n       <use x=\"254.492188\" xlink:href=\"#DejaVuSans-65\"/>\n      </g>\n     </g>\n    </g>\n    <g id=\"xtick_16\">\n     <g id=\"line2d_16\">\n      <g>\n       <use style=\"stroke:#000000;stroke-width:0.8;\" x=\"365.447695\" xlink:href=\"#m8ca8c20bfa\" y=\"550.8\"/>\n      </g>\n     </g>\n     <g id=\"text_16\">\n      <!-- 1055A -->\n      <g transform=\"translate(368.20707 590.090625)rotate(-90)scale(0.1 -0.1)\">\n       <use xlink:href=\"#DejaVuSans-49\"/>\n       <use x=\"63.623047\" xlink:href=\"#DejaVuSans-48\"/>\n       <use x=\"127.246094\" xlink:href=\"#DejaVuSans-53\"/>\n       <use x=\"190.869141\" xlink:href=\"#DejaVuSans-53\"/>\n       <use x=\"254.492188\" xlink:href=\"#DejaVuSans-65\"/>\n      </g>\n     </g>\n    </g>\n    <g id=\"xtick_17\">\n     <g id=\"line2d_17\">\n      <g>\n       <use style=\"stroke:#000000;stroke-width:0.8;\" x=\"383.309411\" xlink:href=\"#m8ca8c20bfa\" y=\"550.8\"/>\n      </g>\n     </g>\n     <g id=\"text_17\">\n      <!-- 1056A -->\n      <g transform=\"translate(386.068786 590.090625)rotate(-90)scale(0.1 -0.1)\">\n       <defs>\n        <path d=\"M 33.015625 40.375 \nQ 26.375 40.375 22.484375 35.828125 \nQ 18.609375 31.296875 18.609375 23.390625 \nQ 18.609375 15.53125 22.484375 10.953125 \nQ 26.375 6.390625 33.015625 6.390625 \nQ 39.65625 6.390625 43.53125 10.953125 \nQ 47.40625 15.53125 47.40625 23.390625 \nQ 47.40625 31.296875 43.53125 35.828125 \nQ 39.65625 40.375 33.015625 40.375 \nz\nM 52.59375 71.296875 \nL 52.59375 62.3125 \nQ 48.875 64.0625 45.09375 64.984375 \nQ 41.3125 65.921875 37.59375 65.921875 \nQ 27.828125 65.921875 22.671875 59.328125 \nQ 17.53125 52.734375 16.796875 39.40625 \nQ 19.671875 43.65625 24.015625 45.921875 \nQ 28.375 48.1875 33.59375 48.1875 \nQ 44.578125 48.1875 50.953125 41.515625 \nQ 57.328125 34.859375 57.328125 23.390625 \nQ 57.328125 12.15625 50.6875 5.359375 \nQ 44.046875 -1.421875 33.015625 -1.421875 \nQ 20.359375 -1.421875 13.671875 8.265625 \nQ 6.984375 17.96875 6.984375 36.375 \nQ 6.984375 53.65625 15.1875 63.9375 \nQ 23.390625 74.21875 37.203125 74.21875 \nQ 40.921875 74.21875 44.703125 73.484375 \nQ 48.484375 72.75 52.59375 71.296875 \nz\n\" id=\"DejaVuSans-54\"/>\n       </defs>\n       <use xlink:href=\"#DejaVuSans-49\"/>\n       <use x=\"63.623047\" xlink:href=\"#DejaVuSans-48\"/>\n       <use x=\"127.246094\" xlink:href=\"#DejaVuSans-53\"/>\n       <use x=\"190.869141\" xlink:href=\"#DejaVuSans-54\"/>\n       <use x=\"254.492188\" xlink:href=\"#DejaVuSans-65\"/>\n      </g>\n     </g>\n    </g>\n    <g id=\"xtick_18\">\n     <g id=\"line2d_18\">\n      <g>\n       <use style=\"stroke:#000000;stroke-width:0.8;\" x=\"401.171127\" xlink:href=\"#m8ca8c20bfa\" y=\"550.8\"/>\n      </g>\n     </g>\n     <g id=\"text_18\">\n      <!-- 1057A -->\n      <g transform=\"translate(403.930502 590.090625)rotate(-90)scale(0.1 -0.1)\">\n       <use xlink:href=\"#DejaVuSans-49\"/>\n       <use x=\"63.623047\" xlink:href=\"#DejaVuSans-48\"/>\n       <use x=\"127.246094\" xlink:href=\"#DejaVuSans-53\"/>\n       <use x=\"190.869141\" xlink:href=\"#DejaVuSans-55\"/>\n       <use x=\"254.492188\" xlink:href=\"#DejaVuSans-65\"/>\n      </g>\n     </g>\n    </g>\n    <g id=\"xtick_19\">\n     <g id=\"line2d_19\">\n      <g>\n       <use style=\"stroke:#000000;stroke-width:0.8;\" x=\"419.032843\" xlink:href=\"#m8ca8c20bfa\" y=\"550.8\"/>\n      </g>\n     </g>\n     <g id=\"text_19\">\n      <!-- 1059A -->\n      <g transform=\"translate(421.792218 590.090625)rotate(-90)scale(0.1 -0.1)\">\n       <use xlink:href=\"#DejaVuSans-49\"/>\n       <use x=\"63.623047\" xlink:href=\"#DejaVuSans-48\"/>\n       <use x=\"127.246094\" xlink:href=\"#DejaVuSans-53\"/>\n       <use x=\"190.869141\" xlink:href=\"#DejaVuSans-57\"/>\n       <use x=\"254.492188\" xlink:href=\"#DejaVuSans-65\"/>\n      </g>\n     </g>\n    </g>\n    <g id=\"xtick_20\">\n     <g id=\"line2d_20\">\n      <g>\n       <use style=\"stroke:#000000;stroke-width:0.8;\" x=\"436.894558\" xlink:href=\"#m8ca8c20bfa\" y=\"550.8\"/>\n      </g>\n     </g>\n     <g id=\"text_20\">\n      <!-- 1060A -->\n      <g transform=\"translate(439.653933 590.090625)rotate(-90)scale(0.1 -0.1)\">\n       <use xlink:href=\"#DejaVuSans-49\"/>\n       <use x=\"63.623047\" xlink:href=\"#DejaVuSans-48\"/>\n       <use x=\"127.246094\" xlink:href=\"#DejaVuSans-54\"/>\n       <use x=\"190.869141\" xlink:href=\"#DejaVuSans-48\"/>\n       <use x=\"254.492188\" xlink:href=\"#DejaVuSans-65\"/>\n      </g>\n     </g>\n    </g>\n    <g id=\"xtick_21\">\n     <g id=\"line2d_21\">\n      <g>\n       <use style=\"stroke:#000000;stroke-width:0.8;\" x=\"454.756274\" xlink:href=\"#m8ca8c20bfa\" y=\"550.8\"/>\n      </g>\n     </g>\n     <g id=\"text_21\">\n      <!-- 1061A -->\n      <g transform=\"translate(457.515649 590.090625)rotate(-90)scale(0.1 -0.1)\">\n       <use xlink:href=\"#DejaVuSans-49\"/>\n       <use x=\"63.623047\" xlink:href=\"#DejaVuSans-48\"/>\n       <use x=\"127.246094\" xlink:href=\"#DejaVuSans-54\"/>\n       <use x=\"190.869141\" xlink:href=\"#DejaVuSans-49\"/>\n       <use x=\"254.492188\" xlink:href=\"#DejaVuSans-65\"/>\n      </g>\n     </g>\n    </g>\n    <g id=\"xtick_22\">\n     <g id=\"line2d_22\">\n      <g>\n       <use style=\"stroke:#000000;stroke-width:0.8;\" x=\"472.61799\" xlink:href=\"#m8ca8c20bfa\" y=\"550.8\"/>\n      </g>\n     </g>\n     <g id=\"text_22\">\n      <!-- 1062A -->\n      <g transform=\"translate(475.377365 590.090625)rotate(-90)scale(0.1 -0.1)\">\n       <use xlink:href=\"#DejaVuSans-49\"/>\n       <use x=\"63.623047\" xlink:href=\"#DejaVuSans-48\"/>\n       <use x=\"127.246094\" xlink:href=\"#DejaVuSans-54\"/>\n       <use x=\"190.869141\" xlink:href=\"#DejaVuSans-50\"/>\n       <use x=\"254.492188\" xlink:href=\"#DejaVuSans-65\"/>\n      </g>\n     </g>\n    </g>\n    <g id=\"xtick_23\">\n     <g id=\"line2d_23\">\n      <g>\n       <use style=\"stroke:#000000;stroke-width:0.8;\" x=\"490.479706\" xlink:href=\"#m8ca8c20bfa\" y=\"550.8\"/>\n      </g>\n     </g>\n     <g id=\"text_23\">\n      <!-- 1063A -->\n      <g transform=\"translate(493.239081 590.090625)rotate(-90)scale(0.1 -0.1)\">\n       <use xlink:href=\"#DejaVuSans-49\"/>\n       <use x=\"63.623047\" xlink:href=\"#DejaVuSans-48\"/>\n       <use x=\"127.246094\" xlink:href=\"#DejaVuSans-54\"/>\n       <use x=\"190.869141\" xlink:href=\"#DejaVuSans-51\"/>\n       <use x=\"254.492188\" xlink:href=\"#DejaVuSans-65\"/>\n      </g>\n     </g>\n    </g>\n    <g id=\"xtick_24\">\n     <g id=\"line2d_24\">\n      <g>\n       <use style=\"stroke:#000000;stroke-width:0.8;\" x=\"508.341421\" xlink:href=\"#m8ca8c20bfa\" y=\"550.8\"/>\n      </g>\n     </g>\n     <g id=\"text_24\">\n      <!-- 1064A -->\n      <g transform=\"translate(511.100796 590.090625)rotate(-90)scale(0.1 -0.1)\">\n       <use xlink:href=\"#DejaVuSans-49\"/>\n       <use x=\"63.623047\" xlink:href=\"#DejaVuSans-48\"/>\n       <use x=\"127.246094\" xlink:href=\"#DejaVuSans-54\"/>\n       <use x=\"190.869141\" xlink:href=\"#DejaVuSans-52\"/>\n       <use x=\"254.492188\" xlink:href=\"#DejaVuSans-65\"/>\n      </g>\n     </g>\n    </g>\n    <g id=\"xtick_25\">\n     <g id=\"line2d_25\">\n      <g>\n       <use style=\"stroke:#000000;stroke-width:0.8;\" x=\"526.203137\" xlink:href=\"#m8ca8c20bfa\" y=\"550.8\"/>\n      </g>\n     </g>\n     <g id=\"text_25\">\n      <!-- 1065A -->\n      <g transform=\"translate(528.962512 590.090625)rotate(-90)scale(0.1 -0.1)\">\n       <use xlink:href=\"#DejaVuSans-49\"/>\n       <use x=\"63.623047\" xlink:href=\"#DejaVuSans-48\"/>\n       <use x=\"127.246094\" xlink:href=\"#DejaVuSans-54\"/>\n       <use x=\"190.869141\" xlink:href=\"#DejaVuSans-53\"/>\n       <use x=\"254.492188\" xlink:href=\"#DejaVuSans-65\"/>\n      </g>\n     </g>\n    </g>\n    <g id=\"xtick_26\">\n     <g id=\"line2d_26\">\n      <g>\n       <use style=\"stroke:#000000;stroke-width:0.8;\" x=\"544.064853\" xlink:href=\"#m8ca8c20bfa\" y=\"550.8\"/>\n      </g>\n     </g>\n     <g id=\"text_26\">\n      <!-- 1066A -->\n      <g transform=\"translate(546.824228 590.090625)rotate(-90)scale(0.1 -0.1)\">\n       <use xlink:href=\"#DejaVuSans-49\"/>\n       <use x=\"63.623047\" xlink:href=\"#DejaVuSans-48\"/>\n       <use x=\"127.246094\" xlink:href=\"#DejaVuSans-54\"/>\n       <use x=\"190.869141\" xlink:href=\"#DejaVuSans-54\"/>\n       <use x=\"254.492188\" xlink:href=\"#DejaVuSans-65\"/>\n      </g>\n     </g>\n    </g>\n    <g id=\"xtick_27\">\n     <g id=\"line2d_27\">\n      <g>\n       <use style=\"stroke:#000000;stroke-width:0.8;\" x=\"561.926569\" xlink:href=\"#m8ca8c20bfa\" y=\"550.8\"/>\n      </g>\n     </g>\n     <g id=\"text_27\">\n      <!-- 1071A -->\n      <g transform=\"translate(564.685944 590.090625)rotate(-90)scale(0.1 -0.1)\">\n       <use xlink:href=\"#DejaVuSans-49\"/>\n       <use x=\"63.623047\" xlink:href=\"#DejaVuSans-48\"/>\n       <use x=\"127.246094\" xlink:href=\"#DejaVuSans-55\"/>\n       <use x=\"190.869141\" xlink:href=\"#DejaVuSans-49\"/>\n       <use x=\"254.492188\" xlink:href=\"#DejaVuSans-65\"/>\n      </g>\n     </g>\n    </g>\n    <g id=\"xtick_28\">\n     <g id=\"line2d_28\">\n      <g>\n       <use style=\"stroke:#000000;stroke-width:0.8;\" x=\"579.788284\" xlink:href=\"#m8ca8c20bfa\" y=\"550.8\"/>\n      </g>\n     </g>\n     <g id=\"text_28\">\n      <!-- 1072A -->\n      <g transform=\"translate(582.547659 590.090625)rotate(-90)scale(0.1 -0.1)\">\n       <use xlink:href=\"#DejaVuSans-49\"/>\n       <use x=\"63.623047\" xlink:href=\"#DejaVuSans-48\"/>\n       <use x=\"127.246094\" xlink:href=\"#DejaVuSans-55\"/>\n       <use x=\"190.869141\" xlink:href=\"#DejaVuSans-50\"/>\n       <use x=\"254.492188\" xlink:href=\"#DejaVuSans-65\"/>\n      </g>\n     </g>\n    </g>\n    <g id=\"xtick_29\">\n     <g id=\"line2d_29\">\n      <g>\n       <use style=\"stroke:#000000;stroke-width:0.8;\" x=\"597.65\" xlink:href=\"#m8ca8c20bfa\" y=\"550.8\"/>\n      </g>\n     </g>\n     <g id=\"text_29\">\n      <!-- 1073A -->\n      <g transform=\"translate(600.409375 590.090625)rotate(-90)scale(0.1 -0.1)\">\n       <use xlink:href=\"#DejaVuSans-49\"/>\n       <use x=\"63.623047\" xlink:href=\"#DejaVuSans-48\"/>\n       <use x=\"127.246094\" xlink:href=\"#DejaVuSans-55\"/>\n       <use x=\"190.869141\" xlink:href=\"#DejaVuSans-51\"/>\n       <use x=\"254.492188\" xlink:href=\"#DejaVuSans-65\"/>\n      </g>\n     </g>\n    </g>\n    <g id=\"xtick_30\">\n     <g id=\"line2d_30\">\n      <g>\n       <use style=\"stroke:#000000;stroke-width:0.8;\" x=\"615.511716\" xlink:href=\"#m8ca8c20bfa\" y=\"550.8\"/>\n      </g>\n     </g>\n     <g id=\"text_30\">\n      <!-- 1077A -->\n      <g transform=\"translate(618.271091 590.090625)rotate(-90)scale(0.1 -0.1)\">\n       <use xlink:href=\"#DejaVuSans-49\"/>\n       <use x=\"63.623047\" xlink:href=\"#DejaVuSans-48\"/>\n       <use x=\"127.246094\" xlink:href=\"#DejaVuSans-55\"/>\n       <use x=\"190.869141\" xlink:href=\"#DejaVuSans-55\"/>\n       <use x=\"254.492188\" xlink:href=\"#DejaVuSans-65\"/>\n      </g>\n     </g>\n    </g>\n    <g id=\"xtick_31\">\n     <g id=\"line2d_31\">\n      <g>\n       <use style=\"stroke:#000000;stroke-width:0.8;\" x=\"633.373431\" xlink:href=\"#m8ca8c20bfa\" y=\"550.8\"/>\n      </g>\n     </g>\n     <g id=\"text_31\">\n      <!-- 1078A -->\n      <g transform=\"translate(636.132806 590.090625)rotate(-90)scale(0.1 -0.1)\">\n       <use xlink:href=\"#DejaVuSans-49\"/>\n       <use x=\"63.623047\" xlink:href=\"#DejaVuSans-48\"/>\n       <use x=\"127.246094\" xlink:href=\"#DejaVuSans-55\"/>\n       <use x=\"190.869141\" xlink:href=\"#DejaVuSans-56\"/>\n       <use x=\"254.492188\" xlink:href=\"#DejaVuSans-65\"/>\n      </g>\n     </g>\n    </g>\n    <g id=\"xtick_32\">\n     <g id=\"line2d_32\">\n      <g>\n       <use style=\"stroke:#000000;stroke-width:0.8;\" x=\"651.235147\" xlink:href=\"#m8ca8c20bfa\" y=\"550.8\"/>\n      </g>\n     </g>\n     <g id=\"text_32\">\n      <!-- 1079A -->\n      <g transform=\"translate(653.994522 590.090625)rotate(-90)scale(0.1 -0.1)\">\n       <use xlink:href=\"#DejaVuSans-49\"/>\n       <use x=\"63.623047\" xlink:href=\"#DejaVuSans-48\"/>\n       <use x=\"127.246094\" xlink:href=\"#DejaVuSans-55\"/>\n       <use x=\"190.869141\" xlink:href=\"#DejaVuSans-57\"/>\n       <use x=\"254.492188\" xlink:href=\"#DejaVuSans-65\"/>\n      </g>\n     </g>\n    </g>\n    <g id=\"xtick_33\">\n     <g id=\"line2d_33\">\n      <g>\n       <use style=\"stroke:#000000;stroke-width:0.8;\" x=\"669.096863\" xlink:href=\"#m8ca8c20bfa\" y=\"550.8\"/>\n      </g>\n     </g>\n     <g id=\"text_33\">\n      <!-- aotizhongxin -->\n      <g transform=\"translate(671.856238 622.170313)rotate(-90)scale(0.1 -0.1)\">\n       <defs>\n        <path d=\"M 34.28125 27.484375 \nQ 23.390625 27.484375 19.1875 25 \nQ 14.984375 22.515625 14.984375 16.5 \nQ 14.984375 11.71875 18.140625 8.90625 \nQ 21.296875 6.109375 26.703125 6.109375 \nQ 34.1875 6.109375 38.703125 11.40625 \nQ 43.21875 16.703125 43.21875 25.484375 \nL 43.21875 27.484375 \nz\nM 52.203125 31.203125 \nL 52.203125 0 \nL 43.21875 0 \nL 43.21875 8.296875 \nQ 40.140625 3.328125 35.546875 0.953125 \nQ 30.953125 -1.421875 24.3125 -1.421875 \nQ 15.921875 -1.421875 10.953125 3.296875 \nQ 6 8.015625 6 15.921875 \nQ 6 25.140625 12.171875 29.828125 \nQ 18.359375 34.515625 30.609375 34.515625 \nL 43.21875 34.515625 \nL 43.21875 35.40625 \nQ 43.21875 41.609375 39.140625 45 \nQ 35.0625 48.390625 27.6875 48.390625 \nQ 23 48.390625 18.546875 47.265625 \nQ 14.109375 46.140625 10.015625 43.890625 \nL 10.015625 52.203125 \nQ 14.9375 54.109375 19.578125 55.046875 \nQ 24.21875 56 28.609375 56 \nQ 40.484375 56 46.34375 49.84375 \nQ 52.203125 43.703125 52.203125 31.203125 \nz\n\" id=\"DejaVuSans-97\"/>\n        <path d=\"M 30.609375 48.390625 \nQ 23.390625 48.390625 19.1875 42.75 \nQ 14.984375 37.109375 14.984375 27.296875 \nQ 14.984375 17.484375 19.15625 11.84375 \nQ 23.34375 6.203125 30.609375 6.203125 \nQ 37.796875 6.203125 41.984375 11.859375 \nQ 46.1875 17.53125 46.1875 27.296875 \nQ 46.1875 37.015625 41.984375 42.703125 \nQ 37.796875 48.390625 30.609375 48.390625 \nz\nM 30.609375 56 \nQ 42.328125 56 49.015625 48.375 \nQ 55.71875 40.765625 55.71875 27.296875 \nQ 55.71875 13.875 49.015625 6.21875 \nQ 42.328125 -1.421875 30.609375 -1.421875 \nQ 18.84375 -1.421875 12.171875 6.21875 \nQ 5.515625 13.875 5.515625 27.296875 \nQ 5.515625 40.765625 12.171875 48.375 \nQ 18.84375 56 30.609375 56 \nz\n\" id=\"DejaVuSans-111\"/>\n        <path d=\"M 18.3125 70.21875 \nL 18.3125 54.6875 \nL 36.8125 54.6875 \nL 36.8125 47.703125 \nL 18.3125 47.703125 \nL 18.3125 18.015625 \nQ 18.3125 11.328125 20.140625 9.421875 \nQ 21.96875 7.515625 27.59375 7.515625 \nL 36.8125 7.515625 \nL 36.8125 0 \nL 27.59375 0 \nQ 17.1875 0 13.234375 3.875 \nQ 9.28125 7.765625 9.28125 18.015625 \nL 9.28125 47.703125 \nL 2.6875 47.703125 \nL 2.6875 54.6875 \nL 9.28125 54.6875 \nL 9.28125 70.21875 \nz\n\" id=\"DejaVuSans-116\"/>\n        <path d=\"M 9.421875 54.6875 \nL 18.40625 54.6875 \nL 18.40625 0 \nL 9.421875 0 \nz\nM 9.421875 75.984375 \nL 18.40625 75.984375 \nL 18.40625 64.59375 \nL 9.421875 64.59375 \nz\n\" id=\"DejaVuSans-105\"/>\n        <path d=\"M 5.515625 54.6875 \nL 48.1875 54.6875 \nL 48.1875 46.484375 \nL 14.40625 7.171875 \nL 48.1875 7.171875 \nL 48.1875 0 \nL 4.296875 0 \nL 4.296875 8.203125 \nL 38.09375 47.515625 \nL 5.515625 47.515625 \nz\n\" id=\"DejaVuSans-122\"/>\n        <path d=\"M 54.890625 33.015625 \nL 54.890625 0 \nL 45.90625 0 \nL 45.90625 32.71875 \nQ 45.90625 40.484375 42.875 44.328125 \nQ 39.84375 48.1875 33.796875 48.1875 \nQ 26.515625 48.1875 22.3125 43.546875 \nQ 18.109375 38.921875 18.109375 30.90625 \nL 18.109375 0 \nL 9.078125 0 \nL 9.078125 75.984375 \nL 18.109375 75.984375 \nL 18.109375 46.1875 \nQ 21.34375 51.125 25.703125 53.5625 \nQ 30.078125 56 35.796875 56 \nQ 45.21875 56 50.046875 50.171875 \nQ 54.890625 44.34375 54.890625 33.015625 \nz\n\" id=\"DejaVuSans-104\"/>\n        <path d=\"M 54.890625 33.015625 \nL 54.890625 0 \nL 45.90625 0 \nL 45.90625 32.71875 \nQ 45.90625 40.484375 42.875 44.328125 \nQ 39.84375 48.1875 33.796875 48.1875 \nQ 26.515625 48.1875 22.3125 43.546875 \nQ 18.109375 38.921875 18.109375 30.90625 \nL 18.109375 0 \nL 9.078125 0 \nL 9.078125 54.6875 \nL 18.109375 54.6875 \nL 18.109375 46.1875 \nQ 21.34375 51.125 25.703125 53.5625 \nQ 30.078125 56 35.796875 56 \nQ 45.21875 56 50.046875 50.171875 \nQ 54.890625 44.34375 54.890625 33.015625 \nz\n\" id=\"DejaVuSans-110\"/>\n        <path d=\"M 45.40625 27.984375 \nQ 45.40625 37.75 41.375 43.109375 \nQ 37.359375 48.484375 30.078125 48.484375 \nQ 22.859375 48.484375 18.828125 43.109375 \nQ 14.796875 37.75 14.796875 27.984375 \nQ 14.796875 18.265625 18.828125 12.890625 \nQ 22.859375 7.515625 30.078125 7.515625 \nQ 37.359375 7.515625 41.375 12.890625 \nQ 45.40625 18.265625 45.40625 27.984375 \nz\nM 54.390625 6.78125 \nQ 54.390625 -7.171875 48.1875 -13.984375 \nQ 42 -20.796875 29.203125 -20.796875 \nQ 24.46875 -20.796875 20.265625 -20.09375 \nQ 16.0625 -19.390625 12.109375 -17.921875 \nL 12.109375 -9.1875 \nQ 16.0625 -11.328125 19.921875 -12.34375 \nQ 23.78125 -13.375 27.78125 -13.375 \nQ 36.625 -13.375 41.015625 -8.765625 \nQ 45.40625 -4.15625 45.40625 5.171875 \nL 45.40625 9.625 \nQ 42.625 4.78125 38.28125 2.390625 \nQ 33.9375 0 27.875 0 \nQ 17.828125 0 11.671875 7.65625 \nQ 5.515625 15.328125 5.515625 27.984375 \nQ 5.515625 40.671875 11.671875 48.328125 \nQ 17.828125 56 27.875 56 \nQ 33.9375 56 38.28125 53.609375 \nQ 42.625 51.21875 45.40625 46.390625 \nL 45.40625 54.6875 \nL 54.390625 54.6875 \nz\n\" id=\"DejaVuSans-103\"/>\n        <path d=\"M 54.890625 54.6875 \nL 35.109375 28.078125 \nL 55.90625 0 \nL 45.3125 0 \nL 29.390625 21.484375 \nL 13.484375 0 \nL 2.875 0 \nL 24.125 28.609375 \nL 4.6875 54.6875 \nL 15.28125 54.6875 \nL 29.78125 35.203125 \nL 44.28125 54.6875 \nz\n\" id=\"DejaVuSans-120\"/>\n       </defs>\n       <use xlink:href=\"#DejaVuSans-97\"/>\n       <use x=\"61.279297\" xlink:href=\"#DejaVuSans-111\"/>\n       <use x=\"122.460938\" xlink:href=\"#DejaVuSans-116\"/>\n       <use x=\"161.669922\" xlink:href=\"#DejaVuSans-105\"/>\n       <use x=\"189.453125\" xlink:href=\"#DejaVuSans-122\"/>\n       <use x=\"241.943359\" xlink:href=\"#DejaVuSans-104\"/>\n       <use x=\"305.322266\" xlink:href=\"#DejaVuSans-111\"/>\n       <use x=\"366.503906\" xlink:href=\"#DejaVuSans-110\"/>\n       <use x=\"429.882812\" xlink:href=\"#DejaVuSans-103\"/>\n       <use x=\"493.359375\" xlink:href=\"#DejaVuSans-120\"/>\n       <use x=\"552.539062\" xlink:href=\"#DejaVuSans-105\"/>\n       <use x=\"580.322266\" xlink:href=\"#DejaVuSans-110\"/>\n      </g>\n     </g>\n    </g>\n    <g id=\"xtick_34\">\n     <g id=\"line2d_34\">\n      <g>\n       <use style=\"stroke:#000000;stroke-width:0.8;\" x=\"686.958579\" xlink:href=\"#m8ca8c20bfa\" y=\"550.8\"/>\n      </g>\n     </g>\n     <g id=\"text_34\">\n      <!-- beibuxinqu -->\n      <g transform=\"translate(689.717954 613.485938)rotate(-90)scale(0.1 -0.1)\">\n       <defs>\n        <path d=\"M 48.6875 27.296875 \nQ 48.6875 37.203125 44.609375 42.84375 \nQ 40.53125 48.484375 33.40625 48.484375 \nQ 26.265625 48.484375 22.1875 42.84375 \nQ 18.109375 37.203125 18.109375 27.296875 \nQ 18.109375 17.390625 22.1875 11.75 \nQ 26.265625 6.109375 33.40625 6.109375 \nQ 40.53125 6.109375 44.609375 11.75 \nQ 48.6875 17.390625 48.6875 27.296875 \nz\nM 18.109375 46.390625 \nQ 20.953125 51.265625 25.265625 53.625 \nQ 29.59375 56 35.59375 56 \nQ 45.5625 56 51.78125 48.09375 \nQ 58.015625 40.1875 58.015625 27.296875 \nQ 58.015625 14.40625 51.78125 6.484375 \nQ 45.5625 -1.421875 35.59375 -1.421875 \nQ 29.59375 -1.421875 25.265625 0.953125 \nQ 20.953125 3.328125 18.109375 8.203125 \nL 18.109375 0 \nL 9.078125 0 \nL 9.078125 75.984375 \nL 18.109375 75.984375 \nz\n\" id=\"DejaVuSans-98\"/>\n        <path d=\"M 56.203125 29.59375 \nL 56.203125 25.203125 \nL 14.890625 25.203125 \nQ 15.484375 15.921875 20.484375 11.0625 \nQ 25.484375 6.203125 34.421875 6.203125 \nQ 39.59375 6.203125 44.453125 7.46875 \nQ 49.3125 8.734375 54.109375 11.28125 \nL 54.109375 2.78125 \nQ 49.265625 0.734375 44.1875 -0.34375 \nQ 39.109375 -1.421875 33.890625 -1.421875 \nQ 20.796875 -1.421875 13.15625 6.1875 \nQ 5.515625 13.8125 5.515625 26.8125 \nQ 5.515625 40.234375 12.765625 48.109375 \nQ 20.015625 56 32.328125 56 \nQ 43.359375 56 49.78125 48.890625 \nQ 56.203125 41.796875 56.203125 29.59375 \nz\nM 47.21875 32.234375 \nQ 47.125 39.59375 43.09375 43.984375 \nQ 39.0625 48.390625 32.421875 48.390625 \nQ 24.90625 48.390625 20.390625 44.140625 \nQ 15.875 39.890625 15.1875 32.171875 \nz\n\" id=\"DejaVuSans-101\"/>\n        <path d=\"M 8.5 21.578125 \nL 8.5 54.6875 \nL 17.484375 54.6875 \nL 17.484375 21.921875 \nQ 17.484375 14.15625 20.5 10.265625 \nQ 23.53125 6.390625 29.59375 6.390625 \nQ 36.859375 6.390625 41.078125 11.03125 \nQ 45.3125 15.671875 45.3125 23.6875 \nL 45.3125 54.6875 \nL 54.296875 54.6875 \nL 54.296875 0 \nL 45.3125 0 \nL 45.3125 8.40625 \nQ 42.046875 3.421875 37.71875 1 \nQ 33.40625 -1.421875 27.6875 -1.421875 \nQ 18.265625 -1.421875 13.375 4.4375 \nQ 8.5 10.296875 8.5 21.578125 \nz\nM 31.109375 56 \nz\n\" id=\"DejaVuSans-117\"/>\n        <path d=\"M 14.796875 27.296875 \nQ 14.796875 17.390625 18.875 11.75 \nQ 22.953125 6.109375 30.078125 6.109375 \nQ 37.203125 6.109375 41.296875 11.75 \nQ 45.40625 17.390625 45.40625 27.296875 \nQ 45.40625 37.203125 41.296875 42.84375 \nQ 37.203125 48.484375 30.078125 48.484375 \nQ 22.953125 48.484375 18.875 42.84375 \nQ 14.796875 37.203125 14.796875 27.296875 \nz\nM 45.40625 8.203125 \nQ 42.578125 3.328125 38.25 0.953125 \nQ 33.9375 -1.421875 27.875 -1.421875 \nQ 17.96875 -1.421875 11.734375 6.484375 \nQ 5.515625 14.40625 5.515625 27.296875 \nQ 5.515625 40.1875 11.734375 48.09375 \nQ 17.96875 56 27.875 56 \nQ 33.9375 56 38.25 53.625 \nQ 42.578125 51.265625 45.40625 46.390625 \nL 45.40625 54.6875 \nL 54.390625 54.6875 \nL 54.390625 -20.796875 \nL 45.40625 -20.796875 \nz\n\" id=\"DejaVuSans-113\"/>\n       </defs>\n       <use xlink:href=\"#DejaVuSans-98\"/>\n       <use x=\"63.476562\" xlink:href=\"#DejaVuSans-101\"/>\n       <use x=\"125\" xlink:href=\"#DejaVuSans-105\"/>\n       <use x=\"152.783203\" xlink:href=\"#DejaVuSans-98\"/>\n       <use x=\"216.259766\" xlink:href=\"#DejaVuSans-117\"/>\n       <use x=\"279.638672\" xlink:href=\"#DejaVuSans-120\"/>\n       <use x=\"338.818359\" xlink:href=\"#DejaVuSans-105\"/>\n       <use x=\"366.601562\" xlink:href=\"#DejaVuSans-110\"/>\n       <use x=\"429.980469\" xlink:href=\"#DejaVuSans-113\"/>\n       <use x=\"493.457031\" xlink:href=\"#DejaVuSans-117\"/>\n      </g>\n     </g>\n    </g>\n    <g id=\"xtick_35\">\n     <g id=\"line2d_35\">\n      <g>\n       <use style=\"stroke:#000000;stroke-width:0.8;\" x=\"704.820294\" xlink:href=\"#m8ca8c20bfa\" y=\"550.8\"/>\n      </g>\n     </g>\n     <g id=\"text_35\">\n      <!-- changping -->\n      <g transform=\"translate(707.579669 610.2625)rotate(-90)scale(0.1 -0.1)\">\n       <defs>\n        <path d=\"M 48.78125 52.59375 \nL 48.78125 44.1875 \nQ 44.96875 46.296875 41.140625 47.34375 \nQ 37.3125 48.390625 33.40625 48.390625 \nQ 24.65625 48.390625 19.8125 42.84375 \nQ 14.984375 37.3125 14.984375 27.296875 \nQ 14.984375 17.28125 19.8125 11.734375 \nQ 24.65625 6.203125 33.40625 6.203125 \nQ 37.3125 6.203125 41.140625 7.25 \nQ 44.96875 8.296875 48.78125 10.40625 \nL 48.78125 2.09375 \nQ 45.015625 0.34375 40.984375 -0.53125 \nQ 36.96875 -1.421875 32.421875 -1.421875 \nQ 20.0625 -1.421875 12.78125 6.34375 \nQ 5.515625 14.109375 5.515625 27.296875 \nQ 5.515625 40.671875 12.859375 48.328125 \nQ 20.21875 56 33.015625 56 \nQ 37.15625 56 41.109375 55.140625 \nQ 45.0625 54.296875 48.78125 52.59375 \nz\n\" id=\"DejaVuSans-99\"/>\n        <path d=\"M 18.109375 8.203125 \nL 18.109375 -20.796875 \nL 9.078125 -20.796875 \nL 9.078125 54.6875 \nL 18.109375 54.6875 \nL 18.109375 46.390625 \nQ 20.953125 51.265625 25.265625 53.625 \nQ 29.59375 56 35.59375 56 \nQ 45.5625 56 51.78125 48.09375 \nQ 58.015625 40.1875 58.015625 27.296875 \nQ 58.015625 14.40625 51.78125 6.484375 \nQ 45.5625 -1.421875 35.59375 -1.421875 \nQ 29.59375 -1.421875 25.265625 0.953125 \nQ 20.953125 3.328125 18.109375 8.203125 \nz\nM 48.6875 27.296875 \nQ 48.6875 37.203125 44.609375 42.84375 \nQ 40.53125 48.484375 33.40625 48.484375 \nQ 26.265625 48.484375 22.1875 42.84375 \nQ 18.109375 37.203125 18.109375 27.296875 \nQ 18.109375 17.390625 22.1875 11.75 \nQ 26.265625 6.109375 33.40625 6.109375 \nQ 40.53125 6.109375 44.609375 11.75 \nQ 48.6875 17.390625 48.6875 27.296875 \nz\n\" id=\"DejaVuSans-112\"/>\n       </defs>\n       <use xlink:href=\"#DejaVuSans-99\"/>\n       <use x=\"54.980469\" xlink:href=\"#DejaVuSans-104\"/>\n       <use x=\"118.359375\" xlink:href=\"#DejaVuSans-97\"/>\n       <use x=\"179.638672\" xlink:href=\"#DejaVuSans-110\"/>\n       <use x=\"243.017578\" xlink:href=\"#DejaVuSans-103\"/>\n       <use x=\"306.494141\" xlink:href=\"#DejaVuSans-112\"/>\n       <use x=\"369.970703\" xlink:href=\"#DejaVuSans-105\"/>\n       <use x=\"397.753906\" xlink:href=\"#DejaVuSans-110\"/>\n       <use x=\"461.132812\" xlink:href=\"#DejaVuSans-103\"/>\n      </g>\n     </g>\n    </g>\n    <g id=\"xtick_36\">\n     <g id=\"line2d_36\">\n      <g>\n       <use style=\"stroke:#000000;stroke-width:0.8;\" x=\"722.68201\" xlink:href=\"#m8ca8c20bfa\" y=\"550.8\"/>\n      </g>\n     </g>\n     <g id=\"text_36\">\n      <!-- daxing -->\n      <g transform=\"translate(725.441385 591.659375)rotate(-90)scale(0.1 -0.1)\">\n       <defs>\n        <path d=\"M 45.40625 46.390625 \nL 45.40625 75.984375 \nL 54.390625 75.984375 \nL 54.390625 0 \nL 45.40625 0 \nL 45.40625 8.203125 \nQ 42.578125 3.328125 38.25 0.953125 \nQ 33.9375 -1.421875 27.875 -1.421875 \nQ 17.96875 -1.421875 11.734375 6.484375 \nQ 5.515625 14.40625 5.515625 27.296875 \nQ 5.515625 40.1875 11.734375 48.09375 \nQ 17.96875 56 27.875 56 \nQ 33.9375 56 38.25 53.625 \nQ 42.578125 51.265625 45.40625 46.390625 \nz\nM 14.796875 27.296875 \nQ 14.796875 17.390625 18.875 11.75 \nQ 22.953125 6.109375 30.078125 6.109375 \nQ 37.203125 6.109375 41.296875 11.75 \nQ 45.40625 17.390625 45.40625 27.296875 \nQ 45.40625 37.203125 41.296875 42.84375 \nQ 37.203125 48.484375 30.078125 48.484375 \nQ 22.953125 48.484375 18.875 42.84375 \nQ 14.796875 37.203125 14.796875 27.296875 \nz\n\" id=\"DejaVuSans-100\"/>\n       </defs>\n       <use xlink:href=\"#DejaVuSans-100\"/>\n       <use x=\"63.476562\" xlink:href=\"#DejaVuSans-97\"/>\n       <use x=\"124.755859\" xlink:href=\"#DejaVuSans-120\"/>\n       <use x=\"183.935547\" xlink:href=\"#DejaVuSans-105\"/>\n       <use x=\"211.71875\" xlink:href=\"#DejaVuSans-110\"/>\n       <use x=\"275.097656\" xlink:href=\"#DejaVuSans-103\"/>\n      </g>\n     </g>\n    </g>\n    <g id=\"xtick_37\">\n     <g id=\"line2d_37\">\n      <g>\n       <use style=\"stroke:#000000;stroke-width:0.8;\" x=\"740.543726\" xlink:href=\"#m8ca8c20bfa\" y=\"550.8\"/>\n      </g>\n     </g>\n     <g id=\"text_37\">\n      <!-- dingling -->\n      <g transform=\"translate(743.303101 597.854688)rotate(-90)scale(0.1 -0.1)\">\n       <defs>\n        <path d=\"M 9.421875 75.984375 \nL 18.40625 75.984375 \nL 18.40625 0 \nL 9.421875 0 \nz\n\" id=\"DejaVuSans-108\"/>\n       </defs>\n       <use xlink:href=\"#DejaVuSans-100\"/>\n       <use x=\"63.476562\" xlink:href=\"#DejaVuSans-105\"/>\n       <use x=\"91.259766\" xlink:href=\"#DejaVuSans-110\"/>\n       <use x=\"154.638672\" xlink:href=\"#DejaVuSans-103\"/>\n       <use x=\"218.115234\" xlink:href=\"#DejaVuSans-108\"/>\n       <use x=\"245.898438\" xlink:href=\"#DejaVuSans-105\"/>\n       <use x=\"273.681641\" xlink:href=\"#DejaVuSans-110\"/>\n       <use x=\"337.060547\" xlink:href=\"#DejaVuSans-103\"/>\n      </g>\n     </g>\n    </g>\n    <g id=\"xtick_38\">\n     <g id=\"line2d_38\">\n      <g>\n       <use style=\"stroke:#000000;stroke-width:0.8;\" x=\"758.405442\" xlink:href=\"#m8ca8c20bfa\" y=\"550.8\"/>\n      </g>\n     </g>\n     <g id=\"text_38\">\n      <!-- donggaocun -->\n      <g transform=\"translate(761.164817 619.721875)rotate(-90)scale(0.1 -0.1)\">\n       <use xlink:href=\"#DejaVuSans-100\"/>\n       <use x=\"63.476562\" xlink:href=\"#DejaVuSans-111\"/>\n       <use x=\"124.658203\" xlink:href=\"#DejaVuSans-110\"/>\n       <use x=\"188.037109\" xlink:href=\"#DejaVuSans-103\"/>\n       <use x=\"251.513672\" xlink:href=\"#DejaVuSans-103\"/>\n       <use x=\"314.990234\" xlink:href=\"#DejaVuSans-97\"/>\n       <use x=\"376.269531\" xlink:href=\"#DejaVuSans-111\"/>\n       <use x=\"437.451172\" xlink:href=\"#DejaVuSans-99\"/>\n       <use x=\"492.431641\" xlink:href=\"#DejaVuSans-117\"/>\n       <use x=\"555.810547\" xlink:href=\"#DejaVuSans-110\"/>\n      </g>\n     </g>\n    </g>\n    <g id=\"xtick_39\">\n     <g id=\"line2d_39\">\n      <g>\n       <use style=\"stroke:#000000;stroke-width:0.8;\" x=\"776.267157\" xlink:href=\"#m8ca8c20bfa\" y=\"550.8\"/>\n      </g>\n     </g>\n     <g id=\"text_39\">\n      <!-- dongsihuan -->\n      <g transform=\"translate(779.026532 616.08125)rotate(-90)scale(0.1 -0.1)\">\n       <defs>\n        <path d=\"M 44.28125 53.078125 \nL 44.28125 44.578125 \nQ 40.484375 46.53125 36.375 47.5 \nQ 32.28125 48.484375 27.875 48.484375 \nQ 21.1875 48.484375 17.84375 46.4375 \nQ 14.5 44.390625 14.5 40.28125 \nQ 14.5 37.15625 16.890625 35.375 \nQ 19.28125 33.59375 26.515625 31.984375 \nL 29.59375 31.296875 \nQ 39.15625 29.25 43.1875 25.515625 \nQ 47.21875 21.78125 47.21875 15.09375 \nQ 47.21875 7.46875 41.1875 3.015625 \nQ 35.15625 -1.421875 24.609375 -1.421875 \nQ 20.21875 -1.421875 15.453125 -0.5625 \nQ 10.6875 0.296875 5.421875 2 \nL 5.421875 11.28125 \nQ 10.40625 8.6875 15.234375 7.390625 \nQ 20.0625 6.109375 24.8125 6.109375 \nQ 31.15625 6.109375 34.5625 8.28125 \nQ 37.984375 10.453125 37.984375 14.40625 \nQ 37.984375 18.0625 35.515625 20.015625 \nQ 33.0625 21.96875 24.703125 23.78125 \nL 21.578125 24.515625 \nQ 13.234375 26.265625 9.515625 29.90625 \nQ 5.8125 33.546875 5.8125 39.890625 \nQ 5.8125 47.609375 11.28125 51.796875 \nQ 16.75 56 26.8125 56 \nQ 31.78125 56 36.171875 55.265625 \nQ 40.578125 54.546875 44.28125 53.078125 \nz\n\" id=\"DejaVuSans-115\"/>\n       </defs>\n       <use xlink:href=\"#DejaVuSans-100\"/>\n       <use x=\"63.476562\" xlink:href=\"#DejaVuSans-111\"/>\n       <use x=\"124.658203\" xlink:href=\"#DejaVuSans-110\"/>\n       <use x=\"188.037109\" xlink:href=\"#DejaVuSans-103\"/>\n       <use x=\"251.513672\" xlink:href=\"#DejaVuSans-115\"/>\n       <use x=\"303.613281\" xlink:href=\"#DejaVuSans-105\"/>\n       <use x=\"331.396484\" xlink:href=\"#DejaVuSans-104\"/>\n       <use x=\"394.775391\" xlink:href=\"#DejaVuSans-117\"/>\n       <use x=\"458.154297\" xlink:href=\"#DejaVuSans-97\"/>\n       <use x=\"519.433594\" xlink:href=\"#DejaVuSans-110\"/>\n      </g>\n     </g>\n    </g>\n    <g id=\"xtick_40\">\n     <g id=\"line2d_40\">\n      <g>\n       <use style=\"stroke:#000000;stroke-width:0.8;\" x=\"794.128873\" xlink:href=\"#m8ca8c20bfa\" y=\"550.8\"/>\n      </g>\n     </g>\n     <g id=\"text_40\">\n      <!-- fengtaihuayuan -->\n      <g transform=\"translate(796.888248 636.510938)rotate(-90)scale(0.1 -0.1)\">\n       <defs>\n        <path d=\"M 37.109375 75.984375 \nL 37.109375 68.5 \nL 28.515625 68.5 \nQ 23.6875 68.5 21.796875 66.546875 \nQ 19.921875 64.59375 19.921875 59.515625 \nL 19.921875 54.6875 \nL 34.71875 54.6875 \nL 34.71875 47.703125 \nL 19.921875 47.703125 \nL 19.921875 0 \nL 10.890625 0 \nL 10.890625 47.703125 \nL 2.296875 47.703125 \nL 2.296875 54.6875 \nL 10.890625 54.6875 \nL 10.890625 58.5 \nQ 10.890625 67.625 15.140625 71.796875 \nQ 19.390625 75.984375 28.609375 75.984375 \nz\n\" id=\"DejaVuSans-102\"/>\n        <path d=\"M 32.171875 -5.078125 \nQ 28.375 -14.84375 24.75 -17.8125 \nQ 21.140625 -20.796875 15.09375 -20.796875 \nL 7.90625 -20.796875 \nL 7.90625 -13.28125 \nL 13.1875 -13.28125 \nQ 16.890625 -13.28125 18.9375 -11.515625 \nQ 21 -9.765625 23.484375 -3.21875 \nL 25.09375 0.875 \nL 2.984375 54.6875 \nL 12.5 54.6875 \nL 29.59375 11.921875 \nL 46.6875 54.6875 \nL 56.203125 54.6875 \nz\n\" id=\"DejaVuSans-121\"/>\n       </defs>\n       <use xlink:href=\"#DejaVuSans-102\"/>\n       <use x=\"35.205078\" xlink:href=\"#DejaVuSans-101\"/>\n       <use x=\"96.728516\" xlink:href=\"#DejaVuSans-110\"/>\n       <use x=\"160.107422\" xlink:href=\"#DejaVuSans-103\"/>\n       <use x=\"223.583984\" xlink:href=\"#DejaVuSans-116\"/>\n       <use x=\"262.792969\" xlink:href=\"#DejaVuSans-97\"/>\n       <use x=\"324.072266\" xlink:href=\"#DejaVuSans-105\"/>\n       <use x=\"351.855469\" xlink:href=\"#DejaVuSans-104\"/>\n       <use x=\"415.234375\" xlink:href=\"#DejaVuSans-117\"/>\n       <use x=\"478.613281\" xlink:href=\"#DejaVuSans-97\"/>\n       <use x=\"539.892578\" xlink:href=\"#DejaVuSans-121\"/>\n       <use x=\"599.072266\" xlink:href=\"#DejaVuSans-117\"/>\n       <use x=\"662.451172\" xlink:href=\"#DejaVuSans-97\"/>\n       <use x=\"723.730469\" xlink:href=\"#DejaVuSans-110\"/>\n      </g>\n     </g>\n    </g>\n    <g id=\"xtick_41\">\n     <g id=\"line2d_41\">\n      <g>\n       <use style=\"stroke:#000000;stroke-width:0.8;\" x=\"811.990589\" xlink:href=\"#m8ca8c20bfa\" y=\"550.8\"/>\n      </g>\n     </g>\n     <g id=\"text_41\">\n      <!-- guanyuan -->\n      <g transform=\"translate(814.749964 607.673438)rotate(-90)scale(0.1 -0.1)\">\n       <use xlink:href=\"#DejaVuSans-103\"/>\n       <use x=\"63.476562\" xlink:href=\"#DejaVuSans-117\"/>\n       <use x=\"126.855469\" xlink:href=\"#DejaVuSans-97\"/>\n       <use x=\"188.134766\" xlink:href=\"#DejaVuSans-110\"/>\n       <use x=\"251.513672\" xlink:href=\"#DejaVuSans-121\"/>\n       <use x=\"310.693359\" xlink:href=\"#DejaVuSans-117\"/>\n       <use x=\"374.072266\" xlink:href=\"#DejaVuSans-97\"/>\n       <use x=\"435.351562\" xlink:href=\"#DejaVuSans-110\"/>\n      </g>\n     </g>\n    </g>\n    <g id=\"xtick_42\">\n     <g id=\"line2d_42\">\n      <g>\n       <use style=\"stroke:#000000;stroke-width:0.8;\" x=\"829.852305\" xlink:href=\"#m8ca8c20bfa\" y=\"550.8\"/>\n      </g>\n     </g>\n     <g id=\"text_42\">\n      <!-- gucheng -->\n      <g transform=\"translate(832.61168 601.160938)rotate(-90)scale(0.1 -0.1)\">\n       <use xlink:href=\"#DejaVuSans-103\"/>\n       <use x=\"63.476562\" xlink:href=\"#DejaVuSans-117\"/>\n       <use x=\"126.855469\" xlink:href=\"#DejaVuSans-99\"/>\n       <use x=\"181.835938\" xlink:href=\"#DejaVuSans-104\"/>\n       <use x=\"245.214844\" xlink:href=\"#DejaVuSans-101\"/>\n       <use x=\"306.738281\" xlink:href=\"#DejaVuSans-110\"/>\n       <use x=\"370.117188\" xlink:href=\"#DejaVuSans-103\"/>\n      </g>\n     </g>\n    </g>\n    <g id=\"xtick_43\">\n     <g id=\"line2d_43\">\n      <g>\n       <use style=\"stroke:#000000;stroke-width:0.8;\" x=\"847.71402\" xlink:href=\"#m8ca8c20bfa\" y=\"550.8\"/>\n      </g>\n     </g>\n     <g id=\"text_43\">\n      <!-- huairou -->\n      <g transform=\"translate(850.473395 595.723438)rotate(-90)scale(0.1 -0.1)\">\n       <defs>\n        <path d=\"M 41.109375 46.296875 \nQ 39.59375 47.171875 37.8125 47.578125 \nQ 36.03125 48 33.890625 48 \nQ 26.265625 48 22.1875 43.046875 \nQ 18.109375 38.09375 18.109375 28.8125 \nL 18.109375 0 \nL 9.078125 0 \nL 9.078125 54.6875 \nL 18.109375 54.6875 \nL 18.109375 46.1875 \nQ 20.953125 51.171875 25.484375 53.578125 \nQ 30.03125 56 36.53125 56 \nQ 37.453125 56 38.578125 55.875 \nQ 39.703125 55.765625 41.0625 55.515625 \nz\n\" id=\"DejaVuSans-114\"/>\n       </defs>\n       <use xlink:href=\"#DejaVuSans-104\"/>\n       <use x=\"63.378906\" xlink:href=\"#DejaVuSans-117\"/>\n       <use x=\"126.757812\" xlink:href=\"#DejaVuSans-97\"/>\n       <use x=\"188.037109\" xlink:href=\"#DejaVuSans-105\"/>\n       <use x=\"215.820312\" xlink:href=\"#DejaVuSans-114\"/>\n       <use x=\"254.683594\" xlink:href=\"#DejaVuSans-111\"/>\n       <use x=\"315.865234\" xlink:href=\"#DejaVuSans-117\"/>\n      </g>\n     </g>\n    </g>\n    <g id=\"xtick_44\">\n     <g id=\"line2d_44\">\n      <g>\n       <use style=\"stroke:#000000;stroke-width:0.8;\" x=\"865.575736\" xlink:href=\"#m8ca8c20bfa\" y=\"550.8\"/>\n      </g>\n     </g>\n     <g id=\"text_44\">\n      <!-- mentougou -->\n      <g transform=\"translate(868.335111 615.2125)rotate(-90)scale(0.1 -0.1)\">\n       <defs>\n        <path d=\"M 52 44.1875 \nQ 55.375 50.25 60.0625 53.125 \nQ 64.75 56 71.09375 56 \nQ 79.640625 56 84.28125 50.015625 \nQ 88.921875 44.046875 88.921875 33.015625 \nL 88.921875 0 \nL 79.890625 0 \nL 79.890625 32.71875 \nQ 79.890625 40.578125 77.09375 44.375 \nQ 74.3125 48.1875 68.609375 48.1875 \nQ 61.625 48.1875 57.5625 43.546875 \nQ 53.515625 38.921875 53.515625 30.90625 \nL 53.515625 0 \nL 44.484375 0 \nL 44.484375 32.71875 \nQ 44.484375 40.625 41.703125 44.40625 \nQ 38.921875 48.1875 33.109375 48.1875 \nQ 26.21875 48.1875 22.15625 43.53125 \nQ 18.109375 38.875 18.109375 30.90625 \nL 18.109375 0 \nL 9.078125 0 \nL 9.078125 54.6875 \nL 18.109375 54.6875 \nL 18.109375 46.1875 \nQ 21.1875 51.21875 25.484375 53.609375 \nQ 29.78125 56 35.6875 56 \nQ 41.65625 56 45.828125 52.96875 \nQ 50 49.953125 52 44.1875 \nz\n\" id=\"DejaVuSans-109\"/>\n       </defs>\n       <use xlink:href=\"#DejaVuSans-109\"/>\n       <use x=\"97.412109\" xlink:href=\"#DejaVuSans-101\"/>\n       <use x=\"158.935547\" xlink:href=\"#DejaVuSans-110\"/>\n       <use x=\"222.314453\" xlink:href=\"#DejaVuSans-116\"/>\n       <use x=\"261.523438\" xlink:href=\"#DejaVuSans-111\"/>\n       <use x=\"322.705078\" xlink:href=\"#DejaVuSans-117\"/>\n       <use x=\"386.083984\" xlink:href=\"#DejaVuSans-103\"/>\n       <use x=\"449.560547\" xlink:href=\"#DejaVuSans-111\"/>\n       <use x=\"510.742188\" xlink:href=\"#DejaVuSans-117\"/>\n      </g>\n     </g>\n    </g>\n    <g id=\"xtick_45\">\n     <g id=\"line2d_45\">\n      <g>\n       <use style=\"stroke:#000000;stroke-width:0.8;\" x=\"883.437452\" xlink:href=\"#m8ca8c20bfa\" y=\"550.8\"/>\n      </g>\n     </g>\n     <g id=\"text_45\">\n      <!-- nansanhuan -->\n      <g transform=\"translate(886.196827 619.41875)rotate(-90)scale(0.1 -0.1)\">\n       <use xlink:href=\"#DejaVuSans-110\"/>\n       <use x=\"63.378906\" xlink:href=\"#DejaVuSans-97\"/>\n       <use x=\"124.658203\" xlink:href=\"#DejaVuSans-110\"/>\n       <use x=\"188.037109\" xlink:href=\"#DejaVuSans-115\"/>\n       <use x=\"240.136719\" xlink:href=\"#DejaVuSans-97\"/>\n       <use x=\"301.416016\" xlink:href=\"#DejaVuSans-110\"/>\n       <use x=\"364.794922\" xlink:href=\"#DejaVuSans-104\"/>\n       <use x=\"428.173828\" xlink:href=\"#DejaVuSans-117\"/>\n       <use x=\"491.552734\" xlink:href=\"#DejaVuSans-97\"/>\n       <use x=\"552.832031\" xlink:href=\"#DejaVuSans-110\"/>\n      </g>\n     </g>\n    </g>\n    <g id=\"xtick_46\">\n     <g id=\"line2d_46\">\n      <g>\n       <use style=\"stroke:#000000;stroke-width:0.8;\" x=\"901.299168\" xlink:href=\"#m8ca8c20bfa\" y=\"550.8\"/>\n      </g>\n     </g>\n     <g id=\"text_46\">\n      <!-- nongzhanguan -->\n      <g transform=\"translate(904.058543 632.145313)rotate(-90)scale(0.1 -0.1)\">\n       <use xlink:href=\"#DejaVuSans-110\"/>\n       <use x=\"63.378906\" xlink:href=\"#DejaVuSans-111\"/>\n       <use x=\"124.560547\" xlink:href=\"#DejaVuSans-110\"/>\n       <use x=\"187.939453\" xlink:href=\"#DejaVuSans-103\"/>\n       <use x=\"251.416016\" xlink:href=\"#DejaVuSans-122\"/>\n       <use x=\"303.90625\" xlink:href=\"#DejaVuSans-104\"/>\n       <use x=\"367.285156\" xlink:href=\"#DejaVuSans-97\"/>\n       <use x=\"428.564453\" xlink:href=\"#DejaVuSans-110\"/>\n       <use x=\"491.943359\" xlink:href=\"#DejaVuSans-103\"/>\n       <use x=\"555.419922\" xlink:href=\"#DejaVuSans-117\"/>\n       <use x=\"618.798828\" xlink:href=\"#DejaVuSans-97\"/>\n       <use x=\"680.078125\" xlink:href=\"#DejaVuSans-110\"/>\n      </g>\n     </g>\n    </g>\n    <g id=\"xtick_47\">\n     <g id=\"line2d_47\">\n      <g>\n       <use style=\"stroke:#000000;stroke-width:0.8;\" x=\"919.160883\" xlink:href=\"#m8ca8c20bfa\" y=\"550.8\"/>\n      </g>\n     </g>\n     <g id=\"text_47\">\n      <!-- pinggu -->\n      <g transform=\"translate(921.920258 592.298438)rotate(-90)scale(0.1 -0.1)\">\n       <use xlink:href=\"#DejaVuSans-112\"/>\n       <use x=\"63.476562\" xlink:href=\"#DejaVuSans-105\"/>\n       <use x=\"91.259766\" xlink:href=\"#DejaVuSans-110\"/>\n       <use x=\"154.638672\" xlink:href=\"#DejaVuSans-103\"/>\n       <use x=\"218.115234\" xlink:href=\"#DejaVuSans-103\"/>\n       <use x=\"281.591797\" xlink:href=\"#DejaVuSans-117\"/>\n      </g>\n     </g>\n    </g>\n    <g id=\"xtick_48\">\n     <g id=\"line2d_48\">\n      <g>\n       <use style=\"stroke:#000000;stroke-width:0.8;\" x=\"937.022599\" xlink:href=\"#m8ca8c20bfa\" y=\"550.8\"/>\n      </g>\n     </g>\n     <g id=\"text_48\">\n      <!-- qianmen -->\n      <g transform=\"translate(939.781974 601.623438)rotate(-90)scale(0.1 -0.1)\">\n       <use xlink:href=\"#DejaVuSans-113\"/>\n       <use x=\"63.476562\" xlink:href=\"#DejaVuSans-105\"/>\n       <use x=\"91.259766\" xlink:href=\"#DejaVuSans-97\"/>\n       <use x=\"152.539062\" xlink:href=\"#DejaVuSans-110\"/>\n       <use x=\"215.917969\" xlink:href=\"#DejaVuSans-109\"/>\n       <use x=\"313.330078\" xlink:href=\"#DejaVuSans-101\"/>\n       <use x=\"374.853516\" xlink:href=\"#DejaVuSans-110\"/>\n      </g>\n     </g>\n    </g>\n    <g id=\"xtick_49\">\n     <g id=\"line2d_49\">\n      <g>\n       <use style=\"stroke:#000000;stroke-width:0.8;\" x=\"954.884315\" xlink:href=\"#m8ca8c20bfa\" y=\"550.8\"/>\n      </g>\n     </g>\n     <g id=\"text_49\">\n      <!-- shunyi -->\n      <g transform=\"translate(957.64369 590.71875)rotate(-90)scale(0.1 -0.1)\">\n       <use xlink:href=\"#DejaVuSans-115\"/>\n       <use x=\"52.099609\" xlink:href=\"#DejaVuSans-104\"/>\n       <use x=\"115.478516\" xlink:href=\"#DejaVuSans-117\"/>\n       <use x=\"178.857422\" xlink:href=\"#DejaVuSans-110\"/>\n       <use x=\"242.236328\" xlink:href=\"#DejaVuSans-121\"/>\n       <use x=\"301.416016\" xlink:href=\"#DejaVuSans-105\"/>\n      </g>\n     </g>\n    </g>\n    <g id=\"xtick_50\">\n     <g id=\"line2d_50\">\n      <g>\n       <use style=\"stroke:#000000;stroke-width:0.8;\" x=\"972.746031\" xlink:href=\"#m8ca8c20bfa\" y=\"550.8\"/>\n      </g>\n     </g>\n     <g id=\"text_50\">\n      <!-- tongzhou -->\n      <g transform=\"translate(975.505406 604.567188)rotate(-90)scale(0.1 -0.1)\">\n       <use xlink:href=\"#DejaVuSans-116\"/>\n       <use x=\"39.208984\" xlink:href=\"#DejaVuSans-111\"/>\n       <use x=\"100.390625\" xlink:href=\"#DejaVuSans-110\"/>\n       <use x=\"163.769531\" xlink:href=\"#DejaVuSans-103\"/>\n       <use x=\"227.246094\" xlink:href=\"#DejaVuSans-122\"/>\n       <use x=\"279.736328\" xlink:href=\"#DejaVuSans-104\"/>\n       <use x=\"343.115234\" xlink:href=\"#DejaVuSans-111\"/>\n       <use x=\"404.296875\" xlink:href=\"#DejaVuSans-117\"/>\n      </g>\n     </g>\n    </g>\n    <g id=\"xtick_51\">\n     <g id=\"line2d_51\">\n      <g>\n       <use style=\"stroke:#000000;stroke-width:0.8;\" x=\"990.607746\" xlink:href=\"#m8ca8c20bfa\" y=\"550.8\"/>\n      </g>\n     </g>\n     <g id=\"text_51\">\n      <!-- wanliu -->\n      <g transform=\"translate(993.367121 590.3375)rotate(-90)scale(0.1 -0.1)\">\n       <defs>\n        <path d=\"M 4.203125 54.6875 \nL 13.1875 54.6875 \nL 24.421875 12.015625 \nL 35.59375 54.6875 \nL 46.1875 54.6875 \nL 57.421875 12.015625 \nL 68.609375 54.6875 \nL 77.59375 54.6875 \nL 63.28125 0 \nL 52.6875 0 \nL 40.921875 44.828125 \nL 29.109375 0 \nL 18.5 0 \nz\n\" id=\"DejaVuSans-119\"/>\n       </defs>\n       <use xlink:href=\"#DejaVuSans-119\"/>\n       <use x=\"81.787109\" xlink:href=\"#DejaVuSans-97\"/>\n       <use x=\"143.066406\" xlink:href=\"#DejaVuSans-110\"/>\n       <use x=\"206.445312\" xlink:href=\"#DejaVuSans-108\"/>\n       <use x=\"234.228516\" xlink:href=\"#DejaVuSans-105\"/>\n       <use x=\"262.011719\" xlink:href=\"#DejaVuSans-117\"/>\n      </g>\n     </g>\n    </g>\n    <g id=\"xtick_52\">\n     <g id=\"line2d_52\">\n      <g>\n       <use style=\"stroke:#000000;stroke-width:0.8;\" x=\"1008.469462\" xlink:href=\"#m8ca8c20bfa\" y=\"550.8\"/>\n      </g>\n     </g>\n     <g id=\"text_52\">\n      <!-- wanshouxigong -->\n      <g transform=\"translate(1011.228837 636.296875)rotate(-90)scale(0.1 -0.1)\">\n       <use xlink:href=\"#DejaVuSans-119\"/>\n       <use x=\"81.787109\" xlink:href=\"#DejaVuSans-97\"/>\n       <use x=\"143.066406\" xlink:href=\"#DejaVuSans-110\"/>\n       <use x=\"206.445312\" xlink:href=\"#DejaVuSans-115\"/>\n       <use x=\"258.544922\" xlink:href=\"#DejaVuSans-104\"/>\n       <use x=\"321.923828\" xlink:href=\"#DejaVuSans-111\"/>\n       <use x=\"383.105469\" xlink:href=\"#DejaVuSans-117\"/>\n       <use x=\"446.484375\" xlink:href=\"#DejaVuSans-120\"/>\n       <use x=\"505.664062\" xlink:href=\"#DejaVuSans-105\"/>\n       <use x=\"533.447266\" xlink:href=\"#DejaVuSans-103\"/>\n       <use x=\"596.923828\" xlink:href=\"#DejaVuSans-111\"/>\n       <use x=\"658.105469\" xlink:href=\"#DejaVuSans-110\"/>\n       <use x=\"721.484375\" xlink:href=\"#DejaVuSans-103\"/>\n      </g>\n     </g>\n    </g>\n    <g id=\"xtick_53\">\n     <g id=\"line2d_53\">\n      <g>\n       <use style=\"stroke:#000000;stroke-width:0.8;\" x=\"1026.331178\" xlink:href=\"#m8ca8c20bfa\" y=\"550.8\"/>\n      </g>\n     </g>\n     <g id=\"text_53\">\n      <!-- xizhimenbei -->\n      <g transform=\"translate(1029.090553 618.371875)rotate(-90)scale(0.1 -0.1)\">\n       <use xlink:href=\"#DejaVuSans-120\"/>\n       <use x=\"59.179688\" xlink:href=\"#DejaVuSans-105\"/>\n       <use x=\"86.962891\" xlink:href=\"#DejaVuSans-122\"/>\n       <use x=\"139.453125\" xlink:href=\"#DejaVuSans-104\"/>\n       <use x=\"202.832031\" xlink:href=\"#DejaVuSans-105\"/>\n       <use x=\"230.615234\" xlink:href=\"#DejaVuSans-109\"/>\n       <use x=\"328.027344\" xlink:href=\"#DejaVuSans-101\"/>\n       <use x=\"389.550781\" xlink:href=\"#DejaVuSans-110\"/>\n       <use x=\"452.929688\" xlink:href=\"#DejaVuSans-98\"/>\n       <use x=\"516.40625\" xlink:href=\"#DejaVuSans-101\"/>\n       <use x=\"577.929688\" xlink:href=\"#DejaVuSans-105\"/>\n      </g>\n     </g>\n    </g>\n    <g id=\"xtick_54\">\n     <g id=\"line2d_54\">\n      <g>\n       <use style=\"stroke:#000000;stroke-width:0.8;\" x=\"1044.192894\" xlink:href=\"#m8ca8c20bfa\" y=\"550.8\"/>\n      </g>\n     </g>\n     <g id=\"text_54\">\n      <!-- yizhuang -->\n      <g transform=\"translate(1046.952269 603.234375)rotate(-90)scale(0.1 -0.1)\">\n       <use xlink:href=\"#DejaVuSans-121\"/>\n       <use x=\"59.179688\" xlink:href=\"#DejaVuSans-105\"/>\n       <use x=\"86.962891\" xlink:href=\"#DejaVuSans-122\"/>\n       <use x=\"139.453125\" xlink:href=\"#DejaVuSans-104\"/>\n       <use x=\"202.832031\" xlink:href=\"#DejaVuSans-117\"/>\n       <use x=\"266.210938\" xlink:href=\"#DejaVuSans-97\"/>\n       <use x=\"327.490234\" xlink:href=\"#DejaVuSans-110\"/>\n       <use x=\"390.869141\" xlink:href=\"#DejaVuSans-103\"/>\n      </g>\n     </g>\n    </g>\n    <g id=\"xtick_55\">\n     <g id=\"line2d_55\">\n      <g>\n       <use style=\"stroke:#000000;stroke-width:0.8;\" x=\"1062.054609\" xlink:href=\"#m8ca8c20bfa\" y=\"550.8\"/>\n      </g>\n     </g>\n     <g id=\"text_55\">\n      <!-- yongdingmennei -->\n      <g transform=\"translate(1064.813984 641.835938)rotate(-90)scale(0.1 -0.1)\">\n       <use xlink:href=\"#DejaVuSans-121\"/>\n       <use x=\"59.179688\" xlink:href=\"#DejaVuSans-111\"/>\n       <use x=\"120.361328\" xlink:href=\"#DejaVuSans-110\"/>\n       <use x=\"183.740234\" xlink:href=\"#DejaVuSans-103\"/>\n       <use x=\"247.216797\" xlink:href=\"#DejaVuSans-100\"/>\n       <use x=\"310.693359\" xlink:href=\"#DejaVuSans-105\"/>\n       <use x=\"338.476562\" xlink:href=\"#DejaVuSans-110\"/>\n       <use x=\"401.855469\" xlink:href=\"#DejaVuSans-103\"/>\n       <use x=\"465.332031\" xlink:href=\"#DejaVuSans-109\"/>\n       <use x=\"562.744141\" xlink:href=\"#DejaVuSans-101\"/>\n       <use x=\"624.267578\" xlink:href=\"#DejaVuSans-110\"/>\n       <use x=\"687.646484\" xlink:href=\"#DejaVuSans-110\"/>\n       <use x=\"751.025391\" xlink:href=\"#DejaVuSans-101\"/>\n       <use x=\"812.548828\" xlink:href=\"#DejaVuSans-105\"/>\n      </g>\n     </g>\n    </g>\n    <g id=\"xtick_56\">\n     <g id=\"line2d_56\">\n      <g>\n       <use style=\"stroke:#000000;stroke-width:0.8;\" x=\"1079.916325\" xlink:href=\"#m8ca8c20bfa\" y=\"550.8\"/>\n      </g>\n     </g>\n     <g id=\"text_56\">\n      <!-- yongledian -->\n      <g transform=\"translate(1082.6757 613.046875)rotate(-90)scale(0.1 -0.1)\">\n       <use xlink:href=\"#DejaVuSans-121\"/>\n       <use x=\"59.179688\" xlink:href=\"#DejaVuSans-111\"/>\n       <use x=\"120.361328\" xlink:href=\"#DejaVuSans-110\"/>\n       <use x=\"183.740234\" xlink:href=\"#DejaVuSans-103\"/>\n       <use x=\"247.216797\" xlink:href=\"#DejaVuSans-108\"/>\n       <use x=\"275\" xlink:href=\"#DejaVuSans-101\"/>\n       <use x=\"336.523438\" xlink:href=\"#DejaVuSans-100\"/>\n       <use x=\"400\" xlink:href=\"#DejaVuSans-105\"/>\n       <use x=\"427.783203\" xlink:href=\"#DejaVuSans-97\"/>\n       <use x=\"489.0625\" xlink:href=\"#DejaVuSans-110\"/>\n      </g>\n     </g>\n    </g>\n    <g id=\"xtick_57\">\n     <g id=\"line2d_57\">\n      <g>\n       <use style=\"stroke:#000000;stroke-width:0.8;\" x=\"1097.778041\" xlink:href=\"#m8ca8c20bfa\" y=\"550.8\"/>\n      </g>\n     </g>\n     <g id=\"text_57\">\n      <!-- yungang -->\n      <g transform=\"translate(1100.537416 601.55625)rotate(-90)scale(0.1 -0.1)\">\n       <use xlink:href=\"#DejaVuSans-121\"/>\n       <use x=\"59.179688\" xlink:href=\"#DejaVuSans-117\"/>\n       <use x=\"122.558594\" xlink:href=\"#DejaVuSans-110\"/>\n       <use x=\"185.9375\" xlink:href=\"#DejaVuSans-103\"/>\n       <use x=\"249.414062\" xlink:href=\"#DejaVuSans-97\"/>\n       <use x=\"310.693359\" xlink:href=\"#DejaVuSans-110\"/>\n       <use x=\"374.072266\" xlink:href=\"#DejaVuSans-103\"/>\n      </g>\n     </g>\n    </g>\n   </g>\n   <g id=\"matplotlib.axis_2\">\n    <g id=\"ytick_1\">\n     <g id=\"line2d_58\">\n      <defs>\n       <path d=\"M 0 0 \nL -3.5 0 \n\" id=\"m8773ebe7a3\" style=\"stroke:#000000;stroke-width:0.8;\"/>\n      </defs>\n      <g>\n       <use style=\"stroke:#000000;stroke-width:0.8;\" x=\"39.65\" xlink:href=\"#m8773ebe7a3\" y=\"550.8\"/>\n      </g>\n     </g>\n     <g id=\"text_58\">\n      <!-- 0 -->\n      <g transform=\"translate(26.2875 554.599219)scale(0.1 -0.1)\">\n       <use xlink:href=\"#DejaVuSans-48\"/>\n      </g>\n     </g>\n    </g>\n    <g id=\"ytick_2\">\n     <g id=\"line2d_59\">\n      <g>\n       <use style=\"stroke:#000000;stroke-width:0.8;\" x=\"39.65\" xlink:href=\"#m8773ebe7a3\" y=\"479.95787\"/>\n      </g>\n     </g>\n     <g id=\"text_59\">\n      <!-- 250 -->\n      <g transform=\"translate(13.5625 483.757089)scale(0.1 -0.1)\">\n       <use xlink:href=\"#DejaVuSans-50\"/>\n       <use x=\"63.623047\" xlink:href=\"#DejaVuSans-53\"/>\n       <use x=\"127.246094\" xlink:href=\"#DejaVuSans-48\"/>\n      </g>\n     </g>\n    </g>\n    <g id=\"ytick_3\">\n     <g id=\"line2d_60\">\n      <g>\n       <use style=\"stroke:#000000;stroke-width:0.8;\" x=\"39.65\" xlink:href=\"#m8773ebe7a3\" y=\"409.11574\"/>\n      </g>\n     </g>\n     <g id=\"text_60\">\n      <!-- 500 -->\n      <g transform=\"translate(13.5625 412.914959)scale(0.1 -0.1)\">\n       <use xlink:href=\"#DejaVuSans-53\"/>\n       <use x=\"63.623047\" xlink:href=\"#DejaVuSans-48\"/>\n       <use x=\"127.246094\" xlink:href=\"#DejaVuSans-48\"/>\n      </g>\n     </g>\n    </g>\n    <g id=\"ytick_4\">\n     <g id=\"line2d_61\">\n      <g>\n       <use style=\"stroke:#000000;stroke-width:0.8;\" x=\"39.65\" xlink:href=\"#m8773ebe7a3\" y=\"338.27361\"/>\n      </g>\n     </g>\n     <g id=\"text_61\">\n      <!-- 750 -->\n      <g transform=\"translate(13.5625 342.072829)scale(0.1 -0.1)\">\n       <use xlink:href=\"#DejaVuSans-55\"/>\n       <use x=\"63.623047\" xlink:href=\"#DejaVuSans-53\"/>\n       <use x=\"127.246094\" xlink:href=\"#DejaVuSans-48\"/>\n      </g>\n     </g>\n    </g>\n    <g id=\"ytick_5\">\n     <g id=\"line2d_62\">\n      <g>\n       <use style=\"stroke:#000000;stroke-width:0.8;\" x=\"39.65\" xlink:href=\"#m8773ebe7a3\" y=\"267.43148\"/>\n      </g>\n     </g>\n     <g id=\"text_62\">\n      <!-- 1000 -->\n      <g transform=\"translate(7.2 271.230699)scale(0.1 -0.1)\">\n       <use xlink:href=\"#DejaVuSans-49\"/>\n       <use x=\"63.623047\" xlink:href=\"#DejaVuSans-48\"/>\n       <use x=\"127.246094\" xlink:href=\"#DejaVuSans-48\"/>\n       <use x=\"190.869141\" xlink:href=\"#DejaVuSans-48\"/>\n      </g>\n     </g>\n    </g>\n    <g id=\"ytick_6\">\n     <g id=\"line2d_63\">\n      <g>\n       <use style=\"stroke:#000000;stroke-width:0.8;\" x=\"39.65\" xlink:href=\"#m8773ebe7a3\" y=\"196.58935\"/>\n      </g>\n     </g>\n     <g id=\"text_63\">\n      <!-- 1250 -->\n      <g transform=\"translate(7.2 200.388569)scale(0.1 -0.1)\">\n       <use xlink:href=\"#DejaVuSans-49\"/>\n       <use x=\"63.623047\" xlink:href=\"#DejaVuSans-50\"/>\n       <use x=\"127.246094\" xlink:href=\"#DejaVuSans-53\"/>\n       <use x=\"190.869141\" xlink:href=\"#DejaVuSans-48\"/>\n      </g>\n     </g>\n    </g>\n    <g id=\"ytick_7\">\n     <g id=\"line2d_64\">\n      <g>\n       <use style=\"stroke:#000000;stroke-width:0.8;\" x=\"39.65\" xlink:href=\"#m8773ebe7a3\" y=\"125.74722\"/>\n      </g>\n     </g>\n     <g id=\"text_64\">\n      <!-- 1500 -->\n      <g transform=\"translate(7.2 129.546439)scale(0.1 -0.1)\">\n       <use xlink:href=\"#DejaVuSans-49\"/>\n       <use x=\"63.623047\" xlink:href=\"#DejaVuSans-53\"/>\n       <use x=\"127.246094\" xlink:href=\"#DejaVuSans-48\"/>\n       <use x=\"190.869141\" xlink:href=\"#DejaVuSans-48\"/>\n      </g>\n     </g>\n    </g>\n    <g id=\"ytick_8\">\n     <g id=\"line2d_65\">\n      <g>\n       <use style=\"stroke:#000000;stroke-width:0.8;\" x=\"39.65\" xlink:href=\"#m8773ebe7a3\" y=\"54.90509\"/>\n      </g>\n     </g>\n     <g id=\"text_65\">\n      <!-- 1750 -->\n      <g transform=\"translate(7.2 58.704309)scale(0.1 -0.1)\">\n       <use xlink:href=\"#DejaVuSans-49\"/>\n       <use x=\"63.623047\" xlink:href=\"#DejaVuSans-55\"/>\n       <use x=\"127.246094\" xlink:href=\"#DejaVuSans-53\"/>\n       <use x=\"190.869141\" xlink:href=\"#DejaVuSans-48\"/>\n      </g>\n     </g>\n    </g>\n   </g>\n   <g id=\"patch_60\">\n    <path d=\"M 39.65 550.8 \nL 39.65 7.2 \n\" style=\"fill:none;stroke:#000000;stroke-linecap:square;stroke-linejoin:miter;stroke-width:0.8;\"/>\n   </g>\n   <g id=\"patch_61\">\n    <path d=\"M 1155.65 550.8 \nL 1155.65 7.2 \n\" style=\"fill:none;stroke:#000000;stroke-linecap:square;stroke-linejoin:miter;stroke-width:0.8;\"/>\n   </g>\n   <g id=\"patch_62\">\n    <path d=\"M 39.65 550.8 \nL 1155.65 550.8 \n\" style=\"fill:none;stroke:#000000;stroke-linecap:square;stroke-linejoin:miter;stroke-width:0.8;\"/>\n   </g>\n   <g id=\"patch_63\">\n    <path d=\"M 39.65 7.2 \nL 1155.65 7.2 \n\" style=\"fill:none;stroke:#000000;stroke-linecap:square;stroke-linejoin:miter;stroke-width:0.8;\"/>\n   </g>\n  </g>\n </g>\n <defs>\n  <clipPath id=\"pc17b191d2b\">\n   <rect height=\"543.6\" width=\"1116\" x=\"39.65\" y=\"7.2\"/>\n  </clipPath>\n </defs>\n</svg>\n",
      "image/png": "[encoded data removed]"
     },
     "metadata": {
      "needs_background": "light"
     }
    }
   ],
   "source": [
    "missing_by_device = export_df[mask].groupby('device_id').count()\n",
    "\n",
    "plt.figure(figsize=(20,10))\n",
    "plt.bar(missing_by_device.index, missing_by_device['time'])\n",
    "plt.xticks(missing_by_device.index, rotation='vertical')\n",
    "plt.show()"
   ]
  },
  {
   "cell_type": "code",
   "execution_count": null,
   "metadata": {},
   "outputs": [],
   "source": []
  },
  {
   "cell_type": "code",
   "execution_count": 85,
   "metadata": {},
   "outputs": [
    {
     "output_type": "display_data",
     "data": {
      "text/plain": "interactive(children=(SelectMultiple(description='Devices', index=(0, 1, 2, 3, 5, 6, 7, 8, 9, 10, 11, 12, 13, …",
      "application/vnd.jupyter.widget-view+json": {
       "version_major": 2,
       "version_minor": 0,
       "model_id": "62c1e9cd3a924d6792f72ccaf4663bb0"
      }
     },
     "metadata": {}
    }
   ],
   "source": [
    "@interact(devices=device_widget, mapping=fixed(dic))\n",
    "def exclude(devices, mapping):\n",
    "    exclude_devices = list(map(lambda x: mapping[x], devices))\n",
    "    x = export_df[mask][~export_df[mask]['device_id'].isin(exclude_devices)]\n",
    "\n",
    "    missing_by_time = x.groupby(x.index).count()\n",
    "\n",
    "    plt.figure(figsize=(20,10))\n",
    "    plt.plot(missing_by_time.index, missing_by_time['device_id'])\n",
    "    plt.show()\n",
    "    print(exclude_devices)"
   ]
  },
  {
   "cell_type": "code",
   "execution_count": 81,
   "metadata": {},
   "outputs": [],
   "source": [
    "%matplotlib widget"
   ]
  },
  {
   "cell_type": "code",
   "execution_count": 84,
   "metadata": {},
   "outputs": [
    {
     "output_type": "display_data",
     "data": {
      "text/plain": "Canvas(toolbar=Toolbar(toolitems=[('Home', 'Reset original view', 'home', 'home'), ('Back', 'Back to previous …",
      "application/vnd.jupyter.widget-view+json": {
       "version_major": 2,
       "version_minor": 0,
       "model_id": "ee5f17acb41a44f8afb3303b00bf236c"
      }
     },
     "metadata": {}
    }
   ],
   "source": [
    "missing_by_time = export_df[mask].groupby(export_df[mask].index).count()\n",
    "\n",
    "plt.figure(figsize=(20,10))\n",
    "plt.plot(missing_by_time.index, missing_by_time['pm25'])\n",
    "#plt.xticks(missing_by_time.index, rotation='vertical')\n",
    "plt.show()"
   ]
  },
  {
   "cell_type": "code",
   "execution_count": 80,
   "metadata": {},
   "outputs": [
    {
     "output_type": "execute_result",
     "data": {
      "text/plain": [
       "                    device_id                time  2m_temperature  \\\n",
       "time                                                                \n",
       "2016-03-08 02:00:00  guanyuan 2016-03-08 02:00:00        0.233333   \n",
       "2016-03-15 14:00:00  guanyuan 2016-03-15 14:00:00       11.733333   \n",
       "2016-04-02 14:00:00  guanyuan 2016-04-02 14:00:00       17.866667   \n",
       "2016-04-03 14:00:00  guanyuan 2016-04-03 14:00:00       18.866667   \n",
       "2016-04-18 08:00:00  guanyuan 2016-04-18 08:00:00       13.866667   \n",
       "...                       ...                 ...             ...   \n",
       "2020-10-27 02:00:00     1079A 2020-10-27 02:00:00       13.944444   \n",
       "2020-10-28 14:00:00     1079A 2020-10-28 14:00:00       18.127778   \n",
       "2020-11-04 14:00:00     1079A 2020-11-04 14:00:00       21.116667   \n",
       "2020-12-25 20:00:00     1079A 2020-12-25 20:00:00        2.794444   \n",
       "2020-12-27 02:00:00     1079A 2020-12-27 02:00:00       -3.416667   \n",
       "\n",
       "                     relative_humidity+950  total_precipitation  wind_speed  \\\n",
       "time                                                                          \n",
       "2016-03-08 02:00:00                   22.0                  0.0        7.28   \n",
       "2016-03-15 14:00:00                   35.0                  0.0        4.08   \n",
       "2016-04-02 14:00:00                   14.0                  0.0       15.65   \n",
       "2016-04-03 14:00:00                   11.0                  0.0        4.48   \n",
       "2016-04-18 08:00:00                   31.0                  0.0        6.72   \n",
       "...                                    ...                  ...         ...   \n",
       "2020-10-27 02:00:00                   61.0                  0.0        9.54   \n",
       "2020-10-28 14:00:00                   15.0                  0.0        3.36   \n",
       "2020-11-04 14:00:00                   13.0                  0.0       12.85   \n",
       "2020-12-25 20:00:00                   31.0                  0.0        4.62   \n",
       "2020-12-27 02:00:00                   56.0                  0.0        3.94   \n",
       "\n",
       "                     wind_direction  pm25  \n",
       "time                                       \n",
       "2016-03-08 02:00:00            41.0   NaN  \n",
       "2016-03-15 14:00:00           200.0   NaN  \n",
       "2016-04-02 14:00:00           290.0   NaN  \n",
       "2016-04-03 14:00:00           180.0   NaN  \n",
       "2016-04-18 08:00:00             0.0   NaN  \n",
       "...                             ...   ...  \n",
       "2020-10-27 02:00:00             2.0   NaN  \n",
       "2020-10-28 14:00:00           139.0   NaN  \n",
       "2020-11-04 14:00:00           176.0   NaN  \n",
       "2020-12-25 20:00:00           343.0   NaN  \n",
       "2020-12-27 02:00:00           348.0   NaN  \n",
       "\n",
       "[67863 rows x 8 columns]"
      ],
      "text/html": "<div>\n<style scoped>\n    .dataframe tbody tr th:only-of-type {\n        vertical-align: middle;\n    }\n\n    .dataframe tbody tr th {\n        vertical-align: top;\n    }\n\n    .dataframe thead th {\n        text-align: right;\n    }\n</style>\n<table border=\"1\" class=\"dataframe\">\n  <thead>\n    <tr style=\"text-align: right;\">\n      <th></th>\n      <th>device_id</th>\n      <th>time</th>\n      <th>2m_temperature</th>\n      <th>relative_humidity+950</th>\n      <th>total_precipitation</th>\n      <th>wind_speed</th>\n      <th>wind_direction</th>\n      <th>pm25</th>\n    </tr>\n    <tr>\n      <th>time</th>\n      <th></th>\n      <th></th>\n      <th></th>\n      <th></th>\n      <th></th>\n      <th></th>\n      <th></th>\n      <th></th>\n    </tr>\n  </thead>\n  <tbody>\n    <tr>\n      <th>2016-03-08 02:00:00</th>\n      <td>guanyuan</td>\n      <td>2016-03-08 02:00:00</td>\n      <td>0.233333</td>\n      <td>22.0</td>\n      <td>0.0</td>\n      <td>7.28</td>\n      <td>41.0</td>\n      <td>NaN</td>\n    </tr>\n    <tr>\n      <th>2016-03-15 14:00:00</th>\n      <td>guanyuan</td>\n      <td>2016-03-15 14:00:00</td>\n      <td>11.733333</td>\n      <td>35.0</td>\n      <td>0.0</td>\n      <td>4.08</td>\n      <td>200.0</td>\n      <td>NaN</td>\n    </tr>\n    <tr>\n      <th>2016-04-02 14:00:00</th>\n      <td>guanyuan</td>\n      <td>2016-04-02 14:00:00</td>\n      <td>17.866667</td>\n      <td>14.0</td>\n      <td>0.0</td>\n      <td>15.65</td>\n      <td>290.0</td>\n      <td>NaN</td>\n    </tr>\n    <tr>\n      <th>2016-04-03 14:00:00</th>\n      <td>guanyuan</td>\n      <td>2016-04-03 14:00:00</td>\n      <td>18.866667</td>\n      <td>11.0</td>\n      <td>0.0</td>\n      <td>4.48</td>\n      <td>180.0</td>\n      <td>NaN</td>\n    </tr>\n    <tr>\n      <th>2016-04-18 08:00:00</th>\n      <td>guanyuan</td>\n      <td>2016-04-18 08:00:00</td>\n      <td>13.866667</td>\n      <td>31.0</td>\n      <td>0.0</td>\n      <td>6.72</td>\n      <td>0.0</td>\n      <td>NaN</td>\n    </tr>\n    <tr>\n      <th>...</th>\n      <td>...</td>\n      <td>...</td>\n      <td>...</td>\n      <td>...</td>\n      <td>...</td>\n      <td>...</td>\n      <td>...</td>\n      <td>...</td>\n    </tr>\n    <tr>\n      <th>2020-10-27 02:00:00</th>\n      <td>1079A</td>\n      <td>2020-10-27 02:00:00</td>\n      <td>13.944444</td>\n      <td>61.0</td>\n      <td>0.0</td>\n      <td>9.54</td>\n      <td>2.0</td>\n      <td>NaN</td>\n    </tr>\n    <tr>\n      <th>2020-10-28 14:00:00</th>\n      <td>1079A</td>\n      <td>2020-10-28 14:00:00</td>\n      <td>18.127778</td>\n      <td>15.0</td>\n      <td>0.0</td>\n      <td>3.36</td>\n      <td>139.0</td>\n      <td>NaN</td>\n    </tr>\n    <tr>\n      <th>2020-11-04 14:00:00</th>\n      <td>1079A</td>\n      <td>2020-11-04 14:00:00</td>\n      <td>21.116667</td>\n      <td>13.0</td>\n      <td>0.0</td>\n      <td>12.85</td>\n      <td>176.0</td>\n      <td>NaN</td>\n    </tr>\n    <tr>\n      <th>2020-12-25 20:00:00</th>\n      <td>1079A</td>\n      <td>2020-12-25 20:00:00</td>\n      <td>2.794444</td>\n      <td>31.0</td>\n      <td>0.0</td>\n      <td>4.62</td>\n      <td>343.0</td>\n      <td>NaN</td>\n    </tr>\n    <tr>\n      <th>2020-12-27 02:00:00</th>\n      <td>1079A</td>\n      <td>2020-12-27 02:00:00</td>\n      <td>-3.416667</td>\n      <td>56.0</td>\n      <td>0.0</td>\n      <td>3.94</td>\n      <td>348.0</td>\n      <td>NaN</td>\n    </tr>\n  </tbody>\n</table>\n<p>67863 rows × 8 columns</p>\n</div>"
     },
     "metadata": {},
     "execution_count": 80
    }
   ],
   "source": [
    "export_df[mask]"
   ]
  },
  {
   "cell_type": "code",
   "execution_count": 79,
   "metadata": {},
   "outputs": [
    {
     "output_type": "stream",
     "name": "stdout",
     "text": [
      "5810×8 object ndarray\n"
     ]
    },
    {
     "output_type": "display_data",
     "data": {
      "text/plain": "interactive(children=(Text(value='[:100, :]', description='Slice:', placeholder='e.g. [:100, :]'), Output()), …",
      "application/vnd.jupyter.widget-view+json": {
       "version_major": 2,
       "version_minor": 0,
       "model_id": "e7aab22a3ef6438491812cfe7a9003c0"
      }
     },
     "metadata": {}
    },
    {
     "output_type": "execute_result",
     "data": {
      "text/plain": []
     },
     "metadata": {},
     "execution_count": 79
    }
   ],
   "source": [
    "temp = missing_by_time.copy()\n",
    "temp['time'] = temp.index\n",
    "temp.to_numpy()"
   ]
  },
  {
   "cell_type": "code",
   "execution_count": 42,
   "metadata": {},
   "outputs": [],
   "source": [
    "export_grouped = export_df.groupby('device_id').apply(pd.DataFrame.to_numpy)\n",
    "y = list(map(lambda x: x[:,1:], export_grouped))"
   ]
  },
  {
   "cell_type": "code",
   "execution_count": 43,
   "metadata": {},
   "outputs": [
    {
     "output_type": "stream",
     "name": "stdout",
     "text": [
      "14616×87×7 object ndarray\n"
     ]
    },
    {
     "output_type": "display_data",
     "data": {
      "text/plain": "interactive(children=(Text(value='[:100, :, 0]', description='Slice:', placeholder='e.g. [:100, :, 0]'), Outpu…",
      "application/vnd.jupyter.widget-view+json": {
       "version_major": 2,
       "version_minor": 0,
       "model_id": "1b10772942bd44059df2a45edca52254"
      }
     },
     "metadata": {}
    },
    {
     "output_type": "execute_result",
     "data": {
      "text/plain": []
     },
     "metadata": {},
     "execution_count": 43
    }
   ],
   "source": [
    "# time × city × measure (17 features, 1 col for PM25)\n",
    "z = np.array(y)\n",
    "z = z.swapaxes(0, 1)\n",
    "z"
   ]
  }
 ]
}