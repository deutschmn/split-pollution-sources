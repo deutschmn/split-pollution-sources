{
 "metadata": {
  "language_info": {
   "codemirror_mode": {
    "name": "ipython",
    "version": 3
   },
   "file_extension": ".py",
   "mimetype": "text/x-python",
   "name": "python",
   "nbconvert_exporter": "python",
   "pygments_lexer": "ipython3",
   "version": "3.9.1-final"
  },
  "orig_nbformat": 2,
  "kernelspec": {
   "name": "python3",
   "display_name": "Python 3.9.1 64-bit",
   "metadata": {
    "interpreter": {
     "hash": "4cd7ab41f5fca4b9b44701077e38c5ffd31fe66a6cab21e0214b68d958d0e462"
    }
   }
  }
 },
 "nbformat": 4,
 "nbformat_minor": 2,
 "cells": [
  {
   "cell_type": "code",
   "execution_count": 1,
   "metadata": {},
   "outputs": [],
   "source": [
    "from __future__ import print_function\n",
    "\n",
    "import plotly.express as px\n",
    "\n",
    "from ipywidgets import interact, interactive, fixed, interact_manual\n",
    "import ipywidgets as widgets\n",
    "\n",
    "import numpy as np\n",
    "import pandas as pd\n",
    "import geopandas as gpd\n",
    "\n",
    "import datetime\n",
    "\n",
    "import matplotlib.pyplot as plt"
   ]
  },
  {
   "cell_type": "code",
   "execution_count": 2,
   "metadata": {},
   "outputs": [],
   "source": [
    "%matplotlib widget"
   ]
  },
  {
   "source": [
    "## Load data\n",
    "\n",
    "### Metadata"
   ],
   "cell_type": "markdown",
   "metadata": {}
  },
  {
   "cell_type": "code",
   "execution_count": 3,
   "metadata": {},
   "outputs": [],
   "source": [
    "bj = pd.read_csv('data/bj_stations.csv')\n",
    "bj = bj.rename(columns={'deviceid': 'device_id'})\n",
    "bj[\"city\"] = \"Beijing\"\n",
    "\n",
    "hebei = pd.read_csv('data/hebei_translated.csv')\n",
    "\n",
    "meta = pd.concat([bj, hebei])\n",
    "\n",
    "meta = gpd.GeoDataFrame(meta, geometry=gpd.points_from_xy(meta.lon, meta.lat))"
   ]
  },
  {
   "cell_type": "code",
   "execution_count": 4,
   "metadata": {},
   "outputs": [
    {
     "output_type": "display_data",
     "data": {
      "application/vnd.plotly.v1+json": {
       "config": {
        "plotlyServerURL": "https://plot.ly"
       },
       "data": [
        {
         "customdata": [
          [
           "dongsi",
           null
          ],
          [
           "tiantan",
           null
          ],
          [
           "guanyuan",
           null
          ],
          [
           "wanshouxigong",
           null
          ],
          [
           "aotizhongxin",
           null
          ],
          [
           "nongzhanguan",
           null
          ],
          [
           "wanliu",
           null
          ],
          [
           "beibuxinqu",
           null
          ],
          [
           "zhiwuyuan",
           null
          ],
          [
           "fengtaihuayuan",
           null
          ],
          [
           "yungang",
           null
          ],
          [
           "gucheng",
           null
          ],
          [
           "fangshan",
           null
          ],
          [
           "daxing",
           null
          ],
          [
           "yizhuang",
           null
          ],
          [
           "tongzhou",
           null
          ],
          [
           "shunyi",
           null
          ],
          [
           "changping",
           null
          ],
          [
           "mentougou",
           null
          ],
          [
           "pinggu",
           null
          ],
          [
           "huairou",
           null
          ],
          [
           "miyun",
           null
          ],
          [
           "yanqing",
           null
          ],
          [
           "dingling",
           null
          ],
          [
           "badaling",
           null
          ],
          [
           "miyunshuiku",
           null
          ],
          [
           "donggaocun",
           null
          ],
          [
           "yongledian",
           null
          ],
          [
           "yufa",
           null
          ],
          [
           "liulihe",
           null
          ],
          [
           "qianmen",
           null
          ],
          [
           "yongdingmennei",
           null
          ],
          [
           "xizhimenbei",
           null
          ],
          [
           "nansanhuan",
           null
          ],
          [
           "dongsihuan",
           null
          ],
          [
           "1029A",
           "Staff Hospital"
          ],
          [
           "1030A",
           "High-tech Zone"
          ],
          [
           "1031A",
           "Northwest Water Source"
          ],
          [
           "1032A",
           "Southwest Higher Education"
          ],
          [
           "1033A",
           "Century Park"
          ],
          [
           "1034A",
           "People's Hall"
          ],
          [
           "1035A",
           "Fenglong Mountain"
          ],
          [
           "1036A",
           "Supply and Marketing Cooperative"
          ],
          [
           "1037A",
           "radar station"
          ],
          [
           "1038A",
           "Material Bureau"
          ],
          [
           "1039A",
           "Ceramic Company"
          ],
          [
           "1040A",
           "Twelfth Middle School"
          ],
          [
           "1041A",
           "Xiaoshan"
          ],
          [
           "1042A",
           "Beidaihe Environmental Protection Bureau"
          ],
          [
           "1043A",
           "the first pass"
          ],
          [
           "1044A",
           "Monitoring Station"
          ],
          [
           "1045A",
           "Municipal Government"
          ],
          [
           "1046A",
           "Jianshe Building"
          ],
          [
           "1047A",
           "Environmental Protection Bureau"
          ],
          [
           "1048A",
           "East Sewage Treatment Plant"
          ],
          [
           "1049A",
           "Mining Institute"
          ],
          [
           "1050A",
           "Congtai Park"
          ],
          [
           "1051A",
           "Swimming Pool"
          ],
          [
           "1052A",
           "Huadian District 2"
          ],
          [
           "1053A",
           "Reception Center"
          ],
          [
           "1054A",
           "Surface Water Plant"
          ],
          [
           "1055A",
           "Film Factory"
          ],
          [
           "1056A",
           "Monitoring Station"
          ],
          [
           "1057A",
           "People's Park"
          ],
          [
           "1058A",
           "Tanji Factory"
          ],
          [
           "1059A",
           "Hardware Depot"
          ],
          [
           "1060A",
           "Century Plaza"
          ],
          [
           "1061A",
           "North Pump House"
          ],
          [
           "1062A",
           "Railway"
          ],
          [
           "1063A",
           "Bank of China"
          ],
          [
           "1064A",
           "Development Zone"
          ],
          [
           "1065A",
           "Cultural Center"
          ],
          [
           "1066A",
           "Li Palace"
          ],
          [
           "1067A",
           "Medicinal Materials Company"
          ],
          [
           "1068A",
           "Development Zone"
          ],
          [
           "1069A",
           "Environmental Monitoring Supervision Center"
          ],
          [
           "1070A",
           "Beihua University of Aeronautics and Astronautics"
          ],
          [
           "1071A",
           "Cang County Urban Construction Bureau"
          ],
          [
           "1072A",
           "TV relay station"
          ],
          [
           "1073A",
           "Municipal Environmental Protection Bureau"
          ],
          [
           "1074A",
           "North Motor Factory"
          ],
          [
           "1075A",
           "City Monitoring Station"
          ],
          [
           "1076A",
           "Municipal Environmental Protection Bureau"
          ],
          [
           "1077A",
           "Dahuo Spring"
          ],
          [
           "1078A",
           "Xing Teachers College"
          ],
          [
           "1079A",
           "Road and Bridge Company"
          ],
          [
           "1080A",
           "Municipal Environmental Protection Bureau"
          ]
         ],
         "hovertemplate": "<b>%{hovertext}</b><br><br>lat=%{lat}<br>lon=%{lon}<br>device_id=%{customdata[0]}<br>device_name=%{customdata[1]}<extra></extra>",
         "hovertext": [
          "Beijing",
          "Beijing",
          "Beijing",
          "Beijing",
          "Beijing",
          "Beijing",
          "Beijing",
          "Beijing",
          "Beijing",
          "Beijing",
          "Beijing",
          "Beijing",
          "Beijing",
          "Beijing",
          "Beijing",
          "Beijing",
          "Beijing",
          "Beijing",
          "Beijing",
          "Beijing",
          "Beijing",
          "Beijing",
          "Beijing",
          "Beijing",
          "Beijing",
          "Beijing",
          "Beijing",
          "Beijing",
          "Beijing",
          "Beijing",
          "Beijing",
          "Beijing",
          "Beijing",
          "Beijing",
          "Beijing",
          "Shijiazhuang",
          "Shijiazhuang",
          "Shijiazhuang",
          "Shijiazhuang",
          "Shijiazhuang",
          "Shijiazhuang",
          "Shijiazhuang",
          "Tangshan",
          "Tangshan",
          "Tangshan",
          "Tangshan",
          "Tangshan",
          "Tangshan",
          "Qinhuangdao",
          "Qinhuangdao",
          "Qinhuangdao",
          "Qinhuangdao",
          "Qinhuangdao",
          "Handan",
          "Handan",
          "Handan",
          "Handan",
          "Baoding",
          "Baoding",
          "Baoding",
          "Baoding",
          "Baoding",
          "Baoding",
          "Zhangjiakou",
          "Zhangjiakou",
          "Zhangjiakou",
          "Zhangjiakou",
          "Zhangjiakou",
          "Chengde",
          "Chengde",
          "Chengde",
          "Chengde",
          "Chengde",
          "Langfang",
          "Langfang",
          "Langfang",
          "Langfang",
          "Cangzhou",
          "Cangzhou",
          "Cangzhou",
          "Hengshui",
          "Hengshui",
          "Hengshui",
          "Xingtai",
          "Xingtai",
          "Xingtai",
          "Xingtai"
         ],
         "lat": [
          39.929,
          39.886,
          39.929,
          39.878,
          39.982,
          39.937,
          39.987,
          40.09,
          40.002,
          39.863,
          39.824,
          39.914,
          39.742,
          39.718,
          39.795,
          39.886,
          40.127,
          40.217,
          39.937,
          40.143,
          40.328,
          40.37,
          40.453,
          40.292,
          40.365,
          40.499,
          40.1,
          39.712,
          39.52,
          39.58,
          39.899,
          39.876,
          39.954,
          39.856,
          39.939,
          38.0513,
          38.0398,
          38.1398,
          38.00583333,
          38.01777778,
          38.0524,
          37.9097,
          39.6308,
          39.643,
          39.6407,
          39.6679,
          39.65782,
          39.6295,
          39.8283,
          40.0181,
          39.9567,
          39.9358,
          39.9419,
          36.61763,
          36.6164,
          36.5776,
          36.61981,
          38.8632,
          38.8957,
          38.9108,
          38.8416,
          38.8756,
          38.8707,
          40.8367,
          40.79481,
          40.8115,
          40.7688,
          40.8725,
          40.9161,
          40.9843,
          40.9359,
          40.9733,
          41.0112,
          39.5178,
          39.5747,
          39.5571,
          39.5343,
          38.2991,
          38.3254,
          38.3228,
          37.7575,
          37.7379,
          37.739,
          37.0967,
          37.0533,
          37.0964,
          37.062
         ],
         "legendgroup": "",
         "lon": [
          116.417,
          116.407,
          116.339,
          116.352,
          116.397,
          116.461,
          116.287,
          116.174,
          116.207,
          116.279,
          116.146,
          116.184,
          116.136,
          116.404,
          116.506,
          116.663,
          116.655,
          116.23,
          116.106,
          117.1,
          116.628,
          116.832,
          115.972,
          116.22,
          115.988,
          116.911,
          117.12,
          116.783,
          116.3,
          116,
          116.395,
          116.394,
          116.349,
          116.368,
          116.483,
          114.4548,
          114.6046,
          114.5019,
          114.4586111,
          114.53305559999998,
          114.5214,
          114.3541,
          118.1662,
          118.144,
          118.1853,
          118.2185,
          118.1838,
          118.1997,
          119.5259,
          119.7624,
          119.6023,
          119.607,
          119.5369,
          114.5129,
          114.5426,
          114.5035,
          114.4965,
          115.493,
          115.5223,
          115.4713,
          115.4612,
          115.442,
          115.5214,
          114.8985,
          114.892,
          114.8814,
          114.9032,
          114.904,
          117.9664,
          117.9525,
          117.963,
          117.8184,
          117.9384,
          116.6838,
          116.7729,
          116.715,
          116.7464,
          116.8854,
          116.8584,
          116.8709,
          115.6951,
          115.6426,
          115.6906,
          114.4821,
          114.5261,
          114.5331,
          114.4854
         ],
         "marker": {
          "color": "#636efa"
         },
         "mode": "markers",
         "name": "",
         "showlegend": false,
         "subplot": "mapbox",
         "type": "scattermapbox"
        }
       ],
       "layout": {
        "autosize": true,
        "height": 700,
        "hovermode": "closest",
        "legend": {
         "tracegroupgap": 0
        },
        "mapbox": {
         "bearing": 0,
         "center": {
          "lat": 39,
          "lon": 117
         },
         "domain": {
          "x": [
           0,
           1
          ],
          "y": [
           0,
           1
          ]
         },
         "pitch": 0,
         "style": "stamen-terrain",
         "zoom": 5
        },
        "margin": {
         "t": 60
        },
        "showlegend": false,
        "template": {
         "data": {
          "bar": [
           {
            "error_x": {
             "color": "#2a3f5f"
            },
            "error_y": {
             "color": "#2a3f5f"
            },
            "marker": {
             "line": {
              "color": "#E5ECF6",
              "width": 0.5
             }
            },
            "type": "bar"
           }
          ],
          "barpolar": [
           {
            "marker": {
             "line": {
              "color": "#E5ECF6",
              "width": 0.5
             }
            },
            "type": "barpolar"
           }
          ],
          "carpet": [
           {
            "aaxis": {
             "endlinecolor": "#2a3f5f",
             "gridcolor": "white",
             "linecolor": "white",
             "minorgridcolor": "white",
             "startlinecolor": "#2a3f5f"
            },
            "baxis": {
             "endlinecolor": "#2a3f5f",
             "gridcolor": "white",
             "linecolor": "white",
             "minorgridcolor": "white",
             "startlinecolor": "#2a3f5f"
            },
            "type": "carpet"
           }
          ],
          "choropleth": [
           {
            "colorbar": {
             "outlinewidth": 0,
             "ticks": ""
            },
            "type": "choropleth"
           }
          ],
          "contour": [
           {
            "colorbar": {
             "outlinewidth": 0,
             "ticks": ""
            },
            "colorscale": [
             [
              0,
              "#0d0887"
             ],
             [
              0.1111111111111111,
              "#46039f"
             ],
             [
              0.2222222222222222,
              "#7201a8"
             ],
             [
              0.3333333333333333,
              "#9c179e"
             ],
             [
              0.4444444444444444,
              "#bd3786"
             ],
             [
              0.5555555555555556,
              "#d8576b"
             ],
             [
              0.6666666666666666,
              "#ed7953"
             ],
             [
              0.7777777777777778,
              "#fb9f3a"
             ],
             [
              0.8888888888888888,
              "#fdca26"
             ],
             [
              1,
              "#f0f921"
             ]
            ],
            "type": "contour"
           }
          ],
          "contourcarpet": [
           {
            "colorbar": {
             "outlinewidth": 0,
             "ticks": ""
            },
            "type": "contourcarpet"
           }
          ],
          "heatmap": [
           {
            "colorbar": {
             "outlinewidth": 0,
             "ticks": ""
            },
            "colorscale": [
             [
              0,
              "#0d0887"
             ],
             [
              0.1111111111111111,
              "#46039f"
             ],
             [
              0.2222222222222222,
              "#7201a8"
             ],
             [
              0.3333333333333333,
              "#9c179e"
             ],
             [
              0.4444444444444444,
              "#bd3786"
             ],
             [
              0.5555555555555556,
              "#d8576b"
             ],
             [
              0.6666666666666666,
              "#ed7953"
             ],
             [
              0.7777777777777778,
              "#fb9f3a"
             ],
             [
              0.8888888888888888,
              "#fdca26"
             ],
             [
              1,
              "#f0f921"
             ]
            ],
            "type": "heatmap"
           }
          ],
          "heatmapgl": [
           {
            "colorbar": {
             "outlinewidth": 0,
             "ticks": ""
            },
            "colorscale": [
             [
              0,
              "#0d0887"
             ],
             [
              0.1111111111111111,
              "#46039f"
             ],
             [
              0.2222222222222222,
              "#7201a8"
             ],
             [
              0.3333333333333333,
              "#9c179e"
             ],
             [
              0.4444444444444444,
              "#bd3786"
             ],
             [
              0.5555555555555556,
              "#d8576b"
             ],
             [
              0.6666666666666666,
              "#ed7953"
             ],
             [
              0.7777777777777778,
              "#fb9f3a"
             ],
             [
              0.8888888888888888,
              "#fdca26"
             ],
             [
              1,
              "#f0f921"
             ]
            ],
            "type": "heatmapgl"
           }
          ],
          "histogram": [
           {
            "marker": {
             "colorbar": {
              "outlinewidth": 0,
              "ticks": ""
             }
            },
            "type": "histogram"
           }
          ],
          "histogram2d": [
           {
            "colorbar": {
             "outlinewidth": 0,
             "ticks": ""
            },
            "colorscale": [
             [
              0,
              "#0d0887"
             ],
             [
              0.1111111111111111,
              "#46039f"
             ],
             [
              0.2222222222222222,
              "#7201a8"
             ],
             [
              0.3333333333333333,
              "#9c179e"
             ],
             [
              0.4444444444444444,
              "#bd3786"
             ],
             [
              0.5555555555555556,
              "#d8576b"
             ],
             [
              0.6666666666666666,
              "#ed7953"
             ],
             [
              0.7777777777777778,
              "#fb9f3a"
             ],
             [
              0.8888888888888888,
              "#fdca26"
             ],
             [
              1,
              "#f0f921"
             ]
            ],
            "type": "histogram2d"
           }
          ],
          "histogram2dcontour": [
           {
            "colorbar": {
             "outlinewidth": 0,
             "ticks": ""
            },
            "colorscale": [
             [
              0,
              "#0d0887"
             ],
             [
              0.1111111111111111,
              "#46039f"
             ],
             [
              0.2222222222222222,
              "#7201a8"
             ],
             [
              0.3333333333333333,
              "#9c179e"
             ],
             [
              0.4444444444444444,
              "#bd3786"
             ],
             [
              0.5555555555555556,
              "#d8576b"
             ],
             [
              0.6666666666666666,
              "#ed7953"
             ],
             [
              0.7777777777777778,
              "#fb9f3a"
             ],
             [
              0.8888888888888888,
              "#fdca26"
             ],
             [
              1,
              "#f0f921"
             ]
            ],
            "type": "histogram2dcontour"
           }
          ],
          "mesh3d": [
           {
            "colorbar": {
             "outlinewidth": 0,
             "ticks": ""
            },
            "type": "mesh3d"
           }
          ],
          "parcoords": [
           {
            "line": {
             "colorbar": {
              "outlinewidth": 0,
              "ticks": ""
             }
            },
            "type": "parcoords"
           }
          ],
          "pie": [
           {
            "automargin": true,
            "type": "pie"
           }
          ],
          "scatter": [
           {
            "marker": {
             "colorbar": {
              "outlinewidth": 0,
              "ticks": ""
             }
            },
            "type": "scatter"
           }
          ],
          "scatter3d": [
           {
            "line": {
             "colorbar": {
              "outlinewidth": 0,
              "ticks": ""
             }
            },
            "marker": {
             "colorbar": {
              "outlinewidth": 0,
              "ticks": ""
             }
            },
            "type": "scatter3d"
           }
          ],
          "scattercarpet": [
           {
            "marker": {
             "colorbar": {
              "outlinewidth": 0,
              "ticks": ""
             }
            },
            "type": "scattercarpet"
           }
          ],
          "scattergeo": [
           {
            "marker": {
             "colorbar": {
              "outlinewidth": 0,
              "ticks": ""
             }
            },
            "type": "scattergeo"
           }
          ],
          "scattergl": [
           {
            "marker": {
             "colorbar": {
              "outlinewidth": 0,
              "ticks": ""
             }
            },
            "type": "scattergl"
           }
          ],
          "scattermapbox": [
           {
            "marker": {
             "colorbar": {
              "outlinewidth": 0,
              "ticks": ""
             }
            },
            "type": "scattermapbox"
           }
          ],
          "scatterpolar": [
           {
            "marker": {
             "colorbar": {
              "outlinewidth": 0,
              "ticks": ""
             }
            },
            "type": "scatterpolar"
           }
          ],
          "scatterpolargl": [
           {
            "marker": {
             "colorbar": {
              "outlinewidth": 0,
              "ticks": ""
             }
            },
            "type": "scatterpolargl"
           }
          ],
          "scatterternary": [
           {
            "marker": {
             "colorbar": {
              "outlinewidth": 0,
              "ticks": ""
             }
            },
            "type": "scatterternary"
           }
          ],
          "surface": [
           {
            "colorbar": {
             "outlinewidth": 0,
             "ticks": ""
            },
            "colorscale": [
             [
              0,
              "#0d0887"
             ],
             [
              0.1111111111111111,
              "#46039f"
             ],
             [
              0.2222222222222222,
              "#7201a8"
             ],
             [
              0.3333333333333333,
              "#9c179e"
             ],
             [
              0.4444444444444444,
              "#bd3786"
             ],
             [
              0.5555555555555556,
              "#d8576b"
             ],
             [
              0.6666666666666666,
              "#ed7953"
             ],
             [
              0.7777777777777778,
              "#fb9f3a"
             ],
             [
              0.8888888888888888,
              "#fdca26"
             ],
             [
              1,
              "#f0f921"
             ]
            ],
            "type": "surface"
           }
          ],
          "table": [
           {
            "cells": {
             "fill": {
              "color": "#EBF0F8"
             },
             "line": {
              "color": "white"
             }
            },
            "header": {
             "fill": {
              "color": "#C8D4E3"
             },
             "line": {
              "color": "white"
             }
            },
            "type": "table"
           }
          ]
         },
         "layout": {
          "annotationdefaults": {
           "arrowcolor": "#2a3f5f",
           "arrowhead": 0,
           "arrowwidth": 1
          },
          "autotypenumbers": "strict",
          "coloraxis": {
           "colorbar": {
            "outlinewidth": 0,
            "ticks": ""
           }
          },
          "colorscale": {
           "diverging": [
            [
             0,
             "#8e0152"
            ],
            [
             0.1,
             "#c51b7d"
            ],
            [
             0.2,
             "#de77ae"
            ],
            [
             0.3,
             "#f1b6da"
            ],
            [
             0.4,
             "#fde0ef"
            ],
            [
             0.5,
             "#f7f7f7"
            ],
            [
             0.6,
             "#e6f5d0"
            ],
            [
             0.7,
             "#b8e186"
            ],
            [
             0.8,
             "#7fbc41"
            ],
            [
             0.9,
             "#4d9221"
            ],
            [
             1,
             "#276419"
            ]
           ],
           "sequential": [
            [
             0,
             "#0d0887"
            ],
            [
             0.1111111111111111,
             "#46039f"
            ],
            [
             0.2222222222222222,
             "#7201a8"
            ],
            [
             0.3333333333333333,
             "#9c179e"
            ],
            [
             0.4444444444444444,
             "#bd3786"
            ],
            [
             0.5555555555555556,
             "#d8576b"
            ],
            [
             0.6666666666666666,
             "#ed7953"
            ],
            [
             0.7777777777777778,
             "#fb9f3a"
            ],
            [
             0.8888888888888888,
             "#fdca26"
            ],
            [
             1,
             "#f0f921"
            ]
           ],
           "sequentialminus": [
            [
             0,
             "#0d0887"
            ],
            [
             0.1111111111111111,
             "#46039f"
            ],
            [
             0.2222222222222222,
             "#7201a8"
            ],
            [
             0.3333333333333333,
             "#9c179e"
            ],
            [
             0.4444444444444444,
             "#bd3786"
            ],
            [
             0.5555555555555556,
             "#d8576b"
            ],
            [
             0.6666666666666666,
             "#ed7953"
            ],
            [
             0.7777777777777778,
             "#fb9f3a"
            ],
            [
             0.8888888888888888,
             "#fdca26"
            ],
            [
             1,
             "#f0f921"
            ]
           ]
          },
          "colorway": [
           "#636efa",
           "#EF553B",
           "#00cc96",
           "#ab63fa",
           "#FFA15A",
           "#19d3f3",
           "#FF6692",
           "#B6E880",
           "#FF97FF",
           "#FECB52"
          ],
          "font": {
           "color": "#2a3f5f"
          },
          "geo": {
           "bgcolor": "white",
           "lakecolor": "white",
           "landcolor": "#E5ECF6",
           "showlakes": true,
           "showland": true,
           "subunitcolor": "white"
          },
          "hoverlabel": {
           "align": "left"
          },
          "hovermode": "closest",
          "mapbox": {
           "style": "light"
          },
          "paper_bgcolor": "white",
          "plot_bgcolor": "#E5ECF6",
          "polar": {
           "angularaxis": {
            "gridcolor": "white",
            "linecolor": "white",
            "ticks": ""
           },
           "bgcolor": "#E5ECF6",
           "radialaxis": {
            "gridcolor": "white",
            "linecolor": "white",
            "ticks": ""
           }
          },
          "scene": {
           "xaxis": {
            "backgroundcolor": "#E5ECF6",
            "gridcolor": "white",
            "gridwidth": 2,
            "linecolor": "white",
            "showbackground": true,
            "ticks": "",
            "zerolinecolor": "white"
           },
           "yaxis": {
            "backgroundcolor": "#E5ECF6",
            "gridcolor": "white",
            "gridwidth": 2,
            "linecolor": "white",
            "showbackground": true,
            "ticks": "",
            "zerolinecolor": "white"
           },
           "zaxis": {
            "backgroundcolor": "#E5ECF6",
            "gridcolor": "white",
            "gridwidth": 2,
            "linecolor": "white",
            "showbackground": true,
            "ticks": "",
            "zerolinecolor": "white"
           }
          },
          "shapedefaults": {
           "line": {
            "color": "#2a3f5f"
           }
          },
          "ternary": {
           "aaxis": {
            "gridcolor": "white",
            "linecolor": "white",
            "ticks": ""
           },
           "baxis": {
            "gridcolor": "white",
            "linecolor": "white",
            "ticks": ""
           },
           "bgcolor": "#E5ECF6",
           "caxis": {
            "gridcolor": "white",
            "linecolor": "white",
            "ticks": ""
           }
          },
          "title": {
           "x": 0.05
          },
          "xaxis": {
           "automargin": true,
           "gridcolor": "white",
           "linecolor": "white",
           "ticks": "",
           "title": {
            "standoff": 15
           },
           "zerolinecolor": "white",
           "zerolinewidth": 2
          },
          "yaxis": {
           "automargin": true,
           "gridcolor": "white",
           "linecolor": "white",
           "ticks": "",
           "title": {
            "standoff": 15
           },
           "zerolinecolor": "white",
           "zerolinewidth": 2
          }
         }
        },
        "title": {
         "text": "Devices"
        },
        "width": 1000
       }
      }
     },
     "metadata": {}
    }
   ],
   "source": [
    "fig = px.scatter_mapbox(meta,\n",
    "                        lat=meta.geometry.y,\n",
    "                        lon=meta.geometry.x,\n",
    "                        hover_name='city',\n",
    "                        hover_data=[\"device_id\", 'device_name'],\n",
    "                        width=1000, height=700)\n",
    "\n",
    "fig.update_layout(\n",
    "    title='Devices',\n",
    "    autosize=True,\n",
    "    hovermode='closest',\n",
    "    showlegend=False,\n",
    "    mapbox=dict(\n",
    "        bearing=0,\n",
    "        center=dict(\n",
    "            lat=39,\n",
    "            lon=117\n",
    "        ),\n",
    "        pitch=0,\n",
    "        zoom=5,\n",
    "        style='stamen-terrain'\n",
    "    ),\n",
    ")\n",
    "\n",
    "fig.show()"
   ]
  },
  {
   "source": [
    "### Air quality measurements and weather data"
   ],
   "cell_type": "markdown",
   "metadata": {}
  },
  {
   "cell_type": "code",
   "execution_count": 5,
   "metadata": {},
   "outputs": [
    {
     "output_type": "stream",
     "name": "stdout",
     "text": [
      "[Errno 2] No such file or directory: 'data/wea/fangshan.csv'\n",
      "[Errno 2] No such file or directory: 'data/wea/miyun.csv'\n",
      "[Errno 2] No such file or directory: 'data/wea/yanqing.csv'\n",
      "[Errno 2] No such file or directory: 'data/wea/badaling.csv'\n",
      "[Errno 2] No such file or directory: 'data/wea/miyunshuiku.csv'\n",
      "[Errno 2] No such file or directory: 'data/wea/yufa.csv'\n",
      "[Errno 2] No such file or directory: 'data/wea/liulihe.csv'\n",
      "[Errno 2] No such file or directory: 'data/wea/1042A.csv'\n",
      "[Errno 2] No such file or directory: 'data/wea/1043A.csv'\n",
      "[Errno 2] No such file or directory: 'data/wea/1044A.csv'\n",
      "[Errno 2] No such file or directory: 'data/wea/1045A.csv'\n",
      "[Errno 2] No such file or directory: 'data/wea/1046A.csv'\n",
      "[Errno 2] No such file or directory: 'data/wea/1047A.csv'\n",
      "[Errno 2] No such file or directory: 'data/wea/1048A.csv'\n",
      "[Errno 2] No such file or directory: 'data/wea/1049A.csv'\n",
      "[Errno 2] No such file or directory: 'data/wea/1050A.csv'\n",
      "[Errno 2] No such file or directory: 'data/wea/1067A.csv'\n",
      "[Errno 2] No such file or directory: 'data/wea/1068A.csv'\n",
      "[Errno 2] No such file or directory: 'data/wea/1069A.csv'\n",
      "[Errno 2] No such file or directory: 'data/wea/1070A.csv'\n",
      "[Errno 2] No such file or directory: 'data/wea/1074A.csv'\n",
      "[Errno 2] No such file or directory: 'data/wea/1075A.csv'\n",
      "[Errno 2] No such file or directory: 'data/wea/1076A.csv'\n",
      "Loaded air quality data from 87 devices\n"
     ]
    }
   ],
   "source": [
    "measurements = []\n",
    "\n",
    "for device_id in meta['device_id'].unique():\n",
    "    #  device_id = '1029A'\n",
    "\n",
    "    air_df = pd.read_csv('data/air/' + device_id + '.csv')\n",
    "    air_df['time'] = pd.to_datetime(air_df[\"time\"])\n",
    "    air_df['device_id'] = device_id\n",
    "    air_df['city'] = meta[meta['device_id'] == device_id]['city'].iloc[0]\n",
    "\n",
    "    try:\n",
    "        weather_df = pd.read_csv('data/wea/' + device_id + '.csv')\n",
    "        weather_df['time'] = pd.to_datetime(weather_df[\"datetime\"])\n",
    "\n",
    "        both_df = air_df.merge(weather_df, on='time')\n",
    "\n",
    "        measurements.append(both_df)\n",
    "    except Exception as e:\n",
    "        print(e)\n",
    "        measurements.append(air_df)\n",
    "\n",
    "all_df = pd.concat(measurements)\n",
    "\n",
    "print(f\"Loaded air quality data from {len(measurements)} devices\")"
   ]
  },
  {
   "cell_type": "code",
   "execution_count": 37,
   "metadata": {},
   "outputs": [
    {
     "output_type": "execute_result",
     "data": {
      "text/plain": [
       "          co   no2    o3   pm10  pm25   so2                time device_id  \\\n",
       "0      2.754  11.0   2.0    NaN   NaN   8.0 2016-01-01 00:00:00     1029A   \n",
       "1      2.366  10.0   2.0  168.0  86.0   7.0 2016-01-01 01:00:00     1029A   \n",
       "2      2.456   8.0   1.0  168.0  82.0   7.0 2016-01-01 02:00:00     1029A   \n",
       "3      2.669  10.0   1.0  179.0  70.0   8.0 2016-01-01 03:00:00     1029A   \n",
       "4      3.087  10.0   2.0  180.0  72.0   9.0 2016-01-01 04:00:00     1029A   \n",
       "...      ...   ...   ...    ...   ...   ...                 ...       ...   \n",
       "36250  1.200  21.0  78.0  121.0  62.0  12.0 2021-02-15 19:00:00     1029A   \n",
       "36251  1.100  23.0  69.0  101.0  65.0  12.0 2021-02-15 20:00:00     1029A   \n",
       "36252  1.200  25.0  58.0  134.0  75.0  12.0 2021-02-15 21:00:00     1029A   \n",
       "36253  1.200  27.0  48.0  105.0  79.0  12.0 2021-02-15 22:00:00     1029A   \n",
       "36254  1.200  29.0  41.0  135.0  90.0  12.0 2021-02-15 23:00:00     1029A   \n",
       "\n",
       "               city  temperature  humidity  windSpeed  windBearing  \\\n",
       "0      Shijiazhuang    -3.061111      0.80       4.48        281.0   \n",
       "1      Shijiazhuang    -5.061111      0.80       6.72        320.0   \n",
       "2      Shijiazhuang    -2.283333      0.71       3.87        188.0   \n",
       "3      Shijiazhuang    -6.066667      0.86       4.48        240.0   \n",
       "4      Shijiazhuang    -6.066667      0.86       4.48        281.0   \n",
       "...             ...          ...       ...        ...          ...   \n",
       "36250  Shijiazhuang     7.961111      0.20       6.61        265.0   \n",
       "36251  Shijiazhuang     6.366667      0.26       5.67        253.0   \n",
       "36252  Shijiazhuang     5.794444      0.26       7.86        237.0   \n",
       "36253  Shijiazhuang     5.038889      0.27       8.49        327.0   \n",
       "36254  Shijiazhuang     4.000000      0.29       6.60        302.0   \n",
       "\n",
       "       precipIntensity             datetime  \n",
       "0               0.0000  2016-01-01 00:00:00  \n",
       "1               0.0000  2016-01-01 01:00:00  \n",
       "2               0.0000  2016-01-01 02:00:00  \n",
       "3               0.0000  2016-01-01 03:00:00  \n",
       "4               0.0000  2016-01-01 04:00:00  \n",
       "...                ...                  ...  \n",
       "36250           0.0002  2021-02-15 19:00:00  \n",
       "36251           0.0000  2021-02-15 20:00:00  \n",
       "36252           0.0000  2021-02-15 21:00:00  \n",
       "36253           0.0000  2021-02-15 22:00:00  \n",
       "36254           0.0000  2021-02-15 23:00:00  \n",
       "\n",
       "[36255 rows x 15 columns]"
      ],
      "text/html": "<div>\n<style scoped>\n    .dataframe tbody tr th:only-of-type {\n        vertical-align: middle;\n    }\n\n    .dataframe tbody tr th {\n        vertical-align: top;\n    }\n\n    .dataframe thead th {\n        text-align: right;\n    }\n</style>\n<table border=\"1\" class=\"dataframe\">\n  <thead>\n    <tr style=\"text-align: right;\">\n      <th></th>\n      <th>co</th>\n      <th>no2</th>\n      <th>o3</th>\n      <th>pm10</th>\n      <th>pm25</th>\n      <th>so2</th>\n      <th>time</th>\n      <th>device_id</th>\n      <th>city</th>\n      <th>temperature</th>\n      <th>humidity</th>\n      <th>windSpeed</th>\n      <th>windBearing</th>\n      <th>precipIntensity</th>\n      <th>datetime</th>\n    </tr>\n  </thead>\n  <tbody>\n    <tr>\n      <th>0</th>\n      <td>2.754</td>\n      <td>11.0</td>\n      <td>2.0</td>\n      <td>NaN</td>\n      <td>NaN</td>\n      <td>8.0</td>\n      <td>2016-01-01 00:00:00</td>\n      <td>1029A</td>\n      <td>Shijiazhuang</td>\n      <td>-3.061111</td>\n      <td>0.80</td>\n      <td>4.48</td>\n      <td>281.0</td>\n      <td>0.0000</td>\n      <td>2016-01-01 00:00:00</td>\n    </tr>\n    <tr>\n      <th>1</th>\n      <td>2.366</td>\n      <td>10.0</td>\n      <td>2.0</td>\n      <td>168.0</td>\n      <td>86.0</td>\n      <td>7.0</td>\n      <td>2016-01-01 01:00:00</td>\n      <td>1029A</td>\n      <td>Shijiazhuang</td>\n      <td>-5.061111</td>\n      <td>0.80</td>\n      <td>6.72</td>\n      <td>320.0</td>\n      <td>0.0000</td>\n      <td>2016-01-01 01:00:00</td>\n    </tr>\n    <tr>\n      <th>2</th>\n      <td>2.456</td>\n      <td>8.0</td>\n      <td>1.0</td>\n      <td>168.0</td>\n      <td>82.0</td>\n      <td>7.0</td>\n      <td>2016-01-01 02:00:00</td>\n      <td>1029A</td>\n      <td>Shijiazhuang</td>\n      <td>-2.283333</td>\n      <td>0.71</td>\n      <td>3.87</td>\n      <td>188.0</td>\n      <td>0.0000</td>\n      <td>2016-01-01 02:00:00</td>\n    </tr>\n    <tr>\n      <th>3</th>\n      <td>2.669</td>\n      <td>10.0</td>\n      <td>1.0</td>\n      <td>179.0</td>\n      <td>70.0</td>\n      <td>8.0</td>\n      <td>2016-01-01 03:00:00</td>\n      <td>1029A</td>\n      <td>Shijiazhuang</td>\n      <td>-6.066667</td>\n      <td>0.86</td>\n      <td>4.48</td>\n      <td>240.0</td>\n      <td>0.0000</td>\n      <td>2016-01-01 03:00:00</td>\n    </tr>\n    <tr>\n      <th>4</th>\n      <td>3.087</td>\n      <td>10.0</td>\n      <td>2.0</td>\n      <td>180.0</td>\n      <td>72.0</td>\n      <td>9.0</td>\n      <td>2016-01-01 04:00:00</td>\n      <td>1029A</td>\n      <td>Shijiazhuang</td>\n      <td>-6.066667</td>\n      <td>0.86</td>\n      <td>4.48</td>\n      <td>281.0</td>\n      <td>0.0000</td>\n      <td>2016-01-01 04:00:00</td>\n    </tr>\n    <tr>\n      <th>...</th>\n      <td>...</td>\n      <td>...</td>\n      <td>...</td>\n      <td>...</td>\n      <td>...</td>\n      <td>...</td>\n      <td>...</td>\n      <td>...</td>\n      <td>...</td>\n      <td>...</td>\n      <td>...</td>\n      <td>...</td>\n      <td>...</td>\n      <td>...</td>\n      <td>...</td>\n    </tr>\n    <tr>\n      <th>36250</th>\n      <td>1.200</td>\n      <td>21.0</td>\n      <td>78.0</td>\n      <td>121.0</td>\n      <td>62.0</td>\n      <td>12.0</td>\n      <td>2021-02-15 19:00:00</td>\n      <td>1029A</td>\n      <td>Shijiazhuang</td>\n      <td>7.961111</td>\n      <td>0.20</td>\n      <td>6.61</td>\n      <td>265.0</td>\n      <td>0.0002</td>\n      <td>2021-02-15 19:00:00</td>\n    </tr>\n    <tr>\n      <th>36251</th>\n      <td>1.100</td>\n      <td>23.0</td>\n      <td>69.0</td>\n      <td>101.0</td>\n      <td>65.0</td>\n      <td>12.0</td>\n      <td>2021-02-15 20:00:00</td>\n      <td>1029A</td>\n      <td>Shijiazhuang</td>\n      <td>6.366667</td>\n      <td>0.26</td>\n      <td>5.67</td>\n      <td>253.0</td>\n      <td>0.0000</td>\n      <td>2021-02-15 20:00:00</td>\n    </tr>\n    <tr>\n      <th>36252</th>\n      <td>1.200</td>\n      <td>25.0</td>\n      <td>58.0</td>\n      <td>134.0</td>\n      <td>75.0</td>\n      <td>12.0</td>\n      <td>2021-02-15 21:00:00</td>\n      <td>1029A</td>\n      <td>Shijiazhuang</td>\n      <td>5.794444</td>\n      <td>0.26</td>\n      <td>7.86</td>\n      <td>237.0</td>\n      <td>0.0000</td>\n      <td>2021-02-15 21:00:00</td>\n    </tr>\n    <tr>\n      <th>36253</th>\n      <td>1.200</td>\n      <td>27.0</td>\n      <td>48.0</td>\n      <td>105.0</td>\n      <td>79.0</td>\n      <td>12.0</td>\n      <td>2021-02-15 22:00:00</td>\n      <td>1029A</td>\n      <td>Shijiazhuang</td>\n      <td>5.038889</td>\n      <td>0.27</td>\n      <td>8.49</td>\n      <td>327.0</td>\n      <td>0.0000</td>\n      <td>2021-02-15 22:00:00</td>\n    </tr>\n    <tr>\n      <th>36254</th>\n      <td>1.200</td>\n      <td>29.0</td>\n      <td>41.0</td>\n      <td>135.0</td>\n      <td>90.0</td>\n      <td>12.0</td>\n      <td>2021-02-15 23:00:00</td>\n      <td>1029A</td>\n      <td>Shijiazhuang</td>\n      <td>4.000000</td>\n      <td>0.29</td>\n      <td>6.60</td>\n      <td>302.0</td>\n      <td>0.0000</td>\n      <td>2021-02-15 23:00:00</td>\n    </tr>\n  </tbody>\n</table>\n<p>36255 rows × 15 columns</p>\n</div>"
     },
     "metadata": {},
     "execution_count": 37
    }
   ],
   "source": []
  },
  {
   "source": [
    "Look only at data from 2020 onwards"
   ],
   "cell_type": "markdown",
   "metadata": {}
  },
  {
   "cell_type": "code",
   "execution_count": 6,
   "metadata": {},
   "outputs": [],
   "source": [
    "all_df = all_df[all_df['time'] >= '2020-01-01']"
   ]
  },
  {
   "cell_type": "code",
   "execution_count": 7,
   "metadata": {},
   "outputs": [
    {
     "output_type": "execute_result",
     "data": {
      "text/plain": [
       "[ Event 'LD 1' (2020/04/08 - 2020/04/26),\n",
       "  Event 'LD 2 (light)' (2020/06/15 - 2020/09/01)]"
      ]
     },
     "metadata": {},
     "execution_count": 7
    }
   ],
   "source": [
    "class Event:\n",
    "    def __init__(self, name, start, end, color):\n",
    "        self.name = name\n",
    "        self.start = start\n",
    "        self.end = end\n",
    "        self.color = color\n",
    "    \n",
    "    def __repr__(self):\n",
    "        date_fmt = '%Y/%m/%d'\n",
    "        return f\" Event '{self.name}' ({self.start.strftime(date_fmt)} - {self.end.strftime(date_fmt)})\"\n",
    "\n",
    "    def __str__(self):\n",
    "        return self.name\n",
    "\n",
    "lockdowns = []\n",
    "\n",
    "lockdowns.append(Event(\"LD 1\", pd.to_datetime('2020-04-08'), pd.to_datetime('2020-04-26'), 'green'))\n",
    "lockdowns.append(Event(\"LD 2 (light)\", pd.to_datetime('2020-06-15'), pd.to_datetime('2020-09-01'), 'blue'))\n",
    "\n",
    "lockdowns"
   ]
  },
  {
   "source": [
    "## TODO: compute correlations"
   ],
   "cell_type": "markdown",
   "metadata": {}
  },
  {
   "cell_type": "code",
   "execution_count": 8,
   "metadata": {},
   "outputs": [],
   "source": [
    "feature_list = list(all_df.columns.drop(['time', 'device_id']))"
   ]
  },
  {
   "cell_type": "code",
   "execution_count": 9,
   "metadata": {},
   "outputs": [],
   "source": [
    "days_list = pd.date_range(all_df[\"time\"].min(), all_df[\"time\"].max(), freq='D')\n",
    "days_list_formatted = [(date.strftime(' %d-%m-%y '), date) for date in days_list]\n",
    "\n",
    "date_slider = widgets.SelectionRangeSlider(\n",
    "    options=days_list_formatted,\n",
    "    index=(0, len(days_list_formatted) - 1),\n",
    "    description='Dates',\n",
    "    orientation='horizontal',\n",
    "    layout={'width': '500px'}\n",
    ")"
   ]
  },
  {
   "cell_type": "code",
   "execution_count": 10,
   "metadata": {},
   "outputs": [],
   "source": [
    "devices = meta['device_id']\n",
    "descriptions = meta['device_id'] + \" (\" + meta['city'] + \")\"\n",
    "dic = dict(zip(descriptions, devices))"
   ]
  },
  {
   "cell_type": "code",
   "execution_count": 11,
   "metadata": {},
   "outputs": [
    {
     "output_type": "display_data",
     "data": {
      "text/plain": "interactive(children=(SelectMultiple(description='Devices', options=('dongsi (Beijing)', 'tiantan (Beijing)', …",
      "application/vnd.jupyter.widget-view+json": {
       "version_major": 2,
       "version_minor": 0,
       "model_id": "5aff113b8f4342c1b63c14bd91d7bc32"
      }
     },
     "metadata": {}
    },
    {
     "output_type": "execute_result",
     "data": {
      "text/plain": [
       "<function __main__.plot_data(data, devices, date_range, feature, events=[], device_id_mapping=None)>"
      ]
     },
     "metadata": {},
     "execution_count": 11
    }
   ],
   "source": [
    "def plot_data(data, devices, date_range, feature, events=[], device_id_mapping=None):\n",
    "    plt.figure(figsize=(10,5))\n",
    "\n",
    "    # plot events\n",
    "    for event in events:\n",
    "        plt.axvspan(event.start, event.end, color=event.color, alpha=0.1, label=event.name)\n",
    "\n",
    "    # plot measurements\n",
    "    (start, end) = date_range\n",
    "    for device in devices:\n",
    "        if device_id_mapping is not None:\n",
    "            device_id = device_id_mapping[device]\n",
    "        else:\n",
    "            device_id = device\n",
    "        y = data[(data['device_id'] == device_id) & (data['time'] >= start) & (data['time'] < end)]\n",
    "        plt.plot(y['time'], y[feature], label=device)\n",
    "\n",
    "    plt.tight_layout()\n",
    "\n",
    "    plt.title(feature)\n",
    "    plt.legend(loc='upper left')\n",
    "    axes = plt.gca()\n",
    "    axes.set_xlim([start,end])\n",
    "\n",
    "    plt.show()\n",
    "\n",
    "device_widget = widgets.SelectMultiple(\n",
    "    options=dic.keys(),\n",
    "    rows=15,\n",
    "    description='Devices',\n",
    "    disabled=False\n",
    ")\n",
    "\n",
    "interact(plot_data, data=fixed(all_df), devices=device_widget, date_range=date_slider, feature=feature_list, events=fixed(lockdowns), device_id_mapping=fixed(dic))"
   ]
  },
  {
   "cell_type": "code",
   "execution_count": 12,
   "metadata": {},
   "outputs": [],
   "source": [
    "city_means = all_df.groupby(by=['city', 'time']).mean().reset_index()\n",
    "city_means = city_means.rename(columns={'city': 'device_id'})"
   ]
  },
  {
   "cell_type": "code",
   "execution_count": 13,
   "metadata": {},
   "outputs": [
    {
     "output_type": "execute_result",
     "data": {
      "text/plain": [
       "          device_id                time        co        no2         o3  \\\n",
       "0           Baoding 2020-01-01 00:00:00  1.466667  65.500000   5.666667   \n",
       "1           Baoding 2020-01-01 01:00:00  1.466667  65.333333   5.333333   \n",
       "2           Baoding 2020-01-01 02:00:00  1.566667  65.500000   5.333333   \n",
       "3           Baoding 2020-01-01 03:00:00  1.600000  64.500000   5.166667   \n",
       "4           Baoding 2020-01-01 04:00:00  1.716667  62.500000   5.333333   \n",
       "...             ...                 ...       ...        ...        ...   \n",
       "116577  Zhangjiakou 2021-02-15 19:00:00  0.450000   9.500000  72.250000   \n",
       "116578  Zhangjiakou 2021-02-15 20:00:00  0.425000   6.500000  76.750000   \n",
       "116579  Zhangjiakou 2021-02-15 21:00:00  0.450000   6.750000  74.500000   \n",
       "116580  Zhangjiakou 2021-02-15 22:00:00  0.475000   8.250000  70.750000   \n",
       "116581  Zhangjiakou 2021-02-15 23:00:00  0.475000   7.750000  66.750000   \n",
       "\n",
       "              pm10       pm25        so2  temperature  humidity  windSpeed  \\\n",
       "0       115.500000  72.000000  30.500000   -10.808333  0.266667   2.395000   \n",
       "1       142.333333  69.333333  25.833333   -11.273148  0.280000   2.825000   \n",
       "2       159.166667  78.333333  24.333333   -11.738889  0.293333   3.146667   \n",
       "3       152.333333  74.666667  28.333333   -12.091667  0.305000   4.080000   \n",
       "4       137.000000  67.500000  34.166667   -12.306481  0.310000   5.183333   \n",
       "...            ...        ...        ...          ...       ...        ...   \n",
       "116577   80.000000  17.750000  14.250000    -1.062500  0.480000  17.115000   \n",
       "116578   59.500000  22.500000   9.500000    -2.470833  0.472500  16.365000   \n",
       "116579   47.000000  22.500000   8.000000    -3.688889  0.452500  16.825000   \n",
       "116580   45.500000  24.000000  10.000000    -5.054167  0.450000  15.260000   \n",
       "116581   44.250000  22.250000   8.000000    -6.016667  0.420000  14.635000   \n",
       "\n",
       "        windBearing  precipIntensity  \n",
       "0         60.333333         0.000000  \n",
       "1         54.166667         0.000000  \n",
       "2         30.000000         0.000000  \n",
       "3         20.000000         0.000000  \n",
       "4         17.166667         0.000000  \n",
       "...             ...              ...  \n",
       "116577   322.750000         0.001125  \n",
       "116578   327.000000         0.000200  \n",
       "116579   328.000000         0.000000  \n",
       "116580   319.500000         0.000000  \n",
       "116581   316.000000         0.000000  \n",
       "\n",
       "[116582 rows x 13 columns]"
      ],
      "text/html": "<div>\n<style scoped>\n    .dataframe tbody tr th:only-of-type {\n        vertical-align: middle;\n    }\n\n    .dataframe tbody tr th {\n        vertical-align: top;\n    }\n\n    .dataframe thead th {\n        text-align: right;\n    }\n</style>\n<table border=\"1\" class=\"dataframe\">\n  <thead>\n    <tr style=\"text-align: right;\">\n      <th></th>\n      <th>device_id</th>\n      <th>time</th>\n      <th>co</th>\n      <th>no2</th>\n      <th>o3</th>\n      <th>pm10</th>\n      <th>pm25</th>\n      <th>so2</th>\n      <th>temperature</th>\n      <th>humidity</th>\n      <th>windSpeed</th>\n      <th>windBearing</th>\n      <th>precipIntensity</th>\n    </tr>\n  </thead>\n  <tbody>\n    <tr>\n      <th>0</th>\n      <td>Baoding</td>\n      <td>2020-01-01 00:00:00</td>\n      <td>1.466667</td>\n      <td>65.500000</td>\n      <td>5.666667</td>\n      <td>115.500000</td>\n      <td>72.000000</td>\n      <td>30.500000</td>\n      <td>-10.808333</td>\n      <td>0.266667</td>\n      <td>2.395000</td>\n      <td>60.333333</td>\n      <td>0.000000</td>\n    </tr>\n    <tr>\n      <th>1</th>\n      <td>Baoding</td>\n      <td>2020-01-01 01:00:00</td>\n      <td>1.466667</td>\n      <td>65.333333</td>\n      <td>5.333333</td>\n      <td>142.333333</td>\n      <td>69.333333</td>\n      <td>25.833333</td>\n      <td>-11.273148</td>\n      <td>0.280000</td>\n      <td>2.825000</td>\n      <td>54.166667</td>\n      <td>0.000000</td>\n    </tr>\n    <tr>\n      <th>2</th>\n      <td>Baoding</td>\n      <td>2020-01-01 02:00:00</td>\n      <td>1.566667</td>\n      <td>65.500000</td>\n      <td>5.333333</td>\n      <td>159.166667</td>\n      <td>78.333333</td>\n      <td>24.333333</td>\n      <td>-11.738889</td>\n      <td>0.293333</td>\n      <td>3.146667</td>\n      <td>30.000000</td>\n      <td>0.000000</td>\n    </tr>\n    <tr>\n      <th>3</th>\n      <td>Baoding</td>\n      <td>2020-01-01 03:00:00</td>\n      <td>1.600000</td>\n      <td>64.500000</td>\n      <td>5.166667</td>\n      <td>152.333333</td>\n      <td>74.666667</td>\n      <td>28.333333</td>\n      <td>-12.091667</td>\n      <td>0.305000</td>\n      <td>4.080000</td>\n      <td>20.000000</td>\n      <td>0.000000</td>\n    </tr>\n    <tr>\n      <th>4</th>\n      <td>Baoding</td>\n      <td>2020-01-01 04:00:00</td>\n      <td>1.716667</td>\n      <td>62.500000</td>\n      <td>5.333333</td>\n      <td>137.000000</td>\n      <td>67.500000</td>\n      <td>34.166667</td>\n      <td>-12.306481</td>\n      <td>0.310000</td>\n      <td>5.183333</td>\n      <td>17.166667</td>\n      <td>0.000000</td>\n    </tr>\n    <tr>\n      <th>...</th>\n      <td>...</td>\n      <td>...</td>\n      <td>...</td>\n      <td>...</td>\n      <td>...</td>\n      <td>...</td>\n      <td>...</td>\n      <td>...</td>\n      <td>...</td>\n      <td>...</td>\n      <td>...</td>\n      <td>...</td>\n      <td>...</td>\n    </tr>\n    <tr>\n      <th>116577</th>\n      <td>Zhangjiakou</td>\n      <td>2021-02-15 19:00:00</td>\n      <td>0.450000</td>\n      <td>9.500000</td>\n      <td>72.250000</td>\n      <td>80.000000</td>\n      <td>17.750000</td>\n      <td>14.250000</td>\n      <td>-1.062500</td>\n      <td>0.480000</td>\n      <td>17.115000</td>\n      <td>322.750000</td>\n      <td>0.001125</td>\n    </tr>\n    <tr>\n      <th>116578</th>\n      <td>Zhangjiakou</td>\n      <td>2021-02-15 20:00:00</td>\n      <td>0.425000</td>\n      <td>6.500000</td>\n      <td>76.750000</td>\n      <td>59.500000</td>\n      <td>22.500000</td>\n      <td>9.500000</td>\n      <td>-2.470833</td>\n      <td>0.472500</td>\n      <td>16.365000</td>\n      <td>327.000000</td>\n      <td>0.000200</td>\n    </tr>\n    <tr>\n      <th>116579</th>\n      <td>Zhangjiakou</td>\n      <td>2021-02-15 21:00:00</td>\n      <td>0.450000</td>\n      <td>6.750000</td>\n      <td>74.500000</td>\n      <td>47.000000</td>\n      <td>22.500000</td>\n      <td>8.000000</td>\n      <td>-3.688889</td>\n      <td>0.452500</td>\n      <td>16.825000</td>\n      <td>328.000000</td>\n      <td>0.000000</td>\n    </tr>\n    <tr>\n      <th>116580</th>\n      <td>Zhangjiakou</td>\n      <td>2021-02-15 22:00:00</td>\n      <td>0.475000</td>\n      <td>8.250000</td>\n      <td>70.750000</td>\n      <td>45.500000</td>\n      <td>24.000000</td>\n      <td>10.000000</td>\n      <td>-5.054167</td>\n      <td>0.450000</td>\n      <td>15.260000</td>\n      <td>319.500000</td>\n      <td>0.000000</td>\n    </tr>\n    <tr>\n      <th>116581</th>\n      <td>Zhangjiakou</td>\n      <td>2021-02-15 23:00:00</td>\n      <td>0.475000</td>\n      <td>7.750000</td>\n      <td>66.750000</td>\n      <td>44.250000</td>\n      <td>22.250000</td>\n      <td>8.000000</td>\n      <td>-6.016667</td>\n      <td>0.420000</td>\n      <td>14.635000</td>\n      <td>316.000000</td>\n      <td>0.000000</td>\n    </tr>\n  </tbody>\n</table>\n<p>116582 rows × 13 columns</p>\n</div>"
     },
     "metadata": {},
     "execution_count": 13
    }
   ],
   "source": [
    "city_means"
   ]
  },
  {
   "cell_type": "code",
   "execution_count": 14,
   "metadata": {},
   "outputs": [
    {
     "output_type": "display_data",
     "data": {
      "text/plain": "interactive(children=(SelectMultiple(description='Devices', options=('Baoding', 'Beijing', 'Cangzhou', 'Chengd…",
      "application/vnd.jupyter.widget-view+json": {
       "version_major": 2,
       "version_minor": 0,
       "model_id": "9130bfecb35f43d1b270842aee127010"
      }
     },
     "metadata": {}
    },
    {
     "output_type": "execute_result",
     "data": {
      "text/plain": [
       "<function __main__.plot_data(data, devices, date_range, feature, events=[], device_id_mapping=None)>"
      ]
     },
     "metadata": {},
     "execution_count": 14
    }
   ],
   "source": [
    "device_widget = widgets.SelectMultiple(\n",
    "    options=list(city_means['device_id'].unique()),\n",
    "    rows=15,\n",
    "    description='Devices',\n",
    "    disabled=False\n",
    ")\n",
    "\n",
    "interact(plot_data, data=fixed(city_means), devices=device_widget, date_range=date_slider, feature=feature_list, events=fixed(lockdowns), device_id_mapping=fixed(None))"
   ]
  },
  {
   "cell_type": "code",
   "execution_count": 15,
   "metadata": {},
   "outputs": [],
   "source": [
    "all_times = all_df['time'].unique()"
   ]
  },
  {
   "cell_type": "code",
   "execution_count": 16,
   "metadata": {},
   "outputs": [
    {
     "output_type": "display_data",
     "data": {
      "text/plain": "SelectionSlider(description='Time', layout=Layout(width='500px'), options=(numpy.datetime64('2020-01-01T00:00:…",
      "application/vnd.jupyter.widget-view+json": {
       "version_major": 2,
       "version_minor": 0,
       "model_id": "5b188fb52414425cbe6b55f170bd96e2"
      }
     },
     "metadata": {}
    }
   ],
   "source": [
    "date_slider = widgets.SelectionSlider(\n",
    "    options=all_times,\n",
    "    description='Time',\n",
    "    orientation='horizontal',\n",
    "    layout={'width': '500px'}\n",
    ")\n",
    "\n",
    "date_slider"
   ]
  },
  {
   "cell_type": "code",
   "execution_count": 27,
   "metadata": {},
   "outputs": [
    {
     "output_type": "stream",
     "text": [
      "\u001b[0;31mType:\u001b[0m        module\n",
      "\u001b[0;31mString form:\u001b[0m <module '_plotly_utils.colors.cyclical' from '/usr/local/lib/python3.9/site-packages/_plotly_utils/colors/cyclical.py'>\n",
      "\u001b[0;31mFile:\u001b[0m        /usr/local/lib/python3.9/site-packages/_plotly_utils/colors/cyclical.py\n",
      "\u001b[0;31mDocstring:\u001b[0m  \n",
      "Cyclical color scales are appropriate for continuous data that has a natural cyclical structure, such as temporal data (hour of day, day of week, day of year, seasons) or\n",
      "complex numbers or other phase data.\n"
     ],
     "name": "stdout"
    }
   ],
   "source": [
    "px.colors.cyclical?"
   ]
  },
  {
   "cell_type": "code",
   "execution_count": 39,
   "metadata": {},
   "outputs": [
    {
     "output_type": "display_data",
     "data": {
      "application/vnd.plotly.v1+json": {
       "config": {
        "plotlyServerURL": "https://plot.ly"
       },
       "data": [
        {
         "customdata": [
          [
           "1029A",
           "Staff Hospital"
          ],
          [
           "1030A",
           "High-tech Zone"
          ],
          [
           "1031A",
           "Northwest Water Source"
          ],
          [
           "1032A",
           "Southwest Higher Education"
          ],
          [
           "1033A",
           "Century Park"
          ],
          [
           "1034A",
           "People's Hall"
          ],
          [
           "1035A",
           "Fenglong Mountain"
          ],
          [
           "1037A",
           "radar station"
          ],
          [
           "1038A",
           "Material Bureau"
          ],
          [
           "1040A",
           "Twelfth Middle School"
          ],
          [
           "1041A",
           "Xiaoshan"
          ],
          [
           "1042A",
           "Beidaihe Environmental Protection Bureau"
          ],
          [
           "1043A",
           "the first pass"
          ],
          [
           "1044A",
           "Monitoring Station"
          ],
          [
           "1046A",
           "Jianshe Building"
          ],
          [
           "1047A",
           "Environmental Protection Bureau"
          ],
          [
           "1048A",
           "East Sewage Treatment Plant"
          ],
          [
           "1049A",
           "Mining Institute"
          ],
          [
           "1050A",
           "Congtai Park"
          ],
          [
           "1051A",
           "Swimming Pool"
          ],
          [
           "1052A",
           "Huadian District 2"
          ],
          [
           "1053A",
           "Reception Center"
          ],
          [
           "1054A",
           "Surface Water Plant"
          ],
          [
           "1055A",
           "Film Factory"
          ],
          [
           "1056A",
           "Monitoring Station"
          ],
          [
           "1057A",
           "People's Park"
          ],
          [
           "1059A",
           "Hardware Depot"
          ],
          [
           "1060A",
           "Century Plaza"
          ],
          [
           "1061A",
           "North Pump House"
          ],
          [
           "1062A",
           "Railway"
          ],
          [
           "1063A",
           "Bank of China"
          ],
          [
           "1064A",
           "Development Zone"
          ],
          [
           "1065A",
           "Cultural Center"
          ],
          [
           "1066A",
           "Li Palace"
          ],
          [
           "1067A",
           "Medicinal Materials Company"
          ],
          [
           "1068A",
           "Development Zone"
          ],
          [
           "1070A",
           "Beihua University of Aeronautics and Astronautics"
          ],
          [
           "1071A",
           "Cang County Urban Construction Bureau"
          ],
          [
           "1072A",
           "TV relay station"
          ],
          [
           "1073A",
           "Municipal Environmental Protection Bureau"
          ],
          [
           "1074A",
           "North Motor Factory"
          ],
          [
           "1075A",
           "City Monitoring Station"
          ],
          [
           "1077A",
           "Dahuo Spring"
          ],
          [
           "1078A",
           "Xing Teachers College"
          ],
          [
           "1079A",
           "Road and Bridge Company"
          ],
          [
           "1080A",
           "Municipal Environmental Protection Bureau"
          ]
         ],
         "hovertemplate": "<b>%{hovertext}</b><br><br>size=%{marker.size}<br>lat=%{lat}<br>lon=%{lon}<br>device_id=%{customdata[0]}<br>device_name=%{customdata[1]}<br>no2=%{marker.color}<extra></extra>",
         "hovertext": [
          "Shijiazhuang",
          "Shijiazhuang",
          "Shijiazhuang",
          "Shijiazhuang",
          "Shijiazhuang",
          "Shijiazhuang",
          "Shijiazhuang",
          "Tangshan",
          "Tangshan",
          "Tangshan",
          "Tangshan",
          "Qinhuangdao",
          "Qinhuangdao",
          "Qinhuangdao",
          "Qinhuangdao",
          "Handan",
          "Handan",
          "Handan",
          "Handan",
          "Baoding",
          "Baoding",
          "Baoding",
          "Baoding",
          "Baoding",
          "Baoding",
          "Zhangjiakou",
          "Zhangjiakou",
          "Zhangjiakou",
          "Zhangjiakou",
          "Chengde",
          "Chengde",
          "Chengde",
          "Chengde",
          "Chengde",
          "Langfang",
          "Langfang",
          "Langfang",
          "Cangzhou",
          "Cangzhou",
          "Cangzhou",
          "Hengshui",
          "Hengshui",
          "Xingtai",
          "Xingtai",
          "Xingtai",
          "Xingtai"
         ],
         "lat": [
          38.0513,
          38.0398,
          38.1398,
          38.00583333,
          38.01777778,
          38.0524,
          37.9097,
          39.643,
          39.6407,
          39.65782,
          39.6295,
          39.8283,
          40.0181,
          39.9567,
          39.9419,
          36.61763,
          36.6164,
          36.5776,
          36.61981,
          38.8632,
          38.8957,
          38.9108,
          38.8416,
          38.8756,
          38.8707,
          40.8367,
          40.8115,
          40.7688,
          40.8725,
          40.9161,
          40.9843,
          40.9359,
          40.9733,
          41.0112,
          39.5178,
          39.5747,
          39.5343,
          38.2991,
          38.3254,
          38.3228,
          37.7575,
          37.7379,
          37.0967,
          37.0533,
          37.0964,
          37.062
         ],
         "legendgroup": "",
         "lon": [
          114.4548,
          114.6046,
          114.5019,
          114.4586111,
          114.53305559999998,
          114.5214,
          114.3541,
          118.144,
          118.1853,
          118.1838,
          118.1997,
          119.5259,
          119.7624,
          119.6023,
          119.5369,
          114.5129,
          114.5426,
          114.5035,
          114.4965,
          115.493,
          115.5223,
          115.4713,
          115.4612,
          115.442,
          115.5214,
          114.8985,
          114.8814,
          114.9032,
          114.904,
          117.9664,
          117.9525,
          117.963,
          117.8184,
          117.9384,
          116.6838,
          116.7729,
          116.7464,
          116.8854,
          116.8584,
          116.8709,
          115.6951,
          115.6426,
          114.4821,
          114.5261,
          114.5331,
          114.4854
         ],
         "marker": {
          "color": [
           16,
           22,
           23,
           21,
           24,
           23,
           8,
           77,
           51,
           57,
           60,
           23,
           31,
           19,
           36,
           43,
           57,
           48,
           55,
           8,
           15,
           15,
           15,
           24,
           8,
           7,
           12,
           11,
           9,
           33,
           31,
           24,
           20,
           27,
           37,
           48,
           51,
           7,
           16,
           9,
           16,
           16,
           56,
           null,
           68,
           45
          ],
          "coloraxis": "coloraxis",
          "size": [
           10,
           10,
           10,
           10,
           10,
           10,
           10,
           10,
           10,
           10,
           10,
           10,
           10,
           10,
           10,
           10,
           10,
           10,
           10,
           10,
           10,
           10,
           10,
           10,
           10,
           10,
           10,
           10,
           10,
           10,
           10,
           10,
           10,
           10,
           10,
           10,
           10,
           10,
           10,
           10,
           10,
           10,
           10,
           10,
           10,
           10
          ],
          "sizemode": "area",
          "sizeref": 0.025
         },
         "mode": "markers",
         "name": "",
         "showlegend": false,
         "subplot": "mapbox",
         "type": "scattermapbox"
        }
       ],
       "layout": {
        "autosize": true,
        "coloraxis": {
         "colorbar": {
          "title": {
           "text": "no2"
          }
         },
         "colorscale": [
          [
           0,
           "rgb(253, 237, 176)"
          ],
          [
           0.09090909090909091,
           "rgb(250, 205, 145)"
          ],
          [
           0.18181818181818182,
           "rgb(246, 173, 119)"
          ],
          [
           0.2727272727272727,
           "rgb(240, 142, 98)"
          ],
          [
           0.36363636363636365,
           "rgb(231, 109, 84)"
          ],
          [
           0.45454545454545453,
           "rgb(216, 80, 83)"
          ],
          [
           0.5454545454545454,
           "rgb(195, 56, 90)"
          ],
          [
           0.6363636363636364,
           "rgb(168, 40, 96)"
          ],
          [
           0.7272727272727273,
           "rgb(138, 29, 99)"
          ],
          [
           0.8181818181818182,
           "rgb(107, 24, 93)"
          ],
          [
           0.9090909090909091,
           "rgb(76, 21, 80)"
          ],
          [
           1,
           "rgb(47, 15, 61)"
          ]
         ]
        },
        "height": 700,
        "hovermode": "closest",
        "legend": {
         "itemsizing": "constant",
         "tracegroupgap": 0
        },
        "mapbox": {
         "bearing": 0,
         "center": {
          "lat": 39,
          "lon": 117
         },
         "domain": {
          "x": [
           0,
           1
          ],
          "y": [
           0,
           1
          ]
         },
         "pitch": 0,
         "style": "stamen-terrain",
         "zoom": 5
        },
        "margin": {
         "t": 60
        },
        "showlegend": false,
        "template": {
         "data": {
          "bar": [
           {
            "error_x": {
             "color": "#2a3f5f"
            },
            "error_y": {
             "color": "#2a3f5f"
            },
            "marker": {
             "line": {
              "color": "#E5ECF6",
              "width": 0.5
             }
            },
            "type": "bar"
           }
          ],
          "barpolar": [
           {
            "marker": {
             "line": {
              "color": "#E5ECF6",
              "width": 0.5
             }
            },
            "type": "barpolar"
           }
          ],
          "carpet": [
           {
            "aaxis": {
             "endlinecolor": "#2a3f5f",
             "gridcolor": "white",
             "linecolor": "white",
             "minorgridcolor": "white",
             "startlinecolor": "#2a3f5f"
            },
            "baxis": {
             "endlinecolor": "#2a3f5f",
             "gridcolor": "white",
             "linecolor": "white",
             "minorgridcolor": "white",
             "startlinecolor": "#2a3f5f"
            },
            "type": "carpet"
           }
          ],
          "choropleth": [
           {
            "colorbar": {
             "outlinewidth": 0,
             "ticks": ""
            },
            "type": "choropleth"
           }
          ],
          "contour": [
           {
            "colorbar": {
             "outlinewidth": 0,
             "ticks": ""
            },
            "colorscale": [
             [
              0,
              "#0d0887"
             ],
             [
              0.1111111111111111,
              "#46039f"
             ],
             [
              0.2222222222222222,
              "#7201a8"
             ],
             [
              0.3333333333333333,
              "#9c179e"
             ],
             [
              0.4444444444444444,
              "#bd3786"
             ],
             [
              0.5555555555555556,
              "#d8576b"
             ],
             [
              0.6666666666666666,
              "#ed7953"
             ],
             [
              0.7777777777777778,
              "#fb9f3a"
             ],
             [
              0.8888888888888888,
              "#fdca26"
             ],
             [
              1,
              "#f0f921"
             ]
            ],
            "type": "contour"
           }
          ],
          "contourcarpet": [
           {
            "colorbar": {
             "outlinewidth": 0,
             "ticks": ""
            },
            "type": "contourcarpet"
           }
          ],
          "heatmap": [
           {
            "colorbar": {
             "outlinewidth": 0,
             "ticks": ""
            },
            "colorscale": [
             [
              0,
              "#0d0887"
             ],
             [
              0.1111111111111111,
              "#46039f"
             ],
             [
              0.2222222222222222,
              "#7201a8"
             ],
             [
              0.3333333333333333,
              "#9c179e"
             ],
             [
              0.4444444444444444,
              "#bd3786"
             ],
             [
              0.5555555555555556,
              "#d8576b"
             ],
             [
              0.6666666666666666,
              "#ed7953"
             ],
             [
              0.7777777777777778,
              "#fb9f3a"
             ],
             [
              0.8888888888888888,
              "#fdca26"
             ],
             [
              1,
              "#f0f921"
             ]
            ],
            "type": "heatmap"
           }
          ],
          "heatmapgl": [
           {
            "colorbar": {
             "outlinewidth": 0,
             "ticks": ""
            },
            "colorscale": [
             [
              0,
              "#0d0887"
             ],
             [
              0.1111111111111111,
              "#46039f"
             ],
             [
              0.2222222222222222,
              "#7201a8"
             ],
             [
              0.3333333333333333,
              "#9c179e"
             ],
             [
              0.4444444444444444,
              "#bd3786"
             ],
             [
              0.5555555555555556,
              "#d8576b"
             ],
             [
              0.6666666666666666,
              "#ed7953"
             ],
             [
              0.7777777777777778,
              "#fb9f3a"
             ],
             [
              0.8888888888888888,
              "#fdca26"
             ],
             [
              1,
              "#f0f921"
             ]
            ],
            "type": "heatmapgl"
           }
          ],
          "histogram": [
           {
            "marker": {
             "colorbar": {
              "outlinewidth": 0,
              "ticks": ""
             }
            },
            "type": "histogram"
           }
          ],
          "histogram2d": [
           {
            "colorbar": {
             "outlinewidth": 0,
             "ticks": ""
            },
            "colorscale": [
             [
              0,
              "#0d0887"
             ],
             [
              0.1111111111111111,
              "#46039f"
             ],
             [
              0.2222222222222222,
              "#7201a8"
             ],
             [
              0.3333333333333333,
              "#9c179e"
             ],
             [
              0.4444444444444444,
              "#bd3786"
             ],
             [
              0.5555555555555556,
              "#d8576b"
             ],
             [
              0.6666666666666666,
              "#ed7953"
             ],
             [
              0.7777777777777778,
              "#fb9f3a"
             ],
             [
              0.8888888888888888,
              "#fdca26"
             ],
             [
              1,
              "#f0f921"
             ]
            ],
            "type": "histogram2d"
           }
          ],
          "histogram2dcontour": [
           {
            "colorbar": {
             "outlinewidth": 0,
             "ticks": ""
            },
            "colorscale": [
             [
              0,
              "#0d0887"
             ],
             [
              0.1111111111111111,
              "#46039f"
             ],
             [
              0.2222222222222222,
              "#7201a8"
             ],
             [
              0.3333333333333333,
              "#9c179e"
             ],
             [
              0.4444444444444444,
              "#bd3786"
             ],
             [
              0.5555555555555556,
              "#d8576b"
             ],
             [
              0.6666666666666666,
              "#ed7953"
             ],
             [
              0.7777777777777778,
              "#fb9f3a"
             ],
             [
              0.8888888888888888,
              "#fdca26"
             ],
             [
              1,
              "#f0f921"
             ]
            ],
            "type": "histogram2dcontour"
           }
          ],
          "mesh3d": [
           {
            "colorbar": {
             "outlinewidth": 0,
             "ticks": ""
            },
            "type": "mesh3d"
           }
          ],
          "parcoords": [
           {
            "line": {
             "colorbar": {
              "outlinewidth": 0,
              "ticks": ""
             }
            },
            "type": "parcoords"
           }
          ],
          "pie": [
           {
            "automargin": true,
            "type": "pie"
           }
          ],
          "scatter": [
           {
            "marker": {
             "colorbar": {
              "outlinewidth": 0,
              "ticks": ""
             }
            },
            "type": "scatter"
           }
          ],
          "scatter3d": [
           {
            "line": {
             "colorbar": {
              "outlinewidth": 0,
              "ticks": ""
             }
            },
            "marker": {
             "colorbar": {
              "outlinewidth": 0,
              "ticks": ""
             }
            },
            "type": "scatter3d"
           }
          ],
          "scattercarpet": [
           {
            "marker": {
             "colorbar": {
              "outlinewidth": 0,
              "ticks": ""
             }
            },
            "type": "scattercarpet"
           }
          ],
          "scattergeo": [
           {
            "marker": {
             "colorbar": {
              "outlinewidth": 0,
              "ticks": ""
             }
            },
            "type": "scattergeo"
           }
          ],
          "scattergl": [
           {
            "marker": {
             "colorbar": {
              "outlinewidth": 0,
              "ticks": ""
             }
            },
            "type": "scattergl"
           }
          ],
          "scattermapbox": [
           {
            "marker": {
             "colorbar": {
              "outlinewidth": 0,
              "ticks": ""
             }
            },
            "type": "scattermapbox"
           }
          ],
          "scatterpolar": [
           {
            "marker": {
             "colorbar": {
              "outlinewidth": 0,
              "ticks": ""
             }
            },
            "type": "scatterpolar"
           }
          ],
          "scatterpolargl": [
           {
            "marker": {
             "colorbar": {
              "outlinewidth": 0,
              "ticks": ""
             }
            },
            "type": "scatterpolargl"
           }
          ],
          "scatterternary": [
           {
            "marker": {
             "colorbar": {
              "outlinewidth": 0,
              "ticks": ""
             }
            },
            "type": "scatterternary"
           }
          ],
          "surface": [
           {
            "colorbar": {
             "outlinewidth": 0,
             "ticks": ""
            },
            "colorscale": [
             [
              0,
              "#0d0887"
             ],
             [
              0.1111111111111111,
              "#46039f"
             ],
             [
              0.2222222222222222,
              "#7201a8"
             ],
             [
              0.3333333333333333,
              "#9c179e"
             ],
             [
              0.4444444444444444,
              "#bd3786"
             ],
             [
              0.5555555555555556,
              "#d8576b"
             ],
             [
              0.6666666666666666,
              "#ed7953"
             ],
             [
              0.7777777777777778,
              "#fb9f3a"
             ],
             [
              0.8888888888888888,
              "#fdca26"
             ],
             [
              1,
              "#f0f921"
             ]
            ],
            "type": "surface"
           }
          ],
          "table": [
           {
            "cells": {
             "fill": {
              "color": "#EBF0F8"
             },
             "line": {
              "color": "white"
             }
            },
            "header": {
             "fill": {
              "color": "#C8D4E3"
             },
             "line": {
              "color": "white"
             }
            },
            "type": "table"
           }
          ]
         },
         "layout": {
          "annotationdefaults": {
           "arrowcolor": "#2a3f5f",
           "arrowhead": 0,
           "arrowwidth": 1
          },
          "autotypenumbers": "strict",
          "coloraxis": {
           "colorbar": {
            "outlinewidth": 0,
            "ticks": ""
           }
          },
          "colorscale": {
           "diverging": [
            [
             0,
             "#8e0152"
            ],
            [
             0.1,
             "#c51b7d"
            ],
            [
             0.2,
             "#de77ae"
            ],
            [
             0.3,
             "#f1b6da"
            ],
            [
             0.4,
             "#fde0ef"
            ],
            [
             0.5,
             "#f7f7f7"
            ],
            [
             0.6,
             "#e6f5d0"
            ],
            [
             0.7,
             "#b8e186"
            ],
            [
             0.8,
             "#7fbc41"
            ],
            [
             0.9,
             "#4d9221"
            ],
            [
             1,
             "#276419"
            ]
           ],
           "sequential": [
            [
             0,
             "#0d0887"
            ],
            [
             0.1111111111111111,
             "#46039f"
            ],
            [
             0.2222222222222222,
             "#7201a8"
            ],
            [
             0.3333333333333333,
             "#9c179e"
            ],
            [
             0.4444444444444444,
             "#bd3786"
            ],
            [
             0.5555555555555556,
             "#d8576b"
            ],
            [
             0.6666666666666666,
             "#ed7953"
            ],
            [
             0.7777777777777778,
             "#fb9f3a"
            ],
            [
             0.8888888888888888,
             "#fdca26"
            ],
            [
             1,
             "#f0f921"
            ]
           ],
           "sequentialminus": [
            [
             0,
             "#0d0887"
            ],
            [
             0.1111111111111111,
             "#46039f"
            ],
            [
             0.2222222222222222,
             "#7201a8"
            ],
            [
             0.3333333333333333,
             "#9c179e"
            ],
            [
             0.4444444444444444,
             "#bd3786"
            ],
            [
             0.5555555555555556,
             "#d8576b"
            ],
            [
             0.6666666666666666,
             "#ed7953"
            ],
            [
             0.7777777777777778,
             "#fb9f3a"
            ],
            [
             0.8888888888888888,
             "#fdca26"
            ],
            [
             1,
             "#f0f921"
            ]
           ]
          },
          "colorway": [
           "#636efa",
           "#EF553B",
           "#00cc96",
           "#ab63fa",
           "#FFA15A",
           "#19d3f3",
           "#FF6692",
           "#B6E880",
           "#FF97FF",
           "#FECB52"
          ],
          "font": {
           "color": "#2a3f5f"
          },
          "geo": {
           "bgcolor": "white",
           "lakecolor": "white",
           "landcolor": "#E5ECF6",
           "showlakes": true,
           "showland": true,
           "subunitcolor": "white"
          },
          "hoverlabel": {
           "align": "left"
          },
          "hovermode": "closest",
          "mapbox": {
           "style": "light"
          },
          "paper_bgcolor": "white",
          "plot_bgcolor": "#E5ECF6",
          "polar": {
           "angularaxis": {
            "gridcolor": "white",
            "linecolor": "white",
            "ticks": ""
           },
           "bgcolor": "#E5ECF6",
           "radialaxis": {
            "gridcolor": "white",
            "linecolor": "white",
            "ticks": ""
           }
          },
          "scene": {
           "xaxis": {
            "backgroundcolor": "#E5ECF6",
            "gridcolor": "white",
            "gridwidth": 2,
            "linecolor": "white",
            "showbackground": true,
            "ticks": "",
            "zerolinecolor": "white"
           },
           "yaxis": {
            "backgroundcolor": "#E5ECF6",
            "gridcolor": "white",
            "gridwidth": 2,
            "linecolor": "white",
            "showbackground": true,
            "ticks": "",
            "zerolinecolor": "white"
           },
           "zaxis": {
            "backgroundcolor": "#E5ECF6",
            "gridcolor": "white",
            "gridwidth": 2,
            "linecolor": "white",
            "showbackground": true,
            "ticks": "",
            "zerolinecolor": "white"
           }
          },
          "shapedefaults": {
           "line": {
            "color": "#2a3f5f"
           }
          },
          "ternary": {
           "aaxis": {
            "gridcolor": "white",
            "linecolor": "white",
            "ticks": ""
           },
           "baxis": {
            "gridcolor": "white",
            "linecolor": "white",
            "ticks": ""
           },
           "bgcolor": "#E5ECF6",
           "caxis": {
            "gridcolor": "white",
            "linecolor": "white",
            "ticks": ""
           }
          },
          "title": {
           "x": 0.05
          },
          "xaxis": {
           "automargin": true,
           "gridcolor": "white",
           "linecolor": "white",
           "ticks": "",
           "title": {
            "standoff": 15
           },
           "zerolinecolor": "white",
           "zerolinewidth": 2
          },
          "yaxis": {
           "automargin": true,
           "gridcolor": "white",
           "linecolor": "white",
           "ticks": "",
           "title": {
            "standoff": 15
           },
           "zerolinecolor": "white",
           "zerolinewidth": 2
          }
         }
        },
        "title": {
         "text": "Measurements on 2020-04-17 00:00:00"
        },
        "width": 1000
       }
      }
     },
     "metadata": {}
    }
   ],
   "source": [
    "def show_map(time, feature):\n",
    "    x = all_df[all_df['time'] == time]\n",
    "    \n",
    "    x = x.merge(meta, on=['device_id', 'city'])\n",
    "    x = gpd.GeoDataFrame(x)\n",
    "\n",
    "    x[\"size\"] = 10\n",
    "\n",
    "    fig = px.scatter_mapbox(x,\n",
    "                            lat=x.geometry.y,\n",
    "                            lon=x.geometry.x,\n",
    "                            hover_name='city',\n",
    "                            hover_data=[\"device_id\", 'device_name'],\n",
    "                            color=feature,\n",
    "                            size='size',\n",
    "                            color_continuous_scale=px.colors.sequential.matter,\n",
    "                            width=1000, height=700)\n",
    "\n",
    "    fig.update_layout(\n",
    "        title=f'Measurements on {time}',\n",
    "        autosize=True,\n",
    "        hovermode='closest',\n",
    "        showlegend=False,\n",
    "        mapbox=dict(\n",
    "            bearing=0,\n",
    "            center=dict(\n",
    "                lat=39,\n",
    "                lon=117\n",
    "            ),\n",
    "            pitch=0,\n",
    "            zoom=5,\n",
    "            style='stamen-terrain' # 'stamen-terrain'\n",
    "        ),\n",
    "    )\n",
    "\n",
    "    fig.show()\n",
    "    # plt.show()s\n",
    "\n",
    "# interact(show_map, time=date_slider)\n",
    "show_map('2020-04-17 00:00:00', 'no2')"
   ]
  }
 ]
}