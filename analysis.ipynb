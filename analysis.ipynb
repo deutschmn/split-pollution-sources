{
 "metadata": {
  "language_info": {
   "codemirror_mode": {
    "name": "ipython",
    "version": 3
   },
   "file_extension": ".py",
   "mimetype": "text/x-python",
   "name": "python",
   "nbconvert_exporter": "python",
   "pygments_lexer": "ipython3",
   "version": "3.9.1-final"
  },
  "orig_nbformat": 2,
  "kernelspec": {
   "name": "python3",
   "display_name": "Python 3",
   "language": "python"
  }
 },
 "nbformat": 4,
 "nbformat_minor": 2,
 "cells": [
  {
   "cell_type": "code",
   "execution_count": 1,
   "metadata": {},
   "outputs": [],
   "source": [
    "from __future__ import print_function\n",
    "\n",
    "import plotly.express as px\n",
    "\n",
    "from IPython.display import display\n",
    "from ipywidgets import interact, interactive, fixed, interact_manual\n",
    "import ipywidgets as widgets\n",
    "\n",
    "import numpy as np\n",
    "import pandas as pd\n",
    "import geopandas as gpd\n",
    "\n",
    "import datetime\n",
    "import pickle\n",
    "\n",
    "import matplotlib.pyplot as plt\n",
    "import ndpretty\n",
    "\n",
    "import data_prep"
   ]
  },
  {
   "cell_type": "code",
   "execution_count": 2,
   "metadata": {},
   "outputs": [],
   "source": [
    "ndpretty.default()"
   ]
  },
  {
   "cell_type": "code",
   "execution_count": 4,
   "metadata": {},
   "outputs": [
    {
     "output_type": "display_data",
     "data": {
      "text/plain": "HBox(children=(FloatProgress(value=0.0, max=87.0), HTML(value='')))",
      "application/vnd.jupyter.widget-view+json": {
       "version_major": 2,
       "version_minor": 0,
       "model_id": "368fcfa1ccdc4a8088f4ba0e56eeb933"
      }
     },
     "metadata": {}
    },
    {
     "output_type": "stream",
     "name": "stdout",
     "text": [
      "\n",
      "Loaded air quality data from 87 devices. No weather data for ['fangshan', 'miyun', 'yanqing', 'badaling', 'miyunshuiku', 'yufa', 'liulihe', '1042A', '1043A', '1044A', '1045A', '1046A', '1047A', '1048A', '1049A', '1050A', '1067A', '1068A', '1069A', '1070A', '1074A', '1075A', '1076A']\n"
     ]
    }
   ],
   "source": [
    "data = data_prep.load_beijing_data()"
   ]
  },
  {
   "source": [
    "# Analysis\n",
    "\n",
    "## Sensors"
   ],
   "cell_type": "markdown",
   "metadata": {}
  },
  {
   "cell_type": "code",
   "execution_count": 97,
   "metadata": {},
   "outputs": [
    {
     "output_type": "display_data",
     "data": {
      "application/vnd.plotly.v1+json": {
       "config": {
        "plotlyServerURL": "https://plot.ly"
       },
       "data": [
        {
         "customdata": [
          [
           "dongsi",
           null
          ],
          [
           "tiantan",
           null
          ],
          [
           "guanyuan",
           null
          ],
          [
           "wanshouxigong",
           null
          ],
          [
           "aotizhongxin",
           null
          ],
          [
           "nongzhanguan",
           null
          ],
          [
           "wanliu",
           null
          ],
          [
           "beibuxinqu",
           null
          ],
          [
           "zhiwuyuan",
           null
          ],
          [
           "fengtaihuayuan",
           null
          ],
          [
           "yungang",
           null
          ],
          [
           "gucheng",
           null
          ],
          [
           "fangshan",
           null
          ],
          [
           "daxing",
           null
          ],
          [
           "yizhuang",
           null
          ],
          [
           "tongzhou",
           null
          ],
          [
           "shunyi",
           null
          ],
          [
           "changping",
           null
          ],
          [
           "mentougou",
           null
          ],
          [
           "pinggu",
           null
          ],
          [
           "huairou",
           null
          ],
          [
           "miyun",
           null
          ],
          [
           "yanqing",
           null
          ],
          [
           "dingling",
           null
          ],
          [
           "badaling",
           null
          ],
          [
           "miyunshuiku",
           null
          ],
          [
           "donggaocun",
           null
          ],
          [
           "yongledian",
           null
          ],
          [
           "yufa",
           null
          ],
          [
           "liulihe",
           null
          ],
          [
           "qianmen",
           null
          ],
          [
           "yongdingmennei",
           null
          ],
          [
           "xizhimenbei",
           null
          ],
          [
           "nansanhuan",
           null
          ],
          [
           "dongsihuan",
           null
          ],
          [
           "1029A",
           "Staff Hospital"
          ],
          [
           "1030A",
           "High-tech Zone"
          ],
          [
           "1031A",
           "Northwest Water Source"
          ],
          [
           "1032A",
           "Southwest Higher Education"
          ],
          [
           "1033A",
           "Century Park"
          ],
          [
           "1034A",
           "People's Hall"
          ],
          [
           "1035A",
           "Fenglong Mountain"
          ],
          [
           "1036A",
           "Supply and Marketing Cooperative"
          ],
          [
           "1037A",
           "radar station"
          ],
          [
           "1038A",
           "Material Bureau"
          ],
          [
           "1039A",
           "Ceramic Company"
          ],
          [
           "1040A",
           "Twelfth Middle School"
          ],
          [
           "1041A",
           "Xiaoshan"
          ],
          [
           "1042A",
           "Beidaihe Environmental Protection Bureau"
          ],
          [
           "1043A",
           "the first pass"
          ],
          [
           "1044A",
           "Monitoring Station"
          ],
          [
           "1045A",
           "Municipal Government"
          ],
          [
           "1046A",
           "Jianshe Building"
          ],
          [
           "1047A",
           "Environmental Protection Bureau"
          ],
          [
           "1048A",
           "East Sewage Treatment Plant"
          ],
          [
           "1049A",
           "Mining Institute"
          ],
          [
           "1050A",
           "Congtai Park"
          ],
          [
           "1051A",
           "Swimming Pool"
          ],
          [
           "1052A",
           "Huadian District 2"
          ],
          [
           "1053A",
           "Reception Center"
          ],
          [
           "1054A",
           "Surface Water Plant"
          ],
          [
           "1055A",
           "Film Factory"
          ],
          [
           "1056A",
           "Monitoring Station"
          ],
          [
           "1057A",
           "People's Park"
          ],
          [
           "1058A",
           "Tanji Factory"
          ],
          [
           "1059A",
           "Hardware Depot"
          ],
          [
           "1060A",
           "Century Plaza"
          ],
          [
           "1061A",
           "North Pump House"
          ],
          [
           "1062A",
           "Railway"
          ],
          [
           "1063A",
           "Bank of China"
          ],
          [
           "1064A",
           "Development Zone"
          ],
          [
           "1065A",
           "Cultural Center"
          ],
          [
           "1066A",
           "Li Palace"
          ],
          [
           "1067A",
           "Medicinal Materials Company"
          ],
          [
           "1068A",
           "Development Zone"
          ],
          [
           "1069A",
           "Environmental Monitoring Supervision Center"
          ],
          [
           "1070A",
           "Beihua University of Aeronautics and Astronautics"
          ],
          [
           "1071A",
           "Cang County Urban Construction Bureau"
          ],
          [
           "1072A",
           "TV relay station"
          ],
          [
           "1073A",
           "Municipal Environmental Protection Bureau"
          ],
          [
           "1074A",
           "North Motor Factory"
          ],
          [
           "1075A",
           "City Monitoring Station"
          ],
          [
           "1076A",
           "Municipal Environmental Protection Bureau"
          ],
          [
           "1077A",
           "Dahuo Spring"
          ],
          [
           "1078A",
           "Xing Teachers College"
          ],
          [
           "1079A",
           "Road and Bridge Company"
          ],
          [
           "1080A",
           "Municipal Environmental Protection Bureau"
          ]
         ],
         "hovertemplate": "<b>%{hovertext}</b><br><br>lat=%{lat}<br>lon=%{lon}<br>device_id=%{customdata[0]}<br>device_name=%{customdata[1]}<br>color=%{marker.color}<extra></extra>",
         "hovertext": [
          "Beijing",
          "Beijing",
          "Beijing",
          "Beijing",
          "Beijing",
          "Beijing",
          "Beijing",
          "Beijing",
          "Beijing",
          "Beijing",
          "Beijing",
          "Beijing",
          "Beijing",
          "Beijing",
          "Beijing",
          "Beijing",
          "Beijing",
          "Beijing",
          "Beijing",
          "Beijing",
          "Beijing",
          "Beijing",
          "Beijing",
          "Beijing",
          "Beijing",
          "Beijing",
          "Beijing",
          "Beijing",
          "Beijing",
          "Beijing",
          "Beijing",
          "Beijing",
          "Beijing",
          "Beijing",
          "Beijing",
          "Shijiazhuang",
          "Shijiazhuang",
          "Shijiazhuang",
          "Shijiazhuang",
          "Shijiazhuang",
          "Shijiazhuang",
          "Shijiazhuang",
          "Tangshan",
          "Tangshan",
          "Tangshan",
          "Tangshan",
          "Tangshan",
          "Tangshan",
          "Qinhuangdao",
          "Qinhuangdao",
          "Qinhuangdao",
          "Qinhuangdao",
          "Qinhuangdao",
          "Handan",
          "Handan",
          "Handan",
          "Handan",
          "Baoding",
          "Baoding",
          "Baoding",
          "Baoding",
          "Baoding",
          "Baoding",
          "Zhangjiakou",
          "Zhangjiakou",
          "Zhangjiakou",
          "Zhangjiakou",
          "Zhangjiakou",
          "Chengde",
          "Chengde",
          "Chengde",
          "Chengde",
          "Chengde",
          "Langfang",
          "Langfang",
          "Langfang",
          "Langfang",
          "Cangzhou",
          "Cangzhou",
          "Cangzhou",
          "Hengshui",
          "Hengshui",
          "Hengshui",
          "Xingtai",
          "Xingtai",
          "Xingtai",
          "Xingtai"
         ],
         "lat": [
          39.929,
          39.886,
          39.929,
          39.878,
          39.982,
          39.937,
          39.987,
          40.09,
          40.002,
          39.863,
          39.824,
          39.914,
          39.742,
          39.718,
          39.795,
          39.886,
          40.127,
          40.217,
          39.937,
          40.143,
          40.328,
          40.37,
          40.453,
          40.292,
          40.365,
          40.499,
          40.1,
          39.712,
          39.52,
          39.58,
          39.899,
          39.876,
          39.954,
          39.856,
          39.939,
          38.0513,
          38.0398,
          38.1398,
          38.00583333,
          38.01777778,
          38.0524,
          37.9097,
          39.6308,
          39.643,
          39.6407,
          39.6679,
          39.65782,
          39.6295,
          39.8283,
          40.0181,
          39.9567,
          39.9358,
          39.9419,
          36.61763,
          36.6164,
          36.5776,
          36.61981,
          38.8632,
          38.8957,
          38.9108,
          38.8416,
          38.8756,
          38.8707,
          40.8367,
          40.79481,
          40.8115,
          40.7688,
          40.8725,
          40.9161,
          40.9843,
          40.9359,
          40.9733,
          41.0112,
          39.5178,
          39.5747,
          39.5571,
          39.5343,
          38.2991,
          38.3254,
          38.3228,
          37.7575,
          37.7379,
          37.739,
          37.0967,
          37.0533,
          37.0964,
          37.062
         ],
         "legendgroup": "",
         "lon": [
          116.417,
          116.407,
          116.339,
          116.352,
          116.397,
          116.461,
          116.287,
          116.174,
          116.207,
          116.279,
          116.146,
          116.184,
          116.136,
          116.404,
          116.506,
          116.663,
          116.655,
          116.23,
          116.106,
          117.1,
          116.628,
          116.832,
          115.972,
          116.22,
          115.988,
          116.911,
          117.12,
          116.783,
          116.3,
          116,
          116.395,
          116.394,
          116.349,
          116.368,
          116.483,
          114.4548,
          114.6046,
          114.5019,
          114.4586111,
          114.53305559999998,
          114.5214,
          114.3541,
          118.1662,
          118.144,
          118.1853,
          118.2185,
          118.1838,
          118.1997,
          119.5259,
          119.7624,
          119.6023,
          119.607,
          119.5369,
          114.5129,
          114.5426,
          114.5035,
          114.4965,
          115.493,
          115.5223,
          115.4713,
          115.4612,
          115.442,
          115.5214,
          114.8985,
          114.892,
          114.8814,
          114.9032,
          114.904,
          117.9664,
          117.9525,
          117.963,
          117.8184,
          117.9384,
          116.6838,
          116.7729,
          116.715,
          116.7464,
          116.8854,
          116.8584,
          116.8709,
          115.6951,
          115.6426,
          115.6906,
          114.4821,
          114.5261,
          114.5331,
          114.4854
         ],
         "marker": {
          "color": [
           0,
           0,
           0,
           0,
           0,
           0,
           0,
           0,
           0,
           0,
           0,
           0,
           0,
           0,
           0,
           0,
           0,
           0,
           0,
           0,
           0,
           0,
           0,
           0,
           0,
           0,
           0,
           0,
           0,
           0,
           0,
           0,
           0,
           0,
           0,
           1,
           1,
           1,
           1,
           1,
           1,
           1,
           1,
           1,
           1,
           1,
           1,
           1,
           1,
           1,
           1,
           1,
           1,
           1,
           1,
           1,
           1,
           1,
           1,
           1,
           1,
           1,
           1,
           1,
           1,
           1,
           1,
           1,
           1,
           1,
           1,
           1,
           1,
           1,
           1,
           1,
           1,
           1,
           1,
           1,
           1,
           1,
           1,
           1,
           1,
           1,
           1
          ],
          "coloraxis": "coloraxis"
         },
         "mode": "markers",
         "name": "",
         "showlegend": false,
         "subplot": "mapbox",
         "type": "scattermapbox"
        }
       ],
       "layout": {
        "autosize": true,
        "coloraxis": {
         "colorbar": {
          "title": {
           "text": "color"
          }
         },
         "colorscale": [
          [
           0,
           "rgb(0,0,0)"
          ],
          [
           0.25,
           "rgb(230,0,0)"
          ],
          [
           0.5,
           "rgb(230,210,0)"
          ],
          [
           0.75,
           "rgb(255,255,255)"
          ],
          [
           1,
           "rgb(160,200,255)"
          ]
         ]
        },
        "height": 700,
        "hovermode": "closest",
        "legend": {
         "tracegroupgap": 0
        },
        "mapbox": {
         "bearing": 0,
         "center": {
          "lat": 39,
          "lon": 117
         },
         "domain": {
          "x": [
           0,
           1
          ],
          "y": [
           0,
           1
          ]
         },
         "pitch": 0,
         "style": "stamen-terrain",
         "zoom": 5
        },
        "margin": {
         "t": 60
        },
        "showlegend": false,
        "template": {
         "data": {
          "bar": [
           {
            "error_x": {
             "color": "#2a3f5f"
            },
            "error_y": {
             "color": "#2a3f5f"
            },
            "marker": {
             "line": {
              "color": "#E5ECF6",
              "width": 0.5
             }
            },
            "type": "bar"
           }
          ],
          "barpolar": [
           {
            "marker": {
             "line": {
              "color": "#E5ECF6",
              "width": 0.5
             }
            },
            "type": "barpolar"
           }
          ],
          "carpet": [
           {
            "aaxis": {
             "endlinecolor": "#2a3f5f",
             "gridcolor": "white",
             "linecolor": "white",
             "minorgridcolor": "white",
             "startlinecolor": "#2a3f5f"
            },
            "baxis": {
             "endlinecolor": "#2a3f5f",
             "gridcolor": "white",
             "linecolor": "white",
             "minorgridcolor": "white",
             "startlinecolor": "#2a3f5f"
            },
            "type": "carpet"
           }
          ],
          "choropleth": [
           {
            "colorbar": {
             "outlinewidth": 0,
             "ticks": ""
            },
            "type": "choropleth"
           }
          ],
          "contour": [
           {
            "colorbar": {
             "outlinewidth": 0,
             "ticks": ""
            },
            "colorscale": [
             [
              0,
              "#0d0887"
             ],
             [
              0.1111111111111111,
              "#46039f"
             ],
             [
              0.2222222222222222,
              "#7201a8"
             ],
             [
              0.3333333333333333,
              "#9c179e"
             ],
             [
              0.4444444444444444,
              "#bd3786"
             ],
             [
              0.5555555555555556,
              "#d8576b"
             ],
             [
              0.6666666666666666,
              "#ed7953"
             ],
             [
              0.7777777777777778,
              "#fb9f3a"
             ],
             [
              0.8888888888888888,
              "#fdca26"
             ],
             [
              1,
              "#f0f921"
             ]
            ],
            "type": "contour"
           }
          ],
          "contourcarpet": [
           {
            "colorbar": {
             "outlinewidth": 0,
             "ticks": ""
            },
            "type": "contourcarpet"
           }
          ],
          "heatmap": [
           {
            "colorbar": {
             "outlinewidth": 0,
             "ticks": ""
            },
            "colorscale": [
             [
              0,
              "#0d0887"
             ],
             [
              0.1111111111111111,
              "#46039f"
             ],
             [
              0.2222222222222222,
              "#7201a8"
             ],
             [
              0.3333333333333333,
              "#9c179e"
             ],
             [
              0.4444444444444444,
              "#bd3786"
             ],
             [
              0.5555555555555556,
              "#d8576b"
             ],
             [
              0.6666666666666666,
              "#ed7953"
             ],
             [
              0.7777777777777778,
              "#fb9f3a"
             ],
             [
              0.8888888888888888,
              "#fdca26"
             ],
             [
              1,
              "#f0f921"
             ]
            ],
            "type": "heatmap"
           }
          ],
          "heatmapgl": [
           {
            "colorbar": {
             "outlinewidth": 0,
             "ticks": ""
            },
            "colorscale": [
             [
              0,
              "#0d0887"
             ],
             [
              0.1111111111111111,
              "#46039f"
             ],
             [
              0.2222222222222222,
              "#7201a8"
             ],
             [
              0.3333333333333333,
              "#9c179e"
             ],
             [
              0.4444444444444444,
              "#bd3786"
             ],
             [
              0.5555555555555556,
              "#d8576b"
             ],
             [
              0.6666666666666666,
              "#ed7953"
             ],
             [
              0.7777777777777778,
              "#fb9f3a"
             ],
             [
              0.8888888888888888,
              "#fdca26"
             ],
             [
              1,
              "#f0f921"
             ]
            ],
            "type": "heatmapgl"
           }
          ],
          "histogram": [
           {
            "marker": {
             "colorbar": {
              "outlinewidth": 0,
              "ticks": ""
             }
            },
            "type": "histogram"
           }
          ],
          "histogram2d": [
           {
            "colorbar": {
             "outlinewidth": 0,
             "ticks": ""
            },
            "colorscale": [
             [
              0,
              "#0d0887"
             ],
             [
              0.1111111111111111,
              "#46039f"
             ],
             [
              0.2222222222222222,
              "#7201a8"
             ],
             [
              0.3333333333333333,
              "#9c179e"
             ],
             [
              0.4444444444444444,
              "#bd3786"
             ],
             [
              0.5555555555555556,
              "#d8576b"
             ],
             [
              0.6666666666666666,
              "#ed7953"
             ],
             [
              0.7777777777777778,
              "#fb9f3a"
             ],
             [
              0.8888888888888888,
              "#fdca26"
             ],
             [
              1,
              "#f0f921"
             ]
            ],
            "type": "histogram2d"
           }
          ],
          "histogram2dcontour": [
           {
            "colorbar": {
             "outlinewidth": 0,
             "ticks": ""
            },
            "colorscale": [
             [
              0,
              "#0d0887"
             ],
             [
              0.1111111111111111,
              "#46039f"
             ],
             [
              0.2222222222222222,
              "#7201a8"
             ],
             [
              0.3333333333333333,
              "#9c179e"
             ],
             [
              0.4444444444444444,
              "#bd3786"
             ],
             [
              0.5555555555555556,
              "#d8576b"
             ],
             [
              0.6666666666666666,
              "#ed7953"
             ],
             [
              0.7777777777777778,
              "#fb9f3a"
             ],
             [
              0.8888888888888888,
              "#fdca26"
             ],
             [
              1,
              "#f0f921"
             ]
            ],
            "type": "histogram2dcontour"
           }
          ],
          "mesh3d": [
           {
            "colorbar": {
             "outlinewidth": 0,
             "ticks": ""
            },
            "type": "mesh3d"
           }
          ],
          "parcoords": [
           {
            "line": {
             "colorbar": {
              "outlinewidth": 0,
              "ticks": ""
             }
            },
            "type": "parcoords"
           }
          ],
          "pie": [
           {
            "automargin": true,
            "type": "pie"
           }
          ],
          "scatter": [
           {
            "marker": {
             "colorbar": {
              "outlinewidth": 0,
              "ticks": ""
             }
            },
            "type": "scatter"
           }
          ],
          "scatter3d": [
           {
            "line": {
             "colorbar": {
              "outlinewidth": 0,
              "ticks": ""
             }
            },
            "marker": {
             "colorbar": {
              "outlinewidth": 0,
              "ticks": ""
             }
            },
            "type": "scatter3d"
           }
          ],
          "scattercarpet": [
           {
            "marker": {
             "colorbar": {
              "outlinewidth": 0,
              "ticks": ""
             }
            },
            "type": "scattercarpet"
           }
          ],
          "scattergeo": [
           {
            "marker": {
             "colorbar": {
              "outlinewidth": 0,
              "ticks": ""
             }
            },
            "type": "scattergeo"
           }
          ],
          "scattergl": [
           {
            "marker": {
             "colorbar": {
              "outlinewidth": 0,
              "ticks": ""
             }
            },
            "type": "scattergl"
           }
          ],
          "scattermapbox": [
           {
            "marker": {
             "colorbar": {
              "outlinewidth": 0,
              "ticks": ""
             }
            },
            "type": "scattermapbox"
           }
          ],
          "scatterpolar": [
           {
            "marker": {
             "colorbar": {
              "outlinewidth": 0,
              "ticks": ""
             }
            },
            "type": "scatterpolar"
           }
          ],
          "scatterpolargl": [
           {
            "marker": {
             "colorbar": {
              "outlinewidth": 0,
              "ticks": ""
             }
            },
            "type": "scatterpolargl"
           }
          ],
          "scatterternary": [
           {
            "marker": {
             "colorbar": {
              "outlinewidth": 0,
              "ticks": ""
             }
            },
            "type": "scatterternary"
           }
          ],
          "surface": [
           {
            "colorbar": {
             "outlinewidth": 0,
             "ticks": ""
            },
            "colorscale": [
             [
              0,
              "#0d0887"
             ],
             [
              0.1111111111111111,
              "#46039f"
             ],
             [
              0.2222222222222222,
              "#7201a8"
             ],
             [
              0.3333333333333333,
              "#9c179e"
             ],
             [
              0.4444444444444444,
              "#bd3786"
             ],
             [
              0.5555555555555556,
              "#d8576b"
             ],
             [
              0.6666666666666666,
              "#ed7953"
             ],
             [
              0.7777777777777778,
              "#fb9f3a"
             ],
             [
              0.8888888888888888,
              "#fdca26"
             ],
             [
              1,
              "#f0f921"
             ]
            ],
            "type": "surface"
           }
          ],
          "table": [
           {
            "cells": {
             "fill": {
              "color": "#EBF0F8"
             },
             "line": {
              "color": "white"
             }
            },
            "header": {
             "fill": {
              "color": "#C8D4E3"
             },
             "line": {
              "color": "white"
             }
            },
            "type": "table"
           }
          ]
         },
         "layout": {
          "annotationdefaults": {
           "arrowcolor": "#2a3f5f",
           "arrowhead": 0,
           "arrowwidth": 1
          },
          "autotypenumbers": "strict",
          "coloraxis": {
           "colorbar": {
            "outlinewidth": 0,
            "ticks": ""
           }
          },
          "colorscale": {
           "diverging": [
            [
             0,
             "#8e0152"
            ],
            [
             0.1,
             "#c51b7d"
            ],
            [
             0.2,
             "#de77ae"
            ],
            [
             0.3,
             "#f1b6da"
            ],
            [
             0.4,
             "#fde0ef"
            ],
            [
             0.5,
             "#f7f7f7"
            ],
            [
             0.6,
             "#e6f5d0"
            ],
            [
             0.7,
             "#b8e186"
            ],
            [
             0.8,
             "#7fbc41"
            ],
            [
             0.9,
             "#4d9221"
            ],
            [
             1,
             "#276419"
            ]
           ],
           "sequential": [
            [
             0,
             "#0d0887"
            ],
            [
             0.1111111111111111,
             "#46039f"
            ],
            [
             0.2222222222222222,
             "#7201a8"
            ],
            [
             0.3333333333333333,
             "#9c179e"
            ],
            [
             0.4444444444444444,
             "#bd3786"
            ],
            [
             0.5555555555555556,
             "#d8576b"
            ],
            [
             0.6666666666666666,
             "#ed7953"
            ],
            [
             0.7777777777777778,
             "#fb9f3a"
            ],
            [
             0.8888888888888888,
             "#fdca26"
            ],
            [
             1,
             "#f0f921"
            ]
           ],
           "sequentialminus": [
            [
             0,
             "#0d0887"
            ],
            [
             0.1111111111111111,
             "#46039f"
            ],
            [
             0.2222222222222222,
             "#7201a8"
            ],
            [
             0.3333333333333333,
             "#9c179e"
            ],
            [
             0.4444444444444444,
             "#bd3786"
            ],
            [
             0.5555555555555556,
             "#d8576b"
            ],
            [
             0.6666666666666666,
             "#ed7953"
            ],
            [
             0.7777777777777778,
             "#fb9f3a"
            ],
            [
             0.8888888888888888,
             "#fdca26"
            ],
            [
             1,
             "#f0f921"
            ]
           ]
          },
          "colorway": [
           "#636efa",
           "#EF553B",
           "#00cc96",
           "#ab63fa",
           "#FFA15A",
           "#19d3f3",
           "#FF6692",
           "#B6E880",
           "#FF97FF",
           "#FECB52"
          ],
          "font": {
           "color": "#2a3f5f"
          },
          "geo": {
           "bgcolor": "white",
           "lakecolor": "white",
           "landcolor": "#E5ECF6",
           "showlakes": true,
           "showland": true,
           "subunitcolor": "white"
          },
          "hoverlabel": {
           "align": "left"
          },
          "hovermode": "closest",
          "mapbox": {
           "style": "light"
          },
          "paper_bgcolor": "white",
          "plot_bgcolor": "#E5ECF6",
          "polar": {
           "angularaxis": {
            "gridcolor": "white",
            "linecolor": "white",
            "ticks": ""
           },
           "bgcolor": "#E5ECF6",
           "radialaxis": {
            "gridcolor": "white",
            "linecolor": "white",
            "ticks": ""
           }
          },
          "scene": {
           "xaxis": {
            "backgroundcolor": "#E5ECF6",
            "gridcolor": "white",
            "gridwidth": 2,
            "linecolor": "white",
            "showbackground": true,
            "ticks": "",
            "zerolinecolor": "white"
           },
           "yaxis": {
            "backgroundcolor": "#E5ECF6",
            "gridcolor": "white",
            "gridwidth": 2,
            "linecolor": "white",
            "showbackground": true,
            "ticks": "",
            "zerolinecolor": "white"
           },
           "zaxis": {
            "backgroundcolor": "#E5ECF6",
            "gridcolor": "white",
            "gridwidth": 2,
            "linecolor": "white",
            "showbackground": true,
            "ticks": "",
            "zerolinecolor": "white"
           }
          },
          "shapedefaults": {
           "line": {
            "color": "#2a3f5f"
           }
          },
          "ternary": {
           "aaxis": {
            "gridcolor": "white",
            "linecolor": "white",
            "ticks": ""
           },
           "baxis": {
            "gridcolor": "white",
            "linecolor": "white",
            "ticks": ""
           },
           "bgcolor": "#E5ECF6",
           "caxis": {
            "gridcolor": "white",
            "linecolor": "white",
            "ticks": ""
           }
          },
          "title": {
           "x": 0.05
          },
          "xaxis": {
           "automargin": true,
           "gridcolor": "white",
           "linecolor": "white",
           "ticks": "",
           "title": {
            "standoff": 15
           },
           "zerolinecolor": "white",
           "zerolinewidth": 2
          },
          "yaxis": {
           "automargin": true,
           "gridcolor": "white",
           "linecolor": "white",
           "ticks": "",
           "title": {
            "standoff": 15
           },
           "zerolinecolor": "white",
           "zerolinewidth": 2
          }
         }
        },
        "title": {
         "text": "Devices"
        },
        "width": 1000
       }
      }
     },
     "metadata": {}
    }
   ],
   "source": [
    "def show_sensor_map(meta):\n",
    "    meta_plot = meta.copy()\n",
    "    meta_plot['color'] = 1\n",
    "    meta_plot.loc[meta_plot['city'] == 'Beijing', 'color'] = 0\n",
    "\n",
    "    fig = px.scatter_mapbox(meta_plot,\n",
    "                            lat=meta_plot.geometry.y,\n",
    "                            lon=meta_plot.geometry.x,\n",
    "                            color='color',\n",
    "                            color_continuous_scale=px.colors.sequential.Blackbody,\n",
    "                            hover_name='city',\n",
    "                            hover_data=[\"device_id\", 'device_name'],\n",
    "                            width=1000, height=700)\n",
    "\n",
    "    fig.update_layout(\n",
    "        title='Devices',\n",
    "        autosize=True,\n",
    "        hovermode='closest',\n",
    "        showlegend=False,\n",
    "        mapbox=dict(\n",
    "            bearing=0,\n",
    "            center=dict(\n",
    "                lat=39,\n",
    "                lon=117\n",
    "            ),\n",
    "            pitch=0,\n",
    "            zoom=5,\n",
    "            style='stamen-terrain'\n",
    "        ),\n",
    "    )\n",
    "\n",
    "    fig.show()\n",
    "\n",
    "show_sensor_map(data.metadata)"
   ]
  },
  {
   "source": [
    "## Measurements\n",
    "\n",
    "### Individual measurements"
   ],
   "cell_type": "markdown",
   "metadata": {}
  },
  {
   "cell_type": "code",
   "execution_count": 6,
   "metadata": {},
   "outputs": [],
   "source": [
    "days_list = pd.date_range(data.measurements[\"time\"].min(), data.measurements[\"time\"].max(), freq='D')\n",
    "days_list_formatted = [(date.strftime(' %d-%m-%y '), date) for date in days_list]\n",
    "\n",
    "ld1 = data.events[0]\n",
    "start = ld1.start - datetime.timedelta(days=14)\n",
    "end = ld1.end + datetime.timedelta(days=14)\n",
    "\n",
    "date_slider = widgets.SelectionRangeSlider(\n",
    "    options=days_list_formatted,\n",
    "    index=(0, len(days_list_formatted) - 1),\n",
    "    value=(start, end),\n",
    "    description='Dates',\n",
    "    orientation='horizontal',\n",
    "    layout={'width': '500px'}\n",
    ")"
   ]
  },
  {
   "cell_type": "code",
   "execution_count": 7,
   "metadata": {},
   "outputs": [],
   "source": [
    "devices = data.metadata['device_id']\n",
    "descriptions = data.metadata['device_id'] + \" (\" + data.metadata['city'] + \")\"\n",
    "dic = dict(zip(descriptions, devices))"
   ]
  },
  {
   "cell_type": "code",
   "execution_count": 8,
   "metadata": {},
   "outputs": [
    {
     "output_type": "display_data",
     "data": {
      "text/plain": "interactive(children=(SelectMultiple(description='Devices', options=('dongsi (Beijing)', 'tiantan (Beijing)', …",
      "application/vnd.jupyter.widget-view+json": {
       "version_major": 2,
       "version_minor": 0,
       "model_id": "e1a054b1d33743c8ab70530e46be4072"
      }
     },
     "metadata": {}
    },
    {
     "output_type": "execute_result",
     "data": {
      "text/plain": [
       "<function __main__.plot_data(data, devices, date_range, feature, events=[], device_id_mapping=None)>"
      ]
     },
     "metadata": {},
     "execution_count": 8
    }
   ],
   "source": [
    "def plot_data(data, devices, date_range, feature, events=[], device_id_mapping=None):\n",
    "    plt.figure(figsize=(10,5))\n",
    "\n",
    "    # plot events\n",
    "    for event in events:\n",
    "        plt.axvspan(event.start, event.end, color=event.color, alpha=0.1, label=event.name)\n",
    "\n",
    "    # plot measurements\n",
    "    (start, end) = date_range\n",
    "    for device in devices:\n",
    "        if device_id_mapping is not None:\n",
    "            device_id = device_id_mapping[device]\n",
    "        else:\n",
    "            device_id = device\n",
    "        y = data[(data['device_id'] == device_id) & (data['time'] >= start) & (data['time'] < end)]\n",
    "        plt.plot(y['time'], y[feature], label=device)\n",
    "\n",
    "    plt.tight_layout()\n",
    "\n",
    "    plt.title(feature)\n",
    "    plt.legend(loc='upper left')\n",
    "    axes = plt.gca()\n",
    "    axes.set_xlim([start,end])\n",
    "\n",
    "    plt.show()\n",
    "\n",
    "device_widget = widgets.SelectMultiple(\n",
    "    options=dic.keys(),\n",
    "    rows=15,\n",
    "    description='Devices',\n",
    "    disabled=False\n",
    ")\n",
    "\n",
    "feature_widget = widgets.Dropdown(\n",
    "    options=data.air_features,\n",
    "    value='pm25',\n",
    "    description='Feature:'\n",
    ")\n",
    "\n",
    "interact_manual(plot_data, data=fixed(data.measurements), devices=device_widget, date_range=date_slider, feature=feature_widget, events=fixed(data.events), device_id_mapping=fixed(dic))"
   ]
  },
  {
   "source": [
    "### City means"
   ],
   "cell_type": "markdown",
   "metadata": {}
  },
  {
   "cell_type": "code",
   "execution_count": 9,
   "metadata": {},
   "outputs": [],
   "source": [
    "city_means = data.measurements_joined.groupby(by=['city', 'time']).mean().reset_index()\n",
    "city_means = city_means.rename(columns={'city': 'device_id'})"
   ]
  },
  {
   "cell_type": "code",
   "execution_count": 10,
   "metadata": {},
   "outputs": [
    {
     "output_type": "display_data",
     "data": {
      "text/plain": "interactive(children=(SelectMultiple(description='Devices', options=('Baoding', 'Beijing', 'Cangzhou', 'Chengd…",
      "application/vnd.jupyter.widget-view+json": {
       "version_major": 2,
       "version_minor": 0,
       "model_id": "4d2ba4b4fae042c9b200d4bed2fdf450"
      }
     },
     "metadata": {}
    },
    {
     "output_type": "execute_result",
     "data": {
      "text/plain": [
       "<function __main__.plot_data(data, devices, date_range, feature, events=[], device_id_mapping=None)>"
      ]
     },
     "metadata": {},
     "execution_count": 10
    }
   ],
   "source": [
    "city_widget = widgets.SelectMultiple(\n",
    "    options=list(city_means['device_id'].unique()),\n",
    "    rows=15,\n",
    "    description='Devices',\n",
    "    disabled=False\n",
    ")\n",
    "\n",
    "interact_manual(plot_data, data=fixed(city_means), devices=city_widget, date_range=date_slider, feature=feature_widget, events=fixed(data.events), device_id_mapping=fixed(None))"
   ]
  },
  {
   "cell_type": "code",
   "execution_count": 13,
   "metadata": {},
   "outputs": [
    {
     "output_type": "display_data",
     "data": {
      "application/vnd.plotly.v1+json": {
       "config": {
        "plotlyServerURL": "https://plot.ly"
       },
       "data": [
        {
         "customdata": [
          [
           "dongsi",
           null
          ],
          [
           "tiantan",
           null
          ],
          [
           "guanyuan",
           null
          ],
          [
           "wanshouxigong",
           null
          ],
          [
           "aotizhongxin",
           null
          ],
          [
           "nongzhanguan",
           null
          ],
          [
           "wanliu",
           null
          ],
          [
           "beibuxinqu",
           null
          ],
          [
           "zhiwuyuan",
           null
          ],
          [
           "fengtaihuayuan",
           null
          ],
          [
           "yungang",
           null
          ],
          [
           "gucheng",
           null
          ],
          [
           "fangshan",
           null
          ],
          [
           "daxing",
           null
          ],
          [
           "yizhuang",
           null
          ],
          [
           "tongzhou",
           null
          ],
          [
           "shunyi",
           null
          ],
          [
           "changping",
           null
          ],
          [
           "mentougou",
           null
          ],
          [
           "pinggu",
           null
          ],
          [
           "huairou",
           null
          ],
          [
           "miyun",
           null
          ],
          [
           "yanqing",
           null
          ],
          [
           "dingling",
           null
          ],
          [
           "badaling",
           null
          ],
          [
           "miyunshuiku",
           null
          ],
          [
           "donggaocun",
           null
          ],
          [
           "yongledian",
           null
          ],
          [
           "yufa",
           null
          ],
          [
           "liulihe",
           null
          ],
          [
           "qianmen",
           null
          ],
          [
           "yongdingmennei",
           null
          ],
          [
           "xizhimenbei",
           null
          ],
          [
           "nansanhuan",
           null
          ],
          [
           "dongsihuan",
           null
          ],
          [
           "1029A",
           "Staff Hospital"
          ],
          [
           "1030A",
           "High-tech Zone"
          ],
          [
           "1031A",
           "Northwest Water Source"
          ],
          [
           "1032A",
           "Southwest Higher Education"
          ],
          [
           "1033A",
           "Century Park"
          ],
          [
           "1034A",
           "People's Hall"
          ],
          [
           "1035A",
           "Fenglong Mountain"
          ],
          [
           "1036A",
           "Supply and Marketing Cooperative"
          ],
          [
           "1037A",
           "radar station"
          ],
          [
           "1038A",
           "Material Bureau"
          ],
          [
           "1039A",
           "Ceramic Company"
          ],
          [
           "1040A",
           "Twelfth Middle School"
          ],
          [
           "1041A",
           "Xiaoshan"
          ],
          [
           "1042A",
           "Beidaihe Environmental Protection Bureau"
          ],
          [
           "1043A",
           "the first pass"
          ],
          [
           "1044A",
           "Monitoring Station"
          ],
          [
           "1045A",
           "Municipal Government"
          ],
          [
           "1046A",
           "Jianshe Building"
          ],
          [
           "1047A",
           "Environmental Protection Bureau"
          ],
          [
           "1048A",
           "East Sewage Treatment Plant"
          ],
          [
           "1049A",
           "Mining Institute"
          ],
          [
           "1050A",
           "Congtai Park"
          ],
          [
           "1051A",
           "Swimming Pool"
          ],
          [
           "1052A",
           "Huadian District 2"
          ],
          [
           "1053A",
           "Reception Center"
          ],
          [
           "1054A",
           "Surface Water Plant"
          ],
          [
           "1055A",
           "Film Factory"
          ],
          [
           "1056A",
           "Monitoring Station"
          ],
          [
           "1057A",
           "People's Park"
          ],
          [
           "1058A",
           "Tanji Factory"
          ],
          [
           "1059A",
           "Hardware Depot"
          ],
          [
           "1060A",
           "Century Plaza"
          ],
          [
           "1061A",
           "North Pump House"
          ],
          [
           "1062A",
           "Railway"
          ],
          [
           "1063A",
           "Bank of China"
          ],
          [
           "1064A",
           "Development Zone"
          ],
          [
           "1065A",
           "Cultural Center"
          ],
          [
           "1066A",
           "Li Palace"
          ],
          [
           "1067A",
           "Medicinal Materials Company"
          ],
          [
           "1068A",
           "Development Zone"
          ],
          [
           "1069A",
           "Environmental Monitoring Supervision Center"
          ],
          [
           "1070A",
           "Beihua University of Aeronautics and Astronautics"
          ],
          [
           "1071A",
           "Cang County Urban Construction Bureau"
          ],
          [
           "1072A",
           "TV relay station"
          ],
          [
           "1073A",
           "Municipal Environmental Protection Bureau"
          ],
          [
           "1074A",
           "North Motor Factory"
          ],
          [
           "1075A",
           "City Monitoring Station"
          ],
          [
           "1076A",
           "Municipal Environmental Protection Bureau"
          ],
          [
           "1077A",
           "Dahuo Spring"
          ],
          [
           "1078A",
           "Xing Teachers College"
          ],
          [
           "1079A",
           "Road and Bridge Company"
          ],
          [
           "1080A",
           "Municipal Environmental Protection Bureau"
          ]
         ],
         "hovertemplate": "<b>%{hovertext}</b><br><br>size=%{marker.size}<br>lat=%{lat}<br>lon=%{lon}<br>device_id=%{customdata[0]}<br>device_name=%{customdata[1]}<br>pm25=%{marker.color}<extra></extra>",
         "hovertext": [
          "Beijing",
          "Beijing",
          "Beijing",
          "Beijing",
          "Beijing",
          "Beijing",
          "Beijing",
          "Beijing",
          "Beijing",
          "Beijing",
          "Beijing",
          "Beijing",
          "Beijing",
          "Beijing",
          "Beijing",
          "Beijing",
          "Beijing",
          "Beijing",
          "Beijing",
          "Beijing",
          "Beijing",
          "Beijing",
          "Beijing",
          "Beijing",
          "Beijing",
          "Beijing",
          "Beijing",
          "Beijing",
          "Beijing",
          "Beijing",
          "Beijing",
          "Beijing",
          "Beijing",
          "Beijing",
          "Beijing",
          "Shijiazhuang",
          "Shijiazhuang",
          "Shijiazhuang",
          "Shijiazhuang",
          "Shijiazhuang",
          "Shijiazhuang",
          "Shijiazhuang",
          "Tangshan",
          "Tangshan",
          "Tangshan",
          "Tangshan",
          "Tangshan",
          "Tangshan",
          "Qinhuangdao",
          "Qinhuangdao",
          "Qinhuangdao",
          "Qinhuangdao",
          "Qinhuangdao",
          "Handan",
          "Handan",
          "Handan",
          "Handan",
          "Baoding",
          "Baoding",
          "Baoding",
          "Baoding",
          "Baoding",
          "Baoding",
          "Zhangjiakou",
          "Zhangjiakou",
          "Zhangjiakou",
          "Zhangjiakou",
          "Zhangjiakou",
          "Chengde",
          "Chengde",
          "Chengde",
          "Chengde",
          "Chengde",
          "Langfang",
          "Langfang",
          "Langfang",
          "Langfang",
          "Cangzhou",
          "Cangzhou",
          "Cangzhou",
          "Hengshui",
          "Hengshui",
          "Hengshui",
          "Xingtai",
          "Xingtai",
          "Xingtai",
          "Xingtai"
         ],
         "lat": [
          39.929,
          39.886,
          39.929,
          39.878,
          39.982,
          39.937,
          39.987,
          40.09,
          40.002,
          39.863,
          39.824,
          39.914,
          39.742,
          39.718,
          39.795,
          39.886,
          40.127,
          40.217,
          39.937,
          40.143,
          40.328,
          40.37,
          40.453,
          40.292,
          40.365,
          40.499,
          40.1,
          39.712,
          39.52,
          39.58,
          39.899,
          39.876,
          39.954,
          39.856,
          39.939,
          38.0513,
          38.0398,
          38.1398,
          38.00583333,
          38.01777778,
          38.0524,
          37.9097,
          39.6308,
          39.643,
          39.6407,
          39.6679,
          39.65782,
          39.6295,
          39.8283,
          40.0181,
          39.9567,
          39.9358,
          39.9419,
          36.61763,
          36.6164,
          36.5776,
          36.61981,
          38.8632,
          38.8957,
          38.9108,
          38.8416,
          38.8756,
          38.8707,
          40.8367,
          40.79481,
          40.8115,
          40.7688,
          40.8725,
          40.9161,
          40.9843,
          40.9359,
          40.9733,
          41.0112,
          39.5178,
          39.5747,
          39.5571,
          39.5343,
          38.2991,
          38.3254,
          38.3228,
          37.7575,
          37.7379,
          37.739,
          37.0967,
          37.0533,
          37.0964,
          37.062
         ],
         "legendgroup": "",
         "lon": [
          116.417,
          116.407,
          116.339,
          116.352,
          116.397,
          116.461,
          116.287,
          116.174,
          116.207,
          116.279,
          116.146,
          116.184,
          116.136,
          116.404,
          116.506,
          116.663,
          116.655,
          116.23,
          116.106,
          117.1,
          116.628,
          116.832,
          115.972,
          116.22,
          115.988,
          116.911,
          117.12,
          116.783,
          116.3,
          116,
          116.395,
          116.394,
          116.349,
          116.368,
          116.483,
          114.4548,
          114.6046,
          114.5019,
          114.4586111,
          114.53305559999998,
          114.5214,
          114.3541,
          118.1662,
          118.144,
          118.1853,
          118.2185,
          118.1838,
          118.1997,
          119.5259,
          119.7624,
          119.6023,
          119.607,
          119.5369,
          114.5129,
          114.5426,
          114.5035,
          114.4965,
          115.493,
          115.5223,
          115.4713,
          115.4612,
          115.442,
          115.5214,
          114.8985,
          114.892,
          114.8814,
          114.9032,
          114.904,
          117.9664,
          117.9525,
          117.963,
          117.8184,
          117.9384,
          116.6838,
          116.7729,
          116.715,
          116.7464,
          116.8854,
          116.8584,
          116.8709,
          115.6951,
          115.6426,
          115.6906,
          114.4821,
          114.5261,
          114.5331,
          114.4854
         ],
         "marker": {
          "color": [
           48,
           43,
           47,
           51,
           48,
           48,
           48,
           89,
           null,
           null,
           51,
           78,
           59,
           46,
           44,
           44,
           56,
           94,
           90,
           51,
           68,
           37,
           88,
           90,
           94,
           52,
           53,
           74,
           35,
           68,
           39,
           45,
           46,
           43,
           36,
           42,
           32,
           42,
           40,
           21,
           36,
           34,
           null,
           51,
           53,
           null,
           50,
           70,
           97,
           83,
           89,
           null,
           83,
           40,
           33,
           39,
           38,
           33,
           33,
           34,
           35,
           38,
           36,
           89,
           null,
           61,
           89,
           57,
           49,
           42,
           47,
           39,
           41,
           43,
           37,
           null,
           38,
           44,
           39,
           46,
           48,
           43,
           null,
           32,
           null,
           35,
           43
          ],
          "coloraxis": "coloraxis",
          "size": [
           10,
           10,
           10,
           10,
           10,
           10,
           10,
           10,
           10,
           10,
           10,
           10,
           10,
           10,
           10,
           10,
           10,
           10,
           10,
           10,
           10,
           10,
           10,
           10,
           10,
           10,
           10,
           10,
           10,
           10,
           10,
           10,
           10,
           10,
           10,
           10,
           10,
           10,
           10,
           10,
           10,
           10,
           10,
           10,
           10,
           10,
           10,
           10,
           10,
           10,
           10,
           10,
           10,
           10,
           10,
           10,
           10,
           10,
           10,
           10,
           10,
           10,
           10,
           10,
           10,
           10,
           10,
           10,
           10,
           10,
           10,
           10,
           10,
           10,
           10,
           10,
           10,
           10,
           10,
           10,
           10,
           10,
           10,
           10,
           10,
           10,
           10
          ],
          "sizemode": "area",
          "sizeref": 0.025
         },
         "mode": "markers",
         "name": "",
         "showlegend": false,
         "subplot": "mapbox",
         "type": "scattermapbox"
        }
       ],
       "layout": {
        "autosize": true,
        "coloraxis": {
         "colorbar": {
          "title": {
           "text": "pm25"
          }
         },
         "colorscale": [
          [
           0,
           "rgb(253, 237, 176)"
          ],
          [
           0.09090909090909091,
           "rgb(250, 205, 145)"
          ],
          [
           0.18181818181818182,
           "rgb(246, 173, 119)"
          ],
          [
           0.2727272727272727,
           "rgb(240, 142, 98)"
          ],
          [
           0.36363636363636365,
           "rgb(231, 109, 84)"
          ],
          [
           0.45454545454545453,
           "rgb(216, 80, 83)"
          ],
          [
           0.5454545454545454,
           "rgb(195, 56, 90)"
          ],
          [
           0.6363636363636364,
           "rgb(168, 40, 96)"
          ],
          [
           0.7272727272727273,
           "rgb(138, 29, 99)"
          ],
          [
           0.8181818181818182,
           "rgb(107, 24, 93)"
          ],
          [
           0.9090909090909091,
           "rgb(76, 21, 80)"
          ],
          [
           1,
           "rgb(47, 15, 61)"
          ]
         ]
        },
        "height": 700,
        "hovermode": "closest",
        "legend": {
         "itemsizing": "constant",
         "tracegroupgap": 0
        },
        "mapbox": {
         "bearing": 0,
         "center": {
          "lat": 39,
          "lon": 117
         },
         "domain": {
          "x": [
           0,
           1
          ],
          "y": [
           0,
           1
          ]
         },
         "pitch": 0,
         "style": "stamen-terrain",
         "zoom": 5
        },
        "margin": {
         "t": 60
        },
        "showlegend": false,
        "template": {
         "data": {
          "bar": [
           {
            "error_x": {
             "color": "#2a3f5f"
            },
            "error_y": {
             "color": "#2a3f5f"
            },
            "marker": {
             "line": {
              "color": "#E5ECF6",
              "width": 0.5
             }
            },
            "type": "bar"
           }
          ],
          "barpolar": [
           {
            "marker": {
             "line": {
              "color": "#E5ECF6",
              "width": 0.5
             }
            },
            "type": "barpolar"
           }
          ],
          "carpet": [
           {
            "aaxis": {
             "endlinecolor": "#2a3f5f",
             "gridcolor": "white",
             "linecolor": "white",
             "minorgridcolor": "white",
             "startlinecolor": "#2a3f5f"
            },
            "baxis": {
             "endlinecolor": "#2a3f5f",
             "gridcolor": "white",
             "linecolor": "white",
             "minorgridcolor": "white",
             "startlinecolor": "#2a3f5f"
            },
            "type": "carpet"
           }
          ],
          "choropleth": [
           {
            "colorbar": {
             "outlinewidth": 0,
             "ticks": ""
            },
            "type": "choropleth"
           }
          ],
          "contour": [
           {
            "colorbar": {
             "outlinewidth": 0,
             "ticks": ""
            },
            "colorscale": [
             [
              0,
              "#0d0887"
             ],
             [
              0.1111111111111111,
              "#46039f"
             ],
             [
              0.2222222222222222,
              "#7201a8"
             ],
             [
              0.3333333333333333,
              "#9c179e"
             ],
             [
              0.4444444444444444,
              "#bd3786"
             ],
             [
              0.5555555555555556,
              "#d8576b"
             ],
             [
              0.6666666666666666,
              "#ed7953"
             ],
             [
              0.7777777777777778,
              "#fb9f3a"
             ],
             [
              0.8888888888888888,
              "#fdca26"
             ],
             [
              1,
              "#f0f921"
             ]
            ],
            "type": "contour"
           }
          ],
          "contourcarpet": [
           {
            "colorbar": {
             "outlinewidth": 0,
             "ticks": ""
            },
            "type": "contourcarpet"
           }
          ],
          "heatmap": [
           {
            "colorbar": {
             "outlinewidth": 0,
             "ticks": ""
            },
            "colorscale": [
             [
              0,
              "#0d0887"
             ],
             [
              0.1111111111111111,
              "#46039f"
             ],
             [
              0.2222222222222222,
              "#7201a8"
             ],
             [
              0.3333333333333333,
              "#9c179e"
             ],
             [
              0.4444444444444444,
              "#bd3786"
             ],
             [
              0.5555555555555556,
              "#d8576b"
             ],
             [
              0.6666666666666666,
              "#ed7953"
             ],
             [
              0.7777777777777778,
              "#fb9f3a"
             ],
             [
              0.8888888888888888,
              "#fdca26"
             ],
             [
              1,
              "#f0f921"
             ]
            ],
            "type": "heatmap"
           }
          ],
          "heatmapgl": [
           {
            "colorbar": {
             "outlinewidth": 0,
             "ticks": ""
            },
            "colorscale": [
             [
              0,
              "#0d0887"
             ],
             [
              0.1111111111111111,
              "#46039f"
             ],
             [
              0.2222222222222222,
              "#7201a8"
             ],
             [
              0.3333333333333333,
              "#9c179e"
             ],
             [
              0.4444444444444444,
              "#bd3786"
             ],
             [
              0.5555555555555556,
              "#d8576b"
             ],
             [
              0.6666666666666666,
              "#ed7953"
             ],
             [
              0.7777777777777778,
              "#fb9f3a"
             ],
             [
              0.8888888888888888,
              "#fdca26"
             ],
             [
              1,
              "#f0f921"
             ]
            ],
            "type": "heatmapgl"
           }
          ],
          "histogram": [
           {
            "marker": {
             "colorbar": {
              "outlinewidth": 0,
              "ticks": ""
             }
            },
            "type": "histogram"
           }
          ],
          "histogram2d": [
           {
            "colorbar": {
             "outlinewidth": 0,
             "ticks": ""
            },
            "colorscale": [
             [
              0,
              "#0d0887"
             ],
             [
              0.1111111111111111,
              "#46039f"
             ],
             [
              0.2222222222222222,
              "#7201a8"
             ],
             [
              0.3333333333333333,
              "#9c179e"
             ],
             [
              0.4444444444444444,
              "#bd3786"
             ],
             [
              0.5555555555555556,
              "#d8576b"
             ],
             [
              0.6666666666666666,
              "#ed7953"
             ],
             [
              0.7777777777777778,
              "#fb9f3a"
             ],
             [
              0.8888888888888888,
              "#fdca26"
             ],
             [
              1,
              "#f0f921"
             ]
            ],
            "type": "histogram2d"
           }
          ],
          "histogram2dcontour": [
           {
            "colorbar": {
             "outlinewidth": 0,
             "ticks": ""
            },
            "colorscale": [
             [
              0,
              "#0d0887"
             ],
             [
              0.1111111111111111,
              "#46039f"
             ],
             [
              0.2222222222222222,
              "#7201a8"
             ],
             [
              0.3333333333333333,
              "#9c179e"
             ],
             [
              0.4444444444444444,
              "#bd3786"
             ],
             [
              0.5555555555555556,
              "#d8576b"
             ],
             [
              0.6666666666666666,
              "#ed7953"
             ],
             [
              0.7777777777777778,
              "#fb9f3a"
             ],
             [
              0.8888888888888888,
              "#fdca26"
             ],
             [
              1,
              "#f0f921"
             ]
            ],
            "type": "histogram2dcontour"
           }
          ],
          "mesh3d": [
           {
            "colorbar": {
             "outlinewidth": 0,
             "ticks": ""
            },
            "type": "mesh3d"
           }
          ],
          "parcoords": [
           {
            "line": {
             "colorbar": {
              "outlinewidth": 0,
              "ticks": ""
             }
            },
            "type": "parcoords"
           }
          ],
          "pie": [
           {
            "automargin": true,
            "type": "pie"
           }
          ],
          "scatter": [
           {
            "marker": {
             "colorbar": {
              "outlinewidth": 0,
              "ticks": ""
             }
            },
            "type": "scatter"
           }
          ],
          "scatter3d": [
           {
            "line": {
             "colorbar": {
              "outlinewidth": 0,
              "ticks": ""
             }
            },
            "marker": {
             "colorbar": {
              "outlinewidth": 0,
              "ticks": ""
             }
            },
            "type": "scatter3d"
           }
          ],
          "scattercarpet": [
           {
            "marker": {
             "colorbar": {
              "outlinewidth": 0,
              "ticks": ""
             }
            },
            "type": "scattercarpet"
           }
          ],
          "scattergeo": [
           {
            "marker": {
             "colorbar": {
              "outlinewidth": 0,
              "ticks": ""
             }
            },
            "type": "scattergeo"
           }
          ],
          "scattergl": [
           {
            "marker": {
             "colorbar": {
              "outlinewidth": 0,
              "ticks": ""
             }
            },
            "type": "scattergl"
           }
          ],
          "scattermapbox": [
           {
            "marker": {
             "colorbar": {
              "outlinewidth": 0,
              "ticks": ""
             }
            },
            "type": "scattermapbox"
           }
          ],
          "scatterpolar": [
           {
            "marker": {
             "colorbar": {
              "outlinewidth": 0,
              "ticks": ""
             }
            },
            "type": "scatterpolar"
           }
          ],
          "scatterpolargl": [
           {
            "marker": {
             "colorbar": {
              "outlinewidth": 0,
              "ticks": ""
             }
            },
            "type": "scatterpolargl"
           }
          ],
          "scatterternary": [
           {
            "marker": {
             "colorbar": {
              "outlinewidth": 0,
              "ticks": ""
             }
            },
            "type": "scatterternary"
           }
          ],
          "surface": [
           {
            "colorbar": {
             "outlinewidth": 0,
             "ticks": ""
            },
            "colorscale": [
             [
              0,
              "#0d0887"
             ],
             [
              0.1111111111111111,
              "#46039f"
             ],
             [
              0.2222222222222222,
              "#7201a8"
             ],
             [
              0.3333333333333333,
              "#9c179e"
             ],
             [
              0.4444444444444444,
              "#bd3786"
             ],
             [
              0.5555555555555556,
              "#d8576b"
             ],
             [
              0.6666666666666666,
              "#ed7953"
             ],
             [
              0.7777777777777778,
              "#fb9f3a"
             ],
             [
              0.8888888888888888,
              "#fdca26"
             ],
             [
              1,
              "#f0f921"
             ]
            ],
            "type": "surface"
           }
          ],
          "table": [
           {
            "cells": {
             "fill": {
              "color": "#EBF0F8"
             },
             "line": {
              "color": "white"
             }
            },
            "header": {
             "fill": {
              "color": "#C8D4E3"
             },
             "line": {
              "color": "white"
             }
            },
            "type": "table"
           }
          ]
         },
         "layout": {
          "annotationdefaults": {
           "arrowcolor": "#2a3f5f",
           "arrowhead": 0,
           "arrowwidth": 1
          },
          "autotypenumbers": "strict",
          "coloraxis": {
           "colorbar": {
            "outlinewidth": 0,
            "ticks": ""
           }
          },
          "colorscale": {
           "diverging": [
            [
             0,
             "#8e0152"
            ],
            [
             0.1,
             "#c51b7d"
            ],
            [
             0.2,
             "#de77ae"
            ],
            [
             0.3,
             "#f1b6da"
            ],
            [
             0.4,
             "#fde0ef"
            ],
            [
             0.5,
             "#f7f7f7"
            ],
            [
             0.6,
             "#e6f5d0"
            ],
            [
             0.7,
             "#b8e186"
            ],
            [
             0.8,
             "#7fbc41"
            ],
            [
             0.9,
             "#4d9221"
            ],
            [
             1,
             "#276419"
            ]
           ],
           "sequential": [
            [
             0,
             "#0d0887"
            ],
            [
             0.1111111111111111,
             "#46039f"
            ],
            [
             0.2222222222222222,
             "#7201a8"
            ],
            [
             0.3333333333333333,
             "#9c179e"
            ],
            [
             0.4444444444444444,
             "#bd3786"
            ],
            [
             0.5555555555555556,
             "#d8576b"
            ],
            [
             0.6666666666666666,
             "#ed7953"
            ],
            [
             0.7777777777777778,
             "#fb9f3a"
            ],
            [
             0.8888888888888888,
             "#fdca26"
            ],
            [
             1,
             "#f0f921"
            ]
           ],
           "sequentialminus": [
            [
             0,
             "#0d0887"
            ],
            [
             0.1111111111111111,
             "#46039f"
            ],
            [
             0.2222222222222222,
             "#7201a8"
            ],
            [
             0.3333333333333333,
             "#9c179e"
            ],
            [
             0.4444444444444444,
             "#bd3786"
            ],
            [
             0.5555555555555556,
             "#d8576b"
            ],
            [
             0.6666666666666666,
             "#ed7953"
            ],
            [
             0.7777777777777778,
             "#fb9f3a"
            ],
            [
             0.8888888888888888,
             "#fdca26"
            ],
            [
             1,
             "#f0f921"
            ]
           ]
          },
          "colorway": [
           "#636efa",
           "#EF553B",
           "#00cc96",
           "#ab63fa",
           "#FFA15A",
           "#19d3f3",
           "#FF6692",
           "#B6E880",
           "#FF97FF",
           "#FECB52"
          ],
          "font": {
           "color": "#2a3f5f"
          },
          "geo": {
           "bgcolor": "white",
           "lakecolor": "white",
           "landcolor": "#E5ECF6",
           "showlakes": true,
           "showland": true,
           "subunitcolor": "white"
          },
          "hoverlabel": {
           "align": "left"
          },
          "hovermode": "closest",
          "mapbox": {
           "style": "light"
          },
          "paper_bgcolor": "white",
          "plot_bgcolor": "#E5ECF6",
          "polar": {
           "angularaxis": {
            "gridcolor": "white",
            "linecolor": "white",
            "ticks": ""
           },
           "bgcolor": "#E5ECF6",
           "radialaxis": {
            "gridcolor": "white",
            "linecolor": "white",
            "ticks": ""
           }
          },
          "scene": {
           "xaxis": {
            "backgroundcolor": "#E5ECF6",
            "gridcolor": "white",
            "gridwidth": 2,
            "linecolor": "white",
            "showbackground": true,
            "ticks": "",
            "zerolinecolor": "white"
           },
           "yaxis": {
            "backgroundcolor": "#E5ECF6",
            "gridcolor": "white",
            "gridwidth": 2,
            "linecolor": "white",
            "showbackground": true,
            "ticks": "",
            "zerolinecolor": "white"
           },
           "zaxis": {
            "backgroundcolor": "#E5ECF6",
            "gridcolor": "white",
            "gridwidth": 2,
            "linecolor": "white",
            "showbackground": true,
            "ticks": "",
            "zerolinecolor": "white"
           }
          },
          "shapedefaults": {
           "line": {
            "color": "#2a3f5f"
           }
          },
          "ternary": {
           "aaxis": {
            "gridcolor": "white",
            "linecolor": "white",
            "ticks": ""
           },
           "baxis": {
            "gridcolor": "white",
            "linecolor": "white",
            "ticks": ""
           },
           "bgcolor": "#E5ECF6",
           "caxis": {
            "gridcolor": "white",
            "linecolor": "white",
            "ticks": ""
           }
          },
          "title": {
           "x": 0.05
          },
          "xaxis": {
           "automargin": true,
           "gridcolor": "white",
           "linecolor": "white",
           "ticks": "",
           "title": {
            "standoff": 15
           },
           "zerolinecolor": "white",
           "zerolinewidth": 2
          },
          "yaxis": {
           "automargin": true,
           "gridcolor": "white",
           "linecolor": "white",
           "ticks": "",
           "title": {
            "standoff": 15
           },
           "zerolinecolor": "white",
           "zerolinewidth": 2
          }
         }
        },
        "title": {
         "text": "Measurements on 2020-04-15 00:00:00"
        },
        "width": 1000
       }
      }
     },
     "metadata": {}
    }
   ],
   "source": [
    "def show_map(measurements, time, feature):\n",
    "    x = measurements[measurements['time'] == time]\n",
    "    \n",
    "    # x = x.merge(meta, on=['device_id', 'city'])\n",
    "    x = gpd.GeoDataFrame(x)\n",
    "\n",
    "    x[\"size\"] = 10\n",
    "\n",
    "    fig = px.scatter_mapbox(x,\n",
    "                            lat=x.geometry.y,\n",
    "                            lon=x.geometry.x,\n",
    "                            hover_name='city',\n",
    "                            hover_data=[\"device_id\", 'device_name'],\n",
    "                            color=feature,\n",
    "                            size='size',\n",
    "                            color_continuous_scale=px.colors.sequential.matter,\n",
    "                            width=1000, height=700)\n",
    "\n",
    "    fig.update_layout(\n",
    "        title=f'Measurements on {time}',\n",
    "        autosize=True,\n",
    "        hovermode='closest',\n",
    "        showlegend=False,\n",
    "        mapbox=dict(\n",
    "            bearing=0,\n",
    "            center=dict(\n",
    "                lat=39,\n",
    "                lon=117\n",
    "            ),\n",
    "            pitch=0,\n",
    "            zoom=5,\n",
    "            style='stamen-terrain' # 'stamen-terrain'\n",
    "        ),\n",
    "    )\n",
    "\n",
    "    fig.show()\n",
    "    # plt.show()s\n",
    "\n",
    "# interact(show_map, time=date_slider)\n",
    "show_map(data.measurements_joined, '2020-04-15 00:00:00', 'pm25')"
   ]
  },
  {
   "source": [
    "### Check for missing data"
   ],
   "cell_type": "markdown",
   "metadata": {}
  },
  {
   "cell_type": "code",
   "execution_count": 14,
   "metadata": {},
   "outputs": [],
   "source": [
    "# select only every third hour (that's how they use it in PM2.5-GNN) - use %2==2, since we have most data for (2:00, 5:00, 8:00, etc.)\n",
    "filtered_city_means = city_means[city_means['time'].dt.hour % 6 == 2]\n",
    "del filtered_city_means['co']\n",
    "del filtered_city_means['no2']\n",
    "del filtered_city_means['o3']\n",
    "del filtered_city_means['pm10']\n",
    "del filtered_city_means['so2']\n",
    "# filtered_city_means\n",
    "missing_city_means = filtered_city_means[filtered_city_means.isnull().any(axis=1)]"
   ]
  },
  {
   "source": [
    "There's quite a few entries, where we don't have a single measurement per city:"
   ],
   "cell_type": "markdown",
   "metadata": {}
  },
  {
   "cell_type": "code",
   "execution_count": 15,
   "metadata": {},
   "outputs": [
    {
     "output_type": "execute_result",
     "data": {
      "text/plain": [
       "      device_id                time  pm25  temperature  humidity  windSpeed  \\\n",
       "45459   Beijing 2016-03-08 02:00:00   NaN     0.187037  0.220370   7.625556   \n",
       "46449   Beijing 2016-04-18 08:00:00   NaN    13.851235  0.311852   6.720000   \n",
       "46473   Beijing 2016-04-19 08:00:00   NaN    10.847942  0.627037   6.720000   \n",
       "48915   Beijing 2016-07-30 02:00:00   NaN    27.862346  0.844074   6.720000   \n",
       "49149   Beijing 2016-08-08 20:00:00   NaN    26.843621  0.662222   4.480000   \n",
       "...         ...                 ...   ...          ...       ...        ...   \n",
       "86283   Beijing 2020-11-03 02:00:00   NaN     3.484362  0.182963   3.548148   \n",
       "86289   Beijing 2020-11-03 08:00:00   NaN     2.942798  0.256296   3.371111   \n",
       "86841   Beijing 2020-11-26 08:00:00   NaN    -1.250206  0.608889   2.531481   \n",
       "87237   Beijing 2020-12-12 20:00:00   NaN    -0.088477  0.678519   6.358148   \n",
       "87687   Beijing 2020-12-31 14:00:00   NaN    -0.936420  0.072963   6.852963   \n",
       "\n",
       "       windBearing  precipIntensity         lon        lat  \n",
       "45459    42.259259         0.000000  116.405514  39.986543  \n",
       "46449     0.000000         0.000000  116.405514  39.986543  \n",
       "46473   120.000000         0.000000  116.405514  39.986543  \n",
       "48915   110.000000         0.000000  116.405514  39.986543  \n",
       "49149   161.000000         0.000000  116.405514  39.986543  \n",
       "...            ...              ...         ...        ...  \n",
       "86283   276.851852         0.000000  116.405514  39.986543  \n",
       "86289   288.370370         0.000000  116.405514  39.986543  \n",
       "86841    75.296296         0.000000  116.405514  39.986543  \n",
       "87237   261.074074         0.007615  116.405514  39.986543  \n",
       "87687   278.740741         0.000000  116.405514  39.986543  \n",
       "\n",
       "[437 rows x 10 columns]"
      ],
      "text/html": "<div>\n<style scoped>\n    .dataframe tbody tr th:only-of-type {\n        vertical-align: middle;\n    }\n\n    .dataframe tbody tr th {\n        vertical-align: top;\n    }\n\n    .dataframe thead th {\n        text-align: right;\n    }\n</style>\n<table border=\"1\" class=\"dataframe\">\n  <thead>\n    <tr style=\"text-align: right;\">\n      <th></th>\n      <th>device_id</th>\n      <th>time</th>\n      <th>pm25</th>\n      <th>temperature</th>\n      <th>humidity</th>\n      <th>windSpeed</th>\n      <th>windBearing</th>\n      <th>precipIntensity</th>\n      <th>lon</th>\n      <th>lat</th>\n    </tr>\n  </thead>\n  <tbody>\n    <tr>\n      <th>45459</th>\n      <td>Beijing</td>\n      <td>2016-03-08 02:00:00</td>\n      <td>NaN</td>\n      <td>0.187037</td>\n      <td>0.220370</td>\n      <td>7.625556</td>\n      <td>42.259259</td>\n      <td>0.000000</td>\n      <td>116.405514</td>\n      <td>39.986543</td>\n    </tr>\n    <tr>\n      <th>46449</th>\n      <td>Beijing</td>\n      <td>2016-04-18 08:00:00</td>\n      <td>NaN</td>\n      <td>13.851235</td>\n      <td>0.311852</td>\n      <td>6.720000</td>\n      <td>0.000000</td>\n      <td>0.000000</td>\n      <td>116.405514</td>\n      <td>39.986543</td>\n    </tr>\n    <tr>\n      <th>46473</th>\n      <td>Beijing</td>\n      <td>2016-04-19 08:00:00</td>\n      <td>NaN</td>\n      <td>10.847942</td>\n      <td>0.627037</td>\n      <td>6.720000</td>\n      <td>120.000000</td>\n      <td>0.000000</td>\n      <td>116.405514</td>\n      <td>39.986543</td>\n    </tr>\n    <tr>\n      <th>48915</th>\n      <td>Beijing</td>\n      <td>2016-07-30 02:00:00</td>\n      <td>NaN</td>\n      <td>27.862346</td>\n      <td>0.844074</td>\n      <td>6.720000</td>\n      <td>110.000000</td>\n      <td>0.000000</td>\n      <td>116.405514</td>\n      <td>39.986543</td>\n    </tr>\n    <tr>\n      <th>49149</th>\n      <td>Beijing</td>\n      <td>2016-08-08 20:00:00</td>\n      <td>NaN</td>\n      <td>26.843621</td>\n      <td>0.662222</td>\n      <td>4.480000</td>\n      <td>161.000000</td>\n      <td>0.000000</td>\n      <td>116.405514</td>\n      <td>39.986543</td>\n    </tr>\n    <tr>\n      <th>...</th>\n      <td>...</td>\n      <td>...</td>\n      <td>...</td>\n      <td>...</td>\n      <td>...</td>\n      <td>...</td>\n      <td>...</td>\n      <td>...</td>\n      <td>...</td>\n      <td>...</td>\n    </tr>\n    <tr>\n      <th>86283</th>\n      <td>Beijing</td>\n      <td>2020-11-03 02:00:00</td>\n      <td>NaN</td>\n      <td>3.484362</td>\n      <td>0.182963</td>\n      <td>3.548148</td>\n      <td>276.851852</td>\n      <td>0.000000</td>\n      <td>116.405514</td>\n      <td>39.986543</td>\n    </tr>\n    <tr>\n      <th>86289</th>\n      <td>Beijing</td>\n      <td>2020-11-03 08:00:00</td>\n      <td>NaN</td>\n      <td>2.942798</td>\n      <td>0.256296</td>\n      <td>3.371111</td>\n      <td>288.370370</td>\n      <td>0.000000</td>\n      <td>116.405514</td>\n      <td>39.986543</td>\n    </tr>\n    <tr>\n      <th>86841</th>\n      <td>Beijing</td>\n      <td>2020-11-26 08:00:00</td>\n      <td>NaN</td>\n      <td>-1.250206</td>\n      <td>0.608889</td>\n      <td>2.531481</td>\n      <td>75.296296</td>\n      <td>0.000000</td>\n      <td>116.405514</td>\n      <td>39.986543</td>\n    </tr>\n    <tr>\n      <th>87237</th>\n      <td>Beijing</td>\n      <td>2020-12-12 20:00:00</td>\n      <td>NaN</td>\n      <td>-0.088477</td>\n      <td>0.678519</td>\n      <td>6.358148</td>\n      <td>261.074074</td>\n      <td>0.007615</td>\n      <td>116.405514</td>\n      <td>39.986543</td>\n    </tr>\n    <tr>\n      <th>87687</th>\n      <td>Beijing</td>\n      <td>2020-12-31 14:00:00</td>\n      <td>NaN</td>\n      <td>-0.936420</td>\n      <td>0.072963</td>\n      <td>6.852963</td>\n      <td>278.740741</td>\n      <td>0.000000</td>\n      <td>116.405514</td>\n      <td>39.986543</td>\n    </tr>\n  </tbody>\n</table>\n<p>437 rows × 10 columns</p>\n</div>"
     },
     "metadata": {},
     "execution_count": 15
    }
   ],
   "source": [
    "missing_city_means[missing_city_means['device_id'] == 'Beijing']"
   ]
  },
  {
   "source": [
    "### Missing data"
   ],
   "cell_type": "markdown",
   "metadata": {}
  },
  {
   "cell_type": "code",
   "execution_count": 88,
   "metadata": {},
   "outputs": [],
   "source": [
    "def analyse_missing_data(relevant):\n",
    "    relevant_missing = relevant[relevant.isnull().any(axis=1)]\n",
    "    \n",
    "    print(f\"Missing of relevant data: {len(relevant_missing) / len(relevant) * 100}%\")\n",
    "\n",
    "    missing_by_device = relevant_missing.groupby('device_id').count()\n",
    "    plt.figure(figsize=(15,5))\n",
    "    plt.bar(missing_by_device.index, missing_by_device['time'])\n",
    "    plt.xticks(missing_by_device.index, rotation='vertical')\n",
    "    plt.show()\n",
    "\n",
    "    missing_by_time = relevant_missing.groupby(relevant_missing['time']).count()\n",
    "    plt.figure(figsize=(15,5))\n",
    "    plt.plot(missing_by_time.index, missing_by_time['device_id'])\n",
    "    plt.show()\n",
    "\n",
    "    return relevant_missing"
   ]
  },
  {
   "cell_type": "code",
   "execution_count": 99,
   "metadata": {},
   "outputs": [
    {
     "output_type": "stream",
     "name": "stdout",
     "text": [
      "Missing of relevant data: 27.283567307285068%\n"
     ]
    },
    {
     "output_type": "display_data",
     "data": {
      "text/plain": "<Figure size 1080x360 with 1 Axes>",
      "image/svg+xml": "<?xml version=\"1.0\" encoding=\"utf-8\" standalone=\"no\"?>\n<!DOCTYPE svg PUBLIC \"-//W3C//DTD SVG 1.1//EN\"\n  \"http://www.w3.org/Graphics/SVG/1.1/DTD/svg11.dtd\">\n<!-- Created with matplotlib (https://matplotlib.org/) -->\n<svg height=\"345.6625pt\" version=\"1.1\" viewBox=\"0 0 890.2125 345.6625\" width=\"890.2125pt\" xmlns=\"http://www.w3.org/2000/svg\" xmlns:xlink=\"http://www.w3.org/1999/xlink\">\n <metadata>\n  <rdf:RDF xmlns:cc=\"http://creativecommons.org/ns#\" xmlns:dc=\"http://purl.org/dc/elements/1.1/\" xmlns:rdf=\"http://www.w3.org/1999/02/22-rdf-syntax-ns#\">\n   <cc:Work>\n    <dc:type rdf:resource=\"http://purl.org/dc/dcmitype/StillImage\"/>\n    <dc:date>2021-03-06T22:29:10.722080</dc:date>\n    <dc:format>image/svg+xml</dc:format>\n    <dc:creator>\n     <cc:Agent>\n      <dc:title>Matplotlib v3.3.3, https://matplotlib.org/</dc:title>\n     </cc:Agent>\n    </dc:creator>\n   </cc:Work>\n  </rdf:RDF>\n </metadata>\n <defs>\n  <style type=\"text/css\">*{stroke-linecap:butt;stroke-linejoin:round;}</style>\n </defs>\n <g id=\"figure_1\">\n  <g id=\"patch_1\">\n   <path d=\"M 0 345.6625 \nL 890.2125 345.6625 \nL 890.2125 0 \nL 0 0 \nz\n\" style=\"fill:none;\"/>\n  </g>\n  <g id=\"axes_1\">\n   <g id=\"patch_2\">\n    <path d=\"M 46.0125 279 \nL 883.0125 279 \nL 883.0125 7.2 \nL 46.0125 7.2 \nz\n\" style=\"fill:#ffffff;\"/>\n   </g>\n   <g id=\"patch_3\">\n    <path clip-path=\"url(#p2bea2ffe7d)\" d=\"M 84.057955 279 \nL 173.576671 279 \nL 173.576671 21.07607 \nL 84.057955 21.07607 \nz\n\" style=\"fill:#1f77b4;\"/>\n   </g>\n   <g id=\"patch_4\">\n    <path clip-path=\"url(#p2bea2ffe7d)\" d=\"M 195.95635 279 \nL 285.475067 279 \nL 285.475067 20.142857 \nL 195.95635 20.142857 \nz\n\" style=\"fill:#1f77b4;\"/>\n   </g>\n   <g id=\"patch_5\">\n    <path clip-path=\"url(#p2bea2ffe7d)\" d=\"M 307.854746 279 \nL 397.373463 279 \nL 397.373463 26.329713 \nL 307.854746 26.329713 \nz\n\" style=\"fill:#1f77b4;\"/>\n   </g>\n   <g id=\"patch_6\">\n    <path clip-path=\"url(#p2bea2ffe7d)\" d=\"M 419.753142 279 \nL 509.271858 279 \nL 509.271858 237.950151 \nL 419.753142 237.950151 \nz\n\" style=\"fill:#1f77b4;\"/>\n   </g>\n   <g id=\"patch_7\">\n    <path clip-path=\"url(#p2bea2ffe7d)\" d=\"M 531.651537 279 \nL 621.170254 279 \nL 621.170254 229.251685 \nL 531.651537 229.251685 \nz\n\" style=\"fill:#1f77b4;\"/>\n   </g>\n   <g id=\"patch_8\">\n    <path clip-path=\"url(#p2bea2ffe7d)\" d=\"M 643.549933 279 \nL 733.06865 279 \nL 733.06865 218.490933 \nL 643.549933 218.490933 \nz\n\" style=\"fill:#1f77b4;\"/>\n   </g>\n   <g id=\"patch_9\">\n    <path clip-path=\"url(#p2bea2ffe7d)\" d=\"M 755.448329 279 \nL 844.967045 279 \nL 844.967045 234.92009 \nL 755.448329 234.92009 \nz\n\" style=\"fill:#1f77b4;\"/>\n   </g>\n   <g id=\"matplotlib.axis_1\">\n    <g id=\"xtick_1\">\n     <g id=\"line2d_1\">\n      <defs>\n       <path d=\"M 0 0 \nL 0 3.5 \n\" id=\"m10b6f8ed1b\" style=\"stroke:#000000;stroke-width:0.8;\"/>\n      </defs>\n      <g>\n       <use style=\"stroke:#000000;stroke-width:0.8;\" x=\"128.817313\" xlink:href=\"#m10b6f8ed1b\" y=\"279\"/>\n      </g>\n     </g>\n     <g id=\"text_1\">\n      <!-- 1037A -->\n      <g transform=\"translate(131.576688 318.290625)rotate(-90)scale(0.1 -0.1)\">\n       <defs>\n        <path d=\"M 12.40625 8.296875 \nL 28.515625 8.296875 \nL 28.515625 63.921875 \nL 10.984375 60.40625 \nL 10.984375 69.390625 \nL 28.421875 72.90625 \nL 38.28125 72.90625 \nL 38.28125 8.296875 \nL 54.390625 8.296875 \nL 54.390625 0 \nL 12.40625 0 \nz\n\" id=\"DejaVuSans-49\"/>\n        <path d=\"M 31.78125 66.40625 \nQ 24.171875 66.40625 20.328125 58.90625 \nQ 16.5 51.421875 16.5 36.375 \nQ 16.5 21.390625 20.328125 13.890625 \nQ 24.171875 6.390625 31.78125 6.390625 \nQ 39.453125 6.390625 43.28125 13.890625 \nQ 47.125 21.390625 47.125 36.375 \nQ 47.125 51.421875 43.28125 58.90625 \nQ 39.453125 66.40625 31.78125 66.40625 \nz\nM 31.78125 74.21875 \nQ 44.046875 74.21875 50.515625 64.515625 \nQ 56.984375 54.828125 56.984375 36.375 \nQ 56.984375 17.96875 50.515625 8.265625 \nQ 44.046875 -1.421875 31.78125 -1.421875 \nQ 19.53125 -1.421875 13.0625 8.265625 \nQ 6.59375 17.96875 6.59375 36.375 \nQ 6.59375 54.828125 13.0625 64.515625 \nQ 19.53125 74.21875 31.78125 74.21875 \nz\n\" id=\"DejaVuSans-48\"/>\n        <path d=\"M 40.578125 39.3125 \nQ 47.65625 37.796875 51.625 33 \nQ 55.609375 28.21875 55.609375 21.1875 \nQ 55.609375 10.40625 48.1875 4.484375 \nQ 40.765625 -1.421875 27.09375 -1.421875 \nQ 22.515625 -1.421875 17.65625 -0.515625 \nQ 12.796875 0.390625 7.625 2.203125 \nL 7.625 11.71875 \nQ 11.71875 9.328125 16.59375 8.109375 \nQ 21.484375 6.890625 26.8125 6.890625 \nQ 36.078125 6.890625 40.9375 10.546875 \nQ 45.796875 14.203125 45.796875 21.1875 \nQ 45.796875 27.640625 41.28125 31.265625 \nQ 36.765625 34.90625 28.71875 34.90625 \nL 20.21875 34.90625 \nL 20.21875 43.015625 \nL 29.109375 43.015625 \nQ 36.375 43.015625 40.234375 45.921875 \nQ 44.09375 48.828125 44.09375 54.296875 \nQ 44.09375 59.90625 40.109375 62.90625 \nQ 36.140625 65.921875 28.71875 65.921875 \nQ 24.65625 65.921875 20.015625 65.03125 \nQ 15.375 64.15625 9.8125 62.3125 \nL 9.8125 71.09375 \nQ 15.4375 72.65625 20.34375 73.4375 \nQ 25.25 74.21875 29.59375 74.21875 \nQ 40.828125 74.21875 47.359375 69.109375 \nQ 53.90625 64.015625 53.90625 55.328125 \nQ 53.90625 49.265625 50.4375 45.09375 \nQ 46.96875 40.921875 40.578125 39.3125 \nz\n\" id=\"DejaVuSans-51\"/>\n        <path d=\"M 8.203125 72.90625 \nL 55.078125 72.90625 \nL 55.078125 68.703125 \nL 28.609375 0 \nL 18.3125 0 \nL 43.21875 64.59375 \nL 8.203125 64.59375 \nz\n\" id=\"DejaVuSans-55\"/>\n        <path d=\"M 34.1875 63.1875 \nL 20.796875 26.90625 \nL 47.609375 26.90625 \nz\nM 28.609375 72.90625 \nL 39.796875 72.90625 \nL 67.578125 0 \nL 57.328125 0 \nL 50.6875 18.703125 \nL 17.828125 18.703125 \nL 11.1875 0 \nL 0.78125 0 \nz\n\" id=\"DejaVuSans-65\"/>\n       </defs>\n       <use xlink:href=\"#DejaVuSans-49\"/>\n       <use x=\"63.623047\" xlink:href=\"#DejaVuSans-48\"/>\n       <use x=\"127.246094\" xlink:href=\"#DejaVuSans-51\"/>\n       <use x=\"190.869141\" xlink:href=\"#DejaVuSans-55\"/>\n       <use x=\"254.492188\" xlink:href=\"#DejaVuSans-65\"/>\n      </g>\n     </g>\n    </g>\n    <g id=\"xtick_2\">\n     <g id=\"line2d_2\">\n      <g>\n       <use style=\"stroke:#000000;stroke-width:0.8;\" x=\"240.715709\" xlink:href=\"#m10b6f8ed1b\" y=\"279\"/>\n      </g>\n     </g>\n     <g id=\"text_2\">\n      <!-- 1056A -->\n      <g transform=\"translate(243.475084 318.290625)rotate(-90)scale(0.1 -0.1)\">\n       <defs>\n        <path d=\"M 10.796875 72.90625 \nL 49.515625 72.90625 \nL 49.515625 64.59375 \nL 19.828125 64.59375 \nL 19.828125 46.734375 \nQ 21.96875 47.46875 24.109375 47.828125 \nQ 26.265625 48.1875 28.421875 48.1875 \nQ 40.625 48.1875 47.75 41.5 \nQ 54.890625 34.8125 54.890625 23.390625 \nQ 54.890625 11.625 47.5625 5.09375 \nQ 40.234375 -1.421875 26.90625 -1.421875 \nQ 22.3125 -1.421875 17.546875 -0.640625 \nQ 12.796875 0.140625 7.71875 1.703125 \nL 7.71875 11.625 \nQ 12.109375 9.234375 16.796875 8.0625 \nQ 21.484375 6.890625 26.703125 6.890625 \nQ 35.15625 6.890625 40.078125 11.328125 \nQ 45.015625 15.765625 45.015625 23.390625 \nQ 45.015625 31 40.078125 35.4375 \nQ 35.15625 39.890625 26.703125 39.890625 \nQ 22.75 39.890625 18.8125 39.015625 \nQ 14.890625 38.140625 10.796875 36.28125 \nz\n\" id=\"DejaVuSans-53\"/>\n        <path d=\"M 33.015625 40.375 \nQ 26.375 40.375 22.484375 35.828125 \nQ 18.609375 31.296875 18.609375 23.390625 \nQ 18.609375 15.53125 22.484375 10.953125 \nQ 26.375 6.390625 33.015625 6.390625 \nQ 39.65625 6.390625 43.53125 10.953125 \nQ 47.40625 15.53125 47.40625 23.390625 \nQ 47.40625 31.296875 43.53125 35.828125 \nQ 39.65625 40.375 33.015625 40.375 \nz\nM 52.59375 71.296875 \nL 52.59375 62.3125 \nQ 48.875 64.0625 45.09375 64.984375 \nQ 41.3125 65.921875 37.59375 65.921875 \nQ 27.828125 65.921875 22.671875 59.328125 \nQ 17.53125 52.734375 16.796875 39.40625 \nQ 19.671875 43.65625 24.015625 45.921875 \nQ 28.375 48.1875 33.59375 48.1875 \nQ 44.578125 48.1875 50.953125 41.515625 \nQ 57.328125 34.859375 57.328125 23.390625 \nQ 57.328125 12.15625 50.6875 5.359375 \nQ 44.046875 -1.421875 33.015625 -1.421875 \nQ 20.359375 -1.421875 13.671875 8.265625 \nQ 6.984375 17.96875 6.984375 36.375 \nQ 6.984375 53.65625 15.1875 63.9375 \nQ 23.390625 74.21875 37.203125 74.21875 \nQ 40.921875 74.21875 44.703125 73.484375 \nQ 48.484375 72.75 52.59375 71.296875 \nz\n\" id=\"DejaVuSans-54\"/>\n       </defs>\n       <use xlink:href=\"#DejaVuSans-49\"/>\n       <use x=\"63.623047\" xlink:href=\"#DejaVuSans-48\"/>\n       <use x=\"127.246094\" xlink:href=\"#DejaVuSans-53\"/>\n       <use x=\"190.869141\" xlink:href=\"#DejaVuSans-54\"/>\n       <use x=\"254.492188\" xlink:href=\"#DejaVuSans-65\"/>\n      </g>\n     </g>\n    </g>\n    <g id=\"xtick_3\">\n     <g id=\"line2d_3\">\n      <g>\n       <use style=\"stroke:#000000;stroke-width:0.8;\" x=\"352.614104\" xlink:href=\"#m10b6f8ed1b\" y=\"279\"/>\n      </g>\n     </g>\n     <g id=\"text_3\">\n      <!-- 1061A -->\n      <g transform=\"translate(355.373479 318.290625)rotate(-90)scale(0.1 -0.1)\">\n       <use xlink:href=\"#DejaVuSans-49\"/>\n       <use x=\"63.623047\" xlink:href=\"#DejaVuSans-48\"/>\n       <use x=\"127.246094\" xlink:href=\"#DejaVuSans-54\"/>\n       <use x=\"190.869141\" xlink:href=\"#DejaVuSans-49\"/>\n       <use x=\"254.492188\" xlink:href=\"#DejaVuSans-65\"/>\n      </g>\n     </g>\n    </g>\n    <g id=\"xtick_4\">\n     <g id=\"line2d_4\">\n      <g>\n       <use style=\"stroke:#000000;stroke-width:0.8;\" x=\"464.5125\" xlink:href=\"#m10b6f8ed1b\" y=\"279\"/>\n      </g>\n     </g>\n     <g id=\"text_4\">\n      <!-- changping -->\n      <g transform=\"translate(467.271875 338.4625)rotate(-90)scale(0.1 -0.1)\">\n       <defs>\n        <path d=\"M 48.78125 52.59375 \nL 48.78125 44.1875 \nQ 44.96875 46.296875 41.140625 47.34375 \nQ 37.3125 48.390625 33.40625 48.390625 \nQ 24.65625 48.390625 19.8125 42.84375 \nQ 14.984375 37.3125 14.984375 27.296875 \nQ 14.984375 17.28125 19.8125 11.734375 \nQ 24.65625 6.203125 33.40625 6.203125 \nQ 37.3125 6.203125 41.140625 7.25 \nQ 44.96875 8.296875 48.78125 10.40625 \nL 48.78125 2.09375 \nQ 45.015625 0.34375 40.984375 -0.53125 \nQ 36.96875 -1.421875 32.421875 -1.421875 \nQ 20.0625 -1.421875 12.78125 6.34375 \nQ 5.515625 14.109375 5.515625 27.296875 \nQ 5.515625 40.671875 12.859375 48.328125 \nQ 20.21875 56 33.015625 56 \nQ 37.15625 56 41.109375 55.140625 \nQ 45.0625 54.296875 48.78125 52.59375 \nz\n\" id=\"DejaVuSans-99\"/>\n        <path d=\"M 54.890625 33.015625 \nL 54.890625 0 \nL 45.90625 0 \nL 45.90625 32.71875 \nQ 45.90625 40.484375 42.875 44.328125 \nQ 39.84375 48.1875 33.796875 48.1875 \nQ 26.515625 48.1875 22.3125 43.546875 \nQ 18.109375 38.921875 18.109375 30.90625 \nL 18.109375 0 \nL 9.078125 0 \nL 9.078125 75.984375 \nL 18.109375 75.984375 \nL 18.109375 46.1875 \nQ 21.34375 51.125 25.703125 53.5625 \nQ 30.078125 56 35.796875 56 \nQ 45.21875 56 50.046875 50.171875 \nQ 54.890625 44.34375 54.890625 33.015625 \nz\n\" id=\"DejaVuSans-104\"/>\n        <path d=\"M 34.28125 27.484375 \nQ 23.390625 27.484375 19.1875 25 \nQ 14.984375 22.515625 14.984375 16.5 \nQ 14.984375 11.71875 18.140625 8.90625 \nQ 21.296875 6.109375 26.703125 6.109375 \nQ 34.1875 6.109375 38.703125 11.40625 \nQ 43.21875 16.703125 43.21875 25.484375 \nL 43.21875 27.484375 \nz\nM 52.203125 31.203125 \nL 52.203125 0 \nL 43.21875 0 \nL 43.21875 8.296875 \nQ 40.140625 3.328125 35.546875 0.953125 \nQ 30.953125 -1.421875 24.3125 -1.421875 \nQ 15.921875 -1.421875 10.953125 3.296875 \nQ 6 8.015625 6 15.921875 \nQ 6 25.140625 12.171875 29.828125 \nQ 18.359375 34.515625 30.609375 34.515625 \nL 43.21875 34.515625 \nL 43.21875 35.40625 \nQ 43.21875 41.609375 39.140625 45 \nQ 35.0625 48.390625 27.6875 48.390625 \nQ 23 48.390625 18.546875 47.265625 \nQ 14.109375 46.140625 10.015625 43.890625 \nL 10.015625 52.203125 \nQ 14.9375 54.109375 19.578125 55.046875 \nQ 24.21875 56 28.609375 56 \nQ 40.484375 56 46.34375 49.84375 \nQ 52.203125 43.703125 52.203125 31.203125 \nz\n\" id=\"DejaVuSans-97\"/>\n        <path d=\"M 54.890625 33.015625 \nL 54.890625 0 \nL 45.90625 0 \nL 45.90625 32.71875 \nQ 45.90625 40.484375 42.875 44.328125 \nQ 39.84375 48.1875 33.796875 48.1875 \nQ 26.515625 48.1875 22.3125 43.546875 \nQ 18.109375 38.921875 18.109375 30.90625 \nL 18.109375 0 \nL 9.078125 0 \nL 9.078125 54.6875 \nL 18.109375 54.6875 \nL 18.109375 46.1875 \nQ 21.34375 51.125 25.703125 53.5625 \nQ 30.078125 56 35.796875 56 \nQ 45.21875 56 50.046875 50.171875 \nQ 54.890625 44.34375 54.890625 33.015625 \nz\n\" id=\"DejaVuSans-110\"/>\n        <path d=\"M 45.40625 27.984375 \nQ 45.40625 37.75 41.375 43.109375 \nQ 37.359375 48.484375 30.078125 48.484375 \nQ 22.859375 48.484375 18.828125 43.109375 \nQ 14.796875 37.75 14.796875 27.984375 \nQ 14.796875 18.265625 18.828125 12.890625 \nQ 22.859375 7.515625 30.078125 7.515625 \nQ 37.359375 7.515625 41.375 12.890625 \nQ 45.40625 18.265625 45.40625 27.984375 \nz\nM 54.390625 6.78125 \nQ 54.390625 -7.171875 48.1875 -13.984375 \nQ 42 -20.796875 29.203125 -20.796875 \nQ 24.46875 -20.796875 20.265625 -20.09375 \nQ 16.0625 -19.390625 12.109375 -17.921875 \nL 12.109375 -9.1875 \nQ 16.0625 -11.328125 19.921875 -12.34375 \nQ 23.78125 -13.375 27.78125 -13.375 \nQ 36.625 -13.375 41.015625 -8.765625 \nQ 45.40625 -4.15625 45.40625 5.171875 \nL 45.40625 9.625 \nQ 42.625 4.78125 38.28125 2.390625 \nQ 33.9375 0 27.875 0 \nQ 17.828125 0 11.671875 7.65625 \nQ 5.515625 15.328125 5.515625 27.984375 \nQ 5.515625 40.671875 11.671875 48.328125 \nQ 17.828125 56 27.875 56 \nQ 33.9375 56 38.28125 53.609375 \nQ 42.625 51.21875 45.40625 46.390625 \nL 45.40625 54.6875 \nL 54.390625 54.6875 \nz\n\" id=\"DejaVuSans-103\"/>\n        <path d=\"M 18.109375 8.203125 \nL 18.109375 -20.796875 \nL 9.078125 -20.796875 \nL 9.078125 54.6875 \nL 18.109375 54.6875 \nL 18.109375 46.390625 \nQ 20.953125 51.265625 25.265625 53.625 \nQ 29.59375 56 35.59375 56 \nQ 45.5625 56 51.78125 48.09375 \nQ 58.015625 40.1875 58.015625 27.296875 \nQ 58.015625 14.40625 51.78125 6.484375 \nQ 45.5625 -1.421875 35.59375 -1.421875 \nQ 29.59375 -1.421875 25.265625 0.953125 \nQ 20.953125 3.328125 18.109375 8.203125 \nz\nM 48.6875 27.296875 \nQ 48.6875 37.203125 44.609375 42.84375 \nQ 40.53125 48.484375 33.40625 48.484375 \nQ 26.265625 48.484375 22.1875 42.84375 \nQ 18.109375 37.203125 18.109375 27.296875 \nQ 18.109375 17.390625 22.1875 11.75 \nQ 26.265625 6.109375 33.40625 6.109375 \nQ 40.53125 6.109375 44.609375 11.75 \nQ 48.6875 17.390625 48.6875 27.296875 \nz\n\" id=\"DejaVuSans-112\"/>\n        <path d=\"M 9.421875 54.6875 \nL 18.40625 54.6875 \nL 18.40625 0 \nL 9.421875 0 \nz\nM 9.421875 75.984375 \nL 18.40625 75.984375 \nL 18.40625 64.59375 \nL 9.421875 64.59375 \nz\n\" id=\"DejaVuSans-105\"/>\n       </defs>\n       <use xlink:href=\"#DejaVuSans-99\"/>\n       <use x=\"54.980469\" xlink:href=\"#DejaVuSans-104\"/>\n       <use x=\"118.359375\" xlink:href=\"#DejaVuSans-97\"/>\n       <use x=\"179.638672\" xlink:href=\"#DejaVuSans-110\"/>\n       <use x=\"243.017578\" xlink:href=\"#DejaVuSans-103\"/>\n       <use x=\"306.494141\" xlink:href=\"#DejaVuSans-112\"/>\n       <use x=\"369.970703\" xlink:href=\"#DejaVuSans-105\"/>\n       <use x=\"397.753906\" xlink:href=\"#DejaVuSans-110\"/>\n       <use x=\"461.132812\" xlink:href=\"#DejaVuSans-103\"/>\n      </g>\n     </g>\n    </g>\n    <g id=\"xtick_5\">\n     <g id=\"line2d_5\">\n      <g>\n       <use style=\"stroke:#000000;stroke-width:0.8;\" x=\"576.410896\" xlink:href=\"#m10b6f8ed1b\" y=\"279\"/>\n      </g>\n     </g>\n     <g id=\"text_5\">\n      <!-- daxing -->\n      <g transform=\"translate(579.170271 319.859375)rotate(-90)scale(0.1 -0.1)\">\n       <defs>\n        <path d=\"M 45.40625 46.390625 \nL 45.40625 75.984375 \nL 54.390625 75.984375 \nL 54.390625 0 \nL 45.40625 0 \nL 45.40625 8.203125 \nQ 42.578125 3.328125 38.25 0.953125 \nQ 33.9375 -1.421875 27.875 -1.421875 \nQ 17.96875 -1.421875 11.734375 6.484375 \nQ 5.515625 14.40625 5.515625 27.296875 \nQ 5.515625 40.1875 11.734375 48.09375 \nQ 17.96875 56 27.875 56 \nQ 33.9375 56 38.25 53.625 \nQ 42.578125 51.265625 45.40625 46.390625 \nz\nM 14.796875 27.296875 \nQ 14.796875 17.390625 18.875 11.75 \nQ 22.953125 6.109375 30.078125 6.109375 \nQ 37.203125 6.109375 41.296875 11.75 \nQ 45.40625 17.390625 45.40625 27.296875 \nQ 45.40625 37.203125 41.296875 42.84375 \nQ 37.203125 48.484375 30.078125 48.484375 \nQ 22.953125 48.484375 18.875 42.84375 \nQ 14.796875 37.203125 14.796875 27.296875 \nz\n\" id=\"DejaVuSans-100\"/>\n        <path d=\"M 54.890625 54.6875 \nL 35.109375 28.078125 \nL 55.90625 0 \nL 45.3125 0 \nL 29.390625 21.484375 \nL 13.484375 0 \nL 2.875 0 \nL 24.125 28.609375 \nL 4.6875 54.6875 \nL 15.28125 54.6875 \nL 29.78125 35.203125 \nL 44.28125 54.6875 \nz\n\" id=\"DejaVuSans-120\"/>\n       </defs>\n       <use xlink:href=\"#DejaVuSans-100\"/>\n       <use x=\"63.476562\" xlink:href=\"#DejaVuSans-97\"/>\n       <use x=\"124.755859\" xlink:href=\"#DejaVuSans-120\"/>\n       <use x=\"183.935547\" xlink:href=\"#DejaVuSans-105\"/>\n       <use x=\"211.71875\" xlink:href=\"#DejaVuSans-110\"/>\n       <use x=\"275.097656\" xlink:href=\"#DejaVuSans-103\"/>\n      </g>\n     </g>\n    </g>\n    <g id=\"xtick_6\">\n     <g id=\"line2d_6\">\n      <g>\n       <use style=\"stroke:#000000;stroke-width:0.8;\" x=\"688.309291\" xlink:href=\"#m10b6f8ed1b\" y=\"279\"/>\n      </g>\n     </g>\n     <g id=\"text_6\">\n      <!-- qianmen -->\n      <g transform=\"translate(691.068666 329.823438)rotate(-90)scale(0.1 -0.1)\">\n       <defs>\n        <path d=\"M 14.796875 27.296875 \nQ 14.796875 17.390625 18.875 11.75 \nQ 22.953125 6.109375 30.078125 6.109375 \nQ 37.203125 6.109375 41.296875 11.75 \nQ 45.40625 17.390625 45.40625 27.296875 \nQ 45.40625 37.203125 41.296875 42.84375 \nQ 37.203125 48.484375 30.078125 48.484375 \nQ 22.953125 48.484375 18.875 42.84375 \nQ 14.796875 37.203125 14.796875 27.296875 \nz\nM 45.40625 8.203125 \nQ 42.578125 3.328125 38.25 0.953125 \nQ 33.9375 -1.421875 27.875 -1.421875 \nQ 17.96875 -1.421875 11.734375 6.484375 \nQ 5.515625 14.40625 5.515625 27.296875 \nQ 5.515625 40.1875 11.734375 48.09375 \nQ 17.96875 56 27.875 56 \nQ 33.9375 56 38.25 53.625 \nQ 42.578125 51.265625 45.40625 46.390625 \nL 45.40625 54.6875 \nL 54.390625 54.6875 \nL 54.390625 -20.796875 \nL 45.40625 -20.796875 \nz\n\" id=\"DejaVuSans-113\"/>\n        <path d=\"M 52 44.1875 \nQ 55.375 50.25 60.0625 53.125 \nQ 64.75 56 71.09375 56 \nQ 79.640625 56 84.28125 50.015625 \nQ 88.921875 44.046875 88.921875 33.015625 \nL 88.921875 0 \nL 79.890625 0 \nL 79.890625 32.71875 \nQ 79.890625 40.578125 77.09375 44.375 \nQ 74.3125 48.1875 68.609375 48.1875 \nQ 61.625 48.1875 57.5625 43.546875 \nQ 53.515625 38.921875 53.515625 30.90625 \nL 53.515625 0 \nL 44.484375 0 \nL 44.484375 32.71875 \nQ 44.484375 40.625 41.703125 44.40625 \nQ 38.921875 48.1875 33.109375 48.1875 \nQ 26.21875 48.1875 22.15625 43.53125 \nQ 18.109375 38.875 18.109375 30.90625 \nL 18.109375 0 \nL 9.078125 0 \nL 9.078125 54.6875 \nL 18.109375 54.6875 \nL 18.109375 46.1875 \nQ 21.1875 51.21875 25.484375 53.609375 \nQ 29.78125 56 35.6875 56 \nQ 41.65625 56 45.828125 52.96875 \nQ 50 49.953125 52 44.1875 \nz\n\" id=\"DejaVuSans-109\"/>\n        <path d=\"M 56.203125 29.59375 \nL 56.203125 25.203125 \nL 14.890625 25.203125 \nQ 15.484375 15.921875 20.484375 11.0625 \nQ 25.484375 6.203125 34.421875 6.203125 \nQ 39.59375 6.203125 44.453125 7.46875 \nQ 49.3125 8.734375 54.109375 11.28125 \nL 54.109375 2.78125 \nQ 49.265625 0.734375 44.1875 -0.34375 \nQ 39.109375 -1.421875 33.890625 -1.421875 \nQ 20.796875 -1.421875 13.15625 6.1875 \nQ 5.515625 13.8125 5.515625 26.8125 \nQ 5.515625 40.234375 12.765625 48.109375 \nQ 20.015625 56 32.328125 56 \nQ 43.359375 56 49.78125 48.890625 \nQ 56.203125 41.796875 56.203125 29.59375 \nz\nM 47.21875 32.234375 \nQ 47.125 39.59375 43.09375 43.984375 \nQ 39.0625 48.390625 32.421875 48.390625 \nQ 24.90625 48.390625 20.390625 44.140625 \nQ 15.875 39.890625 15.1875 32.171875 \nz\n\" id=\"DejaVuSans-101\"/>\n       </defs>\n       <use xlink:href=\"#DejaVuSans-113\"/>\n       <use x=\"63.476562\" xlink:href=\"#DejaVuSans-105\"/>\n       <use x=\"91.259766\" xlink:href=\"#DejaVuSans-97\"/>\n       <use x=\"152.539062\" xlink:href=\"#DejaVuSans-110\"/>\n       <use x=\"215.917969\" xlink:href=\"#DejaVuSans-109\"/>\n       <use x=\"313.330078\" xlink:href=\"#DejaVuSans-101\"/>\n       <use x=\"374.853516\" xlink:href=\"#DejaVuSans-110\"/>\n      </g>\n     </g>\n    </g>\n    <g id=\"xtick_7\">\n     <g id=\"line2d_7\">\n      <g>\n       <use style=\"stroke:#000000;stroke-width:0.8;\" x=\"800.207687\" xlink:href=\"#m10b6f8ed1b\" y=\"279\"/>\n      </g>\n     </g>\n     <g id=\"text_7\">\n      <!-- shunyi -->\n      <g transform=\"translate(802.967062 318.91875)rotate(-90)scale(0.1 -0.1)\">\n       <defs>\n        <path d=\"M 44.28125 53.078125 \nL 44.28125 44.578125 \nQ 40.484375 46.53125 36.375 47.5 \nQ 32.28125 48.484375 27.875 48.484375 \nQ 21.1875 48.484375 17.84375 46.4375 \nQ 14.5 44.390625 14.5 40.28125 \nQ 14.5 37.15625 16.890625 35.375 \nQ 19.28125 33.59375 26.515625 31.984375 \nL 29.59375 31.296875 \nQ 39.15625 29.25 43.1875 25.515625 \nQ 47.21875 21.78125 47.21875 15.09375 \nQ 47.21875 7.46875 41.1875 3.015625 \nQ 35.15625 -1.421875 24.609375 -1.421875 \nQ 20.21875 -1.421875 15.453125 -0.5625 \nQ 10.6875 0.296875 5.421875 2 \nL 5.421875 11.28125 \nQ 10.40625 8.6875 15.234375 7.390625 \nQ 20.0625 6.109375 24.8125 6.109375 \nQ 31.15625 6.109375 34.5625 8.28125 \nQ 37.984375 10.453125 37.984375 14.40625 \nQ 37.984375 18.0625 35.515625 20.015625 \nQ 33.0625 21.96875 24.703125 23.78125 \nL 21.578125 24.515625 \nQ 13.234375 26.265625 9.515625 29.90625 \nQ 5.8125 33.546875 5.8125 39.890625 \nQ 5.8125 47.609375 11.28125 51.796875 \nQ 16.75 56 26.8125 56 \nQ 31.78125 56 36.171875 55.265625 \nQ 40.578125 54.546875 44.28125 53.078125 \nz\n\" id=\"DejaVuSans-115\"/>\n        <path d=\"M 8.5 21.578125 \nL 8.5 54.6875 \nL 17.484375 54.6875 \nL 17.484375 21.921875 \nQ 17.484375 14.15625 20.5 10.265625 \nQ 23.53125 6.390625 29.59375 6.390625 \nQ 36.859375 6.390625 41.078125 11.03125 \nQ 45.3125 15.671875 45.3125 23.6875 \nL 45.3125 54.6875 \nL 54.296875 54.6875 \nL 54.296875 0 \nL 45.3125 0 \nL 45.3125 8.40625 \nQ 42.046875 3.421875 37.71875 1 \nQ 33.40625 -1.421875 27.6875 -1.421875 \nQ 18.265625 -1.421875 13.375 4.4375 \nQ 8.5 10.296875 8.5 21.578125 \nz\nM 31.109375 56 \nz\n\" id=\"DejaVuSans-117\"/>\n        <path d=\"M 32.171875 -5.078125 \nQ 28.375 -14.84375 24.75 -17.8125 \nQ 21.140625 -20.796875 15.09375 -20.796875 \nL 7.90625 -20.796875 \nL 7.90625 -13.28125 \nL 13.1875 -13.28125 \nQ 16.890625 -13.28125 18.9375 -11.515625 \nQ 21 -9.765625 23.484375 -3.21875 \nL 25.09375 0.875 \nL 2.984375 54.6875 \nL 12.5 54.6875 \nL 29.59375 11.921875 \nL 46.6875 54.6875 \nL 56.203125 54.6875 \nz\n\" id=\"DejaVuSans-121\"/>\n       </defs>\n       <use xlink:href=\"#DejaVuSans-115\"/>\n       <use x=\"52.099609\" xlink:href=\"#DejaVuSans-104\"/>\n       <use x=\"115.478516\" xlink:href=\"#DejaVuSans-117\"/>\n       <use x=\"178.857422\" xlink:href=\"#DejaVuSans-110\"/>\n       <use x=\"242.236328\" xlink:href=\"#DejaVuSans-121\"/>\n       <use x=\"301.416016\" xlink:href=\"#DejaVuSans-105\"/>\n      </g>\n     </g>\n    </g>\n   </g>\n   <g id=\"matplotlib.axis_2\">\n    <g id=\"ytick_1\">\n     <g id=\"line2d_8\">\n      <defs>\n       <path d=\"M 0 0 \nL -3.5 0 \n\" id=\"ma4b5732f11\" style=\"stroke:#000000;stroke-width:0.8;\"/>\n      </defs>\n      <g>\n       <use style=\"stroke:#000000;stroke-width:0.8;\" x=\"46.0125\" xlink:href=\"#ma4b5732f11\" y=\"279\"/>\n      </g>\n     </g>\n     <g id=\"text_8\">\n      <!-- 0 -->\n      <g transform=\"translate(32.65 282.799219)scale(0.1 -0.1)\">\n       <use xlink:href=\"#DejaVuSans-48\"/>\n      </g>\n     </g>\n    </g>\n    <g id=\"ytick_2\">\n     <g id=\"line2d_9\">\n      <g>\n       <use style=\"stroke:#000000;stroke-width:0.8;\" x=\"46.0125\" xlink:href=\"#ma4b5732f11\" y=\"221.394262\"/>\n      </g>\n     </g>\n     <g id=\"text_9\">\n      <!-- 5000 -->\n      <g transform=\"translate(13.5625 225.193481)scale(0.1 -0.1)\">\n       <use xlink:href=\"#DejaVuSans-53\"/>\n       <use x=\"63.623047\" xlink:href=\"#DejaVuSans-48\"/>\n       <use x=\"127.246094\" xlink:href=\"#DejaVuSans-48\"/>\n       <use x=\"190.869141\" xlink:href=\"#DejaVuSans-48\"/>\n      </g>\n     </g>\n    </g>\n    <g id=\"ytick_3\">\n     <g id=\"line2d_10\">\n      <g>\n       <use style=\"stroke:#000000;stroke-width:0.8;\" x=\"46.0125\" xlink:href=\"#ma4b5732f11\" y=\"163.788525\"/>\n      </g>\n     </g>\n     <g id=\"text_10\">\n      <!-- 10000 -->\n      <g transform=\"translate(7.2 167.587743)scale(0.1 -0.1)\">\n       <use xlink:href=\"#DejaVuSans-49\"/>\n       <use x=\"63.623047\" xlink:href=\"#DejaVuSans-48\"/>\n       <use x=\"127.246094\" xlink:href=\"#DejaVuSans-48\"/>\n       <use x=\"190.869141\" xlink:href=\"#DejaVuSans-48\"/>\n       <use x=\"254.492188\" xlink:href=\"#DejaVuSans-48\"/>\n      </g>\n     </g>\n    </g>\n    <g id=\"ytick_4\">\n     <g id=\"line2d_11\">\n      <g>\n       <use style=\"stroke:#000000;stroke-width:0.8;\" x=\"46.0125\" xlink:href=\"#ma4b5732f11\" y=\"106.182787\"/>\n      </g>\n     </g>\n     <g id=\"text_11\">\n      <!-- 15000 -->\n      <g transform=\"translate(7.2 109.982006)scale(0.1 -0.1)\">\n       <use xlink:href=\"#DejaVuSans-49\"/>\n       <use x=\"63.623047\" xlink:href=\"#DejaVuSans-53\"/>\n       <use x=\"127.246094\" xlink:href=\"#DejaVuSans-48\"/>\n       <use x=\"190.869141\" xlink:href=\"#DejaVuSans-48\"/>\n       <use x=\"254.492188\" xlink:href=\"#DejaVuSans-48\"/>\n      </g>\n     </g>\n    </g>\n    <g id=\"ytick_5\">\n     <g id=\"line2d_12\">\n      <g>\n       <use style=\"stroke:#000000;stroke-width:0.8;\" x=\"46.0125\" xlink:href=\"#ma4b5732f11\" y=\"48.577049\"/>\n      </g>\n     </g>\n     <g id=\"text_12\">\n      <!-- 20000 -->\n      <g transform=\"translate(7.2 52.376268)scale(0.1 -0.1)\">\n       <defs>\n        <path d=\"M 19.1875 8.296875 \nL 53.609375 8.296875 \nL 53.609375 0 \nL 7.328125 0 \nL 7.328125 8.296875 \nQ 12.9375 14.109375 22.625 23.890625 \nQ 32.328125 33.6875 34.8125 36.53125 \nQ 39.546875 41.84375 41.421875 45.53125 \nQ 43.3125 49.21875 43.3125 52.78125 \nQ 43.3125 58.59375 39.234375 62.25 \nQ 35.15625 65.921875 28.609375 65.921875 \nQ 23.96875 65.921875 18.8125 64.3125 \nQ 13.671875 62.703125 7.8125 59.421875 \nL 7.8125 69.390625 \nQ 13.765625 71.78125 18.9375 73 \nQ 24.125 74.21875 28.421875 74.21875 \nQ 39.75 74.21875 46.484375 68.546875 \nQ 53.21875 62.890625 53.21875 53.421875 \nQ 53.21875 48.921875 51.53125 44.890625 \nQ 49.859375 40.875 45.40625 35.40625 \nQ 44.1875 33.984375 37.640625 27.21875 \nQ 31.109375 20.453125 19.1875 8.296875 \nz\n\" id=\"DejaVuSans-50\"/>\n       </defs>\n       <use xlink:href=\"#DejaVuSans-50\"/>\n       <use x=\"63.623047\" xlink:href=\"#DejaVuSans-48\"/>\n       <use x=\"127.246094\" xlink:href=\"#DejaVuSans-48\"/>\n       <use x=\"190.869141\" xlink:href=\"#DejaVuSans-48\"/>\n       <use x=\"254.492188\" xlink:href=\"#DejaVuSans-48\"/>\n      </g>\n     </g>\n    </g>\n   </g>\n   <g id=\"patch_10\">\n    <path d=\"M 46.0125 279 \nL 46.0125 7.2 \n\" style=\"fill:none;stroke:#000000;stroke-linecap:square;stroke-linejoin:miter;stroke-width:0.8;\"/>\n   </g>\n   <g id=\"patch_11\">\n    <path d=\"M 883.0125 279 \nL 883.0125 7.2 \n\" style=\"fill:none;stroke:#000000;stroke-linecap:square;stroke-linejoin:miter;stroke-width:0.8;\"/>\n   </g>\n   <g id=\"patch_12\">\n    <path d=\"M 46.0125 279 \nL 883.0125 279 \n\" style=\"fill:none;stroke:#000000;stroke-linecap:square;stroke-linejoin:miter;stroke-width:0.8;\"/>\n   </g>\n   <g id=\"patch_13\">\n    <path d=\"M 46.0125 7.2 \nL 883.0125 7.2 \n\" style=\"fill:none;stroke:#000000;stroke-linecap:square;stroke-linejoin:miter;stroke-width:0.8;\"/>\n   </g>\n  </g>\n </g>\n <defs>\n  <clipPath id=\"p2bea2ffe7d\">\n   <rect height=\"271.8\" width=\"837\" x=\"46.0125\" y=\"7.2\"/>\n  </clipPath>\n </defs>\n</svg>\n",
      "image/png": "[encoded data removed]"
     },
     "metadata": {
      "needs_background": "light"
     }
    },
    {
     "output_type": "display_data",
     "data": {
      "text/plain": "<Figure size 1080x360 with 1 Axes>",
      "image/svg+xml": "<?xml version=\"1.0\" encoding=\"utf-8\" standalone=\"no\"?>\n<!DOCTYPE svg PUBLIC \"-//W3C//DTD SVG 1.1//EN\"\n  \"http://www.w3.org/Graphics/SVG/1.1/DTD/svg11.dtd\">\n<!-- Created with matplotlib (https://matplotlib.org/) -->\n<svg height=\"302.878125pt\" version=\"1.1\" viewBox=\"0 0 864.7625 302.878125\" width=\"864.7625pt\" xmlns=\"http://www.w3.org/2000/svg\" xmlns:xlink=\"http://www.w3.org/1999/xlink\">\n <metadata>\n  <rdf:RDF xmlns:cc=\"http://creativecommons.org/ns#\" xmlns:dc=\"http://purl.org/dc/elements/1.1/\" xmlns:rdf=\"http://www.w3.org/1999/02/22-rdf-syntax-ns#\">\n   <cc:Work>\n    <dc:type rdf:resource=\"http://purl.org/dc/dcmitype/StillImage\"/>\n    <dc:date>2021-03-06T22:29:11.086905</dc:date>\n    <dc:format>image/svg+xml</dc:format>\n    <dc:creator>\n     <cc:Agent>\n      <dc:title>Matplotlib v3.3.3, https://matplotlib.org/</dc:title>\n     </cc:Agent>\n    </dc:creator>\n   </cc:Work>\n  </rdf:RDF>\n </metadata>\n <defs>\n  <style type=\"text/css\">*{stroke-linecap:butt;stroke-linejoin:round;}</style>\n </defs>\n <g id=\"figure_1\">\n  <g id=\"patch_1\">\n   <path d=\"M 0 302.878125 \nL 864.7625 302.878125 \nL 864.7625 0 \nL 0 0 \nz\n\" style=\"fill:none;\"/>\n  </g>\n  <g id=\"axes_1\">\n   <g id=\"patch_2\">\n    <path d=\"M 20.5625 279 \nL 857.5625 279 \nL 857.5625 7.2 \nL 20.5625 7.2 \nz\n\" style=\"fill:#ffffff;\"/>\n   </g>\n   <g id=\"matplotlib.axis_1\">\n    <g id=\"xtick_1\">\n     <g id=\"line2d_1\">\n      <defs>\n       <path d=\"M 0 0 \nL 0 3.5 \n\" id=\"mf61b3d9c11\" style=\"stroke:#000000;stroke-width:0.8;\"/>\n      </defs>\n      <g>\n       <use style=\"stroke:#000000;stroke-width:0.8;\" x=\"58.607955\" xlink:href=\"#mf61b3d9c11\" y=\"279\"/>\n      </g>\n     </g>\n     <g id=\"text_1\">\n      <!-- 2016 -->\n      <g transform=\"translate(45.882955 293.598437)scale(0.1 -0.1)\">\n       <defs>\n        <path d=\"M 19.1875 8.296875 \nL 53.609375 8.296875 \nL 53.609375 0 \nL 7.328125 0 \nL 7.328125 8.296875 \nQ 12.9375 14.109375 22.625 23.890625 \nQ 32.328125 33.6875 34.8125 36.53125 \nQ 39.546875 41.84375 41.421875 45.53125 \nQ 43.3125 49.21875 43.3125 52.78125 \nQ 43.3125 58.59375 39.234375 62.25 \nQ 35.15625 65.921875 28.609375 65.921875 \nQ 23.96875 65.921875 18.8125 64.3125 \nQ 13.671875 62.703125 7.8125 59.421875 \nL 7.8125 69.390625 \nQ 13.765625 71.78125 18.9375 73 \nQ 24.125 74.21875 28.421875 74.21875 \nQ 39.75 74.21875 46.484375 68.546875 \nQ 53.21875 62.890625 53.21875 53.421875 \nQ 53.21875 48.921875 51.53125 44.890625 \nQ 49.859375 40.875 45.40625 35.40625 \nQ 44.1875 33.984375 37.640625 27.21875 \nQ 31.109375 20.453125 19.1875 8.296875 \nz\n\" id=\"DejaVuSans-50\"/>\n        <path d=\"M 31.78125 66.40625 \nQ 24.171875 66.40625 20.328125 58.90625 \nQ 16.5 51.421875 16.5 36.375 \nQ 16.5 21.390625 20.328125 13.890625 \nQ 24.171875 6.390625 31.78125 6.390625 \nQ 39.453125 6.390625 43.28125 13.890625 \nQ 47.125 21.390625 47.125 36.375 \nQ 47.125 51.421875 43.28125 58.90625 \nQ 39.453125 66.40625 31.78125 66.40625 \nz\nM 31.78125 74.21875 \nQ 44.046875 74.21875 50.515625 64.515625 \nQ 56.984375 54.828125 56.984375 36.375 \nQ 56.984375 17.96875 50.515625 8.265625 \nQ 44.046875 -1.421875 31.78125 -1.421875 \nQ 19.53125 -1.421875 13.0625 8.265625 \nQ 6.59375 17.96875 6.59375 36.375 \nQ 6.59375 54.828125 13.0625 64.515625 \nQ 19.53125 74.21875 31.78125 74.21875 \nz\n\" id=\"DejaVuSans-48\"/>\n        <path d=\"M 12.40625 8.296875 \nL 28.515625 8.296875 \nL 28.515625 63.921875 \nL 10.984375 60.40625 \nL 10.984375 69.390625 \nL 28.421875 72.90625 \nL 38.28125 72.90625 \nL 38.28125 8.296875 \nL 54.390625 8.296875 \nL 54.390625 0 \nL 12.40625 0 \nz\n\" id=\"DejaVuSans-49\"/>\n        <path d=\"M 33.015625 40.375 \nQ 26.375 40.375 22.484375 35.828125 \nQ 18.609375 31.296875 18.609375 23.390625 \nQ 18.609375 15.53125 22.484375 10.953125 \nQ 26.375 6.390625 33.015625 6.390625 \nQ 39.65625 6.390625 43.53125 10.953125 \nQ 47.40625 15.53125 47.40625 23.390625 \nQ 47.40625 31.296875 43.53125 35.828125 \nQ 39.65625 40.375 33.015625 40.375 \nz\nM 52.59375 71.296875 \nL 52.59375 62.3125 \nQ 48.875 64.0625 45.09375 64.984375 \nQ 41.3125 65.921875 37.59375 65.921875 \nQ 27.828125 65.921875 22.671875 59.328125 \nQ 17.53125 52.734375 16.796875 39.40625 \nQ 19.671875 43.65625 24.015625 45.921875 \nQ 28.375 48.1875 33.59375 48.1875 \nQ 44.578125 48.1875 50.953125 41.515625 \nQ 57.328125 34.859375 57.328125 23.390625 \nQ 57.328125 12.15625 50.6875 5.359375 \nQ 44.046875 -1.421875 33.015625 -1.421875 \nQ 20.359375 -1.421875 13.671875 8.265625 \nQ 6.984375 17.96875 6.984375 36.375 \nQ 6.984375 53.65625 15.1875 63.9375 \nQ 23.390625 74.21875 37.203125 74.21875 \nQ 40.921875 74.21875 44.703125 73.484375 \nQ 48.484375 72.75 52.59375 71.296875 \nz\n\" id=\"DejaVuSans-54\"/>\n       </defs>\n       <use xlink:href=\"#DejaVuSans-50\"/>\n       <use x=\"63.623047\" xlink:href=\"#DejaVuSans-48\"/>\n       <use x=\"127.246094\" xlink:href=\"#DejaVuSans-49\"/>\n       <use x=\"190.869141\" xlink:href=\"#DejaVuSans-54\"/>\n      </g>\n     </g>\n    </g>\n    <g id=\"xtick_2\">\n     <g id=\"line2d_2\">\n      <g>\n       <use style=\"stroke:#000000;stroke-width:0.8;\" x=\"211.039661\" xlink:href=\"#mf61b3d9c11\" y=\"279\"/>\n      </g>\n     </g>\n     <g id=\"text_2\">\n      <!-- 2017 -->\n      <g transform=\"translate(198.314661 293.598437)scale(0.1 -0.1)\">\n       <defs>\n        <path d=\"M 8.203125 72.90625 \nL 55.078125 72.90625 \nL 55.078125 68.703125 \nL 28.609375 0 \nL 18.3125 0 \nL 43.21875 64.59375 \nL 8.203125 64.59375 \nz\n\" id=\"DejaVuSans-55\"/>\n       </defs>\n       <use xlink:href=\"#DejaVuSans-50\"/>\n       <use x=\"63.623047\" xlink:href=\"#DejaVuSans-48\"/>\n       <use x=\"127.246094\" xlink:href=\"#DejaVuSans-49\"/>\n       <use x=\"190.869141\" xlink:href=\"#DejaVuSans-55\"/>\n      </g>\n     </g>\n    </g>\n    <g id=\"xtick_3\">\n     <g id=\"line2d_3\">\n      <g>\n       <use style=\"stroke:#000000;stroke-width:0.8;\" x=\"363.054887\" xlink:href=\"#mf61b3d9c11\" y=\"279\"/>\n      </g>\n     </g>\n     <g id=\"text_3\">\n      <!-- 2018 -->\n      <g transform=\"translate(350.329887 293.598437)scale(0.1 -0.1)\">\n       <defs>\n        <path d=\"M 31.78125 34.625 \nQ 24.75 34.625 20.71875 30.859375 \nQ 16.703125 27.09375 16.703125 20.515625 \nQ 16.703125 13.921875 20.71875 10.15625 \nQ 24.75 6.390625 31.78125 6.390625 \nQ 38.8125 6.390625 42.859375 10.171875 \nQ 46.921875 13.96875 46.921875 20.515625 \nQ 46.921875 27.09375 42.890625 30.859375 \nQ 38.875 34.625 31.78125 34.625 \nz\nM 21.921875 38.8125 \nQ 15.578125 40.375 12.03125 44.71875 \nQ 8.5 49.078125 8.5 55.328125 \nQ 8.5 64.0625 14.71875 69.140625 \nQ 20.953125 74.21875 31.78125 74.21875 \nQ 42.671875 74.21875 48.875 69.140625 \nQ 55.078125 64.0625 55.078125 55.328125 \nQ 55.078125 49.078125 51.53125 44.71875 \nQ 48 40.375 41.703125 38.8125 \nQ 48.828125 37.15625 52.796875 32.3125 \nQ 56.78125 27.484375 56.78125 20.515625 \nQ 56.78125 9.90625 50.3125 4.234375 \nQ 43.84375 -1.421875 31.78125 -1.421875 \nQ 19.734375 -1.421875 13.25 4.234375 \nQ 6.78125 9.90625 6.78125 20.515625 \nQ 6.78125 27.484375 10.78125 32.3125 \nQ 14.796875 37.15625 21.921875 38.8125 \nz\nM 18.3125 54.390625 \nQ 18.3125 48.734375 21.84375 45.5625 \nQ 25.390625 42.390625 31.78125 42.390625 \nQ 38.140625 42.390625 41.71875 45.5625 \nQ 45.3125 48.734375 45.3125 54.390625 \nQ 45.3125 60.0625 41.71875 63.234375 \nQ 38.140625 66.40625 31.78125 66.40625 \nQ 25.390625 66.40625 21.84375 63.234375 \nQ 18.3125 60.0625 18.3125 54.390625 \nz\n\" id=\"DejaVuSans-56\"/>\n       </defs>\n       <use xlink:href=\"#DejaVuSans-50\"/>\n       <use x=\"63.623047\" xlink:href=\"#DejaVuSans-48\"/>\n       <use x=\"127.246094\" xlink:href=\"#DejaVuSans-49\"/>\n       <use x=\"190.869141\" xlink:href=\"#DejaVuSans-56\"/>\n      </g>\n     </g>\n    </g>\n    <g id=\"xtick_4\">\n     <g id=\"line2d_4\">\n      <g>\n       <use style=\"stroke:#000000;stroke-width:0.8;\" x=\"515.070113\" xlink:href=\"#mf61b3d9c11\" y=\"279\"/>\n      </g>\n     </g>\n     <g id=\"text_4\">\n      <!-- 2019 -->\n      <g transform=\"translate(502.345113 293.598437)scale(0.1 -0.1)\">\n       <defs>\n        <path d=\"M 10.984375 1.515625 \nL 10.984375 10.5 \nQ 14.703125 8.734375 18.5 7.8125 \nQ 22.3125 6.890625 25.984375 6.890625 \nQ 35.75 6.890625 40.890625 13.453125 \nQ 46.046875 20.015625 46.78125 33.40625 \nQ 43.953125 29.203125 39.59375 26.953125 \nQ 35.25 24.703125 29.984375 24.703125 \nQ 19.046875 24.703125 12.671875 31.3125 \nQ 6.296875 37.9375 6.296875 49.421875 \nQ 6.296875 60.640625 12.9375 67.421875 \nQ 19.578125 74.21875 30.609375 74.21875 \nQ 43.265625 74.21875 49.921875 64.515625 \nQ 56.59375 54.828125 56.59375 36.375 \nQ 56.59375 19.140625 48.40625 8.859375 \nQ 40.234375 -1.421875 26.421875 -1.421875 \nQ 22.703125 -1.421875 18.890625 -0.6875 \nQ 15.09375 0.046875 10.984375 1.515625 \nz\nM 30.609375 32.421875 \nQ 37.25 32.421875 41.125 36.953125 \nQ 45.015625 41.5 45.015625 49.421875 \nQ 45.015625 57.28125 41.125 61.84375 \nQ 37.25 66.40625 30.609375 66.40625 \nQ 23.96875 66.40625 20.09375 61.84375 \nQ 16.21875 57.28125 16.21875 49.421875 \nQ 16.21875 41.5 20.09375 36.953125 \nQ 23.96875 32.421875 30.609375 32.421875 \nz\n\" id=\"DejaVuSans-57\"/>\n       </defs>\n       <use xlink:href=\"#DejaVuSans-50\"/>\n       <use x=\"63.623047\" xlink:href=\"#DejaVuSans-48\"/>\n       <use x=\"127.246094\" xlink:href=\"#DejaVuSans-49\"/>\n       <use x=\"190.869141\" xlink:href=\"#DejaVuSans-57\"/>\n      </g>\n     </g>\n    </g>\n    <g id=\"xtick_5\">\n     <g id=\"line2d_5\">\n      <g>\n       <use style=\"stroke:#000000;stroke-width:0.8;\" x=\"667.085339\" xlink:href=\"#mf61b3d9c11\" y=\"279\"/>\n      </g>\n     </g>\n     <g id=\"text_5\">\n      <!-- 2020 -->\n      <g transform=\"translate(654.360339 293.598437)scale(0.1 -0.1)\">\n       <use xlink:href=\"#DejaVuSans-50\"/>\n       <use x=\"63.623047\" xlink:href=\"#DejaVuSans-48\"/>\n       <use x=\"127.246094\" xlink:href=\"#DejaVuSans-50\"/>\n       <use x=\"190.869141\" xlink:href=\"#DejaVuSans-48\"/>\n      </g>\n     </g>\n    </g>\n    <g id=\"xtick_6\">\n     <g id=\"line2d_6\">\n      <g>\n       <use style=\"stroke:#000000;stroke-width:0.8;\" x=\"819.517045\" xlink:href=\"#mf61b3d9c11\" y=\"279\"/>\n      </g>\n     </g>\n     <g id=\"text_6\">\n      <!-- 2021 -->\n      <g transform=\"translate(806.792045 293.598437)scale(0.1 -0.1)\">\n       <use xlink:href=\"#DejaVuSans-50\"/>\n       <use x=\"63.623047\" xlink:href=\"#DejaVuSans-48\"/>\n       <use x=\"127.246094\" xlink:href=\"#DejaVuSans-50\"/>\n       <use x=\"190.869141\" xlink:href=\"#DejaVuSans-49\"/>\n      </g>\n     </g>\n    </g>\n   </g>\n   <g id=\"matplotlib.axis_2\">\n    <g id=\"ytick_1\">\n     <g id=\"line2d_7\">\n      <defs>\n       <path d=\"M 0 0 \nL -3.5 0 \n\" id=\"m917dcdd7a6\" style=\"stroke:#000000;stroke-width:0.8;\"/>\n      </defs>\n      <g>\n       <use style=\"stroke:#000000;stroke-width:0.8;\" x=\"20.5625\" xlink:href=\"#m917dcdd7a6\" y=\"266.645455\"/>\n      </g>\n     </g>\n     <g id=\"text_7\">\n      <!-- 1 -->\n      <g transform=\"translate(7.2 270.444673)scale(0.1 -0.1)\">\n       <use xlink:href=\"#DejaVuSans-49\"/>\n      </g>\n     </g>\n    </g>\n    <g id=\"ytick_2\">\n     <g id=\"line2d_8\">\n      <g>\n       <use style=\"stroke:#000000;stroke-width:0.8;\" x=\"20.5625\" xlink:href=\"#m917dcdd7a6\" y=\"225.463636\"/>\n      </g>\n     </g>\n     <g id=\"text_8\">\n      <!-- 2 -->\n      <g transform=\"translate(7.2 229.262855)scale(0.1 -0.1)\">\n       <use xlink:href=\"#DejaVuSans-50\"/>\n      </g>\n     </g>\n    </g>\n    <g id=\"ytick_3\">\n     <g id=\"line2d_9\">\n      <g>\n       <use style=\"stroke:#000000;stroke-width:0.8;\" x=\"20.5625\" xlink:href=\"#m917dcdd7a6\" y=\"184.281818\"/>\n      </g>\n     </g>\n     <g id=\"text_9\">\n      <!-- 3 -->\n      <g transform=\"translate(7.2 188.081037)scale(0.1 -0.1)\">\n       <defs>\n        <path d=\"M 40.578125 39.3125 \nQ 47.65625 37.796875 51.625 33 \nQ 55.609375 28.21875 55.609375 21.1875 \nQ 55.609375 10.40625 48.1875 4.484375 \nQ 40.765625 -1.421875 27.09375 -1.421875 \nQ 22.515625 -1.421875 17.65625 -0.515625 \nQ 12.796875 0.390625 7.625 2.203125 \nL 7.625 11.71875 \nQ 11.71875 9.328125 16.59375 8.109375 \nQ 21.484375 6.890625 26.8125 6.890625 \nQ 36.078125 6.890625 40.9375 10.546875 \nQ 45.796875 14.203125 45.796875 21.1875 \nQ 45.796875 27.640625 41.28125 31.265625 \nQ 36.765625 34.90625 28.71875 34.90625 \nL 20.21875 34.90625 \nL 20.21875 43.015625 \nL 29.109375 43.015625 \nQ 36.375 43.015625 40.234375 45.921875 \nQ 44.09375 48.828125 44.09375 54.296875 \nQ 44.09375 59.90625 40.109375 62.90625 \nQ 36.140625 65.921875 28.71875 65.921875 \nQ 24.65625 65.921875 20.015625 65.03125 \nQ 15.375 64.15625 9.8125 62.3125 \nL 9.8125 71.09375 \nQ 15.4375 72.65625 20.34375 73.4375 \nQ 25.25 74.21875 29.59375 74.21875 \nQ 40.828125 74.21875 47.359375 69.109375 \nQ 53.90625 64.015625 53.90625 55.328125 \nQ 53.90625 49.265625 50.4375 45.09375 \nQ 46.96875 40.921875 40.578125 39.3125 \nz\n\" id=\"DejaVuSans-51\"/>\n       </defs>\n       <use xlink:href=\"#DejaVuSans-51\"/>\n      </g>\n     </g>\n    </g>\n    <g id=\"ytick_4\">\n     <g id=\"line2d_10\">\n      <g>\n       <use style=\"stroke:#000000;stroke-width:0.8;\" x=\"20.5625\" xlink:href=\"#m917dcdd7a6\" y=\"143.1\"/>\n      </g>\n     </g>\n     <g id=\"text_10\">\n      <!-- 4 -->\n      <g transform=\"translate(7.2 146.899219)scale(0.1 -0.1)\">\n       <defs>\n        <path d=\"M 37.796875 64.3125 \nL 12.890625 25.390625 \nL 37.796875 25.390625 \nz\nM 35.203125 72.90625 \nL 47.609375 72.90625 \nL 47.609375 25.390625 \nL 58.015625 25.390625 \nL 58.015625 17.1875 \nL 47.609375 17.1875 \nL 47.609375 0 \nL 37.796875 0 \nL 37.796875 17.1875 \nL 4.890625 17.1875 \nL 4.890625 26.703125 \nz\n\" id=\"DejaVuSans-52\"/>\n       </defs>\n       <use xlink:href=\"#DejaVuSans-52\"/>\n      </g>\n     </g>\n    </g>\n    <g id=\"ytick_5\">\n     <g id=\"line2d_11\">\n      <g>\n       <use style=\"stroke:#000000;stroke-width:0.8;\" x=\"20.5625\" xlink:href=\"#m917dcdd7a6\" y=\"101.918182\"/>\n      </g>\n     </g>\n     <g id=\"text_11\">\n      <!-- 5 -->\n      <g transform=\"translate(7.2 105.717401)scale(0.1 -0.1)\">\n       <defs>\n        <path d=\"M 10.796875 72.90625 \nL 49.515625 72.90625 \nL 49.515625 64.59375 \nL 19.828125 64.59375 \nL 19.828125 46.734375 \nQ 21.96875 47.46875 24.109375 47.828125 \nQ 26.265625 48.1875 28.421875 48.1875 \nQ 40.625 48.1875 47.75 41.5 \nQ 54.890625 34.8125 54.890625 23.390625 \nQ 54.890625 11.625 47.5625 5.09375 \nQ 40.234375 -1.421875 26.90625 -1.421875 \nQ 22.3125 -1.421875 17.546875 -0.640625 \nQ 12.796875 0.140625 7.71875 1.703125 \nL 7.71875 11.625 \nQ 12.109375 9.234375 16.796875 8.0625 \nQ 21.484375 6.890625 26.703125 6.890625 \nQ 35.15625 6.890625 40.078125 11.328125 \nQ 45.015625 15.765625 45.015625 23.390625 \nQ 45.015625 31 40.078125 35.4375 \nQ 35.15625 39.890625 26.703125 39.890625 \nQ 22.75 39.890625 18.8125 39.015625 \nQ 14.890625 38.140625 10.796875 36.28125 \nz\n\" id=\"DejaVuSans-53\"/>\n       </defs>\n       <use xlink:href=\"#DejaVuSans-53\"/>\n      </g>\n     </g>\n    </g>\n    <g id=\"ytick_6\">\n     <g id=\"line2d_12\">\n      <g>\n       <use style=\"stroke:#000000;stroke-width:0.8;\" x=\"20.5625\" xlink:href=\"#m917dcdd7a6\" y=\"60.736364\"/>\n      </g>\n     </g>\n     <g id=\"text_12\">\n      <!-- 6 -->\n      <g transform=\"translate(7.2 64.535582)scale(0.1 -0.1)\">\n       <use xlink:href=\"#DejaVuSans-54\"/>\n      </g>\n     </g>\n    </g>\n    <g id=\"ytick_7\">\n     <g id=\"line2d_13\">\n      <g>\n       <use style=\"stroke:#000000;stroke-width:0.8;\" x=\"20.5625\" xlink:href=\"#m917dcdd7a6\" y=\"19.554545\"/>\n      </g>\n     </g>\n     <g id=\"text_13\">\n      <!-- 7 -->\n      <g transform=\"translate(7.2 23.353764)scale(0.1 -0.1)\">\n       <use xlink:href=\"#DejaVuSans-55\"/>\n      </g>\n     </g>\n    </g>\n   </g>\n   <g id=\"line2d_14\">\n    <path clip-path=\"url(#pd7491b3eda)\" d=\"M 58.607955 184.281818 \nL 58.885608 184.281818 \nL 58.902961 266.645455 \nL 58.989728 184.281818 \nL 59.007081 225.463636 \nL 59.093848 184.281818 \nL 59.180615 184.281818 \nL 59.197968 143.1 \nL 59.284735 184.281818 \nL 59.406208 184.281818 \nL 59.423561 225.463636 \nL 59.510328 184.281818 \nL 59.770628 184.281818 \nL 59.787981 266.645455 \nL 59.857395 143.1 \nL 59.874748 184.281818 \nL 60.030928 184.281818 \nL 60.082988 143.1 \nL 60.135048 184.281818 \nL 60.239168 184.281818 \nL 60.256521 225.463636 \nL 60.343288 184.281818 \nL 60.447408 184.281818 \nL 60.499468 143.1 \nL 60.551528 184.281818 \nL 60.655648 184.281818 \nL 60.777122 266.645455 \nL 60.898595 184.281818 \nL 61.020068 184.281818 \nL 61.037422 266.645455 \nL 61.124188 184.281818 \nL 61.488608 184.281818 \nL 61.505962 225.463636 \nL 61.592728 184.281818 \nL 61.748908 184.281818 \nL 61.766262 266.645455 \nL 61.783615 143.1 \nL 61.853028 184.281818 \nL 61.905088 184.281818 \nL 61.922442 225.463636 \nL 62.009208 184.281818 \nL 62.269509 184.281818 \nL 62.286862 266.645455 \nL 62.356275 143.1 \nL 62.373629 184.281818 \nL 62.738049 184.281818 \nL 62.755402 225.463636 \nL 62.842169 184.281818 \nL 63.154529 184.281818 \nL 63.171882 225.463636 \nL 63.258649 184.281818 \nL 63.345415 184.281818 \nL 63.362769 143.1 \nL 63.449535 184.281818 \nL 63.571009 184.281818 \nL 63.588362 225.463636 \nL 63.675129 184.281818 \nL 63.987489 184.281818 \nL 64.004842 225.463636 \nL 64.091609 184.281818 \nL 64.403969 184.281818 \nL 64.421322 225.463636 \nL 64.508089 184.281818 \nL 64.820449 184.281818 \nL 64.837802 225.463636 \nL 64.924569 184.281818 \nL 65.028689 184.281818 \nL 65.098102 266.645455 \nL 65.132809 184.281818 \nL 65.236929 184.281818 \nL 65.254282 225.463636 \nL 65.341049 184.281818 \nL 65.653409 184.281818 \nL 65.670762 225.463636 \nL 65.757529 184.281818 \nL 65.913709 184.281818 \nL 65.931062 266.645455 \nL 65.948416 143.1 \nL 66.017829 184.281818 \nL 66.069889 184.281818 \nL 66.087242 225.463636 \nL 66.174009 184.281818 \nL 66.486369 184.281818 \nL 66.503723 225.463636 \nL 66.590489 184.281818 \nL 66.902849 184.281818 \nL 66.920203 225.463636 \nL 67.006969 184.281818 \nL 67.145796 184.281818 \nL 67.197856 143.1 \nL 67.180503 266.645455 \nL 67.249916 184.281818 \nL 67.319329 184.281818 \nL 67.336683 225.463636 \nL 67.423449 184.281818 \nL 67.735809 184.281818 \nL 67.753163 225.463636 \nL 67.839929 184.281818 \nL 67.891989 184.281818 \nL 68.013463 266.645455 \nL 68.134936 184.281818 \nL 68.20435 184.281818 \nL 68.325823 266.645455 \nL 68.447296 184.281818 \nL 68.56877 184.281818 \nL 68.690243 266.645455 \nL 68.811716 184.281818 \nL 68.82907 184.281818 \nL 68.898483 266.645455 \nL 68.93319 184.281818 \nL 68.98525 184.281818 \nL 69.002603 225.463636 \nL 69.08937 184.281818 \nL 69.40173 184.281818 \nL 69.419083 225.463636 \nL 69.50585 184.281818 \nL 69.81821 184.281818 \nL 69.835563 225.463636 \nL 69.92233 184.281818 \nL 70.23469 184.281818 \nL 70.252043 225.463636 \nL 70.33881 184.281818 \nL 70.477637 184.281818 \nL 70.49499 143.1 \nL 70.512343 266.645455 \nL 70.581757 184.281818 \nL 70.65117 184.281818 \nL 70.668523 225.463636 \nL 70.75529 184.281818 \nL 71.06765 184.281818 \nL 71.085003 225.463636 \nL 71.17177 184.281818 \nL 71.27589 184.281818 \nL 71.32795 143.1 \nL 71.38001 184.281818 \nL 71.43207 184.281818 \nL 71.449423 266.645455 \nL 71.53619 184.281818 \nL 71.69237 184.281818 \nL 71.74443 143.1 \nL 71.761783 266.645455 \nL 71.84855 184.281818 \nL 71.90061 184.281818 \nL 71.917964 225.463636 \nL 72.00473 184.281818 \nL 72.16091 184.281818 \nL 72.178264 266.645455 \nL 72.26503 184.281818 \nL 72.31709 184.281818 \nL 72.334444 225.463636 \nL 72.42121 184.281818 \nL 72.73357 184.281818 \nL 72.750924 225.463636 \nL 72.83769 184.281818 \nL 73.15005 184.281818 \nL 73.271524 266.645455 \nL 73.392997 184.281818 \nL 73.56653 184.281818 \nL 73.688004 266.645455 \nL 73.809477 184.281818 \nL 73.878891 184.281818 \nL 73.948304 266.645455 \nL 73.983011 184.281818 \nL 74.035071 184.281818 \nL 74.069777 143.1 \nL 74.156544 266.645455 \nL 74.278017 184.281818 \nL 74.399491 184.281818 \nL 74.434197 143.1 \nL 74.520964 266.645455 \nL 74.642437 143.1 \nL 74.763911 184.281818 \nL 74.815971 184.281818 \nL 74.833324 225.463636 \nL 74.920091 184.281818 \nL 75.232451 184.281818 \nL 75.249804 225.463636 \nL 75.336571 184.281818 \nL 75.648931 184.281818 \nL 75.666284 225.463636 \nL 75.753051 184.281818 \nL 76.013351 184.281818 \nL 76.030704 266.645455 \nL 76.117471 184.281818 \nL 76.481891 184.281818 \nL 76.499244 225.463636 \nL 76.586011 184.281818 \nL 76.898371 184.281818 \nL 76.915724 225.463636 \nL 77.002491 184.281818 \nL 77.314851 184.281818 \nL 77.332204 225.463636 \nL 77.418971 184.281818 \nL 77.679271 184.281818 \nL 77.800745 266.645455 \nL 77.922218 184.281818 \nL 77.939571 184.281818 \nL 77.956925 266.645455 \nL 78.043691 184.281818 \nL 78.095751 184.281818 \nL 78.113105 266.645455 \nL 78.199871 184.281818 \nL 78.512231 184.281818 \nL 78.529585 266.645455 \nL 78.616351 184.281818 \nL 78.928711 184.281818 \nL 79.050185 266.645455 \nL 79.171658 184.281818 \nL 79.345191 184.281818 \nL 79.379898 143.1 \nL 79.414605 225.463636 \nL 79.449311 184.281818 \nL 79.813732 184.281818 \nL 79.831085 225.463636 \nL 79.917852 184.281818 \nL 80.230212 184.281818 \nL 80.247565 225.463636 \nL 80.334332 184.281818 \nL 80.646692 184.281818 \nL 80.664045 225.463636 \nL 80.750812 184.281818 \nL 80.854932 184.281818 \nL 80.889638 143.1 \nL 80.959052 184.281818 \nL 81.063172 184.281818 \nL 81.080525 225.463636 \nL 81.167292 184.281818 \nL 81.271412 184.281818 \nL 81.288765 266.645455 \nL 81.375532 184.281818 \nL 81.479652 184.281818 \nL 81.497005 225.463636 \nL 81.583772 184.281818 \nL 81.687892 184.281818 \nL 81.705245 225.463636 \nL 81.722599 143.1 \nL 81.792012 184.281818 \nL 81.896132 184.281818 \nL 81.913485 225.463636 \nL 82.000252 184.281818 \nL 82.260552 184.281818 \nL 82.277905 266.645455 \nL 82.364672 184.281818 \nL 82.555559 184.281818 \nL 82.572912 143.1 \nL 82.659679 184.281818 \nL 82.729092 184.281818 \nL 82.746445 225.463636 \nL 82.833212 184.281818 \nL 83.145572 184.281818 \nL 83.162925 225.463636 \nL 83.249692 184.281818 \nL 83.562052 184.281818 \nL 83.631466 266.645455 \nL 83.666172 184.281818 \nL 83.978532 184.281818 \nL 83.995886 225.463636 \nL 84.082652 184.281818 \nL 84.186772 184.281818 \nL 84.308246 266.645455 \nL 84.429719 184.281818 \nL 84.447072 143.1 \nL 84.533839 184.281818 \nL 84.811492 184.281818 \nL 84.828846 225.463636 \nL 84.898259 184.281818 \nL 84.915612 143.1 \nL 85.002379 184.281818 \nL 85.227972 184.281818 \nL 85.245326 225.463636 \nL 85.332092 184.281818 \nL 85.696513 184.281818 \nL 85.817986 266.645455 \nL 85.852693 143.1 \nL 85.939459 184.281818 \nL 86.060933 184.281818 \nL 86.078286 225.463636 \nL 86.165053 184.281818 \nL 86.321233 184.281818 \nL 86.373293 143.1 \nL 86.425353 184.281818 \nL 86.442706 266.645455 \nL 86.529473 184.281818 \nL 86.633593 19.554545 \nL 86.772419 184.281818 \nL 86.893893 184.281818 \nL 87.015366 266.645455 \nL 87.136839 143.1 \nL 87.154193 143.1 \nL 87.171546 266.645455 \nL 87.258313 184.281818 \nL 87.310373 184.281818 \nL 87.327726 225.463636 \nL 87.414493 184.281818 \nL 87.674793 184.281818 \nL 87.692146 266.645455 \nL 87.778913 184.281818 \nL 88.091273 184.281818 \nL 88.108626 266.645455 \nL 88.195393 184.281818 \nL 88.559813 184.281818 \nL 88.681286 266.645455 \nL 88.768053 143.1 \nL 88.80276 184.281818 \nL 88.820113 184.281818 \nL 88.872173 143.1 \nL 88.924233 184.281818 \nL 88.941586 266.645455 \nL 89.028353 184.281818 \nL 89.2713 184.281818 \nL 89.288653 19.554545 \nL 89.358067 266.645455 \nL 89.37542 184.281818 \nL 89.392773 184.281818 \nL 89.410127 225.463636 \nL 89.496893 184.281818 \nL 89.618367 184.281818 \nL 89.653073 60.736364 \nL 89.705133 184.281818 \nL 89.7919 184.281818 \nL 89.809253 60.736364 \nL 89.826607 225.463636 \nL 89.89602 184.281818 \nL 90.017493 184.281818 \nL 90.0522 143.1 \nL 90.121613 184.281818 \nL 90.225733 184.281818 \nL 90.243087 225.463636 \nL 90.329853 184.281818 \nL 90.642213 184.281818 \nL 90.711627 266.645455 \nL 90.746333 184.281818 \nL 90.954573 184.281818 \nL 90.971927 266.645455 \nL 91.058693 184.281818 \nL 91.076047 225.463636 \nL 91.162813 184.281818 \nL 91.475174 184.281818 \nL 91.492527 225.463636 \nL 91.579294 184.281818 \nL 91.891654 184.281818 \nL 91.909007 225.463636 \nL 91.995774 184.281818 \nL 92.308134 184.281818 \nL 92.325487 225.463636 \nL 92.412254 184.281818 \nL 92.516374 184.281818 \nL 92.533727 266.645455 \nL 92.620494 184.281818 \nL 92.724614 184.281818 \nL 92.846087 266.645455 \nL 92.96756 184.281818 \nL 93.01962 143.1 \nL 93.036974 184.281818 \nL 93.054327 266.645455 \nL 93.141094 184.281818 \nL 93.158447 225.463636 \nL 93.245214 184.281818 \nL 93.384041 184.281818 \nL 93.401394 143.1 \nL 93.488161 184.281818 \nL 93.557574 184.281818 \nL 93.574927 225.463636 \nL 93.644341 184.281818 \nL 93.661694 19.554545 \nL 93.748461 184.281818 \nL 93.974054 184.281818 \nL 93.991407 225.463636 \nL 94.078174 184.281818 \nL 94.390534 184.281818 \nL 94.512007 225.463636 \nL 94.633481 184.281818 \nL 94.807014 184.281818 \nL 94.824367 225.463636 \nL 94.911134 184.281818 \nL 95.223494 184.281818 \nL 95.240848 225.463636 \nL 95.327614 184.281818 \nL 95.362321 184.281818 \nL 95.449088 225.463636 \nL 95.483794 101.918182 \nL 95.553208 266.645455 \nL 95.587914 184.281818 \nL 95.622621 184.281818 \nL 95.639974 143.1 \nL 95.657328 225.463636 \nL 95.726741 184.281818 \nL 95.796154 184.281818 \nL 95.917628 266.645455 \nL 96.039101 184.281818 \nL 96.056454 184.281818 \nL 96.073808 225.463636 \nL 96.160574 184.281818 \nL 96.472934 184.281818 \nL 96.490288 225.463636 \nL 96.577054 184.281818 \nL 96.681174 184.281818 \nL 96.750588 266.645455 \nL 96.715881 101.918182 \nL 96.767941 143.1 \nL 96.785294 143.1 \nL 96.854708 266.645455 \nL 96.820001 101.918182 \nL 96.889414 101.918182 \nL 97.010888 266.645455 \nL 97.132361 143.1 \nL 97.149715 143.1 \nL 97.271188 266.645455 \nL 97.392661 184.281818 \nL 97.722375 184.281818 \nL 97.739728 225.463636 \nL 97.826495 184.281818 \nL 98.138855 184.281818 \nL 98.156208 225.463636 \nL 98.242975 184.281818 \nL 98.399155 184.281818 \nL 98.520628 266.645455 \nL 98.555335 143.1 \nL 98.642101 184.281818 \nL 98.763575 184.281818 \nL 98.832988 266.645455 \nL 98.798281 143.1 \nL 98.850341 143.1 \nL 98.867695 143.1 \nL 98.885048 266.645455 \nL 98.989168 225.463636 \nL 99.110642 184.281818 \nL 99.180055 184.281818 \nL 99.197408 266.645455 \nL 99.214762 143.1 \nL 99.266822 143.1 \nL 99.284175 143.1 \nL 99.353588 266.645455 \nL 99.388295 143.1 \nL 99.440355 143.1 \nL 99.509768 266.645455 \nL 99.544475 184.281818 \nL 99.596535 184.281818 \nL 99.665948 266.645455 \nL 99.631242 143.1 \nL 99.683302 143.1 \nL 99.700655 143.1 \nL 99.822128 225.463636 \nL 99.839482 184.281818 \nL 99.908895 184.281818 \nL 99.926248 266.645455 \nL 99.995662 143.1 \nL 100.013015 184.281818 \nL 100.047722 184.281818 \nL 100.082428 266.645455 \nL 100.117135 143.1 \nL 100.186548 266.645455 \nL 100.221255 143.1 \nL 100.342728 266.645455 \nL 100.464202 143.1 \nL 100.481555 143.1 \nL 100.603028 266.645455 \nL 100.724502 143.1 \nL 100.793915 143.1 \nL 100.863328 266.645455 \nL 100.880682 101.918182 \nL 100.898035 101.918182 \nL 101.019509 266.645455 \nL 101.036862 184.281818 \nL 101.054215 184.281818 \nL 101.071569 225.463636 \nL 101.158335 184.281818 \nL 101.470695 184.281818 \nL 101.488049 225.463636 \nL 101.574815 184.281818 \nL 101.730995 184.281818 \nL 101.765702 143.1 \nL 101.835115 184.281818 \nL 101.887175 184.281818 \nL 101.904529 225.463636 \nL 101.991295 184.281818 \nL 102.043355 184.281818 \nL 102.078062 19.554545 \nL 102.147475 101.918182 \nL 102.164829 266.645455 \nL 102.251595 184.281818 \nL 102.303655 184.281818 \nL 102.425129 266.645455 \nL 102.546602 143.1 \nL 102.563955 143.1 \nL 102.685429 266.645455 \nL 102.806902 143.1 \nL 102.841609 225.463636 \nL 102.876315 101.918182 \nL 102.997789 225.463636 \nL 103.067202 143.1 \nL 103.049849 266.645455 \nL 103.084556 184.281818 \nL 103.101909 266.645455 \nL 103.119262 143.1 \nL 103.171322 143.1 \nL 103.188676 143.1 \nL 103.206029 266.645455 \nL 103.292796 184.281818 \nL 103.553096 184.281818 \nL 103.570449 225.463636 \nL 103.639862 184.281818 \nL 103.691922 19.554545 \nL 103.743982 184.281818 \nL 103.969576 184.281818 \nL 103.986929 225.463636 \nL 104.056342 184.281818 \nL 104.125756 19.554545 \nL 104.160462 184.281818 \nL 104.177816 184.281818 \nL 104.229876 143.1 \nL 104.247229 266.645455 \nL 104.333996 184.281818 \nL 104.386056 184.281818 \nL 104.403409 225.463636 \nL 104.472822 184.281818 \nL 104.542236 19.554545 \nL 104.576942 184.281818 \nL 104.629002 184.281818 \nL 104.698416 143.1 \nL 104.663709 266.645455 \nL 104.733122 184.281818 \nL 104.802536 184.281818 \nL 104.871949 266.645455 \nL 104.906656 184.281818 \nL 105.045483 184.281818 \nL 105.062836 19.554545 \nL 105.149603 184.281818 \nL 105.219016 184.281818 \nL 105.236369 225.463636 \nL 105.323136 184.281818 \nL 105.635496 184.281818 \nL 105.652849 225.463636 \nL 105.739616 184.281818 \nL 106.051976 184.281818 \nL 106.069329 225.463636 \nL 106.156096 184.281818 \nL 106.468456 184.281818 \nL 106.537869 266.645455 \nL 106.572576 184.281818 \nL 106.659343 184.281818 \nL 106.694049 266.645455 \nL 106.728756 143.1 \nL 106.85023 266.645455 \nL 106.971703 184.281818 \nL 106.989056 184.281818 \nL 107.075823 143.1 \nL 107.093176 184.281818 \nL 107.145236 184.281818 \nL 107.179943 143.1 \nL 107.249356 184.281818 \nL 107.26671 266.645455 \nL 107.336123 143.1 \nL 107.353476 184.281818 \nL 107.561716 184.281818 \nL 107.648483 143.1 \nL 107.665836 184.281818 \nL 107.717896 184.281818 \nL 107.73525 225.463636 \nL 107.822016 184.281818 \nL 107.856723 184.281818 \nL 107.908783 143.1 \nL 107.926136 184.281818 \nL 107.978196 143.1 \nL 108.04761 266.645455 \nL 108.082316 143.1 \nL 108.169083 184.281818 \nL 108.186436 143.1 \nL 108.238496 184.281818 \nL 108.25585 266.645455 \nL 108.325263 184.281818 \nL 108.377323 143.1 \nL 108.35997 266.645455 \nL 108.429383 184.281818 \nL 108.550856 184.281818 \nL 108.56821 225.463636 \nL 108.654976 184.281818 \nL 108.707036 184.281818 \nL 108.759097 143.1 \nL 108.811157 184.281818 \nL 108.967337 184.281818 \nL 108.98469 225.463636 \nL 109.071457 184.281818 \nL 109.158223 184.281818 \nL 109.19293 266.645455 \nL 109.227637 143.1 \nL 109.279697 101.918182 \nL 109.34911 266.645455 \nL 109.418523 101.918182 \nL 109.470583 143.1 \nL 109.487937 143.1 \nL 109.539997 101.918182 \nL 109.60941 266.645455 \nL 109.730883 143.1 \nL 109.748237 143.1 \nL 109.86971 266.645455 \nL 109.991183 143.1 \nL 110.008537 143.1 \nL 110.13001 266.645455 \nL 110.251483 143.1 \nL 110.268837 143.1 \nL 110.28619 266.645455 \nL 110.372957 184.281818 \nL 110.425017 184.281818 \nL 110.477077 143.1 \nL 110.49443 266.645455 \nL 110.581197 184.281818 \nL 110.633257 184.281818 \nL 110.65061 225.463636 \nL 110.737377 184.281818 \nL 110.841497 184.281818 \nL 110.91091 266.645455 \nL 110.928264 143.1 \nL 110.945617 184.281818 \nL 111.049737 184.281818 \nL 111.06709 225.463636 \nL 111.153857 184.281818 \nL 111.466217 184.281818 \nL 111.48357 225.463636 \nL 111.570337 184.281818 \nL 111.813284 184.281818 \nL 111.830637 143.1 \nL 111.90005 225.463636 \nL 111.917404 184.281818 \nL 111.986817 184.281818 \nL 112.021524 143.1 \nL 112.090937 184.281818 \nL 112.281824 184.281818 \nL 112.299177 143.1 \nL 112.385944 184.281818 \nL 112.490064 184.281818 \nL 112.52477 266.645455 \nL 112.559477 143.1 \nL 112.680951 266.645455 \nL 112.802424 143.1 \nL 112.819777 143.1 \nL 112.941251 266.645455 \nL 113.028017 101.918182 \nL 113.062724 143.1 \nL 113.080077 143.1 \nL 113.201551 266.645455 \nL 113.323024 184.281818 \nL 113.340377 184.281818 \nL 113.392437 143.1 \nL 113.444497 184.281818 \nL 113.461851 266.645455 \nL 113.548617 184.281818 \nL 113.565971 225.463636 \nL 113.652737 184.281818 \nL 113.739504 184.281818 \nL 113.808917 143.1 \nL 113.774211 266.645455 \nL 113.843624 184.281818 \nL 113.860977 184.281818 \nL 113.913037 143.1 \nL 113.965097 184.281818 \nL 113.982451 225.463636 \nL 114.069217 184.281818 \nL 114.381577 184.281818 \nL 114.398931 225.463636 \nL 114.485697 184.281818 \nL 114.798058 184.281818 \nL 114.815411 225.463636 \nL 114.832764 143.1 \nL 114.902178 184.281818 \nL 114.954238 184.281818 \nL 115.093064 143.1 \nL 115.127771 266.645455 \nL 115.231891 225.463636 \nL 115.353364 143.1 \nL 115.492191 225.463636 \nL 115.613664 184.281818 \nL 115.631018 184.281818 \nL 115.648371 225.463636 \nL 115.735138 184.281818 \nL 116.047498 184.281818 \nL 116.064851 225.463636 \nL 116.151618 184.281818 \nL 116.463978 184.281818 \nL 116.585451 266.645455 \nL 116.706925 184.281818 \nL 116.932518 184.281818 \nL 117.053991 266.645455 \nL 117.175465 184.281818 \nL 117.296938 184.281818 \nL 117.314291 225.463636 \nL 117.401058 184.281818 \nL 117.713418 184.281818 \nL 117.730771 225.463636 \nL 117.800185 184.281818 \nL 117.817538 143.1 \nL 117.904305 184.281818 \nL 118.129898 184.281818 \nL 118.199311 266.645455 \nL 118.234018 184.281818 \nL 118.511672 184.281818 \nL 118.581085 143.1 \nL 118.615792 184.281818 \nL 118.962858 184.281818 \nL 118.980212 225.463636 \nL 119.066978 184.281818 \nL 119.119038 184.281818 \nL 119.136392 143.1 \nL 119.223158 184.281818 \nL 119.327278 184.281818 \nL 119.344632 266.645455 \nL 119.431398 184.281818 \nL 119.587578 184.281818 \nL 119.639638 143.1 \nL 119.761112 266.645455 \nL 119.882585 143.1 \nL 119.899938 143.1 \nL 119.969352 266.645455 \nL 120.004058 184.281818 \nL 120.090825 184.281818 \nL 120.108178 143.1 \nL 120.125532 266.645455 \nL 120.194945 184.281818 \nL 120.368479 184.281818 \nL 120.489952 266.645455 \nL 120.611425 143.1 \nL 120.628779 143.1 \nL 120.750252 266.645455 \nL 120.871725 101.918182 \nL 120.889079 101.918182 \nL 121.010552 225.463636 \nL 121.132025 101.918182 \nL 121.149379 101.918182 \nL 121.270852 225.463636 \nL 121.392325 101.918182 \nL 121.409679 101.918182 \nL 121.531152 225.463636 \nL 121.652625 101.918182 \nL 121.669979 101.918182 \nL 121.739392 225.463636 \nL 121.774099 60.736364 \nL 121.791452 184.281818 \nL 121.912925 19.554545 \nL 122.034399 184.281818 \nL 122.155872 266.645455 \nL 122.277345 184.281818 \nL 122.294699 184.281818 \nL 122.312052 225.463636 \nL 122.329406 19.554545 \nL 122.346759 19.554545 \nL 122.468232 184.281818 \nL 122.589706 60.736364 \nL 122.676472 225.463636 \nL 122.711179 101.918182 \nL 122.763239 101.918182 \nL 122.884712 225.463636 \nL 122.971479 60.736364 \nL 123.006186 101.918182 \nL 123.023539 101.918182 \nL 123.092952 225.463636 \nL 123.127659 101.918182 \nL 123.249132 225.463636 \nL 123.370606 101.918182 \nL 123.387959 101.918182 \nL 123.440019 60.736364 \nL 123.509432 266.645455 \nL 123.526786 143.1 \nL 123.630906 184.281818 \nL 123.960619 184.281818 \nL 123.977972 225.463636 \nL 124.064739 184.281818 \nL 124.220919 184.281818 \nL 124.255626 101.918182 \nL 124.290333 266.645455 \nL 124.325039 143.1 \nL 124.342393 266.645455 \nL 124.429159 184.281818 \nL 124.793579 184.281818 \nL 124.810933 225.463636 \nL 124.897699 184.281818 \nL 125.210059 184.281818 \nL 125.227413 225.463636 \nL 125.262119 143.1 \nL 125.314179 184.281818 \nL 125.383593 184.281818 \nL 125.435653 19.554545 \nL 125.470359 184.281818 \nL 125.626539 184.281818 \nL 125.643893 225.463636 \nL 125.730659 184.281818 \nL 125.990959 184.281818 \nL 126.025666 143.1 \nL 126.060373 225.463636 \nL 126.095079 184.281818 \nL 126.25126 184.281818 \nL 126.320673 266.645455 \nL 126.35538 184.281818 \nL 126.4595 184.281818 \nL 126.476853 225.463636 \nL 126.56362 184.281818 \nL 126.87598 184.281818 \nL 126.893333 225.463636 \nL 126.9801 184.281818 \nL 127.08422 184.281818 \nL 127.118926 143.1 \nL 127.205693 266.645455 \nL 127.327166 184.281818 \nL 127.55276 184.281818 \nL 127.674233 266.645455 \nL 127.795706 184.281818 \nL 127.96924 184.281818 \nL 128.038653 266.645455 \nL 128.07336 184.281818 \nL 128.33366 184.281818 \nL 128.38572 143.1 \nL 128.43778 184.281818 \nL 128.455133 266.645455 \nL 128.48984 143.1 \nL 128.5419 184.281818 \nL 128.95838 184.281818 \nL 128.975733 225.463636 \nL 129.0625 184.281818 \nL 129.21868 184.281818 \nL 129.236033 266.645455 \nL 129.3228 184.281818 \nL 129.37486 184.281818 \nL 129.392213 225.463636 \nL 129.47898 184.281818 \nL 129.89546 184.281818 \nL 129.912813 266.645455 \nL 129.99958 184.281818 \nL 130.20782 184.281818 \nL 130.225174 225.463636 \nL 130.31194 184.281818 \nL 130.41606 184.281818 \nL 130.433414 266.645455 \nL 130.450767 143.1 \nL 130.502827 184.281818 \nL 130.52018 143.1 \nL 130.606947 184.281818 \nL 130.6243 184.281818 \nL 130.641654 225.463636 \nL 130.711067 143.1 \nL 130.72842 184.281818 \nL 131.04078 184.281818 \nL 131.058134 225.463636 \nL 131.1449 184.281818 \nL 131.335787 184.281818 \nL 131.35314 143.1 \nL 131.4052 184.281818 \nL 131.422554 266.645455 \nL 131.439907 143.1 \nL 131.50932 184.281818 \nL 131.71756 184.281818 \nL 131.734914 225.463636 \nL 131.804327 184.281818 \nL 131.82168 143.1 \nL 131.908447 184.281818 \nL 132.029921 184.281818 \nL 132.064627 143.1 \nL 132.134041 184.281818 \nL 132.290221 184.281818 \nL 132.307574 225.463636 \nL 132.394341 184.281818 \nL 132.706701 184.281818 \nL 132.724054 225.463636 \nL 132.810821 184.281818 \nL 133.123181 184.281818 \nL 133.140534 225.463636 \nL 133.209947 184.281818 \nL 133.244654 266.645455 \nL 133.279361 143.1 \nL 133.296714 266.645455 \nL 133.383481 184.281818 \nL 133.487601 184.281818 \nL 133.504954 266.645455 \nL 133.591721 184.281818 \nL 133.956141 184.281818 \nL 133.973494 225.463636 \nL 134.042908 184.281818 \nL 134.060261 143.1 \nL 134.147028 184.281818 \nL 134.268501 184.281818 \nL 134.337914 266.645455 \nL 134.389974 225.463636 \nL 134.511448 184.281818 \nL 134.632921 184.281818 \nL 134.702334 266.645455 \nL 134.667628 143.1 \nL 134.737041 184.281818 \nL 134.789101 184.281818 \nL 134.806454 225.463636 \nL 134.893221 184.281818 \nL 135.136168 184.281818 \nL 135.205581 143.1 \nL 135.222934 225.463636 \nL 135.240288 184.281818 \nL 135.622061 184.281818 \nL 135.639414 225.463636 \nL 135.726181 184.281818 \nL 135.760888 143.1 \nL 135.830301 184.281818 \nL 135.865008 184.281818 \nL 135.882361 143.1 \nL 135.899715 266.645455 \nL 135.969128 184.281818 \nL 136.055895 184.281818 \nL 136.073248 143.1 \nL 136.142661 184.281818 \nL 136.194721 184.281818 \nL 136.212075 266.645455 \nL 136.298841 184.281818 \nL 136.455021 184.281818 \nL 136.472375 225.463636 \nL 136.559141 184.281818 \nL 136.767381 184.281818 \nL 136.802088 143.1 \nL 136.871501 184.281818 \nL 136.888855 225.463636 \nL 136.975621 184.281818 \nL 137.287981 184.281818 \nL 137.305335 225.463636 \nL 137.392101 184.281818 \nL 137.496221 184.281818 \nL 137.617695 266.645455 \nL 137.739168 184.281818 \nL 137.999468 184.281818 \nL 138.016822 143.1 \nL 138.068882 184.281818 \nL 138.190355 266.645455 \nL 138.311828 184.281818 \nL 138.537422 184.281818 \nL 138.554775 225.463636 \nL 138.641542 184.281818 \nL 138.797722 184.281818 \nL 138.849782 143.1 \nL 138.901842 184.281818 \nL 138.953902 184.281818 \nL 138.971255 225.463636 \nL 139.058022 184.281818 \nL 139.110082 184.281818 \nL 139.179495 266.645455 \nL 139.196848 143.1 \nL 139.214202 184.281818 \nL 139.370382 184.281818 \nL 139.387735 225.463636 \nL 139.474502 184.281818 \nL 139.561268 184.281818 \nL 139.578622 143.1 \nL 139.665388 184.281818 \nL 139.786862 184.281818 \nL 139.804215 225.463636 \nL 139.890982 184.281818 \nL 140.047162 184.281818 \nL 140.168635 266.645455 \nL 140.290109 184.281818 \nL 140.307462 184.281818 \nL 140.428935 266.645455 \nL 140.515702 143.1 \nL 140.550409 184.281818 \nL 140.567762 184.281818 \nL 140.689235 266.645455 \nL 140.810709 184.281818 \nL 140.828062 184.281818 \nL 140.845415 266.645455 \nL 140.932182 184.281818 \nL 141.036302 184.281818 \nL 141.053655 225.463636 \nL 141.140422 184.281818 \nL 141.348662 184.281818 \nL 141.366015 266.645455 \nL 141.452782 184.281818 \nL 141.470135 225.463636 \nL 141.556902 184.281818 \nL 141.608962 143.1 \nL 141.713082 101.918182 \nL 141.730436 266.645455 \nL 141.765142 143.1 \nL 141.851909 184.281818 \nL 141.869262 184.281818 \nL 141.886616 225.463636 \nL 141.973382 184.281818 \nL 142.129562 184.281818 \nL 142.164269 143.1 \nL 142.233682 184.281818 \nL 142.251036 266.645455 \nL 142.268389 143.1 \nL 142.337802 184.281818 \nL 142.441922 184.281818 \nL 142.511336 266.645455 \nL 142.528689 184.281818 \nL 142.546042 143.1 \nL 142.563396 266.645455 \nL 142.598102 184.281818 \nL 142.615456 266.645455 \nL 142.650162 143.1 \nL 142.702222 184.281818 \nL 142.719576 143.1 \nL 142.771636 266.645455 \nL 142.806342 184.281818 \nL 142.875756 266.645455 \nL 142.910462 184.281818 \nL 143.118702 184.281818 \nL 143.136056 225.463636 \nL 143.222822 184.281818 \nL 143.274882 184.281818 \nL 143.361649 143.1 \nL 143.396356 266.645455 \nL 143.517829 184.281818 \nL 143.639303 184.281818 \nL 143.674009 143.1 \nL 143.743423 184.281818 \nL 143.951663 184.281818 \nL 144.073136 266.645455 \nL 144.194609 184.281818 \nL 144.264023 184.281818 \nL 144.281376 266.645455 \nL 144.368143 184.281818 \nL 144.385496 225.463636 \nL 144.472263 184.281818 \nL 144.506969 19.554545 \nL 144.576383 184.281818 \nL 144.784623 184.281818 \nL 144.801976 225.463636 \nL 144.888743 184.281818 \nL 145.027569 184.281818 \nL 145.044923 143.1 \nL 145.062276 266.645455 \nL 145.131689 184.281818 \nL 145.201103 184.281818 \nL 145.218456 225.463636 \nL 145.305223 184.281818 \nL 145.617583 184.281818 \nL 145.634936 225.463636 \nL 145.721703 184.281818 \nL 146.034063 184.281818 \nL 146.051416 225.463636 \nL 146.138183 184.281818 \nL 146.450543 184.281818 \nL 146.467896 225.463636 \nL 146.519956 143.1 \nL 146.58937 19.554545 \nL 146.554663 184.281818 \nL 146.606723 143.1 \nL 146.74555 184.281818 \nL 146.867023 184.281818 \nL 146.884376 225.463636 \nL 146.971143 184.281818 \nL 147.283503 184.281818 \nL 147.300856 225.463636 \nL 147.387623 184.281818 \nL 147.699983 184.281818 \nL 147.717337 225.463636 \nL 147.804103 184.281818 \nL 147.873517 184.281818 \nL 147.908223 19.554545 \nL 147.960283 184.281818 \nL 147.977637 266.645455 \nL 148.064403 184.281818 \nL 148.116463 184.281818 \nL 148.133817 225.463636 \nL 148.20323 184.281818 \nL 148.25529 19.554545 \nL 148.30735 184.281818 \nL 148.532943 184.281818 \nL 148.550297 225.463636 \nL 148.637063 184.281818 \nL 148.72383 184.281818 \nL 148.77589 143.1 \nL 148.793243 184.281818 \nL 148.862657 266.645455 \nL 148.82795 143.1 \nL 148.88001 143.1 \nL 148.897363 143.1 \nL 148.966777 225.463636 \nL 149.03619 184.281818 \nL 149.365903 184.281818 \nL 149.383257 225.463636 \nL 149.470024 184.281818 \nL 149.50473 184.281818 \nL 149.522084 19.554545 \nL 149.60885 184.281818 \nL 149.782384 184.281818 \nL 149.799737 225.463636 \nL 149.886504 184.281818 \nL 149.92121 184.281818 \nL 149.938564 19.554545 \nL 150.02533 184.281818 \nL 150.198864 184.281818 \nL 150.216217 225.463636 \nL 150.302984 184.281818 \nL 150.511224 184.281818 \nL 150.65005 19.554545 \nL 150.667404 19.554545 \nL 150.736817 143.1 \nL 150.788877 101.918182 \nL 150.892997 266.645455 \nL 150.91035 184.281818 \nL 150.927704 184.281818 \nL 150.997117 266.645455 \nL 151.031824 184.281818 \nL 151.135944 184.281818 \nL 151.188004 19.554545 \nL 151.205357 266.645455 \nL 151.240064 184.281818 \nL 151.361537 266.645455 \nL 151.483011 184.281818 \nL 151.656544 184.281818 \nL 151.691251 143.1 \nL 151.760664 184.281818 \nL 151.812724 184.281818 \nL 151.847431 143.1 \nL 151.882137 225.463636 \nL 151.916844 184.281818 \nL 151.968904 184.281818 \nL 152.003611 143.1 \nL 152.073024 184.281818 \nL 152.090377 266.645455 \nL 152.107731 143.1 \nL 152.142437 143.1 \nL 152.263911 19.554545 \nL 152.385384 184.281818 \nL 152.697744 184.281818 \nL 152.715097 225.463636 \nL 152.801864 184.281818 \nL 152.853924 184.281818 \nL 152.975397 266.645455 \nL 153.096871 184.281818 \nL 153.114224 184.281818 \nL 153.235697 266.645455 \nL 153.357171 184.281818 \nL 153.374524 143.1 \nL 153.461291 184.281818 \nL 153.530704 184.281818 \nL 153.548058 225.463636 \nL 153.634824 184.281818 \nL 153.947184 184.281818 \nL 154.068658 266.645455 \nL 154.190131 184.281818 \nL 154.363664 184.281818 \nL 154.381018 225.463636 \nL 154.467784 184.281818 \nL 154.519844 184.281818 \nL 154.537198 266.645455 \nL 154.571904 143.1 \nL 154.606611 184.281818 \nL 154.676024 143.1 \nL 154.641318 266.645455 \nL 154.710731 184.281818 \nL 154.780144 184.281818 \nL 154.797498 225.463636 \nL 154.884264 184.281818 \nL 154.988384 184.281818 \nL 155.109858 266.645455 \nL 155.231331 143.1 \nL 155.352805 184.281818 \nL 155.613105 184.281818 \nL 155.630458 225.463636 \nL 155.717225 184.281818 \nL 156.029585 184.281818 \nL 156.046938 225.463636 \nL 156.133705 184.281818 \nL 156.394005 184.281818 \nL 156.411358 266.645455 \nL 156.498125 184.281818 \nL 156.689011 184.281818 \nL 156.706365 143.1 \nL 156.723718 266.645455 \nL 156.793131 184.281818 \nL 156.862545 184.281818 \nL 156.879898 225.463636 \nL 156.966665 184.281818 \nL 157.122845 184.281818 \nL 157.140198 266.645455 \nL 157.226965 184.281818 \nL 157.279025 184.281818 \nL 157.296378 225.463636 \nL 157.383145 184.281818 \nL 157.695505 184.281818 \nL 157.712858 225.463636 \nL 157.799625 184.281818 \nL 157.955805 184.281818 \nL 157.973158 266.645455 \nL 158.059925 184.281818 \nL 158.111985 184.281818 \nL 158.129338 225.463636 \nL 158.216105 184.281818 \nL 158.424345 184.281818 \nL 158.441698 266.645455 \nL 158.511112 143.1 \nL 158.528465 184.281818 \nL 158.545818 225.463636 \nL 158.632585 184.281818 \nL 158.840825 184.281818 \nL 158.858178 266.645455 \nL 158.944945 184.281818 \nL 158.962298 225.463636 \nL 159.049065 184.281818 \nL 159.361425 184.281818 \nL 159.378779 225.463636 \nL 159.465545 184.281818 \nL 159.777905 184.281818 \nL 159.795259 225.463636 \nL 159.882025 184.281818 \nL 159.934085 184.281818 \nL 159.951439 266.645455 \nL 160.038205 184.281818 \nL 160.194385 184.281818 \nL 160.263799 266.645455 \nL 160.298505 184.281818 \nL 160.333212 143.1 \nL 160.402625 184.281818 \nL 160.472039 266.645455 \nL 160.437332 143.1 \nL 160.506745 184.281818 \nL 160.610865 184.281818 \nL 160.732339 266.645455 \nL 160.853812 184.281818 \nL 161.027345 184.281818 \nL 161.044699 225.463636 \nL 161.131466 184.281818 \nL 161.339706 184.281818 \nL 161.357059 266.645455 \nL 161.443826 184.281818 \nL 161.461179 225.463636 \nL 161.547946 184.281818 \nL 161.600006 184.281818 \nL 161.652066 143.1 \nL 161.773539 266.645455 \nL 161.790892 143.1 \nL 161.895012 184.281818 \nL 161.912366 184.281818 \nL 161.929719 266.645455 \nL 162.016486 184.281818 \nL 162.276786 184.281818 \nL 162.294139 225.463636 \nL 162.380906 184.281818 \nL 162.589146 184.281818 \nL 162.606499 266.645455 \nL 162.623852 19.554545 \nL 162.658559 143.1 \nL 162.780032 19.554545 \nL 162.797386 19.554545 \nL 162.918859 266.645455 \nL 163.040333 19.554545 \nL 163.179159 266.645455 \nL 163.300633 143.1 \nL 163.317986 143.1 \nL 163.335339 266.645455 \nL 163.422106 184.281818 \nL 163.526226 184.281818 \nL 163.543579 225.463636 \nL 163.630346 184.281818 \nL 163.838586 184.281818 \nL 163.855939 266.645455 \nL 163.942706 184.281818 \nL 163.960059 225.463636 \nL 164.029473 184.281818 \nL 164.046826 143.1 \nL 164.133593 184.281818 \nL 164.359186 184.281818 \nL 164.428599 266.645455 \nL 164.463306 184.281818 \nL 164.775666 184.281818 \nL 164.793019 225.463636 \nL 164.879786 184.281818 \nL 165.192146 184.281818 \nL 165.2095 225.463636 \nL 165.296266 184.281818 \nL 165.348326 184.281818 \nL 165.41774 225.463636 \nL 165.452446 143.1 \nL 165.57392 266.645455 \nL 165.695393 143.1 \nL 165.712746 143.1 \nL 165.78216 266.645455 \nL 165.83422 225.463636 \nL 165.88628 266.645455 \nL 165.955693 101.918182 \nL 165.973046 101.918182 \nL 166.09452 266.645455 \nL 166.215993 143.1 \nL 166.233346 143.1 \nL 166.35482 266.645455 \nL 166.372173 184.281818 \nL 166.441586 184.281818 \nL 166.45894 225.463636 \nL 166.528353 143.1 \nL 166.545706 184.281818 \nL 166.597766 184.281818 \nL 166.649826 143.1 \nL 166.7713 266.645455 \nL 166.858067 143.1 \nL 166.892773 184.281818 \nL 167.118367 184.281818 \nL 167.13572 266.645455 \nL 167.222487 184.281818 \nL 167.274547 184.281818 \nL 167.2919 225.463636 \nL 167.378667 184.281818 \nL 167.482787 184.281818 \nL 167.569553 143.1 \nL 167.586907 184.281818 \nL 167.691027 184.281818 \nL 167.70838 225.463636 \nL 167.743087 143.1 \nL 167.795147 184.281818 \nL 167.91662 184.281818 \nL 167.951327 143.1 \nL 167.96868 266.645455 \nL 168.003387 184.281818 \nL 168.107507 184.281818 \nL 168.12486 225.463636 \nL 168.159567 143.1 \nL 168.211627 184.281818 \nL 168.263687 184.281818 \nL 168.298393 143.1 \nL 168.315747 184.281818 \nL 168.38516 266.645455 \nL 168.350453 143.1 \nL 168.402513 143.1 \nL 168.419867 143.1 \nL 168.43722 266.645455 \nL 168.54134 225.463636 \nL 168.610753 143.1 \nL 168.662813 184.281818 \nL 168.940467 184.281818 \nL 168.95782 225.463636 \nL 168.975174 143.1 \nL 169.044587 184.281818 \nL 169.148707 143.1 \nL 169.287534 184.281818 \nL 169.339594 184.281818 \nL 169.3743 225.463636 \nL 169.461067 143.1 \nL 169.53048 266.645455 \nL 169.599894 184.281818 \nL 169.617247 143.1 \nL 169.704014 184.281818 \nL 169.773427 184.281818 \nL 169.79078 225.463636 \nL 169.877547 184.281818 \nL 170.016374 184.281818 \nL 170.033727 143.1 \nL 170.05108 266.645455 \nL 170.120494 184.281818 \nL 170.189907 184.281818 \nL 170.20726 225.463636 \nL 170.276674 184.281818 \nL 170.398147 143.1 \nL 170.46756 266.645455 \nL 170.502267 184.281818 \nL 170.606387 184.281818 \nL 170.693154 143.1 \nL 170.727861 266.645455 \nL 170.814627 143.1 \nL 170.849334 184.281818 \nL 170.970807 184.281818 \nL 170.988161 266.645455 \nL 171.005514 143.1 \nL 171.074927 184.281818 \nL 171.439347 184.281818 \nL 171.456701 225.463636 \nL 171.543467 184.281818 \nL 171.647587 184.281818 \nL 171.664941 266.645455 \nL 171.682294 143.1 \nL 171.734354 143.1 \nL 171.751707 143.1 \nL 171.821121 266.645455 \nL 171.890534 184.281818 \nL 172.098774 184.281818 \nL 172.116127 143.1 \nL 172.202894 184.281818 \nL 172.272307 184.281818 \nL 172.289661 225.463636 \nL 172.376427 184.281818 \nL 172.688788 184.281818 \nL 172.706141 225.463636 \nL 172.792908 184.281818 \nL 172.844968 184.281818 \nL 172.879674 143.1 \nL 172.949088 184.281818 \nL 173.001148 184.281818 \nL 173.035854 143.1 \nL 173.105268 184.281818 \nL 173.122621 225.463636 \nL 173.209388 184.281818 \nL 173.521748 184.281818 \nL 173.539101 225.463636 \nL 173.625868 184.281818 \nL 173.729988 184.281818 \nL 173.764694 143.1 \nL 173.834108 184.281818 \nL 173.938228 184.281818 \nL 173.955581 225.463636 \nL 174.042348 184.281818 \nL 174.146468 184.281818 \nL 174.233234 143.1 \nL 174.250588 184.281818 \nL 174.354708 184.281818 \nL 174.372061 225.463636 \nL 174.458828 184.281818 \nL 174.771188 184.281818 \nL 174.788541 225.463636 \nL 174.875308 184.281818 \nL 175.187668 184.281818 \nL 175.205021 225.463636 \nL 175.291788 184.281818 \nL 175.343848 184.281818 \nL 175.361201 266.645455 \nL 175.447968 184.281818 \nL 175.604148 184.281818 \nL 175.621501 225.463636 \nL 175.708268 184.281818 \nL 175.760328 101.918182 \nL 175.812388 184.281818 \nL 175.916508 184.281818 \nL 175.985921 266.645455 \nL 176.020628 184.281818 \nL 176.142101 266.645455 \nL 176.228868 143.1 \nL 176.263575 184.281818 \nL 176.280928 143.1 \nL 176.367695 184.281818 \nL 176.437108 184.281818 \nL 176.558582 266.645455 \nL 176.680055 184.281818 \nL 176.853588 184.281818 \nL 176.870942 225.463636 \nL 176.957708 184.281818 \nL 177.270068 184.281818 \nL 177.287422 225.463636 \nL 177.374188 184.281818 \nL 177.460955 184.281818 \nL 177.478308 143.1 \nL 177.495662 266.645455 \nL 177.565075 184.281818 \nL 177.582428 184.281818 \nL 177.599782 266.645455 \nL 177.686548 184.281818 \nL 177.703902 225.463636 \nL 177.790668 184.281818 \nL 177.842728 184.281818 \nL 177.894788 143.1 \nL 177.964202 266.645455 \nL 178.016262 225.463636 \nL 178.068322 266.645455 \nL 178.137735 143.1 \nL 178.155088 143.1 \nL 178.276562 266.645455 \nL 178.311268 101.918182 \nL 178.398035 143.1 \nL 178.415388 143.1 \nL 178.484802 266.645455 \nL 178.519509 101.918182 \nL 178.588922 266.645455 \nL 178.640982 225.463636 \nL 178.745102 266.645455 \nL 178.762455 101.918182 \nL 178.883929 184.281818 \nL 178.935989 184.281818 \nL 178.953342 225.463636 \nL 179.040109 184.281818 \nL 179.352469 184.281818 \nL 179.369822 225.463636 \nL 179.456589 184.281818 \nL 180.029249 184.281818 \nL 180.081309 143.1 \nL 180.133369 184.281818 \nL 180.185429 184.281818 \nL 180.202782 225.463636 \nL 180.289549 184.281818 \nL 180.393669 184.281818 \nL 180.411022 266.645455 \nL 180.445729 101.918182 \nL 180.480436 101.918182 \nL 180.497789 101.918182 \nL 180.567202 266.645455 \nL 180.619262 184.281818 \nL 180.671322 266.645455 \nL 180.706029 143.1 \nL 180.827502 266.645455 \nL 180.948976 143.1 \nL 180.966329 143.1 \nL 181.087802 266.645455 \nL 181.209276 143.1 \nL 181.226629 143.1 \nL 181.348102 266.645455 \nL 181.469576 143.1 \nL 181.486929 143.1 \nL 181.608402 266.645455 \nL 181.729876 143.1 \nL 181.747229 143.1 \nL 181.816642 266.645455 \nL 181.851349 143.1 \nL 181.972822 266.645455 \nL 182.094296 143.1 \nL 182.111649 143.1 \nL 182.233122 266.645455 \nL 182.354596 143.1 \nL 182.371949 143.1 \nL 182.493423 266.645455 \nL 182.614896 143.1 \nL 182.632249 143.1 \nL 182.753723 266.645455 \nL 182.875196 143.1 \nL 182.996669 184.281818 \nL 183.100789 184.281818 \nL 183.118143 225.463636 \nL 183.187556 184.281818 \nL 183.256969 19.554545 \nL 183.274323 266.645455 \nL 183.378443 225.463636 \nL 183.430503 266.645455 \nL 183.499916 143.1 \nL 183.517269 143.1 \nL 183.638743 266.645455 \nL 183.760216 143.1 \nL 183.777569 143.1 \nL 183.794923 266.645455 \nL 183.881689 184.281818 \nL 183.933749 184.281818 \nL 183.951103 225.463636 \nL 184.037869 184.281818 \nL 184.35023 184.281818 \nL 184.367583 225.463636 \nL 184.45435 184.281818 \nL 184.645236 184.281818 \nL 184.66259 143.1 \nL 184.749356 184.281818 \nL 184.76671 184.281818 \nL 184.784063 225.463636 \nL 184.87083 184.281818 \nL 184.97495 184.281818 \nL 185.009656 101.918182 \nL 185.044363 266.645455 \nL 185.07907 184.281818 \nL 185.113776 143.1 \nL 185.18319 184.281818 \nL 185.200543 225.463636 \nL 185.23525 143.1 \nL 185.28731 184.281818 \nL 185.322016 184.281818 \nL 185.33937 143.1 \nL 185.356723 266.645455 \nL 185.426136 184.281818 \nL 185.49555 184.281818 \nL 185.512903 266.645455 \nL 185.582316 143.1 \nL 185.59967 184.281818 \nL 185.617023 225.463636 \nL 185.70379 184.281818 \nL 185.80791 184.281818 \nL 185.825263 266.645455 \nL 185.842616 143.1 \nL 185.91203 184.281818 \nL 185.946736 143.1 \nL 186.01615 184.281818 \nL 186.033503 225.463636 \nL 186.12027 184.281818 \nL 186.259097 184.281818 \nL 186.27645 143.1 \nL 186.363217 184.281818 \nL 186.43263 184.281818 \nL 186.449983 225.463636 \nL 186.53675 184.281818 \nL 186.675577 184.281818 \nL 186.710283 266.645455 \nL 186.74499 143.1 \nL 186.762343 266.645455 \nL 186.831757 101.918182 \nL 186.84911 143.1 \nL 186.970583 266.645455 \nL 187.092057 143.1 \nL 187.10941 143.1 \nL 187.126763 266.645455 \nL 187.21353 184.281818 \nL 187.26559 184.281818 \nL 187.282943 225.463636 \nL 187.36971 184.281818 \nL 187.68207 184.281818 \nL 187.699423 225.463636 \nL 187.78619 184.281818 \nL 188.09855 184.281818 \nL 188.115903 225.463636 \nL 188.20267 184.281818 \nL 188.30679 184.281818 \nL 188.376204 266.645455 \nL 188.341497 143.1 \nL 188.41091 184.281818 \nL 188.445617 143.1 \nL 188.51503 184.281818 \nL 188.653857 184.281818 \nL 188.67121 143.1 \nL 188.757977 184.281818 \nL 188.93151 184.281818 \nL 188.948864 225.463636 \nL 189.03563 184.281818 \nL 189.070337 184.281818 \nL 189.19181 143.1 \nL 189.24387 143.1 \nL 189.261224 266.645455 \nL 189.365344 225.463636 \nL 189.50417 143.1 \nL 189.60829 184.281818 \nL 189.71241 184.281818 \nL 189.747117 143.1 \nL 189.833884 266.645455 \nL 189.92065 143.1 \nL 189.955357 184.281818 \nL 190.007417 143.1 \nL 190.059477 184.281818 \nL 190.302424 184.281818 \nL 190.389191 143.1 \nL 190.528017 184.281818 \nL 190.597431 184.281818 \nL 190.614784 225.463636 \nL 190.701551 184.281818 \nL 190.909791 184.281818 \nL 190.927144 266.645455 \nL 191.013911 184.281818 \nL 191.031264 225.463636 \nL 191.118031 184.281818 \nL 191.170091 184.281818 \nL 191.204797 143.1 \nL 191.274211 184.281818 \nL 191.343624 266.645455 \nL 191.378331 184.281818 \nL 191.430391 184.281818 \nL 191.447744 225.463636 \nL 191.534511 184.281818 \nL 191.846871 184.281818 \nL 191.864224 225.463636 \nL 191.950991 184.281818 \nL 192.107171 184.281818 \nL 192.124524 143.1 \nL 192.211291 184.281818 \nL 192.263351 184.281818 \nL 192.280704 225.463636 \nL 192.367471 184.281818 \nL 192.523651 184.281818 \nL 192.645124 266.645455 \nL 192.766598 184.281818 \nL 193.096311 184.281818 \nL 193.113664 225.463636 \nL 193.200431 184.281818 \nL 193.512791 184.281818 \nL 193.530144 225.463636 \nL 193.616911 184.281818 \nL 193.668971 184.281818 \nL 193.686324 266.645455 \nL 193.773091 184.281818 \nL 193.929271 184.281818 \nL 194.050745 266.645455 \nL 194.172218 184.281818 \nL 194.345751 184.281818 \nL 194.363105 225.463636 \nL 194.449871 184.281818 \nL 194.658111 184.281818 \nL 194.675465 266.645455 \nL 194.762231 184.281818 \nL 194.883705 266.645455 \nL 195.005178 184.281818 \nL 195.022531 143.1 \nL 195.039885 266.645455 \nL 195.109298 184.281818 \nL 195.178711 184.281818 \nL 195.196065 225.463636 \nL 195.282831 184.281818 \nL 195.491071 184.281818 \nL 195.508425 266.645455 \nL 195.595191 184.281818 \nL 195.612545 225.463636 \nL 195.699311 184.281818 \nL 195.907552 184.281818 \nL 195.924905 266.645455 \nL 196.011672 184.281818 \nL 196.029025 225.463636 \nL 196.115792 184.281818 \nL 196.271972 184.281818 \nL 196.289325 266.645455 \nL 196.376092 184.281818 \nL 196.428152 184.281818 \nL 196.445505 225.463636 \nL 196.532272 184.281818 \nL 196.844632 184.281818 \nL 196.861985 225.463636 \nL 196.948752 184.281818 \nL 197.052872 184.281818 \nL 197.070225 266.645455 \nL 197.087578 143.1 \nL 197.156992 184.281818 \nL 197.261112 184.281818 \nL 197.278465 225.463636 \nL 197.365232 184.281818 \nL 197.677592 184.281818 \nL 197.694945 225.463636 \nL 197.781712 184.281818 \nL 197.885832 184.281818 \nL 197.937892 143.1 \nL 197.955245 266.645455 \nL 198.042012 184.281818 \nL 198.094072 184.281818 \nL 198.111425 225.463636 \nL 198.198192 184.281818 \nL 198.510552 184.281818 \nL 198.527905 225.463636 \nL 198.614672 184.281818 \nL 198.927032 184.281818 \nL 198.944385 225.463636 \nL 199.031152 184.281818 \nL 199.343512 184.281818 \nL 199.360865 225.463636 \nL 199.447632 184.281818 \nL 199.655872 184.281818 \nL 199.673225 266.645455 \nL 199.759992 184.281818 \nL 199.777345 225.463636 \nL 199.846759 184.281818 \nL 199.864112 143.1 \nL 199.950879 184.281818 \nL 200.176472 184.281818 \nL 200.193826 225.463636 \nL 200.280592 184.281818 \nL 200.332652 184.281818 \nL 200.402066 266.645455 \nL 200.419419 184.281818 \nL 200.436772 143.1 \nL 200.454126 266.645455 \nL 200.523539 184.281818 \nL 200.592952 184.281818 \nL 200.610306 225.463636 \nL 200.697072 184.281818 \nL 200.957372 184.281818 \nL 200.992079 19.554545 \nL 201.026786 225.463636 \nL 201.061492 184.281818 \nL 201.425912 184.281818 \nL 201.443266 225.463636 \nL 201.530032 184.281818 \nL 201.668859 184.281818 \nL 201.686212 19.554545 \nL 201.772979 184.281818 \nL 201.842393 184.281818 \nL 201.859746 225.463636 \nL 201.946513 184.281818 \nL 202.258873 184.281818 \nL 202.276226 225.463636 \nL 202.362993 184.281818 \nL 202.675353 184.281818 \nL 202.692706 225.463636 \nL 202.779473 184.281818 \nL 202.935653 184.281818 \nL 203.039773 19.554545 \nL 203.109186 225.463636 \nL 203.178599 184.281818 \nL 203.248013 184.281818 \nL 203.282719 143.1 \nL 203.352133 184.281818 \nL 203.369486 184.281818 \nL 203.386839 143.1 \nL 203.456253 184.281818 \nL 203.508313 184.281818 \nL 203.525666 225.463636 \nL 203.612433 184.281818 \nL 203.75126 184.281818 \nL 203.768613 143.1 \nL 203.785966 266.645455 \nL 203.85538 184.281818 \nL 204.341273 184.281818 \nL 204.358626 225.463636 \nL 204.445393 184.281818 \nL 204.757753 184.281818 \nL 204.775106 225.463636 \nL 204.861873 184.281818 \nL 205.174233 184.281818 \nL 205.191586 225.463636 \nL 205.278353 184.281818 \nL 205.590713 184.281818 \nL 205.608067 225.463636 \nL 205.694833 184.281818 \nL 206.007193 184.281818 \nL 206.024547 225.463636 \nL 206.111313 184.281818 \nL 206.163373 184.281818 \nL 206.284847 266.645455 \nL 206.40632 184.281818 \nL 206.423673 184.281818 \nL 206.441027 225.463636 \nL 206.527793 184.281818 \nL 206.840153 184.281818 \nL 206.857507 225.463636 \nL 206.944273 184.281818 \nL 207.048393 184.281818 \nL 207.169867 143.1 \nL 207.273987 225.463636 \nL 207.29134 184.281818 \nL 207.464873 184.281818 \nL 207.482227 225.463636 \nL 207.49958 19.554545 \nL 207.516933 19.554545 \nL 207.638407 266.645455 \nL 207.75988 184.281818 \nL 208.089594 184.281818 \nL 208.106947 225.463636 \nL 208.1243 184.281818 \nL 208.245774 19.554545 \nL 208.315187 225.463636 \nL 208.349894 184.281818 \nL 208.506074 184.281818 \nL 208.523427 225.463636 \nL 208.610194 184.281818 \nL 208.818434 184.281818 \nL 208.835787 266.645455 \nL 208.85314 101.918182 \nL 208.922554 184.281818 \nL 208.939907 225.463636 \nL 209.026674 184.281818 \nL 209.339034 184.281818 \nL 209.356387 225.463636 \nL 209.443154 184.281818 \nL 209.599334 184.281818 \nL 209.668747 266.645455 \nL 209.634041 143.1 \nL 209.686101 143.1 \nL 209.703454 143.1 \nL 209.824927 266.645455 \nL 209.963754 19.554545 \nL 210.015814 19.554545 \nL 210.137287 143.1 \nL 210.258761 19.554545 \nL 210.276114 19.554545 \nL 210.397587 143.1 \nL 210.519061 19.554545 \nL 210.536414 19.554545 \nL 210.657887 143.1 \nL 210.779361 19.554545 \nL 210.796714 19.554545 \nL 210.918187 143.1 \nL 211.039661 19.554545 \nL 211.057014 19.554545 \nL 211.126427 143.1 \nL 211.161134 19.554545 \nL 211.404081 19.554545 \nL 211.525554 184.281818 \nL 211.542908 225.463636 \nL 211.629674 184.281818 \nL 211.837914 184.281818 \nL 211.855268 225.463636 \nL 211.942034 184.281818 \nL 212.566754 184.281818 \nL 212.584108 266.645455 \nL 212.601461 101.918182 \nL 212.670874 184.281818 \nL 212.688228 225.463636 \nL 212.705581 143.1 \nL 212.774994 184.281818 \nL 213.087354 184.281818 \nL 213.104708 225.463636 \nL 213.191474 184.281818 \nL 213.243534 184.281818 \nL 213.260888 266.645455 \nL 213.330301 184.281818 \nL 213.347655 143.1 \nL 213.365008 266.645455 \nL 213.434421 184.281818 \nL 213.503835 184.281818 \nL 213.521188 225.463636 \nL 213.607955 184.281818 \nL 213.920315 184.281818 \nL 213.937668 225.463636 \nL 214.024435 184.281818 \nL 214.076495 184.281818 \nL 214.145908 266.645455 \nL 214.180615 184.281818 \nL 214.284735 184.281818 \nL 214.302088 266.645455 \nL 214.388855 184.281818 \nL 214.545035 184.281818 \nL 214.579741 101.918182 \nL 214.649155 184.281818 \nL 214.701215 184.281818 \nL 214.735921 143.1 \nL 214.770628 225.463636 \nL 214.805335 184.281818 \nL 215.117695 184.281818 \nL 215.135048 266.645455 \nL 215.204461 184.281818 \nL 215.221815 143.1 \nL 215.308582 184.281818 \nL 215.430055 184.281818 \nL 215.447408 266.645455 \nL 215.516822 143.1 \nL 215.534175 184.281818 \nL 215.586235 184.281818 \nL 215.603588 225.463636 \nL 215.673002 143.1 \nL 215.690355 184.281818 \nL 215.725062 143.1 \nL 215.742415 184.281818 \nL 215.811828 266.645455 \nL 215.794475 101.918182 \nL 215.829182 143.1 \nL 215.846535 143.1 \nL 215.915948 266.645455 \nL 215.968008 225.463636 \nL 216.089482 143.1 \nL 216.106835 143.1 \nL 216.193602 101.918182 \nL 216.228308 266.645455 \nL 216.349782 143.1 \nL 216.471255 184.281818 \nL 216.575375 184.281818 \nL 216.592728 266.645455 \nL 216.627435 143.1 \nL 216.662142 184.281818 \nL 216.731555 143.1 \nL 216.748908 266.645455 \nL 216.853028 225.463636 \nL 216.974502 184.281818 \nL 216.991855 184.281818 \nL 217.026562 143.1 \nL 217.095975 184.281818 \nL 217.200095 184.281818 \nL 217.217448 266.645455 \nL 217.304215 184.281818 \nL 217.408335 184.281818 \nL 217.425689 266.645455 \nL 217.443042 143.1 \nL 217.512455 184.281818 \nL 217.547162 184.281818 \nL 217.651282 143.1 \nL 217.685989 225.463636 \nL 217.772755 184.281818 \nL 217.824815 143.1 \nL 217.894229 266.645455 \nL 217.928935 143.1 \nL 217.980995 143.1 \nL 218.050409 266.645455 \nL 218.085115 143.1 \nL 218.206589 266.645455 \nL 218.328062 143.1 \nL 218.345415 143.1 \nL 218.466889 266.645455 \nL 218.536302 143.1 \nL 218.588362 184.281818 \nL 218.692482 184.281818 \nL 218.761895 143.1 \nL 218.779249 266.645455 \nL 218.866015 184.281818 \nL 218.918075 184.281818 \nL 218.935429 225.463636 \nL 218.970135 143.1 \nL 219.022195 184.281818 \nL 219.074255 184.281818 \nL 219.091609 266.645455 \nL 219.178376 184.281818 \nL 219.334556 184.281818 \nL 219.351909 225.463636 \nL 219.421322 184.281818 \nL 219.438676 143.1 \nL 219.525442 184.281818 \nL 219.698976 184.281818 \nL 219.733682 143.1 \nL 219.768389 225.463636 \nL 219.803096 184.281818 \nL 219.837802 184.281818 \nL 219.855156 143.1 \nL 219.941922 184.281818 \nL 220.046042 184.281818 \nL 220.167516 143.1 \nL 220.184869 225.463636 \nL 220.271636 184.281818 \nL 220.323696 184.281818 \nL 220.358402 143.1 \nL 220.427816 184.281818 \nL 220.445169 266.645455 \nL 220.479876 143.1 \nL 220.531936 184.281818 \nL 220.583996 184.281818 \nL 220.601349 225.463636 \nL 220.618702 184.281818 \nL 220.636056 19.554545 \nL 220.653409 266.645455 \nL 220.722822 184.281818 \nL 220.826942 19.554545 \nL 220.948416 184.281818 \nL 221.000476 19.554545 \nL 221.052536 184.281818 \nL 221.191363 19.554545 \nL 221.312836 184.281818 \nL 221.364896 184.281818 \nL 221.469016 19.554545 \nL 221.555783 184.281818 \nL 221.573136 19.554545 \nL 221.677256 184.281818 \nL 221.885496 19.554545 \nL 222.006969 266.645455 \nL 222.093736 19.554545 \nL 222.128443 184.281818 \nL 222.249916 184.281818 \nL 222.267269 225.463636 \nL 222.354036 184.281818 \nL 222.666396 184.281818 \nL 222.683749 225.463636 \nL 222.770516 184.281818 \nL 222.909343 184.281818 \nL 222.926696 143.1 \nL 223.013463 184.281818 \nL 223.082876 184.281818 \nL 223.10023 225.463636 \nL 223.134936 143.1 \nL 223.186996 184.281818 \nL 223.239056 184.281818 \nL 223.343176 143.1 \nL 223.482003 184.281818 \nL 223.499356 184.281818 \nL 223.51671 225.463636 \nL 223.603476 184.281818 \nL 223.655536 184.281818 \nL 223.67289 266.645455 \nL 223.690243 143.1 \nL 223.759656 184.281818 \nL 223.915836 184.281818 \nL 223.93319 225.463636 \nL 224.019956 184.281818 \nL 224.332316 184.281818 \nL 224.34967 225.463636 \nL 224.436436 184.281818 \nL 224.488496 184.281818 \nL 224.50585 266.645455 \nL 224.540556 143.1 \nL 224.592616 184.281818 \nL 224.748796 184.281818 \nL 224.76615 225.463636 \nL 224.852916 184.281818 \nL 225.165277 184.281818 \nL 225.18263 225.463636 \nL 225.269397 184.281818 \nL 225.581757 184.281818 \nL 225.59911 225.463636 \nL 225.685877 184.281818 \nL 225.720583 184.281818 \nL 225.842057 143.1 \nL 225.980883 184.281818 \nL 225.998237 184.281818 \nL 226.01559 225.463636 \nL 226.102357 184.281818 \nL 226.137063 143.1 \nL 226.206477 184.281818 \nL 226.258537 184.281818 \nL 226.293243 143.1 \nL 226.362657 184.281818 \nL 226.414717 184.281818 \nL 226.518837 19.554545 \nL 226.622957 184.281818 \nL 226.727077 184.281818 \nL 226.831197 19.554545 \nL 226.84855 225.463636 \nL 226.935317 184.281818 \nL 226.970024 184.281818 \nL 227.091497 19.554545 \nL 227.230324 184.281818 \nL 227.247677 184.281818 \nL 227.351797 19.554545 \nL 227.455917 184.281818 \nL 227.47327 143.1 \nL 227.507977 19.554545 \nL 227.594744 184.281818 \nL 227.664157 184.281818 \nL 227.68151 225.463636 \nL 227.768277 184.281818 \nL 228.028577 184.281818 \nL 228.04593 266.645455 \nL 228.063284 143.1 \nL 228.132697 184.281818 \nL 228.271524 184.281818 \nL 228.288877 143.1 \nL 228.375644 184.281818 \nL 228.445057 184.281818 \nL 228.479764 143.1 \nL 228.51447 225.463636 \nL 228.549177 184.281818 \nL 228.913597 184.281818 \nL 229.035071 266.645455 \nL 229.156544 184.281818 \nL 229.330077 184.281818 \nL 229.347431 225.463636 \nL 229.434197 184.281818 \nL 229.746557 184.281818 \nL 229.763911 225.463636 \nL 229.850677 184.281818 \nL 229.954797 184.281818 \nL 230.024211 266.645455 \nL 230.058917 143.1 \nL 230.128331 266.645455 \nL 230.163037 143.1 \nL 230.180391 184.281818 \nL 230.197744 19.554545 \nL 230.232451 143.1 \nL 230.301864 19.554545 \nL 230.319217 143.1 \nL 230.440691 266.645455 \nL 230.458044 143.1 \nL 230.562164 184.281818 \nL 230.579517 184.281818 \nL 230.596871 225.463636 \nL 230.683637 184.281818 \nL 230.718344 184.281818 \nL 230.787758 143.1 \nL 230.805111 225.463636 \nL 230.822464 184.281818 \nL 230.995998 184.281818 \nL 231.013351 225.463636 \nL 231.082764 143.1 \nL 231.100118 143.1 \nL 231.238944 184.281818 \nL 231.412478 184.281818 \nL 231.429831 225.463636 \nL 231.516598 184.281818 \nL 231.828958 184.281818 \nL 231.846311 225.463636 \nL 231.898371 143.1 \nL 231.933078 184.281818 \nL 232.071904 184.281818 \nL 232.123964 101.918182 \nL 232.106611 266.645455 \nL 232.176024 184.281818 \nL 232.245438 184.281818 \nL 232.262791 225.463636 \nL 232.349558 184.281818 \nL 232.505738 184.281818 \nL 232.540444 143.1 \nL 232.609858 184.281818 \nL 232.661918 184.281818 \nL 232.679271 225.463636 \nL 232.766038 184.281818 \nL 232.852805 184.281818 \nL 232.922218 143.1 \nL 232.887511 266.645455 \nL 232.956925 184.281818 \nL 233.078398 184.281818 \nL 233.199871 266.645455 \nL 233.321345 184.281818 \nL 233.373405 184.281818 \nL 233.390758 143.1 \nL 233.408111 266.645455 \nL 233.477525 184.281818 \nL 233.494878 184.281818 \nL 233.512231 225.463636 \nL 233.598998 184.281818 \nL 233.911358 184.281818 \nL 233.928711 225.463636 \nL 234.015478 184.281818 \nL 234.171658 184.281818 \nL 234.206365 143.1 \nL 234.275778 184.281818 \nL 234.327838 184.281818 \nL 234.345191 225.463636 \nL 234.431958 184.281818 \nL 234.588138 184.281818 \nL 234.692258 143.1 \nL 234.761672 225.463636 \nL 234.831085 184.281818 \nL 234.935205 184.281818 \nL 234.952558 143.1 \nL 235.039325 184.281818 \nL 235.160798 184.281818 \nL 235.178152 225.463636 \nL 235.264918 184.281818 \nL 235.421098 184.281818 \nL 235.542572 266.645455 \nL 235.559925 143.1 \nL 235.664045 184.281818 \nL 235.837578 184.281818 \nL 235.872285 143.1 \nL 235.941698 184.281818 \nL 235.993758 184.281818 \nL 236.011112 225.463636 \nL 236.097878 184.281818 \nL 236.410238 184.281818 \nL 236.427592 225.463636 \nL 236.514358 184.281818 \nL 236.670539 184.281818 \nL 236.705245 143.1 \nL 236.774659 184.281818 \nL 236.826719 184.281818 \nL 236.844072 225.463636 \nL 236.930839 184.281818 \nL 237.243199 184.281818 \nL 237.260552 225.463636 \nL 237.347319 184.281818 \nL 237.659679 184.281818 \nL 237.677032 225.463636 \nL 237.763799 184.281818 \nL 237.919979 184.281818 \nL 237.937332 266.645455 \nL 238.024099 184.281818 \nL 238.076159 184.281818 \nL 238.093512 225.463636 \nL 238.180279 184.281818 \nL 238.319105 184.281818 \nL 238.336459 143.1 \nL 238.423225 184.281818 \nL 238.909119 184.281818 \nL 239.030592 266.645455 \nL 239.152066 184.281818 \nL 239.325599 184.281818 \nL 239.342952 225.463636 \nL 239.429719 184.281818 \nL 239.742079 184.281818 \nL 239.759432 225.463636 \nL 239.846199 184.281818 \nL 240.158559 184.281818 \nL 240.175912 225.463636 \nL 240.262679 184.281818 \nL 240.991519 184.281818 \nL 241.008873 225.463636 \nL 241.095639 184.281818 \nL 241.303879 184.281818 \nL 241.373293 266.645455 \nL 241.338586 101.918182 \nL 241.407999 184.281818 \nL 241.425353 225.463636 \nL 241.512119 184.281818 \nL 241.668299 184.281818 \nL 241.703006 143.1 \nL 241.772419 184.281818 \nL 241.824479 184.281818 \nL 241.841833 225.463636 \nL 241.928599 184.281818 \nL 241.980659 184.281818 \nL 241.998013 266.645455 \nL 242.084779 184.281818 \nL 242.119486 184.281818 \nL 242.136839 143.1 \nL 242.223606 184.281818 \nL 242.240959 184.281818 \nL 242.258313 225.463636 \nL 242.345079 184.281818 \nL 242.431846 184.281818 \nL 242.4492 143.1 \nL 242.535966 184.281818 \nL 242.65744 184.281818 \nL 242.674793 225.463636 \nL 242.76156 184.281818 \nL 243.07392 184.281818 \nL 243.091273 225.463636 \nL 243.17804 184.281818 \nL 243.4904 184.281818 \nL 243.507753 225.463636 \nL 243.59452 184.281818 \nL 243.90688 184.281818 \nL 243.924233 225.463636 \nL 244.011 184.281818 \nL 244.2713 184.281818 \nL 244.288653 266.645455 \nL 244.306006 143.1 \nL 244.37542 184.281818 \nL 244.5316 184.281818 \nL 244.58366 101.918182 \nL 244.63572 184.281818 \nL 244.73984 184.281818 \nL 244.757193 225.463636 \nL 244.84396 184.281818 \nL 245.15632 184.281818 \nL 245.173673 225.463636 \nL 245.243087 184.281818 \nL 245.26044 143.1 \nL 245.347207 184.281818 \nL 245.399267 184.281818 \nL 245.46868 143.1 \nL 245.538093 266.645455 \nL 245.590153 225.463636 \nL 245.67692 184.281818 \nL 245.746333 266.645455 \nL 245.763687 184.281818 \nL 245.815747 143.1 \nL 245.798393 266.645455 \nL 245.867807 184.281818 \nL 245.98928 184.281818 \nL 246.006633 225.463636 \nL 246.0934 184.281818 \nL 246.40576 184.281818 \nL 246.423114 225.463636 \nL 246.50988 184.281818 \nL 246.82224 184.281818 \nL 246.839594 225.463636 \nL 246.92636 184.281818 \nL 247.03048 184.281818 \nL 247.047834 266.645455 \nL 247.065187 143.1 \nL 247.1346 184.281818 \nL 247.23872 184.281818 \nL 247.256074 225.463636 \nL 247.34284 184.281818 \nL 247.49902 184.281818 \nL 247.533727 143.1 \nL 247.55108 184.281818 \nL 247.568434 266.645455 \nL 247.585787 143.1 \nL 247.6552 184.281818 \nL 247.672554 225.463636 \nL 247.75932 184.281818 \nL 248.07168 184.281818 \nL 248.089034 225.463636 \nL 248.1758 184.281818 \nL 248.331981 184.281818 \nL 248.401394 266.645455 \nL 248.436101 184.281818 \nL 248.488161 184.281818 \nL 248.505514 225.463636 \nL 248.592281 184.281818 \nL 248.748461 184.281818 \nL 248.765814 266.645455 \nL 248.852581 184.281818 \nL 248.904641 184.281818 \nL 248.974054 266.645455 \nL 249.008761 184.281818 \nL 249.321121 184.281818 \nL 249.338474 225.463636 \nL 249.425241 184.281818 \nL 249.789661 184.281818 \nL 249.911134 266.645455 \nL 250.032607 184.281818 \nL 250.154081 184.281818 \nL 250.171434 225.463636 \nL 250.258201 184.281818 \nL 250.414381 184.281818 \nL 250.449088 143.1 \nL 250.518501 184.281818 \nL 250.570561 184.281818 \nL 250.587914 225.463636 \nL 250.674681 184.281818 \nL 250.987041 184.281818 \nL 251.004394 225.463636 \nL 251.091161 184.281818 \nL 251.195281 184.281818 \nL 251.212634 266.645455 \nL 251.229988 143.1 \nL 251.299401 184.281818 \nL 251.403521 184.281818 \nL 251.420874 225.463636 \nL 251.507641 184.281818 \nL 251.559701 184.281818 \nL 251.611761 143.1 \nL 251.629114 266.645455 \nL 251.715881 184.281818 \nL 251.820001 184.281818 \nL 251.837354 225.463636 \nL 251.924121 184.281818 \nL 252.236481 184.281818 \nL 252.305895 266.645455 \nL 252.288541 143.1 \nL 252.340601 184.281818 \nL 252.548841 184.281818 \nL 252.618255 266.645455 \nL 252.652961 184.281818 \nL 252.705021 184.281818 \nL 252.826495 266.645455 \nL 252.947968 184.281818 \nL 252.965321 184.281818 \nL 253.034735 266.645455 \nL 253.069441 184.281818 \nL 253.121501 184.281818 \nL 253.242975 266.645455 \nL 253.364448 184.281818 \nL 253.485921 184.281818 \nL 253.503275 225.463636 \nL 253.590041 184.281818 \nL 253.694161 184.281818 \nL 253.832988 143.1 \nL 253.850341 143.1 \nL 253.971815 266.645455 \nL 254.093288 143.1 \nL 254.110642 143.1 \nL 254.127995 266.645455 \nL 254.145348 101.918182 \nL 254.214762 101.918182 \nL 254.336235 225.463636 \nL 254.353588 184.281818 \nL 254.509768 184.281818 \nL 254.561828 143.1 \nL 254.544475 266.645455 \nL 254.613888 184.281818 \nL 254.631242 184.281818 \nL 254.648595 266.645455 \nL 254.665948 143.1 \nL 254.718008 184.281818 \nL 254.735362 143.1 \nL 254.752715 225.463636 \nL 254.822128 184.281818 \nL 254.995662 184.281818 \nL 255.013015 266.645455 \nL 255.082428 143.1 \nL 255.099782 184.281818 \nL 255.151842 184.281818 \nL 255.169195 225.463636 \nL 255.255962 184.281818 \nL 255.342728 184.281818 \nL 255.446848 143.1 \nL 255.550968 184.281818 \nL 255.568322 143.1 \nL 255.585675 225.463636 \nL 255.655088 184.281818 \nL 255.759208 184.281818 \nL 255.793915 266.645455 \nL 255.880682 143.1 \nL 255.915388 143.1 \nL 256.002155 225.463636 \nL 256.036862 184.281818 \nL 256.245102 184.281818 \nL 256.279809 143.1 \nL 256.297162 184.281818 \nL 256.314515 266.645455 \nL 256.331869 143.1 \nL 256.401282 184.281818 \nL 256.505402 19.554545 \nL 256.644229 184.281818 \nL 256.713642 19.554545 \nL 256.678935 225.463636 \nL 256.748349 143.1 \nL 256.817762 184.281818 \nL 256.921882 19.554545 \nL 256.991295 266.645455 \nL 257.043355 143.1 \nL 257.130122 19.554545 \nL 257.251595 225.463636 \nL 257.338362 19.554545 \nL 257.459835 266.645455 \nL 257.494542 19.554545 \nL 257.546602 143.1 \nL 257.581309 184.281818 \nL 257.633369 19.554545 \nL 257.668075 225.463636 \nL 257.685429 184.281818 \nL 257.737489 184.281818 \nL 257.858962 19.554545 \nL 257.928376 266.645455 \nL 257.980436 143.1 \nL 258.101909 19.554545 \nL 258.119262 19.554545 \nL 258.240736 143.1 \nL 258.310149 184.281818 \nL 258.327502 143.1 \nL 258.379562 143.1 \nL 258.501036 225.463636 \nL 258.518389 184.281818 \nL 258.639862 184.281818 \nL 258.761336 266.645455 \nL 258.848102 101.918182 \nL 258.882809 143.1 \nL 258.917516 225.463636 \nL 259.004282 184.281818 \nL 259.056342 101.918182 \nL 259.108402 184.281818 \nL 259.125756 266.645455 \nL 259.195169 184.281818 \nL 259.212522 143.1 \nL 259.299289 184.281818 \nL 259.316642 184.281818 \nL 259.438116 266.645455 \nL 259.507529 143.1 \nL 259.559589 184.281818 \nL 259.594296 266.645455 \nL 259.629002 143.1 \nL 259.698416 266.645455 \nL 259.733122 143.1 \nL 259.854596 266.645455 \nL 259.889303 143.1 \nL 259.976069 184.281818 \nL 260.045483 184.281818 \nL 260.080189 143.1 \nL 260.149603 184.281818 \nL 260.271076 266.645455 \nL 260.392549 184.281818 \nL 260.861089 184.281818 \nL 260.913149 143.1 \nL 260.965209 184.281818 \nL 260.982563 184.281818 \nL 260.999916 225.463636 \nL 261.086683 184.281818 \nL 261.138743 184.281818 \nL 261.156096 266.645455 \nL 261.242863 184.281818 \nL 261.399043 184.281818 \nL 261.416396 225.463636 \nL 261.503163 184.281818 \nL 261.815523 184.281818 \nL 261.832876 225.463636 \nL 261.85023 143.1 \nL 261.919643 184.281818 \nL 262.232003 184.281818 \nL 262.249356 225.463636 \nL 262.336123 184.281818 \nL 262.648483 184.281818 \nL 262.665836 225.463636 \nL 262.752603 184.281818 \nL 262.804663 184.281818 \nL 262.874076 266.645455 \nL 262.83937 101.918182 \nL 262.89143 143.1 \nL 262.908783 143.1 \nL 262.926136 266.645455 \nL 263.012903 184.281818 \nL 263.064963 184.281818 \nL 263.134376 225.463636 \nL 263.15173 143.1 \nL 263.169083 143.1 \nL 263.186436 225.463636 \nL 263.273203 184.281818 \nL 263.481443 184.281818 \nL 263.498796 225.463636 \nL 263.585563 184.281818 \nL 263.72439 184.281818 \nL 263.741743 143.1 \nL 263.793803 184.281818 \nL 263.811157 266.645455 \nL 263.82851 143.1 \nL 263.897923 184.281818 \nL 263.915277 225.463636 \nL 264.002043 184.281818 \nL 264.14087 184.281818 \nL 264.19293 101.918182 \nL 264.175577 266.645455 \nL 264.210283 143.1 \nL 264.279697 266.645455 \nL 264.24499 101.918182 \nL 264.314403 143.1 \nL 264.383817 266.645455 \nL 264.40117 101.918182 \nL 264.435877 225.463636 \nL 264.45323 101.918182 \nL 264.487937 266.645455 \nL 264.522643 143.1 \nL 264.66147 184.281818 \nL 264.730883 184.281818 \nL 264.748237 225.463636 \nL 264.835003 184.281818 \nL 264.991183 184.281818 \nL 265.008537 266.645455 \nL 265.095303 184.281818 \nL 265.13001 184.281818 \nL 265.147363 143.1 \nL 265.164717 225.463636 \nL 265.23413 184.281818 \nL 265.459723 184.281818 \nL 265.529137 266.645455 \nL 265.563843 184.281818 \nL 265.581197 225.463636 \nL 265.667964 184.281818 \nL 265.980324 184.281818 \nL 265.997677 225.463636 \nL 266.084444 184.281818 \nL 266.27533 184.281818 \nL 266.37945 143.1 \nL 266.466217 266.645455 \nL 266.414157 60.736364 \nL 266.500924 184.281818 \nL 266.813284 184.281818 \nL 266.830637 225.463636 \nL 266.917404 184.281818 \nL 267.16035 184.281818 \nL 267.177704 143.1 \nL 267.26447 184.281818 \nL 267.646244 184.281818 \nL 267.663597 225.463636 \nL 267.750364 184.281818 \nL 267.906544 184.281818 \nL 267.923897 266.645455 \nL 267.941251 143.1 \nL 268.010664 184.281818 \nL 268.062724 184.281818 \nL 268.080077 225.463636 \nL 268.166844 184.281818 \nL 268.323024 184.281818 \nL 268.392437 266.645455 \nL 268.409791 143.1 \nL 268.427144 184.281818 \nL 268.739504 184.281818 \nL 268.791564 143.1 \nL 268.808917 266.645455 \nL 268.913037 225.463636 \nL 268.930391 143.1 \nL 268.999804 184.281818 \nL 269.312164 184.281818 \nL 269.329517 225.463636 \nL 269.416284 184.281818 \nL 269.503051 184.281818 \nL 269.520404 143.1 \nL 269.607171 184.281818 \nL 269.728644 184.281818 \nL 269.798058 266.645455 \nL 269.763351 143.1 \nL 269.832764 184.281818 \nL 270.301304 184.281818 \nL 270.370718 266.645455 \nL 270.388071 101.918182 \nL 270.405424 101.918182 \nL 270.474838 266.645455 \nL 270.509544 184.281818 \nL 270.544251 184.281818 \nL 270.561604 143.1 \nL 270.578958 225.463636 \nL 270.648371 184.281818 \nL 270.821904 184.281818 \nL 270.839258 266.645455 \nL 270.926024 184.281818 \nL 270.978084 184.281818 \nL 270.995438 225.463636 \nL 271.082204 184.281818 \nL 271.221031 184.281818 \nL 271.290444 143.1 \nL 271.325151 184.281818 \nL 271.342504 184.281818 \nL 271.377211 143.1 \nL 271.411918 225.463636 \nL 271.446624 184.281818 \nL 271.706925 184.281818 \nL 271.741631 143.1 \nL 271.811045 184.281818 \nL 271.828398 225.463636 \nL 271.915165 184.281818 \nL 272.227525 184.281818 \nL 272.244878 225.463636 \nL 272.331645 184.281818 \nL 272.644005 184.281818 \nL 272.661358 225.463636 \nL 272.748125 184.281818 \nL 272.956365 184.281818 \nL 272.973718 266.645455 \nL 273.043131 143.1 \nL 273.060485 184.281818 \nL 273.077838 225.463636 \nL 273.095191 143.1 \nL 273.164605 184.281818 \nL 273.268725 184.281818 \nL 273.286078 266.645455 \nL 273.372845 184.281818 \nL 273.424905 184.281818 \nL 273.494318 225.463636 \nL 273.529025 143.1 \nL 273.546378 266.645455 \nL 273.633145 184.281818 \nL 273.910798 184.281818 \nL 273.962858 266.645455 \nL 273.997565 143.1 \nL 274.136392 184.281818 \nL 274.153745 184.281818 \nL 274.188452 143.1 \nL 274.257865 184.281818 \nL 274.344632 184.281818 \nL 274.379338 266.645455 \nL 274.414045 143.1 \nL 274.431398 266.645455 \nL 274.518165 184.281818 \nL 274.778465 184.281818 \nL 274.813172 143.1 \nL 274.882585 184.281818 \nL 275.038765 184.281818 \nL 275.073472 143.1 \nL 275.090825 184.281818 \nL 275.108178 266.645455 \nL 275.177592 143.1 \nL 275.194945 143.1 \nL 275.264358 266.645455 \nL 275.299065 184.281818 \nL 275.489952 184.281818 \nL 275.507305 143.1 \nL 275.524659 266.645455 \nL 275.594072 184.281818 \nL 275.958492 184.281818 \nL 275.975845 143.1 \nL 275.993199 225.463636 \nL 276.062612 184.281818 \nL 276.218792 184.281818 \nL 276.236145 143.1 \nL 276.322912 184.281818 \nL 276.392325 184.281818 \nL 276.409679 225.463636 \nL 276.444385 143.1 \nL 276.496445 184.281818 \nL 276.635272 184.281818 \nL 276.687332 143.1 \nL 276.669979 266.645455 \nL 276.739392 184.281818 \nL 276.808805 184.281818 \nL 276.826159 225.463636 \nL 276.912925 184.281818 \nL 277.051752 184.281818 \nL 277.103812 143.1 \nL 277.155872 184.281818 \nL 277.468232 184.281818 \nL 277.485586 143.1 \nL 277.537646 184.281818 \nL 277.554999 266.645455 \nL 277.641766 184.281818 \nL 277.884712 184.281818 \nL 277.954126 143.1 \nL 277.988832 184.281818 \nL 278.058246 184.281818 \nL 278.075599 225.463636 \nL 278.162366 184.281818 \nL 278.301192 184.281818 \nL 278.318546 143.1 \nL 278.405312 184.281818 \nL 278.474726 184.281818 \nL 278.492079 225.463636 \nL 278.578846 184.281818 \nL 278.717672 184.281818 \nL 278.821792 143.1 \nL 278.908559 225.463636 \nL 278.943266 184.281818 \nL 279.134152 184.281818 \nL 279.220919 225.463636 \nL 279.255626 143.1 \nL 279.325039 225.463636 \nL 279.394453 184.281818 \nL 279.550633 184.281818 \nL 279.567986 101.918182 \nL 279.654753 184.281818 \nL 279.672106 184.281818 \nL 279.706813 60.736364 \nL 279.776226 143.1 \nL 279.793579 266.645455 \nL 279.862993 101.918182 \nL 279.880346 101.918182 \nL 280.001819 266.645455 \nL 280.019173 184.281818 \nL 280.088586 184.281818 \nL 280.157999 225.463636 \nL 280.192706 101.918182 \nL 280.210059 225.463636 \nL 280.296826 184.281818 \nL 280.348886 143.1 \nL 280.366239 266.645455 \nL 280.453006 184.281818 \nL 280.557126 184.281818 \nL 280.574479 225.463636 \nL 280.591833 19.554545 \nL 280.609186 19.554545 \nL 280.730659 143.1 \nL 280.852133 19.554545 \nL 280.973606 184.281818 \nL 281.216553 184.281818 \nL 281.233906 143.1 \nL 281.285966 184.281818 \nL 281.30332 266.645455 \nL 281.320673 143.1 \nL 281.390086 184.281818 \nL 281.4595 266.645455 \nL 281.476853 143.1 \nL 281.494206 184.281818 \nL 281.633033 184.281818 \nL 281.650386 143.1 \nL 281.737153 184.281818 \nL 281.806566 184.281818 \nL 281.82392 60.736364 \nL 281.910686 184.281818 \nL 282.049513 184.281818 \nL 282.066866 143.1 \nL 282.08422 266.645455 \nL 282.153633 184.281818 \nL 282.223046 184.281818 \nL 282.29246 266.645455 \nL 282.275106 143.1 \nL 282.327166 184.281818 \nL 282.413933 184.281818 \nL 282.483346 143.1 \nL 282.518053 184.281818 \nL 282.587466 184.281818 \nL 282.60482 266.645455 \nL 282.639526 143.1 \nL 282.674233 143.1 \nL 282.691586 143.1 \nL 282.81306 266.645455 \nL 282.899826 101.918182 \nL 282.934533 143.1 \nL 282.951886 143.1 \nL 283.090713 184.281818 \nL 283.298953 184.281818 \nL 283.316307 101.918182 \nL 283.33366 266.645455 \nL 283.403073 143.1 \nL 283.48984 225.463636 \nL 283.524547 184.281818 \nL 283.680727 184.281818 \nL 283.732787 143.1 \nL 283.75014 266.645455 \nL 283.836907 184.281818 \nL 283.871613 184.281818 \nL 283.941027 143.1 \nL 284.01044 266.645455 \nL 284.045147 143.1 \nL 284.183973 184.281818 \nL 284.236033 184.281818 \nL 284.253387 143.1 \nL 284.3228 225.463636 \nL 284.340153 184.281818 \nL 284.548393 184.281818 \nL 284.652513 143.1 \nL 284.73928 225.463636 \nL 284.773987 184.281818 \nL 284.8434 266.645455 \nL 284.878107 143.1 \nL 284.912813 184.281818 \nL 284.930167 143.1 \nL 284.982227 101.918182 \nL 285.086347 184.281818 \nL 285.190467 143.1 \nL 285.20782 266.645455 \nL 285.294587 184.281818 \nL 285.346647 184.281818 \nL 285.41606 266.645455 \nL 285.398707 143.1 \nL 285.450767 184.281818 \nL 285.554887 184.281818 \nL 285.57224 225.463636 \nL 285.659007 184.281818 \nL 285.763127 184.281818 \nL 285.815187 143.1 \nL 285.8846 266.645455 \nL 285.919307 184.281818 \nL 285.971367 184.281818 \nL 285.98872 225.463636 \nL 286.075487 184.281818 \nL 286.127547 184.281818 \nL 286.1449 266.645455 \nL 286.214314 184.281818 \nL 286.231667 143.1 \nL 286.283727 184.281818 \nL 286.30108 266.645455 \nL 286.387847 184.281818 \nL 286.4052 225.463636 \nL 286.491967 184.281818 \nL 286.630794 184.281818 \nL 286.648147 143.1 \nL 286.734914 184.281818 \nL 286.804327 184.281818 \nL 286.82168 225.463636 \nL 286.908447 184.281818 \nL 287.047274 184.281818 \nL 287.064627 143.1 \nL 287.151394 184.281818 \nL 287.220807 184.281818 \nL 287.238161 225.463636 \nL 287.324927 184.281818 \nL 287.463754 184.281818 \nL 287.481107 143.1 \nL 287.567874 184.281818 \nL 287.637287 184.281818 \nL 287.654641 225.463636 \nL 287.741407 184.281818 \nL 287.793467 184.281818 \nL 287.897587 143.1 \nL 288.036414 184.281818 \nL 288.053767 184.281818 \nL 288.071121 225.463636 \nL 288.157887 184.281818 \nL 288.244654 184.281818 \nL 288.348774 143.1 \nL 288.383481 266.645455 \nL 288.487601 225.463636 \nL 288.574367 184.281818 \nL 288.591721 266.645455 \nL 288.609074 143.1 \nL 288.678487 184.281818 \nL 288.713194 184.281818 \nL 288.730547 143.1 \nL 288.817314 184.281818 \nL 288.886727 184.281818 \nL 288.904081 225.463636 \nL 288.990848 184.281818 \nL 289.129674 184.281818 \nL 289.147028 143.1 \nL 289.233794 184.281818 \nL 289.303208 184.281818 \nL 289.320561 225.463636 \nL 289.407328 184.281818 \nL 289.546154 184.281818 \nL 289.650274 143.1 \nL 289.737041 225.463636 \nL 289.771748 184.281818 \nL 289.910574 184.281818 \nL 289.979988 143.1 \nL 290.014694 184.281818 \nL 290.084108 184.281818 \nL 290.101461 266.645455 \nL 290.188228 184.281818 \nL 290.379114 184.281818 \nL 290.396468 143.1 \nL 290.483234 184.281818 \nL 290.552648 184.281818 \nL 290.570001 225.463636 \nL 290.639414 184.281818 \nL 290.708828 143.1 \nL 290.743534 184.281818 \nL 290.795594 184.281818 \nL 290.847655 143.1 \nL 290.830301 266.645455 \nL 290.899715 184.281818 \nL 290.969128 184.281818 \nL 290.986481 225.463636 \nL 291.073248 184.281818 \nL 291.212075 184.281818 \nL 291.316195 143.1 \nL 291.402961 225.463636 \nL 291.437668 184.281818 \nL 291.628555 184.281818 \nL 291.645908 143.1 \nL 291.732675 184.281818 \nL 291.802088 184.281818 \nL 291.819441 225.463636 \nL 291.906208 184.281818 \nL 291.992975 184.281818 \nL 292.062388 143.1 \nL 292.097095 184.281818 \nL 292.235921 184.281818 \nL 292.287981 225.463636 \nL 292.322688 143.1 \nL 292.444161 266.645455 \nL 292.478868 101.918182 \nL 292.565635 184.281818 \nL 292.635048 184.281818 \nL 292.652401 225.463636 \nL 292.739168 184.281818 \nL 292.877995 184.281818 \nL 292.895348 143.1 \nL 292.982115 184.281818 \nL 293.051528 184.281818 \nL 293.068882 225.463636 \nL 293.155648 184.281818 \nL 293.294475 184.281818 \nL 293.311828 143.1 \nL 293.398595 184.281818 \nL 293.468008 184.281818 \nL 293.485362 225.463636 \nL 293.572128 184.281818 \nL 293.884488 184.281818 \nL 293.901842 225.463636 \nL 293.936548 143.1 \nL 293.988608 184.281818 \nL 294.300968 184.281818 \nL 294.318322 225.463636 \nL 294.405088 184.281818 \nL 294.509208 184.281818 \nL 294.561268 143.1 \nL 294.630682 266.645455 \nL 294.665388 184.281818 \nL 294.717448 184.281818 \nL 294.734802 225.463636 \nL 294.821569 184.281818 \nL 294.925689 184.281818 \nL 294.943042 266.645455 \nL 294.977749 19.554545 \nL 295.029809 184.281818 \nL 295.133929 184.281818 \nL 295.151282 225.463636 \nL 295.238049 184.281818 \nL 295.498349 184.281818 \nL 295.567762 225.463636 \nL 295.654529 19.554545 \nL 295.758649 184.281818 \nL 295.810709 184.281818 \nL 295.845415 143.1 \nL 295.914829 184.281818 \nL 295.966889 184.281818 \nL 295.984242 225.463636 \nL 296.071009 184.281818 \nL 296.175129 184.281818 \nL 296.192482 266.645455 \nL 296.279249 184.281818 \nL 296.383369 184.281818 \nL 296.452782 266.645455 \nL 296.487489 184.281818 \nL 296.591609 184.281818 \nL 296.661022 225.463636 \nL 296.695729 143.1 \nL 296.765142 266.645455 \nL 296.817202 225.463636 \nL 296.938676 184.281818 \nL 296.956029 184.281818 \nL 297.008089 143.1 \nL 297.129562 266.645455 \nL 297.251036 143.1 \nL 297.268389 143.1 \nL 297.389862 266.645455 \nL 297.511336 143.1 \nL 297.528689 143.1 \nL 297.598102 266.645455 \nL 297.632809 143.1 \nL 297.684869 143.1 \nL 297.806342 266.645455 \nL 297.927816 184.281818 \nL 298.049289 184.281818 \nL 298.066642 225.463636 \nL 298.153409 184.281818 \nL 298.240176 184.281818 \nL 298.257529 143.1 \nL 298.344296 184.281818 \nL 298.465769 184.281818 \nL 298.483122 225.463636 \nL 298.569889 184.281818 \nL 298.778129 184.281818 \nL 298.812836 143.1 \nL 298.882249 184.281818 \nL 298.899603 225.463636 \nL 298.986369 184.281818 \nL 299.298729 184.281818 \nL 299.316083 225.463636 \nL 299.402849 184.281818 \nL 299.715209 184.281818 \nL 299.732563 225.463636 \nL 299.819329 184.281818 \nL 299.975509 184.281818 \nL 300.044923 266.645455 \nL 300.079629 184.281818 \nL 300.131689 143.1 \nL 300.183749 184.281818 \nL 300.374636 184.281818 \nL 300.391989 143.1 \nL 300.478756 184.281818 \nL 300.54817 184.281818 \nL 300.565523 225.463636 \nL 300.65229 184.281818 \nL 300.80847 184.281818 \nL 300.825823 266.645455 \nL 300.895236 143.1 \nL 300.91259 184.281818 \nL 300.96465 184.281818 \nL 300.982003 225.463636 \nL 301.06877 184.281818 \nL 301.12083 184.281818 \nL 301.155536 19.554545 \nL 301.22495 184.281818 \nL 301.38113 184.281818 \nL 301.398483 225.463636 \nL 301.48525 184.281818 \nL 302.21409 184.281818 \nL 302.231443 225.463636 \nL 302.31821 184.281818 \nL 302.63057 184.281818 \nL 302.647923 225.463636 \nL 302.73469 184.281818 \nL 303.04705 184.281818 \nL 303.064403 225.463636 \nL 303.15117 184.281818 \nL 303.30735 184.281818 \nL 303.324703 266.645455 \nL 303.41147 184.281818 \nL 303.46353 184.281818 \nL 303.480883 225.463636 \nL 303.56765 184.281818 \nL 303.82795 184.281818 \nL 303.845303 266.645455 \nL 303.93207 184.281818 \nL 304.29649 184.281818 \nL 304.313843 225.463636 \nL 304.34855 143.1 \nL 304.40061 184.281818 \nL 304.50473 184.281818 \nL 304.539437 143.1 \nL 304.60885 184.281818 \nL 304.71297 184.281818 \nL 304.730324 225.463636 \nL 304.81709 184.281818 \nL 305.12945 184.281818 \nL 305.198864 266.645455 \nL 305.23357 184.281818 \nL 305.44181 184.281818 \nL 305.459164 266.645455 \nL 305.476517 143.1 \nL 305.54593 184.281818 \nL 305.563284 225.463636 \nL 305.65005 184.281818 \nL 305.75417 184.281818 \nL 305.80623 143.1 \nL 305.823584 266.645455 \nL 305.91035 184.281818 \nL 305.96241 184.281818 \nL 305.979764 225.463636 \nL 306.06653 184.281818 \nL 306.22271 184.281818 \nL 306.240064 266.645455 \nL 306.32683 184.281818 \nL 306.378891 184.281818 \nL 306.396244 225.463636 \nL 306.483011 184.281818 \nL 306.691251 184.281818 \nL 306.760664 266.645455 \nL 306.725957 143.1 \nL 306.795371 184.281818 \nL 306.812724 225.463636 \nL 306.899491 184.281818 \nL 307.090377 184.281818 \nL 307.125084 266.645455 \nL 307.159791 143.1 \nL 307.177144 266.645455 \nL 307.263911 184.281818 \nL 307.350677 184.281818 \nL 307.368031 143.1 \nL 307.454797 184.281818 \nL 307.524211 184.281818 \nL 307.541564 266.645455 \nL 307.628331 184.281818 \nL 307.784511 184.281818 \nL 307.801864 225.463636 \nL 307.871277 184.281818 \nL 307.992751 143.1 \nL 308.010104 266.645455 \nL 308.096871 184.281818 \nL 308.305111 184.281818 \nL 308.339818 143.1 \nL 308.409231 184.281818 \nL 308.461291 184.281818 \nL 308.478644 225.463636 \nL 308.565411 184.281818 \nL 308.721591 184.281818 \nL 308.756298 143.1 \nL 308.825711 184.281818 \nL 308.877771 184.281818 \nL 308.999244 266.645455 \nL 309.120718 184.281818 \nL 309.138071 184.281818 \nL 309.155424 266.645455 \nL 309.172778 19.554545 \nL 309.224838 184.281818 \nL 309.242191 143.1 \nL 309.328958 184.281818 \nL 309.502491 184.281818 \nL 309.537198 143.1 \nL 309.554551 184.281818 \nL 309.571904 266.645455 \nL 309.589258 143.1 \nL 309.658671 184.281818 \nL 309.710731 184.281818 \nL 309.728084 225.463636 \nL 309.814851 184.281818 \nL 310.127211 184.281818 \nL 310.144564 225.463636 \nL 310.231331 184.281818 \nL 310.543691 184.281818 \nL 310.561045 225.463636 \nL 310.647811 184.281818 \nL 310.960171 184.281818 \nL 311.029585 266.645455 \nL 311.064291 184.281818 \nL 311.272531 184.281818 \nL 311.376651 19.554545 \nL 311.394005 225.463636 \nL 311.480771 184.281818 \nL 311.584891 184.281818 \nL 311.602245 266.645455 \nL 311.689011 184.281818 \nL 311.793131 184.281818 \nL 311.810485 225.463636 \nL 311.897251 184.281818 \nL 312.626092 184.281818 \nL 312.643445 225.463636 \nL 312.730212 184.281818 \nL 313.042572 184.281818 \nL 313.059925 225.463636 \nL 313.146692 184.281818 \nL 313.354932 184.281818 \nL 313.372285 266.645455 \nL 313.459052 184.281818 \nL 313.476405 225.463636 \nL 313.563172 184.281818 \nL 313.667292 184.281818 \nL 313.719352 143.1 \nL 313.771412 184.281818 \nL 313.823472 184.281818 \nL 313.858178 143.1 \nL 313.892885 225.463636 \nL 313.927592 184.281818 \nL 314.292012 184.281818 \nL 314.309365 225.463636 \nL 314.326719 143.1 \nL 314.396132 184.281818 \nL 314.552312 184.281818 \nL 314.604372 19.554545 \nL 314.656432 184.281818 \nL 314.708492 184.281818 \nL 314.725845 225.463636 \nL 314.812612 184.281818 \nL 315.124972 184.281818 \nL 315.142325 225.463636 \nL 315.229092 184.281818 \nL 315.263799 184.281818 \nL 315.281152 143.1 \nL 315.367919 184.281818 \nL 315.419979 184.281818 \nL 315.437332 143.1 \nL 315.524099 184.281818 \nL 315.541452 184.281818 \nL 315.558805 225.463636 \nL 315.645572 184.281818 \nL 315.680279 101.918182 \nL 315.714985 266.645455 \nL 315.749692 143.1 \nL 315.871165 266.645455 \nL 315.957932 143.1 \nL 315.992639 184.281818 \nL 316.062052 184.281818 \nL 316.096759 143.1 \nL 316.114112 184.281818 \nL 316.131466 266.645455 \nL 316.218232 184.281818 \nL 316.374412 184.281818 \nL 316.391766 225.463636 \nL 316.478532 184.281818 \nL 316.738832 184.281818 \nL 316.756186 266.645455 \nL 316.842952 184.281818 \nL 316.929719 184.281818 \nL 316.964426 266.645455 \nL 316.999132 143.1 \nL 317.016486 266.645455 \nL 317.103252 184.281818 \nL 317.155312 184.281818 \nL 317.224726 225.463636 \nL 317.294139 143.1 \nL 317.398259 184.281818 \nL 317.415612 143.1 \nL 317.467672 184.281818 \nL 317.485026 266.645455 \nL 317.571792 184.281818 \nL 317.623852 184.281818 \nL 317.641206 225.463636 \nL 317.727972 184.281818 \nL 317.866799 184.281818 \nL 317.884152 143.1 \nL 317.936212 184.281818 \nL 317.953566 266.645455 \nL 317.970919 143.1 \nL 318.040333 184.281818 \nL 318.057686 225.463636 \nL 318.144453 184.281818 \nL 318.300633 184.281818 \nL 318.335339 143.1 \nL 318.404753 184.281818 \nL 318.526226 266.645455 \nL 318.647699 184.281818 \nL 318.873293 184.281818 \nL 318.890646 225.463636 \nL 318.960059 143.1 \nL 318.977413 184.281818 \nL 319.081533 143.1 \nL 319.220359 184.281818 \nL 319.289773 184.281818 \nL 319.307126 225.463636 \nL 319.376539 184.281818 \nL 319.445953 143.1 \nL 319.480659 184.281818 \nL 319.550073 184.281818 \nL 319.567426 266.645455 \nL 319.654193 184.281818 \nL 319.706253 184.281818 \nL 319.723606 225.463636 \nL 319.810373 184.281818 \nL 320.018613 184.281818 \nL 320.035966 266.645455 \nL 320.122733 184.281818 \nL 320.140086 225.463636 \nL 320.226853 184.281818 \nL 320.31362 184.281818 \nL 320.330973 143.1 \nL 320.41774 184.281818 \nL 320.539213 184.281818 \nL 320.608626 266.645455 \nL 320.57392 143.1 \nL 320.643333 184.281818 \nL 320.799513 184.281818 \nL 320.816866 266.645455 \nL 320.903633 184.281818 \nL 320.955693 184.281818 \nL 320.973046 225.463636 \nL 321.059813 184.281818 \nL 321.111873 184.281818 \nL 321.129226 266.645455 \nL 321.14658 143.1 \nL 321.215993 184.281818 \nL 321.268053 184.281818 \nL 321.285406 266.645455 \nL 321.372173 184.281818 \nL 321.389526 225.463636 \nL 321.476293 184.281818 \nL 321.788653 184.281818 \nL 321.806006 225.463636 \nL 321.892773 184.281818 \nL 322.08366 184.281818 \nL 322.101013 143.1 \nL 322.18778 184.281818 \nL 322.205133 184.281818 \nL 322.222487 225.463636 \nL 322.309253 184.281818 \nL 322.44808 184.281818 \nL 322.465433 143.1 \nL 322.482787 266.645455 \nL 322.5522 184.281818 \nL 322.621613 184.281818 \nL 322.638967 225.463636 \nL 322.725733 184.281818 \nL 322.829853 184.281818 \nL 322.881913 143.1 \nL 322.933973 184.281818 \nL 323.038093 184.281818 \nL 323.055447 225.463636 \nL 323.142213 184.281818 \nL 323.246333 184.281818 \nL 323.263687 266.645455 \nL 323.28104 143.1 \nL 323.350453 184.281818 \nL 323.454573 184.281818 \nL 323.471927 225.463636 \nL 323.558693 184.281818 \nL 323.871054 184.281818 \nL 323.888407 60.736364 \nL 323.975174 184.281818 \nL 324.183414 184.281818 \nL 324.200767 266.645455 \nL 324.287534 184.281818 \nL 324.304887 225.463636 \nL 324.391654 184.281818 \nL 324.704014 184.281818 \nL 324.721367 225.463636 \nL 324.756074 143.1 \nL 324.808134 184.281818 \nL 325.120494 184.281818 \nL 325.137847 225.463636 \nL 325.224614 184.281818 \nL 325.328734 184.281818 \nL 325.346087 266.645455 \nL 325.432854 184.281818 \nL 325.51962 184.281818 \nL 325.536974 143.1 \nL 325.554327 225.463636 \nL 325.62374 184.281818 \nL 325.936101 184.281818 \nL 325.953454 143.1 \nL 326.005514 184.281818 \nL 326.092281 143.1 \nL 326.126987 266.645455 \nL 326.161694 143.1 \nL 326.248461 184.281818 \nL 326.369934 184.281818 \nL 326.387287 225.463636 \nL 326.404641 143.1 \nL 326.474054 184.281818 \nL 326.786414 184.281818 \nL 326.855827 266.645455 \nL 326.890534 184.281818 \nL 327.081421 184.281818 \nL 327.098774 143.1 \nL 327.185541 184.281818 \nL 327.202894 184.281818 \nL 327.220247 225.463636 \nL 327.254954 143.1 \nL 327.307014 184.281818 \nL 327.619374 184.281818 \nL 327.636727 225.463636 \nL 327.723494 184.281818 \nL 327.775554 184.281818 \nL 327.810261 143.1 \nL 327.827614 184.281818 \nL 327.844968 266.645455 \nL 327.862321 143.1 \nL 327.931734 184.281818 \nL 327.966441 143.1 \nL 328.035854 184.281818 \nL 328.296154 184.281818 \nL 328.330861 143.1 \nL 328.348214 184.281818 \nL 328.417628 266.645455 \nL 328.400274 101.918182 \nL 328.434981 143.1 \nL 328.452334 143.1 \nL 328.573808 266.645455 \nL 328.695281 143.1 \nL 328.712634 143.1 \nL 328.834108 266.645455 \nL 328.955581 143.1 \nL 328.972934 143.1 \nL 329.094408 266.645455 \nL 329.111761 143.1 \nL 329.215881 184.281818 \nL 329.285294 184.281818 \nL 329.302648 225.463636 \nL 329.389414 184.281818 \nL 329.476181 184.281818 \nL 329.528241 143.1 \nL 329.580301 184.281818 \nL 329.701775 184.281818 \nL 329.719128 225.463636 \nL 329.805895 184.281818 \nL 329.857955 184.281818 \nL 329.910015 143.1 \nL 329.927368 266.645455 \nL 330.014135 184.281818 \nL 330.118255 184.281818 \nL 330.135608 225.463636 \nL 330.222375 184.281818 \nL 330.274435 184.281818 \nL 330.291788 266.645455 \nL 330.378555 184.281818 \nL 330.534735 184.281818 \nL 330.552088 225.463636 \nL 330.621501 143.1 \nL 330.638855 184.281818 \nL 330.899155 184.281818 \nL 330.933861 143.1 \nL 330.968568 225.463636 \nL 331.003275 184.281818 \nL 331.246221 184.281818 \nL 331.263575 143.1 \nL 331.350341 184.281818 \nL 331.367695 184.281818 \nL 331.385048 225.463636 \nL 331.402401 143.1 \nL 331.471815 184.281818 \nL 331.575935 184.281818 \nL 331.627995 143.1 \nL 331.645348 266.645455 \nL 331.732115 143.1 \nL 331.801528 225.463636 \nL 331.870942 184.281818 \nL 332.183302 184.281818 \nL 332.200655 143.1 \nL 332.218008 225.463636 \nL 332.287422 184.281818 \nL 332.617135 184.281818 \nL 332.634488 225.463636 \nL 332.721255 184.281818 \nL 332.860082 184.281818 \nL 332.981555 143.1 \nL 333.050968 225.463636 \nL 333.120382 184.281818 \nL 333.137735 184.281818 \nL 333.155088 266.645455 \nL 333.172442 143.1 \nL 333.241855 184.281818 \nL 333.398035 184.281818 \nL 333.415388 143.1 \nL 333.467448 225.463636 \nL 333.502155 184.281818 \nL 333.693042 184.281818 \nL 333.710395 19.554545 \nL 333.779809 225.463636 \nL 333.797162 184.281818 \nL 333.814515 184.281818 \nL 333.831869 266.645455 \nL 333.918635 184.281818 \nL 333.953342 184.281818 \nL 333.970695 143.1 \nL 334.022755 184.281818 \nL 334.040109 266.645455 \nL 334.109522 143.1 \nL 334.126875 184.281818 \nL 334.283055 184.281818 \nL 334.300409 225.463636 \nL 334.369822 184.281818 \nL 334.387175 143.1 \nL 334.404529 266.645455 \nL 334.473942 184.281818 \nL 334.578062 184.281818 \nL 334.595415 143.1 \nL 334.682182 184.281818 \nL 334.699535 184.281818 \nL 334.716889 60.736364 \nL 334.803655 184.281818 \nL 335.046602 184.281818 \nL 335.063955 143.1 \nL 335.133369 225.463636 \nL 335.150722 184.281818 \nL 335.168075 184.281818 \nL 335.202782 143.1 \nL 335.289549 266.645455 \nL 335.411022 184.281818 \nL 335.532496 184.281818 \nL 335.549849 225.463636 \nL 335.636616 184.281818 \nL 335.792796 184.281818 \nL 335.827502 143.1 \nL 335.896916 184.281818 \nL 335.948976 184.281818 \nL 335.966329 225.463636 \nL 336.001036 143.1 \nL 336.053096 184.281818 \nL 336.174569 143.1 \nL 336.191922 143.1 \nL 336.313396 184.281818 \nL 336.365456 184.281818 \nL 336.382809 225.463636 \nL 336.469576 184.281818 \nL 336.573696 184.281818 \nL 336.591049 266.645455 \nL 336.625756 143.1 \nL 336.677816 184.281818 \nL 336.764582 184.281818 \nL 336.781936 143.1 \nL 336.799289 225.463636 \nL 336.868702 184.281818 \nL 336.938116 184.281818 \nL 337.076942 143.1 \nL 337.215769 225.463636 \nL 337.337242 184.281818 \nL 337.354596 184.281818 \nL 337.371949 266.645455 \nL 337.458716 184.281818 \nL 337.545483 184.281818 \nL 337.562836 143.1 \nL 337.632249 225.463636 \nL 337.649603 184.281818 \nL 337.719016 184.281818 \nL 337.753723 143.1 \nL 337.823136 184.281818 \nL 337.840489 266.645455 \nL 337.927256 184.281818 \nL 338.135496 184.281818 \nL 338.256969 266.645455 \nL 338.378443 143.1 \nL 338.395796 143.1 \nL 338.413149 266.645455 \nL 338.499916 184.281818 \nL 338.534623 184.281818 \nL 338.551976 143.1 \nL 338.638743 184.281818 \nL 338.794923 184.281818 \nL 338.812276 19.554545 \nL 338.881689 225.463636 \nL 338.899043 184.281818 \nL 338.916396 184.281818 \nL 338.951103 143.1 \nL 339.020516 184.281818 \nL 339.280816 184.281818 \nL 339.29817 225.463636 \nL 339.384936 184.281818 \nL 339.489056 184.281818 \nL 339.50641 266.645455 \nL 339.523763 143.1 \nL 339.593176 184.281818 \nL 339.645236 184.281818 \nL 339.679943 19.554545 \nL 339.71465 225.463636 \nL 339.749356 184.281818 \nL 339.801416 184.281818 \nL 339.836123 143.1 \nL 339.905536 184.281818 \nL 340.113776 184.281818 \nL 340.13113 225.463636 \nL 340.217896 184.281818 \nL 340.322016 184.281818 \nL 340.33937 266.645455 \nL 340.426136 184.281818 \nL 340.530256 184.281818 \nL 340.54761 225.463636 \nL 340.634376 184.281818 \nL 340.738496 184.281818 \nL 340.75585 266.645455 \nL 340.773203 143.1 \nL 340.842616 184.281818 \nL 340.946736 184.281818 \nL 340.96409 225.463636 \nL 341.050856 184.281818 \nL 341.207036 184.281818 \nL 341.241743 143.1 \nL 341.311157 184.281818 \nL 341.363217 184.281818 \nL 341.38057 225.463636 \nL 341.467337 184.281818 \nL 342.196177 184.281818 \nL 342.21353 225.463636 \nL 342.300297 184.281818 \nL 343.029137 184.281818 \nL 343.04649 225.463636 \nL 343.133257 184.281818 \nL 343.237377 184.281818 \nL 343.25473 266.645455 \nL 343.272084 143.1 \nL 343.341497 184.281818 \nL 343.393557 184.281818 \nL 343.41091 266.645455 \nL 343.497677 184.281818 \nL 343.549737 184.281818 \nL 343.67121 266.645455 \nL 343.705917 143.1 \nL 343.792684 184.281818 \nL 343.862097 184.281818 \nL 343.87945 225.463636 \nL 343.966217 184.281818 \nL 344.278577 184.281818 \nL 344.29593 225.463636 \nL 344.382697 184.281818 \nL 344.590937 184.281818 \nL 344.60829 266.645455 \nL 344.695057 184.281818 \nL 344.71241 225.463636 \nL 344.799177 184.281818 \nL 345.111537 184.281818 \nL 345.180951 266.645455 \nL 345.215657 184.281818 \nL 345.319777 184.281818 \nL 345.441251 266.645455 \nL 345.562724 143.1 \nL 345.649491 266.645455 \nL 345.684197 184.281818 \nL 345.736257 184.281818 \nL 345.753611 266.645455 \nL 345.840377 184.281818 \nL 345.857731 143.1 \nL 345.944497 184.281818 \nL 345.961851 225.463636 \nL 345.996557 143.1 \nL 346.048617 184.281818 \nL 346.135384 184.281818 \nL 346.204797 143.1 \nL 346.326271 266.645455 \nL 346.413037 143.1 \nL 346.447744 184.281818 \nL 346.465097 184.281818 \nL 346.499804 143.1 \nL 346.569217 184.281818 \nL 346.621277 184.281818 \nL 346.742751 266.645455 \nL 346.864224 184.281818 \nL 347.072464 184.281818 \nL 347.089818 143.1 \nL 347.107171 225.463636 \nL 347.176584 184.281818 \nL 347.245998 184.281818 \nL 347.263351 266.645455 \nL 347.350118 184.281818 \nL 347.384824 143.1 \nL 347.454238 184.281818 \nL 347.488944 184.281818 \nL 347.506298 143.1 \nL 347.593064 184.281818 \nL 347.610418 184.281818 \nL 347.679831 225.463636 \nL 347.697184 184.281818 \nL 347.714538 143.1 \nL 347.801304 184.281818 \nL 347.870718 184.281818 \nL 347.957484 143.1 \nL 347.974838 184.281818 \nL 348.026898 184.281818 \nL 348.044251 225.463636 \nL 348.131018 184.281818 \nL 348.235138 184.281818 \nL 348.269844 143.1 \nL 348.339258 184.281818 \nL 348.443378 184.281818 \nL 348.460731 225.463636 \nL 348.547498 184.281818 \nL 348.651618 184.281818 \nL 348.721031 266.645455 \nL 348.755738 184.281818 \nL 348.790444 143.1 \nL 348.859858 184.281818 \nL 348.877211 225.463636 \nL 348.963978 184.281818 \nL 349.276338 184.281818 \nL 349.293691 225.463636 \nL 349.380458 184.281818 \nL 349.571345 184.281818 \nL 349.588698 143.1 \nL 349.675465 184.281818 \nL 349.692818 184.281818 \nL 349.710171 225.463636 \nL 349.796938 184.281818 \nL 349.848998 184.281818 \nL 349.866351 266.645455 \nL 349.935765 143.1 \nL 349.953118 143.1 \nL 350.091945 184.281818 \nL 350.109298 184.281818 \nL 350.126651 225.463636 \nL 350.213418 184.281818 \nL 350.369598 184.281818 \nL 350.473718 19.554545 \nL 350.543131 225.463636 \nL 350.612545 184.281818 \nL 350.942258 184.281818 \nL 350.959612 225.463636 \nL 351.046378 184.281818 \nL 351.254618 184.281818 \nL 351.271972 266.645455 \nL 351.358738 184.281818 \nL 351.514918 184.281818 \nL 351.584332 266.645455 \nL 351.619038 184.281818 \nL 351.775218 184.281818 \nL 351.792572 225.463636 \nL 351.879338 184.281818 \nL 352.070225 184.281818 \nL 352.087578 143.1 \nL 352.104932 266.645455 \nL 352.139638 184.281818 \nL 352.156992 266.645455 \nL 352.243758 184.281818 \nL 352.451998 184.281818 \nL 352.469352 266.645455 \nL 352.556118 184.281818 \nL 352.608178 184.281818 \nL 352.729652 225.463636 \nL 352.868479 143.1 \nL 352.972599 184.281818 \nL 353.042012 225.463636 \nL 353.111425 19.554545 \nL 353.232899 184.281818 \nL 353.250252 225.463636 \nL 353.267605 143.1 \nL 353.319665 184.281818 \nL 353.337019 60.736364 \nL 353.423785 184.281818 \nL 353.441139 184.281818 \nL 353.562612 266.645455 \nL 353.684085 184.281818 \nL 353.701439 184.281818 \nL 353.736145 143.1 \nL 353.805559 184.281818 \nL 353.840265 184.281818 \nL 353.874972 225.463636 \nL 353.944385 19.554545 \nL 353.979092 266.645455 \nL 354.065859 184.281818 \nL 354.117919 184.281818 \nL 354.135272 266.645455 \nL 354.222039 184.281818 \nL 354.274099 184.281818 \nL 354.291452 225.463636 \nL 354.378219 184.281818 \nL 354.430279 184.281818 \nL 354.464985 143.1 \nL 354.534399 184.281818 \nL 354.742639 184.281818 \nL 354.759992 225.463636 \nL 354.846759 184.281818 \nL 354.950879 143.1 \nL 355.089706 184.281818 \nL 355.107059 184.281818 \nL 355.124412 60.736364 \nL 355.211179 184.281818 \nL 355.297946 184.281818 \nL 355.315299 19.554545 \nL 355.384712 266.645455 \nL 355.402066 184.281818 \nL 355.540892 184.281818 \nL 355.645012 266.645455 \nL 355.662366 225.463636 \nL 355.783839 225.463636 \nL 355.801192 266.645455 \nL 355.853252 143.1 \nL 355.870606 184.281818 \nL 355.887959 184.281818 \nL 356.026786 225.463636 \nL 356.373852 225.463636 \nL 356.391206 184.281818 \nL 356.460619 225.463636 \nL 356.616799 225.463636 \nL 356.738273 266.645455 \nL 356.755626 19.554545 \nL 356.825039 225.463636 \nL 357.206813 225.463636 \nL 357.276226 184.281818 \nL 357.293579 225.463636 \nL 357.449759 225.463636 \nL 357.484466 184.281818 \nL 357.553879 225.463636 \nL 357.623293 225.463636 \nL 357.675353 266.645455 \nL 357.762119 143.1 \nL 357.796826 143.1 \nL 357.883593 266.645455 \nL 357.918299 184.281818 \nL 357.970359 184.281818 \nL 358.091833 266.645455 \nL 358.161246 143.1 \nL 358.213306 184.281818 \nL 358.282719 184.281818 \nL 358.300073 225.463636 \nL 358.317426 143.1 \nL 358.386839 184.281818 \nL 358.438899 184.281818 \nL 358.456253 225.463636 \nL 358.543019 184.281818 \nL 358.647139 184.281818 \nL 358.716553 225.463636 \nL 358.75126 143.1 \nL 358.872733 225.463636 \nL 358.924793 266.645455 \nL 358.9595 143.1 \nL 359.098326 184.281818 \nL 359.2198 184.281818 \nL 359.237153 266.645455 \nL 359.32392 184.281818 \nL 359.68834 184.281818 \nL 359.705693 225.463636 \nL 359.79246 184.281818 \nL 359.84452 184.281818 \nL 359.879226 143.1 \nL 359.94864 184.281818 \nL 360.10482 184.281818 \nL 360.122173 225.463636 \nL 360.191586 184.281818 \nL 360.20894 143.1 \nL 360.295706 184.281818 \nL 360.5213 184.281818 \nL 360.538653 225.463636 \nL 360.62542 184.281818 \nL 360.67748 184.281818 \nL 360.694833 266.645455 \nL 360.746893 19.554545 \nL 360.7816 19.554545 \nL 360.903073 143.1 \nL 361.024547 19.554545 \nL 361.0419 19.554545 \nL 361.163373 143.1 \nL 361.284847 19.554545 \nL 361.3022 19.554545 \nL 361.423673 143.1 \nL 361.545147 19.554545 \nL 361.5625 19.554545 \nL 361.683973 143.1 \nL 361.805447 19.554545 \nL 361.8228 19.554545 \nL 361.944273 143.1 \nL 362.065747 19.554545 \nL 362.0831 19.554545 \nL 362.152513 143.1 \nL 362.18722 19.554545 \nL 362.308693 143.1 \nL 362.430167 19.554545 \nL 362.44752 19.554545 \nL 362.568994 143.1 \nL 362.690467 19.554545 \nL 362.70782 19.554545 \nL 362.829294 143.1 \nL 362.950767 19.554545 \nL 362.96812 19.554545 \nL 363.089594 101.918182 \nL 363.211067 19.554545 \nL 363.28048 19.554545 \nL 363.401954 143.1 \nL 363.523427 19.554545 \nL 363.54078 19.554545 \nL 363.662254 143.1 \nL 363.783727 19.554545 \nL 363.80108 19.554545 \nL 363.922554 143.1 \nL 364.044027 19.554545 \nL 364.06138 19.554545 \nL 364.182854 143.1 \nL 364.304327 19.554545 \nL 364.32168 19.554545 \nL 364.443154 143.1 \nL 364.564627 19.554545 \nL 364.581981 19.554545 \nL 364.651394 143.1 \nL 364.686101 19.554545 \nL 364.807574 143.1 \nL 364.929047 19.554545 \nL 364.946401 19.554545 \nL 365.067874 143.1 \nL 365.189347 19.554545 \nL 365.206701 19.554545 \nL 365.276114 143.1 \nL 365.310821 19.554545 \nL 366.143781 19.554545 \nL 366.265254 143.1 \nL 366.386727 19.554545 \nL 366.404081 19.554545 \nL 366.525554 143.1 \nL 366.647028 19.554545 \nL 366.664381 19.554545 \nL 366.733794 143.1 \nL 366.768501 19.554545 \nL 366.889974 143.1 \nL 367.011448 19.554545 \nL 367.028801 19.554545 \nL 367.150274 143.1 \nL 367.271748 19.554545 \nL 367.289101 19.554545 \nL 367.410574 143.1 \nL 367.532048 19.554545 \nL 367.549401 19.554545 \nL 367.670874 143.1 \nL 367.792348 19.554545 \nL 367.809701 19.554545 \nL 367.931174 143.1 \nL 368.052648 19.554545 \nL 368.070001 19.554545 \nL 368.191474 143.1 \nL 368.312948 19.554545 \nL 368.330301 19.554545 \nL 368.399715 143.1 \nL 368.434421 19.554545 \nL 368.555895 143.1 \nL 368.677368 19.554545 \nL 368.694721 19.554545 \nL 368.816195 143.1 \nL 368.937668 19.554545 \nL 368.955021 19.554545 \nL 369.076495 143.1 \nL 369.197968 19.554545 \nL 369.215321 19.554545 \nL 369.336795 143.1 \nL 369.458268 19.554545 \nL 369.475621 19.554545 \nL 369.597095 143.1 \nL 369.718568 19.554545 \nL 369.735921 19.554545 \nL 369.857395 143.1 \nL 369.978868 19.554545 \nL 369.996221 19.554545 \nL 370.065635 143.1 \nL 370.100341 19.554545 \nL 370.221815 143.1 \nL 370.343288 19.554545 \nL 370.360642 19.554545 \nL 370.482115 143.1 \nL 370.603588 19.554545 \nL 370.620942 19.554545 \nL 370.742415 143.1 \nL 370.863888 19.554545 \nL 370.881242 19.554545 \nL 371.002715 143.1 \nL 371.124188 19.554545 \nL 371.141542 19.554545 \nL 371.263015 143.1 \nL 371.384488 19.554545 \nL 371.401842 19.554545 \nL 371.523315 143.1 \nL 371.644788 19.554545 \nL 371.662142 19.554545 \nL 371.731555 143.1 \nL 371.766262 19.554545 \nL 371.887735 143.1 \nL 372.009208 19.554545 \nL 372.026562 19.554545 \nL 372.148035 143.1 \nL 372.269509 19.554545 \nL 372.286862 19.554545 \nL 372.408335 143.1 \nL 372.529809 19.554545 \nL 372.547162 19.554545 \nL 372.668635 143.1 \nL 372.790109 19.554545 \nL 372.807462 19.554545 \nL 372.928935 143.1 \nL 373.050409 19.554545 \nL 373.067762 19.554545 \nL 373.189235 143.1 \nL 373.310709 19.554545 \nL 373.328062 19.554545 \nL 373.397475 143.1 \nL 373.432182 19.554545 \nL 373.553655 143.1 \nL 373.675129 19.554545 \nL 373.692482 19.554545 \nL 373.813955 143.1 \nL 373.935429 19.554545 \nL 373.952782 19.554545 \nL 374.074255 143.1 \nL 374.195729 19.554545 \nL 374.213082 19.554545 \nL 374.334556 143.1 \nL 374.456029 19.554545 \nL 374.473382 19.554545 \nL 374.594856 143.1 \nL 374.716329 19.554545 \nL 374.733682 19.554545 \nL 374.855156 143.1 \nL 374.976629 19.554545 \nL 374.993982 19.554545 \nL 375.063396 143.1 \nL 375.098102 19.554545 \nL 375.219576 143.1 \nL 375.341049 19.554545 \nL 375.358402 19.554545 \nL 375.479876 143.1 \nL 375.601349 19.554545 \nL 375.618702 19.554545 \nL 375.688116 143.1 \nL 375.740176 101.918182 \nL 375.792236 143.1 \nL 375.826942 19.554545 \nL 375.896356 143.1 \nL 375.931062 19.554545 \nL 376.052536 143.1 \nL 376.174009 19.554545 \nL 376.191363 19.554545 \nL 376.312836 143.1 \nL 376.434309 19.554545 \nL 376.451663 19.554545 \nL 376.573136 143.1 \nL 376.694609 19.554545 \nL 376.711963 19.554545 \nL 376.833436 143.1 \nL 376.954909 19.554545 \nL 376.972263 19.554545 \nL 377.093736 143.1 \nL 377.215209 19.554545 \nL 377.232563 19.554545 \nL 377.354036 143.1 \nL 377.475509 19.554545 \nL 377.492863 19.554545 \nL 377.562276 143.1 \nL 377.596983 19.554545 \nL 377.718456 143.1 \nL 377.839929 19.554545 \nL 377.857283 19.554545 \nL 377.978756 143.1 \nL 378.10023 19.554545 \nL 378.117583 19.554545 \nL 378.239056 143.1 \nL 378.36053 19.554545 \nL 378.377883 19.554545 \nL 378.499356 143.1 \nL 378.62083 19.554545 \nL 378.638183 19.554545 \nL 378.759656 143.1 \nL 378.88113 19.554545 \nL 378.898483 19.554545 \nL 379.019956 143.1 \nL 379.14143 19.554545 \nL 379.158783 19.554545 \nL 379.228196 143.1 \nL 379.262903 19.554545 \nL 379.384376 143.1 \nL 379.50585 19.554545 \nL 379.523203 19.554545 \nL 379.644676 143.1 \nL 379.76615 19.554545 \nL 379.783503 19.554545 \nL 379.904976 143.1 \nL 380.02645 19.554545 \nL 380.043803 19.554545 \nL 380.165277 143.1 \nL 380.28675 19.554545 \nL 380.304103 19.554545 \nL 380.425577 143.1 \nL 380.54705 19.554545 \nL 380.564403 19.554545 \nL 380.685877 143.1 \nL 380.80735 19.554545 \nL 380.824703 19.554545 \nL 380.894117 143.1 \nL 380.928823 19.554545 \nL 381.050297 143.1 \nL 381.17177 19.554545 \nL 381.189123 19.554545 \nL 381.310597 143.1 \nL 381.43207 19.554545 \nL 381.449423 19.554545 \nL 381.570897 143.1 \nL 381.69237 19.554545 \nL 381.709723 19.554545 \nL 381.831197 143.1 \nL 381.95267 19.554545 \nL 381.970024 19.554545 \nL 382.091497 143.1 \nL 382.21297 19.554545 \nL 382.230324 19.554545 \nL 382.351797 143.1 \nL 382.47327 19.554545 \nL 382.490624 19.554545 \nL 382.560037 143.1 \nL 382.594744 19.554545 \nL 382.716217 143.1 \nL 382.83769 19.554545 \nL 382.855044 19.554545 \nL 382.976517 143.1 \nL 383.09799 19.554545 \nL 383.115344 19.554545 \nL 383.236817 143.1 \nL 383.35829 19.554545 \nL 383.375644 19.554545 \nL 383.497117 143.1 \nL 383.61859 19.554545 \nL 383.635944 19.554545 \nL 383.757417 143.1 \nL 383.878891 19.554545 \nL 383.896244 19.554545 \nL 384.017717 143.1 \nL 384.139191 19.554545 \nL 384.156544 19.554545 \nL 384.225957 143.1 \nL 384.260664 19.554545 \nL 384.382137 143.1 \nL 384.503611 19.554545 \nL 384.520964 19.554545 \nL 384.642437 143.1 \nL 384.763911 19.554545 \nL 384.781264 19.554545 \nL 384.902737 143.1 \nL 385.024211 19.554545 \nL 385.041564 19.554545 \nL 385.163037 143.1 \nL 385.284511 19.554545 \nL 385.301864 19.554545 \nL 385.423337 143.1 \nL 385.544811 19.554545 \nL 385.562164 19.554545 \nL 385.683637 143.1 \nL 385.805111 19.554545 \nL 385.822464 19.554545 \nL 385.891878 143.1 \nL 385.926584 19.554545 \nL 386.048058 143.1 \nL 386.169531 19.554545 \nL 386.186884 19.554545 \nL 386.308358 143.1 \nL 386.429831 19.554545 \nL 386.447184 19.554545 \nL 386.568658 143.1 \nL 386.690131 19.554545 \nL 386.707484 19.554545 \nL 386.828958 143.1 \nL 386.950431 19.554545 \nL 386.967784 19.554545 \nL 387.089258 143.1 \nL 387.176024 19.554545 \nL 387.193378 60.736364 \nL 387.297498 266.645455 \nL 387.314851 184.281818 \nL 387.332204 184.281818 \nL 387.349558 266.645455 \nL 387.436324 184.281818 \nL 387.592504 184.281818 \nL 387.661918 266.645455 \nL 387.696624 184.281818 \nL 387.800745 184.281818 \nL 387.887511 60.736364 \nL 387.904865 184.281818 \nL 388.008985 184.281818 \nL 388.026338 225.463636 \nL 388.113105 184.281818 \nL 388.217225 184.281818 \nL 388.234578 266.645455 \nL 388.321345 184.281818 \nL 388.425465 184.281818 \nL 388.442818 225.463636 \nL 388.529585 184.281818 \nL 388.841945 184.281818 \nL 388.859298 225.463636 \nL 388.946065 184.281818 \nL 389.050185 184.281818 \nL 389.067538 266.645455 \nL 389.154305 184.281818 \nL 389.258425 184.281818 \nL 389.275778 225.463636 \nL 389.362545 184.281818 \nL 389.674905 184.281818 \nL 389.692258 225.463636 \nL 389.779025 184.281818 \nL 389.935205 184.281818 \nL 389.952558 266.645455 \nL 389.969912 143.1 \nL 390.021972 184.281818 \nL 390.039325 143.1 \nL 390.108738 225.463636 \nL 390.126092 184.281818 \nL 390.507865 184.281818 \nL 390.525218 225.463636 \nL 390.611985 184.281818 \nL 390.820225 184.281818 \nL 390.854932 143.1 \nL 390.924345 184.281818 \nL 391.045818 225.463636 \nL 391.167292 184.281818 \nL 391.184645 184.281818 \nL 391.306118 225.463636 \nL 391.427592 184.281818 \nL 391.948192 184.281818 \nL 392.052312 60.736364 \nL 392.173785 184.281818 \nL 392.382025 184.281818 \nL 392.399379 60.736364 \nL 392.486145 143.1 \nL 392.503499 143.1 \nL 392.624972 184.281818 \nL 393.006745 184.281818 \nL 393.024099 60.736364 \nL 393.110865 184.281818 \nL 393.405872 184.281818 \nL 393.423225 60.736364 \nL 393.509992 184.281818 \nL 394.221479 184.281818 \nL 394.238832 143.1 \nL 394.325599 184.281818 \nL 394.776786 184.281818 \nL 394.880906 60.736364 \nL 395.002379 184.281818 \nL 395.661806 184.281818 \nL 395.679159 60.736364 \nL 395.765926 184.281818 \nL 395.783279 184.281818 \nL 395.835339 60.736364 \nL 395.887399 184.281818 \nL 396.199759 184.281818 \nL 396.217113 60.736364 \nL 396.303879 184.281818 \nL 396.998013 184.281818 \nL 397.015366 143.1 \nL 397.102133 184.281818 \nL 398.12598 184.281818 \nL 398.143333 19.554545 \nL 398.2301 184.281818 \nL 398.33422 184.281818 \nL 398.420986 60.736364 \nL 398.43834 184.281818 \nL 398.629226 184.281818 \nL 398.733346 143.1 \nL 398.768053 60.736364 \nL 398.85482 184.281818 \nL 399.462187 184.281818 \nL 399.47954 143.1 \nL 399.566307 184.281818 \nL 399.878667 184.281818 \nL 399.965433 143.1 \nL 399.982787 184.281818 \nL 400.017493 184.281818 \nL 400.0522 101.918182 \nL 400.121613 184.281818 \nL 401.04134 184.281818 \nL 401.058693 60.736364 \nL 401.14546 184.281818 \nL 401.214873 184.281818 \nL 401.336347 60.736364 \nL 401.45782 184.281818 \nL 401.579294 184.281818 \nL 401.596647 143.1 \nL 401.683414 184.281818 \nL 401.752827 184.281818 \nL 401.77018 60.736364 \nL 401.856947 184.281818 \nL 401.97842 184.281818 \nL 402.013127 143.1 \nL 402.08254 184.281818 \nL 402.099894 184.281818 \nL 402.169307 60.736364 \nL 402.204014 184.281818 \nL 402.221367 184.281818 \nL 402.29078 60.736364 \nL 402.325487 184.281818 \nL 402.360194 184.281818 \nL 402.377547 143.1 \nL 402.464314 184.281818 \nL 403.036974 184.281818 \nL 403.07168 19.554545 \nL 403.141094 184.281818 \nL 404.095527 184.281818 \nL 404.112881 143.1 \nL 404.199647 184.281818 \nL 404.390534 184.281818 \nL 404.407887 60.736364 \nL 404.494654 184.281818 \nL 404.512007 184.281818 \nL 404.581421 143.1 \nL 404.616127 184.281818 \nL 404.928487 184.281818 \nL 404.945841 101.918182 \nL 405.032607 184.281818 \nL 405.344968 184.281818 \nL 405.362321 143.1 \nL 405.449088 184.281818 \nL 405.692034 184.281818 \nL 405.778801 101.918182 \nL 405.813508 143.1 \nL 405.934981 184.281818 \nL 406.177928 184.281818 \nL 406.195281 143.1 \nL 406.282048 184.281818 \nL 406.490288 184.281818 \nL 406.507641 60.736364 \nL 406.594408 184.281818 \nL 406.715881 143.1 \nL 407.010888 143.1 \nL 407.028241 101.918182 \nL 407.045594 184.281818 \nL 407.097655 184.281818 \nL 407.427368 184.281818 \nL 407.444721 101.918182 \nL 407.531488 184.281818 \nL 407.757081 184.281818 \nL 407.861201 101.918182 \nL 407.878555 184.281818 \nL 407.965321 143.1 \nL 408.260328 143.1 \nL 408.277681 101.918182 \nL 408.364448 143.1 \nL 408.537981 143.1 \nL 408.659455 101.918182 \nL 408.676808 101.918182 \nL 408.798281 143.1 \nL 409.023875 143.1 \nL 409.145348 184.281818 \nL 409.509768 184.281818 \nL 409.527122 143.1 \nL 409.613888 184.281818 \nL 409.926248 184.281818 \nL 409.943602 143.1 \nL 410.030368 184.281818 \nL 410.082428 184.281818 \nL 410.099782 19.554545 \nL 410.186548 184.281818 \nL 410.203902 184.281818 \nL 410.221255 19.554545 \nL 410.308022 184.281818 \nL 410.342728 184.281818 \nL 410.412142 101.918182 \nL 410.446848 143.1 \nL 410.498908 184.281818 \nL 410.533615 101.918182 \nL 410.550968 143.1 \nL 410.655088 143.1 \nL 410.707148 184.281818 \nL 410.759208 143.1 \nL 410.811268 143.1 \nL 410.932742 184.281818 \nL 411.227749 184.281818 \nL 411.245102 101.918182 \nL 411.331869 184.281818 \nL 411.592169 184.281818 \nL 411.713642 19.554545 \nL 411.835115 184.281818 \nL 411.973942 184.281818 \nL 412.095415 19.554545 \nL 412.216889 184.281818 \nL 413.605156 184.281818 \nL 413.743982 101.918182 \nL 413.761336 101.918182 \nL 413.865456 143.1 \nL 413.882809 101.918182 \nL 413.969576 143.1 \nL 414.073696 143.1 \nL 414.091049 19.554545 \nL 414.125756 184.281818 \nL 414.177816 184.281818 \nL 414.524882 184.281818 \nL 414.542236 101.918182 \nL 414.629002 184.281818 \nL 414.941363 184.281818 \nL 414.958716 19.554545 \nL 415.045483 143.1 \nL 415.166956 184.281818 \nL 415.409903 184.281818 \nL 415.461963 143.1 \nL 415.514023 184.281818 \nL 415.704909 184.281818 \nL 415.756969 101.918182 \nL 415.809029 184.281818 \nL 415.878443 184.281818 \nL 415.913149 143.1 \nL 415.982563 184.281818 \nL 416.589929 184.281818 \nL 416.624636 143.1 \nL 416.694049 184.281818 \nL 417.00641 184.281818 \nL 417.093176 143.1 \nL 417.11053 184.281818 \nL 419.92177 184.281818 \nL 419.956477 143.1 \nL 420.02589 184.281818 \nL 420.320897 184.281818 \nL 420.44237 143.1 \nL 420.563843 184.281818 \nL 420.667964 184.281818 \nL 420.789437 143.1 \nL 421.570337 143.1 \nL 421.69181 184.281818 \nL 422.385944 184.281818 \nL 422.438004 101.918182 \nL 422.490064 184.281818 \nL 422.559477 184.281818 \nL 422.57683 143.1 \nL 422.663597 184.281818 \nL 423.236257 184.281818 \nL 423.288317 143.1 \nL 423.340377 184.281818 \nL 424.520404 184.281818 \nL 424.555111 143.1 \nL 424.624524 184.281818 \nL 424.659231 184.281818 \nL 424.693938 143.1 \nL 424.763351 184.281818 \nL 424.971591 184.281818 \nL 425.075711 143.1 \nL 425.197184 184.281818 \nL 425.717784 184.281818 \nL 425.752491 143.1 \nL 425.821904 184.281818 \nL 425.873964 184.281818 \nL 425.891318 143.1 \nL 425.978084 184.281818 \nL 427.869598 184.281818 \nL 427.886951 143.1 \nL 427.973718 184.281818 \nL 428.615792 184.281818 \nL 428.633145 143.1 \nL 428.719912 184.281818 \nL 429.535518 184.281818 \nL 429.622285 143.1 \nL 429.639638 184.281818 \nL 430.455245 184.281818 \nL 430.472599 101.918182 \nL 430.559365 184.281818 \nL 430.837019 184.281818 \nL 430.854372 101.918182 \nL 430.941139 184.281818 \nL 431.652625 184.281818 \nL 431.669979 143.1 \nL 431.756745 184.281818 \nL 431.964985 184.281818 \nL 431.982339 19.554545 \nL 432.069105 184.281818 \nL 432.693826 184.281818 \nL 432.711179 19.554545 \nL 432.797946 184.281818 \nL 433.127659 184.281818 \nL 433.145012 143.1 \nL 433.231779 184.281818 \nL 433.249132 184.281818 \nL 433.318546 143.1 \nL 433.353252 184.281818 \nL 433.457372 184.281818 \nL 433.474726 143.1 \nL 433.561492 184.281818 \nL 433.717672 184.281818 \nL 433.735026 143.1 \nL 433.821792 184.281818 \nL 433.925912 184.281818 \nL 433.943266 19.554545 \nL 434.030032 184.281818 \nL 434.116799 184.281818 \nL 434.134152 143.1 \nL 434.220919 184.281818 \nL 434.567986 184.281818 \nL 434.585339 19.554545 \nL 434.672106 184.281818 \nL 434.984466 184.281818 \nL 435.105939 19.554545 \nL 435.227413 184.281818 \nL 435.522419 184.281818 \nL 435.539773 19.554545 \nL 435.626539 184.281818 \nL 436.008313 184.281818 \nL 436.025666 19.554545 \nL 436.112433 184.281818 \nL 436.164493 184.281818 \nL 436.181846 143.1 \nL 436.268613 184.281818 \nL 436.442146 184.281818 \nL 436.4595 143.1 \nL 436.546266 184.281818 \nL 436.962746 184.281818 \nL 436.997453 101.918182 \nL 437.066866 184.281818 \nL 437.587466 184.281818 \nL 437.60482 19.554545 \nL 437.691586 184.281818 \nL 437.795706 143.1 \nL 437.91718 184.281818 \nL 438.351013 184.281818 \nL 438.472487 143.1 \nL 438.663373 143.1 \nL 438.784847 184.281818 \nL 439.565747 184.281818 \nL 439.5831 143.1 \nL 439.669867 184.281818 \nL 439.878107 184.281818 \nL 439.912813 143.1 \nL 439.982227 184.281818 \nL 440.294587 184.281818 \nL 440.329294 143.1 \nL 440.398707 184.281818 \nL 440.41606 184.281818 \nL 440.537534 143.1 \nL 440.659007 184.281818 \nL 442.029921 184.281818 \nL 442.047274 143.1 \nL 442.134041 184.281818 \nL 442.515814 184.281818 \nL 442.533167 143.1 \nL 442.619934 184.281818 \nL 443.886727 184.281818 \nL 443.904081 101.918182 \nL 443.990848 184.281818 \nL 444.008201 184.281818 \nL 444.094968 101.918182 \nL 444.112321 184.281818 \nL 444.268501 184.281818 \nL 444.389974 101.918182 \nL 444.511448 184.281818 \nL 445.014694 184.281818 \nL 445.049401 143.1 \nL 445.118814 184.281818 \nL 445.726181 184.281818 \nL 445.760888 143.1 \nL 445.830301 184.281818 \nL 446.732675 184.281818 \nL 446.750028 101.918182 \nL 446.836795 184.281818 \nL 447.756521 184.281818 \nL 447.895348 101.918182 \nL 447.912702 101.918182 \nL 448.034175 184.281818 \nL 448.225062 184.281818 \nL 448.242415 143.1 \nL 448.329182 184.281818 \nL 448.658895 184.281818 \nL 448.763015 143.1 \nL 448.867135 184.281818 \nL 448.936548 143.1 \nL 448.971255 184.281818 \nL 450.099222 184.281818 \nL 450.116575 143.1 \nL 450.203342 184.281818 \nL 451.123069 184.281818 \nL 451.157775 143.1 \nL 451.227189 184.281818 \nL 451.261895 184.281818 \nL 451.279249 143.1 \nL 451.366015 184.281818 \nL 451.713082 184.281818 \nL 451.765142 101.918182 \nL 451.817202 184.281818 \nL 452.077502 184.281818 \nL 452.129562 143.1 \nL 452.181622 184.281818 \nL 452.702222 184.281818 \nL 452.719576 143.1 \nL 452.806342 184.281818 \nL 453.517829 184.281818 \nL 453.535182 143.1 \nL 453.621949 184.281818 \nL 454.090489 184.281818 \nL 454.107843 143.1 \nL 454.194609 184.281818 \nL 454.923449 184.281818 \nL 454.940803 101.918182 \nL 455.027569 184.281818 \nL 455.096983 184.281818 \nL 455.183749 143.1 \nL 455.201103 184.281818 \nL 455.235809 184.281818 \nL 455.270516 101.918182 \nL 455.339929 184.281818 \nL 455.478756 184.281818 \nL 455.496109 101.918182 \nL 455.582876 184.281818 \nL 455.80847 184.281818 \nL 455.825823 101.918182 \nL 455.91259 184.281818 \nL 455.999356 184.281818 \nL 456.01671 143.1 \nL 456.103476 184.281818 \nL 456.762903 184.281818 \nL 456.780256 101.918182 \nL 456.867023 184.281818 \nL 457.00585 184.281818 \nL 457.127323 101.918182 \nL 457.231443 184.281818 \nL 457.248796 101.918182 \nL 457.335563 184.281818 \nL 457.404976 184.281818 \nL 457.42233 101.918182 \nL 457.509097 184.281818 \nL 457.856163 184.281818 \nL 457.94293 101.918182 \nL 457.960283 184.281818 \nL 458.220583 184.281818 \nL 458.237937 143.1 \nL 458.324703 184.281818 \nL 458.706477 184.281818 \nL 458.72383 143.1 \nL 458.810597 184.281818 \nL 458.82795 184.281818 \nL 458.88001 101.918182 \nL 458.93207 184.281818 \nL 459.92121 184.281818 \nL 459.938564 101.918182 \nL 460.02533 184.281818 \nL 460.112097 184.281818 \nL 460.23357 143.1 \nL 460.268277 143.1 \nL 460.28563 101.918182 \nL 460.320337 184.281818 \nL 460.372397 143.1 \nL 460.49387 184.281818 \nL 462.073024 184.281818 \nL 462.090377 143.1 \nL 462.177144 184.281818 \nL 462.749804 184.281818 \nL 462.767157 101.918182 \nL 462.853924 184.281818 \nL 462.888631 184.281818 \nL 462.992751 143.1 \nL 463.114224 184.281818 \nL 463.200991 184.281818 \nL 463.235697 143.1 \nL 463.305111 184.281818 \nL 463.704238 184.281818 \nL 463.756298 143.1 \nL 463.808358 184.281818 \nL 464.259544 184.281818 \nL 464.276898 101.918182 \nL 464.363664 184.281818 \nL 464.450431 184.281818 \nL 464.467784 143.1 \nL 464.554551 184.281818 \nL 464.745438 184.281818 \nL 464.832204 101.918182 \nL 464.849558 184.281818 \nL 466.949311 184.281818 \nL 466.966665 143.1 \nL 467.053431 184.281818 \nL 467.088138 184.281818 \nL 467.105491 143.1 \nL 467.192258 184.281818 \nL 469.049065 184.281818 \nL 469.083772 143.1 \nL 469.153185 184.281818 \nL 470.211739 184.281818 \nL 470.229092 143.1 \nL 470.315859 184.281818 \nL 471.166172 184.281818 \nL 471.183526 143.1 \nL 471.270292 184.281818 \nL 472.988273 184.281818 \nL 473.005626 143.1 \nL 473.092393 184.281818 \nL 473.231219 184.281818 \nL 473.248573 143.1 \nL 473.335339 184.281818 \nL 474.046826 184.281818 \nL 474.064179 143.1 \nL 474.150946 184.281818 \nL 474.185653 184.281818 \nL 474.203006 143.1 \nL 474.289773 184.281818 \nL 474.428599 184.281818 \nL 474.445953 101.918182 \nL 474.532719 143.1 \nL 474.636839 184.281818 \nL 474.654193 143.1 \nL 474.740959 184.281818 \nL 474.793019 184.281818 \nL 474.914493 143.1 \nL 475.035966 184.281818 \nL 475.348326 184.281818 \nL 475.36568 143.1 \nL 475.452446 184.281818 \nL 476.09452 184.281818 \nL 476.111873 143.1 \nL 476.19864 184.281818 \nL 476.71924 184.281818 \nL 476.736593 143.1 \nL 476.82336 184.281818 \nL 476.910127 184.281818 \nL 476.92748 143.1 \nL 477.014247 184.281818 \nL 477.691027 184.281818 \nL 477.70838 143.1 \nL 477.795147 184.281818 \nL 477.881913 184.281818 \nL 477.899267 143.1 \nL 477.986033 184.281818 \nL 478.28104 184.281818 \nL 478.402513 143.1 \nL 478.69752 143.1 \nL 478.818994 184.281818 \nL 478.90576 184.281818 \nL 478.923114 143.1 \nL 479.00988 184.281818 \nL 479.304887 184.281818 \nL 479.32224 143.1 \nL 479.409007 184.281818 \nL 480.224614 184.281818 \nL 480.346087 143.1 \nL 480.36344 143.1 \nL 480.484914 184.281818 \nL 481.144341 184.281818 \nL 481.265814 143.1 \nL 481.283167 143.1 \nL 481.404641 184.281818 \nL 481.925241 184.281818 \nL 482.046714 143.1 \nL 482.324367 143.1 \nL 482.445841 184.281818 \nL 482.897028 184.281818 \nL 482.914381 143.1 \nL 483.001148 184.281818 \nL 483.174681 184.281818 \nL 483.226741 143.1 \nL 483.278801 184.281818 \nL 484.059701 184.281818 \nL 484.094408 143.1 \nL 484.163821 184.281818 \nL 485.690915 184.281818 \nL 485.708268 143.1 \nL 485.795035 184.281818 \nL 485.951215 184.281818 \nL 485.968568 143.1 \nL 486.055335 184.281818 \nL 486.124748 184.281818 \nL 486.246221 19.554545 \nL 486.367695 184.281818 \nL 486.593288 184.281818 \nL 486.714762 143.1 \nL 487.113888 143.1 \nL 487.131242 101.918182 \nL 487.218008 143.1 \nL 487.339482 143.1 \nL 487.426248 101.918182 \nL 487.460955 184.281818 \nL 487.547722 184.281818 \nL 487.617135 143.1 \nL 487.651842 184.281818 \nL 488.050968 184.281818 \nL 488.068322 143.1 \nL 488.155088 184.281818 \nL 488.207148 184.281818 \nL 488.311268 143.1 \nL 488.432742 184.281818 \nL 488.519509 60.736364 \nL 488.536862 184.281818 \nL 488.554215 184.281818 \nL 488.658335 143.1 \nL 488.779809 184.281818 \nL 488.918635 184.281818 \nL 489.040109 143.1 \nL 489.161582 184.281818 \nL 490.636616 184.281818 \nL 490.653969 143.1 \nL 490.740736 184.281818 \nL 491.903409 184.281818 \nL 491.955469 60.736364 \nL 492.007529 184.281818 \nL 492.024882 184.281818 \nL 492.042236 143.1 \nL 492.129002 184.281818 \nL 492.441363 184.281818 \nL 492.458716 143.1 \nL 492.545483 184.281818 \nL 493.222263 184.281818 \nL 493.239616 143.1 \nL 493.326383 184.281818 \nL 493.413149 184.281818 \nL 493.430503 143.1 \nL 493.517269 184.281818 \nL 493.760216 184.281818 \nL 493.777569 143.1 \nL 493.864336 184.281818 \nL 494.176696 184.281818 \nL 494.194049 143.1 \nL 494.280816 184.281818 \nL 494.784063 184.281818 \nL 494.801416 143.1 \nL 494.888183 184.281818 \nL 495.460843 184.281818 \nL 495.478196 143.1 \nL 495.564963 184.281818 \nL 496.102916 184.281818 \nL 496.189683 143.1 \nL 496.207036 184.281818 \nL 496.519397 184.281818 \nL 496.606163 143.1 \nL 496.623517 184.281818 \nL 498.011783 184.281818 \nL 498.04649 143.1 \nL 498.115903 184.281818 \nL 498.185317 184.281818 \nL 498.30679 143.1 \nL 498.428264 184.281818 \nL 500.146244 184.281818 \nL 500.163597 143.1 \nL 500.250364 184.281818 \nL 500.441251 184.281818 \nL 500.475957 143.1 \nL 500.545371 184.281818 \nL 500.753611 184.281818 \nL 500.875084 143.1 \nL 501.100677 143.1 \nL 501.135384 101.918182 \nL 501.204797 143.1 \nL 501.222151 143.1 \nL 501.343624 184.281818 \nL 501.517157 184.281818 \nL 501.534511 143.1 \nL 501.621277 184.281818 \nL 501.829517 184.281818 \nL 501.846871 143.1 \nL 501.933637 184.281818 \nL 502.020404 184.281818 \nL 502.072464 143.1 \nL 502.124524 184.281818 \nL 502.506298 184.281818 \nL 502.523651 143.1 \nL 502.610418 184.281818 \nL 503.183078 184.281818 \nL 503.269844 143.1 \nL 503.287198 184.281818 \nL 504.033391 184.281818 \nL 504.050745 143.1 \nL 504.137511 184.281818 \nL 504.345751 184.281818 \nL 504.449871 143.1 \nL 504.571345 184.281818 \nL 504.658111 143.1 \nL 504.675465 184.281818 \nL 504.692818 184.281818 \nL 504.814291 143.1 \nL 505.282831 143.1 \nL 505.404305 184.281818 \nL 505.976965 184.281818 \nL 505.994318 143.1 \nL 506.081085 184.281818 \nL 506.133145 184.281818 \nL 506.167852 143.1 \nL 506.237265 184.281818 \nL 506.271972 184.281818 \nL 506.289325 143.1 \nL 506.376092 184.281818 \nL 506.480212 184.281818 \nL 506.549625 143.1 \nL 506.584332 184.281818 \nL 506.705805 184.281818 \nL 506.827278 143.1 \nL 506.948752 184.281818 \nL 507.486705 184.281818 \nL 507.504058 143.1 \nL 507.590825 184.281818 \nL 507.608178 184.281818 \nL 507.625532 143.1 \nL 507.712298 184.281818 \nL 507.729652 184.281818 \nL 507.833772 143.1 \nL 507.955245 184.281818 \nL 508.649379 184.281818 \nL 508.666732 143.1 \nL 508.753499 184.281818 \nL 509.447632 184.281818 \nL 509.499692 143.1 \nL 509.551752 184.281818 \nL 509.673225 184.281818 \nL 509.690579 143.1 \nL 509.777345 184.281818 \nL 510.662366 184.281818 \nL 510.783839 143.1 \nL 510.801192 143.1 \nL 510.922666 184.281818 \nL 511.009432 184.281818 \nL 511.026786 143.1 \nL 511.113552 184.281818 \nL 511.148259 184.281818 \nL 511.217672 143.1 \nL 511.252379 184.281818 \nL 511.981219 184.281818 \nL 512.050633 143.1 \nL 512.085339 184.281818 \nL 512.467113 184.281818 \nL 512.484466 143.1 \nL 512.571233 184.281818 \nL 512.675353 184.281818 \nL 512.796826 143.1 \nL 512.831533 143.1 \nL 512.953006 184.281818 \nL 513.230659 184.281818 \nL 513.248013 143.1 \nL 513.334779 184.281818 \nL 513.647139 184.281818 \nL 513.664493 143.1 \nL 513.75126 184.281818 \nL 514.06362 184.281818 \nL 514.150386 143.1 \nL 514.16774 184.281818 \nL 514.42804 184.281818 \nL 514.462746 60.736364 \nL 514.53216 184.281818 \nL 514.705693 184.281818 \nL 514.723046 60.736364 \nL 514.809813 184.281818 \nL 514.89658 184.281818 \nL 514.913933 143.1 \nL 515.0007 184.281818 \nL 515.05276 184.281818 \nL 515.070113 19.554545 \nL 515.15688 184.281818 \nL 515.31306 184.281818 \nL 515.330413 143.1 \nL 515.41718 184.281818 \nL 515.72954 184.281818 \nL 515.746893 143.1 \nL 515.83366 184.281818 \nL 516.14602 184.281818 \nL 516.163373 143.1 \nL 516.25014 184.281818 \nL 516.51044 184.281818 \nL 516.61456 143.1 \nL 516.736033 184.281818 \nL 516.97898 184.281818 \nL 517.048393 143.1 \nL 517.0831 184.281818 \nL 517.39546 184.281818 \nL 517.412813 143.1 \nL 517.49958 184.281818 \nL 517.621054 184.281818 \nL 517.638407 143.1 \nL 517.725174 184.281818 \nL 517.81194 184.281818 \nL 517.881354 143.1 \nL 517.91606 184.281818 \nL 518.17636 184.281818 \nL 518.245774 143.1 \nL 518.28048 184.281818 \nL 518.6449 184.281818 \nL 518.662254 143.1 \nL 518.74902 184.281818 \nL 518.939907 184.281818 \nL 518.95726 143.1 \nL 519.044027 184.281818 \nL 519.06138 184.281818 \nL 519.078734 143.1 \nL 519.1655 184.281818 \nL 519.477861 184.281818 \nL 519.529921 143.1 \nL 519.581981 184.281818 \nL 519.894341 184.281818 \nL 519.911694 143.1 \nL 519.998461 184.281818 \nL 520.310821 184.281818 \nL 520.328174 143.1 \nL 520.414941 184.281818 \nL 520.709947 184.281818 \nL 520.744654 101.918182 \nL 520.814067 184.281818 \nL 520.831421 184.281818 \nL 520.848774 143.1 \nL 520.935541 184.281818 \nL 521.143781 184.281818 \nL 521.161134 143.1 \nL 521.247901 184.281818 \nL 521.560261 184.281818 \nL 521.629674 101.918182 \nL 521.664381 184.281818 \nL 521.976741 184.281818 \nL 522.046154 143.1 \nL 522.080861 184.281818 \nL 522.393221 184.281818 \nL 522.410574 143.1 \nL 522.497341 184.281818 \nL 522.809701 184.281818 \nL 522.827054 143.1 \nL 522.913821 184.281818 \nL 523.226181 184.281818 \nL 523.243534 143.1 \nL 523.330301 184.281818 \nL 523.590601 184.281818 \nL 523.660015 143.1 \nL 523.694721 184.281818 \nL 524.059141 184.281818 \nL 524.076495 143.1 \nL 524.163261 184.281818 \nL 524.440915 184.281818 \nL 524.492975 143.1 \nL 524.545035 184.281818 \nL 524.892101 184.281818 \nL 524.909455 143.1 \nL 524.996221 184.281818 \nL 525.239168 184.281818 \nL 525.325935 143.1 \nL 525.343288 184.281818 \nL 525.725062 184.281818 \nL 525.742415 143.1 \nL 525.829182 184.281818 \nL 526.141542 184.281818 \nL 526.158895 143.1 \nL 526.245662 184.281818 \nL 526.505962 184.281818 \nL 526.575375 143.1 \nL 526.610082 184.281818 \nL 526.974502 184.281818 \nL 527.026562 143.1 \nL 527.078622 184.281818 \nL 527.356275 184.281818 \nL 527.408335 143.1 \nL 527.460395 184.281818 \nL 527.807462 184.281818 \nL 527.876875 143.1 \nL 527.911582 184.281818 \nL 529.577502 184.281818 \nL 529.664269 19.554545 \nL 529.681622 184.281818 \nL 529.941922 184.281818 \nL 530.063396 19.554545 \nL 530.184869 184.281818 \nL 530.306342 184.281818 \nL 530.323696 19.554545 \nL 530.410462 184.281818 \nL 530.462522 184.281818 \nL 530.479876 19.554545 \nL 530.566642 184.281818 \nL 530.722822 184.281818 \nL 530.740176 143.1 \nL 530.826942 184.281818 \nL 530.844296 184.281818 \nL 530.896356 19.554545 \nL 530.948416 184.281818 \nL 531.139303 184.281818 \nL 531.243423 19.554545 \nL 531.295483 184.281818 \nL 531.312836 143.1 \nL 531.625196 266.645455 \nL 531.729316 143.1 \nL 532.024323 143.1 \nL 532.093736 266.645455 \nL 532.145796 143.1 \nL 532.562276 143.1 \nL 532.683749 266.645455 \nL 532.874636 266.645455 \nL 532.978756 143.1 \nL 533.169643 101.918182 \nL 533.186996 266.645455 \nL 533.41259 143.1 \nL 533.655536 266.645455 \nL 533.77701 143.1 \nL 533.846423 266.645455 \nL 533.93319 225.463636 \nL 534.03731 266.645455 \nL 534.228196 143.1 \nL 534.436436 266.645455 \nL 534.644676 143.1 \nL 535.408223 266.645455 \nL 536.917964 266.645455 \nL 537.074144 184.281818 \nL 537.178264 266.645455 \nL 539.017717 266.645455 \nL 539.035071 225.463636 \nL 539.243311 266.645455 \nL 542.037198 266.645455 \nL 542.123964 184.281818 \nL 542.418971 266.645455 \nL 547.746445 266.645455 \nL 547.798505 225.463636 \nL 547.850565 266.645455 \nL 550.696513 266.645455 \nL 551.078286 225.463636 \nL 551.095639 266.645455 \nL 551.303879 143.1 \nL 551.720359 143.1 \nL 551.893893 266.645455 \nL 551.980659 266.645455 \nL 552.136839 143.1 \nL 552.258313 225.463636 \nL 552.50126 143.1 \nL 552.518613 266.645455 \nL 552.55332 143.1 \nL 552.796266 266.645455 \nL 552.9698 143.1 \nL 553.07392 266.645455 \nL 553.368926 266.645455 \nL 553.38628 143.1 \nL 553.715993 266.645455 \nL 553.733346 101.918182 \nL 553.80276 143.1 \nL 554.132473 266.645455 \nL 554.21924 143.1 \nL 554.514247 266.645455 \nL 554.63572 143.1 \nL 554.774547 266.645455 \nL 554.930727 266.645455 \nL 555.0522 143.1 \nL 555.295147 266.645455 \nL 555.46868 143.1 \nL 555.659567 266.645455 \nL 555.815747 266.645455 \nL 555.88516 143.1 \nL 556.023987 266.645455 \nL 556.30164 143.1 \nL 556.492527 266.645455 \nL 556.544587 266.645455 \nL 556.71812 143.1 \nL 556.891654 101.918182 \nL 556.995774 266.645455 \nL 557.03048 266.645455 \nL 557.1346 143.1 \nL 557.360194 266.645455 \nL 557.55108 143.1 \nL 557.672554 266.645455 \nL 557.828734 266.645455 \nL 557.846087 143.1 \nL 557.932854 266.645455 \nL 558.158447 266.645455 \nL 558.1758 143.1 \nL 558.193154 266.645455 \nL 559.425241 266.645455 \nL 559.477301 225.463636 \nL 559.529361 266.645455 \nL 560.327614 266.645455 \nL 560.344968 184.281818 \nL 560.466441 143.1 \nL 560.605268 143.1 \nL 560.692034 266.645455 \nL 560.882921 143.1 \nL 561.299401 143.1 \nL 561.420874 266.645455 \nL 561.559701 225.463636 \nL 561.663821 266.645455 \nL 561.715881 143.1 \nL 561.993534 266.645455 \nL 562.132361 143.1 \nL 562.323248 143.1 \nL 562.427368 266.645455 \nL 562.548841 143.1 \nL 562.739728 266.645455 \nL 562.965321 143.1 \nL 563.121501 266.645455 \nL 563.329741 266.645455 \nL 563.381801 143.1 \nL 563.416508 266.645455 \nL 563.520628 266.645455 \nL 563.798281 143.1 \nL 564.214762 143.1 \nL 564.388295 266.645455 \nL 564.631242 143.1 \nL 564.787422 266.645455 \nL 564.804775 266.645455 \nL 564.822128 225.463636 \nL 564.839482 266.645455 \nL 565.047722 143.1 \nL 565.186548 143.1 \nL 565.360082 266.645455 \nL 565.464202 143.1 \nL 565.516262 266.645455 \nL 565.811268 266.645455 \nL 565.880682 143.1 \nL 566.123629 266.645455 \nL 566.193042 266.645455 \nL 566.297162 143.1 \nL 566.713642 143.1 \nL 566.817762 101.918182 \nL 566.835115 266.645455 \nL 566.921882 266.645455 \nL 566.956589 225.463636 \nL 567.026002 266.645455 \nL 567.112769 266.645455 \nL 567.130122 101.918182 \nL 567.216889 266.645455 \nL 567.251595 266.645455 \nL 567.338362 184.281818 \nL 567.355715 266.645455 \nL 567.477189 266.645455 \nL 567.546602 143.1 \nL 567.789549 266.645455 \nL 567.876315 266.645455 \nL 567.963082 143.1 \nL 568.188676 266.645455 \nL 568.344856 266.645455 \nL 568.379562 143.1 \nL 568.448976 266.645455 \nL 568.570449 266.645455 \nL 568.587802 184.281818 \nL 568.622509 266.645455 \nL 568.796042 143.1 \nL 568.830749 266.645455 \nL 569.212522 143.1 \nL 569.420762 266.645455 \nL 569.629002 143.1 \nL 569.924009 266.645455 \nL 570.045483 143.1 \nL 570.375196 266.645455 \nL 570.548729 143.1 \nL 570.600789 143.1 \nL 570.652849 266.645455 \nL 570.878443 143.1 \nL 571.156096 266.645455 \nL 571.294923 143.1 \nL 571.537869 266.645455 \nL 571.572576 225.463636 \nL 571.641989 266.645455 \nL 571.711403 143.1 \nL 571.971703 266.645455 \nL 572.127883 143.1 \nL 572.145236 266.645455 \nL 572.388183 266.645455 \nL 572.457596 143.1 \nL 572.544363 101.918182 \nL 572.561716 266.645455 \nL 572.769956 266.645455 \nL 572.822016 225.463636 \nL 572.856723 266.645455 \nL 572.94349 266.645455 \nL 572.960843 143.1 \nL 573.04761 266.645455 \nL 573.25585 266.645455 \nL 573.377323 143.1 \nL 573.585563 266.645455 \nL 573.741743 266.645455 \nL 573.793803 143.1 \nL 573.98469 266.645455 \nL 574.019397 225.463636 \nL 574.071457 266.645455 \nL 574.123517 266.645455 \nL 574.210283 143.1 \nL 574.435877 266.645455 \nL 574.55735 266.645455 \nL 574.626763 143.1 \nL 574.748237 266.645455 \nL 574.97383 266.645455 \nL 575.043243 143.1 \nL 575.459723 143.1 \nL 575.633257 266.645455 \nL 575.876204 143.1 \nL 576.153857 266.645455 \nL 576.292684 143.1 \nL 576.414157 266.645455 \nL 576.726517 143.1 \nL 576.813284 266.645455 \nL 576.969464 266.645455 \nL 577.125644 143.1 \nL 577.385944 266.645455 \nL 577.542124 143.1 \nL 577.715657 143.1 \nL 577.871837 184.281818 \nL 577.958604 143.1 \nL 577.993311 266.645455 \nL 578.028017 184.281818 \nL 578.080077 266.645455 \nL 578.253611 184.281818 \nL 578.305671 266.645455 \nL 578.357731 184.281818 \nL 578.375084 143.1 \nL 578.409791 225.463636 \nL 578.461851 184.281818 \nL 578.635384 184.281818 \nL 578.791564 143.1 \nL 578.999804 266.645455 \nL 579.017157 266.645455 \nL 579.208044 101.918182 \nL 579.312164 184.281818 \nL 579.433637 266.645455 \nL 579.450991 225.463636 \nL 579.589818 143.1 \nL 579.641878 19.554545 \nL 579.659231 143.1 \nL 579.832764 266.645455 \nL 579.867471 266.645455 \nL 580.041004 143.1 \nL 580.127771 225.463636 \nL 580.145124 184.281818 \nL 580.231891 266.645455 \nL 580.370718 266.645455 \nL 580.457484 143.1 \nL 581.290444 143.1 \nL 581.411918 266.645455 \nL 581.550745 266.645455 \nL 581.706925 143.1 \nL 581.949871 143.1 \nL 582.001931 266.645455 \nL 582.123405 143.1 \nL 582.366351 266.645455 \nL 582.487825 143.1 \nL 582.539885 143.1 \nL 582.852245 266.645455 \nL 582.956365 143.1 \nL 583.147251 266.645455 \nL 583.407552 143.1 \nL 583.667852 266.645455 \nL 583.789325 143.1 \nL 583.910798 266.645455 \nL 583.997565 143.1 \nL 585.038765 143.1 \nL 585.247005 266.645455 \nL 585.316418 143.1 \nL 585.351125 266.645455 \nL 585.368479 266.645455 \nL 585.455245 143.1 \nL 585.680839 266.645455 \nL 585.906432 143.1 \nL 586.079965 143.1 \nL 586.114672 101.918182 \nL 586.184085 143.1 \nL 586.531152 143.1 \nL 586.548505 266.645455 \nL 586.617919 143.1 \nL 587.832652 143.1 \nL 587.884712 266.645455 \nL 587.919419 143.1 \nL 588.561492 143.1 \nL 588.596199 60.736364 \nL 588.613552 266.645455 \nL 588.682966 266.645455 \nL 588.787086 143.1 \nL 589.012679 143.1 \nL 589.047386 101.918182 \nL 589.064739 266.645455 \nL 589.134152 143.1 \nL 589.342393 143.1 \nL 589.377099 101.918182 \nL 589.429159 266.645455 \nL 589.481219 143.1 \nL 589.515926 143.1 \nL 589.533279 266.645455 \nL 589.620046 143.1 \nL 589.793579 143.1 \nL 589.932406 101.918182 \nL 589.949759 225.463636 \nL 590.036526 143.1 \nL 590.210059 143.1 \nL 590.227413 266.645455 \nL 590.314179 143.1 \nL 590.453006 143.1 \nL 590.713306 266.645455 \nL 590.765366 143.1 \nL 591.164493 143.1 \nL 591.181846 266.645455 \nL 591.268613 143.1 \nL 591.476853 143.1 \nL 591.51156 101.918182 \nL 591.56362 143.1 \nL 591.910686 143.1 \nL 592.014806 101.918182 \nL 592.03216 266.645455 \nL 592.153633 143.1 \nL 592.795706 143.1 \nL 592.81306 266.645455 \nL 592.899826 143.1 \nL 593.246893 143.1 \nL 593.264247 19.554545 \nL 593.351013 143.1 \nL 593.663373 143.1 \nL 593.680727 266.645455 \nL 593.767493 143.1 \nL 594.01044 266.645455 \nL 594.3228 143.1 \nL 594.444273 266.645455 \nL 594.565747 143.1 \nL 594.773987 143.1 \nL 594.912813 266.645455 \nL 595.034287 143.1 \nL 595.225174 266.645455 \nL 595.41606 143.1 \nL 595.693714 143.1 \nL 595.711067 266.645455 \nL 595.797834 143.1 \nL 596.110194 143.1 \nL 596.162254 266.645455 \nL 596.214314 143.1 \nL 596.491967 143.1 \nL 596.50932 266.645455 \nL 596.578734 143.1 \nL 596.891094 143.1 \nL 596.9258 101.918182 \nL 596.977861 143.1 \nL 597.255514 143.1 \nL 597.376987 266.645455 \nL 597.429047 101.918182 \nL 597.498461 143.1 \nL 597.654641 184.281818 \nL 597.828174 266.645455 \nL 597.862881 101.918182 \nL 597.949647 143.1 \nL 598.782607 143.1 \nL 598.817314 266.645455 \nL 598.973494 143.1 \nL 599.771748 143.1 \nL 599.789101 266.645455 \nL 599.875868 143.1 \nL 599.910574 143.1 \nL 599.927928 266.645455 \nL 600.014694 143.1 \nL 600.292348 266.645455 \nL 600.604708 143.1 \nL 600.691474 266.645455 \nL 600.708828 184.281818 \nL 600.865008 143.1 \nL 600.899715 266.645455 \nL 601.333548 143.1 \nL 601.437668 143.1 \nL 601.455021 266.645455 \nL 601.541788 143.1 \nL 601.611201 143.1 \nL 601.663261 266.645455 \nL 601.697968 143.1 \nL 602.392101 143.1 \nL 602.496221 266.645455 \nL 603.641542 266.645455 \nL 603.763015 143.1 \nL 604.023315 143.1 \nL 605.290109 266.645455 \nL 605.706589 266.645455 \nL 605.723942 225.463636 \nL 606.105715 266.645455 \nL 606.123069 225.463636 \nL 606.418075 143.1 \nL 606.452782 266.645455 \nL 606.574255 266.645455 \nL 606.678376 143.1 \nL 606.851909 266.645455 \nL 607.060149 266.645455 \nL 607.094856 143.1 \nL 607.303096 266.645455 \nL 607.806342 143.1 \nL 607.875756 266.645455 \nL 608.170762 266.645455 \nL 608.222822 143.1 \nL 608.344296 143.1 \nL 608.517829 266.645455 \nL 608.552536 143.1 \nL 608.569889 266.645455 \nL 609.350789 266.645455 \nL 609.524323 143.1 \nL 610.201103 266.645455 \nL 610.773763 266.645455 \nL 611.554663 225.463636 \nL 611.606723 266.645455 \nL 611.90173 266.645455 \nL 611.919083 101.918182 \nL 611.936436 266.645455 \nL 613.480883 266.645455 \nL 613.56765 143.1 \nL 613.77589 143.1 \nL 613.810597 184.281818 \nL 613.845303 143.1 \nL 613.897363 143.1 \nL 614.279137 266.645455 \nL 615.667404 266.645455 \nL 615.85829 143.1 \nL 616.22271 143.1 \nL 616.968904 266.645455 \nL 617.177144 143.1 \nL 617.350677 143.1 \nL 617.385384 184.281818 \nL 617.506857 143.1 \nL 617.715097 184.281818 \nL 617.801864 266.645455 \nL 617.905984 143.1 \nL 618.166284 266.645455 \nL 618.617471 266.645455 \nL 618.756298 143.1 \nL 619.433078 143.1 \nL 619.467784 266.645455 \nL 619.866911 266.645455 \nL 620.092504 143.1 \nL 620.682518 266.645455 \nL 620.699871 143.1 \nL 621.081645 266.645455 \nL 621.203118 143.1 \nL 621.220471 266.645455 \nL 621.550185 266.645455 \nL 621.671658 143.1 \nL 622.018725 266.645455 \nL 622.730212 266.645455 \nL 622.747565 143.1 \nL 622.921098 143.1 \nL 623.250812 266.645455 \nL 623.337578 143.1 \nL 623.528465 266.645455 \nL 623.823472 266.645455 \nL 623.962298 143.1 \nL 623.979652 266.645455 \nL 624.118479 143.1 \nL 624.396132 19.554545 \nL 624.430839 266.645455 \nL 624.500252 143.1 \nL 625.281152 143.1 \nL 625.298505 101.918182 \nL 625.628219 266.645455 \nL 625.697632 143.1 \nL 626.252939 143.1 \nL 626.495886 266.645455 \nL 626.929719 266.645455 \nL 626.981779 143.1 \nL 627.485026 143.1 \nL 627.606499 266.645455 \nL 627.745326 266.645455 \nL 627.762679 143.1 \nL 627.849446 225.463636 \nL 627.901506 143.1 \nL 627.936212 266.645455 \nL 628.040333 143.1 \nL 628.161806 266.645455 \nL 628.213866 266.645455 \nL 628.317986 143.1 \nL 628.439459 266.645455 \nL 628.456813 266.645455 \nL 628.560933 143.1 \nL 628.612993 266.645455 \nL 628.665053 101.918182 \nL 628.699759 19.554545 \nL 628.786526 143.1 \nL 629.168299 143.1 \nL 629.289773 266.645455 \nL 629.341833 143.1 \nL 629.393893 225.463636 \nL 629.515366 266.645455 \nL 629.550073 266.645455 \nL 629.671546 143.1 \nL 629.758313 143.1 \nL 629.879786 266.645455 \nL 630.10538 266.645455 \nL 630.140086 143.1 \nL 630.2095 266.645455 \nL 630.36568 266.645455 \nL 630.383033 225.463636 \nL 630.4698 266.645455 \nL 630.556566 266.645455 \nL 630.57392 225.463636 \nL 630.660686 266.645455 \nL 631.111873 266.645455 \nL 631.129226 225.463636 \nL 631.215993 266.645455 \nL 632.118367 266.645455 \nL 632.13572 225.463636 \nL 632.222487 266.645455 \nL 632.23984 266.645455 \nL 632.309253 225.463636 \nL 632.378667 266.645455 \nL 632.569553 184.281818 \nL 632.777793 266.645455 \nL 632.881913 266.645455 \nL 633.090153 143.1 \nL 633.22898 225.463636 \nL 633.48928 266.645455 \nL 633.523987 184.281818 \nL 633.610753 225.463636 \nL 633.64546 266.645455 \nL 634.461067 266.645455 \nL 634.58254 143.1 \nL 634.68666 266.645455 \nL 635.658447 266.645455 \nL 635.6758 225.463636 \nL 635.693154 266.645455 \nL 640.760328 266.645455 \nL 640.795035 143.1 \nL 641.090041 266.645455 \nL 641.923002 266.645455 \nL 641.940355 225.463636 \nL 643.554215 266.645455 \nL 643.606275 143.1 \nL 643.658335 266.645455 \nL 643.935989 266.645455 \nL 643.970695 184.281818 \nL 644.005402 266.645455 \nL 646.625756 266.645455 \nL 646.764582 143.1 \nL 647.042236 266.645455 \nL 647.805783 266.645455 \nL 648.326383 225.463636 \nL 648.447856 266.645455 \nL 649.81877 266.645455 \nL 649.905536 225.463636 \nL 650.70379 266.645455 \nL 651.519397 143.1 \nL 651.710283 266.645455 \nL 651.90117 184.281818 \nL 652.36971 266.645455 \nL 655.198304 266.645455 \nL 655.233011 225.463636 \nL 655.718904 266.645455 \nL 658.131018 266.645455 \nL 658.235138 225.463636 \nL 658.339258 266.645455 \nL 658.460731 225.463636 \nL 658.495438 266.645455 \nL 658.530144 184.281818 \nL 658.547498 184.281818 \nL 658.599558 266.645455 \nL 659.137511 266.645455 \nL 659.345751 225.463636 \nL 659.467225 266.645455 \nL 665.228532 266.645455 \nL 665.419419 184.281818 \nL 665.523539 184.281818 \nL 666.599446 266.645455 \nL 666.877099 266.645455 \nL 666.946513 184.281818 \nL 666.981219 266.645455 \nL 666.998573 266.645455 \nL 667.033279 184.281818 \nL 667.449759 266.645455 \nL 667.675353 266.645455 \nL 667.831533 19.554545 \nL 667.900946 143.1 \nL 668.178599 266.645455 \nL 669.757753 266.645455 \nL 669.79246 184.281818 \nL 669.809813 266.645455 \nL 672.690467 266.645455 \nL 672.70782 184.281818 \nL 672.725174 266.645455 \nL 673.141654 266.645455 \nL 673.558134 225.463636 \nL 674.06138 266.645455 \nL 674.859634 266.645455 \nL 674.981107 143.1 \nL 675.224054 266.645455 \nL 675.519061 266.645455 \nL 675.640534 225.463636 \nL 675.779361 266.645455 \nL 675.814067 143.1 \nL 675.900834 225.463636 \nL 676.109074 266.645455 \nL 679.805335 266.645455 \nL 680.221815 225.463636 \nL 680.360642 266.645455 \nL 681.592728 266.645455 \nL 681.887735 225.463636 \nL 681.905088 266.645455 \nL 682.304215 266.645455 \nL 682.477749 143.1 \nL 682.720695 266.645455 \nL 685.219576 266.645455 \nL 685.254282 225.463636 \nL 685.288989 266.645455 \nL 686.087242 266.645455 \nL 686.104596 225.463636 \nL 686.347543 266.645455 \nL 686.642549 143.1 \nL 687.770516 266.645455 \nL 687.891989 143.1 \nL 688.117583 266.645455 \nL 688.30847 143.1 \nL 688.586123 266.645455 \nL 689.97439 143.1 \nL 690.269397 266.645455 \nL 690.39087 143.1 \nL 690.616463 266.645455 \nL 690.80735 143.1 \nL 691.102357 266.645455 \nL 691.397363 184.281818 \nL 691.501483 266.645455 \nL 691.58825 266.645455 \nL 692.05679 143.1 \nL 692.88975 143.1 \nL 693.09799 266.645455 \nL 694.052424 266.645455 \nL 694.173897 225.463636 \nL 694.260664 266.645455 \nL 694.278017 225.463636 \nL 694.330077 266.645455 \nL 694.382137 184.281818 \nL 694.416844 266.645455 \nL 696.620718 266.645455 \nL 696.638071 143.1 \nL 696.724838 266.645455 \nL 697.713978 266.645455 \nL 697.731331 225.463636 \nL 697.783391 266.645455 \nL 698.564291 266.645455 \nL 698.720471 143.1 \nL 698.928711 266.645455 \nL 699.136951 143.1 \nL 699.466665 184.281818 \nL 699.484018 225.463636 \nL 699.501371 184.281818 \nL 699.761672 266.645455 \nL 699.779025 225.463636 \nL 699.848438 266.645455 \nL 701.844072 266.645455 \nL 702.052312 143.1 \nL 702.329965 266.645455 \nL 702.347319 266.645455 \nL 702.468792 143.1 \nL 702.781152 266.645455 \nL 703.180279 266.645455 \nL 703.301752 143.1 \nL 703.405872 266.645455 \nL 703.544699 266.645455 \nL 704.134712 143.1 \nL 704.447072 266.645455 \nL 705.175912 266.645455 \nL 705.193266 225.463636 \nL 705.227972 266.645455 \nL 705.384152 143.1 \nL 706.026226 184.281818 \nL 706.112993 266.645455 \nL 706.876539 266.645455 \nL 707.692146 225.463636 \nL 707.726853 266.645455 \nL 708.559813 266.645455 \nL 708.95894 225.463636 \nL 708.976293 266.645455 \nL 711.128107 266.645455 \nL 711.440467 101.918182 \nL 711.45782 143.1 \nL 711.475174 266.645455 \nL 711.56194 143.1 \nL 711.77018 143.1 \nL 711.943714 266.645455 \nL 712.047834 143.1 \nL 712.724614 143.1 \nL 712.741967 101.918182 \nL 712.828734 143.1 \nL 712.898147 143.1 \nL 712.9155 266.645455 \nL 712.950207 143.1 \nL 713.1758 143.1 \nL 713.262567 266.645455 \nL 713.331981 143.1 \nL 713.453454 266.645455 \nL 713.540221 101.918182 \nL 713.574927 143.1 \nL 713.731107 143.1 \nL 713.835227 266.645455 \nL 713.852581 143.1 \nL 714.026114 266.645455 \nL 717.722375 266.645455 \nL 718.208268 143.1 \nL 718.694161 266.645455 \nL 718.711515 101.918182 \nL 718.798281 266.645455 \nL 720.620382 266.645455 \nL 720.637735 225.463636 \nL 720.811268 266.645455 \nL 722.008649 266.645455 \nL 722.026002 101.918182 \nL 722.199535 143.1 \nL 722.338362 266.645455 \nL 722.373069 266.645455 \nL 722.442482 143.1 \nL 722.702782 266.645455 \nL 723.084556 266.645455 \nL 723.206029 143.1 \nL 723.501036 143.1 \nL 723.622509 266.645455 \nL 723.639862 266.645455 \nL 723.674569 225.463636 \nL 723.743982 266.645455 \nL 723.917516 266.645455 \nL 724.125756 143.1 \nL 724.542236 143.1 \nL 724.767829 266.645455 \nL 724.785182 225.463636 \nL 724.819889 225.463636 \nL 724.941363 266.645455 \nL 724.993423 266.645455 \nL 725.010776 225.463636 \nL 725.097543 266.645455 \nL 725.635496 266.645455 \nL 725.652849 101.918182 \nL 726.051976 266.645455 \nL 726.069329 225.463636 \nL 726.104036 266.645455 \nL 726.815523 266.645455 \nL 726.832876 225.463636 \nL 726.90229 266.645455 \nL 727.457596 143.1 \nL 727.978196 266.645455 \nL 728.030256 266.645455 \nL 728.04761 101.918182 \nL 728.117023 266.645455 \nL 729.019397 266.645455 \nL 729.08881 143.1 \nL 729.418523 266.645455 \nL 730.720024 266.645455 \nL 731.084444 143.1 \nL 731.48357 266.645455 \nL 731.518277 143.1 \nL 731.58769 266.645455 \nL 731.865344 266.645455 \nL 731.934757 225.463636 \nL 732.05623 266.645455 \nL 732.299177 266.645455 \nL 733.531264 143.1 \nL 733.635384 266.645455 \nL 734.728644 266.645455 \nL 734.867471 143.1 \nL 735.266598 225.463636 \nL 735.596311 266.645455 \nL 736.030144 266.645455 \nL 736.325151 225.463636 \nL 736.620158 225.463636 \nL 736.741631 184.281818 \nL 737.244878 184.281818 \nL 737.279585 19.554545 \nL 737.348998 184.281818 \nL 737.644005 184.281818 \nL 737.713418 143.1 \nL 737.748125 184.281818 \nL 737.886951 184.281818 \nL 737.904305 19.554545 \nL 737.991071 184.281818 \nL 738.060485 184.281818 \nL 738.077838 143.1 \nL 738.164605 184.281818 \nL 738.476965 184.281818 \nL 738.494318 19.554545 \nL 738.581085 184.281818 \nL 739.292572 184.281818 \nL 739.414045 19.554545 \nL 739.535518 184.281818 \nL 739.726405 184.281818 \nL 739.795818 19.554545 \nL 739.830525 184.281818 \nL 740.090825 184.281818 \nL 740.108178 19.554545 \nL 740.194945 184.281818 \nL 740.212298 184.281818 \nL 740.229652 143.1 \nL 740.316418 184.281818 \nL 740.368479 184.281818 \nL 740.680839 266.645455 \nL 741.062612 266.645455 \nL 741.201439 143.1 \nL 741.583212 266.645455 \nL 742.225285 143.1 \nL 742.867359 143.1 \nL 743.127659 266.645455 \nL 743.891206 266.645455 \nL 743.908559 184.281818 \nL 743.995326 266.645455 \nL 745.990959 266.645455 \nL 746.077726 184.281818 \nL 746.424793 266.645455 \nL 746.806566 266.645455 \nL 746.87598 101.918182 \nL 747.257753 266.645455 \nL 747.70894 143.1 \nL 748.160127 266.645455 \nL 748.923673 225.463636 \nL 748.95838 266.645455 \nL 749.392213 266.645455 \nL 749.860753 143.1 \nL 750.15576 266.645455 \nL 750.31194 266.645455 \nL 750.364 143.1 \nL 751.422554 266.645455 \nL 752.359634 266.645455 \nL 752.446401 143.1 \nL 752.724054 266.645455 \nL 754.181734 266.645455 \nL 754.268501 143.1 \nL 754.303208 266.645455 \nL 754.355268 143.1 \nL 754.771748 266.645455 \nL 754.962634 266.645455 \nL 755.101461 143.1 \nL 755.222934 143.1 \nL 755.587354 266.645455 \nL 756.923561 266.645455 \nL 757.270628 225.463636 \nL 757.374748 266.645455 \nL 757.791228 266.645455 \nL 758.034175 184.281818 \nL 758.485362 225.463636 \nL 758.537422 184.281818 \nL 758.606835 266.645455 \nL 759.578622 266.645455 \nL 759.700095 225.463636 \nL 759.734802 225.463636 \nL 759.856275 266.645455 \nL 759.995102 266.645455 \nL 760.012455 225.463636 \nL 760.099222 266.645455 \nL 760.376875 266.645455 \nL 760.394229 225.463636 \nL 760.480995 266.645455 \nL 760.706589 266.645455 \nL 760.776002 143.1 \nL 760.810709 225.463636 \nL 760.932182 266.645455 \nL 760.984242 266.645455 \nL 761.036302 225.463636 \nL 761.088362 266.645455 \nL 761.400722 266.645455 \nL 761.452782 225.463636 \nL 761.504842 266.645455 \nL 762.251036 266.645455 \nL 762.268389 225.463636 \nL 762.355156 266.645455 \nL 762.389862 266.645455 \nL 762.424569 225.463636 \nL 762.493982 266.645455 \nL 763.118702 266.645455 \nL 763.205469 184.281818 \nL 763.222822 266.645455 \nL 763.500476 266.645455 \nL 763.587242 184.281818 \nL 763.621949 225.463636 \nL 763.656656 225.463636 \nL 763.778129 266.645455 \nL 763.934309 266.645455 \nL 764.021076 225.463636 \nL 764.038429 266.645455 \nL 764.090489 266.645455 \nL 764.211963 225.463636 \nL 764.298729 225.463636 \nL 764.385496 266.645455 \nL 764.402849 225.463636 \nL 764.420203 225.463636 \nL 764.541676 266.645455 \nL 764.680503 266.645455 \nL 764.697856 225.463636 \nL 764.784623 266.645455 \nL 764.871389 266.645455 \nL 764.940803 143.1 \nL 764.975509 266.645455 \nL 765.166396 266.645455 \nL 765.218456 225.463636 \nL 765.270516 266.645455 \nL 765.426696 266.645455 \nL 765.530816 225.463636 \nL 765.65229 266.645455 \nL 765.773763 225.463636 \nL 765.825823 225.463636 \nL 765.947296 266.645455 \nL 766.190243 266.645455 \nL 766.207596 225.463636 \nL 766.294363 266.645455 \nL 766.38113 266.645455 \nL 766.450543 184.281818 \nL 766.48525 266.645455 \nL 766.814963 266.645455 \nL 766.936436 225.463636 \nL 767.05791 266.645455 \nL 767.21409 266.645455 \nL 767.231443 184.281818 \nL 767.31821 266.645455 \nL 768.550297 266.645455 \nL 768.56765 225.463636 \nL 768.654417 266.645455 \nL 769.29649 266.645455 \nL 769.34855 225.463636 \nL 769.40061 266.645455 \nL 769.799737 266.645455 \nL 769.834444 225.463636 \nL 769.903857 266.645455 \nL 770.007977 266.645455 \nL 770.060037 225.463636 \nL 770.112097 266.645455 \nL 770.146804 266.645455 \nL 770.216217 225.463636 \nL 770.250924 266.645455 \nL 770.580637 266.645455 \nL 770.667404 225.463636 \nL 770.684757 266.645455 \nL 771.344184 266.645455 \nL 771.465657 225.463636 \nL 771.517717 225.463636 \nL 771.639191 266.645455 \nL 771.882137 266.645455 \nL 772.003611 225.463636 \nL 772.229204 225.463636 \nL 772.246557 184.281818 \nL 772.315971 266.645455 \nL 773.044811 266.645455 \nL 773.062164 184.281818 \nL 773.148931 266.645455 \nL 773.253051 266.645455 \nL 773.270404 143.1 \nL 773.357171 266.645455 \nL 773.895124 266.645455 \nL 773.912478 143.1 \nL 773.999244 266.645455 \nL 774.797498 266.645455 \nL 774.832204 184.281818 \nL 774.901618 266.645455 \nL 775.161918 266.645455 \nL 775.179271 225.463636 \nL 775.266038 266.645455 \nL 775.908111 266.645455 \nL 775.925465 143.1 \nL 776.012231 266.645455 \nL 776.359298 266.645455 \nL 776.498125 143.1 \nL 777.435205 266.645455 \nL 777.730212 266.645455 \nL 778.059925 143.1 \nL 778.181398 266.645455 \nL 778.997005 266.645455 \nL 779.014358 225.463636 \nL 779.101125 266.645455 \nL 779.326719 266.645455 \nL 779.534959 225.463636 \nL 779.639079 184.281818 \nL 779.673785 184.281818 \nL 779.691139 143.1 \nL 779.708492 266.645455 \nL 780.541452 266.645455 \nL 780.767045 143.1 \nL 780.975285 266.645455 \nL 781.912366 266.645455 \nL 782.016486 143.1 \nL 782.380906 266.645455 \nL 782.571792 184.281818 \nL 783.005626 225.463636 \nL 783.022979 184.281818 \nL 783.075039 266.645455 \nL 783.960059 266.645455 \nL 783.994766 225.463636 \nL 784.740959 266.645455 \nL 784.775666 143.1 \nL 784.793019 266.645455 \nL 785.088026 143.1 \nL 785.226853 266.645455 \nL 785.487153 184.281818 \nL 785.556566 266.645455 \nL 785.764806 143.1 \nL 785.9904 266.645455 \nL 786.736593 184.281818 \nL 786.858067 101.918182 \nL 786.87542 143.1 \nL 786.892773 143.1 \nL 786.92748 101.918182 \nL 786.996893 143.1 \nL 787.378667 143.1 \nL 787.673673 266.645455 \nL 787.847207 143.1 \nL 788.402513 184.281818 \nL 788.48928 143.1 \nL 788.975174 266.645455 \nL 789.3743 266.645455 \nL 789.651954 184.281818 \nL 789.808134 266.645455 \nL 789.929607 143.1 \nL 790.120494 266.645455 \nL 790.484914 184.281818 \nL 790.727861 266.645455 \nL 790.762567 143.1 \nL 791.074927 266.645455 \nL 791.092281 143.1 \nL 791.317874 225.463636 \nL 791.595527 143.1 \nL 792.324367 266.645455 \nL 792.567314 184.281818 \nL 792.706141 266.645455 \nL 793.573808 266.645455 \nL 793.903521 143.1 \nL 793.955581 266.645455 \nL 794.233234 184.281818 \nL 794.320001 266.645455 \nL 794.441474 143.1 \nL 794.701775 143.1 \nL 794.736481 266.645455 \nL 794.771188 143.1 \nL 795.083548 143.1 \nL 795.586795 266.645455 \nL 795.604148 225.463636 \nL 795.638855 266.645455 \nL 796.176808 143.1 \nL 796.350341 143.1 \nL 796.454461 266.645455 \nL 796.471815 225.463636 \nL 796.489168 101.918182 \nL 796.923002 143.1 \nL 796.975062 266.645455 \nL 797.148595 184.281818 \nL 797.287422 266.645455 \nL 797.322128 143.1 \nL 797.755962 266.645455 \nL 797.773315 143.1 \nL 798.137735 266.645455 \nL 798.259208 143.1 \nL 798.432742 184.281818 \nL 798.484802 101.918182 \nL 798.554215 266.645455 \nL 798.675689 143.1 \nL 798.866575 143.1 \nL 799.005402 225.463636 \nL 799.335115 266.645455 \nL 799.439235 143.1 \nL 799.751595 266.645455 \nL 800.619262 266.645455 \nL 801.035742 101.918182 \nL 801.417516 266.645455 \nL 801.851349 266.645455 \nL 801.868702 225.463636 \nL 801.955469 266.645455 \nL 801.972822 266.645455 \nL 802.007529 143.1 \nL 802.267829 266.645455 \nL 803.794923 184.281818 \nL 803.812276 19.554545 \nL 803.829629 184.281818 \nL 804.037869 266.645455 \nL 804.228756 184.281818 \nL 804.315523 266.645455 \nL 804.732003 143.1 \nL 804.81877 266.645455 \nL 804.92289 143.1 \nL 805.165836 266.645455 \nL 805.634376 143.1 \nL 805.825263 266.645455 \nL 805.894676 184.281818 \nL 806.38057 266.645455 \nL 806.519397 266.645455 \nL 806.58881 143.1 \nL 806.918523 266.645455 \nL 807.716777 266.645455 \nL 807.73413 101.918182 \nL 807.751483 266.645455 \nL 808.04649 225.463636 \nL 808.063843 266.645455 \nL 808.584444 266.645455 \nL 808.810037 225.463636 \nL 808.966217 143.1 \nL 809.313284 266.645455 \nL 810.059477 225.463636 \nL 810.128891 266.645455 \nL 810.215657 143.1 \nL 810.562724 266.645455 \nL 810.753611 143.1 \nL 810.927144 143.1 \nL 811.065971 266.645455 \nL 811.482451 266.645455 \nL 811.534511 143.1 \nL 811.551864 266.645455 \nL 812.541004 266.645455 \nL 812.645124 184.281818 \nL 812.766598 266.645455 \nL 812.801304 143.1 \nL 812.836011 266.645455 \nL 812.974838 266.645455 \nL 813.078958 184.281818 \nL 813.096311 266.645455 \nL 813.165724 184.281818 \nL 813.877211 266.645455 \nL 813.894564 225.463636 \nL 814.050745 266.645455 \nL 814.311045 143.1 \nL 814.328398 266.645455 \nL 814.779585 266.645455 \nL 814.918411 143.1 \nL 815.126651 266.645455 \nL 816.029025 266.645455 \nL 816.046378 225.463636 \nL 816.775218 266.645455 \nL 816.809925 184.281818 \nL 816.879338 225.463636 \nL 816.948752 184.281818 \nL 817.469352 266.645455 \nL 818.250252 266.645455 \nL 818.406432 225.463636 \nL 818.545259 266.645455 \nL 818.909679 266.645455 \nL 818.979092 143.1 \nL 819.291452 266.645455 \nL 819.343512 143.1 \nL 819.360865 266.645455 \nL 819.464985 266.645455 \nL 819.517045 225.463636 \nL 819.517045 225.463636 \n\" style=\"fill:none;stroke:#1f77b4;stroke-linecap:square;stroke-width:1.5;\"/>\n   </g>\n   <g id=\"patch_3\">\n    <path d=\"M 20.5625 279 \nL 20.5625 7.2 \n\" style=\"fill:none;stroke:#000000;stroke-linecap:square;stroke-linejoin:miter;stroke-width:0.8;\"/>\n   </g>\n   <g id=\"patch_4\">\n    <path d=\"M 857.5625 279 \nL 857.5625 7.2 \n\" style=\"fill:none;stroke:#000000;stroke-linecap:square;stroke-linejoin:miter;stroke-width:0.8;\"/>\n   </g>\n   <g id=\"patch_5\">\n    <path d=\"M 20.5625 279 \nL 857.5625 279 \n\" style=\"fill:none;stroke:#000000;stroke-linecap:square;stroke-linejoin:miter;stroke-width:0.8;\"/>\n   </g>\n   <g id=\"patch_6\">\n    <path d=\"M 20.5625 7.2 \nL 857.5625 7.2 \n\" style=\"fill:none;stroke:#000000;stroke-linecap:square;stroke-linejoin:miter;stroke-width:0.8;\"/>\n   </g>\n  </g>\n </g>\n <defs>\n  <clipPath id=\"pd7491b3eda\">\n   <rect height=\"271.8\" width=\"837\" x=\"20.5625\" y=\"7.2\"/>\n  </clipPath>\n </defs>\n</svg>\n",
      "image/png": "[encoded data removed]"
     },
     "metadata": {
      "needs_background": "light"
     }
    },
    {
     "output_type": "execute_result",
     "data": {
      "text/plain": [
       "      device_id  pm25                time  temperature  humidity  windSpeed  \\\n",
       "108      daxing   NaN 2016-01-05 12:00:00     0.016667      0.21      11.19   \n",
       "109      daxing   NaN 2016-01-05 13:00:00     0.016667      0.21       8.96   \n",
       "212      daxing   NaN 2016-01-09 20:00:00    -3.983333      0.54       0.00   \n",
       "274      daxing   NaN 2016-01-12 10:00:00    -5.994444      0.32      13.42   \n",
       "685      daxing   NaN 2016-01-29 13:00:00    -2.061111      0.36       4.82   \n",
       "...         ...   ...                 ...          ...       ...        ...   \n",
       "43695     1061A   NaN 2020-12-25 15:00:00    -2.161111      0.36       4.41   \n",
       "43696     1061A   NaN 2020-12-25 16:00:00    -2.888889      0.37       2.71   \n",
       "43700     1061A   NaN 2020-12-25 20:00:00    -8.288889      0.52       2.81   \n",
       "43845     1061A   NaN 2020-12-31 21:00:00   -14.983333      0.31       5.85   \n",
       "43848     1061A   NaN 2021-01-01 00:00:00   -17.216667      0.37       4.38   \n",
       "\n",
       "       windBearing  precipIntensity  \n",
       "108          330.0              0.0  \n",
       "109          311.0              0.0  \n",
       "212            0.0              0.0  \n",
       "274           20.0              0.0  \n",
       "685          166.0              0.0  \n",
       "...            ...              ...  \n",
       "43695        309.0              0.0  \n",
       "43696        347.0              0.0  \n",
       "43700         33.0              0.0  \n",
       "43845        318.0              0.0  \n",
       "43848        335.0              0.0  \n",
       "\n",
       "[83745 rows x 8 columns]"
      ],
      "text/html": "<div>\n<style scoped>\n    .dataframe tbody tr th:only-of-type {\n        vertical-align: middle;\n    }\n\n    .dataframe tbody tr th {\n        vertical-align: top;\n    }\n\n    .dataframe thead th {\n        text-align: right;\n    }\n</style>\n<table border=\"1\" class=\"dataframe\">\n  <thead>\n    <tr style=\"text-align: right;\">\n      <th></th>\n      <th>device_id</th>\n      <th>pm25</th>\n      <th>time</th>\n      <th>temperature</th>\n      <th>humidity</th>\n      <th>windSpeed</th>\n      <th>windBearing</th>\n      <th>precipIntensity</th>\n    </tr>\n  </thead>\n  <tbody>\n    <tr>\n      <th>108</th>\n      <td>daxing</td>\n      <td>NaN</td>\n      <td>2016-01-05 12:00:00</td>\n      <td>0.016667</td>\n      <td>0.21</td>\n      <td>11.19</td>\n      <td>330.0</td>\n      <td>0.0</td>\n    </tr>\n    <tr>\n      <th>109</th>\n      <td>daxing</td>\n      <td>NaN</td>\n      <td>2016-01-05 13:00:00</td>\n      <td>0.016667</td>\n      <td>0.21</td>\n      <td>8.96</td>\n      <td>311.0</td>\n      <td>0.0</td>\n    </tr>\n    <tr>\n      <th>212</th>\n      <td>daxing</td>\n      <td>NaN</td>\n      <td>2016-01-09 20:00:00</td>\n      <td>-3.983333</td>\n      <td>0.54</td>\n      <td>0.00</td>\n      <td>0.0</td>\n      <td>0.0</td>\n    </tr>\n    <tr>\n      <th>274</th>\n      <td>daxing</td>\n      <td>NaN</td>\n      <td>2016-01-12 10:00:00</td>\n      <td>-5.994444</td>\n      <td>0.32</td>\n      <td>13.42</td>\n      <td>20.0</td>\n      <td>0.0</td>\n    </tr>\n    <tr>\n      <th>685</th>\n      <td>daxing</td>\n      <td>NaN</td>\n      <td>2016-01-29 13:00:00</td>\n      <td>-2.061111</td>\n      <td>0.36</td>\n      <td>4.82</td>\n      <td>166.0</td>\n      <td>0.0</td>\n    </tr>\n    <tr>\n      <th>...</th>\n      <td>...</td>\n      <td>...</td>\n      <td>...</td>\n      <td>...</td>\n      <td>...</td>\n      <td>...</td>\n      <td>...</td>\n      <td>...</td>\n    </tr>\n    <tr>\n      <th>43695</th>\n      <td>1061A</td>\n      <td>NaN</td>\n      <td>2020-12-25 15:00:00</td>\n      <td>-2.161111</td>\n      <td>0.36</td>\n      <td>4.41</td>\n      <td>309.0</td>\n      <td>0.0</td>\n    </tr>\n    <tr>\n      <th>43696</th>\n      <td>1061A</td>\n      <td>NaN</td>\n      <td>2020-12-25 16:00:00</td>\n      <td>-2.888889</td>\n      <td>0.37</td>\n      <td>2.71</td>\n      <td>347.0</td>\n      <td>0.0</td>\n    </tr>\n    <tr>\n      <th>43700</th>\n      <td>1061A</td>\n      <td>NaN</td>\n      <td>2020-12-25 20:00:00</td>\n      <td>-8.288889</td>\n      <td>0.52</td>\n      <td>2.81</td>\n      <td>33.0</td>\n      <td>0.0</td>\n    </tr>\n    <tr>\n      <th>43845</th>\n      <td>1061A</td>\n      <td>NaN</td>\n      <td>2020-12-31 21:00:00</td>\n      <td>-14.983333</td>\n      <td>0.31</td>\n      <td>5.85</td>\n      <td>318.0</td>\n      <td>0.0</td>\n    </tr>\n    <tr>\n      <th>43848</th>\n      <td>1061A</td>\n      <td>NaN</td>\n      <td>2021-01-01 00:00:00</td>\n      <td>-17.216667</td>\n      <td>0.37</td>\n      <td>4.38</td>\n      <td>335.0</td>\n      <td>0.0</td>\n    </tr>\n  </tbody>\n</table>\n<p>83745 rows × 8 columns</p>\n</div>"
     },
     "metadata": {},
     "execution_count": 99
    }
   ],
   "source": [
    "rel_fields = ['device_id', 'pm25', 'time', 'temperature', 'humidity', 'windSpeed', 'windBearing', 'precipIntensity'\n",
    "            ]\n",
    "rel_devices = [ 'qianmen', 'changping', 'daxing', 'shunyi', # Beijing\n",
    "                '1056A', # Baoding\n",
    "                # '1069A', # Langfang\n",
    "                '1061A', # Zhangjiakou\n",
    "                '1037A', # Tangshan\n",
    "                ]\n",
    "\n",
    "relevant = data.measurements[rel_fields]\n",
    "relevant = relevant[relevant['device_id'].isin(rel_devices)]\n",
    "\n",
    "relevant_missing = analyse_missing_data(relevant)\n",
    "relevant_missing"
   ]
  },
  {
   "cell_type": "code",
   "execution_count": 98,
   "metadata": {},
   "outputs": [
    {
     "output_type": "display_data",
     "data": {
      "application/vnd.plotly.v1+json": {
       "config": {
        "plotlyServerURL": "https://plot.ly"
       },
       "data": [
        {
         "customdata": [
          [
           "dongsi",
           null
          ],
          [
           "tiantan",
           null
          ],
          [
           "guanyuan",
           null
          ],
          [
           "wanshouxigong",
           null
          ],
          [
           "aotizhongxin",
           null
          ],
          [
           "nongzhanguan",
           null
          ],
          [
           "wanliu",
           null
          ],
          [
           "beibuxinqu",
           null
          ],
          [
           "zhiwuyuan",
           null
          ],
          [
           "fengtaihuayuan",
           null
          ],
          [
           "yungang",
           null
          ],
          [
           "gucheng",
           null
          ],
          [
           "fangshan",
           null
          ],
          [
           "daxing",
           null
          ],
          [
           "yizhuang",
           null
          ],
          [
           "tongzhou",
           null
          ],
          [
           "shunyi",
           null
          ],
          [
           "changping",
           null
          ],
          [
           "mentougou",
           null
          ],
          [
           "pinggu",
           null
          ],
          [
           "huairou",
           null
          ],
          [
           "miyun",
           null
          ],
          [
           "yanqing",
           null
          ],
          [
           "dingling",
           null
          ],
          [
           "badaling",
           null
          ],
          [
           "miyunshuiku",
           null
          ],
          [
           "donggaocun",
           null
          ],
          [
           "yongledian",
           null
          ],
          [
           "yufa",
           null
          ],
          [
           "liulihe",
           null
          ],
          [
           "qianmen",
           null
          ],
          [
           "yongdingmennei",
           null
          ],
          [
           "xizhimenbei",
           null
          ],
          [
           "nansanhuan",
           null
          ],
          [
           "dongsihuan",
           null
          ],
          [
           "1029A",
           "Staff Hospital"
          ],
          [
           "1030A",
           "High-tech Zone"
          ],
          [
           "1031A",
           "Northwest Water Source"
          ],
          [
           "1032A",
           "Southwest Higher Education"
          ],
          [
           "1033A",
           "Century Park"
          ],
          [
           "1034A",
           "People's Hall"
          ],
          [
           "1035A",
           "Fenglong Mountain"
          ],
          [
           "1036A",
           "Supply and Marketing Cooperative"
          ],
          [
           "1037A",
           "radar station"
          ],
          [
           "1038A",
           "Material Bureau"
          ],
          [
           "1039A",
           "Ceramic Company"
          ],
          [
           "1040A",
           "Twelfth Middle School"
          ],
          [
           "1041A",
           "Xiaoshan"
          ],
          [
           "1042A",
           "Beidaihe Environmental Protection Bureau"
          ],
          [
           "1043A",
           "the first pass"
          ],
          [
           "1044A",
           "Monitoring Station"
          ],
          [
           "1045A",
           "Municipal Government"
          ],
          [
           "1046A",
           "Jianshe Building"
          ],
          [
           "1047A",
           "Environmental Protection Bureau"
          ],
          [
           "1048A",
           "East Sewage Treatment Plant"
          ],
          [
           "1049A",
           "Mining Institute"
          ],
          [
           "1050A",
           "Congtai Park"
          ],
          [
           "1051A",
           "Swimming Pool"
          ],
          [
           "1052A",
           "Huadian District 2"
          ],
          [
           "1053A",
           "Reception Center"
          ],
          [
           "1054A",
           "Surface Water Plant"
          ],
          [
           "1055A",
           "Film Factory"
          ],
          [
           "1056A",
           "Monitoring Station"
          ],
          [
           "1057A",
           "People's Park"
          ],
          [
           "1058A",
           "Tanji Factory"
          ],
          [
           "1059A",
           "Hardware Depot"
          ],
          [
           "1060A",
           "Century Plaza"
          ],
          [
           "1061A",
           "North Pump House"
          ],
          [
           "1062A",
           "Railway"
          ],
          [
           "1063A",
           "Bank of China"
          ],
          [
           "1064A",
           "Development Zone"
          ],
          [
           "1065A",
           "Cultural Center"
          ],
          [
           "1066A",
           "Li Palace"
          ],
          [
           "1067A",
           "Medicinal Materials Company"
          ],
          [
           "1068A",
           "Development Zone"
          ],
          [
           "1069A",
           "Environmental Monitoring Supervision Center"
          ],
          [
           "1070A",
           "Beihua University of Aeronautics and Astronautics"
          ],
          [
           "1071A",
           "Cang County Urban Construction Bureau"
          ],
          [
           "1072A",
           "TV relay station"
          ],
          [
           "1073A",
           "Municipal Environmental Protection Bureau"
          ],
          [
           "1074A",
           "North Motor Factory"
          ],
          [
           "1075A",
           "City Monitoring Station"
          ],
          [
           "1076A",
           "Municipal Environmental Protection Bureau"
          ],
          [
           "1077A",
           "Dahuo Spring"
          ],
          [
           "1078A",
           "Xing Teachers College"
          ],
          [
           "1079A",
           "Road and Bridge Company"
          ],
          [
           "1080A",
           "Municipal Environmental Protection Bureau"
          ]
         ],
         "hovertemplate": "<b>%{hovertext}</b><br><br>lat=%{lat}<br>lon=%{lon}<br>device_id=%{customdata[0]}<br>device_name=%{customdata[1]}<br>color=%{marker.color}<extra></extra>",
         "hovertext": [
          "Beijing",
          "Beijing",
          "Beijing",
          "Beijing",
          "Beijing",
          "Beijing",
          "Beijing",
          "Beijing",
          "Beijing",
          "Beijing",
          "Beijing",
          "Beijing",
          "Beijing",
          "Beijing",
          "Beijing",
          "Beijing",
          "Beijing",
          "Beijing",
          "Beijing",
          "Beijing",
          "Beijing",
          "Beijing",
          "Beijing",
          "Beijing",
          "Beijing",
          "Beijing",
          "Beijing",
          "Beijing",
          "Beijing",
          "Beijing",
          "Beijing",
          "Beijing",
          "Beijing",
          "Beijing",
          "Beijing",
          "Shijiazhuang",
          "Shijiazhuang",
          "Shijiazhuang",
          "Shijiazhuang",
          "Shijiazhuang",
          "Shijiazhuang",
          "Shijiazhuang",
          "Tangshan",
          "Tangshan",
          "Tangshan",
          "Tangshan",
          "Tangshan",
          "Tangshan",
          "Qinhuangdao",
          "Qinhuangdao",
          "Qinhuangdao",
          "Qinhuangdao",
          "Qinhuangdao",
          "Handan",
          "Handan",
          "Handan",
          "Handan",
          "Baoding",
          "Baoding",
          "Baoding",
          "Baoding",
          "Baoding",
          "Baoding",
          "Zhangjiakou",
          "Zhangjiakou",
          "Zhangjiakou",
          "Zhangjiakou",
          "Zhangjiakou",
          "Chengde",
          "Chengde",
          "Chengde",
          "Chengde",
          "Chengde",
          "Langfang",
          "Langfang",
          "Langfang",
          "Langfang",
          "Cangzhou",
          "Cangzhou",
          "Cangzhou",
          "Hengshui",
          "Hengshui",
          "Hengshui",
          "Xingtai",
          "Xingtai",
          "Xingtai",
          "Xingtai"
         ],
         "lat": [
          39.929,
          39.886,
          39.929,
          39.878,
          39.982,
          39.937,
          39.987,
          40.09,
          40.002,
          39.863,
          39.824,
          39.914,
          39.742,
          39.718,
          39.795,
          39.886,
          40.127,
          40.217,
          39.937,
          40.143,
          40.328,
          40.37,
          40.453,
          40.292,
          40.365,
          40.499,
          40.1,
          39.712,
          39.52,
          39.58,
          39.899,
          39.876,
          39.954,
          39.856,
          39.939,
          38.0513,
          38.0398,
          38.1398,
          38.00583333,
          38.01777778,
          38.0524,
          37.9097,
          39.6308,
          39.643,
          39.6407,
          39.6679,
          39.65782,
          39.6295,
          39.8283,
          40.0181,
          39.9567,
          39.9358,
          39.9419,
          36.61763,
          36.6164,
          36.5776,
          36.61981,
          38.8632,
          38.8957,
          38.9108,
          38.8416,
          38.8756,
          38.8707,
          40.8367,
          40.79481,
          40.8115,
          40.7688,
          40.8725,
          40.9161,
          40.9843,
          40.9359,
          40.9733,
          41.0112,
          39.5178,
          39.5747,
          39.5571,
          39.5343,
          38.2991,
          38.3254,
          38.3228,
          37.7575,
          37.7379,
          37.739,
          37.0967,
          37.0533,
          37.0964,
          37.062
         ],
         "legendgroup": "",
         "lon": [
          116.417,
          116.407,
          116.339,
          116.352,
          116.397,
          116.461,
          116.287,
          116.174,
          116.207,
          116.279,
          116.146,
          116.184,
          116.136,
          116.404,
          116.506,
          116.663,
          116.655,
          116.23,
          116.106,
          117.1,
          116.628,
          116.832,
          115.972,
          116.22,
          115.988,
          116.911,
          117.12,
          116.783,
          116.3,
          116,
          116.395,
          116.394,
          116.349,
          116.368,
          116.483,
          114.4548,
          114.6046,
          114.5019,
          114.4586111,
          114.53305559999998,
          114.5214,
          114.3541,
          118.1662,
          118.144,
          118.1853,
          118.2185,
          118.1838,
          118.1997,
          119.5259,
          119.7624,
          119.6023,
          119.607,
          119.5369,
          114.5129,
          114.5426,
          114.5035,
          114.4965,
          115.493,
          115.5223,
          115.4713,
          115.4612,
          115.442,
          115.5214,
          114.8985,
          114.892,
          114.8814,
          114.9032,
          114.904,
          117.9664,
          117.9525,
          117.963,
          117.8184,
          117.9384,
          116.6838,
          116.7729,
          116.715,
          116.7464,
          116.8854,
          116.8584,
          116.8709,
          115.6951,
          115.6426,
          115.6906,
          114.4821,
          114.5261,
          114.5331,
          114.4854
         ],
         "marker": {
          "color": [
           0,
           0,
           0,
           0,
           0,
           0,
           0,
           0,
           0,
           0,
           0,
           0,
           0,
           0,
           0,
           0,
           0,
           0,
           0,
           0,
           0,
           0,
           0,
           0,
           0,
           0,
           0,
           0,
           0,
           0,
           0,
           0,
           0,
           0,
           0,
           1,
           1,
           1,
           1,
           1,
           1,
           1,
           1,
           1,
           1,
           1,
           1,
           1,
           1,
           1,
           1,
           1,
           1,
           1,
           1,
           1,
           1,
           1,
           1,
           1,
           1,
           1,
           1,
           1,
           1,
           1,
           1,
           1,
           1,
           1,
           1,
           1,
           1,
           1,
           1,
           1,
           1,
           1,
           1,
           1,
           1,
           1,
           1,
           1,
           1,
           1,
           1
          ],
          "coloraxis": "coloraxis"
         },
         "mode": "markers",
         "name": "",
         "showlegend": false,
         "subplot": "mapbox",
         "type": "scattermapbox"
        }
       ],
       "layout": {
        "autosize": true,
        "coloraxis": {
         "colorbar": {
          "title": {
           "text": "color"
          }
         },
         "colorscale": [
          [
           0,
           "rgb(0,0,0)"
          ],
          [
           0.25,
           "rgb(230,0,0)"
          ],
          [
           0.5,
           "rgb(230,210,0)"
          ],
          [
           0.75,
           "rgb(255,255,255)"
          ],
          [
           1,
           "rgb(160,200,255)"
          ]
         ]
        },
        "height": 700,
        "hovermode": "closest",
        "legend": {
         "tracegroupgap": 0
        },
        "mapbox": {
         "bearing": 0,
         "center": {
          "lat": 39,
          "lon": 117
         },
         "domain": {
          "x": [
           0,
           1
          ],
          "y": [
           0,
           1
          ]
         },
         "pitch": 0,
         "style": "stamen-terrain",
         "zoom": 5
        },
        "margin": {
         "t": 60
        },
        "showlegend": false,
        "template": {
         "data": {
          "bar": [
           {
            "error_x": {
             "color": "#2a3f5f"
            },
            "error_y": {
             "color": "#2a3f5f"
            },
            "marker": {
             "line": {
              "color": "#E5ECF6",
              "width": 0.5
             }
            },
            "type": "bar"
           }
          ],
          "barpolar": [
           {
            "marker": {
             "line": {
              "color": "#E5ECF6",
              "width": 0.5
             }
            },
            "type": "barpolar"
           }
          ],
          "carpet": [
           {
            "aaxis": {
             "endlinecolor": "#2a3f5f",
             "gridcolor": "white",
             "linecolor": "white",
             "minorgridcolor": "white",
             "startlinecolor": "#2a3f5f"
            },
            "baxis": {
             "endlinecolor": "#2a3f5f",
             "gridcolor": "white",
             "linecolor": "white",
             "minorgridcolor": "white",
             "startlinecolor": "#2a3f5f"
            },
            "type": "carpet"
           }
          ],
          "choropleth": [
           {
            "colorbar": {
             "outlinewidth": 0,
             "ticks": ""
            },
            "type": "choropleth"
           }
          ],
          "contour": [
           {
            "colorbar": {
             "outlinewidth": 0,
             "ticks": ""
            },
            "colorscale": [
             [
              0,
              "#0d0887"
             ],
             [
              0.1111111111111111,
              "#46039f"
             ],
             [
              0.2222222222222222,
              "#7201a8"
             ],
             [
              0.3333333333333333,
              "#9c179e"
             ],
             [
              0.4444444444444444,
              "#bd3786"
             ],
             [
              0.5555555555555556,
              "#d8576b"
             ],
             [
              0.6666666666666666,
              "#ed7953"
             ],
             [
              0.7777777777777778,
              "#fb9f3a"
             ],
             [
              0.8888888888888888,
              "#fdca26"
             ],
             [
              1,
              "#f0f921"
             ]
            ],
            "type": "contour"
           }
          ],
          "contourcarpet": [
           {
            "colorbar": {
             "outlinewidth": 0,
             "ticks": ""
            },
            "type": "contourcarpet"
           }
          ],
          "heatmap": [
           {
            "colorbar": {
             "outlinewidth": 0,
             "ticks": ""
            },
            "colorscale": [
             [
              0,
              "#0d0887"
             ],
             [
              0.1111111111111111,
              "#46039f"
             ],
             [
              0.2222222222222222,
              "#7201a8"
             ],
             [
              0.3333333333333333,
              "#9c179e"
             ],
             [
              0.4444444444444444,
              "#bd3786"
             ],
             [
              0.5555555555555556,
              "#d8576b"
             ],
             [
              0.6666666666666666,
              "#ed7953"
             ],
             [
              0.7777777777777778,
              "#fb9f3a"
             ],
             [
              0.8888888888888888,
              "#fdca26"
             ],
             [
              1,
              "#f0f921"
             ]
            ],
            "type": "heatmap"
           }
          ],
          "heatmapgl": [
           {
            "colorbar": {
             "outlinewidth": 0,
             "ticks": ""
            },
            "colorscale": [
             [
              0,
              "#0d0887"
             ],
             [
              0.1111111111111111,
              "#46039f"
             ],
             [
              0.2222222222222222,
              "#7201a8"
             ],
             [
              0.3333333333333333,
              "#9c179e"
             ],
             [
              0.4444444444444444,
              "#bd3786"
             ],
             [
              0.5555555555555556,
              "#d8576b"
             ],
             [
              0.6666666666666666,
              "#ed7953"
             ],
             [
              0.7777777777777778,
              "#fb9f3a"
             ],
             [
              0.8888888888888888,
              "#fdca26"
             ],
             [
              1,
              "#f0f921"
             ]
            ],
            "type": "heatmapgl"
           }
          ],
          "histogram": [
           {
            "marker": {
             "colorbar": {
              "outlinewidth": 0,
              "ticks": ""
             }
            },
            "type": "histogram"
           }
          ],
          "histogram2d": [
           {
            "colorbar": {
             "outlinewidth": 0,
             "ticks": ""
            },
            "colorscale": [
             [
              0,
              "#0d0887"
             ],
             [
              0.1111111111111111,
              "#46039f"
             ],
             [
              0.2222222222222222,
              "#7201a8"
             ],
             [
              0.3333333333333333,
              "#9c179e"
             ],
             [
              0.4444444444444444,
              "#bd3786"
             ],
             [
              0.5555555555555556,
              "#d8576b"
             ],
             [
              0.6666666666666666,
              "#ed7953"
             ],
             [
              0.7777777777777778,
              "#fb9f3a"
             ],
             [
              0.8888888888888888,
              "#fdca26"
             ],
             [
              1,
              "#f0f921"
             ]
            ],
            "type": "histogram2d"
           }
          ],
          "histogram2dcontour": [
           {
            "colorbar": {
             "outlinewidth": 0,
             "ticks": ""
            },
            "colorscale": [
             [
              0,
              "#0d0887"
             ],
             [
              0.1111111111111111,
              "#46039f"
             ],
             [
              0.2222222222222222,
              "#7201a8"
             ],
             [
              0.3333333333333333,
              "#9c179e"
             ],
             [
              0.4444444444444444,
              "#bd3786"
             ],
             [
              0.5555555555555556,
              "#d8576b"
             ],
             [
              0.6666666666666666,
              "#ed7953"
             ],
             [
              0.7777777777777778,
              "#fb9f3a"
             ],
             [
              0.8888888888888888,
              "#fdca26"
             ],
             [
              1,
              "#f0f921"
             ]
            ],
            "type": "histogram2dcontour"
           }
          ],
          "mesh3d": [
           {
            "colorbar": {
             "outlinewidth": 0,
             "ticks": ""
            },
            "type": "mesh3d"
           }
          ],
          "parcoords": [
           {
            "line": {
             "colorbar": {
              "outlinewidth": 0,
              "ticks": ""
             }
            },
            "type": "parcoords"
           }
          ],
          "pie": [
           {
            "automargin": true,
            "type": "pie"
           }
          ],
          "scatter": [
           {
            "marker": {
             "colorbar": {
              "outlinewidth": 0,
              "ticks": ""
             }
            },
            "type": "scatter"
           }
          ],
          "scatter3d": [
           {
            "line": {
             "colorbar": {
              "outlinewidth": 0,
              "ticks": ""
             }
            },
            "marker": {
             "colorbar": {
              "outlinewidth": 0,
              "ticks": ""
             }
            },
            "type": "scatter3d"
           }
          ],
          "scattercarpet": [
           {
            "marker": {
             "colorbar": {
              "outlinewidth": 0,
              "ticks": ""
             }
            },
            "type": "scattercarpet"
           }
          ],
          "scattergeo": [
           {
            "marker": {
             "colorbar": {
              "outlinewidth": 0,
              "ticks": ""
             }
            },
            "type": "scattergeo"
           }
          ],
          "scattergl": [
           {
            "marker": {
             "colorbar": {
              "outlinewidth": 0,
              "ticks": ""
             }
            },
            "type": "scattergl"
           }
          ],
          "scattermapbox": [
           {
            "marker": {
             "colorbar": {
              "outlinewidth": 0,
              "ticks": ""
             }
            },
            "type": "scattermapbox"
           }
          ],
          "scatterpolar": [
           {
            "marker": {
             "colorbar": {
              "outlinewidth": 0,
              "ticks": ""
             }
            },
            "type": "scatterpolar"
           }
          ],
          "scatterpolargl": [
           {
            "marker": {
             "colorbar": {
              "outlinewidth": 0,
              "ticks": ""
             }
            },
            "type": "scatterpolargl"
           }
          ],
          "scatterternary": [
           {
            "marker": {
             "colorbar": {
              "outlinewidth": 0,
              "ticks": ""
             }
            },
            "type": "scatterternary"
           }
          ],
          "surface": [
           {
            "colorbar": {
             "outlinewidth": 0,
             "ticks": ""
            },
            "colorscale": [
             [
              0,
              "#0d0887"
             ],
             [
              0.1111111111111111,
              "#46039f"
             ],
             [
              0.2222222222222222,
              "#7201a8"
             ],
             [
              0.3333333333333333,
              "#9c179e"
             ],
             [
              0.4444444444444444,
              "#bd3786"
             ],
             [
              0.5555555555555556,
              "#d8576b"
             ],
             [
              0.6666666666666666,
              "#ed7953"
             ],
             [
              0.7777777777777778,
              "#fb9f3a"
             ],
             [
              0.8888888888888888,
              "#fdca26"
             ],
             [
              1,
              "#f0f921"
             ]
            ],
            "type": "surface"
           }
          ],
          "table": [
           {
            "cells": {
             "fill": {
              "color": "#EBF0F8"
             },
             "line": {
              "color": "white"
             }
            },
            "header": {
             "fill": {
              "color": "#C8D4E3"
             },
             "line": {
              "color": "white"
             }
            },
            "type": "table"
           }
          ]
         },
         "layout": {
          "annotationdefaults": {
           "arrowcolor": "#2a3f5f",
           "arrowhead": 0,
           "arrowwidth": 1
          },
          "autotypenumbers": "strict",
          "coloraxis": {
           "colorbar": {
            "outlinewidth": 0,
            "ticks": ""
           }
          },
          "colorscale": {
           "diverging": [
            [
             0,
             "#8e0152"
            ],
            [
             0.1,
             "#c51b7d"
            ],
            [
             0.2,
             "#de77ae"
            ],
            [
             0.3,
             "#f1b6da"
            ],
            [
             0.4,
             "#fde0ef"
            ],
            [
             0.5,
             "#f7f7f7"
            ],
            [
             0.6,
             "#e6f5d0"
            ],
            [
             0.7,
             "#b8e186"
            ],
            [
             0.8,
             "#7fbc41"
            ],
            [
             0.9,
             "#4d9221"
            ],
            [
             1,
             "#276419"
            ]
           ],
           "sequential": [
            [
             0,
             "#0d0887"
            ],
            [
             0.1111111111111111,
             "#46039f"
            ],
            [
             0.2222222222222222,
             "#7201a8"
            ],
            [
             0.3333333333333333,
             "#9c179e"
            ],
            [
             0.4444444444444444,
             "#bd3786"
            ],
            [
             0.5555555555555556,
             "#d8576b"
            ],
            [
             0.6666666666666666,
             "#ed7953"
            ],
            [
             0.7777777777777778,
             "#fb9f3a"
            ],
            [
             0.8888888888888888,
             "#fdca26"
            ],
            [
             1,
             "#f0f921"
            ]
           ],
           "sequentialminus": [
            [
             0,
             "#0d0887"
            ],
            [
             0.1111111111111111,
             "#46039f"
            ],
            [
             0.2222222222222222,
             "#7201a8"
            ],
            [
             0.3333333333333333,
             "#9c179e"
            ],
            [
             0.4444444444444444,
             "#bd3786"
            ],
            [
             0.5555555555555556,
             "#d8576b"
            ],
            [
             0.6666666666666666,
             "#ed7953"
            ],
            [
             0.7777777777777778,
             "#fb9f3a"
            ],
            [
             0.8888888888888888,
             "#fdca26"
            ],
            [
             1,
             "#f0f921"
            ]
           ]
          },
          "colorway": [
           "#636efa",
           "#EF553B",
           "#00cc96",
           "#ab63fa",
           "#FFA15A",
           "#19d3f3",
           "#FF6692",
           "#B6E880",
           "#FF97FF",
           "#FECB52"
          ],
          "font": {
           "color": "#2a3f5f"
          },
          "geo": {
           "bgcolor": "white",
           "lakecolor": "white",
           "landcolor": "#E5ECF6",
           "showlakes": true,
           "showland": true,
           "subunitcolor": "white"
          },
          "hoverlabel": {
           "align": "left"
          },
          "hovermode": "closest",
          "mapbox": {
           "style": "light"
          },
          "paper_bgcolor": "white",
          "plot_bgcolor": "#E5ECF6",
          "polar": {
           "angularaxis": {
            "gridcolor": "white",
            "linecolor": "white",
            "ticks": ""
           },
           "bgcolor": "#E5ECF6",
           "radialaxis": {
            "gridcolor": "white",
            "linecolor": "white",
            "ticks": ""
           }
          },
          "scene": {
           "xaxis": {
            "backgroundcolor": "#E5ECF6",
            "gridcolor": "white",
            "gridwidth": 2,
            "linecolor": "white",
            "showbackground": true,
            "ticks": "",
            "zerolinecolor": "white"
           },
           "yaxis": {
            "backgroundcolor": "#E5ECF6",
            "gridcolor": "white",
            "gridwidth": 2,
            "linecolor": "white",
            "showbackground": true,
            "ticks": "",
            "zerolinecolor": "white"
           },
           "zaxis": {
            "backgroundcolor": "#E5ECF6",
            "gridcolor": "white",
            "gridwidth": 2,
            "linecolor": "white",
            "showbackground": true,
            "ticks": "",
            "zerolinecolor": "white"
           }
          },
          "shapedefaults": {
           "line": {
            "color": "#2a3f5f"
           }
          },
          "ternary": {
           "aaxis": {
            "gridcolor": "white",
            "linecolor": "white",
            "ticks": ""
           },
           "baxis": {
            "gridcolor": "white",
            "linecolor": "white",
            "ticks": ""
           },
           "bgcolor": "#E5ECF6",
           "caxis": {
            "gridcolor": "white",
            "linecolor": "white",
            "ticks": ""
           }
          },
          "title": {
           "x": 0.05
          },
          "xaxis": {
           "automargin": true,
           "gridcolor": "white",
           "linecolor": "white",
           "ticks": "",
           "title": {
            "standoff": 15
           },
           "zerolinecolor": "white",
           "zerolinewidth": 2
          },
          "yaxis": {
           "automargin": true,
           "gridcolor": "white",
           "linecolor": "white",
           "ticks": "",
           "title": {
            "standoff": 15
           },
           "zerolinecolor": "white",
           "zerolinewidth": 2
          }
         }
        },
        "title": {
         "text": "Devices"
        },
        "width": 1000
       }
      }
     },
     "metadata": {}
    }
   ],
   "source": [
    "show_sensor_map(data.metadata)"
   ]
  },
  {
   "source": [
    "Super surrounding\n",
    "- Baoding (south-west)\n",
    "- Langfang (south-east)\n",
    "- Zhangjiakou (north)\n",
    "- Tangshan (east)\n",
    "\n",
    "In the area:\n",
    "- Shijiazhuang (south-west)\n",
    "\n",
    "Beijing:\n",
    "- qianmen (center)\n",
    "- changping (north)\n",
    "- daxing (south)\n",
    "- shunyi (north-east)"
   ],
   "cell_type": "markdown",
   "metadata": {}
  }
 ]
}