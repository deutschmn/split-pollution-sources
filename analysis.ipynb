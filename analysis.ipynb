{
 "metadata": {
  "language_info": {
   "codemirror_mode": {
    "name": "ipython",
    "version": 3
   },
   "file_extension": ".py",
   "mimetype": "text/x-python",
   "name": "python",
   "nbconvert_exporter": "python",
   "pygments_lexer": "ipython3",
   "version": "3.9.1-final"
  },
  "orig_nbformat": 2,
  "kernelspec": {
   "name": "python3",
   "display_name": "Python 3",
   "language": "python"
  }
 },
 "nbformat": 4,
 "nbformat_minor": 2,
 "cells": [
  {
   "cell_type": "code",
   "execution_count": 1,
   "metadata": {},
   "outputs": [],
   "source": [
    "from __future__ import print_function\n",
    "\n",
    "import plotly.express as px\n",
    "\n",
    "from IPython.display import display\n",
    "from ipywidgets import interact, interactive, fixed, interact_manual\n",
    "import ipywidgets as widgets\n",
    "\n",
    "import numpy as np\n",
    "import pandas as pd\n",
    "import geopandas as gpd\n",
    "\n",
    "import datetime\n",
    "import pickle\n",
    "\n",
    "import matplotlib.pyplot as plt\n",
    "import ndpretty\n",
    "\n",
    "import data_prep\n",
    "import gnn_prep"
   ]
  },
  {
   "cell_type": "code",
   "execution_count": 2,
   "metadata": {},
   "outputs": [],
   "source": [
    "ndpretty.default()"
   ]
  },
  {
   "cell_type": "code",
   "execution_count": 3,
   "metadata": {},
   "outputs": [
    {
     "output_type": "display_data",
     "data": {
      "text/plain": "HBox(children=(FloatProgress(value=0.0, max=87.0), HTML(value='')))",
      "application/vnd.jupyter.widget-view+json": {
       "version_major": 2,
       "version_minor": 0,
       "model_id": "db9e83eb0aa44d29a8730195349b9469"
      }
     },
     "metadata": {}
    },
    {
     "output_type": "stream",
     "name": "stdout",
     "text": [
      "\n",
      "Loaded air quality data from 87 devices. No weather data for ['fangshan', 'miyun', 'yanqing', 'badaling', 'miyunshuiku', 'yufa', 'liulihe', '1042A', '1043A', '1044A', '1045A', '1046A', '1047A', '1048A', '1049A', '1050A', '1067A', '1068A', '1069A', '1070A', '1074A', '1075A', '1076A']\n"
     ]
    }
   ],
   "source": [
    "data = data_prep.load_beijing_data()"
   ]
  },
  {
   "source": [
    "# Analysis\n",
    "\n",
    "## Sensors"
   ],
   "cell_type": "markdown",
   "metadata": {}
  },
  {
   "cell_type": "code",
   "execution_count": 4,
   "metadata": {},
   "outputs": [
    {
     "output_type": "display_data",
     "data": {
      "application/vnd.plotly.v1+json": {
       "config": {
        "plotlyServerURL": "https://plot.ly"
       },
       "data": [
        {
         "customdata": [
          [
           "dongsi",
           null
          ],
          [
           "tiantan",
           null
          ],
          [
           "guanyuan",
           null
          ],
          [
           "wanshouxigong",
           null
          ],
          [
           "aotizhongxin",
           null
          ],
          [
           "nongzhanguan",
           null
          ],
          [
           "wanliu",
           null
          ],
          [
           "beibuxinqu",
           null
          ],
          [
           "zhiwuyuan",
           null
          ],
          [
           "fengtaihuayuan",
           null
          ],
          [
           "yungang",
           null
          ],
          [
           "gucheng",
           null
          ],
          [
           "fangshan",
           null
          ],
          [
           "daxing",
           null
          ],
          [
           "yizhuang",
           null
          ],
          [
           "tongzhou",
           null
          ],
          [
           "shunyi",
           null
          ],
          [
           "changping",
           null
          ],
          [
           "mentougou",
           null
          ],
          [
           "pinggu",
           null
          ],
          [
           "huairou",
           null
          ],
          [
           "miyun",
           null
          ],
          [
           "yanqing",
           null
          ],
          [
           "dingling",
           null
          ],
          [
           "badaling",
           null
          ],
          [
           "miyunshuiku",
           null
          ],
          [
           "donggaocun",
           null
          ],
          [
           "yongledian",
           null
          ],
          [
           "yufa",
           null
          ],
          [
           "liulihe",
           null
          ],
          [
           "qianmen",
           null
          ],
          [
           "yongdingmennei",
           null
          ],
          [
           "xizhimenbei",
           null
          ],
          [
           "nansanhuan",
           null
          ],
          [
           "dongsihuan",
           null
          ],
          [
           "1029A",
           "Staff Hospital"
          ],
          [
           "1030A",
           "High-tech Zone"
          ],
          [
           "1031A",
           "Northwest Water Source"
          ],
          [
           "1032A",
           "Southwest Higher Education"
          ],
          [
           "1033A",
           "Century Park"
          ],
          [
           "1034A",
           "People's Hall"
          ],
          [
           "1035A",
           "Fenglong Mountain"
          ],
          [
           "1036A",
           "Supply and Marketing Cooperative"
          ],
          [
           "1037A",
           "radar station"
          ],
          [
           "1038A",
           "Material Bureau"
          ],
          [
           "1039A",
           "Ceramic Company"
          ],
          [
           "1040A",
           "Twelfth Middle School"
          ],
          [
           "1041A",
           "Xiaoshan"
          ],
          [
           "1042A",
           "Beidaihe Environmental Protection Bureau"
          ],
          [
           "1043A",
           "the first pass"
          ],
          [
           "1044A",
           "Monitoring Station"
          ],
          [
           "1045A",
           "Municipal Government"
          ],
          [
           "1046A",
           "Jianshe Building"
          ],
          [
           "1047A",
           "Environmental Protection Bureau"
          ],
          [
           "1048A",
           "East Sewage Treatment Plant"
          ],
          [
           "1049A",
           "Mining Institute"
          ],
          [
           "1050A",
           "Congtai Park"
          ],
          [
           "1051A",
           "Swimming Pool"
          ],
          [
           "1052A",
           "Huadian District 2"
          ],
          [
           "1053A",
           "Reception Center"
          ],
          [
           "1054A",
           "Surface Water Plant"
          ],
          [
           "1055A",
           "Film Factory"
          ],
          [
           "1056A",
           "Monitoring Station"
          ],
          [
           "1057A",
           "People's Park"
          ],
          [
           "1058A",
           "Tanji Factory"
          ],
          [
           "1059A",
           "Hardware Depot"
          ],
          [
           "1060A",
           "Century Plaza"
          ],
          [
           "1061A",
           "North Pump House"
          ],
          [
           "1062A",
           "Railway"
          ],
          [
           "1063A",
           "Bank of China"
          ],
          [
           "1064A",
           "Development Zone"
          ],
          [
           "1065A",
           "Cultural Center"
          ],
          [
           "1066A",
           "Li Palace"
          ],
          [
           "1067A",
           "Medicinal Materials Company"
          ],
          [
           "1068A",
           "Development Zone"
          ],
          [
           "1069A",
           "Environmental Monitoring Supervision Center"
          ],
          [
           "1070A",
           "Beihua University of Aeronautics and Astronautics"
          ],
          [
           "1071A",
           "Cang County Urban Construction Bureau"
          ],
          [
           "1072A",
           "TV relay station"
          ],
          [
           "1073A",
           "Municipal Environmental Protection Bureau"
          ],
          [
           "1074A",
           "North Motor Factory"
          ],
          [
           "1075A",
           "City Monitoring Station"
          ],
          [
           "1076A",
           "Municipal Environmental Protection Bureau"
          ],
          [
           "1077A",
           "Dahuo Spring"
          ],
          [
           "1078A",
           "Xing Teachers College"
          ],
          [
           "1079A",
           "Road and Bridge Company"
          ],
          [
           "1080A",
           "Municipal Environmental Protection Bureau"
          ]
         ],
         "hovertemplate": "<b>%{hovertext}</b><br><br>lat=%{lat}<br>lon=%{lon}<br>device_id=%{customdata[0]}<br>device_name=%{customdata[1]}<br>color=%{marker.color}<extra></extra>",
         "hovertext": [
          "Beijing",
          "Beijing",
          "Beijing",
          "Beijing",
          "Beijing",
          "Beijing",
          "Beijing",
          "Beijing",
          "Beijing",
          "Beijing",
          "Beijing",
          "Beijing",
          "Beijing",
          "Beijing",
          "Beijing",
          "Beijing",
          "Beijing",
          "Beijing",
          "Beijing",
          "Beijing",
          "Beijing",
          "Beijing",
          "Beijing",
          "Beijing",
          "Beijing",
          "Beijing",
          "Beijing",
          "Beijing",
          "Beijing",
          "Beijing",
          "Beijing",
          "Beijing",
          "Beijing",
          "Beijing",
          "Beijing",
          "Shijiazhuang",
          "Shijiazhuang",
          "Shijiazhuang",
          "Shijiazhuang",
          "Shijiazhuang",
          "Shijiazhuang",
          "Shijiazhuang",
          "Tangshan",
          "Tangshan",
          "Tangshan",
          "Tangshan",
          "Tangshan",
          "Tangshan",
          "Qinhuangdao",
          "Qinhuangdao",
          "Qinhuangdao",
          "Qinhuangdao",
          "Qinhuangdao",
          "Handan",
          "Handan",
          "Handan",
          "Handan",
          "Baoding",
          "Baoding",
          "Baoding",
          "Baoding",
          "Baoding",
          "Baoding",
          "Zhangjiakou",
          "Zhangjiakou",
          "Zhangjiakou",
          "Zhangjiakou",
          "Zhangjiakou",
          "Chengde",
          "Chengde",
          "Chengde",
          "Chengde",
          "Chengde",
          "Langfang",
          "Langfang",
          "Langfang",
          "Langfang",
          "Cangzhou",
          "Cangzhou",
          "Cangzhou",
          "Hengshui",
          "Hengshui",
          "Hengshui",
          "Xingtai",
          "Xingtai",
          "Xingtai",
          "Xingtai"
         ],
         "lat": [
          39.929,
          39.886,
          39.929,
          39.878,
          39.982,
          39.937,
          39.987,
          40.09,
          40.002,
          39.863,
          39.824,
          39.914,
          39.742,
          39.718,
          39.795,
          39.886,
          40.127,
          40.217,
          39.937,
          40.143,
          40.328,
          40.37,
          40.453,
          40.292,
          40.365,
          40.499,
          40.1,
          39.712,
          39.52,
          39.58,
          39.899,
          39.876,
          39.954,
          39.856,
          39.939,
          38.0513,
          38.0398,
          38.1398,
          38.00583333,
          38.01777778,
          38.0524,
          37.9097,
          39.6308,
          39.643,
          39.6407,
          39.6679,
          39.65782,
          39.6295,
          39.8283,
          40.0181,
          39.9567,
          39.9358,
          39.9419,
          36.61763,
          36.6164,
          36.5776,
          36.61981,
          38.8632,
          38.8957,
          38.9108,
          38.8416,
          38.8756,
          38.8707,
          40.8367,
          40.79481,
          40.8115,
          40.7688,
          40.8725,
          40.9161,
          40.9843,
          40.9359,
          40.9733,
          41.0112,
          39.5178,
          39.5747,
          39.5571,
          39.5343,
          38.2991,
          38.3254,
          38.3228,
          37.7575,
          37.7379,
          37.739,
          37.0967,
          37.0533,
          37.0964,
          37.062
         ],
         "legendgroup": "",
         "lon": [
          116.417,
          116.407,
          116.339,
          116.352,
          116.397,
          116.461,
          116.287,
          116.174,
          116.207,
          116.279,
          116.146,
          116.184,
          116.136,
          116.404,
          116.506,
          116.663,
          116.655,
          116.23,
          116.106,
          117.1,
          116.628,
          116.832,
          115.972,
          116.22,
          115.988,
          116.911,
          117.12,
          116.783,
          116.3,
          116,
          116.395,
          116.394,
          116.349,
          116.368,
          116.483,
          114.4548,
          114.6046,
          114.5019,
          114.4586111,
          114.53305559999998,
          114.5214,
          114.3541,
          118.1662,
          118.144,
          118.1853,
          118.2185,
          118.1838,
          118.1997,
          119.5259,
          119.7624,
          119.6023,
          119.607,
          119.5369,
          114.5129,
          114.5426,
          114.5035,
          114.4965,
          115.493,
          115.5223,
          115.4713,
          115.4612,
          115.442,
          115.5214,
          114.8985,
          114.892,
          114.8814,
          114.9032,
          114.904,
          117.9664,
          117.9525,
          117.963,
          117.8184,
          117.9384,
          116.6838,
          116.7729,
          116.715,
          116.7464,
          116.8854,
          116.8584,
          116.8709,
          115.6951,
          115.6426,
          115.6906,
          114.4821,
          114.5261,
          114.5331,
          114.4854
         ],
         "marker": {
          "color": [
           0,
           0,
           0,
           0,
           0,
           0,
           0,
           0,
           0,
           0,
           0,
           0,
           0,
           0,
           0,
           0,
           0,
           0,
           0,
           0,
           0,
           0,
           0,
           0,
           0,
           0,
           0,
           0,
           0,
           0,
           0,
           0,
           0,
           0,
           0,
           1,
           1,
           1,
           1,
           1,
           1,
           1,
           1,
           1,
           1,
           1,
           1,
           1,
           1,
           1,
           1,
           1,
           1,
           1,
           1,
           1,
           1,
           1,
           1,
           1,
           1,
           1,
           1,
           1,
           1,
           1,
           1,
           1,
           1,
           1,
           1,
           1,
           1,
           1,
           1,
           1,
           1,
           1,
           1,
           1,
           1,
           1,
           1,
           1,
           1,
           1,
           1
          ],
          "coloraxis": "coloraxis"
         },
         "mode": "markers",
         "name": "",
         "showlegend": false,
         "subplot": "mapbox",
         "type": "scattermapbox"
        }
       ],
       "layout": {
        "autosize": true,
        "coloraxis": {
         "colorbar": {
          "title": {
           "text": "color"
          }
         },
         "colorscale": [
          [
           0,
           "rgb(0,0,0)"
          ],
          [
           0.25,
           "rgb(230,0,0)"
          ],
          [
           0.5,
           "rgb(230,210,0)"
          ],
          [
           0.75,
           "rgb(255,255,255)"
          ],
          [
           1,
           "rgb(160,200,255)"
          ]
         ]
        },
        "height": 700,
        "hovermode": "closest",
        "legend": {
         "tracegroupgap": 0
        },
        "mapbox": {
         "bearing": 0,
         "center": {
          "lat": 39,
          "lon": 117
         },
         "domain": {
          "x": [
           0,
           1
          ],
          "y": [
           0,
           1
          ]
         },
         "pitch": 0,
         "style": "stamen-terrain",
         "zoom": 5
        },
        "margin": {
         "t": 60
        },
        "showlegend": false,
        "template": {
         "data": {
          "bar": [
           {
            "error_x": {
             "color": "#2a3f5f"
            },
            "error_y": {
             "color": "#2a3f5f"
            },
            "marker": {
             "line": {
              "color": "#E5ECF6",
              "width": 0.5
             }
            },
            "type": "bar"
           }
          ],
          "barpolar": [
           {
            "marker": {
             "line": {
              "color": "#E5ECF6",
              "width": 0.5
             }
            },
            "type": "barpolar"
           }
          ],
          "carpet": [
           {
            "aaxis": {
             "endlinecolor": "#2a3f5f",
             "gridcolor": "white",
             "linecolor": "white",
             "minorgridcolor": "white",
             "startlinecolor": "#2a3f5f"
            },
            "baxis": {
             "endlinecolor": "#2a3f5f",
             "gridcolor": "white",
             "linecolor": "white",
             "minorgridcolor": "white",
             "startlinecolor": "#2a3f5f"
            },
            "type": "carpet"
           }
          ],
          "choropleth": [
           {
            "colorbar": {
             "outlinewidth": 0,
             "ticks": ""
            },
            "type": "choropleth"
           }
          ],
          "contour": [
           {
            "colorbar": {
             "outlinewidth": 0,
             "ticks": ""
            },
            "colorscale": [
             [
              0,
              "#0d0887"
             ],
             [
              0.1111111111111111,
              "#46039f"
             ],
             [
              0.2222222222222222,
              "#7201a8"
             ],
             [
              0.3333333333333333,
              "#9c179e"
             ],
             [
              0.4444444444444444,
              "#bd3786"
             ],
             [
              0.5555555555555556,
              "#d8576b"
             ],
             [
              0.6666666666666666,
              "#ed7953"
             ],
             [
              0.7777777777777778,
              "#fb9f3a"
             ],
             [
              0.8888888888888888,
              "#fdca26"
             ],
             [
              1,
              "#f0f921"
             ]
            ],
            "type": "contour"
           }
          ],
          "contourcarpet": [
           {
            "colorbar": {
             "outlinewidth": 0,
             "ticks": ""
            },
            "type": "contourcarpet"
           }
          ],
          "heatmap": [
           {
            "colorbar": {
             "outlinewidth": 0,
             "ticks": ""
            },
            "colorscale": [
             [
              0,
              "#0d0887"
             ],
             [
              0.1111111111111111,
              "#46039f"
             ],
             [
              0.2222222222222222,
              "#7201a8"
             ],
             [
              0.3333333333333333,
              "#9c179e"
             ],
             [
              0.4444444444444444,
              "#bd3786"
             ],
             [
              0.5555555555555556,
              "#d8576b"
             ],
             [
              0.6666666666666666,
              "#ed7953"
             ],
             [
              0.7777777777777778,
              "#fb9f3a"
             ],
             [
              0.8888888888888888,
              "#fdca26"
             ],
             [
              1,
              "#f0f921"
             ]
            ],
            "type": "heatmap"
           }
          ],
          "heatmapgl": [
           {
            "colorbar": {
             "outlinewidth": 0,
             "ticks": ""
            },
            "colorscale": [
             [
              0,
              "#0d0887"
             ],
             [
              0.1111111111111111,
              "#46039f"
             ],
             [
              0.2222222222222222,
              "#7201a8"
             ],
             [
              0.3333333333333333,
              "#9c179e"
             ],
             [
              0.4444444444444444,
              "#bd3786"
             ],
             [
              0.5555555555555556,
              "#d8576b"
             ],
             [
              0.6666666666666666,
              "#ed7953"
             ],
             [
              0.7777777777777778,
              "#fb9f3a"
             ],
             [
              0.8888888888888888,
              "#fdca26"
             ],
             [
              1,
              "#f0f921"
             ]
            ],
            "type": "heatmapgl"
           }
          ],
          "histogram": [
           {
            "marker": {
             "colorbar": {
              "outlinewidth": 0,
              "ticks": ""
             }
            },
            "type": "histogram"
           }
          ],
          "histogram2d": [
           {
            "colorbar": {
             "outlinewidth": 0,
             "ticks": ""
            },
            "colorscale": [
             [
              0,
              "#0d0887"
             ],
             [
              0.1111111111111111,
              "#46039f"
             ],
             [
              0.2222222222222222,
              "#7201a8"
             ],
             [
              0.3333333333333333,
              "#9c179e"
             ],
             [
              0.4444444444444444,
              "#bd3786"
             ],
             [
              0.5555555555555556,
              "#d8576b"
             ],
             [
              0.6666666666666666,
              "#ed7953"
             ],
             [
              0.7777777777777778,
              "#fb9f3a"
             ],
             [
              0.8888888888888888,
              "#fdca26"
             ],
             [
              1,
              "#f0f921"
             ]
            ],
            "type": "histogram2d"
           }
          ],
          "histogram2dcontour": [
           {
            "colorbar": {
             "outlinewidth": 0,
             "ticks": ""
            },
            "colorscale": [
             [
              0,
              "#0d0887"
             ],
             [
              0.1111111111111111,
              "#46039f"
             ],
             [
              0.2222222222222222,
              "#7201a8"
             ],
             [
              0.3333333333333333,
              "#9c179e"
             ],
             [
              0.4444444444444444,
              "#bd3786"
             ],
             [
              0.5555555555555556,
              "#d8576b"
             ],
             [
              0.6666666666666666,
              "#ed7953"
             ],
             [
              0.7777777777777778,
              "#fb9f3a"
             ],
             [
              0.8888888888888888,
              "#fdca26"
             ],
             [
              1,
              "#f0f921"
             ]
            ],
            "type": "histogram2dcontour"
           }
          ],
          "mesh3d": [
           {
            "colorbar": {
             "outlinewidth": 0,
             "ticks": ""
            },
            "type": "mesh3d"
           }
          ],
          "parcoords": [
           {
            "line": {
             "colorbar": {
              "outlinewidth": 0,
              "ticks": ""
             }
            },
            "type": "parcoords"
           }
          ],
          "pie": [
           {
            "automargin": true,
            "type": "pie"
           }
          ],
          "scatter": [
           {
            "marker": {
             "colorbar": {
              "outlinewidth": 0,
              "ticks": ""
             }
            },
            "type": "scatter"
           }
          ],
          "scatter3d": [
           {
            "line": {
             "colorbar": {
              "outlinewidth": 0,
              "ticks": ""
             }
            },
            "marker": {
             "colorbar": {
              "outlinewidth": 0,
              "ticks": ""
             }
            },
            "type": "scatter3d"
           }
          ],
          "scattercarpet": [
           {
            "marker": {
             "colorbar": {
              "outlinewidth": 0,
              "ticks": ""
             }
            },
            "type": "scattercarpet"
           }
          ],
          "scattergeo": [
           {
            "marker": {
             "colorbar": {
              "outlinewidth": 0,
              "ticks": ""
             }
            },
            "type": "scattergeo"
           }
          ],
          "scattergl": [
           {
            "marker": {
             "colorbar": {
              "outlinewidth": 0,
              "ticks": ""
             }
            },
            "type": "scattergl"
           }
          ],
          "scattermapbox": [
           {
            "marker": {
             "colorbar": {
              "outlinewidth": 0,
              "ticks": ""
             }
            },
            "type": "scattermapbox"
           }
          ],
          "scatterpolar": [
           {
            "marker": {
             "colorbar": {
              "outlinewidth": 0,
              "ticks": ""
             }
            },
            "type": "scatterpolar"
           }
          ],
          "scatterpolargl": [
           {
            "marker": {
             "colorbar": {
              "outlinewidth": 0,
              "ticks": ""
             }
            },
            "type": "scatterpolargl"
           }
          ],
          "scatterternary": [
           {
            "marker": {
             "colorbar": {
              "outlinewidth": 0,
              "ticks": ""
             }
            },
            "type": "scatterternary"
           }
          ],
          "surface": [
           {
            "colorbar": {
             "outlinewidth": 0,
             "ticks": ""
            },
            "colorscale": [
             [
              0,
              "#0d0887"
             ],
             [
              0.1111111111111111,
              "#46039f"
             ],
             [
              0.2222222222222222,
              "#7201a8"
             ],
             [
              0.3333333333333333,
              "#9c179e"
             ],
             [
              0.4444444444444444,
              "#bd3786"
             ],
             [
              0.5555555555555556,
              "#d8576b"
             ],
             [
              0.6666666666666666,
              "#ed7953"
             ],
             [
              0.7777777777777778,
              "#fb9f3a"
             ],
             [
              0.8888888888888888,
              "#fdca26"
             ],
             [
              1,
              "#f0f921"
             ]
            ],
            "type": "surface"
           }
          ],
          "table": [
           {
            "cells": {
             "fill": {
              "color": "#EBF0F8"
             },
             "line": {
              "color": "white"
             }
            },
            "header": {
             "fill": {
              "color": "#C8D4E3"
             },
             "line": {
              "color": "white"
             }
            },
            "type": "table"
           }
          ]
         },
         "layout": {
          "annotationdefaults": {
           "arrowcolor": "#2a3f5f",
           "arrowhead": 0,
           "arrowwidth": 1
          },
          "autotypenumbers": "strict",
          "coloraxis": {
           "colorbar": {
            "outlinewidth": 0,
            "ticks": ""
           }
          },
          "colorscale": {
           "diverging": [
            [
             0,
             "#8e0152"
            ],
            [
             0.1,
             "#c51b7d"
            ],
            [
             0.2,
             "#de77ae"
            ],
            [
             0.3,
             "#f1b6da"
            ],
            [
             0.4,
             "#fde0ef"
            ],
            [
             0.5,
             "#f7f7f7"
            ],
            [
             0.6,
             "#e6f5d0"
            ],
            [
             0.7,
             "#b8e186"
            ],
            [
             0.8,
             "#7fbc41"
            ],
            [
             0.9,
             "#4d9221"
            ],
            [
             1,
             "#276419"
            ]
           ],
           "sequential": [
            [
             0,
             "#0d0887"
            ],
            [
             0.1111111111111111,
             "#46039f"
            ],
            [
             0.2222222222222222,
             "#7201a8"
            ],
            [
             0.3333333333333333,
             "#9c179e"
            ],
            [
             0.4444444444444444,
             "#bd3786"
            ],
            [
             0.5555555555555556,
             "#d8576b"
            ],
            [
             0.6666666666666666,
             "#ed7953"
            ],
            [
             0.7777777777777778,
             "#fb9f3a"
            ],
            [
             0.8888888888888888,
             "#fdca26"
            ],
            [
             1,
             "#f0f921"
            ]
           ],
           "sequentialminus": [
            [
             0,
             "#0d0887"
            ],
            [
             0.1111111111111111,
             "#46039f"
            ],
            [
             0.2222222222222222,
             "#7201a8"
            ],
            [
             0.3333333333333333,
             "#9c179e"
            ],
            [
             0.4444444444444444,
             "#bd3786"
            ],
            [
             0.5555555555555556,
             "#d8576b"
            ],
            [
             0.6666666666666666,
             "#ed7953"
            ],
            [
             0.7777777777777778,
             "#fb9f3a"
            ],
            [
             0.8888888888888888,
             "#fdca26"
            ],
            [
             1,
             "#f0f921"
            ]
           ]
          },
          "colorway": [
           "#636efa",
           "#EF553B",
           "#00cc96",
           "#ab63fa",
           "#FFA15A",
           "#19d3f3",
           "#FF6692",
           "#B6E880",
           "#FF97FF",
           "#FECB52"
          ],
          "font": {
           "color": "#2a3f5f"
          },
          "geo": {
           "bgcolor": "white",
           "lakecolor": "white",
           "landcolor": "#E5ECF6",
           "showlakes": true,
           "showland": true,
           "subunitcolor": "white"
          },
          "hoverlabel": {
           "align": "left"
          },
          "hovermode": "closest",
          "mapbox": {
           "style": "light"
          },
          "paper_bgcolor": "white",
          "plot_bgcolor": "#E5ECF6",
          "polar": {
           "angularaxis": {
            "gridcolor": "white",
            "linecolor": "white",
            "ticks": ""
           },
           "bgcolor": "#E5ECF6",
           "radialaxis": {
            "gridcolor": "white",
            "linecolor": "white",
            "ticks": ""
           }
          },
          "scene": {
           "xaxis": {
            "backgroundcolor": "#E5ECF6",
            "gridcolor": "white",
            "gridwidth": 2,
            "linecolor": "white",
            "showbackground": true,
            "ticks": "",
            "zerolinecolor": "white"
           },
           "yaxis": {
            "backgroundcolor": "#E5ECF6",
            "gridcolor": "white",
            "gridwidth": 2,
            "linecolor": "white",
            "showbackground": true,
            "ticks": "",
            "zerolinecolor": "white"
           },
           "zaxis": {
            "backgroundcolor": "#E5ECF6",
            "gridcolor": "white",
            "gridwidth": 2,
            "linecolor": "white",
            "showbackground": true,
            "ticks": "",
            "zerolinecolor": "white"
           }
          },
          "shapedefaults": {
           "line": {
            "color": "#2a3f5f"
           }
          },
          "ternary": {
           "aaxis": {
            "gridcolor": "white",
            "linecolor": "white",
            "ticks": ""
           },
           "baxis": {
            "gridcolor": "white",
            "linecolor": "white",
            "ticks": ""
           },
           "bgcolor": "#E5ECF6",
           "caxis": {
            "gridcolor": "white",
            "linecolor": "white",
            "ticks": ""
           }
          },
          "title": {
           "x": 0.05
          },
          "xaxis": {
           "automargin": true,
           "gridcolor": "white",
           "linecolor": "white",
           "ticks": "",
           "title": {
            "standoff": 15
           },
           "zerolinecolor": "white",
           "zerolinewidth": 2
          },
          "yaxis": {
           "automargin": true,
           "gridcolor": "white",
           "linecolor": "white",
           "ticks": "",
           "title": {
            "standoff": 15
           },
           "zerolinecolor": "white",
           "zerolinewidth": 2
          }
         }
        },
        "title": {
         "text": "Devices"
        },
        "width": 1000
       }
      }
     },
     "metadata": {}
    }
   ],
   "source": [
    "def show_sensor_map(meta):\n",
    "    meta_plot = meta.copy()\n",
    "    meta_plot['color'] = 1\n",
    "    meta_plot.loc[meta_plot['city'] == 'Beijing', 'color'] = 0\n",
    "\n",
    "    fig = px.scatter_mapbox(meta_plot,\n",
    "                            lat=meta_plot.geometry.y,\n",
    "                            lon=meta_plot.geometry.x,\n",
    "                            color='color',\n",
    "                            color_continuous_scale=px.colors.sequential.Blackbody,\n",
    "                            hover_name='city',\n",
    "                            hover_data=[\"device_id\", 'device_name'],\n",
    "                            width=1000, height=700)\n",
    "\n",
    "    fig.update_layout(\n",
    "        title='Devices',\n",
    "        autosize=True,\n",
    "        hovermode='closest',\n",
    "        showlegend=False,\n",
    "        mapbox=dict(\n",
    "            bearing=0,\n",
    "            center=dict(\n",
    "                lat=39,\n",
    "                lon=117\n",
    "            ),\n",
    "            pitch=0,\n",
    "            zoom=5,\n",
    "            style='stamen-terrain'\n",
    "        ),\n",
    "    )\n",
    "\n",
    "    fig.show()\n",
    "\n",
    "show_sensor_map(data.metadata)"
   ]
  },
  {
   "source": [
    "## Measurements\n",
    "\n",
    "### Individual measurements"
   ],
   "cell_type": "markdown",
   "metadata": {}
  },
  {
   "cell_type": "code",
   "execution_count": 5,
   "metadata": {},
   "outputs": [],
   "source": [
    "def get_date_slider(start=None, end=None):\n",
    "    if start is None:\n",
    "        start = data.measurements[\"time\"].min()\n",
    "    \n",
    "    if end is None: \n",
    "        end = data.measurements[\"time\"].max()\n",
    "\n",
    "    days_list = pd.date_range(start, end, freq='D')\n",
    "    days_list_formatted = [(date.strftime(' %d-%m-%y '), date) for date in days_list]\n",
    "\n",
    "    ld1 = data.events[0]\n",
    "    start = ld1.start - datetime.timedelta(days=14)\n",
    "    end = ld1.end + datetime.timedelta(days=14)\n",
    "\n",
    "    return widgets.SelectionRangeSlider(\n",
    "        options=days_list_formatted,\n",
    "        index=(0, len(days_list_formatted) - 1),\n",
    "        value=(start, end),\n",
    "        description='Dates',\n",
    "        orientation='horizontal',\n",
    "        layout={'width': '500px'}\n",
    "    )\n",
    "\n",
    "date_slider = get_date_slider()"
   ]
  },
  {
   "cell_type": "code",
   "execution_count": 6,
   "metadata": {},
   "outputs": [],
   "source": [
    "devices = data.metadata['device_id']\n",
    "descriptions = data.metadata['device_id'] + \" (\" + data.metadata['city'] + \")\"\n",
    "dic = dict(zip(descriptions, devices))"
   ]
  },
  {
   "cell_type": "code",
   "execution_count": 7,
   "metadata": {},
   "outputs": [
    {
     "output_type": "display_data",
     "data": {
      "text/plain": "interactive(children=(SelectMultiple(description='Devices', options=('dongsi (Beijing)', 'tiantan (Beijing)', …",
      "application/vnd.jupyter.widget-view+json": {
       "version_major": 2,
       "version_minor": 0,
       "model_id": "d14723ffe9d04048941dfdd349d145c6"
      }
     },
     "metadata": {}
    },
    {
     "output_type": "execute_result",
     "data": {
      "text/plain": [
       "<function __main__.plot_data(data, devices, date_range, feature, events=[], device_id_mapping=None)>"
      ]
     },
     "metadata": {},
     "execution_count": 7
    }
   ],
   "source": [
    "def plot_data(data, devices, date_range, feature, events=[], device_id_mapping=None):\n",
    "    plt.figure(figsize=(10,5))\n",
    "\n",
    "    # plot events\n",
    "    for event in events:\n",
    "        plt.axvspan(event.start, event.end, color=event.color, alpha=0.1, label=event.name)\n",
    "\n",
    "    # plot measurements\n",
    "    (start, end) = date_range\n",
    "    for device in devices:\n",
    "        if device_id_mapping is not None:\n",
    "            device_id = device_id_mapping[device]\n",
    "        else:\n",
    "            device_id = device\n",
    "        y = data[(data['device_id'] == device_id) & (data['time'] >= start) & (data['time'] < end)]\n",
    "        plt.plot(y['time'], y[feature], label=device)\n",
    "\n",
    "    plt.tight_layout()\n",
    "\n",
    "    plt.title(feature)\n",
    "    plt.legend(loc='upper left')\n",
    "    axes = plt.gca()\n",
    "    axes.set_xlim([start,end])\n",
    "\n",
    "    plt.show()\n",
    "\n",
    "device_widget = widgets.SelectMultiple(\n",
    "    options=dic.keys(),\n",
    "    rows=15,\n",
    "    description='Devices',\n",
    "    disabled=False\n",
    ")\n",
    "\n",
    "feature_widget = widgets.Dropdown(\n",
    "    options=data.air_features,\n",
    "    value='pm25',\n",
    "    description='Feature:'\n",
    ")\n",
    "\n",
    "interact_manual(plot_data, data=fixed(data.measurements), devices=device_widget, date_range=get_date_slider('2020-01-01'), feature=feature_widget, events=fixed(data.events), device_id_mapping=fixed(dic))"
   ]
  },
  {
   "source": [
    "### City means"
   ],
   "cell_type": "markdown",
   "metadata": {}
  },
  {
   "cell_type": "code",
   "execution_count": 8,
   "metadata": {},
   "outputs": [],
   "source": [
    "city_means = data.measurements_joined.groupby(by=['city', 'time']).mean().reset_index()\n",
    "city_means = city_means.rename(columns={'city': 'device_id'})"
   ]
  },
  {
   "cell_type": "code",
   "execution_count": 9,
   "metadata": {},
   "outputs": [
    {
     "output_type": "display_data",
     "data": {
      "text/plain": "interactive(children=(SelectMultiple(description='Devices', options=('Baoding', 'Beijing', 'Cangzhou', 'Chengd…",
      "application/vnd.jupyter.widget-view+json": {
       "version_major": 2,
       "version_minor": 0,
       "model_id": "6e1e01043c194047bed2c9aec14e612f"
      }
     },
     "metadata": {}
    },
    {
     "output_type": "execute_result",
     "data": {
      "text/plain": [
       "<function __main__.plot_data(data, devices, date_range, feature, events=[], device_id_mapping=None)>"
      ]
     },
     "metadata": {},
     "execution_count": 9
    }
   ],
   "source": [
    "city_widget = widgets.SelectMultiple(\n",
    "    options=list(city_means['device_id'].unique()),\n",
    "    rows=15,\n",
    "    description='Devices',\n",
    "    disabled=False\n",
    ")\n",
    "\n",
    "interact_manual(plot_data, data=fixed(city_means), devices=city_widget, date_range=date_slider, feature=feature_widget, events=fixed(data.events), device_id_mapping=fixed(None))"
   ]
  },
  {
   "cell_type": "code",
   "execution_count": 10,
   "metadata": {},
   "outputs": [
    {
     "output_type": "display_data",
     "data": {
      "application/vnd.plotly.v1+json": {
       "config": {
        "plotlyServerURL": "https://plot.ly"
       },
       "data": [
        {
         "customdata": [
          [
           "dongsi",
           null
          ],
          [
           "tiantan",
           null
          ],
          [
           "guanyuan",
           null
          ],
          [
           "wanshouxigong",
           null
          ],
          [
           "aotizhongxin",
           null
          ],
          [
           "nongzhanguan",
           null
          ],
          [
           "wanliu",
           null
          ],
          [
           "beibuxinqu",
           null
          ],
          [
           "zhiwuyuan",
           null
          ],
          [
           "fengtaihuayuan",
           null
          ],
          [
           "yungang",
           null
          ],
          [
           "gucheng",
           null
          ],
          [
           "fangshan",
           null
          ],
          [
           "daxing",
           null
          ],
          [
           "yizhuang",
           null
          ],
          [
           "tongzhou",
           null
          ],
          [
           "shunyi",
           null
          ],
          [
           "changping",
           null
          ],
          [
           "mentougou",
           null
          ],
          [
           "pinggu",
           null
          ],
          [
           "huairou",
           null
          ],
          [
           "miyun",
           null
          ],
          [
           "yanqing",
           null
          ],
          [
           "dingling",
           null
          ],
          [
           "badaling",
           null
          ],
          [
           "miyunshuiku",
           null
          ],
          [
           "donggaocun",
           null
          ],
          [
           "yongledian",
           null
          ],
          [
           "yufa",
           null
          ],
          [
           "liulihe",
           null
          ],
          [
           "qianmen",
           null
          ],
          [
           "yongdingmennei",
           null
          ],
          [
           "xizhimenbei",
           null
          ],
          [
           "nansanhuan",
           null
          ],
          [
           "dongsihuan",
           null
          ],
          [
           "1029A",
           "Staff Hospital"
          ],
          [
           "1030A",
           "High-tech Zone"
          ],
          [
           "1031A",
           "Northwest Water Source"
          ],
          [
           "1032A",
           "Southwest Higher Education"
          ],
          [
           "1033A",
           "Century Park"
          ],
          [
           "1034A",
           "People's Hall"
          ],
          [
           "1035A",
           "Fenglong Mountain"
          ],
          [
           "1036A",
           "Supply and Marketing Cooperative"
          ],
          [
           "1037A",
           "radar station"
          ],
          [
           "1038A",
           "Material Bureau"
          ],
          [
           "1039A",
           "Ceramic Company"
          ],
          [
           "1040A",
           "Twelfth Middle School"
          ],
          [
           "1041A",
           "Xiaoshan"
          ],
          [
           "1042A",
           "Beidaihe Environmental Protection Bureau"
          ],
          [
           "1043A",
           "the first pass"
          ],
          [
           "1044A",
           "Monitoring Station"
          ],
          [
           "1045A",
           "Municipal Government"
          ],
          [
           "1046A",
           "Jianshe Building"
          ],
          [
           "1047A",
           "Environmental Protection Bureau"
          ],
          [
           "1048A",
           "East Sewage Treatment Plant"
          ],
          [
           "1049A",
           "Mining Institute"
          ],
          [
           "1050A",
           "Congtai Park"
          ],
          [
           "1051A",
           "Swimming Pool"
          ],
          [
           "1052A",
           "Huadian District 2"
          ],
          [
           "1053A",
           "Reception Center"
          ],
          [
           "1054A",
           "Surface Water Plant"
          ],
          [
           "1055A",
           "Film Factory"
          ],
          [
           "1056A",
           "Monitoring Station"
          ],
          [
           "1057A",
           "People's Park"
          ],
          [
           "1058A",
           "Tanji Factory"
          ],
          [
           "1059A",
           "Hardware Depot"
          ],
          [
           "1060A",
           "Century Plaza"
          ],
          [
           "1061A",
           "North Pump House"
          ],
          [
           "1062A",
           "Railway"
          ],
          [
           "1063A",
           "Bank of China"
          ],
          [
           "1064A",
           "Development Zone"
          ],
          [
           "1065A",
           "Cultural Center"
          ],
          [
           "1066A",
           "Li Palace"
          ],
          [
           "1067A",
           "Medicinal Materials Company"
          ],
          [
           "1068A",
           "Development Zone"
          ],
          [
           "1069A",
           "Environmental Monitoring Supervision Center"
          ],
          [
           "1070A",
           "Beihua University of Aeronautics and Astronautics"
          ],
          [
           "1071A",
           "Cang County Urban Construction Bureau"
          ],
          [
           "1072A",
           "TV relay station"
          ],
          [
           "1073A",
           "Municipal Environmental Protection Bureau"
          ],
          [
           "1074A",
           "North Motor Factory"
          ],
          [
           "1075A",
           "City Monitoring Station"
          ],
          [
           "1076A",
           "Municipal Environmental Protection Bureau"
          ],
          [
           "1077A",
           "Dahuo Spring"
          ],
          [
           "1078A",
           "Xing Teachers College"
          ],
          [
           "1079A",
           "Road and Bridge Company"
          ],
          [
           "1080A",
           "Municipal Environmental Protection Bureau"
          ]
         ],
         "hovertemplate": "<b>%{hovertext}</b><br><br>size=%{marker.size}<br>lat=%{lat}<br>lon=%{lon}<br>device_id=%{customdata[0]}<br>device_name=%{customdata[1]}<br>pm25=%{marker.color}<extra></extra>",
         "hovertext": [
          "Beijing",
          "Beijing",
          "Beijing",
          "Beijing",
          "Beijing",
          "Beijing",
          "Beijing",
          "Beijing",
          "Beijing",
          "Beijing",
          "Beijing",
          "Beijing",
          "Beijing",
          "Beijing",
          "Beijing",
          "Beijing",
          "Beijing",
          "Beijing",
          "Beijing",
          "Beijing",
          "Beijing",
          "Beijing",
          "Beijing",
          "Beijing",
          "Beijing",
          "Beijing",
          "Beijing",
          "Beijing",
          "Beijing",
          "Beijing",
          "Beijing",
          "Beijing",
          "Beijing",
          "Beijing",
          "Beijing",
          "Shijiazhuang",
          "Shijiazhuang",
          "Shijiazhuang",
          "Shijiazhuang",
          "Shijiazhuang",
          "Shijiazhuang",
          "Shijiazhuang",
          "Tangshan",
          "Tangshan",
          "Tangshan",
          "Tangshan",
          "Tangshan",
          "Tangshan",
          "Qinhuangdao",
          "Qinhuangdao",
          "Qinhuangdao",
          "Qinhuangdao",
          "Qinhuangdao",
          "Handan",
          "Handan",
          "Handan",
          "Handan",
          "Baoding",
          "Baoding",
          "Baoding",
          "Baoding",
          "Baoding",
          "Baoding",
          "Zhangjiakou",
          "Zhangjiakou",
          "Zhangjiakou",
          "Zhangjiakou",
          "Zhangjiakou",
          "Chengde",
          "Chengde",
          "Chengde",
          "Chengde",
          "Chengde",
          "Langfang",
          "Langfang",
          "Langfang",
          "Langfang",
          "Cangzhou",
          "Cangzhou",
          "Cangzhou",
          "Hengshui",
          "Hengshui",
          "Hengshui",
          "Xingtai",
          "Xingtai",
          "Xingtai",
          "Xingtai"
         ],
         "lat": [
          39.929,
          39.886,
          39.929,
          39.878,
          39.982,
          39.937,
          39.987,
          40.09,
          40.002,
          39.863,
          39.824,
          39.914,
          39.742,
          39.718,
          39.795,
          39.886,
          40.127,
          40.217,
          39.937,
          40.143,
          40.328,
          40.37,
          40.453,
          40.292,
          40.365,
          40.499,
          40.1,
          39.712,
          39.52,
          39.58,
          39.899,
          39.876,
          39.954,
          39.856,
          39.939,
          38.0513,
          38.0398,
          38.1398,
          38.00583333,
          38.01777778,
          38.0524,
          37.9097,
          39.6308,
          39.643,
          39.6407,
          39.6679,
          39.65782,
          39.6295,
          39.8283,
          40.0181,
          39.9567,
          39.9358,
          39.9419,
          36.61763,
          36.6164,
          36.5776,
          36.61981,
          38.8632,
          38.8957,
          38.9108,
          38.8416,
          38.8756,
          38.8707,
          40.8367,
          40.79481,
          40.8115,
          40.7688,
          40.8725,
          40.9161,
          40.9843,
          40.9359,
          40.9733,
          41.0112,
          39.5178,
          39.5747,
          39.5571,
          39.5343,
          38.2991,
          38.3254,
          38.3228,
          37.7575,
          37.7379,
          37.739,
          37.0967,
          37.0533,
          37.0964,
          37.062
         ],
         "legendgroup": "",
         "lon": [
          116.417,
          116.407,
          116.339,
          116.352,
          116.397,
          116.461,
          116.287,
          116.174,
          116.207,
          116.279,
          116.146,
          116.184,
          116.136,
          116.404,
          116.506,
          116.663,
          116.655,
          116.23,
          116.106,
          117.1,
          116.628,
          116.832,
          115.972,
          116.22,
          115.988,
          116.911,
          117.12,
          116.783,
          116.3,
          116,
          116.395,
          116.394,
          116.349,
          116.368,
          116.483,
          114.4548,
          114.6046,
          114.5019,
          114.4586111,
          114.53305559999998,
          114.5214,
          114.3541,
          118.1662,
          118.144,
          118.1853,
          118.2185,
          118.1838,
          118.1997,
          119.5259,
          119.7624,
          119.6023,
          119.607,
          119.5369,
          114.5129,
          114.5426,
          114.5035,
          114.4965,
          115.493,
          115.5223,
          115.4713,
          115.4612,
          115.442,
          115.5214,
          114.8985,
          114.892,
          114.8814,
          114.9032,
          114.904,
          117.9664,
          117.9525,
          117.963,
          117.8184,
          117.9384,
          116.6838,
          116.7729,
          116.715,
          116.7464,
          116.8854,
          116.8584,
          116.8709,
          115.6951,
          115.6426,
          115.6906,
          114.4821,
          114.5261,
          114.5331,
          114.4854
         ],
         "marker": {
          "color": [
           48,
           43,
           47,
           51,
           48,
           48,
           48,
           89,
           null,
           null,
           51,
           78,
           59,
           46,
           44,
           44,
           56,
           94,
           90,
           51,
           68,
           37,
           88,
           90,
           94,
           52,
           53,
           74,
           35,
           68,
           39,
           45,
           46,
           43,
           36,
           42,
           32,
           42,
           40,
           21,
           36,
           34,
           null,
           51,
           53,
           null,
           50,
           70,
           97,
           83,
           89,
           null,
           83,
           40,
           33,
           39,
           38,
           33,
           33,
           34,
           35,
           38,
           36,
           89,
           null,
           61,
           89,
           57,
           49,
           42,
           47,
           39,
           41,
           43,
           37,
           null,
           38,
           44,
           39,
           46,
           48,
           43,
           null,
           32,
           null,
           35,
           43
          ],
          "coloraxis": "coloraxis",
          "size": [
           10,
           10,
           10,
           10,
           10,
           10,
           10,
           10,
           10,
           10,
           10,
           10,
           10,
           10,
           10,
           10,
           10,
           10,
           10,
           10,
           10,
           10,
           10,
           10,
           10,
           10,
           10,
           10,
           10,
           10,
           10,
           10,
           10,
           10,
           10,
           10,
           10,
           10,
           10,
           10,
           10,
           10,
           10,
           10,
           10,
           10,
           10,
           10,
           10,
           10,
           10,
           10,
           10,
           10,
           10,
           10,
           10,
           10,
           10,
           10,
           10,
           10,
           10,
           10,
           10,
           10,
           10,
           10,
           10,
           10,
           10,
           10,
           10,
           10,
           10,
           10,
           10,
           10,
           10,
           10,
           10,
           10,
           10,
           10,
           10,
           10,
           10
          ],
          "sizemode": "area",
          "sizeref": 0.025
         },
         "mode": "markers",
         "name": "",
         "showlegend": false,
         "subplot": "mapbox",
         "type": "scattermapbox"
        }
       ],
       "layout": {
        "autosize": true,
        "coloraxis": {
         "colorbar": {
          "title": {
           "text": "pm25"
          }
         },
         "colorscale": [
          [
           0,
           "rgb(253, 237, 176)"
          ],
          [
           0.09090909090909091,
           "rgb(250, 205, 145)"
          ],
          [
           0.18181818181818182,
           "rgb(246, 173, 119)"
          ],
          [
           0.2727272727272727,
           "rgb(240, 142, 98)"
          ],
          [
           0.36363636363636365,
           "rgb(231, 109, 84)"
          ],
          [
           0.45454545454545453,
           "rgb(216, 80, 83)"
          ],
          [
           0.5454545454545454,
           "rgb(195, 56, 90)"
          ],
          [
           0.6363636363636364,
           "rgb(168, 40, 96)"
          ],
          [
           0.7272727272727273,
           "rgb(138, 29, 99)"
          ],
          [
           0.8181818181818182,
           "rgb(107, 24, 93)"
          ],
          [
           0.9090909090909091,
           "rgb(76, 21, 80)"
          ],
          [
           1,
           "rgb(47, 15, 61)"
          ]
         ]
        },
        "height": 700,
        "hovermode": "closest",
        "legend": {
         "itemsizing": "constant",
         "tracegroupgap": 0
        },
        "mapbox": {
         "bearing": 0,
         "center": {
          "lat": 39,
          "lon": 117
         },
         "domain": {
          "x": [
           0,
           1
          ],
          "y": [
           0,
           1
          ]
         },
         "pitch": 0,
         "style": "stamen-terrain",
         "zoom": 5
        },
        "margin": {
         "t": 60
        },
        "showlegend": false,
        "template": {
         "data": {
          "bar": [
           {
            "error_x": {
             "color": "#2a3f5f"
            },
            "error_y": {
             "color": "#2a3f5f"
            },
            "marker": {
             "line": {
              "color": "#E5ECF6",
              "width": 0.5
             }
            },
            "type": "bar"
           }
          ],
          "barpolar": [
           {
            "marker": {
             "line": {
              "color": "#E5ECF6",
              "width": 0.5
             }
            },
            "type": "barpolar"
           }
          ],
          "carpet": [
           {
            "aaxis": {
             "endlinecolor": "#2a3f5f",
             "gridcolor": "white",
             "linecolor": "white",
             "minorgridcolor": "white",
             "startlinecolor": "#2a3f5f"
            },
            "baxis": {
             "endlinecolor": "#2a3f5f",
             "gridcolor": "white",
             "linecolor": "white",
             "minorgridcolor": "white",
             "startlinecolor": "#2a3f5f"
            },
            "type": "carpet"
           }
          ],
          "choropleth": [
           {
            "colorbar": {
             "outlinewidth": 0,
             "ticks": ""
            },
            "type": "choropleth"
           }
          ],
          "contour": [
           {
            "colorbar": {
             "outlinewidth": 0,
             "ticks": ""
            },
            "colorscale": [
             [
              0,
              "#0d0887"
             ],
             [
              0.1111111111111111,
              "#46039f"
             ],
             [
              0.2222222222222222,
              "#7201a8"
             ],
             [
              0.3333333333333333,
              "#9c179e"
             ],
             [
              0.4444444444444444,
              "#bd3786"
             ],
             [
              0.5555555555555556,
              "#d8576b"
             ],
             [
              0.6666666666666666,
              "#ed7953"
             ],
             [
              0.7777777777777778,
              "#fb9f3a"
             ],
             [
              0.8888888888888888,
              "#fdca26"
             ],
             [
              1,
              "#f0f921"
             ]
            ],
            "type": "contour"
           }
          ],
          "contourcarpet": [
           {
            "colorbar": {
             "outlinewidth": 0,
             "ticks": ""
            },
            "type": "contourcarpet"
           }
          ],
          "heatmap": [
           {
            "colorbar": {
             "outlinewidth": 0,
             "ticks": ""
            },
            "colorscale": [
             [
              0,
              "#0d0887"
             ],
             [
              0.1111111111111111,
              "#46039f"
             ],
             [
              0.2222222222222222,
              "#7201a8"
             ],
             [
              0.3333333333333333,
              "#9c179e"
             ],
             [
              0.4444444444444444,
              "#bd3786"
             ],
             [
              0.5555555555555556,
              "#d8576b"
             ],
             [
              0.6666666666666666,
              "#ed7953"
             ],
             [
              0.7777777777777778,
              "#fb9f3a"
             ],
             [
              0.8888888888888888,
              "#fdca26"
             ],
             [
              1,
              "#f0f921"
             ]
            ],
            "type": "heatmap"
           }
          ],
          "heatmapgl": [
           {
            "colorbar": {
             "outlinewidth": 0,
             "ticks": ""
            },
            "colorscale": [
             [
              0,
              "#0d0887"
             ],
             [
              0.1111111111111111,
              "#46039f"
             ],
             [
              0.2222222222222222,
              "#7201a8"
             ],
             [
              0.3333333333333333,
              "#9c179e"
             ],
             [
              0.4444444444444444,
              "#bd3786"
             ],
             [
              0.5555555555555556,
              "#d8576b"
             ],
             [
              0.6666666666666666,
              "#ed7953"
             ],
             [
              0.7777777777777778,
              "#fb9f3a"
             ],
             [
              0.8888888888888888,
              "#fdca26"
             ],
             [
              1,
              "#f0f921"
             ]
            ],
            "type": "heatmapgl"
           }
          ],
          "histogram": [
           {
            "marker": {
             "colorbar": {
              "outlinewidth": 0,
              "ticks": ""
             }
            },
            "type": "histogram"
           }
          ],
          "histogram2d": [
           {
            "colorbar": {
             "outlinewidth": 0,
             "ticks": ""
            },
            "colorscale": [
             [
              0,
              "#0d0887"
             ],
             [
              0.1111111111111111,
              "#46039f"
             ],
             [
              0.2222222222222222,
              "#7201a8"
             ],
             [
              0.3333333333333333,
              "#9c179e"
             ],
             [
              0.4444444444444444,
              "#bd3786"
             ],
             [
              0.5555555555555556,
              "#d8576b"
             ],
             [
              0.6666666666666666,
              "#ed7953"
             ],
             [
              0.7777777777777778,
              "#fb9f3a"
             ],
             [
              0.8888888888888888,
              "#fdca26"
             ],
             [
              1,
              "#f0f921"
             ]
            ],
            "type": "histogram2d"
           }
          ],
          "histogram2dcontour": [
           {
            "colorbar": {
             "outlinewidth": 0,
             "ticks": ""
            },
            "colorscale": [
             [
              0,
              "#0d0887"
             ],
             [
              0.1111111111111111,
              "#46039f"
             ],
             [
              0.2222222222222222,
              "#7201a8"
             ],
             [
              0.3333333333333333,
              "#9c179e"
             ],
             [
              0.4444444444444444,
              "#bd3786"
             ],
             [
              0.5555555555555556,
              "#d8576b"
             ],
             [
              0.6666666666666666,
              "#ed7953"
             ],
             [
              0.7777777777777778,
              "#fb9f3a"
             ],
             [
              0.8888888888888888,
              "#fdca26"
             ],
             [
              1,
              "#f0f921"
             ]
            ],
            "type": "histogram2dcontour"
           }
          ],
          "mesh3d": [
           {
            "colorbar": {
             "outlinewidth": 0,
             "ticks": ""
            },
            "type": "mesh3d"
           }
          ],
          "parcoords": [
           {
            "line": {
             "colorbar": {
              "outlinewidth": 0,
              "ticks": ""
             }
            },
            "type": "parcoords"
           }
          ],
          "pie": [
           {
            "automargin": true,
            "type": "pie"
           }
          ],
          "scatter": [
           {
            "marker": {
             "colorbar": {
              "outlinewidth": 0,
              "ticks": ""
             }
            },
            "type": "scatter"
           }
          ],
          "scatter3d": [
           {
            "line": {
             "colorbar": {
              "outlinewidth": 0,
              "ticks": ""
             }
            },
            "marker": {
             "colorbar": {
              "outlinewidth": 0,
              "ticks": ""
             }
            },
            "type": "scatter3d"
           }
          ],
          "scattercarpet": [
           {
            "marker": {
             "colorbar": {
              "outlinewidth": 0,
              "ticks": ""
             }
            },
            "type": "scattercarpet"
           }
          ],
          "scattergeo": [
           {
            "marker": {
             "colorbar": {
              "outlinewidth": 0,
              "ticks": ""
             }
            },
            "type": "scattergeo"
           }
          ],
          "scattergl": [
           {
            "marker": {
             "colorbar": {
              "outlinewidth": 0,
              "ticks": ""
             }
            },
            "type": "scattergl"
           }
          ],
          "scattermapbox": [
           {
            "marker": {
             "colorbar": {
              "outlinewidth": 0,
              "ticks": ""
             }
            },
            "type": "scattermapbox"
           }
          ],
          "scatterpolar": [
           {
            "marker": {
             "colorbar": {
              "outlinewidth": 0,
              "ticks": ""
             }
            },
            "type": "scatterpolar"
           }
          ],
          "scatterpolargl": [
           {
            "marker": {
             "colorbar": {
              "outlinewidth": 0,
              "ticks": ""
             }
            },
            "type": "scatterpolargl"
           }
          ],
          "scatterternary": [
           {
            "marker": {
             "colorbar": {
              "outlinewidth": 0,
              "ticks": ""
             }
            },
            "type": "scatterternary"
           }
          ],
          "surface": [
           {
            "colorbar": {
             "outlinewidth": 0,
             "ticks": ""
            },
            "colorscale": [
             [
              0,
              "#0d0887"
             ],
             [
              0.1111111111111111,
              "#46039f"
             ],
             [
              0.2222222222222222,
              "#7201a8"
             ],
             [
              0.3333333333333333,
              "#9c179e"
             ],
             [
              0.4444444444444444,
              "#bd3786"
             ],
             [
              0.5555555555555556,
              "#d8576b"
             ],
             [
              0.6666666666666666,
              "#ed7953"
             ],
             [
              0.7777777777777778,
              "#fb9f3a"
             ],
             [
              0.8888888888888888,
              "#fdca26"
             ],
             [
              1,
              "#f0f921"
             ]
            ],
            "type": "surface"
           }
          ],
          "table": [
           {
            "cells": {
             "fill": {
              "color": "#EBF0F8"
             },
             "line": {
              "color": "white"
             }
            },
            "header": {
             "fill": {
              "color": "#C8D4E3"
             },
             "line": {
              "color": "white"
             }
            },
            "type": "table"
           }
          ]
         },
         "layout": {
          "annotationdefaults": {
           "arrowcolor": "#2a3f5f",
           "arrowhead": 0,
           "arrowwidth": 1
          },
          "autotypenumbers": "strict",
          "coloraxis": {
           "colorbar": {
            "outlinewidth": 0,
            "ticks": ""
           }
          },
          "colorscale": {
           "diverging": [
            [
             0,
             "#8e0152"
            ],
            [
             0.1,
             "#c51b7d"
            ],
            [
             0.2,
             "#de77ae"
            ],
            [
             0.3,
             "#f1b6da"
            ],
            [
             0.4,
             "#fde0ef"
            ],
            [
             0.5,
             "#f7f7f7"
            ],
            [
             0.6,
             "#e6f5d0"
            ],
            [
             0.7,
             "#b8e186"
            ],
            [
             0.8,
             "#7fbc41"
            ],
            [
             0.9,
             "#4d9221"
            ],
            [
             1,
             "#276419"
            ]
           ],
           "sequential": [
            [
             0,
             "#0d0887"
            ],
            [
             0.1111111111111111,
             "#46039f"
            ],
            [
             0.2222222222222222,
             "#7201a8"
            ],
            [
             0.3333333333333333,
             "#9c179e"
            ],
            [
             0.4444444444444444,
             "#bd3786"
            ],
            [
             0.5555555555555556,
             "#d8576b"
            ],
            [
             0.6666666666666666,
             "#ed7953"
            ],
            [
             0.7777777777777778,
             "#fb9f3a"
            ],
            [
             0.8888888888888888,
             "#fdca26"
            ],
            [
             1,
             "#f0f921"
            ]
           ],
           "sequentialminus": [
            [
             0,
             "#0d0887"
            ],
            [
             0.1111111111111111,
             "#46039f"
            ],
            [
             0.2222222222222222,
             "#7201a8"
            ],
            [
             0.3333333333333333,
             "#9c179e"
            ],
            [
             0.4444444444444444,
             "#bd3786"
            ],
            [
             0.5555555555555556,
             "#d8576b"
            ],
            [
             0.6666666666666666,
             "#ed7953"
            ],
            [
             0.7777777777777778,
             "#fb9f3a"
            ],
            [
             0.8888888888888888,
             "#fdca26"
            ],
            [
             1,
             "#f0f921"
            ]
           ]
          },
          "colorway": [
           "#636efa",
           "#EF553B",
           "#00cc96",
           "#ab63fa",
           "#FFA15A",
           "#19d3f3",
           "#FF6692",
           "#B6E880",
           "#FF97FF",
           "#FECB52"
          ],
          "font": {
           "color": "#2a3f5f"
          },
          "geo": {
           "bgcolor": "white",
           "lakecolor": "white",
           "landcolor": "#E5ECF6",
           "showlakes": true,
           "showland": true,
           "subunitcolor": "white"
          },
          "hoverlabel": {
           "align": "left"
          },
          "hovermode": "closest",
          "mapbox": {
           "style": "light"
          },
          "paper_bgcolor": "white",
          "plot_bgcolor": "#E5ECF6",
          "polar": {
           "angularaxis": {
            "gridcolor": "white",
            "linecolor": "white",
            "ticks": ""
           },
           "bgcolor": "#E5ECF6",
           "radialaxis": {
            "gridcolor": "white",
            "linecolor": "white",
            "ticks": ""
           }
          },
          "scene": {
           "xaxis": {
            "backgroundcolor": "#E5ECF6",
            "gridcolor": "white",
            "gridwidth": 2,
            "linecolor": "white",
            "showbackground": true,
            "ticks": "",
            "zerolinecolor": "white"
           },
           "yaxis": {
            "backgroundcolor": "#E5ECF6",
            "gridcolor": "white",
            "gridwidth": 2,
            "linecolor": "white",
            "showbackground": true,
            "ticks": "",
            "zerolinecolor": "white"
           },
           "zaxis": {
            "backgroundcolor": "#E5ECF6",
            "gridcolor": "white",
            "gridwidth": 2,
            "linecolor": "white",
            "showbackground": true,
            "ticks": "",
            "zerolinecolor": "white"
           }
          },
          "shapedefaults": {
           "line": {
            "color": "#2a3f5f"
           }
          },
          "ternary": {
           "aaxis": {
            "gridcolor": "white",
            "linecolor": "white",
            "ticks": ""
           },
           "baxis": {
            "gridcolor": "white",
            "linecolor": "white",
            "ticks": ""
           },
           "bgcolor": "#E5ECF6",
           "caxis": {
            "gridcolor": "white",
            "linecolor": "white",
            "ticks": ""
           }
          },
          "title": {
           "x": 0.05
          },
          "xaxis": {
           "automargin": true,
           "gridcolor": "white",
           "linecolor": "white",
           "ticks": "",
           "title": {
            "standoff": 15
           },
           "zerolinecolor": "white",
           "zerolinewidth": 2
          },
          "yaxis": {
           "automargin": true,
           "gridcolor": "white",
           "linecolor": "white",
           "ticks": "",
           "title": {
            "standoff": 15
           },
           "zerolinecolor": "white",
           "zerolinewidth": 2
          }
         }
        },
        "title": {
         "text": "Measurements on 2020-04-15 00:00:00"
        },
        "width": 1000
       }
      }
     },
     "metadata": {}
    }
   ],
   "source": [
    "def show_map(measurements, time, feature):\n",
    "    x = measurements[measurements['time'] == time]\n",
    "    \n",
    "    # x = x.merge(meta, on=['device_id', 'city'])\n",
    "    x = gpd.GeoDataFrame(x)\n",
    "\n",
    "    x[\"size\"] = 10\n",
    "\n",
    "    fig = px.scatter_mapbox(x,\n",
    "                            lat=x.geometry.y,\n",
    "                            lon=x.geometry.x,\n",
    "                            hover_name='city',\n",
    "                            hover_data=[\"device_id\", 'device_name'],\n",
    "                            color=feature,\n",
    "                            size='size',\n",
    "                            color_continuous_scale=px.colors.sequential.matter,\n",
    "                            width=1000, height=700)\n",
    "\n",
    "    fig.update_layout(\n",
    "        title=f'Measurements on {time}',\n",
    "        autosize=True,\n",
    "        hovermode='closest',\n",
    "        showlegend=False,\n",
    "        mapbox=dict(\n",
    "            bearing=0,\n",
    "            center=dict(\n",
    "                lat=39,\n",
    "                lon=117\n",
    "            ),\n",
    "            pitch=0,\n",
    "            zoom=5,\n",
    "            style='stamen-terrain' # 'stamen-terrain'\n",
    "        ),\n",
    "    )\n",
    "\n",
    "    fig.show()\n",
    "    # plt.show()s\n",
    "\n",
    "# interact(show_map, time=date_slider)\n",
    "show_map(data.measurements_joined, '2020-04-15 00:00:00', 'pm25')"
   ]
  },
  {
   "source": [
    "### Check for missing data"
   ],
   "cell_type": "markdown",
   "metadata": {}
  },
  {
   "cell_type": "code",
   "execution_count": 11,
   "metadata": {},
   "outputs": [],
   "source": [
    "# select only every third hour (that's how they use it in PM2.5-GNN) - use %2==2, since we have most data for (2:00, 5:00, 8:00, etc.)\n",
    "filtered_city_means = city_means[city_means['time'].dt.hour % 6 == 2]\n",
    "del filtered_city_means['co']\n",
    "del filtered_city_means['no2']\n",
    "del filtered_city_means['o3']\n",
    "del filtered_city_means['pm10']\n",
    "del filtered_city_means['so2']\n",
    "# filtered_city_means\n",
    "missing_city_means = filtered_city_means[filtered_city_means.isnull().any(axis=1)]"
   ]
  },
  {
   "source": [
    "There's quite a few entries, where we don't have a single measurement per city:"
   ],
   "cell_type": "markdown",
   "metadata": {}
  },
  {
   "cell_type": "code",
   "execution_count": 12,
   "metadata": {},
   "outputs": [
    {
     "output_type": "execute_result",
     "data": {
      "text/plain": [
       "      device_id                time  pm25  temperature  humidity  windSpeed  \\\n",
       "45459   Beijing 2016-03-08 02:00:00   NaN     0.187037  0.220370   7.625556   \n",
       "46449   Beijing 2016-04-18 08:00:00   NaN    13.851235  0.311852   6.720000   \n",
       "46473   Beijing 2016-04-19 08:00:00   NaN    10.847942  0.627037   6.720000   \n",
       "48915   Beijing 2016-07-30 02:00:00   NaN    27.862346  0.844074   6.720000   \n",
       "49149   Beijing 2016-08-08 20:00:00   NaN    26.843621  0.662222   4.480000   \n",
       "...         ...                 ...   ...          ...       ...        ...   \n",
       "86283   Beijing 2020-11-03 02:00:00   NaN     3.484362  0.182963   3.548148   \n",
       "86289   Beijing 2020-11-03 08:00:00   NaN     2.942798  0.256296   3.371111   \n",
       "86841   Beijing 2020-11-26 08:00:00   NaN    -1.250206  0.608889   2.531481   \n",
       "87237   Beijing 2020-12-12 20:00:00   NaN    -0.088477  0.678519   6.358148   \n",
       "87687   Beijing 2020-12-31 14:00:00   NaN    -0.936420  0.072963   6.852963   \n",
       "\n",
       "       windBearing  precipIntensity         lon        lat  \n",
       "45459    42.259259         0.000000  116.405514  39.986543  \n",
       "46449     0.000000         0.000000  116.405514  39.986543  \n",
       "46473   120.000000         0.000000  116.405514  39.986543  \n",
       "48915   110.000000         0.000000  116.405514  39.986543  \n",
       "49149   161.000000         0.000000  116.405514  39.986543  \n",
       "...            ...              ...         ...        ...  \n",
       "86283   276.851852         0.000000  116.405514  39.986543  \n",
       "86289   288.370370         0.000000  116.405514  39.986543  \n",
       "86841    75.296296         0.000000  116.405514  39.986543  \n",
       "87237   261.074074         0.007615  116.405514  39.986543  \n",
       "87687   278.740741         0.000000  116.405514  39.986543  \n",
       "\n",
       "[437 rows x 10 columns]"
      ],
      "text/html": "<div>\n<style scoped>\n    .dataframe tbody tr th:only-of-type {\n        vertical-align: middle;\n    }\n\n    .dataframe tbody tr th {\n        vertical-align: top;\n    }\n\n    .dataframe thead th {\n        text-align: right;\n    }\n</style>\n<table border=\"1\" class=\"dataframe\">\n  <thead>\n    <tr style=\"text-align: right;\">\n      <th></th>\n      <th>device_id</th>\n      <th>time</th>\n      <th>pm25</th>\n      <th>temperature</th>\n      <th>humidity</th>\n      <th>windSpeed</th>\n      <th>windBearing</th>\n      <th>precipIntensity</th>\n      <th>lon</th>\n      <th>lat</th>\n    </tr>\n  </thead>\n  <tbody>\n    <tr>\n      <th>45459</th>\n      <td>Beijing</td>\n      <td>2016-03-08 02:00:00</td>\n      <td>NaN</td>\n      <td>0.187037</td>\n      <td>0.220370</td>\n      <td>7.625556</td>\n      <td>42.259259</td>\n      <td>0.000000</td>\n      <td>116.405514</td>\n      <td>39.986543</td>\n    </tr>\n    <tr>\n      <th>46449</th>\n      <td>Beijing</td>\n      <td>2016-04-18 08:00:00</td>\n      <td>NaN</td>\n      <td>13.851235</td>\n      <td>0.311852</td>\n      <td>6.720000</td>\n      <td>0.000000</td>\n      <td>0.000000</td>\n      <td>116.405514</td>\n      <td>39.986543</td>\n    </tr>\n    <tr>\n      <th>46473</th>\n      <td>Beijing</td>\n      <td>2016-04-19 08:00:00</td>\n      <td>NaN</td>\n      <td>10.847942</td>\n      <td>0.627037</td>\n      <td>6.720000</td>\n      <td>120.000000</td>\n      <td>0.000000</td>\n      <td>116.405514</td>\n      <td>39.986543</td>\n    </tr>\n    <tr>\n      <th>48915</th>\n      <td>Beijing</td>\n      <td>2016-07-30 02:00:00</td>\n      <td>NaN</td>\n      <td>27.862346</td>\n      <td>0.844074</td>\n      <td>6.720000</td>\n      <td>110.000000</td>\n      <td>0.000000</td>\n      <td>116.405514</td>\n      <td>39.986543</td>\n    </tr>\n    <tr>\n      <th>49149</th>\n      <td>Beijing</td>\n      <td>2016-08-08 20:00:00</td>\n      <td>NaN</td>\n      <td>26.843621</td>\n      <td>0.662222</td>\n      <td>4.480000</td>\n      <td>161.000000</td>\n      <td>0.000000</td>\n      <td>116.405514</td>\n      <td>39.986543</td>\n    </tr>\n    <tr>\n      <th>...</th>\n      <td>...</td>\n      <td>...</td>\n      <td>...</td>\n      <td>...</td>\n      <td>...</td>\n      <td>...</td>\n      <td>...</td>\n      <td>...</td>\n      <td>...</td>\n      <td>...</td>\n    </tr>\n    <tr>\n      <th>86283</th>\n      <td>Beijing</td>\n      <td>2020-11-03 02:00:00</td>\n      <td>NaN</td>\n      <td>3.484362</td>\n      <td>0.182963</td>\n      <td>3.548148</td>\n      <td>276.851852</td>\n      <td>0.000000</td>\n      <td>116.405514</td>\n      <td>39.986543</td>\n    </tr>\n    <tr>\n      <th>86289</th>\n      <td>Beijing</td>\n      <td>2020-11-03 08:00:00</td>\n      <td>NaN</td>\n      <td>2.942798</td>\n      <td>0.256296</td>\n      <td>3.371111</td>\n      <td>288.370370</td>\n      <td>0.000000</td>\n      <td>116.405514</td>\n      <td>39.986543</td>\n    </tr>\n    <tr>\n      <th>86841</th>\n      <td>Beijing</td>\n      <td>2020-11-26 08:00:00</td>\n      <td>NaN</td>\n      <td>-1.250206</td>\n      <td>0.608889</td>\n      <td>2.531481</td>\n      <td>75.296296</td>\n      <td>0.000000</td>\n      <td>116.405514</td>\n      <td>39.986543</td>\n    </tr>\n    <tr>\n      <th>87237</th>\n      <td>Beijing</td>\n      <td>2020-12-12 20:00:00</td>\n      <td>NaN</td>\n      <td>-0.088477</td>\n      <td>0.678519</td>\n      <td>6.358148</td>\n      <td>261.074074</td>\n      <td>0.007615</td>\n      <td>116.405514</td>\n      <td>39.986543</td>\n    </tr>\n    <tr>\n      <th>87687</th>\n      <td>Beijing</td>\n      <td>2020-12-31 14:00:00</td>\n      <td>NaN</td>\n      <td>-0.936420</td>\n      <td>0.072963</td>\n      <td>6.852963</td>\n      <td>278.740741</td>\n      <td>0.000000</td>\n      <td>116.405514</td>\n      <td>39.986543</td>\n    </tr>\n  </tbody>\n</table>\n<p>437 rows × 10 columns</p>\n</div>"
     },
     "metadata": {},
     "execution_count": 12
    }
   ],
   "source": [
    "missing_city_means[missing_city_means['device_id'] == 'Beijing']"
   ]
  },
  {
   "source": [
    "### Missing data"
   ],
   "cell_type": "markdown",
   "metadata": {}
  },
  {
   "cell_type": "code",
   "execution_count": 13,
   "metadata": {},
   "outputs": [],
   "source": [
    "def analyse_missing_data(relevant):\n",
    "    relevant_missing = relevant[relevant.isnull().any(axis=1)]\n",
    "    \n",
    "    print(f\"Missing of relevant data: {len(relevant_missing) / len(relevant) * 100}%\")\n",
    "\n",
    "    missing_by_device = relevant_missing.groupby('device_id').count()\n",
    "    plt.figure(figsize=(15,5))\n",
    "    plt.bar(missing_by_device.index, missing_by_device['time'])\n",
    "    plt.xticks(missing_by_device.index, rotation='vertical')\n",
    "    plt.show()\n",
    "\n",
    "    missing_by_time = relevant_missing.groupby(relevant_missing['time']).count()\n",
    "    plt.figure(figsize=(15,5))\n",
    "    plt.plot(missing_by_time.index, missing_by_time['device_id'])\n",
    "    plt.show()\n",
    "\n",
    "    return relevant_missing"
   ]
  },
  {
   "cell_type": "code",
   "execution_count": 14,
   "metadata": {},
   "outputs": [
    {
     "output_type": "stream",
     "name": "stdout",
     "text": [
      "Missing of relevant data: 7.3371928990073085%\n"
     ]
    },
    {
     "output_type": "display_data",
     "data": {
      "text/plain": "<Figure size 1080x360 with 1 Axes>",
      "image/svg+xml": "<?xml version=\"1.0\" encoding=\"utf-8\" standalone=\"no\"?>\n<!DOCTYPE svg PUBLIC \"-//W3C//DTD SVG 1.1//EN\"\n  \"http://www.w3.org/Graphics/SVG/1.1/DTD/svg11.dtd\">\n<!-- Created with matplotlib (https://matplotlib.org/) -->\n<svg height=\"345.6625pt\" version=\"1.1\" viewBox=\"0 0 883.85 345.6625\" width=\"883.85pt\" xmlns=\"http://www.w3.org/2000/svg\" xmlns:xlink=\"http://www.w3.org/1999/xlink\">\n <metadata>\n  <rdf:RDF xmlns:cc=\"http://creativecommons.org/ns#\" xmlns:dc=\"http://purl.org/dc/elements/1.1/\" xmlns:rdf=\"http://www.w3.org/1999/02/22-rdf-syntax-ns#\">\n   <cc:Work>\n    <dc:type rdf:resource=\"http://purl.org/dc/dcmitype/StillImage\"/>\n    <dc:date>2021-03-09T20:41:39.737379</dc:date>\n    <dc:format>image/svg+xml</dc:format>\n    <dc:creator>\n     <cc:Agent>\n      <dc:title>Matplotlib v3.3.3, https://matplotlib.org/</dc:title>\n     </cc:Agent>\n    </dc:creator>\n   </cc:Work>\n  </rdf:RDF>\n </metadata>\n <defs>\n  <style type=\"text/css\">*{stroke-linecap:butt;stroke-linejoin:round;}</style>\n </defs>\n <g id=\"figure_1\">\n  <g id=\"patch_1\">\n   <path d=\"M -0 345.6625 \nL 883.85 345.6625 \nL 883.85 0 \nL -0 0 \nz\n\" style=\"fill:none;\"/>\n  </g>\n  <g id=\"axes_1\">\n   <g id=\"patch_2\">\n    <path d=\"M 39.65 279 \nL 876.65 279 \nL 876.65 7.2 \nL 39.65 7.2 \nz\n\" style=\"fill:#ffffff;\"/>\n   </g>\n   <g id=\"patch_3\">\n    <path clip-path=\"url(#pa97fc9a0fe)\" d=\"M 77.695455 279 \nL 167.214171 279 \nL 167.214171 203.411542 \nL 77.695455 203.411542 \nz\n\" style=\"fill:#1f77b4;\"/>\n   </g>\n   <g id=\"patch_4\">\n    <path clip-path=\"url(#pa97fc9a0fe)\" d=\"M 189.59385 279 \nL 279.112567 279 \nL 279.112567 202.572219 \nL 189.59385 202.572219 \nz\n\" style=\"fill:#1f77b4;\"/>\n   </g>\n   <g id=\"patch_5\">\n    <path clip-path=\"url(#pa97fc9a0fe)\" d=\"M 301.492246 279 \nL 391.010963 279 \nL 391.010963 154.632054 \nL 301.492246 154.632054 \nz\n\" style=\"fill:#1f77b4;\"/>\n   </g>\n   <g id=\"patch_6\">\n    <path clip-path=\"url(#pa97fc9a0fe)\" d=\"M 413.390642 279 \nL 502.909358 279 \nL 502.909358 103.532084 \nL 413.390642 103.532084 \nz\n\" style=\"fill:#1f77b4;\"/>\n   </g>\n   <g id=\"patch_7\">\n    <path clip-path=\"url(#pa97fc9a0fe)\" d=\"M 525.289037 279 \nL 614.807754 279 \nL 614.807754 66.25626 \nL 525.289037 66.25626 \nz\n\" style=\"fill:#1f77b4;\"/>\n   </g>\n   <g id=\"patch_8\">\n    <path clip-path=\"url(#pa97fc9a0fe)\" d=\"M 637.187433 279 \nL 726.70615 279 \nL 726.70615 20.142857 \nL 637.187433 20.142857 \nz\n\" style=\"fill:#1f77b4;\"/>\n   </g>\n   <g id=\"patch_9\">\n    <path clip-path=\"url(#pa97fc9a0fe)\" d=\"M 749.085829 279 \nL 838.604545 279 \nL 838.604545 90.54726 \nL 749.085829 90.54726 \nz\n\" style=\"fill:#1f77b4;\"/>\n   </g>\n   <g id=\"matplotlib.axis_1\">\n    <g id=\"xtick_1\">\n     <g id=\"line2d_1\">\n      <defs>\n       <path d=\"M 0 0 \nL 0 3.5 \n\" id=\"mceeaf4f357\" style=\"stroke:#000000;stroke-width:0.8;\"/>\n      </defs>\n      <g>\n       <use style=\"stroke:#000000;stroke-width:0.8;\" x=\"122.454813\" xlink:href=\"#mceeaf4f357\" y=\"279\"/>\n      </g>\n     </g>\n     <g id=\"text_1\">\n      <!-- 1037A -->\n      <g transform=\"translate(125.214188 318.290625)rotate(-90)scale(0.1 -0.1)\">\n       <defs>\n        <path d=\"M 12.40625 8.296875 \nL 28.515625 8.296875 \nL 28.515625 63.921875 \nL 10.984375 60.40625 \nL 10.984375 69.390625 \nL 28.421875 72.90625 \nL 38.28125 72.90625 \nL 38.28125 8.296875 \nL 54.390625 8.296875 \nL 54.390625 0 \nL 12.40625 0 \nz\n\" id=\"DejaVuSans-49\"/>\n        <path d=\"M 31.78125 66.40625 \nQ 24.171875 66.40625 20.328125 58.90625 \nQ 16.5 51.421875 16.5 36.375 \nQ 16.5 21.390625 20.328125 13.890625 \nQ 24.171875 6.390625 31.78125 6.390625 \nQ 39.453125 6.390625 43.28125 13.890625 \nQ 47.125 21.390625 47.125 36.375 \nQ 47.125 51.421875 43.28125 58.90625 \nQ 39.453125 66.40625 31.78125 66.40625 \nz\nM 31.78125 74.21875 \nQ 44.046875 74.21875 50.515625 64.515625 \nQ 56.984375 54.828125 56.984375 36.375 \nQ 56.984375 17.96875 50.515625 8.265625 \nQ 44.046875 -1.421875 31.78125 -1.421875 \nQ 19.53125 -1.421875 13.0625 8.265625 \nQ 6.59375 17.96875 6.59375 36.375 \nQ 6.59375 54.828125 13.0625 64.515625 \nQ 19.53125 74.21875 31.78125 74.21875 \nz\n\" id=\"DejaVuSans-48\"/>\n        <path d=\"M 40.578125 39.3125 \nQ 47.65625 37.796875 51.625 33 \nQ 55.609375 28.21875 55.609375 21.1875 \nQ 55.609375 10.40625 48.1875 4.484375 \nQ 40.765625 -1.421875 27.09375 -1.421875 \nQ 22.515625 -1.421875 17.65625 -0.515625 \nQ 12.796875 0.390625 7.625 2.203125 \nL 7.625 11.71875 \nQ 11.71875 9.328125 16.59375 8.109375 \nQ 21.484375 6.890625 26.8125 6.890625 \nQ 36.078125 6.890625 40.9375 10.546875 \nQ 45.796875 14.203125 45.796875 21.1875 \nQ 45.796875 27.640625 41.28125 31.265625 \nQ 36.765625 34.90625 28.71875 34.90625 \nL 20.21875 34.90625 \nL 20.21875 43.015625 \nL 29.109375 43.015625 \nQ 36.375 43.015625 40.234375 45.921875 \nQ 44.09375 48.828125 44.09375 54.296875 \nQ 44.09375 59.90625 40.109375 62.90625 \nQ 36.140625 65.921875 28.71875 65.921875 \nQ 24.65625 65.921875 20.015625 65.03125 \nQ 15.375 64.15625 9.8125 62.3125 \nL 9.8125 71.09375 \nQ 15.4375 72.65625 20.34375 73.4375 \nQ 25.25 74.21875 29.59375 74.21875 \nQ 40.828125 74.21875 47.359375 69.109375 \nQ 53.90625 64.015625 53.90625 55.328125 \nQ 53.90625 49.265625 50.4375 45.09375 \nQ 46.96875 40.921875 40.578125 39.3125 \nz\n\" id=\"DejaVuSans-51\"/>\n        <path d=\"M 8.203125 72.90625 \nL 55.078125 72.90625 \nL 55.078125 68.703125 \nL 28.609375 0 \nL 18.3125 0 \nL 43.21875 64.59375 \nL 8.203125 64.59375 \nz\n\" id=\"DejaVuSans-55\"/>\n        <path d=\"M 34.1875 63.1875 \nL 20.796875 26.90625 \nL 47.609375 26.90625 \nz\nM 28.609375 72.90625 \nL 39.796875 72.90625 \nL 67.578125 0 \nL 57.328125 0 \nL 50.6875 18.703125 \nL 17.828125 18.703125 \nL 11.1875 0 \nL 0.78125 0 \nz\n\" id=\"DejaVuSans-65\"/>\n       </defs>\n       <use xlink:href=\"#DejaVuSans-49\"/>\n       <use x=\"63.623047\" xlink:href=\"#DejaVuSans-48\"/>\n       <use x=\"127.246094\" xlink:href=\"#DejaVuSans-51\"/>\n       <use x=\"190.869141\" xlink:href=\"#DejaVuSans-55\"/>\n       <use x=\"254.492188\" xlink:href=\"#DejaVuSans-65\"/>\n      </g>\n     </g>\n    </g>\n    <g id=\"xtick_2\">\n     <g id=\"line2d_2\">\n      <g>\n       <use style=\"stroke:#000000;stroke-width:0.8;\" x=\"234.353209\" xlink:href=\"#mceeaf4f357\" y=\"279\"/>\n      </g>\n     </g>\n     <g id=\"text_2\">\n      <!-- 1056A -->\n      <g transform=\"translate(237.112584 318.290625)rotate(-90)scale(0.1 -0.1)\">\n       <defs>\n        <path d=\"M 10.796875 72.90625 \nL 49.515625 72.90625 \nL 49.515625 64.59375 \nL 19.828125 64.59375 \nL 19.828125 46.734375 \nQ 21.96875 47.46875 24.109375 47.828125 \nQ 26.265625 48.1875 28.421875 48.1875 \nQ 40.625 48.1875 47.75 41.5 \nQ 54.890625 34.8125 54.890625 23.390625 \nQ 54.890625 11.625 47.5625 5.09375 \nQ 40.234375 -1.421875 26.90625 -1.421875 \nQ 22.3125 -1.421875 17.546875 -0.640625 \nQ 12.796875 0.140625 7.71875 1.703125 \nL 7.71875 11.625 \nQ 12.109375 9.234375 16.796875 8.0625 \nQ 21.484375 6.890625 26.703125 6.890625 \nQ 35.15625 6.890625 40.078125 11.328125 \nQ 45.015625 15.765625 45.015625 23.390625 \nQ 45.015625 31 40.078125 35.4375 \nQ 35.15625 39.890625 26.703125 39.890625 \nQ 22.75 39.890625 18.8125 39.015625 \nQ 14.890625 38.140625 10.796875 36.28125 \nz\n\" id=\"DejaVuSans-53\"/>\n        <path d=\"M 33.015625 40.375 \nQ 26.375 40.375 22.484375 35.828125 \nQ 18.609375 31.296875 18.609375 23.390625 \nQ 18.609375 15.53125 22.484375 10.953125 \nQ 26.375 6.390625 33.015625 6.390625 \nQ 39.65625 6.390625 43.53125 10.953125 \nQ 47.40625 15.53125 47.40625 23.390625 \nQ 47.40625 31.296875 43.53125 35.828125 \nQ 39.65625 40.375 33.015625 40.375 \nz\nM 52.59375 71.296875 \nL 52.59375 62.3125 \nQ 48.875 64.0625 45.09375 64.984375 \nQ 41.3125 65.921875 37.59375 65.921875 \nQ 27.828125 65.921875 22.671875 59.328125 \nQ 17.53125 52.734375 16.796875 39.40625 \nQ 19.671875 43.65625 24.015625 45.921875 \nQ 28.375 48.1875 33.59375 48.1875 \nQ 44.578125 48.1875 50.953125 41.515625 \nQ 57.328125 34.859375 57.328125 23.390625 \nQ 57.328125 12.15625 50.6875 5.359375 \nQ 44.046875 -1.421875 33.015625 -1.421875 \nQ 20.359375 -1.421875 13.671875 8.265625 \nQ 6.984375 17.96875 6.984375 36.375 \nQ 6.984375 53.65625 15.1875 63.9375 \nQ 23.390625 74.21875 37.203125 74.21875 \nQ 40.921875 74.21875 44.703125 73.484375 \nQ 48.484375 72.75 52.59375 71.296875 \nz\n\" id=\"DejaVuSans-54\"/>\n       </defs>\n       <use xlink:href=\"#DejaVuSans-49\"/>\n       <use x=\"63.623047\" xlink:href=\"#DejaVuSans-48\"/>\n       <use x=\"127.246094\" xlink:href=\"#DejaVuSans-53\"/>\n       <use x=\"190.869141\" xlink:href=\"#DejaVuSans-54\"/>\n       <use x=\"254.492188\" xlink:href=\"#DejaVuSans-65\"/>\n      </g>\n     </g>\n    </g>\n    <g id=\"xtick_3\">\n     <g id=\"line2d_3\">\n      <g>\n       <use style=\"stroke:#000000;stroke-width:0.8;\" x=\"346.251604\" xlink:href=\"#mceeaf4f357\" y=\"279\"/>\n      </g>\n     </g>\n     <g id=\"text_3\">\n      <!-- 1061A -->\n      <g transform=\"translate(349.010979 318.290625)rotate(-90)scale(0.1 -0.1)\">\n       <use xlink:href=\"#DejaVuSans-49\"/>\n       <use x=\"63.623047\" xlink:href=\"#DejaVuSans-48\"/>\n       <use x=\"127.246094\" xlink:href=\"#DejaVuSans-54\"/>\n       <use x=\"190.869141\" xlink:href=\"#DejaVuSans-49\"/>\n       <use x=\"254.492188\" xlink:href=\"#DejaVuSans-65\"/>\n      </g>\n     </g>\n    </g>\n    <g id=\"xtick_4\">\n     <g id=\"line2d_4\">\n      <g>\n       <use style=\"stroke:#000000;stroke-width:0.8;\" x=\"458.15\" xlink:href=\"#mceeaf4f357\" y=\"279\"/>\n      </g>\n     </g>\n     <g id=\"text_4\">\n      <!-- changping -->\n      <g transform=\"translate(460.909375 338.4625)rotate(-90)scale(0.1 -0.1)\">\n       <defs>\n        <path d=\"M 48.78125 52.59375 \nL 48.78125 44.1875 \nQ 44.96875 46.296875 41.140625 47.34375 \nQ 37.3125 48.390625 33.40625 48.390625 \nQ 24.65625 48.390625 19.8125 42.84375 \nQ 14.984375 37.3125 14.984375 27.296875 \nQ 14.984375 17.28125 19.8125 11.734375 \nQ 24.65625 6.203125 33.40625 6.203125 \nQ 37.3125 6.203125 41.140625 7.25 \nQ 44.96875 8.296875 48.78125 10.40625 \nL 48.78125 2.09375 \nQ 45.015625 0.34375 40.984375 -0.53125 \nQ 36.96875 -1.421875 32.421875 -1.421875 \nQ 20.0625 -1.421875 12.78125 6.34375 \nQ 5.515625 14.109375 5.515625 27.296875 \nQ 5.515625 40.671875 12.859375 48.328125 \nQ 20.21875 56 33.015625 56 \nQ 37.15625 56 41.109375 55.140625 \nQ 45.0625 54.296875 48.78125 52.59375 \nz\n\" id=\"DejaVuSans-99\"/>\n        <path d=\"M 54.890625 33.015625 \nL 54.890625 0 \nL 45.90625 0 \nL 45.90625 32.71875 \nQ 45.90625 40.484375 42.875 44.328125 \nQ 39.84375 48.1875 33.796875 48.1875 \nQ 26.515625 48.1875 22.3125 43.546875 \nQ 18.109375 38.921875 18.109375 30.90625 \nL 18.109375 0 \nL 9.078125 0 \nL 9.078125 75.984375 \nL 18.109375 75.984375 \nL 18.109375 46.1875 \nQ 21.34375 51.125 25.703125 53.5625 \nQ 30.078125 56 35.796875 56 \nQ 45.21875 56 50.046875 50.171875 \nQ 54.890625 44.34375 54.890625 33.015625 \nz\n\" id=\"DejaVuSans-104\"/>\n        <path d=\"M 34.28125 27.484375 \nQ 23.390625 27.484375 19.1875 25 \nQ 14.984375 22.515625 14.984375 16.5 \nQ 14.984375 11.71875 18.140625 8.90625 \nQ 21.296875 6.109375 26.703125 6.109375 \nQ 34.1875 6.109375 38.703125 11.40625 \nQ 43.21875 16.703125 43.21875 25.484375 \nL 43.21875 27.484375 \nz\nM 52.203125 31.203125 \nL 52.203125 0 \nL 43.21875 0 \nL 43.21875 8.296875 \nQ 40.140625 3.328125 35.546875 0.953125 \nQ 30.953125 -1.421875 24.3125 -1.421875 \nQ 15.921875 -1.421875 10.953125 3.296875 \nQ 6 8.015625 6 15.921875 \nQ 6 25.140625 12.171875 29.828125 \nQ 18.359375 34.515625 30.609375 34.515625 \nL 43.21875 34.515625 \nL 43.21875 35.40625 \nQ 43.21875 41.609375 39.140625 45 \nQ 35.0625 48.390625 27.6875 48.390625 \nQ 23 48.390625 18.546875 47.265625 \nQ 14.109375 46.140625 10.015625 43.890625 \nL 10.015625 52.203125 \nQ 14.9375 54.109375 19.578125 55.046875 \nQ 24.21875 56 28.609375 56 \nQ 40.484375 56 46.34375 49.84375 \nQ 52.203125 43.703125 52.203125 31.203125 \nz\n\" id=\"DejaVuSans-97\"/>\n        <path d=\"M 54.890625 33.015625 \nL 54.890625 0 \nL 45.90625 0 \nL 45.90625 32.71875 \nQ 45.90625 40.484375 42.875 44.328125 \nQ 39.84375 48.1875 33.796875 48.1875 \nQ 26.515625 48.1875 22.3125 43.546875 \nQ 18.109375 38.921875 18.109375 30.90625 \nL 18.109375 0 \nL 9.078125 0 \nL 9.078125 54.6875 \nL 18.109375 54.6875 \nL 18.109375 46.1875 \nQ 21.34375 51.125 25.703125 53.5625 \nQ 30.078125 56 35.796875 56 \nQ 45.21875 56 50.046875 50.171875 \nQ 54.890625 44.34375 54.890625 33.015625 \nz\n\" id=\"DejaVuSans-110\"/>\n        <path d=\"M 45.40625 27.984375 \nQ 45.40625 37.75 41.375 43.109375 \nQ 37.359375 48.484375 30.078125 48.484375 \nQ 22.859375 48.484375 18.828125 43.109375 \nQ 14.796875 37.75 14.796875 27.984375 \nQ 14.796875 18.265625 18.828125 12.890625 \nQ 22.859375 7.515625 30.078125 7.515625 \nQ 37.359375 7.515625 41.375 12.890625 \nQ 45.40625 18.265625 45.40625 27.984375 \nz\nM 54.390625 6.78125 \nQ 54.390625 -7.171875 48.1875 -13.984375 \nQ 42 -20.796875 29.203125 -20.796875 \nQ 24.46875 -20.796875 20.265625 -20.09375 \nQ 16.0625 -19.390625 12.109375 -17.921875 \nL 12.109375 -9.1875 \nQ 16.0625 -11.328125 19.921875 -12.34375 \nQ 23.78125 -13.375 27.78125 -13.375 \nQ 36.625 -13.375 41.015625 -8.765625 \nQ 45.40625 -4.15625 45.40625 5.171875 \nL 45.40625 9.625 \nQ 42.625 4.78125 38.28125 2.390625 \nQ 33.9375 0 27.875 0 \nQ 17.828125 0 11.671875 7.65625 \nQ 5.515625 15.328125 5.515625 27.984375 \nQ 5.515625 40.671875 11.671875 48.328125 \nQ 17.828125 56 27.875 56 \nQ 33.9375 56 38.28125 53.609375 \nQ 42.625 51.21875 45.40625 46.390625 \nL 45.40625 54.6875 \nL 54.390625 54.6875 \nz\n\" id=\"DejaVuSans-103\"/>\n        <path d=\"M 18.109375 8.203125 \nL 18.109375 -20.796875 \nL 9.078125 -20.796875 \nL 9.078125 54.6875 \nL 18.109375 54.6875 \nL 18.109375 46.390625 \nQ 20.953125 51.265625 25.265625 53.625 \nQ 29.59375 56 35.59375 56 \nQ 45.5625 56 51.78125 48.09375 \nQ 58.015625 40.1875 58.015625 27.296875 \nQ 58.015625 14.40625 51.78125 6.484375 \nQ 45.5625 -1.421875 35.59375 -1.421875 \nQ 29.59375 -1.421875 25.265625 0.953125 \nQ 20.953125 3.328125 18.109375 8.203125 \nz\nM 48.6875 27.296875 \nQ 48.6875 37.203125 44.609375 42.84375 \nQ 40.53125 48.484375 33.40625 48.484375 \nQ 26.265625 48.484375 22.1875 42.84375 \nQ 18.109375 37.203125 18.109375 27.296875 \nQ 18.109375 17.390625 22.1875 11.75 \nQ 26.265625 6.109375 33.40625 6.109375 \nQ 40.53125 6.109375 44.609375 11.75 \nQ 48.6875 17.390625 48.6875 27.296875 \nz\n\" id=\"DejaVuSans-112\"/>\n        <path d=\"M 9.421875 54.6875 \nL 18.40625 54.6875 \nL 18.40625 0 \nL 9.421875 0 \nz\nM 9.421875 75.984375 \nL 18.40625 75.984375 \nL 18.40625 64.59375 \nL 9.421875 64.59375 \nz\n\" id=\"DejaVuSans-105\"/>\n       </defs>\n       <use xlink:href=\"#DejaVuSans-99\"/>\n       <use x=\"54.980469\" xlink:href=\"#DejaVuSans-104\"/>\n       <use x=\"118.359375\" xlink:href=\"#DejaVuSans-97\"/>\n       <use x=\"179.638672\" xlink:href=\"#DejaVuSans-110\"/>\n       <use x=\"243.017578\" xlink:href=\"#DejaVuSans-103\"/>\n       <use x=\"306.494141\" xlink:href=\"#DejaVuSans-112\"/>\n       <use x=\"369.970703\" xlink:href=\"#DejaVuSans-105\"/>\n       <use x=\"397.753906\" xlink:href=\"#DejaVuSans-110\"/>\n       <use x=\"461.132812\" xlink:href=\"#DejaVuSans-103\"/>\n      </g>\n     </g>\n    </g>\n    <g id=\"xtick_5\">\n     <g id=\"line2d_5\">\n      <g>\n       <use style=\"stroke:#000000;stroke-width:0.8;\" x=\"570.048396\" xlink:href=\"#mceeaf4f357\" y=\"279\"/>\n      </g>\n     </g>\n     <g id=\"text_5\">\n      <!-- daxing -->\n      <g transform=\"translate(572.807771 319.859375)rotate(-90)scale(0.1 -0.1)\">\n       <defs>\n        <path d=\"M 45.40625 46.390625 \nL 45.40625 75.984375 \nL 54.390625 75.984375 \nL 54.390625 0 \nL 45.40625 0 \nL 45.40625 8.203125 \nQ 42.578125 3.328125 38.25 0.953125 \nQ 33.9375 -1.421875 27.875 -1.421875 \nQ 17.96875 -1.421875 11.734375 6.484375 \nQ 5.515625 14.40625 5.515625 27.296875 \nQ 5.515625 40.1875 11.734375 48.09375 \nQ 17.96875 56 27.875 56 \nQ 33.9375 56 38.25 53.625 \nQ 42.578125 51.265625 45.40625 46.390625 \nz\nM 14.796875 27.296875 \nQ 14.796875 17.390625 18.875 11.75 \nQ 22.953125 6.109375 30.078125 6.109375 \nQ 37.203125 6.109375 41.296875 11.75 \nQ 45.40625 17.390625 45.40625 27.296875 \nQ 45.40625 37.203125 41.296875 42.84375 \nQ 37.203125 48.484375 30.078125 48.484375 \nQ 22.953125 48.484375 18.875 42.84375 \nQ 14.796875 37.203125 14.796875 27.296875 \nz\n\" id=\"DejaVuSans-100\"/>\n        <path d=\"M 54.890625 54.6875 \nL 35.109375 28.078125 \nL 55.90625 0 \nL 45.3125 0 \nL 29.390625 21.484375 \nL 13.484375 0 \nL 2.875 0 \nL 24.125 28.609375 \nL 4.6875 54.6875 \nL 15.28125 54.6875 \nL 29.78125 35.203125 \nL 44.28125 54.6875 \nz\n\" id=\"DejaVuSans-120\"/>\n       </defs>\n       <use xlink:href=\"#DejaVuSans-100\"/>\n       <use x=\"63.476562\" xlink:href=\"#DejaVuSans-97\"/>\n       <use x=\"124.755859\" xlink:href=\"#DejaVuSans-120\"/>\n       <use x=\"183.935547\" xlink:href=\"#DejaVuSans-105\"/>\n       <use x=\"211.71875\" xlink:href=\"#DejaVuSans-110\"/>\n       <use x=\"275.097656\" xlink:href=\"#DejaVuSans-103\"/>\n      </g>\n     </g>\n    </g>\n    <g id=\"xtick_6\">\n     <g id=\"line2d_6\">\n      <g>\n       <use style=\"stroke:#000000;stroke-width:0.8;\" x=\"681.946791\" xlink:href=\"#mceeaf4f357\" y=\"279\"/>\n      </g>\n     </g>\n     <g id=\"text_6\">\n      <!-- qianmen -->\n      <g transform=\"translate(684.706166 329.823438)rotate(-90)scale(0.1 -0.1)\">\n       <defs>\n        <path d=\"M 14.796875 27.296875 \nQ 14.796875 17.390625 18.875 11.75 \nQ 22.953125 6.109375 30.078125 6.109375 \nQ 37.203125 6.109375 41.296875 11.75 \nQ 45.40625 17.390625 45.40625 27.296875 \nQ 45.40625 37.203125 41.296875 42.84375 \nQ 37.203125 48.484375 30.078125 48.484375 \nQ 22.953125 48.484375 18.875 42.84375 \nQ 14.796875 37.203125 14.796875 27.296875 \nz\nM 45.40625 8.203125 \nQ 42.578125 3.328125 38.25 0.953125 \nQ 33.9375 -1.421875 27.875 -1.421875 \nQ 17.96875 -1.421875 11.734375 6.484375 \nQ 5.515625 14.40625 5.515625 27.296875 \nQ 5.515625 40.1875 11.734375 48.09375 \nQ 17.96875 56 27.875 56 \nQ 33.9375 56 38.25 53.625 \nQ 42.578125 51.265625 45.40625 46.390625 \nL 45.40625 54.6875 \nL 54.390625 54.6875 \nL 54.390625 -20.796875 \nL 45.40625 -20.796875 \nz\n\" id=\"DejaVuSans-113\"/>\n        <path d=\"M 52 44.1875 \nQ 55.375 50.25 60.0625 53.125 \nQ 64.75 56 71.09375 56 \nQ 79.640625 56 84.28125 50.015625 \nQ 88.921875 44.046875 88.921875 33.015625 \nL 88.921875 0 \nL 79.890625 0 \nL 79.890625 32.71875 \nQ 79.890625 40.578125 77.09375 44.375 \nQ 74.3125 48.1875 68.609375 48.1875 \nQ 61.625 48.1875 57.5625 43.546875 \nQ 53.515625 38.921875 53.515625 30.90625 \nL 53.515625 0 \nL 44.484375 0 \nL 44.484375 32.71875 \nQ 44.484375 40.625 41.703125 44.40625 \nQ 38.921875 48.1875 33.109375 48.1875 \nQ 26.21875 48.1875 22.15625 43.53125 \nQ 18.109375 38.875 18.109375 30.90625 \nL 18.109375 0 \nL 9.078125 0 \nL 9.078125 54.6875 \nL 18.109375 54.6875 \nL 18.109375 46.1875 \nQ 21.1875 51.21875 25.484375 53.609375 \nQ 29.78125 56 35.6875 56 \nQ 41.65625 56 45.828125 52.96875 \nQ 50 49.953125 52 44.1875 \nz\n\" id=\"DejaVuSans-109\"/>\n        <path d=\"M 56.203125 29.59375 \nL 56.203125 25.203125 \nL 14.890625 25.203125 \nQ 15.484375 15.921875 20.484375 11.0625 \nQ 25.484375 6.203125 34.421875 6.203125 \nQ 39.59375 6.203125 44.453125 7.46875 \nQ 49.3125 8.734375 54.109375 11.28125 \nL 54.109375 2.78125 \nQ 49.265625 0.734375 44.1875 -0.34375 \nQ 39.109375 -1.421875 33.890625 -1.421875 \nQ 20.796875 -1.421875 13.15625 6.1875 \nQ 5.515625 13.8125 5.515625 26.8125 \nQ 5.515625 40.234375 12.765625 48.109375 \nQ 20.015625 56 32.328125 56 \nQ 43.359375 56 49.78125 48.890625 \nQ 56.203125 41.796875 56.203125 29.59375 \nz\nM 47.21875 32.234375 \nQ 47.125 39.59375 43.09375 43.984375 \nQ 39.0625 48.390625 32.421875 48.390625 \nQ 24.90625 48.390625 20.390625 44.140625 \nQ 15.875 39.890625 15.1875 32.171875 \nz\n\" id=\"DejaVuSans-101\"/>\n       </defs>\n       <use xlink:href=\"#DejaVuSans-113\"/>\n       <use x=\"63.476562\" xlink:href=\"#DejaVuSans-105\"/>\n       <use x=\"91.259766\" xlink:href=\"#DejaVuSans-97\"/>\n       <use x=\"152.539062\" xlink:href=\"#DejaVuSans-110\"/>\n       <use x=\"215.917969\" xlink:href=\"#DejaVuSans-109\"/>\n       <use x=\"313.330078\" xlink:href=\"#DejaVuSans-101\"/>\n       <use x=\"374.853516\" xlink:href=\"#DejaVuSans-110\"/>\n      </g>\n     </g>\n    </g>\n    <g id=\"xtick_7\">\n     <g id=\"line2d_7\">\n      <g>\n       <use style=\"stroke:#000000;stroke-width:0.8;\" x=\"793.845187\" xlink:href=\"#mceeaf4f357\" y=\"279\"/>\n      </g>\n     </g>\n     <g id=\"text_7\">\n      <!-- shunyi -->\n      <g transform=\"translate(796.604562 318.91875)rotate(-90)scale(0.1 -0.1)\">\n       <defs>\n        <path d=\"M 44.28125 53.078125 \nL 44.28125 44.578125 \nQ 40.484375 46.53125 36.375 47.5 \nQ 32.28125 48.484375 27.875 48.484375 \nQ 21.1875 48.484375 17.84375 46.4375 \nQ 14.5 44.390625 14.5 40.28125 \nQ 14.5 37.15625 16.890625 35.375 \nQ 19.28125 33.59375 26.515625 31.984375 \nL 29.59375 31.296875 \nQ 39.15625 29.25 43.1875 25.515625 \nQ 47.21875 21.78125 47.21875 15.09375 \nQ 47.21875 7.46875 41.1875 3.015625 \nQ 35.15625 -1.421875 24.609375 -1.421875 \nQ 20.21875 -1.421875 15.453125 -0.5625 \nQ 10.6875 0.296875 5.421875 2 \nL 5.421875 11.28125 \nQ 10.40625 8.6875 15.234375 7.390625 \nQ 20.0625 6.109375 24.8125 6.109375 \nQ 31.15625 6.109375 34.5625 8.28125 \nQ 37.984375 10.453125 37.984375 14.40625 \nQ 37.984375 18.0625 35.515625 20.015625 \nQ 33.0625 21.96875 24.703125 23.78125 \nL 21.578125 24.515625 \nQ 13.234375 26.265625 9.515625 29.90625 \nQ 5.8125 33.546875 5.8125 39.890625 \nQ 5.8125 47.609375 11.28125 51.796875 \nQ 16.75 56 26.8125 56 \nQ 31.78125 56 36.171875 55.265625 \nQ 40.578125 54.546875 44.28125 53.078125 \nz\n\" id=\"DejaVuSans-115\"/>\n        <path d=\"M 8.5 21.578125 \nL 8.5 54.6875 \nL 17.484375 54.6875 \nL 17.484375 21.921875 \nQ 17.484375 14.15625 20.5 10.265625 \nQ 23.53125 6.390625 29.59375 6.390625 \nQ 36.859375 6.390625 41.078125 11.03125 \nQ 45.3125 15.671875 45.3125 23.6875 \nL 45.3125 54.6875 \nL 54.296875 54.6875 \nL 54.296875 0 \nL 45.3125 0 \nL 45.3125 8.40625 \nQ 42.046875 3.421875 37.71875 1 \nQ 33.40625 -1.421875 27.6875 -1.421875 \nQ 18.265625 -1.421875 13.375 4.4375 \nQ 8.5 10.296875 8.5 21.578125 \nz\nM 31.109375 56 \nz\n\" id=\"DejaVuSans-117\"/>\n        <path d=\"M 32.171875 -5.078125 \nQ 28.375 -14.84375 24.75 -17.8125 \nQ 21.140625 -20.796875 15.09375 -20.796875 \nL 7.90625 -20.796875 \nL 7.90625 -13.28125 \nL 13.1875 -13.28125 \nQ 16.890625 -13.28125 18.9375 -11.515625 \nQ 21 -9.765625 23.484375 -3.21875 \nL 25.09375 0.875 \nL 2.984375 54.6875 \nL 12.5 54.6875 \nL 29.59375 11.921875 \nL 46.6875 54.6875 \nL 56.203125 54.6875 \nz\n\" id=\"DejaVuSans-121\"/>\n       </defs>\n       <use xlink:href=\"#DejaVuSans-115\"/>\n       <use x=\"52.099609\" xlink:href=\"#DejaVuSans-104\"/>\n       <use x=\"115.478516\" xlink:href=\"#DejaVuSans-117\"/>\n       <use x=\"178.857422\" xlink:href=\"#DejaVuSans-110\"/>\n       <use x=\"242.236328\" xlink:href=\"#DejaVuSans-121\"/>\n       <use x=\"301.416016\" xlink:href=\"#DejaVuSans-105\"/>\n      </g>\n     </g>\n    </g>\n   </g>\n   <g id=\"matplotlib.axis_2\">\n    <g id=\"ytick_1\">\n     <g id=\"line2d_8\">\n      <defs>\n       <path d=\"M 0 0 \nL -3.5 0 \n\" id=\"m2c73bd7d98\" style=\"stroke:#000000;stroke-width:0.8;\"/>\n      </defs>\n      <g>\n       <use style=\"stroke:#000000;stroke-width:0.8;\" x=\"39.65\" xlink:href=\"#m2c73bd7d98\" y=\"279\"/>\n      </g>\n     </g>\n     <g id=\"text_8\">\n      <!-- 0 -->\n      <g transform=\"translate(26.2875 282.799219)scale(0.1 -0.1)\">\n       <use xlink:href=\"#DejaVuSans-48\"/>\n      </g>\n     </g>\n    </g>\n    <g id=\"ytick_2\">\n     <g id=\"line2d_9\">\n      <g>\n       <use style=\"stroke:#000000;stroke-width:0.8;\" x=\"39.65\" xlink:href=\"#m2c73bd7d98\" y=\"229.628048\"/>\n      </g>\n     </g>\n     <g id=\"text_9\">\n      <!-- 1000 -->\n      <g transform=\"translate(7.2 233.427267)scale(0.1 -0.1)\">\n       <use xlink:href=\"#DejaVuSans-49\"/>\n       <use x=\"63.623047\" xlink:href=\"#DejaVuSans-48\"/>\n       <use x=\"127.246094\" xlink:href=\"#DejaVuSans-48\"/>\n       <use x=\"190.869141\" xlink:href=\"#DejaVuSans-48\"/>\n      </g>\n     </g>\n    </g>\n    <g id=\"ytick_3\">\n     <g id=\"line2d_10\">\n      <g>\n       <use style=\"stroke:#000000;stroke-width:0.8;\" x=\"39.65\" xlink:href=\"#m2c73bd7d98\" y=\"180.256097\"/>\n      </g>\n     </g>\n     <g id=\"text_10\">\n      <!-- 2000 -->\n      <g transform=\"translate(7.2 184.055315)scale(0.1 -0.1)\">\n       <defs>\n        <path d=\"M 19.1875 8.296875 \nL 53.609375 8.296875 \nL 53.609375 0 \nL 7.328125 0 \nL 7.328125 8.296875 \nQ 12.9375 14.109375 22.625 23.890625 \nQ 32.328125 33.6875 34.8125 36.53125 \nQ 39.546875 41.84375 41.421875 45.53125 \nQ 43.3125 49.21875 43.3125 52.78125 \nQ 43.3125 58.59375 39.234375 62.25 \nQ 35.15625 65.921875 28.609375 65.921875 \nQ 23.96875 65.921875 18.8125 64.3125 \nQ 13.671875 62.703125 7.8125 59.421875 \nL 7.8125 69.390625 \nQ 13.765625 71.78125 18.9375 73 \nQ 24.125 74.21875 28.421875 74.21875 \nQ 39.75 74.21875 46.484375 68.546875 \nQ 53.21875 62.890625 53.21875 53.421875 \nQ 53.21875 48.921875 51.53125 44.890625 \nQ 49.859375 40.875 45.40625 35.40625 \nQ 44.1875 33.984375 37.640625 27.21875 \nQ 31.109375 20.453125 19.1875 8.296875 \nz\n\" id=\"DejaVuSans-50\"/>\n       </defs>\n       <use xlink:href=\"#DejaVuSans-50\"/>\n       <use x=\"63.623047\" xlink:href=\"#DejaVuSans-48\"/>\n       <use x=\"127.246094\" xlink:href=\"#DejaVuSans-48\"/>\n       <use x=\"190.869141\" xlink:href=\"#DejaVuSans-48\"/>\n      </g>\n     </g>\n    </g>\n    <g id=\"ytick_4\">\n     <g id=\"line2d_11\">\n      <g>\n       <use style=\"stroke:#000000;stroke-width:0.8;\" x=\"39.65\" xlink:href=\"#m2c73bd7d98\" y=\"130.884145\"/>\n      </g>\n     </g>\n     <g id=\"text_11\">\n      <!-- 3000 -->\n      <g transform=\"translate(7.2 134.683364)scale(0.1 -0.1)\">\n       <use xlink:href=\"#DejaVuSans-51\"/>\n       <use x=\"63.623047\" xlink:href=\"#DejaVuSans-48\"/>\n       <use x=\"127.246094\" xlink:href=\"#DejaVuSans-48\"/>\n       <use x=\"190.869141\" xlink:href=\"#DejaVuSans-48\"/>\n      </g>\n     </g>\n    </g>\n    <g id=\"ytick_5\">\n     <g id=\"line2d_12\">\n      <g>\n       <use style=\"stroke:#000000;stroke-width:0.8;\" x=\"39.65\" xlink:href=\"#m2c73bd7d98\" y=\"81.512193\"/>\n      </g>\n     </g>\n     <g id=\"text_12\">\n      <!-- 4000 -->\n      <g transform=\"translate(7.2 85.311412)scale(0.1 -0.1)\">\n       <defs>\n        <path d=\"M 37.796875 64.3125 \nL 12.890625 25.390625 \nL 37.796875 25.390625 \nz\nM 35.203125 72.90625 \nL 47.609375 72.90625 \nL 47.609375 25.390625 \nL 58.015625 25.390625 \nL 58.015625 17.1875 \nL 47.609375 17.1875 \nL 47.609375 0 \nL 37.796875 0 \nL 37.796875 17.1875 \nL 4.890625 17.1875 \nL 4.890625 26.703125 \nz\n\" id=\"DejaVuSans-52\"/>\n       </defs>\n       <use xlink:href=\"#DejaVuSans-52\"/>\n       <use x=\"63.623047\" xlink:href=\"#DejaVuSans-48\"/>\n       <use x=\"127.246094\" xlink:href=\"#DejaVuSans-48\"/>\n       <use x=\"190.869141\" xlink:href=\"#DejaVuSans-48\"/>\n      </g>\n     </g>\n    </g>\n    <g id=\"ytick_6\">\n     <g id=\"line2d_13\">\n      <g>\n       <use style=\"stroke:#000000;stroke-width:0.8;\" x=\"39.65\" xlink:href=\"#m2c73bd7d98\" y=\"32.140241\"/>\n      </g>\n     </g>\n     <g id=\"text_13\">\n      <!-- 5000 -->\n      <g transform=\"translate(7.2 35.93946)scale(0.1 -0.1)\">\n       <use xlink:href=\"#DejaVuSans-53\"/>\n       <use x=\"63.623047\" xlink:href=\"#DejaVuSans-48\"/>\n       <use x=\"127.246094\" xlink:href=\"#DejaVuSans-48\"/>\n       <use x=\"190.869141\" xlink:href=\"#DejaVuSans-48\"/>\n      </g>\n     </g>\n    </g>\n   </g>\n   <g id=\"patch_10\">\n    <path d=\"M 39.65 279 \nL 39.65 7.2 \n\" style=\"fill:none;stroke:#000000;stroke-linecap:square;stroke-linejoin:miter;stroke-width:0.8;\"/>\n   </g>\n   <g id=\"patch_11\">\n    <path d=\"M 876.65 279 \nL 876.65 7.2 \n\" style=\"fill:none;stroke:#000000;stroke-linecap:square;stroke-linejoin:miter;stroke-width:0.8;\"/>\n   </g>\n   <g id=\"patch_12\">\n    <path d=\"M 39.65 279 \nL 876.65 279 \n\" style=\"fill:none;stroke:#000000;stroke-linecap:square;stroke-linejoin:miter;stroke-width:0.8;\"/>\n   </g>\n   <g id=\"patch_13\">\n    <path d=\"M 39.65 7.2 \nL 876.65 7.2 \n\" style=\"fill:none;stroke:#000000;stroke-linecap:square;stroke-linejoin:miter;stroke-width:0.8;\"/>\n   </g>\n  </g>\n </g>\n <defs>\n  <clipPath id=\"pa97fc9a0fe\">\n   <rect height=\"271.8\" width=\"837\" x=\"39.65\" y=\"7.2\"/>\n  </clipPath>\n </defs>\n</svg>\n",
      "image/png": "[encoded data removed]"
     },
     "metadata": {
      "needs_background": "light"
     }
    },
    {
     "output_type": "display_data",
     "data": {
      "text/plain": "<Figure size 1080x360 with 1 Axes>",
      "image/svg+xml": "<?xml version=\"1.0\" encoding=\"utf-8\" standalone=\"no\"?>\n<!DOCTYPE svg PUBLIC \"-//W3C//DTD SVG 1.1//EN\"\n  \"http://www.w3.org/Graphics/SVG/1.1/DTD/svg11.dtd\">\n<!-- Created with matplotlib (https://matplotlib.org/) -->\n<svg height=\"302.878125pt\" version=\"1.1\" viewBox=\"0 0 864.7625 302.878125\" width=\"864.7625pt\" xmlns=\"http://www.w3.org/2000/svg\" xmlns:xlink=\"http://www.w3.org/1999/xlink\">\n <metadata>\n  <rdf:RDF xmlns:cc=\"http://creativecommons.org/ns#\" xmlns:dc=\"http://purl.org/dc/elements/1.1/\" xmlns:rdf=\"http://www.w3.org/1999/02/22-rdf-syntax-ns#\">\n   <cc:Work>\n    <dc:type rdf:resource=\"http://purl.org/dc/dcmitype/StillImage\"/>\n    <dc:date>2021-03-09T20:41:40.123318</dc:date>\n    <dc:format>image/svg+xml</dc:format>\n    <dc:creator>\n     <cc:Agent>\n      <dc:title>Matplotlib v3.3.3, https://matplotlib.org/</dc:title>\n     </cc:Agent>\n    </dc:creator>\n   </cc:Work>\n  </rdf:RDF>\n </metadata>\n <defs>\n  <style type=\"text/css\">*{stroke-linecap:butt;stroke-linejoin:round;}</style>\n </defs>\n <g id=\"figure_1\">\n  <g id=\"patch_1\">\n   <path d=\"M 0 302.878125 \nL 864.7625 302.878125 \nL 864.7625 0 \nL 0 0 \nz\n\" style=\"fill:none;\"/>\n  </g>\n  <g id=\"axes_1\">\n   <g id=\"patch_2\">\n    <path d=\"M 20.5625 279 \nL 857.5625 279 \nL 857.5625 7.2 \nL 20.5625 7.2 \nz\n\" style=\"fill:#ffffff;\"/>\n   </g>\n   <g id=\"matplotlib.axis_1\">\n    <g id=\"xtick_1\">\n     <g id=\"line2d_1\">\n      <defs>\n       <path d=\"M 0 0 \nL 0 3.5 \n\" id=\"m43e92040b5\" style=\"stroke:#000000;stroke-width:0.8;\"/>\n      </defs>\n      <g>\n       <use style=\"stroke:#000000;stroke-width:0.8;\" x=\"58.607955\" xlink:href=\"#m43e92040b5\" y=\"279\"/>\n      </g>\n     </g>\n     <g id=\"text_1\">\n      <!-- 2016 -->\n      <g transform=\"translate(45.882955 293.598437)scale(0.1 -0.1)\">\n       <defs>\n        <path d=\"M 19.1875 8.296875 \nL 53.609375 8.296875 \nL 53.609375 0 \nL 7.328125 0 \nL 7.328125 8.296875 \nQ 12.9375 14.109375 22.625 23.890625 \nQ 32.328125 33.6875 34.8125 36.53125 \nQ 39.546875 41.84375 41.421875 45.53125 \nQ 43.3125 49.21875 43.3125 52.78125 \nQ 43.3125 58.59375 39.234375 62.25 \nQ 35.15625 65.921875 28.609375 65.921875 \nQ 23.96875 65.921875 18.8125 64.3125 \nQ 13.671875 62.703125 7.8125 59.421875 \nL 7.8125 69.390625 \nQ 13.765625 71.78125 18.9375 73 \nQ 24.125 74.21875 28.421875 74.21875 \nQ 39.75 74.21875 46.484375 68.546875 \nQ 53.21875 62.890625 53.21875 53.421875 \nQ 53.21875 48.921875 51.53125 44.890625 \nQ 49.859375 40.875 45.40625 35.40625 \nQ 44.1875 33.984375 37.640625 27.21875 \nQ 31.109375 20.453125 19.1875 8.296875 \nz\n\" id=\"DejaVuSans-50\"/>\n        <path d=\"M 31.78125 66.40625 \nQ 24.171875 66.40625 20.328125 58.90625 \nQ 16.5 51.421875 16.5 36.375 \nQ 16.5 21.390625 20.328125 13.890625 \nQ 24.171875 6.390625 31.78125 6.390625 \nQ 39.453125 6.390625 43.28125 13.890625 \nQ 47.125 21.390625 47.125 36.375 \nQ 47.125 51.421875 43.28125 58.90625 \nQ 39.453125 66.40625 31.78125 66.40625 \nz\nM 31.78125 74.21875 \nQ 44.046875 74.21875 50.515625 64.515625 \nQ 56.984375 54.828125 56.984375 36.375 \nQ 56.984375 17.96875 50.515625 8.265625 \nQ 44.046875 -1.421875 31.78125 -1.421875 \nQ 19.53125 -1.421875 13.0625 8.265625 \nQ 6.59375 17.96875 6.59375 36.375 \nQ 6.59375 54.828125 13.0625 64.515625 \nQ 19.53125 74.21875 31.78125 74.21875 \nz\n\" id=\"DejaVuSans-48\"/>\n        <path d=\"M 12.40625 8.296875 \nL 28.515625 8.296875 \nL 28.515625 63.921875 \nL 10.984375 60.40625 \nL 10.984375 69.390625 \nL 28.421875 72.90625 \nL 38.28125 72.90625 \nL 38.28125 8.296875 \nL 54.390625 8.296875 \nL 54.390625 0 \nL 12.40625 0 \nz\n\" id=\"DejaVuSans-49\"/>\n        <path d=\"M 33.015625 40.375 \nQ 26.375 40.375 22.484375 35.828125 \nQ 18.609375 31.296875 18.609375 23.390625 \nQ 18.609375 15.53125 22.484375 10.953125 \nQ 26.375 6.390625 33.015625 6.390625 \nQ 39.65625 6.390625 43.53125 10.953125 \nQ 47.40625 15.53125 47.40625 23.390625 \nQ 47.40625 31.296875 43.53125 35.828125 \nQ 39.65625 40.375 33.015625 40.375 \nz\nM 52.59375 71.296875 \nL 52.59375 62.3125 \nQ 48.875 64.0625 45.09375 64.984375 \nQ 41.3125 65.921875 37.59375 65.921875 \nQ 27.828125 65.921875 22.671875 59.328125 \nQ 17.53125 52.734375 16.796875 39.40625 \nQ 19.671875 43.65625 24.015625 45.921875 \nQ 28.375 48.1875 33.59375 48.1875 \nQ 44.578125 48.1875 50.953125 41.515625 \nQ 57.328125 34.859375 57.328125 23.390625 \nQ 57.328125 12.15625 50.6875 5.359375 \nQ 44.046875 -1.421875 33.015625 -1.421875 \nQ 20.359375 -1.421875 13.671875 8.265625 \nQ 6.984375 17.96875 6.984375 36.375 \nQ 6.984375 53.65625 15.1875 63.9375 \nQ 23.390625 74.21875 37.203125 74.21875 \nQ 40.921875 74.21875 44.703125 73.484375 \nQ 48.484375 72.75 52.59375 71.296875 \nz\n\" id=\"DejaVuSans-54\"/>\n       </defs>\n       <use xlink:href=\"#DejaVuSans-50\"/>\n       <use x=\"63.623047\" xlink:href=\"#DejaVuSans-48\"/>\n       <use x=\"127.246094\" xlink:href=\"#DejaVuSans-49\"/>\n       <use x=\"190.869141\" xlink:href=\"#DejaVuSans-54\"/>\n      </g>\n     </g>\n    </g>\n    <g id=\"xtick_2\">\n     <g id=\"line2d_2\">\n      <g>\n       <use style=\"stroke:#000000;stroke-width:0.8;\" x=\"211.039661\" xlink:href=\"#m43e92040b5\" y=\"279\"/>\n      </g>\n     </g>\n     <g id=\"text_2\">\n      <!-- 2017 -->\n      <g transform=\"translate(198.314661 293.598437)scale(0.1 -0.1)\">\n       <defs>\n        <path d=\"M 8.203125 72.90625 \nL 55.078125 72.90625 \nL 55.078125 68.703125 \nL 28.609375 0 \nL 18.3125 0 \nL 43.21875 64.59375 \nL 8.203125 64.59375 \nz\n\" id=\"DejaVuSans-55\"/>\n       </defs>\n       <use xlink:href=\"#DejaVuSans-50\"/>\n       <use x=\"63.623047\" xlink:href=\"#DejaVuSans-48\"/>\n       <use x=\"127.246094\" xlink:href=\"#DejaVuSans-49\"/>\n       <use x=\"190.869141\" xlink:href=\"#DejaVuSans-55\"/>\n      </g>\n     </g>\n    </g>\n    <g id=\"xtick_3\">\n     <g id=\"line2d_3\">\n      <g>\n       <use style=\"stroke:#000000;stroke-width:0.8;\" x=\"363.054887\" xlink:href=\"#m43e92040b5\" y=\"279\"/>\n      </g>\n     </g>\n     <g id=\"text_3\">\n      <!-- 2018 -->\n      <g transform=\"translate(350.329887 293.598437)scale(0.1 -0.1)\">\n       <defs>\n        <path d=\"M 31.78125 34.625 \nQ 24.75 34.625 20.71875 30.859375 \nQ 16.703125 27.09375 16.703125 20.515625 \nQ 16.703125 13.921875 20.71875 10.15625 \nQ 24.75 6.390625 31.78125 6.390625 \nQ 38.8125 6.390625 42.859375 10.171875 \nQ 46.921875 13.96875 46.921875 20.515625 \nQ 46.921875 27.09375 42.890625 30.859375 \nQ 38.875 34.625 31.78125 34.625 \nz\nM 21.921875 38.8125 \nQ 15.578125 40.375 12.03125 44.71875 \nQ 8.5 49.078125 8.5 55.328125 \nQ 8.5 64.0625 14.71875 69.140625 \nQ 20.953125 74.21875 31.78125 74.21875 \nQ 42.671875 74.21875 48.875 69.140625 \nQ 55.078125 64.0625 55.078125 55.328125 \nQ 55.078125 49.078125 51.53125 44.71875 \nQ 48 40.375 41.703125 38.8125 \nQ 48.828125 37.15625 52.796875 32.3125 \nQ 56.78125 27.484375 56.78125 20.515625 \nQ 56.78125 9.90625 50.3125 4.234375 \nQ 43.84375 -1.421875 31.78125 -1.421875 \nQ 19.734375 -1.421875 13.25 4.234375 \nQ 6.78125 9.90625 6.78125 20.515625 \nQ 6.78125 27.484375 10.78125 32.3125 \nQ 14.796875 37.15625 21.921875 38.8125 \nz\nM 18.3125 54.390625 \nQ 18.3125 48.734375 21.84375 45.5625 \nQ 25.390625 42.390625 31.78125 42.390625 \nQ 38.140625 42.390625 41.71875 45.5625 \nQ 45.3125 48.734375 45.3125 54.390625 \nQ 45.3125 60.0625 41.71875 63.234375 \nQ 38.140625 66.40625 31.78125 66.40625 \nQ 25.390625 66.40625 21.84375 63.234375 \nQ 18.3125 60.0625 18.3125 54.390625 \nz\n\" id=\"DejaVuSans-56\"/>\n       </defs>\n       <use xlink:href=\"#DejaVuSans-50\"/>\n       <use x=\"63.623047\" xlink:href=\"#DejaVuSans-48\"/>\n       <use x=\"127.246094\" xlink:href=\"#DejaVuSans-49\"/>\n       <use x=\"190.869141\" xlink:href=\"#DejaVuSans-56\"/>\n      </g>\n     </g>\n    </g>\n    <g id=\"xtick_4\">\n     <g id=\"line2d_4\">\n      <g>\n       <use style=\"stroke:#000000;stroke-width:0.8;\" x=\"515.070113\" xlink:href=\"#m43e92040b5\" y=\"279\"/>\n      </g>\n     </g>\n     <g id=\"text_4\">\n      <!-- 2019 -->\n      <g transform=\"translate(502.345113 293.598437)scale(0.1 -0.1)\">\n       <defs>\n        <path d=\"M 10.984375 1.515625 \nL 10.984375 10.5 \nQ 14.703125 8.734375 18.5 7.8125 \nQ 22.3125 6.890625 25.984375 6.890625 \nQ 35.75 6.890625 40.890625 13.453125 \nQ 46.046875 20.015625 46.78125 33.40625 \nQ 43.953125 29.203125 39.59375 26.953125 \nQ 35.25 24.703125 29.984375 24.703125 \nQ 19.046875 24.703125 12.671875 31.3125 \nQ 6.296875 37.9375 6.296875 49.421875 \nQ 6.296875 60.640625 12.9375 67.421875 \nQ 19.578125 74.21875 30.609375 74.21875 \nQ 43.265625 74.21875 49.921875 64.515625 \nQ 56.59375 54.828125 56.59375 36.375 \nQ 56.59375 19.140625 48.40625 8.859375 \nQ 40.234375 -1.421875 26.421875 -1.421875 \nQ 22.703125 -1.421875 18.890625 -0.6875 \nQ 15.09375 0.046875 10.984375 1.515625 \nz\nM 30.609375 32.421875 \nQ 37.25 32.421875 41.125 36.953125 \nQ 45.015625 41.5 45.015625 49.421875 \nQ 45.015625 57.28125 41.125 61.84375 \nQ 37.25 66.40625 30.609375 66.40625 \nQ 23.96875 66.40625 20.09375 61.84375 \nQ 16.21875 57.28125 16.21875 49.421875 \nQ 16.21875 41.5 20.09375 36.953125 \nQ 23.96875 32.421875 30.609375 32.421875 \nz\n\" id=\"DejaVuSans-57\"/>\n       </defs>\n       <use xlink:href=\"#DejaVuSans-50\"/>\n       <use x=\"63.623047\" xlink:href=\"#DejaVuSans-48\"/>\n       <use x=\"127.246094\" xlink:href=\"#DejaVuSans-49\"/>\n       <use x=\"190.869141\" xlink:href=\"#DejaVuSans-57\"/>\n      </g>\n     </g>\n    </g>\n    <g id=\"xtick_5\">\n     <g id=\"line2d_5\">\n      <g>\n       <use style=\"stroke:#000000;stroke-width:0.8;\" x=\"667.085339\" xlink:href=\"#m43e92040b5\" y=\"279\"/>\n      </g>\n     </g>\n     <g id=\"text_5\">\n      <!-- 2020 -->\n      <g transform=\"translate(654.360339 293.598437)scale(0.1 -0.1)\">\n       <use xlink:href=\"#DejaVuSans-50\"/>\n       <use x=\"63.623047\" xlink:href=\"#DejaVuSans-48\"/>\n       <use x=\"127.246094\" xlink:href=\"#DejaVuSans-50\"/>\n       <use x=\"190.869141\" xlink:href=\"#DejaVuSans-48\"/>\n      </g>\n     </g>\n    </g>\n    <g id=\"xtick_6\">\n     <g id=\"line2d_6\">\n      <g>\n       <use style=\"stroke:#000000;stroke-width:0.8;\" x=\"819.517045\" xlink:href=\"#m43e92040b5\" y=\"279\"/>\n      </g>\n     </g>\n     <g id=\"text_6\">\n      <!-- 2021 -->\n      <g transform=\"translate(806.792045 293.598437)scale(0.1 -0.1)\">\n       <use xlink:href=\"#DejaVuSans-50\"/>\n       <use x=\"63.623047\" xlink:href=\"#DejaVuSans-48\"/>\n       <use x=\"127.246094\" xlink:href=\"#DejaVuSans-50\"/>\n       <use x=\"190.869141\" xlink:href=\"#DejaVuSans-49\"/>\n      </g>\n     </g>\n    </g>\n   </g>\n   <g id=\"matplotlib.axis_2\">\n    <g id=\"ytick_1\">\n     <g id=\"line2d_7\">\n      <defs>\n       <path d=\"M 0 0 \nL -3.5 0 \n\" id=\"m0704db893e\" style=\"stroke:#000000;stroke-width:0.8;\"/>\n      </defs>\n      <g>\n       <use style=\"stroke:#000000;stroke-width:0.8;\" x=\"20.5625\" xlink:href=\"#m0704db893e\" y=\"266.645455\"/>\n      </g>\n     </g>\n     <g id=\"text_7\">\n      <!-- 1 -->\n      <g transform=\"translate(7.2 270.444673)scale(0.1 -0.1)\">\n       <use xlink:href=\"#DejaVuSans-49\"/>\n      </g>\n     </g>\n    </g>\n    <g id=\"ytick_2\">\n     <g id=\"line2d_8\">\n      <g>\n       <use style=\"stroke:#000000;stroke-width:0.8;\" x=\"20.5625\" xlink:href=\"#m0704db893e\" y=\"225.463636\"/>\n      </g>\n     </g>\n     <g id=\"text_8\">\n      <!-- 2 -->\n      <g transform=\"translate(7.2 229.262855)scale(0.1 -0.1)\">\n       <use xlink:href=\"#DejaVuSans-50\"/>\n      </g>\n     </g>\n    </g>\n    <g id=\"ytick_3\">\n     <g id=\"line2d_9\">\n      <g>\n       <use style=\"stroke:#000000;stroke-width:0.8;\" x=\"20.5625\" xlink:href=\"#m0704db893e\" y=\"184.281818\"/>\n      </g>\n     </g>\n     <g id=\"text_9\">\n      <!-- 3 -->\n      <g transform=\"translate(7.2 188.081037)scale(0.1 -0.1)\">\n       <defs>\n        <path d=\"M 40.578125 39.3125 \nQ 47.65625 37.796875 51.625 33 \nQ 55.609375 28.21875 55.609375 21.1875 \nQ 55.609375 10.40625 48.1875 4.484375 \nQ 40.765625 -1.421875 27.09375 -1.421875 \nQ 22.515625 -1.421875 17.65625 -0.515625 \nQ 12.796875 0.390625 7.625 2.203125 \nL 7.625 11.71875 \nQ 11.71875 9.328125 16.59375 8.109375 \nQ 21.484375 6.890625 26.8125 6.890625 \nQ 36.078125 6.890625 40.9375 10.546875 \nQ 45.796875 14.203125 45.796875 21.1875 \nQ 45.796875 27.640625 41.28125 31.265625 \nQ 36.765625 34.90625 28.71875 34.90625 \nL 20.21875 34.90625 \nL 20.21875 43.015625 \nL 29.109375 43.015625 \nQ 36.375 43.015625 40.234375 45.921875 \nQ 44.09375 48.828125 44.09375 54.296875 \nQ 44.09375 59.90625 40.109375 62.90625 \nQ 36.140625 65.921875 28.71875 65.921875 \nQ 24.65625 65.921875 20.015625 65.03125 \nQ 15.375 64.15625 9.8125 62.3125 \nL 9.8125 71.09375 \nQ 15.4375 72.65625 20.34375 73.4375 \nQ 25.25 74.21875 29.59375 74.21875 \nQ 40.828125 74.21875 47.359375 69.109375 \nQ 53.90625 64.015625 53.90625 55.328125 \nQ 53.90625 49.265625 50.4375 45.09375 \nQ 46.96875 40.921875 40.578125 39.3125 \nz\n\" id=\"DejaVuSans-51\"/>\n       </defs>\n       <use xlink:href=\"#DejaVuSans-51\"/>\n      </g>\n     </g>\n    </g>\n    <g id=\"ytick_4\">\n     <g id=\"line2d_10\">\n      <g>\n       <use style=\"stroke:#000000;stroke-width:0.8;\" x=\"20.5625\" xlink:href=\"#m0704db893e\" y=\"143.1\"/>\n      </g>\n     </g>\n     <g id=\"text_10\">\n      <!-- 4 -->\n      <g transform=\"translate(7.2 146.899219)scale(0.1 -0.1)\">\n       <defs>\n        <path d=\"M 37.796875 64.3125 \nL 12.890625 25.390625 \nL 37.796875 25.390625 \nz\nM 35.203125 72.90625 \nL 47.609375 72.90625 \nL 47.609375 25.390625 \nL 58.015625 25.390625 \nL 58.015625 17.1875 \nL 47.609375 17.1875 \nL 47.609375 0 \nL 37.796875 0 \nL 37.796875 17.1875 \nL 4.890625 17.1875 \nL 4.890625 26.703125 \nz\n\" id=\"DejaVuSans-52\"/>\n       </defs>\n       <use xlink:href=\"#DejaVuSans-52\"/>\n      </g>\n     </g>\n    </g>\n    <g id=\"ytick_5\">\n     <g id=\"line2d_11\">\n      <g>\n       <use style=\"stroke:#000000;stroke-width:0.8;\" x=\"20.5625\" xlink:href=\"#m0704db893e\" y=\"101.918182\"/>\n      </g>\n     </g>\n     <g id=\"text_11\">\n      <!-- 5 -->\n      <g transform=\"translate(7.2 105.717401)scale(0.1 -0.1)\">\n       <defs>\n        <path d=\"M 10.796875 72.90625 \nL 49.515625 72.90625 \nL 49.515625 64.59375 \nL 19.828125 64.59375 \nL 19.828125 46.734375 \nQ 21.96875 47.46875 24.109375 47.828125 \nQ 26.265625 48.1875 28.421875 48.1875 \nQ 40.625 48.1875 47.75 41.5 \nQ 54.890625 34.8125 54.890625 23.390625 \nQ 54.890625 11.625 47.5625 5.09375 \nQ 40.234375 -1.421875 26.90625 -1.421875 \nQ 22.3125 -1.421875 17.546875 -0.640625 \nQ 12.796875 0.140625 7.71875 1.703125 \nL 7.71875 11.625 \nQ 12.109375 9.234375 16.796875 8.0625 \nQ 21.484375 6.890625 26.703125 6.890625 \nQ 35.15625 6.890625 40.078125 11.328125 \nQ 45.015625 15.765625 45.015625 23.390625 \nQ 45.015625 31 40.078125 35.4375 \nQ 35.15625 39.890625 26.703125 39.890625 \nQ 22.75 39.890625 18.8125 39.015625 \nQ 14.890625 38.140625 10.796875 36.28125 \nz\n\" id=\"DejaVuSans-53\"/>\n       </defs>\n       <use xlink:href=\"#DejaVuSans-53\"/>\n      </g>\n     </g>\n    </g>\n    <g id=\"ytick_6\">\n     <g id=\"line2d_12\">\n      <g>\n       <use style=\"stroke:#000000;stroke-width:0.8;\" x=\"20.5625\" xlink:href=\"#m0704db893e\" y=\"60.736364\"/>\n      </g>\n     </g>\n     <g id=\"text_12\">\n      <!-- 6 -->\n      <g transform=\"translate(7.2 64.535582)scale(0.1 -0.1)\">\n       <use xlink:href=\"#DejaVuSans-54\"/>\n      </g>\n     </g>\n    </g>\n    <g id=\"ytick_7\">\n     <g id=\"line2d_13\">\n      <g>\n       <use style=\"stroke:#000000;stroke-width:0.8;\" x=\"20.5625\" xlink:href=\"#m0704db893e\" y=\"19.554545\"/>\n      </g>\n     </g>\n     <g id=\"text_13\">\n      <!-- 7 -->\n      <g transform=\"translate(7.2 23.353764)scale(0.1 -0.1)\">\n       <use xlink:href=\"#DejaVuSans-55\"/>\n      </g>\n     </g>\n    </g>\n   </g>\n   <g id=\"line2d_14\">\n    <path clip-path=\"url(#pf5b79497a3)\" d=\"M 58.607955 184.281818 \nL 58.902961 266.645455 \nL 63.362769 266.645455 \nL 63.813955 184.281818 \nL 64.646916 266.645455 \nL 68.030816 266.645455 \nL 68.04817 225.463636 \nL 68.134936 266.645455 \nL 73.913597 266.645455 \nL 73.930951 225.463636 \nL 74.017717 266.645455 \nL 74.035071 266.645455 \nL 74.069777 225.463636 \nL 74.139191 266.645455 \nL 81.288765 266.645455 \nL 81.583772 184.281818 \nL 81.722599 266.645455 \nL 82.572912 266.645455 \nL 82.867919 184.281818 \nL 83.267045 184.281818 \nL 83.631466 266.645455 \nL 85.835339 266.645455 \nL 85.852693 225.463636 \nL 85.870046 266.645455 \nL 86.147699 184.281818 \nL 86.442706 266.645455 \nL 86.633593 143.1 \nL 86.772419 184.281818 \nL 86.893893 266.645455 \nL 87.188899 266.645455 \nL 87.362433 184.281818 \nL 87.692146 266.645455 \nL 88.108626 266.645455 \nL 88.299513 184.281818 \nL 88.611873 266.645455 \nL 88.663933 184.281818 \nL 88.715993 266.645455 \nL 88.7507 266.645455 \nL 88.768053 225.463636 \nL 88.85482 266.645455 \nL 88.941586 266.645455 \nL 89.132473 184.281818 \nL 89.288653 143.1 \nL 89.358067 266.645455 \nL 89.618367 184.281818 \nL 89.670427 143.1 \nL 89.68778 266.645455 \nL 89.809253 184.281818 \nL 90.0522 266.645455 \nL 90.451327 184.281818 \nL 90.711627 266.645455 \nL 90.746333 184.281818 \nL 90.971927 266.645455 \nL 92.846087 266.645455 \nL 93.01962 225.463636 \nL 93.401394 266.645455 \nL 93.540221 266.645455 \nL 93.679047 143.1 \nL 94.060821 266.645455 \nL 94.512007 225.463636 \nL 95.431734 266.645455 \nL 95.483794 143.1 \nL 95.535854 266.645455 \nL 96.108514 266.645455 \nL 96.143221 184.281818 \nL 96.160574 266.645455 \nL 96.715881 225.463636 \nL 96.802648 266.645455 \nL 96.820001 225.463636 \nL 96.837354 225.463636 \nL 96.958828 266.645455 \nL 99.388295 266.645455 \nL 99.405648 225.463636 \nL 99.492415 266.645455 \nL 100.741855 266.645455 \nL 100.759208 143.1 \nL 100.845975 266.645455 \nL 100.863328 266.645455 \nL 100.898035 225.463636 \nL 101.019509 266.645455 \nL 101.765702 266.645455 \nL 102.078062 143.1 \nL 102.164829 266.645455 \nL 102.425129 266.645455 \nL 102.494542 184.281818 \nL 102.529249 266.645455 \nL 102.598662 266.645455 \nL 102.702782 143.1 \nL 102.806902 266.645455 \nL 102.824255 225.463636 \nL 102.858962 225.463636 \nL 102.876315 101.918182 \nL 102.963082 266.645455 \nL 102.980436 266.645455 \nL 102.997789 225.463636 \nL 103.067202 266.645455 \nL 103.431622 266.645455 \nL 103.726629 143.1 \nL 103.813396 184.281818 \nL 104.143109 143.1 \nL 104.264582 266.645455 \nL 104.542236 143.1 \nL 104.750476 266.645455 \nL 104.785182 184.281818 \nL 104.871949 266.645455 \nL 105.080189 143.1 \nL 105.114896 266.645455 \nL 105.427256 184.281818 \nL 105.843736 266.645455 \nL 107.336123 266.645455 \nL 107.388183 184.281818 \nL 107.648483 266.645455 \nL 108.759097 266.645455 \nL 109.054103 184.281818 \nL 109.262343 266.645455 \nL 109.29705 225.463636 \nL 109.366463 266.645455 \nL 109.40117 266.645455 \nL 109.418523 225.463636 \nL 109.50529 266.645455 \nL 109.522643 266.645455 \nL 109.539997 225.463636 \nL 109.626763 266.645455 \nL 109.678823 266.645455 \nL 109.696177 225.463636 \nL 109.782943 266.645455 \nL 110.060597 266.645455 \nL 110.18207 225.463636 \nL 110.303543 266.645455 \nL 110.511783 266.645455 \nL 110.720024 184.281818 \nL 110.928264 266.645455 \nL 112.715657 266.645455 \nL 112.733011 225.463636 \nL 112.819777 266.645455 \nL 112.975957 266.645455 \nL 113.045371 225.463636 \nL 113.080077 266.645455 \nL 114.832764 266.645455 \nL 114.919531 184.281818 \nL 115.006298 266.645455 \nL 115.110418 184.281818 \nL 115.127771 266.645455 \nL 115.422778 266.645455 \nL 115.544251 184.281818 \nL 116.221031 184.281818 \nL 116.446624 266.645455 \nL 116.585451 266.645455 \nL 116.672218 184.281818 \nL 116.967225 266.645455 \nL 117.106051 266.645455 \nL 117.800185 184.281818 \nL 117.817538 143.1 \nL 117.852245 184.281818 \nL 118.199311 266.645455 \nL 118.268725 184.281818 \nL 118.511672 184.281818 \nL 118.581085 143.1 \nL 118.615792 184.281818 \nL 118.685205 184.281818 \nL 118.858738 266.645455 \nL 119.136392 143.1 \nL 119.171098 184.281818 \nL 119.240512 184.281818 \nL 119.344632 266.645455 \nL 120.750252 266.645455 \nL 120.871725 225.463636 \nL 121.565859 225.463636 \nL 121.635272 184.281818 \nL 121.669979 225.463636 \nL 121.756745 225.463636 \nL 121.895572 143.1 \nL 121.912925 143.1 \nL 122.155872 266.645455 \nL 122.416172 143.1 \nL 122.537646 184.281818 \nL 122.589706 184.281818 \nL 122.711179 225.463636 \nL 122.728532 184.281818 \nL 122.815299 225.463636 \nL 122.936772 225.463636 \nL 122.971479 184.281818 \nL 123.040892 225.463636 \nL 123.387959 225.463636 \nL 123.440019 184.281818 \nL 123.492079 225.463636 \nL 123.526786 266.645455 \nL 124.255626 225.463636 \nL 124.359746 266.645455 \nL 125.262119 266.645455 \nL 125.383593 184.281818 \nL 125.435653 19.554545 \nL 126.025666 266.645455 \nL 127.55276 266.645455 \nL 127.570113 225.463636 \nL 127.65688 266.645455 \nL 129.37486 266.645455 \nL 129.5831 184.281818 \nL 129.63516 266.645455 \nL 131.491967 266.645455 \nL 131.734914 225.463636 \nL 131.82168 266.645455 \nL 133.331421 266.645455 \nL 133.366127 143.1 \nL 133.452894 184.281818 \nL 133.591721 266.645455 \nL 134.268501 266.645455 \nL 134.320561 225.463636 \nL 134.372621 266.645455 \nL 134.632921 266.645455 \nL 134.667628 225.463636 \nL 134.702334 266.645455 \nL 139.578622 266.645455 \nL 139.838922 184.281818 \nL 140.168635 266.645455 \nL 140.446289 266.645455 \nL 140.515702 225.463636 \nL 140.550409 266.645455 \nL 141.661022 266.645455 \nL 141.713082 225.463636 \nL 141.765142 266.645455 \nL 142.008089 184.281818 \nL 142.268389 266.645455 \nL 142.528689 266.645455 \nL 142.650162 225.463636 \nL 142.667516 225.463636 \nL 142.788989 266.645455 \nL 142.893109 266.645455 \nL 143.153409 184.281818 \nL 143.274882 184.281818 \nL 143.396356 266.645455 \nL 144.281376 266.645455 \nL 144.506969 143.1 \nL 144.836683 266.645455 \nL 145.062276 266.645455 \nL 145.773763 184.281818 \nL 146.17289 184.281818 \nL 146.58937 143.1 \nL 146.606723 266.645455 \nL 147.873517 184.281818 \nL 147.908223 19.554545 \nL 147.977637 266.645455 \nL 148.25529 143.1 \nL 148.689123 184.281818 \nL 148.82795 266.645455 \nL 148.897363 266.645455 \nL 149.522084 143.1 \nL 150.65005 143.1 \nL 150.771524 101.918182 \nL 150.788877 101.918182 \nL 150.91035 266.645455 \nL 151.049177 266.645455 \nL 151.188004 143.1 \nL 151.309477 266.645455 \nL 151.396244 266.645455 \nL 151.413597 225.463636 \nL 151.448304 266.645455 \nL 151.847431 266.645455 \nL 151.916844 184.281818 \nL 152.090377 266.645455 \nL 152.246557 143.1 \nL 152.298617 143.1 \nL 152.871277 266.645455 \nL 154.537198 266.645455 \nL 154.623964 225.463636 \nL 154.641318 266.645455 \nL 154.658671 266.645455 \nL 154.676024 225.463636 \nL 155.075151 266.645455 \nL 155.231331 266.645455 \nL 156.081645 184.281818 \nL 156.411358 266.645455 \nL 157.140198 266.645455 \nL 157.487265 184.281818 \nL 157.973158 266.645455 \nL 162.606499 266.645455 \nL 162.727972 143.1 \nL 162.762679 101.918182 \nL 162.832092 143.1 \nL 162.866799 143.1 \nL 163.005626 266.645455 \nL 163.022979 266.645455 \nL 163.040333 143.1 \nL 163.127099 266.645455 \nL 165.400386 266.645455 \nL 165.52186 225.463636 \nL 165.643333 266.645455 \nL 165.78216 266.645455 \nL 165.903633 143.1 \nL 166.025106 266.645455 \nL 167.13572 266.645455 \nL 167.517493 143.1 \nL 167.638967 184.281818 \nL 167.691027 184.281818 \nL 167.777793 266.645455 \nL 167.91662 184.281818 \nL 167.96868 266.645455 \nL 168.159567 225.463636 \nL 168.402513 266.645455 \nL 168.43722 266.645455 \nL 168.48928 184.281818 \nL 168.610753 266.645455 \nL 171.821121 266.645455 \nL 172.046714 184.281818 \nL 172.116127 266.645455 \nL 174.181174 266.645455 \nL 174.233234 143.1 \nL 174.267941 184.281818 \nL 174.580301 184.281818 \nL 175.361201 266.645455 \nL 175.742975 266.645455 \nL 175.760328 225.463636 \nL 175.985921 266.645455 \nL 176.003275 225.463636 \nL 176.037981 266.645455 \nL 176.662702 266.645455 \nL 176.680055 225.463636 \nL 176.957708 266.645455 \nL 177.998908 266.645455 \nL 178.016262 225.463636 \nL 178.103028 266.645455 \nL 178.293915 266.645455 \nL 178.311268 225.463636 \nL 178.398035 266.645455 \nL 178.502155 266.645455 \nL 178.519509 225.463636 \nL 178.606275 266.645455 \nL 178.623629 266.645455 \nL 178.710395 225.463636 \nL 178.727749 266.645455 \nL 178.745102 266.645455 \nL 178.762455 225.463636 \nL 179.196289 184.281818 \nL 179.821009 266.645455 \nL 180.411022 266.645455 \nL 180.463082 184.281818 \nL 180.532496 225.463636 \nL 180.549849 225.463636 \nL 180.671322 266.645455 \nL 183.204909 266.645455 \nL 183.256969 143.1 \nL 183.309029 266.645455 \nL 183.378443 225.463636 \nL 183.413149 266.645455 \nL 183.465209 266.645455 \nL 183.517269 225.463636 \nL 183.569329 266.645455 \nL 184.66259 266.645455 \nL 185.009656 225.463636 \nL 185.113776 266.645455 \nL 186.727637 266.645455 \nL 186.831757 225.463636 \nL 186.95323 266.645455 \nL 188.324144 266.645455 \nL 188.341497 225.463636 \nL 188.376204 266.645455 \nL 189.34799 266.645455 \nL 189.50417 143.1 \nL 189.55623 266.645455 \nL 189.573584 143.1 \nL 189.781824 266.645455 \nL 189.990064 266.645455 \nL 190.007417 225.463636 \nL 190.337131 266.645455 \nL 191.343624 266.645455 \nL 191.586571 184.281818 \nL 191.690691 184.281818 \nL 192.055111 266.645455 \nL 192.124524 143.1 \nL 192.645124 266.645455 \nL 200.419419 266.645455 \nL 200.506186 184.281818 \nL 200.575599 266.645455 \nL 200.992079 143.1 \nL 203.039773 143.1 \nL 203.352133 266.645455 \nL 203.386839 184.281818 \nL 203.785966 266.645455 \nL 206.40632 266.645455 \nL 206.66662 184.281818 \nL 207.0831 143.1 \nL 207.18722 184.281818 \nL 207.482227 225.463636 \nL 207.586347 143.1 \nL 207.638407 266.645455 \nL 208.245774 143.1 \nL 208.28048 143.1 \nL 208.315187 225.463636 \nL 208.835787 266.645455 \nL 208.85314 225.463636 \nL 208.870494 266.645455 \nL 209.495214 184.281818 \nL 209.720807 266.645455 \nL 209.946401 266.645455 \nL 210.015814 19.554545 \nL 210.067874 143.1 \nL 210.501707 143.1 \nL 210.519061 101.918182 \nL 210.605827 143.1 \nL 210.970247 143.1 \nL 211.039661 19.554545 \nL 211.074367 143.1 \nL 211.247901 143.1 \nL 211.334667 19.554545 \nL 211.352021 143.1 \nL 211.369374 143.1 \nL 211.386727 19.554545 \nL 211.438788 184.281818 \nL 211.473494 184.281818 \nL 211.525554 184.281818 \nL 212.271748 266.645455 \nL 212.584108 266.645455 \nL 212.601461 225.463636 \nL 212.618814 266.645455 \nL 214.302088 266.645455 \nL 214.579741 225.463636 \nL 214.631801 184.281818 \nL 214.840041 266.645455 \nL 215.777122 266.645455 \nL 215.794475 184.281818 \nL 215.881242 266.645455 \nL 215.950655 266.645455 \nL 215.968008 225.463636 \nL 216.054775 266.645455 \nL 216.176248 266.645455 \nL 216.193602 225.463636 \nL 216.280368 266.645455 \nL 216.349782 266.645455 \nL 216.401842 184.281818 \nL 216.436548 266.645455 \nL 220.479876 266.645455 \nL 220.636056 143.1 \nL 220.740176 266.645455 \nL 220.826942 143.1 \nL 220.896356 266.645455 \nL 220.913709 143.1 \nL 221.017829 143.1 \nL 221.087242 266.645455 \nL 221.278129 143.1 \nL 221.312836 266.645455 \nL 221.503723 143.1 \nL 221.659903 143.1 \nL 221.711963 266.645455 \nL 221.764023 143.1 \nL 221.920203 143.1 \nL 222.006969 266.645455 \nL 222.111089 143.1 \nL 222.926696 266.645455 \nL 225.842057 266.645455 \nL 226.11971 143.1 \nL 226.137063 266.645455 \nL 226.293243 266.645455 \nL 226.53619 143.1 \nL 226.831197 143.1 \nL 227.039437 266.645455 \nL 227.178264 143.1 \nL 227.42121 143.1 \nL 227.438564 266.645455 \nL 227.507977 143.1 \nL 228.063284 266.645455 \nL 229.052424 266.645455 \nL 229.972151 143.1 \nL 230.110977 266.645455 \nL 230.180391 266.645455 \nL 230.301864 143.1 \nL 230.423337 266.645455 \nL 230.787758 266.645455 \nL 230.805111 225.463636 \nL 231.100118 266.645455 \nL 231.898371 143.1 \nL 232.106611 266.645455 \nL 232.123964 225.463636 \nL 232.540444 266.645455 \nL 241.321233 266.645455 \nL 241.355939 225.463636 \nL 241.390646 266.645455 \nL 244.566307 266.645455 \nL 244.58366 225.463636 \nL 245.26044 266.645455 \nL 247.08254 266.645455 \nL 247.533727 225.463636 \nL 247.585787 266.645455 \nL 249.720247 266.645455 \nL 249.772307 225.463636 \nL 249.824367 266.645455 \nL 249.945841 266.645455 \nL 250.449088 225.463636 \nL 251.229988 266.645455 \nL 254.127995 266.645455 \nL 254.197408 184.281818 \nL 254.214762 225.463636 \nL 254.579182 266.645455 \nL 254.683302 266.645455 \nL 254.700655 225.463636 \nL 254.735362 266.645455 \nL 256.331869 266.645455 \nL 256.505402 143.1 \nL 256.574815 143.1 \nL 256.661582 266.645455 \nL 256.678935 225.463636 \nL 256.730995 143.1 \nL 256.748349 266.645455 \nL 256.939235 143.1 \nL 257.026002 266.645455 \nL 257.043355 143.1 \nL 257.130122 143.1 \nL 257.199535 101.918182 \nL 257.216889 266.645455 \nL 257.268949 143.1 \nL 257.407775 143.1 \nL 257.546602 266.645455 \nL 257.633369 143.1 \nL 257.650722 266.645455 \nL 257.737489 266.645455 \nL 257.858962 143.1 \nL 257.876315 143.1 \nL 257.928376 266.645455 \nL 257.980436 143.1 \nL 258.032496 143.1 \nL 258.049849 101.918182 \nL 258.136616 143.1 \nL 258.171322 143.1 \nL 258.188676 101.918182 \nL 258.240736 143.1 \nL 258.431622 266.645455 \nL 258.830749 266.645455 \nL 258.848102 225.463636 \nL 258.882809 266.645455 \nL 259.038989 266.645455 \nL 259.056342 225.463636 \nL 259.125756 266.645455 \nL 259.212522 225.463636 \nL 259.438116 266.645455 \nL 259.802536 266.645455 \nL 259.819889 225.463636 \nL 259.906656 266.645455 \nL 262.822016 266.645455 \nL 262.89143 225.463636 \nL 262.926136 266.645455 \nL 263.117023 266.645455 \nL 263.186436 225.463636 \nL 263.221143 266.645455 \nL 264.175577 266.645455 \nL 264.24499 225.463636 \nL 264.279697 266.645455 \nL 264.383817 266.645455 \nL 264.45323 225.463636 \nL 264.487937 266.645455 \nL 266.37945 266.645455 \nL 266.414157 143.1 \nL 266.466217 266.645455 \nL 270.370718 266.645455 \nL 270.492191 225.463636 \nL 270.561604 266.645455 \nL 275.160238 266.645455 \nL 275.177592 225.463636 \nL 275.264358 266.645455 \nL 276.669979 266.645455 \nL 276.687332 225.463636 \nL 277.103812 266.645455 \nL 279.203566 266.645455 \nL 279.220919 225.463636 \nL 279.255626 266.645455 \nL 279.567986 225.463636 \nL 279.706813 184.281818 \nL 279.828286 266.645455 \nL 279.880346 225.463636 \nL 280.001819 266.645455 \nL 280.123293 266.645455 \nL 280.227413 225.463636 \nL 280.400946 266.645455 \nL 280.695953 143.1 \nL 280.852133 143.1 \nL 280.990959 266.645455 \nL 281.650386 266.645455 \nL 281.82392 143.1 \nL 281.858626 266.645455 \nL 282.882473 266.645455 \nL 282.899826 225.463636 \nL 282.951886 266.645455 \nL 283.07336 266.645455 \nL 283.316307 225.463636 \nL 283.403073 266.645455 \nL 283.888967 266.645455 \nL 283.90632 225.463636 \nL 283.993087 266.645455 \nL 284.930167 266.645455 \nL 284.982227 225.463636 \nL 285.15576 266.645455 \nL 285.173114 225.463636 \nL 285.225174 266.645455 \nL 291.316195 266.645455 \nL 291.385608 225.463636 \nL 291.402961 266.645455 \nL 292.270628 266.645455 \nL 292.287981 225.463636 \nL 292.374748 266.645455 \nL 292.461515 266.645455 \nL 292.478868 225.463636 \nL 292.530928 266.645455 \nL 294.943042 266.645455 \nL 294.977749 101.918182 \nL 295.012455 266.645455 \nL 295.533055 266.645455 \nL 295.723942 143.1 \nL 295.845415 266.645455 \nL 296.643669 266.645455 \nL 296.661022 225.463636 \nL 296.747789 266.645455 \nL 297.615456 266.645455 \nL 297.650162 225.463636 \nL 297.719576 266.645455 \nL 300.895236 266.645455 \nL 301.155536 143.1 \nL 301.17289 266.645455 \nL 301.814963 266.645455 \nL 302.83881 184.281818 \nL 303.342057 266.645455 \nL 305.459164 266.645455 \nL 305.476517 225.463636 \nL 305.49387 266.645455 \nL 309.155424 266.645455 \nL 309.172778 143.1 \nL 309.242191 266.645455 \nL 311.324591 266.645455 \nL 311.376651 143.1 \nL 311.602245 266.645455 \nL 314.326719 266.645455 \nL 314.604372 143.1 \nL 315.281152 266.645455 \nL 315.437332 266.645455 \nL 315.680279 225.463636 \nL 315.801752 266.645455 \nL 323.54134 266.645455 \nL 323.888407 143.1 \nL 324.200767 266.645455 \nL 326.231107 266.645455 \nL 326.404641 143.1 \nL 326.838474 184.281818 \nL 326.855827 266.645455 \nL 327.254954 266.645455 \nL 327.307014 184.281818 \nL 327.671434 184.281818 \nL 327.914381 266.645455 \nL 327.966441 266.645455 \nL 328.139974 184.281818 \nL 328.382921 266.645455 \nL 328.504394 143.1 \nL 328.608514 266.645455 \nL 328.625868 143.1 \nL 328.712634 266.645455 \nL 328.990288 266.645455 \nL 329.111761 225.463636 \nL 329.146468 266.645455 \nL 329.285294 184.281818 \nL 329.528241 266.645455 \nL 333.172442 266.645455 \nL 333.415388 143.1 \nL 333.450095 266.645455 \nL 333.536862 184.281818 \nL 333.554215 184.281818 \nL 333.710395 143.1 \nL 333.866575 266.645455 \nL 334.074815 266.645455 \nL 334.092169 184.281818 \nL 334.109522 266.645455 \nL 334.595415 266.645455 \nL 334.716889 143.1 \nL 334.786302 266.645455 \nL 335.202782 266.645455 \nL 335.237489 143.1 \nL 335.289549 266.645455 \nL 335.393669 266.645455 \nL 335.428376 184.281818 \nL 335.584556 266.645455 \nL 336.001036 266.645455 \nL 336.174569 143.1 \nL 336.191922 266.645455 \nL 336.625756 266.645455 \nL 336.781936 225.463636 \nL 337.076942 266.645455 \nL 338.326383 266.645455 \nL 338.378443 225.463636 \nL 338.413149 266.645455 \nL 338.551976 266.645455 \nL 338.812276 143.1 \nL 338.951103 266.645455 \nL 339.523763 266.645455 \nL 339.679943 143.1 \nL 339.836123 266.645455 \nL 340.75585 266.645455 \nL 340.773203 225.463636 \nL 340.790556 266.645455 \nL 343.25473 266.645455 \nL 343.272084 225.463636 \nL 343.289437 266.645455 \nL 345.753611 266.645455 \nL 345.857731 143.1 \nL 346.031264 266.645455 \nL 347.089818 266.645455 \nL 347.107171 225.463636 \nL 347.263351 266.645455 \nL 347.506298 266.645455 \nL 347.679831 225.463636 \nL 347.714538 266.645455 \nL 349.571345 266.645455 \nL 349.588698 225.463636 \nL 349.953118 266.645455 \nL 350.196065 266.645455 \nL 350.404305 143.1 \nL 350.456365 266.645455 \nL 350.473718 143.1 \nL 350.872845 266.645455 \nL 352.156992 266.645455 \nL 352.174345 225.463636 \nL 352.243758 266.645455 \nL 352.469352 266.645455 \nL 352.729652 225.463636 \nL 352.868479 266.645455 \nL 352.989952 143.1 \nL 353.007305 184.281818 \nL 353.076719 184.281818 \nL 353.111425 143.1 \nL 353.284959 266.645455 \nL 353.337019 184.281818 \nL 353.562612 266.645455 \nL 353.857619 266.645455 \nL 353.944385 143.1 \nL 353.979092 266.645455 \nL 354.707932 266.645455 \nL 354.864112 143.1 \nL 354.950879 266.645455 \nL 355.124412 143.1 \nL 355.315299 143.1 \nL 355.419419 266.645455 \nL 355.523539 266.645455 \nL 355.540892 225.463636 \nL 355.592952 266.645455 \nL 355.818546 266.645455 \nL 355.853252 143.1 \nL 355.887959 266.645455 \nL 356.738273 266.645455 \nL 356.755626 101.918182 \nL 357.050633 266.645455 \nL 358.230659 266.645455 \nL 358.300073 225.463636 \nL 358.317426 266.645455 \nL 358.647139 184.281818 \nL 358.664493 143.1 \nL 358.681846 266.645455 \nL 358.716553 225.463636 \nL 358.75126 266.645455 \nL 360.694833 266.645455 \nL 360.764247 19.554545 \nL 360.816307 143.1 \nL 361.701327 143.1 \nL 361.71868 101.918182 \nL 361.805447 143.1 \nL 362.412813 143.1 \nL 362.430167 101.918182 \nL 362.516933 143.1 \nL 362.96812 143.1 \nL 363.1243 19.554545 \nL 363.211067 19.554545 \nL 363.33254 143.1 \nL 363.54078 143.1 \nL 363.558134 101.918182 \nL 363.6449 143.1 \nL 363.85314 143.1 \nL 363.9052 101.918182 \nL 363.95726 143.1 \nL 364.651394 143.1 \nL 364.668747 101.918182 \nL 364.755514 143.1 \nL 364.929047 143.1 \nL 364.946401 101.918182 \nL 365.033167 143.1 \nL 365.293467 143.1 \nL 365.414941 19.554545 \nL 366.126427 19.554545 \nL 366.247901 143.1 \nL 366.386727 143.1 \nL 366.404081 101.918182 \nL 366.490848 143.1 \nL 366.629674 143.1 \nL 366.647028 101.918182 \nL 366.733794 143.1 \nL 366.976741 143.1 \nL 366.994094 101.918182 \nL 367.080861 143.1 \nL 367.237041 143.1 \nL 367.254394 101.918182 \nL 367.341161 143.1 \nL 367.931174 143.1 \nL 367.948528 101.918182 \nL 368.035294 143.1 \nL 369.666508 143.1 \nL 369.683861 101.918182 \nL 369.770628 143.1 \nL 369.892101 143.1 \nL 369.909455 101.918182 \nL 369.996221 143.1 \nL 370.430055 143.1 \nL 370.516822 101.918182 \nL 370.534175 143.1 \nL 371.158895 143.1 \nL 371.176248 101.918182 \nL 371.263015 143.1 \nL 372.599222 143.1 \nL 372.616575 101.918182 \nL 372.703342 143.1 \nL 372.859522 143.1 \nL 372.876875 101.918182 \nL 372.963642 143.1 \nL 375.150162 143.1 \nL 375.184869 101.918182 \nL 375.254282 143.1 \nL 375.306342 143.1 \nL 375.323696 101.918182 \nL 375.410462 143.1 \nL 375.722822 143.1 \nL 375.757529 101.918182 \nL 375.826942 143.1 \nL 375.896356 143.1 \nL 375.931062 101.918182 \nL 376.000476 143.1 \nL 376.642549 143.1 \nL 376.659903 101.918182 \nL 376.746669 143.1 \nL 377.666396 143.1 \nL 377.683749 101.918182 \nL 377.770516 143.1 \nL 378.343176 143.1 \nL 378.36053 60.736364 \nL 378.447296 143.1 \nL 378.46465 101.918182 \nL 378.551416 143.1 \nL 378.638183 143.1 \nL 378.655536 101.918182 \nL 378.742303 143.1 \nL 379.45379 143.1 \nL 379.575263 101.918182 \nL 379.592616 101.918182 \nL 379.71409 143.1 \nL 381.518837 143.1 \nL 381.53619 101.918182 \nL 381.622957 143.1 \nL 382.143557 143.1 \nL 382.16091 19.554545 \nL 382.247677 143.1 \nL 382.31709 143.1 \nL 382.334444 101.918182 \nL 382.42121 143.1 \nL 382.47327 143.1 \nL 382.490624 101.918182 \nL 382.57739 143.1 \nL 384.486257 143.1 \nL 384.503611 101.918182 \nL 384.590377 143.1 \nL 385.336571 143.1 \nL 385.353924 101.918182 \nL 385.440691 143.1 \nL 386.672778 143.1 \nL 386.690131 101.918182 \nL 386.776898 143.1 \nL 387.141318 143.1 \nL 387.193378 101.918182 \nL 387.314851 266.645455 \nL 387.349558 266.645455 \nL 387.366911 225.463636 \nL 387.418971 266.645455 \nL 387.852805 266.645455 \nL 387.887511 184.281818 \nL 387.956925 266.645455 \nL 391.653185 266.645455 \nL 391.965545 184.281818 \nL 391.982899 266.645455 \nL 392.052312 184.281818 \nL 392.399379 184.281818 \nL 392.520852 266.645455 \nL 392.919979 266.645455 \nL 393.024099 184.281818 \nL 393.336459 266.645455 \nL 393.423225 184.281818 \nL 394.082652 266.645455 \nL 394.342952 266.645455 \nL 394.880906 184.281818 \nL 395.522979 266.645455 \nL 395.679159 184.281818 \nL 395.817986 266.645455 \nL 395.835339 184.281818 \nL 396.165053 266.645455 \nL 396.217113 143.1 \nL 396.616239 184.281818 \nL 396.633593 266.645455 \nL 396.668299 184.281818 \nL 397.119486 266.645455 \nL 397.397139 266.645455 \nL 398.143333 143.1 \nL 398.420986 184.281818 \nL 398.733346 266.645455 \nL 398.768053 184.281818 \nL 398.785406 266.645455 \nL 400.034847 266.645455 \nL 400.0522 225.463636 \nL 401.04134 184.281818 \nL 401.058693 60.736364 \nL 401.076047 184.281818 \nL 401.336347 184.281818 \nL 401.596647 266.645455 \nL 401.77018 184.281818 \nL 402.099894 266.645455 \nL 402.169307 184.281818 \nL 402.23872 266.645455 \nL 402.29078 184.281818 \nL 402.377547 266.645455 \nL 402.828734 266.645455 \nL 403.07168 143.1 \nL 403.488161 266.645455 \nL 404.112881 266.645455 \nL 404.407887 184.281818 \nL 404.581421 266.645455 \nL 404.893781 266.645455 \nL 404.945841 225.463636 \nL 405.362321 266.645455 \nL 405.744094 266.645455 \nL 405.778801 225.463636 \nL 405.813508 266.645455 \nL 406.195281 266.645455 \nL 406.507641 184.281818 \nL 406.715881 266.645455 \nL 407.010888 266.645455 \nL 407.028241 225.463636 \nL 407.444721 225.463636 \nL 407.462075 266.645455 \nL 407.809141 266.645455 \nL 407.861201 225.463636 \nL 407.913261 266.645455 \nL 408.260328 266.645455 \nL 408.277681 225.463636 \nL 408.364448 266.645455 \nL 408.537981 266.645455 \nL 408.659455 184.281818 \nL 408.798281 266.645455 \nL 408.850341 266.645455 \nL 408.971815 143.1 \nL 409.023875 143.1 \nL 409.145348 184.281818 \nL 409.509768 184.281818 \nL 409.527122 143.1 \nL 409.613888 184.281818 \nL 409.874188 184.281818 \nL 409.995662 266.645455 \nL 410.099782 143.1 \nL 410.221255 143.1 \nL 410.446848 266.645455 \nL 410.516262 266.645455 \nL 410.533615 225.463636 \nL 410.620382 266.645455 \nL 410.845975 266.645455 \nL 411.245102 225.463636 \nL 411.626875 266.645455 \nL 411.713642 143.1 \nL 411.800409 266.645455 \nL 412.095415 143.1 \nL 413.709276 266.645455 \nL 413.726629 266.645455 \nL 413.848102 225.463636 \nL 413.969576 266.645455 \nL 413.986929 266.645455 \nL 414.091049 143.1 \nL 414.108402 266.645455 \nL 414.177816 184.281818 \nL 414.507529 266.645455 \nL 414.542236 184.281818 \nL 414.576942 266.645455 \nL 414.715769 184.281818 \nL 414.958716 143.1 \nL 415.045483 266.645455 \nL 415.461963 266.645455 \nL 415.704909 184.281818 \nL 415.756969 225.463636 \nL 415.913149 266.645455 \nL 416.260216 184.281818 \nL 416.555223 184.281818 \nL 416.624636 266.645455 \nL 417.47495 266.645455 \nL 417.908783 184.281818 \nL 418.585563 184.281818 \nL 418.637623 266.645455 \nL 419.019397 184.281818 \nL 419.904417 266.645455 \nL 419.956477 266.645455 \nL 420.268837 184.281818 \nL 420.28619 184.281818 \nL 420.425017 266.645455 \nL 422.403297 266.645455 \nL 422.438004 225.463636 \nL 422.47271 266.645455 \nL 423.288317 266.645455 \nL 423.722151 184.281818 \nL 424.433637 184.281818 \nL 424.537758 266.645455 \nL 424.555111 143.1 \nL 424.659231 184.281818 \nL 424.693938 143.1 \nL 424.763351 184.281818 \nL 424.884824 184.281818 \nL 425.075711 266.645455 \nL 428.216665 266.645455 \nL 428.581085 184.281818 \nL 428.633145 266.645455 \nL 429.622285 266.645455 \nL 430.472599 225.463636 \nL 430.854372 225.463636 \nL 430.906432 266.645455 \nL 433.145012 266.645455 \nL 433.318546 143.1 \nL 433.335899 184.281818 \nL 433.457372 184.281818 \nL 433.474726 143.1 \nL 433.561492 184.281818 \nL 433.578846 184.281818 \nL 433.735026 266.645455 \nL 433.752379 184.281818 \nL 434.186212 266.645455 \nL 436.4595 266.645455 \nL 436.56362 184.281818 \nL 436.87598 184.281818 \nL 437.03216 266.645455 \nL 443.661134 266.645455 \nL 443.904081 225.463636 \nL 444.060261 101.918182 \nL 444.094968 225.463636 \nL 444.389974 225.463636 \nL 444.858514 184.281818 \nL 445.049401 266.645455 \nL 446.559141 266.645455 \nL 446.750028 225.463636 \nL 446.836795 266.645455 \nL 447.773875 266.645455 \nL 447.912702 225.463636 \nL 448.242415 266.645455 \nL 448.676248 266.645455 \nL 448.745662 225.463636 \nL 448.763015 266.645455 \nL 451.678376 266.645455 \nL 451.765142 225.463636 \nL 451.834556 266.645455 \nL 452.493982 266.645455 \nL 452.702222 184.281818 \nL 452.719576 266.645455 \nL 453.118702 184.281818 \nL 453.517829 184.281818 \nL 453.535182 143.1 \nL 453.604596 266.645455 \nL 453.656656 184.281818 \nL 453.951663 184.281818 \nL 454.107843 266.645455 \nL 454.368143 184.281818 \nL 454.437556 266.645455 \nL 454.784623 184.281818 \nL 454.888743 184.281818 \nL 454.975509 266.645455 \nL 455.149043 266.645455 \nL 455.183749 143.1 \nL 455.253163 225.463636 \nL 455.270516 225.463636 \nL 455.287869 266.645455 \nL 455.496109 225.463636 \nL 455.617583 184.281818 \nL 455.825823 225.463636 \nL 455.999356 184.281818 \nL 456.01671 143.1 \nL 456.034063 184.281818 \nL 456.363776 225.463636 \nL 456.38113 266.645455 \nL 456.415836 184.281818 \nL 456.450543 184.281818 \nL 456.780256 225.463636 \nL 456.867023 184.281818 \nL 457.023203 266.645455 \nL 457.127323 225.463636 \nL 457.144676 266.645455 \nL 457.179383 225.463636 \nL 457.248796 101.918182 \nL 457.283503 184.281818 \nL 457.404976 266.645455 \nL 457.42233 184.281818 \nL 457.509097 266.645455 \nL 457.699983 184.281818 \nL 457.89087 266.645455 \nL 457.960283 184.281818 \nL 458.15117 184.281818 \nL 458.237937 266.645455 \nL 458.376763 266.645455 \nL 458.532943 184.281818 \nL 458.72383 266.645455 \nL 458.845303 266.645455 \nL 458.949423 184.281818 \nL 459.365903 184.281818 \nL 459.591497 266.645455 \nL 459.81709 184.281818 \nL 459.92121 266.645455 \nL 459.938564 225.463636 \nL 460.146804 266.645455 \nL 460.198864 143.1 \nL 460.250924 266.645455 \nL 460.268277 266.645455 \nL 460.28563 101.918182 \nL 460.372397 266.645455 \nL 460.65005 184.281818 \nL 460.70211 225.463636 \nL 461.031824 184.281818 \nL 461.11859 266.645455 \nL 461.309477 184.281818 \nL 462.073024 184.281818 \nL 462.090377 143.1 \nL 462.177144 184.281818 \nL 462.749804 184.281818 \nL 462.767157 101.918182 \nL 462.853924 184.281818 \nL 462.888631 184.281818 \nL 462.992751 143.1 \nL 463.114224 184.281818 \nL 463.235697 266.645455 \nL 463.600118 184.281818 \nL 463.704238 184.281818 \nL 463.756298 143.1 \nL 463.808358 184.281818 \nL 463.981891 184.281818 \nL 463.999244 266.645455 \nL 464.242191 184.281818 \nL 464.294251 266.645455 \nL 464.346311 184.281818 \nL 464.450431 184.281818 \nL 464.467784 143.1 \nL 464.554551 184.281818 \nL 464.745438 184.281818 \nL 464.832204 101.918182 \nL 465.040444 266.645455 \nL 465.196624 184.281818 \nL 465.474278 184.281818 \nL 465.682518 266.645455 \nL 468.771412 266.645455 \nL 468.823472 184.281818 \nL 468.892885 225.463636 \nL 468.962298 225.463636 \nL 469.083772 266.645455 \nL 470.905872 266.645455 \nL 471.183526 143.1 \nL 471.218232 184.281818 \nL 471.409119 266.645455 \nL 471.947072 266.645455 \nL 472.363552 225.463636 \nL 472.762679 266.645455 \nL 474.064179 266.645455 \nL 474.203006 143.1 \nL 474.289773 184.281818 \nL 474.376539 184.281818 \nL 474.498013 266.645455 \nL 474.810373 266.645455 \nL 474.845079 225.463636 \nL 474.914493 266.645455 \nL 475.660686 266.645455 \nL 475.7301 184.281818 \nL 476.111873 266.645455 \nL 478.48928 266.645455 \nL 478.610753 225.463636 \nL 478.69752 266.645455 \nL 478.923114 266.645455 \nL 479.32224 225.463636 \nL 479.339594 266.645455 \nL 480.25932 266.645455 \nL 480.36344 225.463636 \nL 480.484914 266.645455 \nL 480.57168 266.645455 \nL 480.606387 225.463636 \nL 480.6758 266.645455 \nL 481.074927 266.645455 \nL 481.231107 143.1 \nL 481.283167 143.1 \nL 481.404641 184.281818 \nL 481.647587 184.281818 \nL 482.046714 266.645455 \nL 482.237601 266.645455 \nL 482.272307 143.1 \nL 482.324367 266.645455 \nL 482.532607 266.645455 \nL 482.914381 225.463636 \nL 483.018501 266.645455 \nL 483.573808 266.645455 \nL 483.677928 184.281818 \nL 484.077054 266.645455 \nL 484.094408 225.463636 \nL 484.111761 266.645455 \nL 484.753835 266.645455 \nL 485.378555 184.281818 \nL 485.395908 184.281818 \nL 485.517381 266.645455 \nL 485.708268 266.645455 \nL 485.968568 225.463636 \nL 485.985921 266.645455 \nL 486.142101 266.645455 \nL 486.246221 143.1 \nL 486.419755 184.281818 \nL 486.541228 266.645455 \nL 486.697408 143.1 \nL 486.818882 266.645455 \nL 486.870942 266.645455 \nL 486.992415 225.463636 \nL 487.027122 225.463636 \nL 487.131242 184.281818 \nL 487.252715 225.463636 \nL 487.322128 225.463636 \nL 487.339482 143.1 \nL 487.356835 266.645455 \nL 487.426248 184.281818 \nL 487.443602 184.281818 \nL 487.582428 266.645455 \nL 487.617135 225.463636 \nL 487.686548 266.645455 \nL 488.137735 266.645455 \nL 488.224502 184.281818 \nL 488.241855 266.645455 \nL 488.259208 266.645455 \nL 488.311268 225.463636 \nL 488.432742 266.645455 \nL 488.519509 101.918182 \nL 488.536862 225.463636 \nL 488.588922 184.281818 \nL 488.658335 266.645455 \nL 488.762455 184.281818 \nL 489.040109 266.645455 \nL 489.803655 266.645455 \nL 490.081309 184.281818 \nL 490.237489 266.645455 \nL 490.254842 266.645455 \nL 490.272195 225.463636 \nL 490.358962 266.645455 \nL 490.393669 266.645455 \nL 490.411022 225.463636 \nL 490.515142 266.645455 \nL 490.653969 225.463636 \nL 490.688676 266.645455 \nL 491.365456 266.645455 \nL 491.382809 225.463636 \nL 491.469576 266.645455 \nL 491.903409 266.645455 \nL 491.955469 143.1 \nL 492.007529 266.645455 \nL 492.319889 266.645455 \nL 492.354596 225.463636 \nL 492.424009 266.645455 \nL 492.441363 266.645455 \nL 492.458716 225.463636 \nL 492.528129 266.645455 \nL 498.04649 266.645455 \nL 498.20267 225.463636 \nL 498.341497 266.645455 \nL 500.753611 266.645455 \nL 500.770964 225.463636 \nL 500.788317 266.645455 \nL 501.083324 266.645455 \nL 501.135384 225.463636 \nL 501.187444 266.645455 \nL 504.883705 266.645455 \nL 504.901058 225.463636 \nL 504.987825 266.645455 \nL 506.914045 266.645455 \nL 506.948752 184.281818 \nL 507.070225 184.281818 \nL 507.504058 266.645455 \nL 508.666732 266.645455 \nL 508.944385 184.281818 \nL 509.152625 266.645455 \nL 510.124412 266.645455 \nL 510.176472 184.281818 \nL 510.228532 225.463636 \nL 510.592952 184.281818 \nL 510.697072 266.645455 \nL 510.801192 266.645455 \nL 510.922666 184.281818 \nL 511.009432 184.281818 \nL 511.026786 143.1 \nL 511.113552 184.281818 \nL 511.148259 184.281818 \nL 511.217672 143.1 \nL 511.252379 184.281818 \nL 511.877099 184.281818 \nL 512.050633 266.645455 \nL 512.137399 184.281818 \nL 512.467113 184.281818 \nL 512.484466 266.645455 \nL 512.501819 184.281818 \nL 512.692706 143.1 \nL 512.796826 266.645455 \nL 512.814179 143.1 \nL 512.831533 266.645455 \nL 514.150386 266.645455 \nL 514.445393 225.463636 \nL 514.462746 184.281818 \nL 514.497453 266.645455 \nL 514.566866 266.645455 \nL 514.723046 184.281818 \nL 514.913933 266.645455 \nL 515.070113 19.554545 \nL 515.122173 266.645455 \nL 520.727301 266.645455 \nL 520.744654 225.463636 \nL 520.952894 266.645455 \nL 521.560261 266.645455 \nL 521.647028 225.463636 \nL 522.046154 266.645455 \nL 524.163261 266.645455 \nL 524.458268 225.463636 \nL 524.492975 266.645455 \nL 527.876875 266.645455 \nL 529.646916 143.1 \nL 529.664269 101.918182 \nL 529.959276 266.645455 \nL 530.063396 143.1 \nL 530.323696 143.1 \nL 530.358402 266.645455 \nL 530.479876 143.1 \nL 530.740176 266.645455 \nL 530.861649 143.1 \nL 530.879002 266.645455 \nL 530.896356 143.1 \nL 531.156656 266.645455 \nL 531.243423 143.1 \nL 531.312836 143.1 \nL 531.625196 266.645455 \nL 531.729316 143.1 \nL 532.024323 143.1 \nL 532.093736 266.645455 \nL 532.145796 143.1 \nL 532.562276 143.1 \nL 532.683749 266.645455 \nL 532.874636 266.645455 \nL 532.978756 143.1 \nL 533.169643 101.918182 \nL 533.186996 266.645455 \nL 533.41259 143.1 \nL 533.655536 266.645455 \nL 533.77701 143.1 \nL 533.846423 266.645455 \nL 533.93319 225.463636 \nL 534.03731 266.645455 \nL 534.228196 143.1 \nL 534.436436 266.645455 \nL 534.644676 143.1 \nL 535.408223 266.645455 \nL 536.917964 266.645455 \nL 537.074144 184.281818 \nL 537.178264 266.645455 \nL 539.017717 266.645455 \nL 539.035071 225.463636 \nL 539.243311 266.645455 \nL 542.037198 266.645455 \nL 542.123964 184.281818 \nL 542.418971 266.645455 \nL 547.746445 266.645455 \nL 547.798505 225.463636 \nL 547.850565 266.645455 \nL 550.696513 266.645455 \nL 551.078286 225.463636 \nL 551.095639 266.645455 \nL 551.303879 143.1 \nL 551.720359 143.1 \nL 551.893893 266.645455 \nL 551.980659 266.645455 \nL 552.136839 143.1 \nL 552.258313 225.463636 \nL 552.50126 143.1 \nL 552.518613 266.645455 \nL 552.55332 143.1 \nL 552.796266 266.645455 \nL 552.9698 143.1 \nL 553.07392 266.645455 \nL 553.368926 266.645455 \nL 553.38628 143.1 \nL 553.715993 266.645455 \nL 553.733346 101.918182 \nL 553.80276 143.1 \nL 554.132473 266.645455 \nL 554.21924 143.1 \nL 554.514247 266.645455 \nL 554.63572 143.1 \nL 554.774547 266.645455 \nL 554.930727 266.645455 \nL 555.0522 143.1 \nL 555.295147 266.645455 \nL 555.46868 143.1 \nL 555.659567 266.645455 \nL 555.815747 266.645455 \nL 555.88516 143.1 \nL 556.023987 266.645455 \nL 556.30164 143.1 \nL 556.492527 266.645455 \nL 556.544587 266.645455 \nL 556.71812 143.1 \nL 556.891654 101.918182 \nL 556.995774 266.645455 \nL 557.03048 266.645455 \nL 557.1346 143.1 \nL 557.360194 266.645455 \nL 557.55108 143.1 \nL 557.672554 266.645455 \nL 557.828734 266.645455 \nL 557.846087 143.1 \nL 557.932854 266.645455 \nL 558.158447 266.645455 \nL 558.1758 143.1 \nL 558.193154 266.645455 \nL 559.425241 266.645455 \nL 559.477301 225.463636 \nL 559.529361 266.645455 \nL 560.327614 266.645455 \nL 560.344968 184.281818 \nL 560.466441 143.1 \nL 560.605268 143.1 \nL 560.692034 266.645455 \nL 560.882921 143.1 \nL 561.299401 143.1 \nL 561.420874 266.645455 \nL 561.559701 225.463636 \nL 561.663821 266.645455 \nL 561.715881 143.1 \nL 561.993534 266.645455 \nL 562.132361 143.1 \nL 562.323248 143.1 \nL 562.427368 266.645455 \nL 562.548841 143.1 \nL 562.739728 266.645455 \nL 562.965321 143.1 \nL 563.121501 266.645455 \nL 563.329741 266.645455 \nL 563.381801 143.1 \nL 563.416508 266.645455 \nL 563.520628 266.645455 \nL 563.798281 143.1 \nL 564.214762 143.1 \nL 564.388295 266.645455 \nL 564.631242 143.1 \nL 564.787422 266.645455 \nL 564.804775 266.645455 \nL 564.822128 225.463636 \nL 564.839482 266.645455 \nL 565.047722 143.1 \nL 565.186548 143.1 \nL 565.360082 266.645455 \nL 565.464202 143.1 \nL 565.516262 266.645455 \nL 565.811268 266.645455 \nL 565.880682 143.1 \nL 566.123629 266.645455 \nL 566.193042 266.645455 \nL 566.297162 143.1 \nL 566.713642 143.1 \nL 566.817762 101.918182 \nL 566.835115 266.645455 \nL 566.921882 266.645455 \nL 566.956589 225.463636 \nL 567.026002 266.645455 \nL 567.112769 266.645455 \nL 567.130122 101.918182 \nL 567.216889 266.645455 \nL 567.251595 266.645455 \nL 567.338362 184.281818 \nL 567.355715 266.645455 \nL 567.477189 266.645455 \nL 567.546602 143.1 \nL 567.789549 266.645455 \nL 567.876315 266.645455 \nL 567.963082 143.1 \nL 568.188676 266.645455 \nL 568.344856 266.645455 \nL 568.379562 143.1 \nL 568.448976 266.645455 \nL 568.570449 266.645455 \nL 568.587802 184.281818 \nL 568.622509 266.645455 \nL 568.796042 143.1 \nL 568.830749 266.645455 \nL 569.212522 143.1 \nL 569.420762 266.645455 \nL 569.629002 143.1 \nL 569.924009 266.645455 \nL 570.045483 143.1 \nL 570.375196 266.645455 \nL 570.548729 143.1 \nL 570.600789 143.1 \nL 570.652849 266.645455 \nL 570.878443 143.1 \nL 571.156096 266.645455 \nL 571.294923 143.1 \nL 571.537869 266.645455 \nL 571.572576 225.463636 \nL 571.641989 266.645455 \nL 571.711403 143.1 \nL 571.971703 266.645455 \nL 572.127883 143.1 \nL 572.145236 266.645455 \nL 572.388183 266.645455 \nL 572.457596 143.1 \nL 572.544363 101.918182 \nL 572.561716 266.645455 \nL 572.769956 266.645455 \nL 572.822016 225.463636 \nL 572.856723 266.645455 \nL 572.94349 266.645455 \nL 572.960843 143.1 \nL 573.04761 266.645455 \nL 573.25585 266.645455 \nL 573.377323 143.1 \nL 573.585563 266.645455 \nL 573.741743 266.645455 \nL 573.793803 143.1 \nL 573.98469 266.645455 \nL 574.019397 225.463636 \nL 574.071457 266.645455 \nL 574.123517 266.645455 \nL 574.210283 143.1 \nL 574.435877 266.645455 \nL 574.55735 266.645455 \nL 574.626763 143.1 \nL 574.748237 266.645455 \nL 574.97383 266.645455 \nL 575.043243 143.1 \nL 575.459723 143.1 \nL 575.633257 266.645455 \nL 575.876204 143.1 \nL 576.153857 266.645455 \nL 576.292684 143.1 \nL 576.414157 266.645455 \nL 576.726517 143.1 \nL 576.813284 266.645455 \nL 576.969464 266.645455 \nL 577.125644 143.1 \nL 577.385944 266.645455 \nL 577.542124 143.1 \nL 577.715657 143.1 \nL 577.871837 184.281818 \nL 577.958604 143.1 \nL 577.993311 266.645455 \nL 578.028017 184.281818 \nL 578.080077 266.645455 \nL 578.253611 184.281818 \nL 578.305671 266.645455 \nL 578.357731 184.281818 \nL 578.375084 143.1 \nL 578.409791 225.463636 \nL 578.461851 184.281818 \nL 578.635384 184.281818 \nL 578.791564 143.1 \nL 578.999804 266.645455 \nL 579.017157 266.645455 \nL 579.208044 101.918182 \nL 579.312164 184.281818 \nL 579.433637 266.645455 \nL 579.450991 225.463636 \nL 579.589818 143.1 \nL 579.641878 19.554545 \nL 579.659231 143.1 \nL 579.832764 266.645455 \nL 579.867471 266.645455 \nL 580.041004 143.1 \nL 580.127771 225.463636 \nL 580.145124 184.281818 \nL 580.231891 266.645455 \nL 580.370718 266.645455 \nL 580.457484 143.1 \nL 581.290444 143.1 \nL 581.411918 266.645455 \nL 581.550745 266.645455 \nL 581.706925 143.1 \nL 581.949871 143.1 \nL 582.001931 266.645455 \nL 582.123405 143.1 \nL 582.366351 266.645455 \nL 582.487825 143.1 \nL 582.539885 143.1 \nL 582.852245 266.645455 \nL 582.956365 143.1 \nL 583.147251 266.645455 \nL 583.407552 143.1 \nL 583.667852 266.645455 \nL 583.789325 143.1 \nL 583.910798 266.645455 \nL 583.997565 143.1 \nL 585.038765 143.1 \nL 585.247005 266.645455 \nL 585.316418 143.1 \nL 585.351125 266.645455 \nL 585.368479 266.645455 \nL 585.455245 143.1 \nL 585.680839 266.645455 \nL 585.906432 143.1 \nL 586.079965 143.1 \nL 586.114672 101.918182 \nL 586.184085 143.1 \nL 586.531152 143.1 \nL 586.548505 266.645455 \nL 586.617919 143.1 \nL 587.832652 143.1 \nL 587.884712 266.645455 \nL 587.919419 143.1 \nL 588.561492 143.1 \nL 588.596199 60.736364 \nL 588.613552 266.645455 \nL 588.682966 266.645455 \nL 588.787086 143.1 \nL 589.012679 143.1 \nL 589.047386 101.918182 \nL 589.064739 266.645455 \nL 589.134152 143.1 \nL 589.342393 143.1 \nL 589.377099 101.918182 \nL 589.429159 266.645455 \nL 589.481219 143.1 \nL 589.515926 143.1 \nL 589.533279 266.645455 \nL 589.620046 143.1 \nL 589.793579 143.1 \nL 589.932406 101.918182 \nL 589.949759 225.463636 \nL 590.036526 143.1 \nL 590.210059 143.1 \nL 590.227413 266.645455 \nL 590.314179 143.1 \nL 590.453006 143.1 \nL 590.713306 266.645455 \nL 590.765366 143.1 \nL 591.164493 143.1 \nL 591.181846 266.645455 \nL 591.268613 143.1 \nL 591.476853 143.1 \nL 591.51156 101.918182 \nL 591.56362 143.1 \nL 591.910686 143.1 \nL 592.014806 101.918182 \nL 592.03216 266.645455 \nL 592.153633 143.1 \nL 592.795706 143.1 \nL 592.81306 266.645455 \nL 592.899826 143.1 \nL 593.246893 143.1 \nL 593.264247 19.554545 \nL 593.351013 143.1 \nL 593.663373 143.1 \nL 593.680727 266.645455 \nL 593.767493 143.1 \nL 594.01044 266.645455 \nL 594.3228 143.1 \nL 594.444273 266.645455 \nL 594.565747 143.1 \nL 594.773987 143.1 \nL 594.912813 266.645455 \nL 595.034287 143.1 \nL 595.225174 266.645455 \nL 595.41606 143.1 \nL 595.693714 143.1 \nL 595.711067 266.645455 \nL 595.797834 143.1 \nL 596.110194 143.1 \nL 596.162254 266.645455 \nL 596.214314 143.1 \nL 596.491967 143.1 \nL 596.50932 266.645455 \nL 596.578734 143.1 \nL 596.891094 143.1 \nL 596.9258 101.918182 \nL 596.977861 143.1 \nL 597.255514 143.1 \nL 597.376987 266.645455 \nL 597.429047 101.918182 \nL 597.498461 143.1 \nL 597.654641 184.281818 \nL 597.828174 266.645455 \nL 597.862881 101.918182 \nL 597.949647 143.1 \nL 598.782607 143.1 \nL 598.817314 266.645455 \nL 598.973494 143.1 \nL 599.771748 143.1 \nL 599.789101 266.645455 \nL 599.875868 143.1 \nL 599.910574 143.1 \nL 599.927928 266.645455 \nL 600.014694 143.1 \nL 600.292348 266.645455 \nL 600.604708 143.1 \nL 600.691474 266.645455 \nL 600.708828 184.281818 \nL 600.865008 143.1 \nL 600.899715 266.645455 \nL 601.333548 143.1 \nL 601.437668 143.1 \nL 601.455021 266.645455 \nL 601.541788 143.1 \nL 601.611201 143.1 \nL 601.663261 266.645455 \nL 601.697968 143.1 \nL 602.392101 143.1 \nL 602.496221 266.645455 \nL 603.641542 266.645455 \nL 603.763015 143.1 \nL 604.023315 143.1 \nL 605.290109 266.645455 \nL 605.706589 266.645455 \nL 605.723942 225.463636 \nL 606.105715 266.645455 \nL 606.123069 225.463636 \nL 606.418075 143.1 \nL 606.452782 266.645455 \nL 606.574255 266.645455 \nL 606.678376 143.1 \nL 606.851909 266.645455 \nL 607.060149 266.645455 \nL 607.094856 143.1 \nL 607.303096 266.645455 \nL 607.806342 143.1 \nL 607.875756 266.645455 \nL 608.170762 266.645455 \nL 608.222822 143.1 \nL 608.344296 143.1 \nL 608.517829 266.645455 \nL 608.552536 143.1 \nL 608.569889 266.645455 \nL 609.350789 266.645455 \nL 609.524323 143.1 \nL 610.201103 266.645455 \nL 610.773763 266.645455 \nL 611.554663 225.463636 \nL 611.606723 266.645455 \nL 611.90173 266.645455 \nL 611.919083 101.918182 \nL 611.936436 266.645455 \nL 613.480883 266.645455 \nL 613.56765 143.1 \nL 613.77589 143.1 \nL 613.810597 184.281818 \nL 613.845303 143.1 \nL 613.897363 143.1 \nL 614.279137 266.645455 \nL 615.667404 266.645455 \nL 615.85829 143.1 \nL 616.22271 143.1 \nL 616.968904 266.645455 \nL 617.177144 143.1 \nL 617.350677 143.1 \nL 617.385384 184.281818 \nL 617.506857 143.1 \nL 617.715097 184.281818 \nL 617.801864 266.645455 \nL 617.905984 143.1 \nL 618.166284 266.645455 \nL 618.617471 266.645455 \nL 618.756298 143.1 \nL 619.433078 143.1 \nL 619.467784 266.645455 \nL 619.866911 266.645455 \nL 620.092504 143.1 \nL 620.682518 266.645455 \nL 620.699871 143.1 \nL 621.081645 266.645455 \nL 621.203118 143.1 \nL 621.220471 266.645455 \nL 621.550185 266.645455 \nL 621.671658 143.1 \nL 622.018725 266.645455 \nL 622.730212 266.645455 \nL 622.747565 143.1 \nL 622.921098 143.1 \nL 623.250812 266.645455 \nL 623.337578 143.1 \nL 623.528465 266.645455 \nL 623.823472 266.645455 \nL 623.962298 143.1 \nL 623.979652 266.645455 \nL 624.118479 143.1 \nL 624.396132 19.554545 \nL 624.430839 266.645455 \nL 624.500252 143.1 \nL 625.281152 143.1 \nL 625.298505 101.918182 \nL 625.628219 266.645455 \nL 625.697632 143.1 \nL 626.252939 143.1 \nL 626.495886 266.645455 \nL 626.929719 266.645455 \nL 626.981779 143.1 \nL 627.485026 143.1 \nL 627.606499 266.645455 \nL 627.745326 266.645455 \nL 627.762679 143.1 \nL 627.849446 225.463636 \nL 627.901506 143.1 \nL 627.936212 266.645455 \nL 628.040333 143.1 \nL 628.161806 266.645455 \nL 628.213866 266.645455 \nL 628.317986 143.1 \nL 628.439459 266.645455 \nL 628.456813 266.645455 \nL 628.560933 143.1 \nL 628.612993 266.645455 \nL 628.665053 101.918182 \nL 628.699759 19.554545 \nL 628.786526 143.1 \nL 629.168299 143.1 \nL 629.289773 266.645455 \nL 629.341833 143.1 \nL 629.393893 225.463636 \nL 629.515366 266.645455 \nL 629.550073 266.645455 \nL 629.671546 143.1 \nL 629.758313 143.1 \nL 629.879786 266.645455 \nL 630.10538 266.645455 \nL 630.140086 143.1 \nL 630.2095 266.645455 \nL 630.36568 266.645455 \nL 630.383033 225.463636 \nL 630.4698 266.645455 \nL 630.556566 266.645455 \nL 630.57392 225.463636 \nL 630.660686 266.645455 \nL 631.111873 266.645455 \nL 631.129226 225.463636 \nL 631.215993 266.645455 \nL 632.118367 266.645455 \nL 632.13572 225.463636 \nL 632.222487 266.645455 \nL 632.23984 266.645455 \nL 632.309253 225.463636 \nL 632.378667 266.645455 \nL 632.569553 184.281818 \nL 632.777793 266.645455 \nL 632.881913 266.645455 \nL 633.090153 143.1 \nL 633.22898 225.463636 \nL 633.48928 266.645455 \nL 633.523987 184.281818 \nL 633.610753 225.463636 \nL 633.64546 266.645455 \nL 634.461067 266.645455 \nL 634.58254 143.1 \nL 634.68666 266.645455 \nL 635.658447 266.645455 \nL 635.6758 225.463636 \nL 635.693154 266.645455 \nL 640.760328 266.645455 \nL 640.795035 143.1 \nL 641.090041 266.645455 \nL 641.923002 266.645455 \nL 641.940355 225.463636 \nL 643.554215 266.645455 \nL 643.606275 143.1 \nL 643.658335 266.645455 \nL 643.935989 266.645455 \nL 643.970695 184.281818 \nL 644.005402 266.645455 \nL 646.625756 266.645455 \nL 646.764582 143.1 \nL 647.042236 266.645455 \nL 647.805783 266.645455 \nL 648.326383 225.463636 \nL 648.447856 266.645455 \nL 649.81877 266.645455 \nL 649.905536 225.463636 \nL 650.70379 266.645455 \nL 651.519397 143.1 \nL 651.710283 266.645455 \nL 651.90117 184.281818 \nL 652.36971 266.645455 \nL 655.198304 266.645455 \nL 655.233011 225.463636 \nL 655.718904 266.645455 \nL 658.131018 266.645455 \nL 658.235138 225.463636 \nL 658.339258 266.645455 \nL 658.460731 225.463636 \nL 658.495438 266.645455 \nL 658.530144 184.281818 \nL 658.547498 184.281818 \nL 658.599558 266.645455 \nL 659.137511 266.645455 \nL 659.345751 225.463636 \nL 659.467225 266.645455 \nL 665.228532 266.645455 \nL 665.419419 184.281818 \nL 665.523539 184.281818 \nL 666.599446 266.645455 \nL 666.877099 266.645455 \nL 666.946513 184.281818 \nL 666.981219 266.645455 \nL 666.998573 266.645455 \nL 667.033279 184.281818 \nL 667.449759 266.645455 \nL 667.675353 266.645455 \nL 667.831533 19.554545 \nL 667.900946 143.1 \nL 668.178599 266.645455 \nL 669.757753 266.645455 \nL 669.79246 184.281818 \nL 669.809813 266.645455 \nL 672.690467 266.645455 \nL 672.70782 184.281818 \nL 672.725174 266.645455 \nL 673.141654 266.645455 \nL 673.558134 225.463636 \nL 674.06138 266.645455 \nL 674.859634 266.645455 \nL 674.981107 143.1 \nL 675.224054 266.645455 \nL 675.519061 266.645455 \nL 675.640534 225.463636 \nL 675.779361 266.645455 \nL 675.814067 143.1 \nL 675.900834 225.463636 \nL 676.109074 266.645455 \nL 679.805335 266.645455 \nL 680.221815 225.463636 \nL 680.360642 266.645455 \nL 681.592728 266.645455 \nL 681.887735 225.463636 \nL 681.905088 266.645455 \nL 682.304215 266.645455 \nL 682.477749 143.1 \nL 682.720695 266.645455 \nL 685.219576 266.645455 \nL 685.254282 225.463636 \nL 685.288989 266.645455 \nL 686.087242 266.645455 \nL 686.104596 225.463636 \nL 686.347543 266.645455 \nL 686.642549 143.1 \nL 687.770516 266.645455 \nL 687.891989 143.1 \nL 688.117583 266.645455 \nL 688.30847 143.1 \nL 688.586123 266.645455 \nL 689.97439 143.1 \nL 690.269397 266.645455 \nL 690.39087 143.1 \nL 690.616463 266.645455 \nL 690.80735 143.1 \nL 691.102357 266.645455 \nL 691.397363 184.281818 \nL 691.501483 266.645455 \nL 691.58825 266.645455 \nL 692.05679 143.1 \nL 692.88975 143.1 \nL 693.09799 266.645455 \nL 694.052424 266.645455 \nL 694.173897 225.463636 \nL 694.260664 266.645455 \nL 694.278017 225.463636 \nL 694.330077 266.645455 \nL 694.382137 184.281818 \nL 694.416844 266.645455 \nL 696.620718 266.645455 \nL 696.638071 143.1 \nL 696.724838 266.645455 \nL 697.713978 266.645455 \nL 697.731331 225.463636 \nL 697.783391 266.645455 \nL 698.564291 266.645455 \nL 698.720471 143.1 \nL 698.928711 266.645455 \nL 699.136951 143.1 \nL 699.466665 184.281818 \nL 699.484018 225.463636 \nL 699.501371 184.281818 \nL 699.761672 266.645455 \nL 699.779025 225.463636 \nL 699.848438 266.645455 \nL 701.844072 266.645455 \nL 702.052312 143.1 \nL 702.329965 266.645455 \nL 702.347319 266.645455 \nL 702.468792 143.1 \nL 702.781152 266.645455 \nL 703.180279 266.645455 \nL 703.301752 143.1 \nL 703.405872 266.645455 \nL 703.544699 266.645455 \nL 704.134712 143.1 \nL 704.447072 266.645455 \nL 705.175912 266.645455 \nL 705.193266 225.463636 \nL 705.227972 266.645455 \nL 705.384152 143.1 \nL 706.026226 184.281818 \nL 706.112993 266.645455 \nL 706.876539 266.645455 \nL 707.692146 225.463636 \nL 707.726853 266.645455 \nL 708.559813 266.645455 \nL 708.95894 225.463636 \nL 708.976293 266.645455 \nL 711.128107 266.645455 \nL 711.440467 101.918182 \nL 711.45782 143.1 \nL 711.475174 266.645455 \nL 711.56194 143.1 \nL 711.77018 143.1 \nL 711.943714 266.645455 \nL 712.047834 143.1 \nL 712.724614 143.1 \nL 712.741967 101.918182 \nL 712.828734 143.1 \nL 712.898147 143.1 \nL 712.9155 266.645455 \nL 712.950207 143.1 \nL 713.1758 143.1 \nL 713.262567 266.645455 \nL 713.331981 143.1 \nL 713.453454 266.645455 \nL 713.540221 101.918182 \nL 713.574927 143.1 \nL 713.731107 143.1 \nL 713.835227 266.645455 \nL 713.852581 143.1 \nL 714.026114 266.645455 \nL 717.722375 266.645455 \nL 718.208268 143.1 \nL 718.694161 266.645455 \nL 718.711515 101.918182 \nL 718.798281 266.645455 \nL 720.620382 266.645455 \nL 720.637735 225.463636 \nL 720.811268 266.645455 \nL 722.008649 266.645455 \nL 722.026002 101.918182 \nL 722.199535 143.1 \nL 722.338362 266.645455 \nL 722.373069 266.645455 \nL 722.442482 143.1 \nL 722.702782 266.645455 \nL 723.084556 266.645455 \nL 723.206029 143.1 \nL 723.501036 143.1 \nL 723.622509 266.645455 \nL 723.639862 266.645455 \nL 723.674569 225.463636 \nL 723.743982 266.645455 \nL 723.917516 266.645455 \nL 724.125756 143.1 \nL 724.542236 143.1 \nL 724.767829 266.645455 \nL 724.785182 225.463636 \nL 724.819889 225.463636 \nL 724.941363 266.645455 \nL 724.993423 266.645455 \nL 725.010776 225.463636 \nL 725.097543 266.645455 \nL 725.635496 266.645455 \nL 725.652849 101.918182 \nL 726.051976 266.645455 \nL 726.069329 225.463636 \nL 726.104036 266.645455 \nL 726.815523 266.645455 \nL 726.832876 225.463636 \nL 726.90229 266.645455 \nL 727.457596 143.1 \nL 727.978196 266.645455 \nL 728.030256 266.645455 \nL 728.04761 101.918182 \nL 728.117023 266.645455 \nL 729.019397 266.645455 \nL 729.08881 143.1 \nL 729.418523 266.645455 \nL 730.720024 266.645455 \nL 731.084444 143.1 \nL 731.48357 266.645455 \nL 731.518277 143.1 \nL 731.58769 266.645455 \nL 731.865344 266.645455 \nL 731.934757 225.463636 \nL 732.05623 266.645455 \nL 732.299177 266.645455 \nL 733.531264 143.1 \nL 733.635384 266.645455 \nL 734.728644 266.645455 \nL 734.867471 143.1 \nL 735.266598 225.463636 \nL 735.596311 266.645455 \nL 737.262231 266.645455 \nL 737.279585 143.1 \nL 737.331645 266.645455 \nL 737.591945 266.645455 \nL 737.661358 225.463636 \nL 737.678711 266.645455 \nL 737.713418 266.645455 \nL 737.904305 143.1 \nL 738.095191 266.645455 \nL 738.476965 266.645455 \nL 738.494318 143.1 \nL 739.414045 143.1 \nL 739.743758 266.645455 \nL 739.795818 143.1 \nL 740.108178 143.1 \nL 740.229652 266.645455 \nL 741.062612 266.645455 \nL 741.201439 143.1 \nL 741.583212 266.645455 \nL 742.225285 143.1 \nL 742.867359 143.1 \nL 743.127659 266.645455 \nL 743.891206 266.645455 \nL 743.908559 184.281818 \nL 743.995326 266.645455 \nL 745.990959 266.645455 \nL 746.077726 184.281818 \nL 746.424793 266.645455 \nL 746.806566 266.645455 \nL 746.87598 101.918182 \nL 747.257753 266.645455 \nL 747.70894 143.1 \nL 748.160127 266.645455 \nL 748.923673 225.463636 \nL 748.95838 266.645455 \nL 749.392213 266.645455 \nL 749.860753 143.1 \nL 750.15576 266.645455 \nL 750.31194 266.645455 \nL 750.364 143.1 \nL 751.422554 266.645455 \nL 752.359634 266.645455 \nL 752.446401 143.1 \nL 752.724054 266.645455 \nL 754.181734 266.645455 \nL 754.268501 143.1 \nL 754.303208 266.645455 \nL 754.355268 143.1 \nL 754.771748 266.645455 \nL 754.962634 266.645455 \nL 755.101461 143.1 \nL 755.222934 143.1 \nL 755.587354 266.645455 \nL 756.923561 266.645455 \nL 757.270628 225.463636 \nL 757.374748 266.645455 \nL 757.791228 266.645455 \nL 758.034175 184.281818 \nL 758.485362 225.463636 \nL 758.537422 184.281818 \nL 758.606835 266.645455 \nL 759.578622 266.645455 \nL 759.700095 225.463636 \nL 759.734802 225.463636 \nL 759.856275 266.645455 \nL 759.995102 266.645455 \nL 760.012455 225.463636 \nL 760.099222 266.645455 \nL 760.376875 266.645455 \nL 760.394229 225.463636 \nL 760.480995 266.645455 \nL 760.706589 266.645455 \nL 760.776002 143.1 \nL 760.810709 225.463636 \nL 760.932182 266.645455 \nL 760.984242 266.645455 \nL 761.036302 225.463636 \nL 761.088362 266.645455 \nL 761.400722 266.645455 \nL 761.452782 225.463636 \nL 761.504842 266.645455 \nL 762.251036 266.645455 \nL 762.268389 225.463636 \nL 762.355156 266.645455 \nL 762.389862 266.645455 \nL 762.424569 225.463636 \nL 762.493982 266.645455 \nL 763.118702 266.645455 \nL 763.205469 184.281818 \nL 763.222822 266.645455 \nL 763.500476 266.645455 \nL 763.587242 184.281818 \nL 763.621949 225.463636 \nL 763.656656 225.463636 \nL 763.778129 266.645455 \nL 763.934309 266.645455 \nL 764.021076 225.463636 \nL 764.038429 266.645455 \nL 764.090489 266.645455 \nL 764.211963 225.463636 \nL 764.298729 225.463636 \nL 764.385496 266.645455 \nL 764.402849 225.463636 \nL 764.420203 225.463636 \nL 764.541676 266.645455 \nL 764.680503 266.645455 \nL 764.697856 225.463636 \nL 764.784623 266.645455 \nL 764.871389 266.645455 \nL 764.940803 143.1 \nL 764.975509 266.645455 \nL 765.166396 266.645455 \nL 765.218456 225.463636 \nL 765.270516 266.645455 \nL 765.426696 266.645455 \nL 765.530816 225.463636 \nL 765.65229 266.645455 \nL 765.773763 225.463636 \nL 765.825823 225.463636 \nL 765.947296 266.645455 \nL 766.190243 266.645455 \nL 766.207596 225.463636 \nL 766.294363 266.645455 \nL 766.38113 266.645455 \nL 766.450543 184.281818 \nL 766.48525 266.645455 \nL 766.814963 266.645455 \nL 766.936436 225.463636 \nL 767.05791 266.645455 \nL 767.21409 266.645455 \nL 767.231443 184.281818 \nL 767.31821 266.645455 \nL 768.550297 266.645455 \nL 768.56765 225.463636 \nL 768.654417 266.645455 \nL 769.29649 266.645455 \nL 769.34855 225.463636 \nL 769.40061 266.645455 \nL 769.799737 266.645455 \nL 769.834444 225.463636 \nL 769.903857 266.645455 \nL 770.007977 266.645455 \nL 770.060037 225.463636 \nL 770.112097 266.645455 \nL 770.146804 266.645455 \nL 770.216217 225.463636 \nL 770.250924 266.645455 \nL 770.580637 266.645455 \nL 770.667404 225.463636 \nL 770.684757 266.645455 \nL 771.344184 266.645455 \nL 771.465657 225.463636 \nL 771.517717 225.463636 \nL 771.639191 266.645455 \nL 771.882137 266.645455 \nL 772.003611 225.463636 \nL 772.229204 225.463636 \nL 772.246557 184.281818 \nL 772.315971 266.645455 \nL 773.044811 266.645455 \nL 773.062164 184.281818 \nL 773.148931 266.645455 \nL 773.253051 266.645455 \nL 773.270404 143.1 \nL 773.357171 266.645455 \nL 773.895124 266.645455 \nL 773.912478 143.1 \nL 773.999244 266.645455 \nL 774.797498 266.645455 \nL 774.832204 184.281818 \nL 774.901618 266.645455 \nL 775.161918 266.645455 \nL 775.179271 225.463636 \nL 775.266038 266.645455 \nL 775.908111 266.645455 \nL 775.925465 143.1 \nL 776.012231 266.645455 \nL 776.359298 266.645455 \nL 776.498125 143.1 \nL 777.435205 266.645455 \nL 777.730212 266.645455 \nL 778.059925 143.1 \nL 778.181398 266.645455 \nL 778.997005 266.645455 \nL 779.014358 225.463636 \nL 779.101125 266.645455 \nL 779.326719 266.645455 \nL 779.534959 225.463636 \nL 779.639079 184.281818 \nL 779.673785 184.281818 \nL 779.691139 143.1 \nL 779.708492 266.645455 \nL 780.541452 266.645455 \nL 780.767045 143.1 \nL 780.975285 266.645455 \nL 781.912366 266.645455 \nL 782.016486 143.1 \nL 782.380906 266.645455 \nL 782.571792 184.281818 \nL 783.005626 225.463636 \nL 783.022979 184.281818 \nL 783.075039 266.645455 \nL 783.960059 266.645455 \nL 783.994766 225.463636 \nL 784.740959 266.645455 \nL 784.775666 143.1 \nL 784.793019 266.645455 \nL 785.088026 143.1 \nL 785.226853 266.645455 \nL 785.487153 184.281818 \nL 785.556566 266.645455 \nL 785.764806 143.1 \nL 785.9904 266.645455 \nL 786.736593 184.281818 \nL 786.858067 101.918182 \nL 786.87542 143.1 \nL 786.892773 143.1 \nL 786.92748 101.918182 \nL 786.996893 143.1 \nL 787.378667 143.1 \nL 787.673673 266.645455 \nL 787.847207 143.1 \nL 788.402513 184.281818 \nL 788.48928 143.1 \nL 788.975174 266.645455 \nL 789.3743 266.645455 \nL 789.651954 184.281818 \nL 789.808134 266.645455 \nL 789.929607 143.1 \nL 790.120494 266.645455 \nL 790.484914 184.281818 \nL 790.727861 266.645455 \nL 790.762567 143.1 \nL 791.074927 266.645455 \nL 791.092281 143.1 \nL 791.317874 225.463636 \nL 791.595527 143.1 \nL 792.324367 266.645455 \nL 792.567314 184.281818 \nL 792.706141 266.645455 \nL 793.573808 266.645455 \nL 793.903521 143.1 \nL 793.955581 266.645455 \nL 794.233234 184.281818 \nL 794.320001 266.645455 \nL 794.441474 143.1 \nL 794.701775 143.1 \nL 794.736481 266.645455 \nL 794.771188 143.1 \nL 795.083548 143.1 \nL 795.586795 266.645455 \nL 795.604148 225.463636 \nL 795.638855 266.645455 \nL 796.176808 143.1 \nL 796.350341 143.1 \nL 796.454461 266.645455 \nL 796.471815 225.463636 \nL 796.489168 101.918182 \nL 796.923002 143.1 \nL 796.975062 266.645455 \nL 797.148595 184.281818 \nL 797.287422 266.645455 \nL 797.322128 143.1 \nL 797.755962 266.645455 \nL 797.773315 143.1 \nL 798.137735 266.645455 \nL 798.259208 143.1 \nL 798.432742 184.281818 \nL 798.484802 101.918182 \nL 798.554215 266.645455 \nL 798.675689 143.1 \nL 798.866575 143.1 \nL 799.005402 225.463636 \nL 799.335115 266.645455 \nL 799.439235 143.1 \nL 799.751595 266.645455 \nL 800.619262 266.645455 \nL 801.035742 101.918182 \nL 801.417516 266.645455 \nL 801.851349 266.645455 \nL 801.868702 225.463636 \nL 801.955469 266.645455 \nL 801.972822 266.645455 \nL 802.007529 143.1 \nL 802.267829 266.645455 \nL 803.794923 184.281818 \nL 803.812276 19.554545 \nL 803.829629 184.281818 \nL 804.037869 266.645455 \nL 804.228756 184.281818 \nL 804.315523 266.645455 \nL 804.732003 143.1 \nL 804.81877 266.645455 \nL 804.92289 143.1 \nL 805.165836 266.645455 \nL 805.634376 143.1 \nL 805.825263 266.645455 \nL 805.894676 184.281818 \nL 806.38057 266.645455 \nL 806.519397 266.645455 \nL 806.58881 143.1 \nL 806.918523 266.645455 \nL 807.716777 266.645455 \nL 807.73413 101.918182 \nL 807.751483 266.645455 \nL 808.04649 225.463636 \nL 808.063843 266.645455 \nL 808.584444 266.645455 \nL 808.810037 225.463636 \nL 808.966217 143.1 \nL 809.313284 266.645455 \nL 810.059477 225.463636 \nL 810.128891 266.645455 \nL 810.215657 143.1 \nL 810.562724 266.645455 \nL 810.753611 143.1 \nL 810.927144 143.1 \nL 811.065971 266.645455 \nL 811.482451 266.645455 \nL 811.534511 143.1 \nL 811.551864 266.645455 \nL 812.541004 266.645455 \nL 812.645124 184.281818 \nL 812.766598 266.645455 \nL 812.801304 143.1 \nL 812.836011 266.645455 \nL 812.974838 266.645455 \nL 813.078958 184.281818 \nL 813.096311 266.645455 \nL 813.165724 184.281818 \nL 813.877211 266.645455 \nL 813.894564 225.463636 \nL 814.050745 266.645455 \nL 814.311045 143.1 \nL 814.328398 266.645455 \nL 814.779585 266.645455 \nL 814.918411 143.1 \nL 815.126651 266.645455 \nL 816.029025 266.645455 \nL 816.046378 225.463636 \nL 816.775218 266.645455 \nL 816.809925 184.281818 \nL 816.879338 225.463636 \nL 816.948752 184.281818 \nL 817.469352 266.645455 \nL 818.250252 266.645455 \nL 818.406432 225.463636 \nL 818.545259 266.645455 \nL 818.909679 266.645455 \nL 818.979092 143.1 \nL 819.291452 266.645455 \nL 819.343512 143.1 \nL 819.360865 266.645455 \nL 819.464985 266.645455 \nL 819.517045 225.463636 \nL 819.517045 225.463636 \n\" style=\"fill:none;stroke:#1f77b4;stroke-linecap:square;stroke-width:1.5;\"/>\n   </g>\n   <g id=\"patch_3\">\n    <path d=\"M 20.5625 279 \nL 20.5625 7.2 \n\" style=\"fill:none;stroke:#000000;stroke-linecap:square;stroke-linejoin:miter;stroke-width:0.8;\"/>\n   </g>\n   <g id=\"patch_4\">\n    <path d=\"M 857.5625 279 \nL 857.5625 7.2 \n\" style=\"fill:none;stroke:#000000;stroke-linecap:square;stroke-linejoin:miter;stroke-width:0.8;\"/>\n   </g>\n   <g id=\"patch_5\">\n    <path d=\"M 20.5625 279 \nL 857.5625 279 \n\" style=\"fill:none;stroke:#000000;stroke-linecap:square;stroke-linejoin:miter;stroke-width:0.8;\"/>\n   </g>\n   <g id=\"patch_6\">\n    <path d=\"M 20.5625 7.2 \nL 857.5625 7.2 \n\" style=\"fill:none;stroke:#000000;stroke-linecap:square;stroke-linejoin:miter;stroke-width:0.8;\"/>\n   </g>\n  </g>\n </g>\n <defs>\n  <clipPath id=\"pf5b79497a3\">\n   <rect height=\"271.8\" width=\"837\" x=\"20.5625\" y=\"7.2\"/>\n  </clipPath>\n </defs>\n</svg>\n",
      "image/png": "[encoded data removed]"
     },
     "metadata": {
      "needs_background": "light"
     }
    },
    {
     "output_type": "execute_result",
     "data": {
      "text/plain": [
       "      device_id  pm25                time\n",
       "108      daxing   NaN 2016-01-05 12:00:00\n",
       "109      daxing   NaN 2016-01-05 13:00:00\n",
       "212      daxing   NaN 2016-01-09 20:00:00\n",
       "274      daxing   NaN 2016-01-12 10:00:00\n",
       "685      daxing   NaN 2016-01-29 13:00:00\n",
       "...         ...   ...                 ...\n",
       "43695     1061A   NaN 2020-12-25 15:00:00\n",
       "43696     1061A   NaN 2020-12-25 16:00:00\n",
       "43700     1061A   NaN 2020-12-25 20:00:00\n",
       "43845     1061A   NaN 2020-12-31 21:00:00\n",
       "43848     1061A   NaN 2021-01-01 00:00:00\n",
       "\n",
       "[22521 rows x 3 columns]"
      ],
      "text/html": "<div>\n<style scoped>\n    .dataframe tbody tr th:only-of-type {\n        vertical-align: middle;\n    }\n\n    .dataframe tbody tr th {\n        vertical-align: top;\n    }\n\n    .dataframe thead th {\n        text-align: right;\n    }\n</style>\n<table border=\"1\" class=\"dataframe\">\n  <thead>\n    <tr style=\"text-align: right;\">\n      <th></th>\n      <th>device_id</th>\n      <th>pm25</th>\n      <th>time</th>\n    </tr>\n  </thead>\n  <tbody>\n    <tr>\n      <th>108</th>\n      <td>daxing</td>\n      <td>NaN</td>\n      <td>2016-01-05 12:00:00</td>\n    </tr>\n    <tr>\n      <th>109</th>\n      <td>daxing</td>\n      <td>NaN</td>\n      <td>2016-01-05 13:00:00</td>\n    </tr>\n    <tr>\n      <th>212</th>\n      <td>daxing</td>\n      <td>NaN</td>\n      <td>2016-01-09 20:00:00</td>\n    </tr>\n    <tr>\n      <th>274</th>\n      <td>daxing</td>\n      <td>NaN</td>\n      <td>2016-01-12 10:00:00</td>\n    </tr>\n    <tr>\n      <th>685</th>\n      <td>daxing</td>\n      <td>NaN</td>\n      <td>2016-01-29 13:00:00</td>\n    </tr>\n    <tr>\n      <th>...</th>\n      <td>...</td>\n      <td>...</td>\n      <td>...</td>\n    </tr>\n    <tr>\n      <th>43695</th>\n      <td>1061A</td>\n      <td>NaN</td>\n      <td>2020-12-25 15:00:00</td>\n    </tr>\n    <tr>\n      <th>43696</th>\n      <td>1061A</td>\n      <td>NaN</td>\n      <td>2020-12-25 16:00:00</td>\n    </tr>\n    <tr>\n      <th>43700</th>\n      <td>1061A</td>\n      <td>NaN</td>\n      <td>2020-12-25 20:00:00</td>\n    </tr>\n    <tr>\n      <th>43845</th>\n      <td>1061A</td>\n      <td>NaN</td>\n      <td>2020-12-31 21:00:00</td>\n    </tr>\n    <tr>\n      <th>43848</th>\n      <td>1061A</td>\n      <td>NaN</td>\n      <td>2021-01-01 00:00:00</td>\n    </tr>\n  </tbody>\n</table>\n<p>22521 rows × 3 columns</p>\n</div>"
     },
     "metadata": {},
     "execution_count": 14
    }
   ],
   "source": [
    "rel_fields = ['device_id', 'pm25', 'time', #'temperature', 'humidity', 'windSpeed', 'windBearing', 'precipIntensity'\n",
    "            ]\n",
    "rel_devices = [ 'qianmen', 'changping', 'daxing', 'shunyi', # Beijing\n",
    "                '1056A', # Baoding\n",
    "                # '1069A', # Langfang\n",
    "                '1061A', # Zhangjiakou\n",
    "                '1037A', # Tangshan\n",
    "                ]\n",
    "\n",
    "relevant = data.measurements[rel_fields]\n",
    "relevant = relevant[relevant['device_id'].isin(rel_devices)]\n",
    "\n",
    "relevant_missing = analyse_missing_data(relevant)\n",
    "relevant_missing"
   ]
  },
  {
   "cell_type": "code",
   "execution_count": 15,
   "metadata": {},
   "outputs": [
    {
     "output_type": "display_data",
     "data": {
      "application/vnd.plotly.v1+json": {
       "config": {
        "plotlyServerURL": "https://plot.ly"
       },
       "data": [
        {
         "customdata": [
          [
           "dongsi",
           null
          ],
          [
           "tiantan",
           null
          ],
          [
           "guanyuan",
           null
          ],
          [
           "wanshouxigong",
           null
          ],
          [
           "aotizhongxin",
           null
          ],
          [
           "nongzhanguan",
           null
          ],
          [
           "wanliu",
           null
          ],
          [
           "beibuxinqu",
           null
          ],
          [
           "zhiwuyuan",
           null
          ],
          [
           "fengtaihuayuan",
           null
          ],
          [
           "yungang",
           null
          ],
          [
           "gucheng",
           null
          ],
          [
           "fangshan",
           null
          ],
          [
           "daxing",
           null
          ],
          [
           "yizhuang",
           null
          ],
          [
           "tongzhou",
           null
          ],
          [
           "shunyi",
           null
          ],
          [
           "changping",
           null
          ],
          [
           "mentougou",
           null
          ],
          [
           "pinggu",
           null
          ],
          [
           "huairou",
           null
          ],
          [
           "miyun",
           null
          ],
          [
           "yanqing",
           null
          ],
          [
           "dingling",
           null
          ],
          [
           "badaling",
           null
          ],
          [
           "miyunshuiku",
           null
          ],
          [
           "donggaocun",
           null
          ],
          [
           "yongledian",
           null
          ],
          [
           "yufa",
           null
          ],
          [
           "liulihe",
           null
          ],
          [
           "qianmen",
           null
          ],
          [
           "yongdingmennei",
           null
          ],
          [
           "xizhimenbei",
           null
          ],
          [
           "nansanhuan",
           null
          ],
          [
           "dongsihuan",
           null
          ],
          [
           "1029A",
           "Staff Hospital"
          ],
          [
           "1030A",
           "High-tech Zone"
          ],
          [
           "1031A",
           "Northwest Water Source"
          ],
          [
           "1032A",
           "Southwest Higher Education"
          ],
          [
           "1033A",
           "Century Park"
          ],
          [
           "1034A",
           "People's Hall"
          ],
          [
           "1035A",
           "Fenglong Mountain"
          ],
          [
           "1036A",
           "Supply and Marketing Cooperative"
          ],
          [
           "1037A",
           "radar station"
          ],
          [
           "1038A",
           "Material Bureau"
          ],
          [
           "1039A",
           "Ceramic Company"
          ],
          [
           "1040A",
           "Twelfth Middle School"
          ],
          [
           "1041A",
           "Xiaoshan"
          ],
          [
           "1042A",
           "Beidaihe Environmental Protection Bureau"
          ],
          [
           "1043A",
           "the first pass"
          ],
          [
           "1044A",
           "Monitoring Station"
          ],
          [
           "1045A",
           "Municipal Government"
          ],
          [
           "1046A",
           "Jianshe Building"
          ],
          [
           "1047A",
           "Environmental Protection Bureau"
          ],
          [
           "1048A",
           "East Sewage Treatment Plant"
          ],
          [
           "1049A",
           "Mining Institute"
          ],
          [
           "1050A",
           "Congtai Park"
          ],
          [
           "1051A",
           "Swimming Pool"
          ],
          [
           "1052A",
           "Huadian District 2"
          ],
          [
           "1053A",
           "Reception Center"
          ],
          [
           "1054A",
           "Surface Water Plant"
          ],
          [
           "1055A",
           "Film Factory"
          ],
          [
           "1056A",
           "Monitoring Station"
          ],
          [
           "1057A",
           "People's Park"
          ],
          [
           "1058A",
           "Tanji Factory"
          ],
          [
           "1059A",
           "Hardware Depot"
          ],
          [
           "1060A",
           "Century Plaza"
          ],
          [
           "1061A",
           "North Pump House"
          ],
          [
           "1062A",
           "Railway"
          ],
          [
           "1063A",
           "Bank of China"
          ],
          [
           "1064A",
           "Development Zone"
          ],
          [
           "1065A",
           "Cultural Center"
          ],
          [
           "1066A",
           "Li Palace"
          ],
          [
           "1067A",
           "Medicinal Materials Company"
          ],
          [
           "1068A",
           "Development Zone"
          ],
          [
           "1069A",
           "Environmental Monitoring Supervision Center"
          ],
          [
           "1070A",
           "Beihua University of Aeronautics and Astronautics"
          ],
          [
           "1071A",
           "Cang County Urban Construction Bureau"
          ],
          [
           "1072A",
           "TV relay station"
          ],
          [
           "1073A",
           "Municipal Environmental Protection Bureau"
          ],
          [
           "1074A",
           "North Motor Factory"
          ],
          [
           "1075A",
           "City Monitoring Station"
          ],
          [
           "1076A",
           "Municipal Environmental Protection Bureau"
          ],
          [
           "1077A",
           "Dahuo Spring"
          ],
          [
           "1078A",
           "Xing Teachers College"
          ],
          [
           "1079A",
           "Road and Bridge Company"
          ],
          [
           "1080A",
           "Municipal Environmental Protection Bureau"
          ]
         ],
         "hovertemplate": "<b>%{hovertext}</b><br><br>lat=%{lat}<br>lon=%{lon}<br>device_id=%{customdata[0]}<br>device_name=%{customdata[1]}<br>color=%{marker.color}<extra></extra>",
         "hovertext": [
          "Beijing",
          "Beijing",
          "Beijing",
          "Beijing",
          "Beijing",
          "Beijing",
          "Beijing",
          "Beijing",
          "Beijing",
          "Beijing",
          "Beijing",
          "Beijing",
          "Beijing",
          "Beijing",
          "Beijing",
          "Beijing",
          "Beijing",
          "Beijing",
          "Beijing",
          "Beijing",
          "Beijing",
          "Beijing",
          "Beijing",
          "Beijing",
          "Beijing",
          "Beijing",
          "Beijing",
          "Beijing",
          "Beijing",
          "Beijing",
          "Beijing",
          "Beijing",
          "Beijing",
          "Beijing",
          "Beijing",
          "Shijiazhuang",
          "Shijiazhuang",
          "Shijiazhuang",
          "Shijiazhuang",
          "Shijiazhuang",
          "Shijiazhuang",
          "Shijiazhuang",
          "Tangshan",
          "Tangshan",
          "Tangshan",
          "Tangshan",
          "Tangshan",
          "Tangshan",
          "Qinhuangdao",
          "Qinhuangdao",
          "Qinhuangdao",
          "Qinhuangdao",
          "Qinhuangdao",
          "Handan",
          "Handan",
          "Handan",
          "Handan",
          "Baoding",
          "Baoding",
          "Baoding",
          "Baoding",
          "Baoding",
          "Baoding",
          "Zhangjiakou",
          "Zhangjiakou",
          "Zhangjiakou",
          "Zhangjiakou",
          "Zhangjiakou",
          "Chengde",
          "Chengde",
          "Chengde",
          "Chengde",
          "Chengde",
          "Langfang",
          "Langfang",
          "Langfang",
          "Langfang",
          "Cangzhou",
          "Cangzhou",
          "Cangzhou",
          "Hengshui",
          "Hengshui",
          "Hengshui",
          "Xingtai",
          "Xingtai",
          "Xingtai",
          "Xingtai"
         ],
         "lat": [
          39.929,
          39.886,
          39.929,
          39.878,
          39.982,
          39.937,
          39.987,
          40.09,
          40.002,
          39.863,
          39.824,
          39.914,
          39.742,
          39.718,
          39.795,
          39.886,
          40.127,
          40.217,
          39.937,
          40.143,
          40.328,
          40.37,
          40.453,
          40.292,
          40.365,
          40.499,
          40.1,
          39.712,
          39.52,
          39.58,
          39.899,
          39.876,
          39.954,
          39.856,
          39.939,
          38.0513,
          38.0398,
          38.1398,
          38.00583333,
          38.01777778,
          38.0524,
          37.9097,
          39.6308,
          39.643,
          39.6407,
          39.6679,
          39.65782,
          39.6295,
          39.8283,
          40.0181,
          39.9567,
          39.9358,
          39.9419,
          36.61763,
          36.6164,
          36.5776,
          36.61981,
          38.8632,
          38.8957,
          38.9108,
          38.8416,
          38.8756,
          38.8707,
          40.8367,
          40.79481,
          40.8115,
          40.7688,
          40.8725,
          40.9161,
          40.9843,
          40.9359,
          40.9733,
          41.0112,
          39.5178,
          39.5747,
          39.5571,
          39.5343,
          38.2991,
          38.3254,
          38.3228,
          37.7575,
          37.7379,
          37.739,
          37.0967,
          37.0533,
          37.0964,
          37.062
         ],
         "legendgroup": "",
         "lon": [
          116.417,
          116.407,
          116.339,
          116.352,
          116.397,
          116.461,
          116.287,
          116.174,
          116.207,
          116.279,
          116.146,
          116.184,
          116.136,
          116.404,
          116.506,
          116.663,
          116.655,
          116.23,
          116.106,
          117.1,
          116.628,
          116.832,
          115.972,
          116.22,
          115.988,
          116.911,
          117.12,
          116.783,
          116.3,
          116,
          116.395,
          116.394,
          116.349,
          116.368,
          116.483,
          114.4548,
          114.6046,
          114.5019,
          114.4586111,
          114.53305559999998,
          114.5214,
          114.3541,
          118.1662,
          118.144,
          118.1853,
          118.2185,
          118.1838,
          118.1997,
          119.5259,
          119.7624,
          119.6023,
          119.607,
          119.5369,
          114.5129,
          114.5426,
          114.5035,
          114.4965,
          115.493,
          115.5223,
          115.4713,
          115.4612,
          115.442,
          115.5214,
          114.8985,
          114.892,
          114.8814,
          114.9032,
          114.904,
          117.9664,
          117.9525,
          117.963,
          117.8184,
          117.9384,
          116.6838,
          116.7729,
          116.715,
          116.7464,
          116.8854,
          116.8584,
          116.8709,
          115.6951,
          115.6426,
          115.6906,
          114.4821,
          114.5261,
          114.5331,
          114.4854
         ],
         "marker": {
          "color": [
           0,
           0,
           0,
           0,
           0,
           0,
           0,
           0,
           0,
           0,
           0,
           0,
           0,
           0,
           0,
           0,
           0,
           0,
           0,
           0,
           0,
           0,
           0,
           0,
           0,
           0,
           0,
           0,
           0,
           0,
           0,
           0,
           0,
           0,
           0,
           1,
           1,
           1,
           1,
           1,
           1,
           1,
           1,
           1,
           1,
           1,
           1,
           1,
           1,
           1,
           1,
           1,
           1,
           1,
           1,
           1,
           1,
           1,
           1,
           1,
           1,
           1,
           1,
           1,
           1,
           1,
           1,
           1,
           1,
           1,
           1,
           1,
           1,
           1,
           1,
           1,
           1,
           1,
           1,
           1,
           1,
           1,
           1,
           1,
           1,
           1,
           1
          ],
          "coloraxis": "coloraxis"
         },
         "mode": "markers",
         "name": "",
         "showlegend": false,
         "subplot": "mapbox",
         "type": "scattermapbox"
        }
       ],
       "layout": {
        "autosize": true,
        "coloraxis": {
         "colorbar": {
          "title": {
           "text": "color"
          }
         },
         "colorscale": [
          [
           0,
           "rgb(0,0,0)"
          ],
          [
           0.25,
           "rgb(230,0,0)"
          ],
          [
           0.5,
           "rgb(230,210,0)"
          ],
          [
           0.75,
           "rgb(255,255,255)"
          ],
          [
           1,
           "rgb(160,200,255)"
          ]
         ]
        },
        "height": 700,
        "hovermode": "closest",
        "legend": {
         "tracegroupgap": 0
        },
        "mapbox": {
         "bearing": 0,
         "center": {
          "lat": 39,
          "lon": 117
         },
         "domain": {
          "x": [
           0,
           1
          ],
          "y": [
           0,
           1
          ]
         },
         "pitch": 0,
         "style": "stamen-terrain",
         "zoom": 5
        },
        "margin": {
         "t": 60
        },
        "showlegend": false,
        "template": {
         "data": {
          "bar": [
           {
            "error_x": {
             "color": "#2a3f5f"
            },
            "error_y": {
             "color": "#2a3f5f"
            },
            "marker": {
             "line": {
              "color": "#E5ECF6",
              "width": 0.5
             }
            },
            "type": "bar"
           }
          ],
          "barpolar": [
           {
            "marker": {
             "line": {
              "color": "#E5ECF6",
              "width": 0.5
             }
            },
            "type": "barpolar"
           }
          ],
          "carpet": [
           {
            "aaxis": {
             "endlinecolor": "#2a3f5f",
             "gridcolor": "white",
             "linecolor": "white",
             "minorgridcolor": "white",
             "startlinecolor": "#2a3f5f"
            },
            "baxis": {
             "endlinecolor": "#2a3f5f",
             "gridcolor": "white",
             "linecolor": "white",
             "minorgridcolor": "white",
             "startlinecolor": "#2a3f5f"
            },
            "type": "carpet"
           }
          ],
          "choropleth": [
           {
            "colorbar": {
             "outlinewidth": 0,
             "ticks": ""
            },
            "type": "choropleth"
           }
          ],
          "contour": [
           {
            "colorbar": {
             "outlinewidth": 0,
             "ticks": ""
            },
            "colorscale": [
             [
              0,
              "#0d0887"
             ],
             [
              0.1111111111111111,
              "#46039f"
             ],
             [
              0.2222222222222222,
              "#7201a8"
             ],
             [
              0.3333333333333333,
              "#9c179e"
             ],
             [
              0.4444444444444444,
              "#bd3786"
             ],
             [
              0.5555555555555556,
              "#d8576b"
             ],
             [
              0.6666666666666666,
              "#ed7953"
             ],
             [
              0.7777777777777778,
              "#fb9f3a"
             ],
             [
              0.8888888888888888,
              "#fdca26"
             ],
             [
              1,
              "#f0f921"
             ]
            ],
            "type": "contour"
           }
          ],
          "contourcarpet": [
           {
            "colorbar": {
             "outlinewidth": 0,
             "ticks": ""
            },
            "type": "contourcarpet"
           }
          ],
          "heatmap": [
           {
            "colorbar": {
             "outlinewidth": 0,
             "ticks": ""
            },
            "colorscale": [
             [
              0,
              "#0d0887"
             ],
             [
              0.1111111111111111,
              "#46039f"
             ],
             [
              0.2222222222222222,
              "#7201a8"
             ],
             [
              0.3333333333333333,
              "#9c179e"
             ],
             [
              0.4444444444444444,
              "#bd3786"
             ],
             [
              0.5555555555555556,
              "#d8576b"
             ],
             [
              0.6666666666666666,
              "#ed7953"
             ],
             [
              0.7777777777777778,
              "#fb9f3a"
             ],
             [
              0.8888888888888888,
              "#fdca26"
             ],
             [
              1,
              "#f0f921"
             ]
            ],
            "type": "heatmap"
           }
          ],
          "heatmapgl": [
           {
            "colorbar": {
             "outlinewidth": 0,
             "ticks": ""
            },
            "colorscale": [
             [
              0,
              "#0d0887"
             ],
             [
              0.1111111111111111,
              "#46039f"
             ],
             [
              0.2222222222222222,
              "#7201a8"
             ],
             [
              0.3333333333333333,
              "#9c179e"
             ],
             [
              0.4444444444444444,
              "#bd3786"
             ],
             [
              0.5555555555555556,
              "#d8576b"
             ],
             [
              0.6666666666666666,
              "#ed7953"
             ],
             [
              0.7777777777777778,
              "#fb9f3a"
             ],
             [
              0.8888888888888888,
              "#fdca26"
             ],
             [
              1,
              "#f0f921"
             ]
            ],
            "type": "heatmapgl"
           }
          ],
          "histogram": [
           {
            "marker": {
             "colorbar": {
              "outlinewidth": 0,
              "ticks": ""
             }
            },
            "type": "histogram"
           }
          ],
          "histogram2d": [
           {
            "colorbar": {
             "outlinewidth": 0,
             "ticks": ""
            },
            "colorscale": [
             [
              0,
              "#0d0887"
             ],
             [
              0.1111111111111111,
              "#46039f"
             ],
             [
              0.2222222222222222,
              "#7201a8"
             ],
             [
              0.3333333333333333,
              "#9c179e"
             ],
             [
              0.4444444444444444,
              "#bd3786"
             ],
             [
              0.5555555555555556,
              "#d8576b"
             ],
             [
              0.6666666666666666,
              "#ed7953"
             ],
             [
              0.7777777777777778,
              "#fb9f3a"
             ],
             [
              0.8888888888888888,
              "#fdca26"
             ],
             [
              1,
              "#f0f921"
             ]
            ],
            "type": "histogram2d"
           }
          ],
          "histogram2dcontour": [
           {
            "colorbar": {
             "outlinewidth": 0,
             "ticks": ""
            },
            "colorscale": [
             [
              0,
              "#0d0887"
             ],
             [
              0.1111111111111111,
              "#46039f"
             ],
             [
              0.2222222222222222,
              "#7201a8"
             ],
             [
              0.3333333333333333,
              "#9c179e"
             ],
             [
              0.4444444444444444,
              "#bd3786"
             ],
             [
              0.5555555555555556,
              "#d8576b"
             ],
             [
              0.6666666666666666,
              "#ed7953"
             ],
             [
              0.7777777777777778,
              "#fb9f3a"
             ],
             [
              0.8888888888888888,
              "#fdca26"
             ],
             [
              1,
              "#f0f921"
             ]
            ],
            "type": "histogram2dcontour"
           }
          ],
          "mesh3d": [
           {
            "colorbar": {
             "outlinewidth": 0,
             "ticks": ""
            },
            "type": "mesh3d"
           }
          ],
          "parcoords": [
           {
            "line": {
             "colorbar": {
              "outlinewidth": 0,
              "ticks": ""
             }
            },
            "type": "parcoords"
           }
          ],
          "pie": [
           {
            "automargin": true,
            "type": "pie"
           }
          ],
          "scatter": [
           {
            "marker": {
             "colorbar": {
              "outlinewidth": 0,
              "ticks": ""
             }
            },
            "type": "scatter"
           }
          ],
          "scatter3d": [
           {
            "line": {
             "colorbar": {
              "outlinewidth": 0,
              "ticks": ""
             }
            },
            "marker": {
             "colorbar": {
              "outlinewidth": 0,
              "ticks": ""
             }
            },
            "type": "scatter3d"
           }
          ],
          "scattercarpet": [
           {
            "marker": {
             "colorbar": {
              "outlinewidth": 0,
              "ticks": ""
             }
            },
            "type": "scattercarpet"
           }
          ],
          "scattergeo": [
           {
            "marker": {
             "colorbar": {
              "outlinewidth": 0,
              "ticks": ""
             }
            },
            "type": "scattergeo"
           }
          ],
          "scattergl": [
           {
            "marker": {
             "colorbar": {
              "outlinewidth": 0,
              "ticks": ""
             }
            },
            "type": "scattergl"
           }
          ],
          "scattermapbox": [
           {
            "marker": {
             "colorbar": {
              "outlinewidth": 0,
              "ticks": ""
             }
            },
            "type": "scattermapbox"
           }
          ],
          "scatterpolar": [
           {
            "marker": {
             "colorbar": {
              "outlinewidth": 0,
              "ticks": ""
             }
            },
            "type": "scatterpolar"
           }
          ],
          "scatterpolargl": [
           {
            "marker": {
             "colorbar": {
              "outlinewidth": 0,
              "ticks": ""
             }
            },
            "type": "scatterpolargl"
           }
          ],
          "scatterternary": [
           {
            "marker": {
             "colorbar": {
              "outlinewidth": 0,
              "ticks": ""
             }
            },
            "type": "scatterternary"
           }
          ],
          "surface": [
           {
            "colorbar": {
             "outlinewidth": 0,
             "ticks": ""
            },
            "colorscale": [
             [
              0,
              "#0d0887"
             ],
             [
              0.1111111111111111,
              "#46039f"
             ],
             [
              0.2222222222222222,
              "#7201a8"
             ],
             [
              0.3333333333333333,
              "#9c179e"
             ],
             [
              0.4444444444444444,
              "#bd3786"
             ],
             [
              0.5555555555555556,
              "#d8576b"
             ],
             [
              0.6666666666666666,
              "#ed7953"
             ],
             [
              0.7777777777777778,
              "#fb9f3a"
             ],
             [
              0.8888888888888888,
              "#fdca26"
             ],
             [
              1,
              "#f0f921"
             ]
            ],
            "type": "surface"
           }
          ],
          "table": [
           {
            "cells": {
             "fill": {
              "color": "#EBF0F8"
             },
             "line": {
              "color": "white"
             }
            },
            "header": {
             "fill": {
              "color": "#C8D4E3"
             },
             "line": {
              "color": "white"
             }
            },
            "type": "table"
           }
          ]
         },
         "layout": {
          "annotationdefaults": {
           "arrowcolor": "#2a3f5f",
           "arrowhead": 0,
           "arrowwidth": 1
          },
          "autotypenumbers": "strict",
          "coloraxis": {
           "colorbar": {
            "outlinewidth": 0,
            "ticks": ""
           }
          },
          "colorscale": {
           "diverging": [
            [
             0,
             "#8e0152"
            ],
            [
             0.1,
             "#c51b7d"
            ],
            [
             0.2,
             "#de77ae"
            ],
            [
             0.3,
             "#f1b6da"
            ],
            [
             0.4,
             "#fde0ef"
            ],
            [
             0.5,
             "#f7f7f7"
            ],
            [
             0.6,
             "#e6f5d0"
            ],
            [
             0.7,
             "#b8e186"
            ],
            [
             0.8,
             "#7fbc41"
            ],
            [
             0.9,
             "#4d9221"
            ],
            [
             1,
             "#276419"
            ]
           ],
           "sequential": [
            [
             0,
             "#0d0887"
            ],
            [
             0.1111111111111111,
             "#46039f"
            ],
            [
             0.2222222222222222,
             "#7201a8"
            ],
            [
             0.3333333333333333,
             "#9c179e"
            ],
            [
             0.4444444444444444,
             "#bd3786"
            ],
            [
             0.5555555555555556,
             "#d8576b"
            ],
            [
             0.6666666666666666,
             "#ed7953"
            ],
            [
             0.7777777777777778,
             "#fb9f3a"
            ],
            [
             0.8888888888888888,
             "#fdca26"
            ],
            [
             1,
             "#f0f921"
            ]
           ],
           "sequentialminus": [
            [
             0,
             "#0d0887"
            ],
            [
             0.1111111111111111,
             "#46039f"
            ],
            [
             0.2222222222222222,
             "#7201a8"
            ],
            [
             0.3333333333333333,
             "#9c179e"
            ],
            [
             0.4444444444444444,
             "#bd3786"
            ],
            [
             0.5555555555555556,
             "#d8576b"
            ],
            [
             0.6666666666666666,
             "#ed7953"
            ],
            [
             0.7777777777777778,
             "#fb9f3a"
            ],
            [
             0.8888888888888888,
             "#fdca26"
            ],
            [
             1,
             "#f0f921"
            ]
           ]
          },
          "colorway": [
           "#636efa",
           "#EF553B",
           "#00cc96",
           "#ab63fa",
           "#FFA15A",
           "#19d3f3",
           "#FF6692",
           "#B6E880",
           "#FF97FF",
           "#FECB52"
          ],
          "font": {
           "color": "#2a3f5f"
          },
          "geo": {
           "bgcolor": "white",
           "lakecolor": "white",
           "landcolor": "#E5ECF6",
           "showlakes": true,
           "showland": true,
           "subunitcolor": "white"
          },
          "hoverlabel": {
           "align": "left"
          },
          "hovermode": "closest",
          "mapbox": {
           "style": "light"
          },
          "paper_bgcolor": "white",
          "plot_bgcolor": "#E5ECF6",
          "polar": {
           "angularaxis": {
            "gridcolor": "white",
            "linecolor": "white",
            "ticks": ""
           },
           "bgcolor": "#E5ECF6",
           "radialaxis": {
            "gridcolor": "white",
            "linecolor": "white",
            "ticks": ""
           }
          },
          "scene": {
           "xaxis": {
            "backgroundcolor": "#E5ECF6",
            "gridcolor": "white",
            "gridwidth": 2,
            "linecolor": "white",
            "showbackground": true,
            "ticks": "",
            "zerolinecolor": "white"
           },
           "yaxis": {
            "backgroundcolor": "#E5ECF6",
            "gridcolor": "white",
            "gridwidth": 2,
            "linecolor": "white",
            "showbackground": true,
            "ticks": "",
            "zerolinecolor": "white"
           },
           "zaxis": {
            "backgroundcolor": "#E5ECF6",
            "gridcolor": "white",
            "gridwidth": 2,
            "linecolor": "white",
            "showbackground": true,
            "ticks": "",
            "zerolinecolor": "white"
           }
          },
          "shapedefaults": {
           "line": {
            "color": "#2a3f5f"
           }
          },
          "ternary": {
           "aaxis": {
            "gridcolor": "white",
            "linecolor": "white",
            "ticks": ""
           },
           "baxis": {
            "gridcolor": "white",
            "linecolor": "white",
            "ticks": ""
           },
           "bgcolor": "#E5ECF6",
           "caxis": {
            "gridcolor": "white",
            "linecolor": "white",
            "ticks": ""
           }
          },
          "title": {
           "x": 0.05
          },
          "xaxis": {
           "automargin": true,
           "gridcolor": "white",
           "linecolor": "white",
           "ticks": "",
           "title": {
            "standoff": 15
           },
           "zerolinecolor": "white",
           "zerolinewidth": 2
          },
          "yaxis": {
           "automargin": true,
           "gridcolor": "white",
           "linecolor": "white",
           "ticks": "",
           "title": {
            "standoff": 15
           },
           "zerolinecolor": "white",
           "zerolinewidth": 2
          }
         }
        },
        "title": {
         "text": "Devices"
        },
        "width": 1000
       }
      }
     },
     "metadata": {}
    }
   ],
   "source": [
    "show_sensor_map(data.metadata)"
   ]
  },
  {
   "source": [
    "Super surrounding\n",
    "- Baoding (south-west)\n",
    "- Langfang (south-east)\n",
    "- Zhangjiakou (north)\n",
    "- Tangshan (east)\n",
    "\n",
    "In the area:\n",
    "- Shijiazhuang (south-west)\n",
    "\n",
    "Beijing:\n",
    "- qianmen (center)\n",
    "- changping (north)\n",
    "- daxing (south)\n",
    "- shunyi (north-east)"
   ],
   "cell_type": "markdown",
   "metadata": {}
  },
  {
   "source": [
    "### Analyse GNN results"
   ],
   "cell_type": "markdown",
   "metadata": {}
  },
  {
   "cell_type": "code",
   "execution_count": 22,
   "metadata": {},
   "outputs": [
    {
     "output_type": "execute_result",
     "data": {
      "text/plain": [
       "['1037A', '1056A', '1061A', 'changping', 'daxing', 'qianmen', 'shunyi']"
      ]
     },
     "metadata": {},
     "execution_count": 22
    }
   ],
   "source": [
    "# FIXME find a better solution for this\n",
    "rel_devices.sort()\n",
    "rel_devices"
   ]
  },
  {
   "cell_type": "code",
   "execution_count": 29,
   "metadata": {},
   "outputs": [
    {
     "output_type": "display_data",
     "data": {
      "text/plain": "interactive(children=(SelectMultiple(description='Devices', options=('1037A', '1037A_pred', '1056A', '1056A_pr…",
      "application/vnd.jupyter.widget-view+json": {
       "version_major": 2,
       "version_minor": 0,
       "model_id": "a43d4c87f14b4c8b97722ca2131a8ec7"
      }
     },
     "metadata": {}
    },
    {
     "output_type": "execute_result",
     "data": {
      "text/plain": [
       "<function __main__.plot_data(data, devices, date_range, feature, events=[], device_id_mapping=None)>"
      ]
     },
     "metadata": {},
     "execution_count": 29
    }
   ],
   "source": [
    "gnn_data_path = \"Previous work/PM2.5-GNN/data/\"\n",
    "result_path = gnn_data_path + 'results/1_24/1/PM25_GNN/20210307142226/00/'\n",
    "\n",
    "time_npy = np.load(result_path + 'time.npy')\n",
    "pred_npy = np.load(result_path + 'predict.npy')\n",
    "\n",
    "preds = gnn_prep.transform_preds_back(time_npy, pred_npy, rel_devices, '2020-01-20 07:00:00', melted=True)\n",
    "\n",
    "df = data.measurements.copy()\n",
    "df.index = df['time']\n",
    "df = df[df['device_id'].isin(preds['device_id'].unique())]\n",
    "\n",
    "preds['time'] = preds.index\n",
    "preds['device_id'] = preds['device_id'].apply(lambda x: x + \"_pred\")\n",
    "df = df.append(preds)\n",
    "\n",
    "devices = list(df['device_id'].unique())\n",
    "devices.sort()\n",
    "\n",
    "device_widget = widgets.SelectMultiple(\n",
    "    options=devices,\n",
    "    rows=15,\n",
    "    description='Devices',\n",
    "    disabled=False\n",
    ")\n",
    "\n",
    "interact_manual(plot_data, data=fixed(df), devices=device_widget, date_range=get_date_slider('2020-01-01'), feature=fixed('pm25'), events=fixed(data.events), device_id_mapping=fixed(None))"
   ]
  }
 ]
}