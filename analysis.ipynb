{
 "metadata": {
  "language_info": {
   "codemirror_mode": {
    "name": "ipython",
    "version": 3
   },
   "file_extension": ".py",
   "mimetype": "text/x-python",
   "name": "python",
   "nbconvert_exporter": "python",
   "pygments_lexer": "ipython3",
   "version": "3.9.1-final"
  },
  "orig_nbformat": 2,
  "kernelspec": {
   "name": "python3",
   "display_name": "Python 3",
   "language": "python"
  }
 },
 "nbformat": 4,
 "nbformat_minor": 2,
 "cells": [
  {
   "cell_type": "code",
   "execution_count": 14,
   "metadata": {},
   "outputs": [],
   "source": [
    "from __future__ import print_function\n",
    "\n",
    "import plotly.express as px\n",
    "\n",
    "from IPython.display import display\n",
    "from ipywidgets import interact, interactive, fixed, interact_manual\n",
    "import ipywidgets as widgets\n",
    "\n",
    "import numpy as np\n",
    "import pandas as pd\n",
    "import geopandas as gpd\n",
    "\n",
    "import datetime\n",
    "import pickle\n",
    "\n",
    "import matplotlib.pyplot as plt\n",
    "import ndpretty\n",
    "\n",
    "import data_prep"
   ]
  },
  {
   "cell_type": "code",
   "execution_count": 15,
   "metadata": {},
   "outputs": [],
   "source": [
    "ndpretty.default()"
   ]
  },
  {
   "cell_type": "code",
   "execution_count": 16,
   "metadata": {},
   "outputs": [
    {
     "output_type": "display_data",
     "data": {
      "text/plain": "HBox(children=(FloatProgress(value=0.0, max=87.0), HTML(value='')))",
      "application/vnd.jupyter.widget-view+json": {
       "version_major": 2,
       "version_minor": 0,
       "model_id": "b56b412c59714e91a0b214fd30e40a79"
      }
     },
     "metadata": {}
    },
    {
     "output_type": "stream",
     "name": "stdout",
     "text": [
      "\n",
      "Loaded air quality data from 87 devices. No weather data for ['fangshan', 'miyun', 'yanqing', 'badaling', 'miyunshuiku', 'yufa', 'liulihe', '1042A', '1043A', '1044A', '1045A', '1046A', '1047A', '1048A', '1049A', '1050A', '1067A', '1068A', '1069A', '1070A', '1074A', '1075A', '1076A']\n"
     ]
    }
   ],
   "source": [
    "data = data_prep.load_beijing_data()"
   ]
  },
  {
   "source": [
    "# Analysis\n",
    "\n",
    "## Sensors"
   ],
   "cell_type": "markdown",
   "metadata": {}
  },
  {
   "cell_type": "code",
   "execution_count": 18,
   "metadata": {},
   "outputs": [
    {
     "output_type": "display_data",
     "data": {
      "application/vnd.plotly.v1+json": {
       "config": {
        "plotlyServerURL": "https://plot.ly"
       },
       "data": [
        {
         "customdata": [
          [
           "dongsi",
           null
          ],
          [
           "tiantan",
           null
          ],
          [
           "guanyuan",
           null
          ],
          [
           "wanshouxigong",
           null
          ],
          [
           "aotizhongxin",
           null
          ],
          [
           "nongzhanguan",
           null
          ],
          [
           "wanliu",
           null
          ],
          [
           "beibuxinqu",
           null
          ],
          [
           "zhiwuyuan",
           null
          ],
          [
           "fengtaihuayuan",
           null
          ],
          [
           "yungang",
           null
          ],
          [
           "gucheng",
           null
          ],
          [
           "fangshan",
           null
          ],
          [
           "daxing",
           null
          ],
          [
           "yizhuang",
           null
          ],
          [
           "tongzhou",
           null
          ],
          [
           "shunyi",
           null
          ],
          [
           "changping",
           null
          ],
          [
           "mentougou",
           null
          ],
          [
           "pinggu",
           null
          ],
          [
           "huairou",
           null
          ],
          [
           "miyun",
           null
          ],
          [
           "yanqing",
           null
          ],
          [
           "dingling",
           null
          ],
          [
           "badaling",
           null
          ],
          [
           "miyunshuiku",
           null
          ],
          [
           "donggaocun",
           null
          ],
          [
           "yongledian",
           null
          ],
          [
           "yufa",
           null
          ],
          [
           "liulihe",
           null
          ],
          [
           "qianmen",
           null
          ],
          [
           "yongdingmennei",
           null
          ],
          [
           "xizhimenbei",
           null
          ],
          [
           "nansanhuan",
           null
          ],
          [
           "dongsihuan",
           null
          ],
          [
           "1029A",
           "Staff Hospital"
          ],
          [
           "1030A",
           "High-tech Zone"
          ],
          [
           "1031A",
           "Northwest Water Source"
          ],
          [
           "1032A",
           "Southwest Higher Education"
          ],
          [
           "1033A",
           "Century Park"
          ],
          [
           "1034A",
           "People's Hall"
          ],
          [
           "1035A",
           "Fenglong Mountain"
          ],
          [
           "1036A",
           "Supply and Marketing Cooperative"
          ],
          [
           "1037A",
           "radar station"
          ],
          [
           "1038A",
           "Material Bureau"
          ],
          [
           "1039A",
           "Ceramic Company"
          ],
          [
           "1040A",
           "Twelfth Middle School"
          ],
          [
           "1041A",
           "Xiaoshan"
          ],
          [
           "1042A",
           "Beidaihe Environmental Protection Bureau"
          ],
          [
           "1043A",
           "the first pass"
          ],
          [
           "1044A",
           "Monitoring Station"
          ],
          [
           "1045A",
           "Municipal Government"
          ],
          [
           "1046A",
           "Jianshe Building"
          ],
          [
           "1047A",
           "Environmental Protection Bureau"
          ],
          [
           "1048A",
           "East Sewage Treatment Plant"
          ],
          [
           "1049A",
           "Mining Institute"
          ],
          [
           "1050A",
           "Congtai Park"
          ],
          [
           "1051A",
           "Swimming Pool"
          ],
          [
           "1052A",
           "Huadian District 2"
          ],
          [
           "1053A",
           "Reception Center"
          ],
          [
           "1054A",
           "Surface Water Plant"
          ],
          [
           "1055A",
           "Film Factory"
          ],
          [
           "1056A",
           "Monitoring Station"
          ],
          [
           "1057A",
           "People's Park"
          ],
          [
           "1058A",
           "Tanji Factory"
          ],
          [
           "1059A",
           "Hardware Depot"
          ],
          [
           "1060A",
           "Century Plaza"
          ],
          [
           "1061A",
           "North Pump House"
          ],
          [
           "1062A",
           "Railway"
          ],
          [
           "1063A",
           "Bank of China"
          ],
          [
           "1064A",
           "Development Zone"
          ],
          [
           "1065A",
           "Cultural Center"
          ],
          [
           "1066A",
           "Li Palace"
          ],
          [
           "1067A",
           "Medicinal Materials Company"
          ],
          [
           "1068A",
           "Development Zone"
          ],
          [
           "1069A",
           "Environmental Monitoring Supervision Center"
          ],
          [
           "1070A",
           "Beihua University of Aeronautics and Astronautics"
          ],
          [
           "1071A",
           "Cang County Urban Construction Bureau"
          ],
          [
           "1072A",
           "TV relay station"
          ],
          [
           "1073A",
           "Municipal Environmental Protection Bureau"
          ],
          [
           "1074A",
           "North Motor Factory"
          ],
          [
           "1075A",
           "City Monitoring Station"
          ],
          [
           "1076A",
           "Municipal Environmental Protection Bureau"
          ],
          [
           "1077A",
           "Dahuo Spring"
          ],
          [
           "1078A",
           "Xing Teachers College"
          ],
          [
           "1079A",
           "Road and Bridge Company"
          ],
          [
           "1080A",
           "Municipal Environmental Protection Bureau"
          ]
         ],
         "hovertemplate": "<b>%{hovertext}</b><br><br>lat=%{lat}<br>lon=%{lon}<br>device_id=%{customdata[0]}<br>device_name=%{customdata[1]}<br>color=%{marker.color}<extra></extra>",
         "hovertext": [
          "Beijing",
          "Beijing",
          "Beijing",
          "Beijing",
          "Beijing",
          "Beijing",
          "Beijing",
          "Beijing",
          "Beijing",
          "Beijing",
          "Beijing",
          "Beijing",
          "Beijing",
          "Beijing",
          "Beijing",
          "Beijing",
          "Beijing",
          "Beijing",
          "Beijing",
          "Beijing",
          "Beijing",
          "Beijing",
          "Beijing",
          "Beijing",
          "Beijing",
          "Beijing",
          "Beijing",
          "Beijing",
          "Beijing",
          "Beijing",
          "Beijing",
          "Beijing",
          "Beijing",
          "Beijing",
          "Beijing",
          "Shijiazhuang",
          "Shijiazhuang",
          "Shijiazhuang",
          "Shijiazhuang",
          "Shijiazhuang",
          "Shijiazhuang",
          "Shijiazhuang",
          "Tangshan",
          "Tangshan",
          "Tangshan",
          "Tangshan",
          "Tangshan",
          "Tangshan",
          "Qinhuangdao",
          "Qinhuangdao",
          "Qinhuangdao",
          "Qinhuangdao",
          "Qinhuangdao",
          "Handan",
          "Handan",
          "Handan",
          "Handan",
          "Baoding",
          "Baoding",
          "Baoding",
          "Baoding",
          "Baoding",
          "Baoding",
          "Zhangjiakou",
          "Zhangjiakou",
          "Zhangjiakou",
          "Zhangjiakou",
          "Zhangjiakou",
          "Chengde",
          "Chengde",
          "Chengde",
          "Chengde",
          "Chengde",
          "Langfang",
          "Langfang",
          "Langfang",
          "Langfang",
          "Cangzhou",
          "Cangzhou",
          "Cangzhou",
          "Hengshui",
          "Hengshui",
          "Hengshui",
          "Xingtai",
          "Xingtai",
          "Xingtai",
          "Xingtai"
         ],
         "lat": [
          39.929,
          39.886,
          39.929,
          39.878,
          39.982,
          39.937,
          39.987,
          40.09,
          40.002,
          39.863,
          39.824,
          39.914,
          39.742,
          39.718,
          39.795,
          39.886,
          40.127,
          40.217,
          39.937,
          40.143,
          40.328,
          40.37,
          40.453,
          40.292,
          40.365,
          40.499,
          40.1,
          39.712,
          39.52,
          39.58,
          39.899,
          39.876,
          39.954,
          39.856,
          39.939,
          38.0513,
          38.0398,
          38.1398,
          38.00583333,
          38.01777778,
          38.0524,
          37.9097,
          39.6308,
          39.643,
          39.6407,
          39.6679,
          39.65782,
          39.6295,
          39.8283,
          40.0181,
          39.9567,
          39.9358,
          39.9419,
          36.61763,
          36.6164,
          36.5776,
          36.61981,
          38.8632,
          38.8957,
          38.9108,
          38.8416,
          38.8756,
          38.8707,
          40.8367,
          40.79481,
          40.8115,
          40.7688,
          40.8725,
          40.9161,
          40.9843,
          40.9359,
          40.9733,
          41.0112,
          39.5178,
          39.5747,
          39.5571,
          39.5343,
          38.2991,
          38.3254,
          38.3228,
          37.7575,
          37.7379,
          37.739,
          37.0967,
          37.0533,
          37.0964,
          37.062
         ],
         "legendgroup": "",
         "lon": [
          116.417,
          116.407,
          116.339,
          116.352,
          116.397,
          116.461,
          116.287,
          116.174,
          116.207,
          116.279,
          116.146,
          116.184,
          116.136,
          116.404,
          116.506,
          116.663,
          116.655,
          116.23,
          116.106,
          117.1,
          116.628,
          116.832,
          115.972,
          116.22,
          115.988,
          116.911,
          117.12,
          116.783,
          116.3,
          116,
          116.395,
          116.394,
          116.349,
          116.368,
          116.483,
          114.4548,
          114.6046,
          114.5019,
          114.4586111,
          114.53305559999998,
          114.5214,
          114.3541,
          118.1662,
          118.144,
          118.1853,
          118.2185,
          118.1838,
          118.1997,
          119.5259,
          119.7624,
          119.6023,
          119.607,
          119.5369,
          114.5129,
          114.5426,
          114.5035,
          114.4965,
          115.493,
          115.5223,
          115.4713,
          115.4612,
          115.442,
          115.5214,
          114.8985,
          114.892,
          114.8814,
          114.9032,
          114.904,
          117.9664,
          117.9525,
          117.963,
          117.8184,
          117.9384,
          116.6838,
          116.7729,
          116.715,
          116.7464,
          116.8854,
          116.8584,
          116.8709,
          115.6951,
          115.6426,
          115.6906,
          114.4821,
          114.5261,
          114.5331,
          114.4854
         ],
         "marker": {
          "color": [
           0,
           0,
           0,
           0,
           0,
           0,
           0,
           0,
           0,
           0,
           0,
           0,
           0,
           0,
           0,
           0,
           0,
           0,
           0,
           0,
           0,
           0,
           0,
           0,
           0,
           0,
           0,
           0,
           0,
           0,
           0,
           0,
           0,
           0,
           0,
           1,
           1,
           1,
           1,
           1,
           1,
           1,
           1,
           1,
           1,
           1,
           1,
           1,
           1,
           1,
           1,
           1,
           1,
           1,
           1,
           1,
           1,
           1,
           1,
           1,
           1,
           1,
           1,
           1,
           1,
           1,
           1,
           1,
           1,
           1,
           1,
           1,
           1,
           1,
           1,
           1,
           1,
           1,
           1,
           1,
           1,
           1,
           1,
           1,
           1,
           1,
           1
          ],
          "coloraxis": "coloraxis"
         },
         "mode": "markers",
         "name": "",
         "showlegend": false,
         "subplot": "mapbox",
         "type": "scattermapbox"
        }
       ],
       "layout": {
        "autosize": true,
        "coloraxis": {
         "colorbar": {
          "title": {
           "text": "color"
          }
         },
         "colorscale": [
          [
           0,
           "rgb(0,0,0)"
          ],
          [
           0.25,
           "rgb(230,0,0)"
          ],
          [
           0.5,
           "rgb(230,210,0)"
          ],
          [
           0.75,
           "rgb(255,255,255)"
          ],
          [
           1,
           "rgb(160,200,255)"
          ]
         ]
        },
        "height": 700,
        "hovermode": "closest",
        "legend": {
         "tracegroupgap": 0
        },
        "mapbox": {
         "bearing": 0,
         "center": {
          "lat": 39,
          "lon": 117
         },
         "domain": {
          "x": [
           0,
           1
          ],
          "y": [
           0,
           1
          ]
         },
         "pitch": 0,
         "style": "stamen-terrain",
         "zoom": 5
        },
        "margin": {
         "t": 60
        },
        "showlegend": false,
        "template": {
         "data": {
          "bar": [
           {
            "error_x": {
             "color": "#2a3f5f"
            },
            "error_y": {
             "color": "#2a3f5f"
            },
            "marker": {
             "line": {
              "color": "#E5ECF6",
              "width": 0.5
             }
            },
            "type": "bar"
           }
          ],
          "barpolar": [
           {
            "marker": {
             "line": {
              "color": "#E5ECF6",
              "width": 0.5
             }
            },
            "type": "barpolar"
           }
          ],
          "carpet": [
           {
            "aaxis": {
             "endlinecolor": "#2a3f5f",
             "gridcolor": "white",
             "linecolor": "white",
             "minorgridcolor": "white",
             "startlinecolor": "#2a3f5f"
            },
            "baxis": {
             "endlinecolor": "#2a3f5f",
             "gridcolor": "white",
             "linecolor": "white",
             "minorgridcolor": "white",
             "startlinecolor": "#2a3f5f"
            },
            "type": "carpet"
           }
          ],
          "choropleth": [
           {
            "colorbar": {
             "outlinewidth": 0,
             "ticks": ""
            },
            "type": "choropleth"
           }
          ],
          "contour": [
           {
            "colorbar": {
             "outlinewidth": 0,
             "ticks": ""
            },
            "colorscale": [
             [
              0,
              "#0d0887"
             ],
             [
              0.1111111111111111,
              "#46039f"
             ],
             [
              0.2222222222222222,
              "#7201a8"
             ],
             [
              0.3333333333333333,
              "#9c179e"
             ],
             [
              0.4444444444444444,
              "#bd3786"
             ],
             [
              0.5555555555555556,
              "#d8576b"
             ],
             [
              0.6666666666666666,
              "#ed7953"
             ],
             [
              0.7777777777777778,
              "#fb9f3a"
             ],
             [
              0.8888888888888888,
              "#fdca26"
             ],
             [
              1,
              "#f0f921"
             ]
            ],
            "type": "contour"
           }
          ],
          "contourcarpet": [
           {
            "colorbar": {
             "outlinewidth": 0,
             "ticks": ""
            },
            "type": "contourcarpet"
           }
          ],
          "heatmap": [
           {
            "colorbar": {
             "outlinewidth": 0,
             "ticks": ""
            },
            "colorscale": [
             [
              0,
              "#0d0887"
             ],
             [
              0.1111111111111111,
              "#46039f"
             ],
             [
              0.2222222222222222,
              "#7201a8"
             ],
             [
              0.3333333333333333,
              "#9c179e"
             ],
             [
              0.4444444444444444,
              "#bd3786"
             ],
             [
              0.5555555555555556,
              "#d8576b"
             ],
             [
              0.6666666666666666,
              "#ed7953"
             ],
             [
              0.7777777777777778,
              "#fb9f3a"
             ],
             [
              0.8888888888888888,
              "#fdca26"
             ],
             [
              1,
              "#f0f921"
             ]
            ],
            "type": "heatmap"
           }
          ],
          "heatmapgl": [
           {
            "colorbar": {
             "outlinewidth": 0,
             "ticks": ""
            },
            "colorscale": [
             [
              0,
              "#0d0887"
             ],
             [
              0.1111111111111111,
              "#46039f"
             ],
             [
              0.2222222222222222,
              "#7201a8"
             ],
             [
              0.3333333333333333,
              "#9c179e"
             ],
             [
              0.4444444444444444,
              "#bd3786"
             ],
             [
              0.5555555555555556,
              "#d8576b"
             ],
             [
              0.6666666666666666,
              "#ed7953"
             ],
             [
              0.7777777777777778,
              "#fb9f3a"
             ],
             [
              0.8888888888888888,
              "#fdca26"
             ],
             [
              1,
              "#f0f921"
             ]
            ],
            "type": "heatmapgl"
           }
          ],
          "histogram": [
           {
            "marker": {
             "colorbar": {
              "outlinewidth": 0,
              "ticks": ""
             }
            },
            "type": "histogram"
           }
          ],
          "histogram2d": [
           {
            "colorbar": {
             "outlinewidth": 0,
             "ticks": ""
            },
            "colorscale": [
             [
              0,
              "#0d0887"
             ],
             [
              0.1111111111111111,
              "#46039f"
             ],
             [
              0.2222222222222222,
              "#7201a8"
             ],
             [
              0.3333333333333333,
              "#9c179e"
             ],
             [
              0.4444444444444444,
              "#bd3786"
             ],
             [
              0.5555555555555556,
              "#d8576b"
             ],
             [
              0.6666666666666666,
              "#ed7953"
             ],
             [
              0.7777777777777778,
              "#fb9f3a"
             ],
             [
              0.8888888888888888,
              "#fdca26"
             ],
             [
              1,
              "#f0f921"
             ]
            ],
            "type": "histogram2d"
           }
          ],
          "histogram2dcontour": [
           {
            "colorbar": {
             "outlinewidth": 0,
             "ticks": ""
            },
            "colorscale": [
             [
              0,
              "#0d0887"
             ],
             [
              0.1111111111111111,
              "#46039f"
             ],
             [
              0.2222222222222222,
              "#7201a8"
             ],
             [
              0.3333333333333333,
              "#9c179e"
             ],
             [
              0.4444444444444444,
              "#bd3786"
             ],
             [
              0.5555555555555556,
              "#d8576b"
             ],
             [
              0.6666666666666666,
              "#ed7953"
             ],
             [
              0.7777777777777778,
              "#fb9f3a"
             ],
             [
              0.8888888888888888,
              "#fdca26"
             ],
             [
              1,
              "#f0f921"
             ]
            ],
            "type": "histogram2dcontour"
           }
          ],
          "mesh3d": [
           {
            "colorbar": {
             "outlinewidth": 0,
             "ticks": ""
            },
            "type": "mesh3d"
           }
          ],
          "parcoords": [
           {
            "line": {
             "colorbar": {
              "outlinewidth": 0,
              "ticks": ""
             }
            },
            "type": "parcoords"
           }
          ],
          "pie": [
           {
            "automargin": true,
            "type": "pie"
           }
          ],
          "scatter": [
           {
            "marker": {
             "colorbar": {
              "outlinewidth": 0,
              "ticks": ""
             }
            },
            "type": "scatter"
           }
          ],
          "scatter3d": [
           {
            "line": {
             "colorbar": {
              "outlinewidth": 0,
              "ticks": ""
             }
            },
            "marker": {
             "colorbar": {
              "outlinewidth": 0,
              "ticks": ""
             }
            },
            "type": "scatter3d"
           }
          ],
          "scattercarpet": [
           {
            "marker": {
             "colorbar": {
              "outlinewidth": 0,
              "ticks": ""
             }
            },
            "type": "scattercarpet"
           }
          ],
          "scattergeo": [
           {
            "marker": {
             "colorbar": {
              "outlinewidth": 0,
              "ticks": ""
             }
            },
            "type": "scattergeo"
           }
          ],
          "scattergl": [
           {
            "marker": {
             "colorbar": {
              "outlinewidth": 0,
              "ticks": ""
             }
            },
            "type": "scattergl"
           }
          ],
          "scattermapbox": [
           {
            "marker": {
             "colorbar": {
              "outlinewidth": 0,
              "ticks": ""
             }
            },
            "type": "scattermapbox"
           }
          ],
          "scatterpolar": [
           {
            "marker": {
             "colorbar": {
              "outlinewidth": 0,
              "ticks": ""
             }
            },
            "type": "scatterpolar"
           }
          ],
          "scatterpolargl": [
           {
            "marker": {
             "colorbar": {
              "outlinewidth": 0,
              "ticks": ""
             }
            },
            "type": "scatterpolargl"
           }
          ],
          "scatterternary": [
           {
            "marker": {
             "colorbar": {
              "outlinewidth": 0,
              "ticks": ""
             }
            },
            "type": "scatterternary"
           }
          ],
          "surface": [
           {
            "colorbar": {
             "outlinewidth": 0,
             "ticks": ""
            },
            "colorscale": [
             [
              0,
              "#0d0887"
             ],
             [
              0.1111111111111111,
              "#46039f"
             ],
             [
              0.2222222222222222,
              "#7201a8"
             ],
             [
              0.3333333333333333,
              "#9c179e"
             ],
             [
              0.4444444444444444,
              "#bd3786"
             ],
             [
              0.5555555555555556,
              "#d8576b"
             ],
             [
              0.6666666666666666,
              "#ed7953"
             ],
             [
              0.7777777777777778,
              "#fb9f3a"
             ],
             [
              0.8888888888888888,
              "#fdca26"
             ],
             [
              1,
              "#f0f921"
             ]
            ],
            "type": "surface"
           }
          ],
          "table": [
           {
            "cells": {
             "fill": {
              "color": "#EBF0F8"
             },
             "line": {
              "color": "white"
             }
            },
            "header": {
             "fill": {
              "color": "#C8D4E3"
             },
             "line": {
              "color": "white"
             }
            },
            "type": "table"
           }
          ]
         },
         "layout": {
          "annotationdefaults": {
           "arrowcolor": "#2a3f5f",
           "arrowhead": 0,
           "arrowwidth": 1
          },
          "autotypenumbers": "strict",
          "coloraxis": {
           "colorbar": {
            "outlinewidth": 0,
            "ticks": ""
           }
          },
          "colorscale": {
           "diverging": [
            [
             0,
             "#8e0152"
            ],
            [
             0.1,
             "#c51b7d"
            ],
            [
             0.2,
             "#de77ae"
            ],
            [
             0.3,
             "#f1b6da"
            ],
            [
             0.4,
             "#fde0ef"
            ],
            [
             0.5,
             "#f7f7f7"
            ],
            [
             0.6,
             "#e6f5d0"
            ],
            [
             0.7,
             "#b8e186"
            ],
            [
             0.8,
             "#7fbc41"
            ],
            [
             0.9,
             "#4d9221"
            ],
            [
             1,
             "#276419"
            ]
           ],
           "sequential": [
            [
             0,
             "#0d0887"
            ],
            [
             0.1111111111111111,
             "#46039f"
            ],
            [
             0.2222222222222222,
             "#7201a8"
            ],
            [
             0.3333333333333333,
             "#9c179e"
            ],
            [
             0.4444444444444444,
             "#bd3786"
            ],
            [
             0.5555555555555556,
             "#d8576b"
            ],
            [
             0.6666666666666666,
             "#ed7953"
            ],
            [
             0.7777777777777778,
             "#fb9f3a"
            ],
            [
             0.8888888888888888,
             "#fdca26"
            ],
            [
             1,
             "#f0f921"
            ]
           ],
           "sequentialminus": [
            [
             0,
             "#0d0887"
            ],
            [
             0.1111111111111111,
             "#46039f"
            ],
            [
             0.2222222222222222,
             "#7201a8"
            ],
            [
             0.3333333333333333,
             "#9c179e"
            ],
            [
             0.4444444444444444,
             "#bd3786"
            ],
            [
             0.5555555555555556,
             "#d8576b"
            ],
            [
             0.6666666666666666,
             "#ed7953"
            ],
            [
             0.7777777777777778,
             "#fb9f3a"
            ],
            [
             0.8888888888888888,
             "#fdca26"
            ],
            [
             1,
             "#f0f921"
            ]
           ]
          },
          "colorway": [
           "#636efa",
           "#EF553B",
           "#00cc96",
           "#ab63fa",
           "#FFA15A",
           "#19d3f3",
           "#FF6692",
           "#B6E880",
           "#FF97FF",
           "#FECB52"
          ],
          "font": {
           "color": "#2a3f5f"
          },
          "geo": {
           "bgcolor": "white",
           "lakecolor": "white",
           "landcolor": "#E5ECF6",
           "showlakes": true,
           "showland": true,
           "subunitcolor": "white"
          },
          "hoverlabel": {
           "align": "left"
          },
          "hovermode": "closest",
          "mapbox": {
           "style": "light"
          },
          "paper_bgcolor": "white",
          "plot_bgcolor": "#E5ECF6",
          "polar": {
           "angularaxis": {
            "gridcolor": "white",
            "linecolor": "white",
            "ticks": ""
           },
           "bgcolor": "#E5ECF6",
           "radialaxis": {
            "gridcolor": "white",
            "linecolor": "white",
            "ticks": ""
           }
          },
          "scene": {
           "xaxis": {
            "backgroundcolor": "#E5ECF6",
            "gridcolor": "white",
            "gridwidth": 2,
            "linecolor": "white",
            "showbackground": true,
            "ticks": "",
            "zerolinecolor": "white"
           },
           "yaxis": {
            "backgroundcolor": "#E5ECF6",
            "gridcolor": "white",
            "gridwidth": 2,
            "linecolor": "white",
            "showbackground": true,
            "ticks": "",
            "zerolinecolor": "white"
           },
           "zaxis": {
            "backgroundcolor": "#E5ECF6",
            "gridcolor": "white",
            "gridwidth": 2,
            "linecolor": "white",
            "showbackground": true,
            "ticks": "",
            "zerolinecolor": "white"
           }
          },
          "shapedefaults": {
           "line": {
            "color": "#2a3f5f"
           }
          },
          "ternary": {
           "aaxis": {
            "gridcolor": "white",
            "linecolor": "white",
            "ticks": ""
           },
           "baxis": {
            "gridcolor": "white",
            "linecolor": "white",
            "ticks": ""
           },
           "bgcolor": "#E5ECF6",
           "caxis": {
            "gridcolor": "white",
            "linecolor": "white",
            "ticks": ""
           }
          },
          "title": {
           "x": 0.05
          },
          "xaxis": {
           "automargin": true,
           "gridcolor": "white",
           "linecolor": "white",
           "ticks": "",
           "title": {
            "standoff": 15
           },
           "zerolinecolor": "white",
           "zerolinewidth": 2
          },
          "yaxis": {
           "automargin": true,
           "gridcolor": "white",
           "linecolor": "white",
           "ticks": "",
           "title": {
            "standoff": 15
           },
           "zerolinecolor": "white",
           "zerolinewidth": 2
          }
         }
        },
        "title": {
         "text": "Devices"
        },
        "width": 1000
       }
      }
     },
     "metadata": {}
    }
   ],
   "source": [
    "def show_sensor_map(meta):\n",
    "    meta_plot = meta.copy()\n",
    "    meta_plot['color'] = 1\n",
    "    meta_plot.loc[meta_plot['city'] == 'Beijing', 'color'] = 0\n",
    "\n",
    "    fig = px.scatter_mapbox(meta_plot,\n",
    "                            lat=meta_plot.geometry.y,\n",
    "                            lon=meta_plot.geometry.x,\n",
    "                            color='color',\n",
    "                            color_continuous_scale=px.colors.sequential.Blackbody,\n",
    "                            hover_name='city',\n",
    "                            hover_data=[\"device_id\", 'device_name'],\n",
    "                            width=1000, height=700)\n",
    "\n",
    "    fig.update_layout(\n",
    "        title='Devices',\n",
    "        autosize=True,\n",
    "        hovermode='closest',\n",
    "        showlegend=False,\n",
    "        mapbox=dict(\n",
    "            bearing=0,\n",
    "            center=dict(\n",
    "                lat=39,\n",
    "                lon=117\n",
    "            ),\n",
    "            pitch=0,\n",
    "            zoom=5,\n",
    "            style='stamen-terrain'\n",
    "        ),\n",
    "    )\n",
    "\n",
    "    fig.show()\n",
    "\n",
    "show_sensor_map(data.metadata)"
   ]
  },
  {
   "source": [
    "## Measurements\n",
    "\n",
    "### Individual measurements"
   ],
   "cell_type": "markdown",
   "metadata": {}
  },
  {
   "cell_type": "code",
   "execution_count": 19,
   "metadata": {},
   "outputs": [],
   "source": [
    "days_list = pd.date_range(data.measurements[\"time\"].min(), data.measurements[\"time\"].max(), freq='D')\n",
    "days_list_formatted = [(date.strftime(' %d-%m-%y '), date) for date in days_list]\n",
    "\n",
    "ld1 = data.events[0]\n",
    "start = ld1.start - datetime.timedelta(days=14)\n",
    "end = ld1.end + datetime.timedelta(days=14)\n",
    "\n",
    "date_slider = widgets.SelectionRangeSlider(\n",
    "    options=days_list_formatted,\n",
    "    index=(0, len(days_list_formatted) - 1),\n",
    "    value=(start, end),\n",
    "    description='Dates',\n",
    "    orientation='horizontal',\n",
    "    layout={'width': '500px'}\n",
    ")"
   ]
  },
  {
   "cell_type": "code",
   "execution_count": 20,
   "metadata": {},
   "outputs": [],
   "source": [
    "devices = data.metadata['device_id']\n",
    "descriptions = data.metadata['device_id'] + \" (\" + data.metadata['city'] + \")\"\n",
    "dic = dict(zip(descriptions, devices))"
   ]
  },
  {
   "cell_type": "code",
   "execution_count": 21,
   "metadata": {},
   "outputs": [
    {
     "output_type": "display_data",
     "data": {
      "text/plain": "interactive(children=(SelectMultiple(description='Devices', options=('dongsi (Beijing)', 'tiantan (Beijing)', …",
      "application/vnd.jupyter.widget-view+json": {
       "version_major": 2,
       "version_minor": 0,
       "model_id": "8d77c283ac464e69bc0c0d86e9127e46"
      }
     },
     "metadata": {}
    },
    {
     "output_type": "execute_result",
     "data": {
      "text/plain": [
       "<function __main__.plot_data(data, devices, date_range, feature, events=[], device_id_mapping=None)>"
      ]
     },
     "metadata": {},
     "execution_count": 21
    }
   ],
   "source": [
    "def plot_data(data, devices, date_range, feature, events=[], device_id_mapping=None):\n",
    "    plt.figure(figsize=(10,5))\n",
    "\n",
    "    # plot events\n",
    "    for event in events:\n",
    "        plt.axvspan(event.start, event.end, color=event.color, alpha=0.1, label=event.name)\n",
    "\n",
    "    # plot measurements\n",
    "    (start, end) = date_range\n",
    "    for device in devices:\n",
    "        if device_id_mapping is not None:\n",
    "            device_id = device_id_mapping[device]\n",
    "        else:\n",
    "            device_id = device\n",
    "        y = data[(data['device_id'] == device_id) & (data['time'] >= start) & (data['time'] < end)]\n",
    "        plt.plot(y['time'], y[feature], label=device)\n",
    "\n",
    "    plt.tight_layout()\n",
    "\n",
    "    plt.title(feature)\n",
    "    plt.legend(loc='upper left')\n",
    "    axes = plt.gca()\n",
    "    axes.set_xlim([start,end])\n",
    "\n",
    "    plt.show()\n",
    "\n",
    "device_widget = widgets.SelectMultiple(\n",
    "    options=dic.keys(),\n",
    "    rows=15,\n",
    "    description='Devices',\n",
    "    disabled=False\n",
    ")\n",
    "\n",
    "feature_widget = widgets.Dropdown(\n",
    "    options=data.air_features,\n",
    "    value='pm25',\n",
    "    description='Feature:'\n",
    ")\n",
    "\n",
    "interact_manual(plot_data, data=fixed(data.measurements), devices=device_widget, date_range=date_slider, feature=feature_widget, events=fixed(data.events), device_id_mapping=fixed(dic))"
   ]
  },
  {
   "source": [
    "### City means"
   ],
   "cell_type": "markdown",
   "metadata": {}
  },
  {
   "cell_type": "code",
   "execution_count": 22,
   "metadata": {},
   "outputs": [],
   "source": [
    "city_means = data.measurements_joined.groupby(by=['city', 'time']).mean().reset_index()\n",
    "city_means = city_means.rename(columns={'city': 'device_id'})"
   ]
  },
  {
   "cell_type": "code",
   "execution_count": 23,
   "metadata": {},
   "outputs": [
    {
     "output_type": "display_data",
     "data": {
      "text/plain": "interactive(children=(SelectMultiple(description='Devices', options=('Baoding', 'Beijing', 'Cangzhou', 'Chengd…",
      "application/vnd.jupyter.widget-view+json": {
       "version_major": 2,
       "version_minor": 0,
       "model_id": "8aa83f7f480543c8b8d943927801588f"
      }
     },
     "metadata": {}
    },
    {
     "output_type": "execute_result",
     "data": {
      "text/plain": [
       "<function __main__.plot_data(data, devices, date_range, feature, events=[], device_id_mapping=None)>"
      ]
     },
     "metadata": {},
     "execution_count": 23
    }
   ],
   "source": [
    "city_widget = widgets.SelectMultiple(\n",
    "    options=list(city_means['device_id'].unique()),\n",
    "    rows=15,\n",
    "    description='Devices',\n",
    "    disabled=False\n",
    ")\n",
    "\n",
    "interact_manual(plot_data, data=fixed(city_means), devices=city_widget, date_range=date_slider, feature=feature_widget, events=fixed(data.events), device_id_mapping=fixed(None))"
   ]
  },
  {
   "cell_type": "code",
   "execution_count": 24,
   "metadata": {},
   "outputs": [
    {
     "output_type": "display_data",
     "data": {
      "application/vnd.plotly.v1+json": {
       "config": {
        "plotlyServerURL": "https://plot.ly"
       },
       "data": [
        {
         "customdata": [
          [
           "dongsi",
           null
          ],
          [
           "tiantan",
           null
          ],
          [
           "guanyuan",
           null
          ],
          [
           "wanshouxigong",
           null
          ],
          [
           "aotizhongxin",
           null
          ],
          [
           "nongzhanguan",
           null
          ],
          [
           "wanliu",
           null
          ],
          [
           "beibuxinqu",
           null
          ],
          [
           "zhiwuyuan",
           null
          ],
          [
           "fengtaihuayuan",
           null
          ],
          [
           "yungang",
           null
          ],
          [
           "gucheng",
           null
          ],
          [
           "fangshan",
           null
          ],
          [
           "daxing",
           null
          ],
          [
           "yizhuang",
           null
          ],
          [
           "tongzhou",
           null
          ],
          [
           "shunyi",
           null
          ],
          [
           "changping",
           null
          ],
          [
           "mentougou",
           null
          ],
          [
           "pinggu",
           null
          ],
          [
           "huairou",
           null
          ],
          [
           "miyun",
           null
          ],
          [
           "yanqing",
           null
          ],
          [
           "dingling",
           null
          ],
          [
           "badaling",
           null
          ],
          [
           "miyunshuiku",
           null
          ],
          [
           "donggaocun",
           null
          ],
          [
           "yongledian",
           null
          ],
          [
           "yufa",
           null
          ],
          [
           "liulihe",
           null
          ],
          [
           "qianmen",
           null
          ],
          [
           "yongdingmennei",
           null
          ],
          [
           "xizhimenbei",
           null
          ],
          [
           "nansanhuan",
           null
          ],
          [
           "dongsihuan",
           null
          ],
          [
           "1029A",
           "Staff Hospital"
          ],
          [
           "1030A",
           "High-tech Zone"
          ],
          [
           "1031A",
           "Northwest Water Source"
          ],
          [
           "1032A",
           "Southwest Higher Education"
          ],
          [
           "1033A",
           "Century Park"
          ],
          [
           "1034A",
           "People's Hall"
          ],
          [
           "1035A",
           "Fenglong Mountain"
          ],
          [
           "1036A",
           "Supply and Marketing Cooperative"
          ],
          [
           "1037A",
           "radar station"
          ],
          [
           "1038A",
           "Material Bureau"
          ],
          [
           "1039A",
           "Ceramic Company"
          ],
          [
           "1040A",
           "Twelfth Middle School"
          ],
          [
           "1041A",
           "Xiaoshan"
          ],
          [
           "1042A",
           "Beidaihe Environmental Protection Bureau"
          ],
          [
           "1043A",
           "the first pass"
          ],
          [
           "1044A",
           "Monitoring Station"
          ],
          [
           "1045A",
           "Municipal Government"
          ],
          [
           "1046A",
           "Jianshe Building"
          ],
          [
           "1047A",
           "Environmental Protection Bureau"
          ],
          [
           "1048A",
           "East Sewage Treatment Plant"
          ],
          [
           "1049A",
           "Mining Institute"
          ],
          [
           "1050A",
           "Congtai Park"
          ],
          [
           "1051A",
           "Swimming Pool"
          ],
          [
           "1052A",
           "Huadian District 2"
          ],
          [
           "1053A",
           "Reception Center"
          ],
          [
           "1054A",
           "Surface Water Plant"
          ],
          [
           "1055A",
           "Film Factory"
          ],
          [
           "1056A",
           "Monitoring Station"
          ],
          [
           "1057A",
           "People's Park"
          ],
          [
           "1058A",
           "Tanji Factory"
          ],
          [
           "1059A",
           "Hardware Depot"
          ],
          [
           "1060A",
           "Century Plaza"
          ],
          [
           "1061A",
           "North Pump House"
          ],
          [
           "1062A",
           "Railway"
          ],
          [
           "1063A",
           "Bank of China"
          ],
          [
           "1064A",
           "Development Zone"
          ],
          [
           "1065A",
           "Cultural Center"
          ],
          [
           "1066A",
           "Li Palace"
          ],
          [
           "1067A",
           "Medicinal Materials Company"
          ],
          [
           "1068A",
           "Development Zone"
          ],
          [
           "1069A",
           "Environmental Monitoring Supervision Center"
          ],
          [
           "1070A",
           "Beihua University of Aeronautics and Astronautics"
          ],
          [
           "1071A",
           "Cang County Urban Construction Bureau"
          ],
          [
           "1072A",
           "TV relay station"
          ],
          [
           "1073A",
           "Municipal Environmental Protection Bureau"
          ],
          [
           "1074A",
           "North Motor Factory"
          ],
          [
           "1075A",
           "City Monitoring Station"
          ],
          [
           "1076A",
           "Municipal Environmental Protection Bureau"
          ],
          [
           "1077A",
           "Dahuo Spring"
          ],
          [
           "1078A",
           "Xing Teachers College"
          ],
          [
           "1079A",
           "Road and Bridge Company"
          ],
          [
           "1080A",
           "Municipal Environmental Protection Bureau"
          ]
         ],
         "hovertemplate": "<b>%{hovertext}</b><br><br>size=%{marker.size}<br>lat=%{lat}<br>lon=%{lon}<br>device_id=%{customdata[0]}<br>device_name=%{customdata[1]}<br>pm25=%{marker.color}<extra></extra>",
         "hovertext": [
          "Beijing",
          "Beijing",
          "Beijing",
          "Beijing",
          "Beijing",
          "Beijing",
          "Beijing",
          "Beijing",
          "Beijing",
          "Beijing",
          "Beijing",
          "Beijing",
          "Beijing",
          "Beijing",
          "Beijing",
          "Beijing",
          "Beijing",
          "Beijing",
          "Beijing",
          "Beijing",
          "Beijing",
          "Beijing",
          "Beijing",
          "Beijing",
          "Beijing",
          "Beijing",
          "Beijing",
          "Beijing",
          "Beijing",
          "Beijing",
          "Beijing",
          "Beijing",
          "Beijing",
          "Beijing",
          "Beijing",
          "Shijiazhuang",
          "Shijiazhuang",
          "Shijiazhuang",
          "Shijiazhuang",
          "Shijiazhuang",
          "Shijiazhuang",
          "Shijiazhuang",
          "Tangshan",
          "Tangshan",
          "Tangshan",
          "Tangshan",
          "Tangshan",
          "Tangshan",
          "Qinhuangdao",
          "Qinhuangdao",
          "Qinhuangdao",
          "Qinhuangdao",
          "Qinhuangdao",
          "Handan",
          "Handan",
          "Handan",
          "Handan",
          "Baoding",
          "Baoding",
          "Baoding",
          "Baoding",
          "Baoding",
          "Baoding",
          "Zhangjiakou",
          "Zhangjiakou",
          "Zhangjiakou",
          "Zhangjiakou",
          "Zhangjiakou",
          "Chengde",
          "Chengde",
          "Chengde",
          "Chengde",
          "Chengde",
          "Langfang",
          "Langfang",
          "Langfang",
          "Langfang",
          "Cangzhou",
          "Cangzhou",
          "Cangzhou",
          "Hengshui",
          "Hengshui",
          "Hengshui",
          "Xingtai",
          "Xingtai",
          "Xingtai",
          "Xingtai"
         ],
         "lat": [
          39.929,
          39.886,
          39.929,
          39.878,
          39.982,
          39.937,
          39.987,
          40.09,
          40.002,
          39.863,
          39.824,
          39.914,
          39.742,
          39.718,
          39.795,
          39.886,
          40.127,
          40.217,
          39.937,
          40.143,
          40.328,
          40.37,
          40.453,
          40.292,
          40.365,
          40.499,
          40.1,
          39.712,
          39.52,
          39.58,
          39.899,
          39.876,
          39.954,
          39.856,
          39.939,
          38.0513,
          38.0398,
          38.1398,
          38.00583333,
          38.01777778,
          38.0524,
          37.9097,
          39.6308,
          39.643,
          39.6407,
          39.6679,
          39.65782,
          39.6295,
          39.8283,
          40.0181,
          39.9567,
          39.9358,
          39.9419,
          36.61763,
          36.6164,
          36.5776,
          36.61981,
          38.8632,
          38.8957,
          38.9108,
          38.8416,
          38.8756,
          38.8707,
          40.8367,
          40.79481,
          40.8115,
          40.7688,
          40.8725,
          40.9161,
          40.9843,
          40.9359,
          40.9733,
          41.0112,
          39.5178,
          39.5747,
          39.5571,
          39.5343,
          38.2991,
          38.3254,
          38.3228,
          37.7575,
          37.7379,
          37.739,
          37.0967,
          37.0533,
          37.0964,
          37.062
         ],
         "legendgroup": "",
         "lon": [
          116.417,
          116.407,
          116.339,
          116.352,
          116.397,
          116.461,
          116.287,
          116.174,
          116.207,
          116.279,
          116.146,
          116.184,
          116.136,
          116.404,
          116.506,
          116.663,
          116.655,
          116.23,
          116.106,
          117.1,
          116.628,
          116.832,
          115.972,
          116.22,
          115.988,
          116.911,
          117.12,
          116.783,
          116.3,
          116,
          116.395,
          116.394,
          116.349,
          116.368,
          116.483,
          114.4548,
          114.6046,
          114.5019,
          114.4586111,
          114.53305559999998,
          114.5214,
          114.3541,
          118.1662,
          118.144,
          118.1853,
          118.2185,
          118.1838,
          118.1997,
          119.5259,
          119.7624,
          119.6023,
          119.607,
          119.5369,
          114.5129,
          114.5426,
          114.5035,
          114.4965,
          115.493,
          115.5223,
          115.4713,
          115.4612,
          115.442,
          115.5214,
          114.8985,
          114.892,
          114.8814,
          114.9032,
          114.904,
          117.9664,
          117.9525,
          117.963,
          117.8184,
          117.9384,
          116.6838,
          116.7729,
          116.715,
          116.7464,
          116.8854,
          116.8584,
          116.8709,
          115.6951,
          115.6426,
          115.6906,
          114.4821,
          114.5261,
          114.5331,
          114.4854
         ],
         "marker": {
          "color": [
           48,
           43,
           47,
           51,
           48,
           48,
           48,
           89,
           null,
           null,
           51,
           78,
           59,
           46,
           44,
           44,
           56,
           94,
           90,
           51,
           68,
           37,
           88,
           90,
           94,
           52,
           53,
           74,
           35,
           68,
           39,
           45,
           46,
           43,
           36,
           42,
           32,
           42,
           40,
           21,
           36,
           34,
           null,
           51,
           53,
           null,
           50,
           70,
           97,
           83,
           89,
           null,
           83,
           40,
           33,
           39,
           38,
           33,
           33,
           34,
           35,
           38,
           36,
           89,
           null,
           61,
           89,
           57,
           49,
           42,
           47,
           39,
           41,
           43,
           37,
           null,
           38,
           44,
           39,
           46,
           48,
           43,
           null,
           32,
           null,
           35,
           43
          ],
          "coloraxis": "coloraxis",
          "size": [
           10,
           10,
           10,
           10,
           10,
           10,
           10,
           10,
           10,
           10,
           10,
           10,
           10,
           10,
           10,
           10,
           10,
           10,
           10,
           10,
           10,
           10,
           10,
           10,
           10,
           10,
           10,
           10,
           10,
           10,
           10,
           10,
           10,
           10,
           10,
           10,
           10,
           10,
           10,
           10,
           10,
           10,
           10,
           10,
           10,
           10,
           10,
           10,
           10,
           10,
           10,
           10,
           10,
           10,
           10,
           10,
           10,
           10,
           10,
           10,
           10,
           10,
           10,
           10,
           10,
           10,
           10,
           10,
           10,
           10,
           10,
           10,
           10,
           10,
           10,
           10,
           10,
           10,
           10,
           10,
           10,
           10,
           10,
           10,
           10,
           10,
           10
          ],
          "sizemode": "area",
          "sizeref": 0.025
         },
         "mode": "markers",
         "name": "",
         "showlegend": false,
         "subplot": "mapbox",
         "type": "scattermapbox"
        }
       ],
       "layout": {
        "autosize": true,
        "coloraxis": {
         "colorbar": {
          "title": {
           "text": "pm25"
          }
         },
         "colorscale": [
          [
           0,
           "rgb(253, 237, 176)"
          ],
          [
           0.09090909090909091,
           "rgb(250, 205, 145)"
          ],
          [
           0.18181818181818182,
           "rgb(246, 173, 119)"
          ],
          [
           0.2727272727272727,
           "rgb(240, 142, 98)"
          ],
          [
           0.36363636363636365,
           "rgb(231, 109, 84)"
          ],
          [
           0.45454545454545453,
           "rgb(216, 80, 83)"
          ],
          [
           0.5454545454545454,
           "rgb(195, 56, 90)"
          ],
          [
           0.6363636363636364,
           "rgb(168, 40, 96)"
          ],
          [
           0.7272727272727273,
           "rgb(138, 29, 99)"
          ],
          [
           0.8181818181818182,
           "rgb(107, 24, 93)"
          ],
          [
           0.9090909090909091,
           "rgb(76, 21, 80)"
          ],
          [
           1,
           "rgb(47, 15, 61)"
          ]
         ]
        },
        "height": 700,
        "hovermode": "closest",
        "legend": {
         "itemsizing": "constant",
         "tracegroupgap": 0
        },
        "mapbox": {
         "bearing": 0,
         "center": {
          "lat": 39,
          "lon": 117
         },
         "domain": {
          "x": [
           0,
           1
          ],
          "y": [
           0,
           1
          ]
         },
         "pitch": 0,
         "style": "stamen-terrain",
         "zoom": 5
        },
        "margin": {
         "t": 60
        },
        "showlegend": false,
        "template": {
         "data": {
          "bar": [
           {
            "error_x": {
             "color": "#2a3f5f"
            },
            "error_y": {
             "color": "#2a3f5f"
            },
            "marker": {
             "line": {
              "color": "#E5ECF6",
              "width": 0.5
             }
            },
            "type": "bar"
           }
          ],
          "barpolar": [
           {
            "marker": {
             "line": {
              "color": "#E5ECF6",
              "width": 0.5
             }
            },
            "type": "barpolar"
           }
          ],
          "carpet": [
           {
            "aaxis": {
             "endlinecolor": "#2a3f5f",
             "gridcolor": "white",
             "linecolor": "white",
             "minorgridcolor": "white",
             "startlinecolor": "#2a3f5f"
            },
            "baxis": {
             "endlinecolor": "#2a3f5f",
             "gridcolor": "white",
             "linecolor": "white",
             "minorgridcolor": "white",
             "startlinecolor": "#2a3f5f"
            },
            "type": "carpet"
           }
          ],
          "choropleth": [
           {
            "colorbar": {
             "outlinewidth": 0,
             "ticks": ""
            },
            "type": "choropleth"
           }
          ],
          "contour": [
           {
            "colorbar": {
             "outlinewidth": 0,
             "ticks": ""
            },
            "colorscale": [
             [
              0,
              "#0d0887"
             ],
             [
              0.1111111111111111,
              "#46039f"
             ],
             [
              0.2222222222222222,
              "#7201a8"
             ],
             [
              0.3333333333333333,
              "#9c179e"
             ],
             [
              0.4444444444444444,
              "#bd3786"
             ],
             [
              0.5555555555555556,
              "#d8576b"
             ],
             [
              0.6666666666666666,
              "#ed7953"
             ],
             [
              0.7777777777777778,
              "#fb9f3a"
             ],
             [
              0.8888888888888888,
              "#fdca26"
             ],
             [
              1,
              "#f0f921"
             ]
            ],
            "type": "contour"
           }
          ],
          "contourcarpet": [
           {
            "colorbar": {
             "outlinewidth": 0,
             "ticks": ""
            },
            "type": "contourcarpet"
           }
          ],
          "heatmap": [
           {
            "colorbar": {
             "outlinewidth": 0,
             "ticks": ""
            },
            "colorscale": [
             [
              0,
              "#0d0887"
             ],
             [
              0.1111111111111111,
              "#46039f"
             ],
             [
              0.2222222222222222,
              "#7201a8"
             ],
             [
              0.3333333333333333,
              "#9c179e"
             ],
             [
              0.4444444444444444,
              "#bd3786"
             ],
             [
              0.5555555555555556,
              "#d8576b"
             ],
             [
              0.6666666666666666,
              "#ed7953"
             ],
             [
              0.7777777777777778,
              "#fb9f3a"
             ],
             [
              0.8888888888888888,
              "#fdca26"
             ],
             [
              1,
              "#f0f921"
             ]
            ],
            "type": "heatmap"
           }
          ],
          "heatmapgl": [
           {
            "colorbar": {
             "outlinewidth": 0,
             "ticks": ""
            },
            "colorscale": [
             [
              0,
              "#0d0887"
             ],
             [
              0.1111111111111111,
              "#46039f"
             ],
             [
              0.2222222222222222,
              "#7201a8"
             ],
             [
              0.3333333333333333,
              "#9c179e"
             ],
             [
              0.4444444444444444,
              "#bd3786"
             ],
             [
              0.5555555555555556,
              "#d8576b"
             ],
             [
              0.6666666666666666,
              "#ed7953"
             ],
             [
              0.7777777777777778,
              "#fb9f3a"
             ],
             [
              0.8888888888888888,
              "#fdca26"
             ],
             [
              1,
              "#f0f921"
             ]
            ],
            "type": "heatmapgl"
           }
          ],
          "histogram": [
           {
            "marker": {
             "colorbar": {
              "outlinewidth": 0,
              "ticks": ""
             }
            },
            "type": "histogram"
           }
          ],
          "histogram2d": [
           {
            "colorbar": {
             "outlinewidth": 0,
             "ticks": ""
            },
            "colorscale": [
             [
              0,
              "#0d0887"
             ],
             [
              0.1111111111111111,
              "#46039f"
             ],
             [
              0.2222222222222222,
              "#7201a8"
             ],
             [
              0.3333333333333333,
              "#9c179e"
             ],
             [
              0.4444444444444444,
              "#bd3786"
             ],
             [
              0.5555555555555556,
              "#d8576b"
             ],
             [
              0.6666666666666666,
              "#ed7953"
             ],
             [
              0.7777777777777778,
              "#fb9f3a"
             ],
             [
              0.8888888888888888,
              "#fdca26"
             ],
             [
              1,
              "#f0f921"
             ]
            ],
            "type": "histogram2d"
           }
          ],
          "histogram2dcontour": [
           {
            "colorbar": {
             "outlinewidth": 0,
             "ticks": ""
            },
            "colorscale": [
             [
              0,
              "#0d0887"
             ],
             [
              0.1111111111111111,
              "#46039f"
             ],
             [
              0.2222222222222222,
              "#7201a8"
             ],
             [
              0.3333333333333333,
              "#9c179e"
             ],
             [
              0.4444444444444444,
              "#bd3786"
             ],
             [
              0.5555555555555556,
              "#d8576b"
             ],
             [
              0.6666666666666666,
              "#ed7953"
             ],
             [
              0.7777777777777778,
              "#fb9f3a"
             ],
             [
              0.8888888888888888,
              "#fdca26"
             ],
             [
              1,
              "#f0f921"
             ]
            ],
            "type": "histogram2dcontour"
           }
          ],
          "mesh3d": [
           {
            "colorbar": {
             "outlinewidth": 0,
             "ticks": ""
            },
            "type": "mesh3d"
           }
          ],
          "parcoords": [
           {
            "line": {
             "colorbar": {
              "outlinewidth": 0,
              "ticks": ""
             }
            },
            "type": "parcoords"
           }
          ],
          "pie": [
           {
            "automargin": true,
            "type": "pie"
           }
          ],
          "scatter": [
           {
            "marker": {
             "colorbar": {
              "outlinewidth": 0,
              "ticks": ""
             }
            },
            "type": "scatter"
           }
          ],
          "scatter3d": [
           {
            "line": {
             "colorbar": {
              "outlinewidth": 0,
              "ticks": ""
             }
            },
            "marker": {
             "colorbar": {
              "outlinewidth": 0,
              "ticks": ""
             }
            },
            "type": "scatter3d"
           }
          ],
          "scattercarpet": [
           {
            "marker": {
             "colorbar": {
              "outlinewidth": 0,
              "ticks": ""
             }
            },
            "type": "scattercarpet"
           }
          ],
          "scattergeo": [
           {
            "marker": {
             "colorbar": {
              "outlinewidth": 0,
              "ticks": ""
             }
            },
            "type": "scattergeo"
           }
          ],
          "scattergl": [
           {
            "marker": {
             "colorbar": {
              "outlinewidth": 0,
              "ticks": ""
             }
            },
            "type": "scattergl"
           }
          ],
          "scattermapbox": [
           {
            "marker": {
             "colorbar": {
              "outlinewidth": 0,
              "ticks": ""
             }
            },
            "type": "scattermapbox"
           }
          ],
          "scatterpolar": [
           {
            "marker": {
             "colorbar": {
              "outlinewidth": 0,
              "ticks": ""
             }
            },
            "type": "scatterpolar"
           }
          ],
          "scatterpolargl": [
           {
            "marker": {
             "colorbar": {
              "outlinewidth": 0,
              "ticks": ""
             }
            },
            "type": "scatterpolargl"
           }
          ],
          "scatterternary": [
           {
            "marker": {
             "colorbar": {
              "outlinewidth": 0,
              "ticks": ""
             }
            },
            "type": "scatterternary"
           }
          ],
          "surface": [
           {
            "colorbar": {
             "outlinewidth": 0,
             "ticks": ""
            },
            "colorscale": [
             [
              0,
              "#0d0887"
             ],
             [
              0.1111111111111111,
              "#46039f"
             ],
             [
              0.2222222222222222,
              "#7201a8"
             ],
             [
              0.3333333333333333,
              "#9c179e"
             ],
             [
              0.4444444444444444,
              "#bd3786"
             ],
             [
              0.5555555555555556,
              "#d8576b"
             ],
             [
              0.6666666666666666,
              "#ed7953"
             ],
             [
              0.7777777777777778,
              "#fb9f3a"
             ],
             [
              0.8888888888888888,
              "#fdca26"
             ],
             [
              1,
              "#f0f921"
             ]
            ],
            "type": "surface"
           }
          ],
          "table": [
           {
            "cells": {
             "fill": {
              "color": "#EBF0F8"
             },
             "line": {
              "color": "white"
             }
            },
            "header": {
             "fill": {
              "color": "#C8D4E3"
             },
             "line": {
              "color": "white"
             }
            },
            "type": "table"
           }
          ]
         },
         "layout": {
          "annotationdefaults": {
           "arrowcolor": "#2a3f5f",
           "arrowhead": 0,
           "arrowwidth": 1
          },
          "autotypenumbers": "strict",
          "coloraxis": {
           "colorbar": {
            "outlinewidth": 0,
            "ticks": ""
           }
          },
          "colorscale": {
           "diverging": [
            [
             0,
             "#8e0152"
            ],
            [
             0.1,
             "#c51b7d"
            ],
            [
             0.2,
             "#de77ae"
            ],
            [
             0.3,
             "#f1b6da"
            ],
            [
             0.4,
             "#fde0ef"
            ],
            [
             0.5,
             "#f7f7f7"
            ],
            [
             0.6,
             "#e6f5d0"
            ],
            [
             0.7,
             "#b8e186"
            ],
            [
             0.8,
             "#7fbc41"
            ],
            [
             0.9,
             "#4d9221"
            ],
            [
             1,
             "#276419"
            ]
           ],
           "sequential": [
            [
             0,
             "#0d0887"
            ],
            [
             0.1111111111111111,
             "#46039f"
            ],
            [
             0.2222222222222222,
             "#7201a8"
            ],
            [
             0.3333333333333333,
             "#9c179e"
            ],
            [
             0.4444444444444444,
             "#bd3786"
            ],
            [
             0.5555555555555556,
             "#d8576b"
            ],
            [
             0.6666666666666666,
             "#ed7953"
            ],
            [
             0.7777777777777778,
             "#fb9f3a"
            ],
            [
             0.8888888888888888,
             "#fdca26"
            ],
            [
             1,
             "#f0f921"
            ]
           ],
           "sequentialminus": [
            [
             0,
             "#0d0887"
            ],
            [
             0.1111111111111111,
             "#46039f"
            ],
            [
             0.2222222222222222,
             "#7201a8"
            ],
            [
             0.3333333333333333,
             "#9c179e"
            ],
            [
             0.4444444444444444,
             "#bd3786"
            ],
            [
             0.5555555555555556,
             "#d8576b"
            ],
            [
             0.6666666666666666,
             "#ed7953"
            ],
            [
             0.7777777777777778,
             "#fb9f3a"
            ],
            [
             0.8888888888888888,
             "#fdca26"
            ],
            [
             1,
             "#f0f921"
            ]
           ]
          },
          "colorway": [
           "#636efa",
           "#EF553B",
           "#00cc96",
           "#ab63fa",
           "#FFA15A",
           "#19d3f3",
           "#FF6692",
           "#B6E880",
           "#FF97FF",
           "#FECB52"
          ],
          "font": {
           "color": "#2a3f5f"
          },
          "geo": {
           "bgcolor": "white",
           "lakecolor": "white",
           "landcolor": "#E5ECF6",
           "showlakes": true,
           "showland": true,
           "subunitcolor": "white"
          },
          "hoverlabel": {
           "align": "left"
          },
          "hovermode": "closest",
          "mapbox": {
           "style": "light"
          },
          "paper_bgcolor": "white",
          "plot_bgcolor": "#E5ECF6",
          "polar": {
           "angularaxis": {
            "gridcolor": "white",
            "linecolor": "white",
            "ticks": ""
           },
           "bgcolor": "#E5ECF6",
           "radialaxis": {
            "gridcolor": "white",
            "linecolor": "white",
            "ticks": ""
           }
          },
          "scene": {
           "xaxis": {
            "backgroundcolor": "#E5ECF6",
            "gridcolor": "white",
            "gridwidth": 2,
            "linecolor": "white",
            "showbackground": true,
            "ticks": "",
            "zerolinecolor": "white"
           },
           "yaxis": {
            "backgroundcolor": "#E5ECF6",
            "gridcolor": "white",
            "gridwidth": 2,
            "linecolor": "white",
            "showbackground": true,
            "ticks": "",
            "zerolinecolor": "white"
           },
           "zaxis": {
            "backgroundcolor": "#E5ECF6",
            "gridcolor": "white",
            "gridwidth": 2,
            "linecolor": "white",
            "showbackground": true,
            "ticks": "",
            "zerolinecolor": "white"
           }
          },
          "shapedefaults": {
           "line": {
            "color": "#2a3f5f"
           }
          },
          "ternary": {
           "aaxis": {
            "gridcolor": "white",
            "linecolor": "white",
            "ticks": ""
           },
           "baxis": {
            "gridcolor": "white",
            "linecolor": "white",
            "ticks": ""
           },
           "bgcolor": "#E5ECF6",
           "caxis": {
            "gridcolor": "white",
            "linecolor": "white",
            "ticks": ""
           }
          },
          "title": {
           "x": 0.05
          },
          "xaxis": {
           "automargin": true,
           "gridcolor": "white",
           "linecolor": "white",
           "ticks": "",
           "title": {
            "standoff": 15
           },
           "zerolinecolor": "white",
           "zerolinewidth": 2
          },
          "yaxis": {
           "automargin": true,
           "gridcolor": "white",
           "linecolor": "white",
           "ticks": "",
           "title": {
            "standoff": 15
           },
           "zerolinecolor": "white",
           "zerolinewidth": 2
          }
         }
        },
        "title": {
         "text": "Measurements on 2020-04-15 00:00:00"
        },
        "width": 1000
       }
      }
     },
     "metadata": {}
    }
   ],
   "source": [
    "def show_map(measurements, time, feature):\n",
    "    x = measurements[measurements['time'] == time]\n",
    "    \n",
    "    # x = x.merge(meta, on=['device_id', 'city'])\n",
    "    x = gpd.GeoDataFrame(x)\n",
    "\n",
    "    x[\"size\"] = 10\n",
    "\n",
    "    fig = px.scatter_mapbox(x,\n",
    "                            lat=x.geometry.y,\n",
    "                            lon=x.geometry.x,\n",
    "                            hover_name='city',\n",
    "                            hover_data=[\"device_id\", 'device_name'],\n",
    "                            color=feature,\n",
    "                            size='size',\n",
    "                            color_continuous_scale=px.colors.sequential.matter,\n",
    "                            width=1000, height=700)\n",
    "\n",
    "    fig.update_layout(\n",
    "        title=f'Measurements on {time}',\n",
    "        autosize=True,\n",
    "        hovermode='closest',\n",
    "        showlegend=False,\n",
    "        mapbox=dict(\n",
    "            bearing=0,\n",
    "            center=dict(\n",
    "                lat=39,\n",
    "                lon=117\n",
    "            ),\n",
    "            pitch=0,\n",
    "            zoom=5,\n",
    "            style='stamen-terrain' # 'stamen-terrain'\n",
    "        ),\n",
    "    )\n",
    "\n",
    "    fig.show()\n",
    "    # plt.show()s\n",
    "\n",
    "# interact(show_map, time=date_slider)\n",
    "show_map(data.measurements_joined, '2020-04-15 00:00:00', 'pm25')"
   ]
  },
  {
   "source": [
    "### Check for missing data"
   ],
   "cell_type": "markdown",
   "metadata": {}
  },
  {
   "cell_type": "code",
   "execution_count": 26,
   "metadata": {},
   "outputs": [],
   "source": [
    "# select only every third hour (that's how they use it in PM2.5-GNN) - use %2==2, since we have most data for (2:00, 5:00, 8:00, etc.)\n",
    "filtered_city_means = city_means[city_means['time'].dt.hour % 6 == 2]\n",
    "del filtered_city_means['co']\n",
    "del filtered_city_means['no2']\n",
    "del filtered_city_means['o3']\n",
    "del filtered_city_means['pm10']\n",
    "del filtered_city_means['so2']\n",
    "# filtered_city_means\n",
    "missing_city_means = filtered_city_means[filtered_city_means.isnull().any(axis=1)]"
   ]
  },
  {
   "source": [
    "There's quite a few entries, where we don't have a single measurement per city:"
   ],
   "cell_type": "markdown",
   "metadata": {}
  },
  {
   "cell_type": "code",
   "execution_count": 27,
   "metadata": {},
   "outputs": [
    {
     "output_type": "execute_result",
     "data": {
      "text/plain": [
       "      device_id                time  pm25  temperature  humidity  windSpeed  \\\n",
       "45459   Beijing 2016-03-08 02:00:00   NaN     0.187037  0.220370   7.625556   \n",
       "46449   Beijing 2016-04-18 08:00:00   NaN    13.851235  0.311852   6.720000   \n",
       "46473   Beijing 2016-04-19 08:00:00   NaN    10.847942  0.627037   6.720000   \n",
       "48915   Beijing 2016-07-30 02:00:00   NaN    27.862346  0.844074   6.720000   \n",
       "49149   Beijing 2016-08-08 20:00:00   NaN    26.843621  0.662222   4.480000   \n",
       "...         ...                 ...   ...          ...       ...        ...   \n",
       "86283   Beijing 2020-11-03 02:00:00   NaN     3.484362  0.182963   3.548148   \n",
       "86289   Beijing 2020-11-03 08:00:00   NaN     2.942798  0.256296   3.371111   \n",
       "86841   Beijing 2020-11-26 08:00:00   NaN    -1.250206  0.608889   2.531481   \n",
       "87237   Beijing 2020-12-12 20:00:00   NaN    -0.088477  0.678519   6.358148   \n",
       "87687   Beijing 2020-12-31 14:00:00   NaN    -0.936420  0.072963   6.852963   \n",
       "\n",
       "       windBearing  precipIntensity         lon        lat  \n",
       "45459    42.259259         0.000000  116.405514  39.986543  \n",
       "46449     0.000000         0.000000  116.405514  39.986543  \n",
       "46473   120.000000         0.000000  116.405514  39.986543  \n",
       "48915   110.000000         0.000000  116.405514  39.986543  \n",
       "49149   161.000000         0.000000  116.405514  39.986543  \n",
       "...            ...              ...         ...        ...  \n",
       "86283   276.851852         0.000000  116.405514  39.986543  \n",
       "86289   288.370370         0.000000  116.405514  39.986543  \n",
       "86841    75.296296         0.000000  116.405514  39.986543  \n",
       "87237   261.074074         0.007615  116.405514  39.986543  \n",
       "87687   278.740741         0.000000  116.405514  39.986543  \n",
       "\n",
       "[437 rows x 10 columns]"
      ],
      "text/html": "<div>\n<style scoped>\n    .dataframe tbody tr th:only-of-type {\n        vertical-align: middle;\n    }\n\n    .dataframe tbody tr th {\n        vertical-align: top;\n    }\n\n    .dataframe thead th {\n        text-align: right;\n    }\n</style>\n<table border=\"1\" class=\"dataframe\">\n  <thead>\n    <tr style=\"text-align: right;\">\n      <th></th>\n      <th>device_id</th>\n      <th>time</th>\n      <th>pm25</th>\n      <th>temperature</th>\n      <th>humidity</th>\n      <th>windSpeed</th>\n      <th>windBearing</th>\n      <th>precipIntensity</th>\n      <th>lon</th>\n      <th>lat</th>\n    </tr>\n  </thead>\n  <tbody>\n    <tr>\n      <th>45459</th>\n      <td>Beijing</td>\n      <td>2016-03-08 02:00:00</td>\n      <td>NaN</td>\n      <td>0.187037</td>\n      <td>0.220370</td>\n      <td>7.625556</td>\n      <td>42.259259</td>\n      <td>0.000000</td>\n      <td>116.405514</td>\n      <td>39.986543</td>\n    </tr>\n    <tr>\n      <th>46449</th>\n      <td>Beijing</td>\n      <td>2016-04-18 08:00:00</td>\n      <td>NaN</td>\n      <td>13.851235</td>\n      <td>0.311852</td>\n      <td>6.720000</td>\n      <td>0.000000</td>\n      <td>0.000000</td>\n      <td>116.405514</td>\n      <td>39.986543</td>\n    </tr>\n    <tr>\n      <th>46473</th>\n      <td>Beijing</td>\n      <td>2016-04-19 08:00:00</td>\n      <td>NaN</td>\n      <td>10.847942</td>\n      <td>0.627037</td>\n      <td>6.720000</td>\n      <td>120.000000</td>\n      <td>0.000000</td>\n      <td>116.405514</td>\n      <td>39.986543</td>\n    </tr>\n    <tr>\n      <th>48915</th>\n      <td>Beijing</td>\n      <td>2016-07-30 02:00:00</td>\n      <td>NaN</td>\n      <td>27.862346</td>\n      <td>0.844074</td>\n      <td>6.720000</td>\n      <td>110.000000</td>\n      <td>0.000000</td>\n      <td>116.405514</td>\n      <td>39.986543</td>\n    </tr>\n    <tr>\n      <th>49149</th>\n      <td>Beijing</td>\n      <td>2016-08-08 20:00:00</td>\n      <td>NaN</td>\n      <td>26.843621</td>\n      <td>0.662222</td>\n      <td>4.480000</td>\n      <td>161.000000</td>\n      <td>0.000000</td>\n      <td>116.405514</td>\n      <td>39.986543</td>\n    </tr>\n    <tr>\n      <th>...</th>\n      <td>...</td>\n      <td>...</td>\n      <td>...</td>\n      <td>...</td>\n      <td>...</td>\n      <td>...</td>\n      <td>...</td>\n      <td>...</td>\n      <td>...</td>\n      <td>...</td>\n    </tr>\n    <tr>\n      <th>86283</th>\n      <td>Beijing</td>\n      <td>2020-11-03 02:00:00</td>\n      <td>NaN</td>\n      <td>3.484362</td>\n      <td>0.182963</td>\n      <td>3.548148</td>\n      <td>276.851852</td>\n      <td>0.000000</td>\n      <td>116.405514</td>\n      <td>39.986543</td>\n    </tr>\n    <tr>\n      <th>86289</th>\n      <td>Beijing</td>\n      <td>2020-11-03 08:00:00</td>\n      <td>NaN</td>\n      <td>2.942798</td>\n      <td>0.256296</td>\n      <td>3.371111</td>\n      <td>288.370370</td>\n      <td>0.000000</td>\n      <td>116.405514</td>\n      <td>39.986543</td>\n    </tr>\n    <tr>\n      <th>86841</th>\n      <td>Beijing</td>\n      <td>2020-11-26 08:00:00</td>\n      <td>NaN</td>\n      <td>-1.250206</td>\n      <td>0.608889</td>\n      <td>2.531481</td>\n      <td>75.296296</td>\n      <td>0.000000</td>\n      <td>116.405514</td>\n      <td>39.986543</td>\n    </tr>\n    <tr>\n      <th>87237</th>\n      <td>Beijing</td>\n      <td>2020-12-12 20:00:00</td>\n      <td>NaN</td>\n      <td>-0.088477</td>\n      <td>0.678519</td>\n      <td>6.358148</td>\n      <td>261.074074</td>\n      <td>0.007615</td>\n      <td>116.405514</td>\n      <td>39.986543</td>\n    </tr>\n    <tr>\n      <th>87687</th>\n      <td>Beijing</td>\n      <td>2020-12-31 14:00:00</td>\n      <td>NaN</td>\n      <td>-0.936420</td>\n      <td>0.072963</td>\n      <td>6.852963</td>\n      <td>278.740741</td>\n      <td>0.000000</td>\n      <td>116.405514</td>\n      <td>39.986543</td>\n    </tr>\n  </tbody>\n</table>\n<p>437 rows × 10 columns</p>\n</div>"
     },
     "metadata": {},
     "execution_count": 27
    }
   ],
   "source": [
    "missing_city_means[missing_city_means['device_id'] == 'Beijing']"
   ]
  },
  {
   "source": [
    "### Missing data"
   ],
   "cell_type": "markdown",
   "metadata": {}
  },
  {
   "cell_type": "code",
   "execution_count": 28,
   "metadata": {},
   "outputs": [],
   "source": [
    "def analyse_missing_data(relevant):\n",
    "    relevant_missing = relevant[relevant.isnull().any(axis=1)]\n",
    "    \n",
    "    print(f\"Missing of relevant data: {len(relevant_missing) / len(relevant) * 100}%\")\n",
    "\n",
    "    missing_by_device = relevant_missing.groupby('device_id').count()\n",
    "    plt.figure(figsize=(15,5))\n",
    "    plt.bar(missing_by_device.index, missing_by_device['time'])\n",
    "    plt.xticks(missing_by_device.index, rotation='vertical')\n",
    "    plt.show()\n",
    "\n",
    "    missing_by_time = relevant_missing.groupby(relevant_missing['time']).count()\n",
    "    plt.figure(figsize=(15,5))\n",
    "    plt.plot(missing_by_time.index, missing_by_time['device_id'])\n",
    "    plt.show()\n",
    "\n",
    "    return relevant_missing"
   ]
  },
  {
   "cell_type": "code",
   "execution_count": 33,
   "metadata": {},
   "outputs": [
    {
     "output_type": "stream",
     "name": "stdout",
     "text": [
      "Missing of relevant data: 17.914889735227714%\n"
     ]
    },
    {
     "output_type": "display_data",
     "data": {
      "text/plain": "<Figure size 1080x360 with 1 Axes>",
      "image/svg+xml": "<?xml version=\"1.0\" encoding=\"utf-8\" standalone=\"no\"?>\n<!DOCTYPE svg PUBLIC \"-//W3C//DTD SVG 1.1//EN\"\n  \"http://www.w3.org/Graphics/SVG/1.1/DTD/svg11.dtd\">\n<!-- Created with matplotlib (https://matplotlib.org/) -->\n<svg height=\"345.6625pt\" version=\"1.1\" viewBox=\"0 0 890.2125 345.6625\" width=\"890.2125pt\" xmlns=\"http://www.w3.org/2000/svg\" xmlns:xlink=\"http://www.w3.org/1999/xlink\">\n <metadata>\n  <rdf:RDF xmlns:cc=\"http://creativecommons.org/ns#\" xmlns:dc=\"http://purl.org/dc/elements/1.1/\" xmlns:rdf=\"http://www.w3.org/1999/02/22-rdf-syntax-ns#\">\n   <cc:Work>\n    <dc:type rdf:resource=\"http://purl.org/dc/dcmitype/StillImage\"/>\n    <dc:date>2021-03-07T09:49:00.121275</dc:date>\n    <dc:format>image/svg+xml</dc:format>\n    <dc:creator>\n     <cc:Agent>\n      <dc:title>Matplotlib v3.3.3, https://matplotlib.org/</dc:title>\n     </cc:Agent>\n    </dc:creator>\n   </cc:Work>\n  </rdf:RDF>\n </metadata>\n <defs>\n  <style type=\"text/css\">*{stroke-linecap:butt;stroke-linejoin:round;}</style>\n </defs>\n <g id=\"figure_1\">\n  <g id=\"patch_1\">\n   <path d=\"M 0 345.6625 \nL 890.2125 345.6625 \nL 890.2125 0 \nL 0 0 \nz\n\" style=\"fill:none;\"/>\n  </g>\n  <g id=\"axes_1\">\n   <g id=\"patch_2\">\n    <path d=\"M 46.0125 279 \nL 883.0125 279 \nL 883.0125 7.2 \nL 46.0125 7.2 \nz\n\" style=\"fill:#ffffff;\"/>\n   </g>\n   <g id=\"patch_3\">\n    <path clip-path=\"url(#p97e5c00784)\" d=\"M 84.057955 279 \nL 162.099913 279 \nL 162.099913 269.171607 \nL 84.057955 269.171607 \nz\n\" style=\"fill:#1f77b4;\"/>\n   </g>\n   <g id=\"patch_4\">\n    <path clip-path=\"url(#p97e5c00784)\" d=\"M 181.610402 279 \nL 259.65236 279 \nL 259.65236 269.062474 \nL 181.610402 269.062474 \nz\n\" style=\"fill:#1f77b4;\"/>\n   </g>\n   <g id=\"patch_5\">\n    <path clip-path=\"url(#p97e5c00784)\" d=\"M 279.16285 279 \nL 357.204808 279 \nL 357.204808 262.829052 \nL 279.16285 262.829052 \nz\n\" style=\"fill:#1f77b4;\"/>\n   </g>\n   <g id=\"patch_6\">\n    <path clip-path=\"url(#p97e5c00784)\" d=\"M 376.715297 279 \nL 454.757255 279 \nL 454.757255 20.142857 \nL 376.715297 20.142857 \nz\n\" style=\"fill:#1f77b4;\"/>\n   </g>\n   <g id=\"patch_7\">\n    <path clip-path=\"url(#p97e5c00784)\" d=\"M 474.267745 279 \nL 552.309703 279 \nL 552.309703 256.184776 \nL 474.267745 256.184776 \nz\n\" style=\"fill:#1f77b4;\"/>\n   </g>\n   <g id=\"patch_8\">\n    <path clip-path=\"url(#p97e5c00784)\" d=\"M 571.820192 279 \nL 649.86215 279 \nL 649.86215 251.337985 \nL 571.820192 251.337985 \nz\n\" style=\"fill:#1f77b4;\"/>\n   </g>\n   <g id=\"patch_9\">\n    <path clip-path=\"url(#p97e5c00784)\" d=\"M 669.37264 279 \nL 747.414598 279 \nL 747.414598 245.342088 \nL 669.37264 245.342088 \nz\n\" style=\"fill:#1f77b4;\"/>\n   </g>\n   <g id=\"patch_10\">\n    <path clip-path=\"url(#p97e5c00784)\" d=\"M 766.925087 279 \nL 844.967045 279 \nL 844.967045 254.496424 \nL 766.925087 254.496424 \nz\n\" style=\"fill:#1f77b4;\"/>\n   </g>\n   <g id=\"matplotlib.axis_1\">\n    <g id=\"xtick_1\">\n     <g id=\"line2d_1\">\n      <defs>\n       <path d=\"M 0 0 \nL 0 3.5 \n\" id=\"m718f581105\" style=\"stroke:#000000;stroke-width:0.8;\"/>\n      </defs>\n      <g>\n       <use style=\"stroke:#000000;stroke-width:0.8;\" x=\"123.078934\" xlink:href=\"#m718f581105\" y=\"279\"/>\n      </g>\n     </g>\n     <g id=\"text_1\">\n      <!-- 1037A -->\n      <g transform=\"translate(125.838309 318.290625)rotate(-90)scale(0.1 -0.1)\">\n       <defs>\n        <path d=\"M 12.40625 8.296875 \nL 28.515625 8.296875 \nL 28.515625 63.921875 \nL 10.984375 60.40625 \nL 10.984375 69.390625 \nL 28.421875 72.90625 \nL 38.28125 72.90625 \nL 38.28125 8.296875 \nL 54.390625 8.296875 \nL 54.390625 0 \nL 12.40625 0 \nz\n\" id=\"DejaVuSans-49\"/>\n        <path d=\"M 31.78125 66.40625 \nQ 24.171875 66.40625 20.328125 58.90625 \nQ 16.5 51.421875 16.5 36.375 \nQ 16.5 21.390625 20.328125 13.890625 \nQ 24.171875 6.390625 31.78125 6.390625 \nQ 39.453125 6.390625 43.28125 13.890625 \nQ 47.125 21.390625 47.125 36.375 \nQ 47.125 51.421875 43.28125 58.90625 \nQ 39.453125 66.40625 31.78125 66.40625 \nz\nM 31.78125 74.21875 \nQ 44.046875 74.21875 50.515625 64.515625 \nQ 56.984375 54.828125 56.984375 36.375 \nQ 56.984375 17.96875 50.515625 8.265625 \nQ 44.046875 -1.421875 31.78125 -1.421875 \nQ 19.53125 -1.421875 13.0625 8.265625 \nQ 6.59375 17.96875 6.59375 36.375 \nQ 6.59375 54.828125 13.0625 64.515625 \nQ 19.53125 74.21875 31.78125 74.21875 \nz\n\" id=\"DejaVuSans-48\"/>\n        <path d=\"M 40.578125 39.3125 \nQ 47.65625 37.796875 51.625 33 \nQ 55.609375 28.21875 55.609375 21.1875 \nQ 55.609375 10.40625 48.1875 4.484375 \nQ 40.765625 -1.421875 27.09375 -1.421875 \nQ 22.515625 -1.421875 17.65625 -0.515625 \nQ 12.796875 0.390625 7.625 2.203125 \nL 7.625 11.71875 \nQ 11.71875 9.328125 16.59375 8.109375 \nQ 21.484375 6.890625 26.8125 6.890625 \nQ 36.078125 6.890625 40.9375 10.546875 \nQ 45.796875 14.203125 45.796875 21.1875 \nQ 45.796875 27.640625 41.28125 31.265625 \nQ 36.765625 34.90625 28.71875 34.90625 \nL 20.21875 34.90625 \nL 20.21875 43.015625 \nL 29.109375 43.015625 \nQ 36.375 43.015625 40.234375 45.921875 \nQ 44.09375 48.828125 44.09375 54.296875 \nQ 44.09375 59.90625 40.109375 62.90625 \nQ 36.140625 65.921875 28.71875 65.921875 \nQ 24.65625 65.921875 20.015625 65.03125 \nQ 15.375 64.15625 9.8125 62.3125 \nL 9.8125 71.09375 \nQ 15.4375 72.65625 20.34375 73.4375 \nQ 25.25 74.21875 29.59375 74.21875 \nQ 40.828125 74.21875 47.359375 69.109375 \nQ 53.90625 64.015625 53.90625 55.328125 \nQ 53.90625 49.265625 50.4375 45.09375 \nQ 46.96875 40.921875 40.578125 39.3125 \nz\n\" id=\"DejaVuSans-51\"/>\n        <path d=\"M 8.203125 72.90625 \nL 55.078125 72.90625 \nL 55.078125 68.703125 \nL 28.609375 0 \nL 18.3125 0 \nL 43.21875 64.59375 \nL 8.203125 64.59375 \nz\n\" id=\"DejaVuSans-55\"/>\n        <path d=\"M 34.1875 63.1875 \nL 20.796875 26.90625 \nL 47.609375 26.90625 \nz\nM 28.609375 72.90625 \nL 39.796875 72.90625 \nL 67.578125 0 \nL 57.328125 0 \nL 50.6875 18.703125 \nL 17.828125 18.703125 \nL 11.1875 0 \nL 0.78125 0 \nz\n\" id=\"DejaVuSans-65\"/>\n       </defs>\n       <use xlink:href=\"#DejaVuSans-49\"/>\n       <use x=\"63.623047\" xlink:href=\"#DejaVuSans-48\"/>\n       <use x=\"127.246094\" xlink:href=\"#DejaVuSans-51\"/>\n       <use x=\"190.869141\" xlink:href=\"#DejaVuSans-55\"/>\n       <use x=\"254.492188\" xlink:href=\"#DejaVuSans-65\"/>\n      </g>\n     </g>\n    </g>\n    <g id=\"xtick_2\">\n     <g id=\"line2d_2\">\n      <g>\n       <use style=\"stroke:#000000;stroke-width:0.8;\" x=\"220.631381\" xlink:href=\"#m718f581105\" y=\"279\"/>\n      </g>\n     </g>\n     <g id=\"text_2\">\n      <!-- 1056A -->\n      <g transform=\"translate(223.390756 318.290625)rotate(-90)scale(0.1 -0.1)\">\n       <defs>\n        <path d=\"M 10.796875 72.90625 \nL 49.515625 72.90625 \nL 49.515625 64.59375 \nL 19.828125 64.59375 \nL 19.828125 46.734375 \nQ 21.96875 47.46875 24.109375 47.828125 \nQ 26.265625 48.1875 28.421875 48.1875 \nQ 40.625 48.1875 47.75 41.5 \nQ 54.890625 34.8125 54.890625 23.390625 \nQ 54.890625 11.625 47.5625 5.09375 \nQ 40.234375 -1.421875 26.90625 -1.421875 \nQ 22.3125 -1.421875 17.546875 -0.640625 \nQ 12.796875 0.140625 7.71875 1.703125 \nL 7.71875 11.625 \nQ 12.109375 9.234375 16.796875 8.0625 \nQ 21.484375 6.890625 26.703125 6.890625 \nQ 35.15625 6.890625 40.078125 11.328125 \nQ 45.015625 15.765625 45.015625 23.390625 \nQ 45.015625 31 40.078125 35.4375 \nQ 35.15625 39.890625 26.703125 39.890625 \nQ 22.75 39.890625 18.8125 39.015625 \nQ 14.890625 38.140625 10.796875 36.28125 \nz\n\" id=\"DejaVuSans-53\"/>\n        <path d=\"M 33.015625 40.375 \nQ 26.375 40.375 22.484375 35.828125 \nQ 18.609375 31.296875 18.609375 23.390625 \nQ 18.609375 15.53125 22.484375 10.953125 \nQ 26.375 6.390625 33.015625 6.390625 \nQ 39.65625 6.390625 43.53125 10.953125 \nQ 47.40625 15.53125 47.40625 23.390625 \nQ 47.40625 31.296875 43.53125 35.828125 \nQ 39.65625 40.375 33.015625 40.375 \nz\nM 52.59375 71.296875 \nL 52.59375 62.3125 \nQ 48.875 64.0625 45.09375 64.984375 \nQ 41.3125 65.921875 37.59375 65.921875 \nQ 27.828125 65.921875 22.671875 59.328125 \nQ 17.53125 52.734375 16.796875 39.40625 \nQ 19.671875 43.65625 24.015625 45.921875 \nQ 28.375 48.1875 33.59375 48.1875 \nQ 44.578125 48.1875 50.953125 41.515625 \nQ 57.328125 34.859375 57.328125 23.390625 \nQ 57.328125 12.15625 50.6875 5.359375 \nQ 44.046875 -1.421875 33.015625 -1.421875 \nQ 20.359375 -1.421875 13.671875 8.265625 \nQ 6.984375 17.96875 6.984375 36.375 \nQ 6.984375 53.65625 15.1875 63.9375 \nQ 23.390625 74.21875 37.203125 74.21875 \nQ 40.921875 74.21875 44.703125 73.484375 \nQ 48.484375 72.75 52.59375 71.296875 \nz\n\" id=\"DejaVuSans-54\"/>\n       </defs>\n       <use xlink:href=\"#DejaVuSans-49\"/>\n       <use x=\"63.623047\" xlink:href=\"#DejaVuSans-48\"/>\n       <use x=\"127.246094\" xlink:href=\"#DejaVuSans-53\"/>\n       <use x=\"190.869141\" xlink:href=\"#DejaVuSans-54\"/>\n       <use x=\"254.492188\" xlink:href=\"#DejaVuSans-65\"/>\n      </g>\n     </g>\n    </g>\n    <g id=\"xtick_3\">\n     <g id=\"line2d_3\">\n      <g>\n       <use style=\"stroke:#000000;stroke-width:0.8;\" x=\"318.183829\" xlink:href=\"#m718f581105\" y=\"279\"/>\n      </g>\n     </g>\n     <g id=\"text_3\">\n      <!-- 1061A -->\n      <g transform=\"translate(320.943204 318.290625)rotate(-90)scale(0.1 -0.1)\">\n       <use xlink:href=\"#DejaVuSans-49\"/>\n       <use x=\"63.623047\" xlink:href=\"#DejaVuSans-48\"/>\n       <use x=\"127.246094\" xlink:href=\"#DejaVuSans-54\"/>\n       <use x=\"190.869141\" xlink:href=\"#DejaVuSans-49\"/>\n       <use x=\"254.492188\" xlink:href=\"#DejaVuSans-65\"/>\n      </g>\n     </g>\n    </g>\n    <g id=\"xtick_4\">\n     <g id=\"line2d_4\">\n      <g>\n       <use style=\"stroke:#000000;stroke-width:0.8;\" x=\"415.736276\" xlink:href=\"#m718f581105\" y=\"279\"/>\n      </g>\n     </g>\n     <g id=\"text_4\">\n      <!-- 1069A -->\n      <g transform=\"translate(418.495651 318.290625)rotate(-90)scale(0.1 -0.1)\">\n       <defs>\n        <path d=\"M 10.984375 1.515625 \nL 10.984375 10.5 \nQ 14.703125 8.734375 18.5 7.8125 \nQ 22.3125 6.890625 25.984375 6.890625 \nQ 35.75 6.890625 40.890625 13.453125 \nQ 46.046875 20.015625 46.78125 33.40625 \nQ 43.953125 29.203125 39.59375 26.953125 \nQ 35.25 24.703125 29.984375 24.703125 \nQ 19.046875 24.703125 12.671875 31.3125 \nQ 6.296875 37.9375 6.296875 49.421875 \nQ 6.296875 60.640625 12.9375 67.421875 \nQ 19.578125 74.21875 30.609375 74.21875 \nQ 43.265625 74.21875 49.921875 64.515625 \nQ 56.59375 54.828125 56.59375 36.375 \nQ 56.59375 19.140625 48.40625 8.859375 \nQ 40.234375 -1.421875 26.421875 -1.421875 \nQ 22.703125 -1.421875 18.890625 -0.6875 \nQ 15.09375 0.046875 10.984375 1.515625 \nz\nM 30.609375 32.421875 \nQ 37.25 32.421875 41.125 36.953125 \nQ 45.015625 41.5 45.015625 49.421875 \nQ 45.015625 57.28125 41.125 61.84375 \nQ 37.25 66.40625 30.609375 66.40625 \nQ 23.96875 66.40625 20.09375 61.84375 \nQ 16.21875 57.28125 16.21875 49.421875 \nQ 16.21875 41.5 20.09375 36.953125 \nQ 23.96875 32.421875 30.609375 32.421875 \nz\n\" id=\"DejaVuSans-57\"/>\n       </defs>\n       <use xlink:href=\"#DejaVuSans-49\"/>\n       <use x=\"63.623047\" xlink:href=\"#DejaVuSans-48\"/>\n       <use x=\"127.246094\" xlink:href=\"#DejaVuSans-54\"/>\n       <use x=\"190.869141\" xlink:href=\"#DejaVuSans-57\"/>\n       <use x=\"254.492188\" xlink:href=\"#DejaVuSans-65\"/>\n      </g>\n     </g>\n    </g>\n    <g id=\"xtick_5\">\n     <g id=\"line2d_5\">\n      <g>\n       <use style=\"stroke:#000000;stroke-width:0.8;\" x=\"513.288724\" xlink:href=\"#m718f581105\" y=\"279\"/>\n      </g>\n     </g>\n     <g id=\"text_5\">\n      <!-- changping -->\n      <g transform=\"translate(516.048099 338.4625)rotate(-90)scale(0.1 -0.1)\">\n       <defs>\n        <path d=\"M 48.78125 52.59375 \nL 48.78125 44.1875 \nQ 44.96875 46.296875 41.140625 47.34375 \nQ 37.3125 48.390625 33.40625 48.390625 \nQ 24.65625 48.390625 19.8125 42.84375 \nQ 14.984375 37.3125 14.984375 27.296875 \nQ 14.984375 17.28125 19.8125 11.734375 \nQ 24.65625 6.203125 33.40625 6.203125 \nQ 37.3125 6.203125 41.140625 7.25 \nQ 44.96875 8.296875 48.78125 10.40625 \nL 48.78125 2.09375 \nQ 45.015625 0.34375 40.984375 -0.53125 \nQ 36.96875 -1.421875 32.421875 -1.421875 \nQ 20.0625 -1.421875 12.78125 6.34375 \nQ 5.515625 14.109375 5.515625 27.296875 \nQ 5.515625 40.671875 12.859375 48.328125 \nQ 20.21875 56 33.015625 56 \nQ 37.15625 56 41.109375 55.140625 \nQ 45.0625 54.296875 48.78125 52.59375 \nz\n\" id=\"DejaVuSans-99\"/>\n        <path d=\"M 54.890625 33.015625 \nL 54.890625 0 \nL 45.90625 0 \nL 45.90625 32.71875 \nQ 45.90625 40.484375 42.875 44.328125 \nQ 39.84375 48.1875 33.796875 48.1875 \nQ 26.515625 48.1875 22.3125 43.546875 \nQ 18.109375 38.921875 18.109375 30.90625 \nL 18.109375 0 \nL 9.078125 0 \nL 9.078125 75.984375 \nL 18.109375 75.984375 \nL 18.109375 46.1875 \nQ 21.34375 51.125 25.703125 53.5625 \nQ 30.078125 56 35.796875 56 \nQ 45.21875 56 50.046875 50.171875 \nQ 54.890625 44.34375 54.890625 33.015625 \nz\n\" id=\"DejaVuSans-104\"/>\n        <path d=\"M 34.28125 27.484375 \nQ 23.390625 27.484375 19.1875 25 \nQ 14.984375 22.515625 14.984375 16.5 \nQ 14.984375 11.71875 18.140625 8.90625 \nQ 21.296875 6.109375 26.703125 6.109375 \nQ 34.1875 6.109375 38.703125 11.40625 \nQ 43.21875 16.703125 43.21875 25.484375 \nL 43.21875 27.484375 \nz\nM 52.203125 31.203125 \nL 52.203125 0 \nL 43.21875 0 \nL 43.21875 8.296875 \nQ 40.140625 3.328125 35.546875 0.953125 \nQ 30.953125 -1.421875 24.3125 -1.421875 \nQ 15.921875 -1.421875 10.953125 3.296875 \nQ 6 8.015625 6 15.921875 \nQ 6 25.140625 12.171875 29.828125 \nQ 18.359375 34.515625 30.609375 34.515625 \nL 43.21875 34.515625 \nL 43.21875 35.40625 \nQ 43.21875 41.609375 39.140625 45 \nQ 35.0625 48.390625 27.6875 48.390625 \nQ 23 48.390625 18.546875 47.265625 \nQ 14.109375 46.140625 10.015625 43.890625 \nL 10.015625 52.203125 \nQ 14.9375 54.109375 19.578125 55.046875 \nQ 24.21875 56 28.609375 56 \nQ 40.484375 56 46.34375 49.84375 \nQ 52.203125 43.703125 52.203125 31.203125 \nz\n\" id=\"DejaVuSans-97\"/>\n        <path d=\"M 54.890625 33.015625 \nL 54.890625 0 \nL 45.90625 0 \nL 45.90625 32.71875 \nQ 45.90625 40.484375 42.875 44.328125 \nQ 39.84375 48.1875 33.796875 48.1875 \nQ 26.515625 48.1875 22.3125 43.546875 \nQ 18.109375 38.921875 18.109375 30.90625 \nL 18.109375 0 \nL 9.078125 0 \nL 9.078125 54.6875 \nL 18.109375 54.6875 \nL 18.109375 46.1875 \nQ 21.34375 51.125 25.703125 53.5625 \nQ 30.078125 56 35.796875 56 \nQ 45.21875 56 50.046875 50.171875 \nQ 54.890625 44.34375 54.890625 33.015625 \nz\n\" id=\"DejaVuSans-110\"/>\n        <path d=\"M 45.40625 27.984375 \nQ 45.40625 37.75 41.375 43.109375 \nQ 37.359375 48.484375 30.078125 48.484375 \nQ 22.859375 48.484375 18.828125 43.109375 \nQ 14.796875 37.75 14.796875 27.984375 \nQ 14.796875 18.265625 18.828125 12.890625 \nQ 22.859375 7.515625 30.078125 7.515625 \nQ 37.359375 7.515625 41.375 12.890625 \nQ 45.40625 18.265625 45.40625 27.984375 \nz\nM 54.390625 6.78125 \nQ 54.390625 -7.171875 48.1875 -13.984375 \nQ 42 -20.796875 29.203125 -20.796875 \nQ 24.46875 -20.796875 20.265625 -20.09375 \nQ 16.0625 -19.390625 12.109375 -17.921875 \nL 12.109375 -9.1875 \nQ 16.0625 -11.328125 19.921875 -12.34375 \nQ 23.78125 -13.375 27.78125 -13.375 \nQ 36.625 -13.375 41.015625 -8.765625 \nQ 45.40625 -4.15625 45.40625 5.171875 \nL 45.40625 9.625 \nQ 42.625 4.78125 38.28125 2.390625 \nQ 33.9375 0 27.875 0 \nQ 17.828125 0 11.671875 7.65625 \nQ 5.515625 15.328125 5.515625 27.984375 \nQ 5.515625 40.671875 11.671875 48.328125 \nQ 17.828125 56 27.875 56 \nQ 33.9375 56 38.28125 53.609375 \nQ 42.625 51.21875 45.40625 46.390625 \nL 45.40625 54.6875 \nL 54.390625 54.6875 \nz\n\" id=\"DejaVuSans-103\"/>\n        <path d=\"M 18.109375 8.203125 \nL 18.109375 -20.796875 \nL 9.078125 -20.796875 \nL 9.078125 54.6875 \nL 18.109375 54.6875 \nL 18.109375 46.390625 \nQ 20.953125 51.265625 25.265625 53.625 \nQ 29.59375 56 35.59375 56 \nQ 45.5625 56 51.78125 48.09375 \nQ 58.015625 40.1875 58.015625 27.296875 \nQ 58.015625 14.40625 51.78125 6.484375 \nQ 45.5625 -1.421875 35.59375 -1.421875 \nQ 29.59375 -1.421875 25.265625 0.953125 \nQ 20.953125 3.328125 18.109375 8.203125 \nz\nM 48.6875 27.296875 \nQ 48.6875 37.203125 44.609375 42.84375 \nQ 40.53125 48.484375 33.40625 48.484375 \nQ 26.265625 48.484375 22.1875 42.84375 \nQ 18.109375 37.203125 18.109375 27.296875 \nQ 18.109375 17.390625 22.1875 11.75 \nQ 26.265625 6.109375 33.40625 6.109375 \nQ 40.53125 6.109375 44.609375 11.75 \nQ 48.6875 17.390625 48.6875 27.296875 \nz\n\" id=\"DejaVuSans-112\"/>\n        <path d=\"M 9.421875 54.6875 \nL 18.40625 54.6875 \nL 18.40625 0 \nL 9.421875 0 \nz\nM 9.421875 75.984375 \nL 18.40625 75.984375 \nL 18.40625 64.59375 \nL 9.421875 64.59375 \nz\n\" id=\"DejaVuSans-105\"/>\n       </defs>\n       <use xlink:href=\"#DejaVuSans-99\"/>\n       <use x=\"54.980469\" xlink:href=\"#DejaVuSans-104\"/>\n       <use x=\"118.359375\" xlink:href=\"#DejaVuSans-97\"/>\n       <use x=\"179.638672\" xlink:href=\"#DejaVuSans-110\"/>\n       <use x=\"243.017578\" xlink:href=\"#DejaVuSans-103\"/>\n       <use x=\"306.494141\" xlink:href=\"#DejaVuSans-112\"/>\n       <use x=\"369.970703\" xlink:href=\"#DejaVuSans-105\"/>\n       <use x=\"397.753906\" xlink:href=\"#DejaVuSans-110\"/>\n       <use x=\"461.132812\" xlink:href=\"#DejaVuSans-103\"/>\n      </g>\n     </g>\n    </g>\n    <g id=\"xtick_6\">\n     <g id=\"line2d_6\">\n      <g>\n       <use style=\"stroke:#000000;stroke-width:0.8;\" x=\"610.841171\" xlink:href=\"#m718f581105\" y=\"279\"/>\n      </g>\n     </g>\n     <g id=\"text_6\">\n      <!-- daxing -->\n      <g transform=\"translate(613.600546 319.859375)rotate(-90)scale(0.1 -0.1)\">\n       <defs>\n        <path d=\"M 45.40625 46.390625 \nL 45.40625 75.984375 \nL 54.390625 75.984375 \nL 54.390625 0 \nL 45.40625 0 \nL 45.40625 8.203125 \nQ 42.578125 3.328125 38.25 0.953125 \nQ 33.9375 -1.421875 27.875 -1.421875 \nQ 17.96875 -1.421875 11.734375 6.484375 \nQ 5.515625 14.40625 5.515625 27.296875 \nQ 5.515625 40.1875 11.734375 48.09375 \nQ 17.96875 56 27.875 56 \nQ 33.9375 56 38.25 53.625 \nQ 42.578125 51.265625 45.40625 46.390625 \nz\nM 14.796875 27.296875 \nQ 14.796875 17.390625 18.875 11.75 \nQ 22.953125 6.109375 30.078125 6.109375 \nQ 37.203125 6.109375 41.296875 11.75 \nQ 45.40625 17.390625 45.40625 27.296875 \nQ 45.40625 37.203125 41.296875 42.84375 \nQ 37.203125 48.484375 30.078125 48.484375 \nQ 22.953125 48.484375 18.875 42.84375 \nQ 14.796875 37.203125 14.796875 27.296875 \nz\n\" id=\"DejaVuSans-100\"/>\n        <path d=\"M 54.890625 54.6875 \nL 35.109375 28.078125 \nL 55.90625 0 \nL 45.3125 0 \nL 29.390625 21.484375 \nL 13.484375 0 \nL 2.875 0 \nL 24.125 28.609375 \nL 4.6875 54.6875 \nL 15.28125 54.6875 \nL 29.78125 35.203125 \nL 44.28125 54.6875 \nz\n\" id=\"DejaVuSans-120\"/>\n       </defs>\n       <use xlink:href=\"#DejaVuSans-100\"/>\n       <use x=\"63.476562\" xlink:href=\"#DejaVuSans-97\"/>\n       <use x=\"124.755859\" xlink:href=\"#DejaVuSans-120\"/>\n       <use x=\"183.935547\" xlink:href=\"#DejaVuSans-105\"/>\n       <use x=\"211.71875\" xlink:href=\"#DejaVuSans-110\"/>\n       <use x=\"275.097656\" xlink:href=\"#DejaVuSans-103\"/>\n      </g>\n     </g>\n    </g>\n    <g id=\"xtick_7\">\n     <g id=\"line2d_7\">\n      <g>\n       <use style=\"stroke:#000000;stroke-width:0.8;\" x=\"708.393619\" xlink:href=\"#m718f581105\" y=\"279\"/>\n      </g>\n     </g>\n     <g id=\"text_7\">\n      <!-- qianmen -->\n      <g transform=\"translate(711.152994 329.823438)rotate(-90)scale(0.1 -0.1)\">\n       <defs>\n        <path d=\"M 14.796875 27.296875 \nQ 14.796875 17.390625 18.875 11.75 \nQ 22.953125 6.109375 30.078125 6.109375 \nQ 37.203125 6.109375 41.296875 11.75 \nQ 45.40625 17.390625 45.40625 27.296875 \nQ 45.40625 37.203125 41.296875 42.84375 \nQ 37.203125 48.484375 30.078125 48.484375 \nQ 22.953125 48.484375 18.875 42.84375 \nQ 14.796875 37.203125 14.796875 27.296875 \nz\nM 45.40625 8.203125 \nQ 42.578125 3.328125 38.25 0.953125 \nQ 33.9375 -1.421875 27.875 -1.421875 \nQ 17.96875 -1.421875 11.734375 6.484375 \nQ 5.515625 14.40625 5.515625 27.296875 \nQ 5.515625 40.1875 11.734375 48.09375 \nQ 17.96875 56 27.875 56 \nQ 33.9375 56 38.25 53.625 \nQ 42.578125 51.265625 45.40625 46.390625 \nL 45.40625 54.6875 \nL 54.390625 54.6875 \nL 54.390625 -20.796875 \nL 45.40625 -20.796875 \nz\n\" id=\"DejaVuSans-113\"/>\n        <path d=\"M 52 44.1875 \nQ 55.375 50.25 60.0625 53.125 \nQ 64.75 56 71.09375 56 \nQ 79.640625 56 84.28125 50.015625 \nQ 88.921875 44.046875 88.921875 33.015625 \nL 88.921875 0 \nL 79.890625 0 \nL 79.890625 32.71875 \nQ 79.890625 40.578125 77.09375 44.375 \nQ 74.3125 48.1875 68.609375 48.1875 \nQ 61.625 48.1875 57.5625 43.546875 \nQ 53.515625 38.921875 53.515625 30.90625 \nL 53.515625 0 \nL 44.484375 0 \nL 44.484375 32.71875 \nQ 44.484375 40.625 41.703125 44.40625 \nQ 38.921875 48.1875 33.109375 48.1875 \nQ 26.21875 48.1875 22.15625 43.53125 \nQ 18.109375 38.875 18.109375 30.90625 \nL 18.109375 0 \nL 9.078125 0 \nL 9.078125 54.6875 \nL 18.109375 54.6875 \nL 18.109375 46.1875 \nQ 21.1875 51.21875 25.484375 53.609375 \nQ 29.78125 56 35.6875 56 \nQ 41.65625 56 45.828125 52.96875 \nQ 50 49.953125 52 44.1875 \nz\n\" id=\"DejaVuSans-109\"/>\n        <path d=\"M 56.203125 29.59375 \nL 56.203125 25.203125 \nL 14.890625 25.203125 \nQ 15.484375 15.921875 20.484375 11.0625 \nQ 25.484375 6.203125 34.421875 6.203125 \nQ 39.59375 6.203125 44.453125 7.46875 \nQ 49.3125 8.734375 54.109375 11.28125 \nL 54.109375 2.78125 \nQ 49.265625 0.734375 44.1875 -0.34375 \nQ 39.109375 -1.421875 33.890625 -1.421875 \nQ 20.796875 -1.421875 13.15625 6.1875 \nQ 5.515625 13.8125 5.515625 26.8125 \nQ 5.515625 40.234375 12.765625 48.109375 \nQ 20.015625 56 32.328125 56 \nQ 43.359375 56 49.78125 48.890625 \nQ 56.203125 41.796875 56.203125 29.59375 \nz\nM 47.21875 32.234375 \nQ 47.125 39.59375 43.09375 43.984375 \nQ 39.0625 48.390625 32.421875 48.390625 \nQ 24.90625 48.390625 20.390625 44.140625 \nQ 15.875 39.890625 15.1875 32.171875 \nz\n\" id=\"DejaVuSans-101\"/>\n       </defs>\n       <use xlink:href=\"#DejaVuSans-113\"/>\n       <use x=\"63.476562\" xlink:href=\"#DejaVuSans-105\"/>\n       <use x=\"91.259766\" xlink:href=\"#DejaVuSans-97\"/>\n       <use x=\"152.539062\" xlink:href=\"#DejaVuSans-110\"/>\n       <use x=\"215.917969\" xlink:href=\"#DejaVuSans-109\"/>\n       <use x=\"313.330078\" xlink:href=\"#DejaVuSans-101\"/>\n       <use x=\"374.853516\" xlink:href=\"#DejaVuSans-110\"/>\n      </g>\n     </g>\n    </g>\n    <g id=\"xtick_8\">\n     <g id=\"line2d_8\">\n      <g>\n       <use style=\"stroke:#000000;stroke-width:0.8;\" x=\"805.946066\" xlink:href=\"#m718f581105\" y=\"279\"/>\n      </g>\n     </g>\n     <g id=\"text_8\">\n      <!-- shunyi -->\n      <g transform=\"translate(808.705441 318.91875)rotate(-90)scale(0.1 -0.1)\">\n       <defs>\n        <path d=\"M 44.28125 53.078125 \nL 44.28125 44.578125 \nQ 40.484375 46.53125 36.375 47.5 \nQ 32.28125 48.484375 27.875 48.484375 \nQ 21.1875 48.484375 17.84375 46.4375 \nQ 14.5 44.390625 14.5 40.28125 \nQ 14.5 37.15625 16.890625 35.375 \nQ 19.28125 33.59375 26.515625 31.984375 \nL 29.59375 31.296875 \nQ 39.15625 29.25 43.1875 25.515625 \nQ 47.21875 21.78125 47.21875 15.09375 \nQ 47.21875 7.46875 41.1875 3.015625 \nQ 35.15625 -1.421875 24.609375 -1.421875 \nQ 20.21875 -1.421875 15.453125 -0.5625 \nQ 10.6875 0.296875 5.421875 2 \nL 5.421875 11.28125 \nQ 10.40625 8.6875 15.234375 7.390625 \nQ 20.0625 6.109375 24.8125 6.109375 \nQ 31.15625 6.109375 34.5625 8.28125 \nQ 37.984375 10.453125 37.984375 14.40625 \nQ 37.984375 18.0625 35.515625 20.015625 \nQ 33.0625 21.96875 24.703125 23.78125 \nL 21.578125 24.515625 \nQ 13.234375 26.265625 9.515625 29.90625 \nQ 5.8125 33.546875 5.8125 39.890625 \nQ 5.8125 47.609375 11.28125 51.796875 \nQ 16.75 56 26.8125 56 \nQ 31.78125 56 36.171875 55.265625 \nQ 40.578125 54.546875 44.28125 53.078125 \nz\n\" id=\"DejaVuSans-115\"/>\n        <path d=\"M 8.5 21.578125 \nL 8.5 54.6875 \nL 17.484375 54.6875 \nL 17.484375 21.921875 \nQ 17.484375 14.15625 20.5 10.265625 \nQ 23.53125 6.390625 29.59375 6.390625 \nQ 36.859375 6.390625 41.078125 11.03125 \nQ 45.3125 15.671875 45.3125 23.6875 \nL 45.3125 54.6875 \nL 54.296875 54.6875 \nL 54.296875 0 \nL 45.3125 0 \nL 45.3125 8.40625 \nQ 42.046875 3.421875 37.71875 1 \nQ 33.40625 -1.421875 27.6875 -1.421875 \nQ 18.265625 -1.421875 13.375 4.4375 \nQ 8.5 10.296875 8.5 21.578125 \nz\nM 31.109375 56 \nz\n\" id=\"DejaVuSans-117\"/>\n        <path d=\"M 32.171875 -5.078125 \nQ 28.375 -14.84375 24.75 -17.8125 \nQ 21.140625 -20.796875 15.09375 -20.796875 \nL 7.90625 -20.796875 \nL 7.90625 -13.28125 \nL 13.1875 -13.28125 \nQ 16.890625 -13.28125 18.9375 -11.515625 \nQ 21 -9.765625 23.484375 -3.21875 \nL 25.09375 0.875 \nL 2.984375 54.6875 \nL 12.5 54.6875 \nL 29.59375 11.921875 \nL 46.6875 54.6875 \nL 56.203125 54.6875 \nz\n\" id=\"DejaVuSans-121\"/>\n       </defs>\n       <use xlink:href=\"#DejaVuSans-115\"/>\n       <use x=\"52.099609\" xlink:href=\"#DejaVuSans-104\"/>\n       <use x=\"115.478516\" xlink:href=\"#DejaVuSans-117\"/>\n       <use x=\"178.857422\" xlink:href=\"#DejaVuSans-110\"/>\n       <use x=\"242.236328\" xlink:href=\"#DejaVuSans-121\"/>\n       <use x=\"301.416016\" xlink:href=\"#DejaVuSans-105\"/>\n      </g>\n     </g>\n    </g>\n   </g>\n   <g id=\"matplotlib.axis_2\">\n    <g id=\"ytick_1\">\n     <g id=\"line2d_9\">\n      <defs>\n       <path d=\"M 0 0 \nL -3.5 0 \n\" id=\"mdebd5c2152\" style=\"stroke:#000000;stroke-width:0.8;\"/>\n      </defs>\n      <g>\n       <use style=\"stroke:#000000;stroke-width:0.8;\" x=\"46.0125\" xlink:href=\"#mdebd5c2152\" y=\"279\"/>\n      </g>\n     </g>\n     <g id=\"text_9\">\n      <!-- 0 -->\n      <g transform=\"translate(32.65 282.799219)scale(0.1 -0.1)\">\n       <use xlink:href=\"#DejaVuSans-48\"/>\n      </g>\n     </g>\n    </g>\n    <g id=\"ytick_2\">\n     <g id=\"line2d_10\">\n      <g>\n       <use style=\"stroke:#000000;stroke-width:0.8;\" x=\"46.0125\" xlink:href=\"#mdebd5c2152\" y=\"246.902048\"/>\n      </g>\n     </g>\n     <g id=\"text_10\">\n      <!-- 5000 -->\n      <g transform=\"translate(13.5625 250.701267)scale(0.1 -0.1)\">\n       <use xlink:href=\"#DejaVuSans-53\"/>\n       <use x=\"63.623047\" xlink:href=\"#DejaVuSans-48\"/>\n       <use x=\"127.246094\" xlink:href=\"#DejaVuSans-48\"/>\n       <use x=\"190.869141\" xlink:href=\"#DejaVuSans-48\"/>\n      </g>\n     </g>\n    </g>\n    <g id=\"ytick_3\">\n     <g id=\"line2d_11\">\n      <g>\n       <use style=\"stroke:#000000;stroke-width:0.8;\" x=\"46.0125\" xlink:href=\"#mdebd5c2152\" y=\"214.804096\"/>\n      </g>\n     </g>\n     <g id=\"text_11\">\n      <!-- 10000 -->\n      <g transform=\"translate(7.2 218.603315)scale(0.1 -0.1)\">\n       <use xlink:href=\"#DejaVuSans-49\"/>\n       <use x=\"63.623047\" xlink:href=\"#DejaVuSans-48\"/>\n       <use x=\"127.246094\" xlink:href=\"#DejaVuSans-48\"/>\n       <use x=\"190.869141\" xlink:href=\"#DejaVuSans-48\"/>\n       <use x=\"254.492188\" xlink:href=\"#DejaVuSans-48\"/>\n      </g>\n     </g>\n    </g>\n    <g id=\"ytick_4\">\n     <g id=\"line2d_12\">\n      <g>\n       <use style=\"stroke:#000000;stroke-width:0.8;\" x=\"46.0125\" xlink:href=\"#mdebd5c2152\" y=\"182.706144\"/>\n      </g>\n     </g>\n     <g id=\"text_12\">\n      <!-- 15000 -->\n      <g transform=\"translate(7.2 186.505363)scale(0.1 -0.1)\">\n       <use xlink:href=\"#DejaVuSans-49\"/>\n       <use x=\"63.623047\" xlink:href=\"#DejaVuSans-53\"/>\n       <use x=\"127.246094\" xlink:href=\"#DejaVuSans-48\"/>\n       <use x=\"190.869141\" xlink:href=\"#DejaVuSans-48\"/>\n       <use x=\"254.492188\" xlink:href=\"#DejaVuSans-48\"/>\n      </g>\n     </g>\n    </g>\n    <g id=\"ytick_5\">\n     <g id=\"line2d_13\">\n      <g>\n       <use style=\"stroke:#000000;stroke-width:0.8;\" x=\"46.0125\" xlink:href=\"#mdebd5c2152\" y=\"150.608192\"/>\n      </g>\n     </g>\n     <g id=\"text_13\">\n      <!-- 20000 -->\n      <g transform=\"translate(7.2 154.407411)scale(0.1 -0.1)\">\n       <defs>\n        <path d=\"M 19.1875 8.296875 \nL 53.609375 8.296875 \nL 53.609375 0 \nL 7.328125 0 \nL 7.328125 8.296875 \nQ 12.9375 14.109375 22.625 23.890625 \nQ 32.328125 33.6875 34.8125 36.53125 \nQ 39.546875 41.84375 41.421875 45.53125 \nQ 43.3125 49.21875 43.3125 52.78125 \nQ 43.3125 58.59375 39.234375 62.25 \nQ 35.15625 65.921875 28.609375 65.921875 \nQ 23.96875 65.921875 18.8125 64.3125 \nQ 13.671875 62.703125 7.8125 59.421875 \nL 7.8125 69.390625 \nQ 13.765625 71.78125 18.9375 73 \nQ 24.125 74.21875 28.421875 74.21875 \nQ 39.75 74.21875 46.484375 68.546875 \nQ 53.21875 62.890625 53.21875 53.421875 \nQ 53.21875 48.921875 51.53125 44.890625 \nQ 49.859375 40.875 45.40625 35.40625 \nQ 44.1875 33.984375 37.640625 27.21875 \nQ 31.109375 20.453125 19.1875 8.296875 \nz\n\" id=\"DejaVuSans-50\"/>\n       </defs>\n       <use xlink:href=\"#DejaVuSans-50\"/>\n       <use x=\"63.623047\" xlink:href=\"#DejaVuSans-48\"/>\n       <use x=\"127.246094\" xlink:href=\"#DejaVuSans-48\"/>\n       <use x=\"190.869141\" xlink:href=\"#DejaVuSans-48\"/>\n       <use x=\"254.492188\" xlink:href=\"#DejaVuSans-48\"/>\n      </g>\n     </g>\n    </g>\n    <g id=\"ytick_6\">\n     <g id=\"line2d_14\">\n      <g>\n       <use style=\"stroke:#000000;stroke-width:0.8;\" x=\"46.0125\" xlink:href=\"#mdebd5c2152\" y=\"118.510241\"/>\n      </g>\n     </g>\n     <g id=\"text_14\">\n      <!-- 25000 -->\n      <g transform=\"translate(7.2 122.309459)scale(0.1 -0.1)\">\n       <use xlink:href=\"#DejaVuSans-50\"/>\n       <use x=\"63.623047\" xlink:href=\"#DejaVuSans-53\"/>\n       <use x=\"127.246094\" xlink:href=\"#DejaVuSans-48\"/>\n       <use x=\"190.869141\" xlink:href=\"#DejaVuSans-48\"/>\n       <use x=\"254.492188\" xlink:href=\"#DejaVuSans-48\"/>\n      </g>\n     </g>\n    </g>\n    <g id=\"ytick_7\">\n     <g id=\"line2d_15\">\n      <g>\n       <use style=\"stroke:#000000;stroke-width:0.8;\" x=\"46.0125\" xlink:href=\"#mdebd5c2152\" y=\"86.412289\"/>\n      </g>\n     </g>\n     <g id=\"text_15\">\n      <!-- 30000 -->\n      <g transform=\"translate(7.2 90.211507)scale(0.1 -0.1)\">\n       <use xlink:href=\"#DejaVuSans-51\"/>\n       <use x=\"63.623047\" xlink:href=\"#DejaVuSans-48\"/>\n       <use x=\"127.246094\" xlink:href=\"#DejaVuSans-48\"/>\n       <use x=\"190.869141\" xlink:href=\"#DejaVuSans-48\"/>\n       <use x=\"254.492188\" xlink:href=\"#DejaVuSans-48\"/>\n      </g>\n     </g>\n    </g>\n    <g id=\"ytick_8\">\n     <g id=\"line2d_16\">\n      <g>\n       <use style=\"stroke:#000000;stroke-width:0.8;\" x=\"46.0125\" xlink:href=\"#mdebd5c2152\" y=\"54.314337\"/>\n      </g>\n     </g>\n     <g id=\"text_16\">\n      <!-- 35000 -->\n      <g transform=\"translate(7.2 58.113555)scale(0.1 -0.1)\">\n       <use xlink:href=\"#DejaVuSans-51\"/>\n       <use x=\"63.623047\" xlink:href=\"#DejaVuSans-53\"/>\n       <use x=\"127.246094\" xlink:href=\"#DejaVuSans-48\"/>\n       <use x=\"190.869141\" xlink:href=\"#DejaVuSans-48\"/>\n       <use x=\"254.492188\" xlink:href=\"#DejaVuSans-48\"/>\n      </g>\n     </g>\n    </g>\n    <g id=\"ytick_9\">\n     <g id=\"line2d_17\">\n      <g>\n       <use style=\"stroke:#000000;stroke-width:0.8;\" x=\"46.0125\" xlink:href=\"#mdebd5c2152\" y=\"22.216385\"/>\n      </g>\n     </g>\n     <g id=\"text_17\">\n      <!-- 40000 -->\n      <g transform=\"translate(7.2 26.015604)scale(0.1 -0.1)\">\n       <defs>\n        <path d=\"M 37.796875 64.3125 \nL 12.890625 25.390625 \nL 37.796875 25.390625 \nz\nM 35.203125 72.90625 \nL 47.609375 72.90625 \nL 47.609375 25.390625 \nL 58.015625 25.390625 \nL 58.015625 17.1875 \nL 47.609375 17.1875 \nL 47.609375 0 \nL 37.796875 0 \nL 37.796875 17.1875 \nL 4.890625 17.1875 \nL 4.890625 26.703125 \nz\n\" id=\"DejaVuSans-52\"/>\n       </defs>\n       <use xlink:href=\"#DejaVuSans-52\"/>\n       <use x=\"63.623047\" xlink:href=\"#DejaVuSans-48\"/>\n       <use x=\"127.246094\" xlink:href=\"#DejaVuSans-48\"/>\n       <use x=\"190.869141\" xlink:href=\"#DejaVuSans-48\"/>\n       <use x=\"254.492188\" xlink:href=\"#DejaVuSans-48\"/>\n      </g>\n     </g>\n    </g>\n   </g>\n   <g id=\"patch_11\">\n    <path d=\"M 46.0125 279 \nL 46.0125 7.2 \n\" style=\"fill:none;stroke:#000000;stroke-linecap:square;stroke-linejoin:miter;stroke-width:0.8;\"/>\n   </g>\n   <g id=\"patch_12\">\n    <path d=\"M 883.0125 279 \nL 883.0125 7.2 \n\" style=\"fill:none;stroke:#000000;stroke-linecap:square;stroke-linejoin:miter;stroke-width:0.8;\"/>\n   </g>\n   <g id=\"patch_13\">\n    <path d=\"M 46.0125 279 \nL 883.0125 279 \n\" style=\"fill:none;stroke:#000000;stroke-linecap:square;stroke-linejoin:miter;stroke-width:0.8;\"/>\n   </g>\n   <g id=\"patch_14\">\n    <path d=\"M 46.0125 7.2 \nL 883.0125 7.2 \n\" style=\"fill:none;stroke:#000000;stroke-linecap:square;stroke-linejoin:miter;stroke-width:0.8;\"/>\n   </g>\n  </g>\n </g>\n <defs>\n  <clipPath id=\"p97e5c00784\">\n   <rect height=\"271.8\" width=\"837\" x=\"46.0125\" y=\"7.2\"/>\n  </clipPath>\n </defs>\n</svg>\n",
      "image/png": "[encoded data removed]"
     },
     "metadata": {
      "needs_background": "light"
     }
    },
    {
     "output_type": "display_data",
     "data": {
      "text/plain": "<Figure size 1080x360 with 1 Axes>",
      "image/svg+xml": "<?xml version=\"1.0\" encoding=\"utf-8\" standalone=\"no\"?>\n<!DOCTYPE svg PUBLIC \"-//W3C//DTD SVG 1.1//EN\"\n  \"http://www.w3.org/Graphics/SVG/1.1/DTD/svg11.dtd\">\n<!-- Created with matplotlib (https://matplotlib.org/) -->\n<svg height=\"302.878125pt\" version=\"1.1\" viewBox=\"0 0 864.7625 302.878125\" width=\"864.7625pt\" xmlns=\"http://www.w3.org/2000/svg\" xmlns:xlink=\"http://www.w3.org/1999/xlink\">\n <metadata>\n  <rdf:RDF xmlns:cc=\"http://creativecommons.org/ns#\" xmlns:dc=\"http://purl.org/dc/elements/1.1/\" xmlns:rdf=\"http://www.w3.org/1999/02/22-rdf-syntax-ns#\">\n   <cc:Work>\n    <dc:type rdf:resource=\"http://purl.org/dc/dcmitype/StillImage\"/>\n    <dc:date>2021-03-07T09:49:00.471803</dc:date>\n    <dc:format>image/svg+xml</dc:format>\n    <dc:creator>\n     <cc:Agent>\n      <dc:title>Matplotlib v3.3.3, https://matplotlib.org/</dc:title>\n     </cc:Agent>\n    </dc:creator>\n   </cc:Work>\n  </rdf:RDF>\n </metadata>\n <defs>\n  <style type=\"text/css\">*{stroke-linecap:butt;stroke-linejoin:round;}</style>\n </defs>\n <g id=\"figure_1\">\n  <g id=\"patch_1\">\n   <path d=\"M 0 302.878125 \nL 864.7625 302.878125 \nL 864.7625 0 \nL 0 0 \nz\n\" style=\"fill:none;\"/>\n  </g>\n  <g id=\"axes_1\">\n   <g id=\"patch_2\">\n    <path d=\"M 20.5625 279 \nL 857.5625 279 \nL 857.5625 7.2 \nL 20.5625 7.2 \nz\n\" style=\"fill:#ffffff;\"/>\n   </g>\n   <g id=\"matplotlib.axis_1\">\n    <g id=\"xtick_1\">\n     <g id=\"line2d_1\">\n      <defs>\n       <path d=\"M 0 0 \nL 0 3.5 \n\" id=\"m90bc1a3cc3\" style=\"stroke:#000000;stroke-width:0.8;\"/>\n      </defs>\n      <g>\n       <use style=\"stroke:#000000;stroke-width:0.8;\" x=\"58.607955\" xlink:href=\"#m90bc1a3cc3\" y=\"279\"/>\n      </g>\n     </g>\n     <g id=\"text_1\">\n      <!-- 2016 -->\n      <g transform=\"translate(45.882955 293.598437)scale(0.1 -0.1)\">\n       <defs>\n        <path d=\"M 19.1875 8.296875 \nL 53.609375 8.296875 \nL 53.609375 0 \nL 7.328125 0 \nL 7.328125 8.296875 \nQ 12.9375 14.109375 22.625 23.890625 \nQ 32.328125 33.6875 34.8125 36.53125 \nQ 39.546875 41.84375 41.421875 45.53125 \nQ 43.3125 49.21875 43.3125 52.78125 \nQ 43.3125 58.59375 39.234375 62.25 \nQ 35.15625 65.921875 28.609375 65.921875 \nQ 23.96875 65.921875 18.8125 64.3125 \nQ 13.671875 62.703125 7.8125 59.421875 \nL 7.8125 69.390625 \nQ 13.765625 71.78125 18.9375 73 \nQ 24.125 74.21875 28.421875 74.21875 \nQ 39.75 74.21875 46.484375 68.546875 \nQ 53.21875 62.890625 53.21875 53.421875 \nQ 53.21875 48.921875 51.53125 44.890625 \nQ 49.859375 40.875 45.40625 35.40625 \nQ 44.1875 33.984375 37.640625 27.21875 \nQ 31.109375 20.453125 19.1875 8.296875 \nz\n\" id=\"DejaVuSans-50\"/>\n        <path d=\"M 31.78125 66.40625 \nQ 24.171875 66.40625 20.328125 58.90625 \nQ 16.5 51.421875 16.5 36.375 \nQ 16.5 21.390625 20.328125 13.890625 \nQ 24.171875 6.390625 31.78125 6.390625 \nQ 39.453125 6.390625 43.28125 13.890625 \nQ 47.125 21.390625 47.125 36.375 \nQ 47.125 51.421875 43.28125 58.90625 \nQ 39.453125 66.40625 31.78125 66.40625 \nz\nM 31.78125 74.21875 \nQ 44.046875 74.21875 50.515625 64.515625 \nQ 56.984375 54.828125 56.984375 36.375 \nQ 56.984375 17.96875 50.515625 8.265625 \nQ 44.046875 -1.421875 31.78125 -1.421875 \nQ 19.53125 -1.421875 13.0625 8.265625 \nQ 6.59375 17.96875 6.59375 36.375 \nQ 6.59375 54.828125 13.0625 64.515625 \nQ 19.53125 74.21875 31.78125 74.21875 \nz\n\" id=\"DejaVuSans-48\"/>\n        <path d=\"M 12.40625 8.296875 \nL 28.515625 8.296875 \nL 28.515625 63.921875 \nL 10.984375 60.40625 \nL 10.984375 69.390625 \nL 28.421875 72.90625 \nL 38.28125 72.90625 \nL 38.28125 8.296875 \nL 54.390625 8.296875 \nL 54.390625 0 \nL 12.40625 0 \nz\n\" id=\"DejaVuSans-49\"/>\n        <path d=\"M 33.015625 40.375 \nQ 26.375 40.375 22.484375 35.828125 \nQ 18.609375 31.296875 18.609375 23.390625 \nQ 18.609375 15.53125 22.484375 10.953125 \nQ 26.375 6.390625 33.015625 6.390625 \nQ 39.65625 6.390625 43.53125 10.953125 \nQ 47.40625 15.53125 47.40625 23.390625 \nQ 47.40625 31.296875 43.53125 35.828125 \nQ 39.65625 40.375 33.015625 40.375 \nz\nM 52.59375 71.296875 \nL 52.59375 62.3125 \nQ 48.875 64.0625 45.09375 64.984375 \nQ 41.3125 65.921875 37.59375 65.921875 \nQ 27.828125 65.921875 22.671875 59.328125 \nQ 17.53125 52.734375 16.796875 39.40625 \nQ 19.671875 43.65625 24.015625 45.921875 \nQ 28.375 48.1875 33.59375 48.1875 \nQ 44.578125 48.1875 50.953125 41.515625 \nQ 57.328125 34.859375 57.328125 23.390625 \nQ 57.328125 12.15625 50.6875 5.359375 \nQ 44.046875 -1.421875 33.015625 -1.421875 \nQ 20.359375 -1.421875 13.671875 8.265625 \nQ 6.984375 17.96875 6.984375 36.375 \nQ 6.984375 53.65625 15.1875 63.9375 \nQ 23.390625 74.21875 37.203125 74.21875 \nQ 40.921875 74.21875 44.703125 73.484375 \nQ 48.484375 72.75 52.59375 71.296875 \nz\n\" id=\"DejaVuSans-54\"/>\n       </defs>\n       <use xlink:href=\"#DejaVuSans-50\"/>\n       <use x=\"63.623047\" xlink:href=\"#DejaVuSans-48\"/>\n       <use x=\"127.246094\" xlink:href=\"#DejaVuSans-49\"/>\n       <use x=\"190.869141\" xlink:href=\"#DejaVuSans-54\"/>\n      </g>\n     </g>\n    </g>\n    <g id=\"xtick_2\">\n     <g id=\"line2d_2\">\n      <g>\n       <use style=\"stroke:#000000;stroke-width:0.8;\" x=\"211.039661\" xlink:href=\"#m90bc1a3cc3\" y=\"279\"/>\n      </g>\n     </g>\n     <g id=\"text_2\">\n      <!-- 2017 -->\n      <g transform=\"translate(198.314661 293.598437)scale(0.1 -0.1)\">\n       <defs>\n        <path d=\"M 8.203125 72.90625 \nL 55.078125 72.90625 \nL 55.078125 68.703125 \nL 28.609375 0 \nL 18.3125 0 \nL 43.21875 64.59375 \nL 8.203125 64.59375 \nz\n\" id=\"DejaVuSans-55\"/>\n       </defs>\n       <use xlink:href=\"#DejaVuSans-50\"/>\n       <use x=\"63.623047\" xlink:href=\"#DejaVuSans-48\"/>\n       <use x=\"127.246094\" xlink:href=\"#DejaVuSans-49\"/>\n       <use x=\"190.869141\" xlink:href=\"#DejaVuSans-55\"/>\n      </g>\n     </g>\n    </g>\n    <g id=\"xtick_3\">\n     <g id=\"line2d_3\">\n      <g>\n       <use style=\"stroke:#000000;stroke-width:0.8;\" x=\"363.054887\" xlink:href=\"#m90bc1a3cc3\" y=\"279\"/>\n      </g>\n     </g>\n     <g id=\"text_3\">\n      <!-- 2018 -->\n      <g transform=\"translate(350.329887 293.598437)scale(0.1 -0.1)\">\n       <defs>\n        <path d=\"M 31.78125 34.625 \nQ 24.75 34.625 20.71875 30.859375 \nQ 16.703125 27.09375 16.703125 20.515625 \nQ 16.703125 13.921875 20.71875 10.15625 \nQ 24.75 6.390625 31.78125 6.390625 \nQ 38.8125 6.390625 42.859375 10.171875 \nQ 46.921875 13.96875 46.921875 20.515625 \nQ 46.921875 27.09375 42.890625 30.859375 \nQ 38.875 34.625 31.78125 34.625 \nz\nM 21.921875 38.8125 \nQ 15.578125 40.375 12.03125 44.71875 \nQ 8.5 49.078125 8.5 55.328125 \nQ 8.5 64.0625 14.71875 69.140625 \nQ 20.953125 74.21875 31.78125 74.21875 \nQ 42.671875 74.21875 48.875 69.140625 \nQ 55.078125 64.0625 55.078125 55.328125 \nQ 55.078125 49.078125 51.53125 44.71875 \nQ 48 40.375 41.703125 38.8125 \nQ 48.828125 37.15625 52.796875 32.3125 \nQ 56.78125 27.484375 56.78125 20.515625 \nQ 56.78125 9.90625 50.3125 4.234375 \nQ 43.84375 -1.421875 31.78125 -1.421875 \nQ 19.734375 -1.421875 13.25 4.234375 \nQ 6.78125 9.90625 6.78125 20.515625 \nQ 6.78125 27.484375 10.78125 32.3125 \nQ 14.796875 37.15625 21.921875 38.8125 \nz\nM 18.3125 54.390625 \nQ 18.3125 48.734375 21.84375 45.5625 \nQ 25.390625 42.390625 31.78125 42.390625 \nQ 38.140625 42.390625 41.71875 45.5625 \nQ 45.3125 48.734375 45.3125 54.390625 \nQ 45.3125 60.0625 41.71875 63.234375 \nQ 38.140625 66.40625 31.78125 66.40625 \nQ 25.390625 66.40625 21.84375 63.234375 \nQ 18.3125 60.0625 18.3125 54.390625 \nz\n\" id=\"DejaVuSans-56\"/>\n       </defs>\n       <use xlink:href=\"#DejaVuSans-50\"/>\n       <use x=\"63.623047\" xlink:href=\"#DejaVuSans-48\"/>\n       <use x=\"127.246094\" xlink:href=\"#DejaVuSans-49\"/>\n       <use x=\"190.869141\" xlink:href=\"#DejaVuSans-56\"/>\n      </g>\n     </g>\n    </g>\n    <g id=\"xtick_4\">\n     <g id=\"line2d_4\">\n      <g>\n       <use style=\"stroke:#000000;stroke-width:0.8;\" x=\"515.070113\" xlink:href=\"#m90bc1a3cc3\" y=\"279\"/>\n      </g>\n     </g>\n     <g id=\"text_4\">\n      <!-- 2019 -->\n      <g transform=\"translate(502.345113 293.598437)scale(0.1 -0.1)\">\n       <defs>\n        <path d=\"M 10.984375 1.515625 \nL 10.984375 10.5 \nQ 14.703125 8.734375 18.5 7.8125 \nQ 22.3125 6.890625 25.984375 6.890625 \nQ 35.75 6.890625 40.890625 13.453125 \nQ 46.046875 20.015625 46.78125 33.40625 \nQ 43.953125 29.203125 39.59375 26.953125 \nQ 35.25 24.703125 29.984375 24.703125 \nQ 19.046875 24.703125 12.671875 31.3125 \nQ 6.296875 37.9375 6.296875 49.421875 \nQ 6.296875 60.640625 12.9375 67.421875 \nQ 19.578125 74.21875 30.609375 74.21875 \nQ 43.265625 74.21875 49.921875 64.515625 \nQ 56.59375 54.828125 56.59375 36.375 \nQ 56.59375 19.140625 48.40625 8.859375 \nQ 40.234375 -1.421875 26.421875 -1.421875 \nQ 22.703125 -1.421875 18.890625 -0.6875 \nQ 15.09375 0.046875 10.984375 1.515625 \nz\nM 30.609375 32.421875 \nQ 37.25 32.421875 41.125 36.953125 \nQ 45.015625 41.5 45.015625 49.421875 \nQ 45.015625 57.28125 41.125 61.84375 \nQ 37.25 66.40625 30.609375 66.40625 \nQ 23.96875 66.40625 20.09375 61.84375 \nQ 16.21875 57.28125 16.21875 49.421875 \nQ 16.21875 41.5 20.09375 36.953125 \nQ 23.96875 32.421875 30.609375 32.421875 \nz\n\" id=\"DejaVuSans-57\"/>\n       </defs>\n       <use xlink:href=\"#DejaVuSans-50\"/>\n       <use x=\"63.623047\" xlink:href=\"#DejaVuSans-48\"/>\n       <use x=\"127.246094\" xlink:href=\"#DejaVuSans-49\"/>\n       <use x=\"190.869141\" xlink:href=\"#DejaVuSans-57\"/>\n      </g>\n     </g>\n    </g>\n    <g id=\"xtick_5\">\n     <g id=\"line2d_5\">\n      <g>\n       <use style=\"stroke:#000000;stroke-width:0.8;\" x=\"667.085339\" xlink:href=\"#m90bc1a3cc3\" y=\"279\"/>\n      </g>\n     </g>\n     <g id=\"text_5\">\n      <!-- 2020 -->\n      <g transform=\"translate(654.360339 293.598437)scale(0.1 -0.1)\">\n       <use xlink:href=\"#DejaVuSans-50\"/>\n       <use x=\"63.623047\" xlink:href=\"#DejaVuSans-48\"/>\n       <use x=\"127.246094\" xlink:href=\"#DejaVuSans-50\"/>\n       <use x=\"190.869141\" xlink:href=\"#DejaVuSans-48\"/>\n      </g>\n     </g>\n    </g>\n    <g id=\"xtick_6\">\n     <g id=\"line2d_6\">\n      <g>\n       <use style=\"stroke:#000000;stroke-width:0.8;\" x=\"819.517045\" xlink:href=\"#m90bc1a3cc3\" y=\"279\"/>\n      </g>\n     </g>\n     <g id=\"text_6\">\n      <!-- 2021 -->\n      <g transform=\"translate(806.792045 293.598437)scale(0.1 -0.1)\">\n       <use xlink:href=\"#DejaVuSans-50\"/>\n       <use x=\"63.623047\" xlink:href=\"#DejaVuSans-48\"/>\n       <use x=\"127.246094\" xlink:href=\"#DejaVuSans-50\"/>\n       <use x=\"190.869141\" xlink:href=\"#DejaVuSans-49\"/>\n      </g>\n     </g>\n    </g>\n   </g>\n   <g id=\"matplotlib.axis_2\">\n    <g id=\"ytick_1\">\n     <g id=\"line2d_7\">\n      <defs>\n       <path d=\"M 0 0 \nL -3.5 0 \n\" id=\"m95df8b661f\" style=\"stroke:#000000;stroke-width:0.8;\"/>\n      </defs>\n      <g>\n       <use style=\"stroke:#000000;stroke-width:0.8;\" x=\"20.5625\" xlink:href=\"#m95df8b661f\" y=\"266.645455\"/>\n      </g>\n     </g>\n     <g id=\"text_7\">\n      <!-- 1 -->\n      <g transform=\"translate(7.2 270.444673)scale(0.1 -0.1)\">\n       <use xlink:href=\"#DejaVuSans-49\"/>\n      </g>\n     </g>\n    </g>\n    <g id=\"ytick_2\">\n     <g id=\"line2d_8\">\n      <g>\n       <use style=\"stroke:#000000;stroke-width:0.8;\" x=\"20.5625\" xlink:href=\"#m95df8b661f\" y=\"231.346753\"/>\n      </g>\n     </g>\n     <g id=\"text_8\">\n      <!-- 2 -->\n      <g transform=\"translate(7.2 235.145972)scale(0.1 -0.1)\">\n       <use xlink:href=\"#DejaVuSans-50\"/>\n      </g>\n     </g>\n    </g>\n    <g id=\"ytick_3\">\n     <g id=\"line2d_9\">\n      <g>\n       <use style=\"stroke:#000000;stroke-width:0.8;\" x=\"20.5625\" xlink:href=\"#m95df8b661f\" y=\"196.048052\"/>\n      </g>\n     </g>\n     <g id=\"text_9\">\n      <!-- 3 -->\n      <g transform=\"translate(7.2 199.847271)scale(0.1 -0.1)\">\n       <defs>\n        <path d=\"M 40.578125 39.3125 \nQ 47.65625 37.796875 51.625 33 \nQ 55.609375 28.21875 55.609375 21.1875 \nQ 55.609375 10.40625 48.1875 4.484375 \nQ 40.765625 -1.421875 27.09375 -1.421875 \nQ 22.515625 -1.421875 17.65625 -0.515625 \nQ 12.796875 0.390625 7.625 2.203125 \nL 7.625 11.71875 \nQ 11.71875 9.328125 16.59375 8.109375 \nQ 21.484375 6.890625 26.8125 6.890625 \nQ 36.078125 6.890625 40.9375 10.546875 \nQ 45.796875 14.203125 45.796875 21.1875 \nQ 45.796875 27.640625 41.28125 31.265625 \nQ 36.765625 34.90625 28.71875 34.90625 \nL 20.21875 34.90625 \nL 20.21875 43.015625 \nL 29.109375 43.015625 \nQ 36.375 43.015625 40.234375 45.921875 \nQ 44.09375 48.828125 44.09375 54.296875 \nQ 44.09375 59.90625 40.109375 62.90625 \nQ 36.140625 65.921875 28.71875 65.921875 \nQ 24.65625 65.921875 20.015625 65.03125 \nQ 15.375 64.15625 9.8125 62.3125 \nL 9.8125 71.09375 \nQ 15.4375 72.65625 20.34375 73.4375 \nQ 25.25 74.21875 29.59375 74.21875 \nQ 40.828125 74.21875 47.359375 69.109375 \nQ 53.90625 64.015625 53.90625 55.328125 \nQ 53.90625 49.265625 50.4375 45.09375 \nQ 46.96875 40.921875 40.578125 39.3125 \nz\n\" id=\"DejaVuSans-51\"/>\n       </defs>\n       <use xlink:href=\"#DejaVuSans-51\"/>\n      </g>\n     </g>\n    </g>\n    <g id=\"ytick_4\">\n     <g id=\"line2d_10\">\n      <g>\n       <use style=\"stroke:#000000;stroke-width:0.8;\" x=\"20.5625\" xlink:href=\"#m95df8b661f\" y=\"160.749351\"/>\n      </g>\n     </g>\n     <g id=\"text_10\">\n      <!-- 4 -->\n      <g transform=\"translate(7.2 164.548569)scale(0.1 -0.1)\">\n       <defs>\n        <path d=\"M 37.796875 64.3125 \nL 12.890625 25.390625 \nL 37.796875 25.390625 \nz\nM 35.203125 72.90625 \nL 47.609375 72.90625 \nL 47.609375 25.390625 \nL 58.015625 25.390625 \nL 58.015625 17.1875 \nL 47.609375 17.1875 \nL 47.609375 0 \nL 37.796875 0 \nL 37.796875 17.1875 \nL 4.890625 17.1875 \nL 4.890625 26.703125 \nz\n\" id=\"DejaVuSans-52\"/>\n       </defs>\n       <use xlink:href=\"#DejaVuSans-52\"/>\n      </g>\n     </g>\n    </g>\n    <g id=\"ytick_5\">\n     <g id=\"line2d_11\">\n      <g>\n       <use style=\"stroke:#000000;stroke-width:0.8;\" x=\"20.5625\" xlink:href=\"#m95df8b661f\" y=\"125.450649\"/>\n      </g>\n     </g>\n     <g id=\"text_11\">\n      <!-- 5 -->\n      <g transform=\"translate(7.2 129.249868)scale(0.1 -0.1)\">\n       <defs>\n        <path d=\"M 10.796875 72.90625 \nL 49.515625 72.90625 \nL 49.515625 64.59375 \nL 19.828125 64.59375 \nL 19.828125 46.734375 \nQ 21.96875 47.46875 24.109375 47.828125 \nQ 26.265625 48.1875 28.421875 48.1875 \nQ 40.625 48.1875 47.75 41.5 \nQ 54.890625 34.8125 54.890625 23.390625 \nQ 54.890625 11.625 47.5625 5.09375 \nQ 40.234375 -1.421875 26.90625 -1.421875 \nQ 22.3125 -1.421875 17.546875 -0.640625 \nQ 12.796875 0.140625 7.71875 1.703125 \nL 7.71875 11.625 \nQ 12.109375 9.234375 16.796875 8.0625 \nQ 21.484375 6.890625 26.703125 6.890625 \nQ 35.15625 6.890625 40.078125 11.328125 \nQ 45.015625 15.765625 45.015625 23.390625 \nQ 45.015625 31 40.078125 35.4375 \nQ 35.15625 39.890625 26.703125 39.890625 \nQ 22.75 39.890625 18.8125 39.015625 \nQ 14.890625 38.140625 10.796875 36.28125 \nz\n\" id=\"DejaVuSans-53\"/>\n       </defs>\n       <use xlink:href=\"#DejaVuSans-53\"/>\n      </g>\n     </g>\n    </g>\n    <g id=\"ytick_6\">\n     <g id=\"line2d_12\">\n      <g>\n       <use style=\"stroke:#000000;stroke-width:0.8;\" x=\"20.5625\" xlink:href=\"#m95df8b661f\" y=\"90.151948\"/>\n      </g>\n     </g>\n     <g id=\"text_12\">\n      <!-- 6 -->\n      <g transform=\"translate(7.2 93.951167)scale(0.1 -0.1)\">\n       <use xlink:href=\"#DejaVuSans-54\"/>\n      </g>\n     </g>\n    </g>\n    <g id=\"ytick_7\">\n     <g id=\"line2d_13\">\n      <g>\n       <use style=\"stroke:#000000;stroke-width:0.8;\" x=\"20.5625\" xlink:href=\"#m95df8b661f\" y=\"54.853247\"/>\n      </g>\n     </g>\n     <g id=\"text_13\">\n      <!-- 7 -->\n      <g transform=\"translate(7.2 58.652466)scale(0.1 -0.1)\">\n       <use xlink:href=\"#DejaVuSans-55\"/>\n      </g>\n     </g>\n    </g>\n    <g id=\"ytick_8\">\n     <g id=\"line2d_14\">\n      <g>\n       <use style=\"stroke:#000000;stroke-width:0.8;\" x=\"20.5625\" xlink:href=\"#m95df8b661f\" y=\"19.554545\"/>\n      </g>\n     </g>\n     <g id=\"text_14\">\n      <!-- 8 -->\n      <g transform=\"translate(7.2 23.353764)scale(0.1 -0.1)\">\n       <use xlink:href=\"#DejaVuSans-56\"/>\n      </g>\n     </g>\n    </g>\n   </g>\n   <g id=\"line2d_15\">\n    <path clip-path=\"url(#p7da66ebf7f)\" d=\"M 58.607955 196.048052 \nL 58.902961 266.645455 \nL 63.362769 266.645455 \nL 63.813955 160.749351 \nL 64.646916 266.645455 \nL 68.030816 266.645455 \nL 68.04817 231.346753 \nL 68.134936 266.645455 \nL 73.913597 266.645455 \nL 73.930951 231.346753 \nL 74.017717 266.645455 \nL 74.035071 266.645455 \nL 74.069777 231.346753 \nL 74.139191 266.645455 \nL 81.288765 266.645455 \nL 81.583772 160.749351 \nL 81.722599 266.645455 \nL 82.572912 266.645455 \nL 82.867919 160.749351 \nL 83.267045 160.749351 \nL 83.631466 266.645455 \nL 85.835339 266.645455 \nL 85.852693 231.346753 \nL 85.870046 266.645455 \nL 86.147699 160.749351 \nL 86.442706 266.645455 \nL 86.633593 160.749351 \nL 86.772419 160.749351 \nL 86.893893 266.645455 \nL 87.188899 266.645455 \nL 87.362433 160.749351 \nL 87.692146 266.645455 \nL 88.108626 266.645455 \nL 88.299513 160.749351 \nL 88.611873 266.645455 \nL 88.663933 160.749351 \nL 88.715993 266.645455 \nL 88.7507 266.645455 \nL 88.785406 231.346753 \nL 88.85482 266.645455 \nL 88.941586 266.645455 \nL 89.132473 160.749351 \nL 89.288653 160.749351 \nL 89.358067 266.645455 \nL 89.618367 196.048052 \nL 89.670427 160.749351 \nL 89.68778 266.645455 \nL 89.809253 196.048052 \nL 90.0522 266.645455 \nL 90.451327 160.749351 \nL 90.711627 266.645455 \nL 90.746333 160.749351 \nL 90.971927 266.645455 \nL 92.846087 266.645455 \nL 93.01962 231.346753 \nL 93.384041 266.645455 \nL 93.401394 231.346753 \nL 93.540221 266.645455 \nL 93.679047 160.749351 \nL 94.060821 266.645455 \nL 94.512007 231.346753 \nL 95.431734 266.645455 \nL 95.483794 160.749351 \nL 95.535854 266.645455 \nL 96.108514 266.645455 \nL 96.143221 160.749351 \nL 96.160574 266.645455 \nL 96.715881 231.346753 \nL 96.802648 266.645455 \nL 96.820001 231.346753 \nL 96.837354 231.346753 \nL 96.958828 266.645455 \nL 99.388295 266.645455 \nL 99.405648 231.346753 \nL 99.492415 266.645455 \nL 100.741855 266.645455 \nL 100.759208 160.749351 \nL 100.845975 266.645455 \nL 100.863328 266.645455 \nL 100.898035 231.346753 \nL 101.019509 266.645455 \nL 101.765702 266.645455 \nL 102.078062 160.749351 \nL 102.164829 266.645455 \nL 102.425129 266.645455 \nL 102.494542 160.749351 \nL 102.529249 266.645455 \nL 102.598662 266.645455 \nL 102.702782 125.450649 \nL 102.806902 266.645455 \nL 102.824255 231.346753 \nL 102.858962 231.346753 \nL 102.876315 90.151948 \nL 102.963082 266.645455 \nL 102.980436 266.645455 \nL 102.997789 231.346753 \nL 103.067202 266.645455 \nL 103.431622 266.645455 \nL 103.726629 160.749351 \nL 103.796042 266.645455 \nL 103.813396 160.749351 \nL 104.143109 160.749351 \nL 104.264582 266.645455 \nL 104.542236 160.749351 \nL 104.750476 266.645455 \nL 104.785182 160.749351 \nL 104.871949 266.645455 \nL 105.080189 160.749351 \nL 105.114896 266.645455 \nL 105.288429 266.645455 \nL 105.427256 160.749351 \nL 105.843736 266.645455 \nL 107.336123 266.645455 \nL 107.388183 160.749351 \nL 107.648483 266.645455 \nL 108.88057 266.645455 \nL 109.054103 160.749351 \nL 109.262343 266.645455 \nL 109.29705 231.346753 \nL 109.366463 266.645455 \nL 109.40117 266.645455 \nL 109.418523 231.346753 \nL 109.50529 266.645455 \nL 109.522643 266.645455 \nL 109.539997 231.346753 \nL 109.626763 266.645455 \nL 109.678823 266.645455 \nL 109.696177 231.346753 \nL 109.782943 266.645455 \nL 110.060597 266.645455 \nL 110.18207 231.346753 \nL 110.303543 266.645455 \nL 110.511783 266.645455 \nL 110.720024 160.749351 \nL 110.945617 266.645455 \nL 112.715657 266.645455 \nL 112.733011 231.346753 \nL 112.819777 266.645455 \nL 112.975957 266.645455 \nL 113.045371 231.346753 \nL 113.080077 266.645455 \nL 114.832764 266.645455 \nL 114.919531 160.749351 \nL 115.006298 266.645455 \nL 115.110418 160.749351 \nL 115.127771 266.645455 \nL 115.422778 266.645455 \nL 115.544251 160.749351 \nL 116.221031 160.749351 \nL 116.446624 266.645455 \nL 116.585451 266.645455 \nL 116.672218 160.749351 \nL 116.967225 266.645455 \nL 116.984578 266.645455 \nL 117.106051 231.346753 \nL 117.210171 266.645455 \nL 117.279585 266.645455 \nL 117.800185 160.749351 \nL 117.817538 125.450649 \nL 117.852245 160.749351 \nL 118.199311 266.645455 \nL 118.268725 160.749351 \nL 118.511672 160.749351 \nL 118.581085 125.450649 \nL 118.615792 160.749351 \nL 118.685205 160.749351 \nL 118.858738 266.645455 \nL 119.136392 125.450649 \nL 119.171098 160.749351 \nL 119.240512 160.749351 \nL 119.361985 266.645455 \nL 120.750252 266.645455 \nL 120.871725 231.346753 \nL 121.565859 231.346753 \nL 121.635272 196.048052 \nL 121.669979 231.346753 \nL 121.756745 231.346753 \nL 121.895572 160.749351 \nL 121.912925 160.749351 \nL 122.155872 266.645455 \nL 122.312052 266.645455 \nL 122.416172 125.450649 \nL 122.433526 160.749351 \nL 122.589706 160.749351 \nL 122.711179 196.048052 \nL 122.728532 160.749351 \nL 122.815299 196.048052 \nL 122.936772 196.048052 \nL 122.971479 160.749351 \nL 123.040892 196.048052 \nL 123.387959 196.048052 \nL 123.440019 160.749351 \nL 123.492079 196.048052 \nL 123.630906 266.645455 \nL 124.238273 266.645455 \nL 124.255626 196.048052 \nL 124.342393 231.346753 \nL 124.359746 231.346753 \nL 124.481219 266.645455 \nL 125.244766 266.645455 \nL 125.262119 231.346753 \nL 125.348886 266.645455 \nL 125.366239 266.645455 \nL 125.435653 19.554545 \nL 125.470359 266.645455 \nL 126.008313 266.645455 \nL 126.025666 231.346753 \nL 126.112433 266.645455 \nL 126.25126 266.645455 \nL 126.320673 231.346753 \nL 126.35538 266.645455 \nL 126.962746 266.645455 \nL 126.9801 231.346753 \nL 127.066866 266.645455 \nL 127.08422 266.645455 \nL 127.205693 231.346753 \nL 127.327166 266.645455 \nL 127.518053 266.645455 \nL 127.570113 196.048052 \nL 127.639526 231.346753 \nL 127.795706 231.346753 \nL 127.91718 266.645455 \nL 127.951886 266.645455 \nL 128.07336 231.346753 \nL 128.194833 266.645455 \nL 128.351013 266.645455 \nL 128.455133 231.346753 \nL 128.576607 266.645455 \nL 129.027793 266.645455 \nL 129.045147 231.346753 \nL 129.131913 266.645455 \nL 129.21868 266.645455 \nL 129.27074 231.346753 \nL 129.3228 266.645455 \nL 129.357507 266.645455 \nL 129.37486 231.346753 \nL 129.461627 266.645455 \nL 129.565747 266.645455 \nL 129.5831 160.749351 \nL 129.669867 266.645455 \nL 129.79134 266.645455 \nL 129.912813 231.346753 \nL 130.034287 266.645455 \nL 130.294587 266.645455 \nL 130.31194 231.346753 \nL 130.398707 266.645455 \nL 130.41606 266.645455 \nL 130.52018 231.346753 \nL 130.641654 266.645455 \nL 130.693714 266.645455 \nL 130.711067 231.346753 \nL 130.797834 266.645455 \nL 131.335787 266.645455 \nL 131.45726 231.346753 \nL 131.578734 266.645455 \nL 131.71756 266.645455 \nL 131.734914 196.048052 \nL 131.82168 231.346753 \nL 131.943154 266.645455 \nL 132.047274 266.645455 \nL 132.168747 231.346753 \nL 132.186101 231.346753 \nL 132.307574 266.645455 \nL 133.209947 266.645455 \nL 133.366127 125.450649 \nL 133.522307 231.346753 \nL 133.591721 231.346753 \nL 133.713194 266.645455 \nL 134.042908 266.645455 \nL 134.060261 231.346753 \nL 134.147028 266.645455 \nL 134.251148 266.645455 \nL 134.320561 196.048052 \nL 134.372621 231.346753 \nL 134.494094 266.645455 \nL 134.615568 266.645455 \nL 134.667628 196.048052 \nL 134.719688 266.645455 \nL 135.066754 266.645455 \nL 135.153521 231.346753 \nL 135.170874 266.645455 \nL 135.188228 266.645455 \nL 135.205581 231.346753 \nL 135.292348 266.645455 \nL 135.743534 266.645455 \nL 135.760888 231.346753 \nL 135.847655 266.645455 \nL 135.865008 266.645455 \nL 135.899715 231.346753 \nL 135.969128 266.645455 \nL 136.038541 266.645455 \nL 136.073248 231.346753 \nL 136.142661 266.645455 \nL 136.194721 266.645455 \nL 136.212075 231.346753 \nL 136.298841 266.645455 \nL 136.784735 266.645455 \nL 136.802088 231.346753 \nL 136.888855 266.645455 \nL 137.478868 266.645455 \nL 137.600341 231.346753 \nL 137.635048 231.346753 \nL 137.756521 266.645455 \nL 137.999468 266.645455 \nL 138.120942 231.346753 \nL 138.190355 231.346753 \nL 138.311828 266.645455 \nL 138.572128 266.645455 \nL 138.589482 231.346753 \nL 138.676248 266.645455 \nL 138.728308 266.645455 \nL 138.849782 231.346753 \nL 138.971255 266.645455 \nL 139.092728 231.346753 \nL 139.196848 231.346753 \nL 139.318322 266.645455 \nL 139.353028 266.645455 \nL 139.370382 231.346753 \nL 139.457148 266.645455 \nL 139.561268 266.645455 \nL 139.578622 231.346753 \nL 139.665388 266.645455 \nL 139.821569 266.645455 \nL 139.838922 160.749351 \nL 139.925689 266.645455 \nL 140.047162 266.645455 \nL 140.168635 231.346753 \nL 140.446289 231.346753 \nL 140.515702 196.048052 \nL 140.550409 231.346753 \nL 140.845415 231.346753 \nL 140.966889 266.645455 \nL 141.348662 266.645455 \nL 141.366015 231.346753 \nL 141.452782 266.645455 \nL 141.574255 266.645455 \nL 141.713082 196.048052 \nL 141.851909 266.645455 \nL 141.956029 266.645455 \nL 142.008089 160.749351 \nL 142.060149 266.645455 \nL 142.146916 266.645455 \nL 142.268389 231.346753 \nL 142.389862 266.645455 \nL 142.441922 266.645455 \nL 142.546042 196.048052 \nL 142.563396 231.346753 \nL 142.632809 231.346753 \nL 142.719576 196.048052 \nL 142.736929 231.346753 \nL 142.893109 231.346753 \nL 143.014582 266.645455 \nL 143.136056 266.645455 \nL 143.153409 160.749351 \nL 143.240176 266.645455 \nL 143.257529 266.645455 \nL 143.274882 160.749351 \nL 143.361649 196.048052 \nL 143.483122 231.346753 \nL 143.587242 231.346753 \nL 143.708716 266.645455 \nL 144.055783 266.645455 \nL 144.073136 231.346753 \nL 144.159903 266.645455 \nL 144.246669 266.645455 \nL 144.281376 231.346753 \nL 144.350789 266.645455 \nL 144.489616 266.645455 \nL 144.506969 125.450649 \nL 144.593736 266.645455 \nL 144.819329 266.645455 \nL 144.836683 231.346753 \nL 144.923449 266.645455 \nL 145.027569 266.645455 \nL 145.062276 231.346753 \nL 145.131689 266.645455 \nL 145.70435 266.645455 \nL 145.773763 160.749351 \nL 145.80847 266.645455 \nL 146.086123 266.645455 \nL 146.17289 160.749351 \nL 146.190243 266.645455 \nL 146.502603 266.645455 \nL 146.58937 125.450649 \nL 146.606723 231.346753 \nL 146.728196 266.645455 \nL 147.856163 266.645455 \nL 147.908223 19.554545 \nL 147.960283 266.645455 \nL 147.977637 231.346753 \nL 148.064403 266.645455 \nL 148.20323 266.645455 \nL 148.25529 125.450649 \nL 148.30735 266.645455 \nL 148.56765 266.645455 \nL 148.689123 160.749351 \nL 148.793243 266.645455 \nL 148.810597 231.346753 \nL 148.82795 231.346753 \nL 148.949423 266.645455 \nL 149.50473 266.645455 \nL 149.522084 125.450649 \nL 149.60885 266.645455 \nL 149.92121 266.645455 \nL 149.938564 125.450649 \nL 150.02533 266.645455 \nL 150.528577 266.645455 \nL 150.65005 125.450649 \nL 150.771524 90.151948 \nL 150.788877 90.151948 \nL 150.91035 231.346753 \nL 151.049177 231.346753 \nL 151.153297 266.645455 \nL 151.188004 125.450649 \nL 151.257417 231.346753 \nL 151.396244 231.346753 \nL 151.413597 196.048052 \nL 151.465657 266.645455 \nL 151.483011 266.645455 \nL 151.673897 266.645455 \nL 151.691251 231.346753 \nL 151.778017 266.645455 \nL 151.830077 266.645455 \nL 151.916844 160.749351 \nL 151.934197 266.645455 \nL 151.986257 266.645455 \nL 152.107731 196.048052 \nL 152.125084 266.645455 \nL 152.142437 125.450649 \nL 152.194497 125.450649 \nL 152.263911 125.450649 \nL 152.385384 266.645455 \nL 152.853924 266.645455 \nL 152.871277 231.346753 \nL 152.958044 266.645455 \nL 153.096871 266.645455 \nL 153.114224 231.346753 \nL 153.200991 266.645455 \nL 153.218344 266.645455 \nL 153.235697 231.346753 \nL 153.322464 266.645455 \nL 153.357171 266.645455 \nL 153.374524 231.346753 \nL 153.461291 266.645455 \nL 154.051304 266.645455 \nL 154.068658 231.346753 \nL 154.155424 266.645455 \nL 154.519844 266.645455 \nL 154.623964 196.048052 \nL 154.641318 231.346753 \nL 154.658671 231.346753 \nL 154.676024 196.048052 \nL 154.693378 266.645455 \nL 154.745438 266.645455 \nL 154.953678 266.645455 \nL 155.075151 231.346753 \nL 155.161918 231.346753 \nL 155.283391 266.645455 \nL 156.064291 266.645455 \nL 156.081645 160.749351 \nL 156.168411 266.645455 \nL 156.394005 266.645455 \nL 156.411358 231.346753 \nL 156.498125 266.645455 \nL 156.689011 266.645455 \nL 156.723718 231.346753 \nL 156.793131 266.645455 \nL 157.122845 266.645455 \nL 157.140198 231.346753 \nL 157.226965 266.645455 \nL 157.469912 266.645455 \nL 157.487265 160.749351 \nL 157.574032 266.645455 \nL 157.938452 266.645455 \nL 157.973158 231.346753 \nL 158.042572 266.645455 \nL 158.424345 266.645455 \nL 158.511112 231.346753 \nL 158.528465 266.645455 \nL 158.771412 266.645455 \nL 158.858178 231.346753 \nL 158.875532 266.645455 \nL 159.239952 266.645455 \nL 159.344072 231.346753 \nL 159.465545 266.645455 \nL 159.934085 266.645455 \nL 159.951439 231.346753 \nL 160.038205 266.645455 \nL 160.246445 266.645455 \nL 160.333212 231.346753 \nL 160.350565 266.645455 \nL 160.402625 266.645455 \nL 160.489392 231.346753 \nL 160.506745 266.645455 \nL 160.628219 266.645455 \nL 160.749692 231.346753 \nL 160.871165 231.346753 \nL 160.992639 266.645455 \nL 161.339706 266.645455 \nL 161.357059 231.346753 \nL 161.443826 266.645455 \nL 161.617359 266.645455 \nL 161.738832 231.346753 \nL 161.790892 231.346753 \nL 161.912366 266.645455 \nL 161.929719 231.346753 \nL 162.016486 266.645455 \nL 162.137959 266.645455 \nL 162.259432 231.346753 \nL 162.380906 266.645455 \nL 162.571792 266.645455 \nL 162.762679 90.151948 \nL 162.884152 266.645455 \nL 162.936212 231.346753 \nL 163.022979 231.346753 \nL 163.040333 125.450649 \nL 163.127099 231.346753 \nL 163.335339 231.346753 \nL 163.456813 266.645455 \nL 163.491519 266.645455 \nL 163.508873 231.346753 \nL 163.595639 266.645455 \nL 163.838586 266.645455 \nL 163.855939 231.346753 \nL 163.942706 266.645455 \nL 164.029473 266.645455 \nL 164.046826 231.346753 \nL 164.133593 266.645455 \nL 164.324479 266.645455 \nL 164.428599 231.346753 \nL 164.550073 266.645455 \nL 164.758313 266.645455 \nL 164.775666 231.346753 \nL 164.862433 266.645455 \nL 165.15744 266.645455 \nL 165.174793 231.346753 \nL 165.26156 266.645455 \nL 165.36568 266.645455 \nL 165.41774 196.048052 \nL 165.487153 231.346753 \nL 165.504506 231.346753 \nL 165.52186 196.048052 \nL 165.608626 231.346753 \nL 165.78216 231.346753 \nL 165.903633 125.450649 \nL 166.025106 231.346753 \nL 166.233346 231.346753 \nL 166.320113 266.645455 \nL 166.337466 231.346753 \nL 166.35482 231.346753 \nL 166.476293 266.645455 \nL 166.511 266.645455 \nL 166.632473 231.346753 \nL 166.7713 231.346753 \nL 166.892773 266.645455 \nL 167.118367 266.645455 \nL 167.13572 231.346753 \nL 167.222487 266.645455 \nL 167.50014 266.645455 \nL 167.569553 125.450649 \nL 167.621613 160.749351 \nL 167.691027 160.749351 \nL 167.8125 266.645455 \nL 167.899267 266.645455 \nL 167.91662 160.749351 \nL 168.003387 266.645455 \nL 168.142213 266.645455 \nL 168.159567 196.048052 \nL 168.246333 266.645455 \nL 168.28104 266.645455 \nL 168.402513 231.346753 \nL 168.43722 231.346753 \nL 168.48928 160.749351 \nL 168.506633 266.645455 \nL 168.523987 266.645455 \nL 168.54134 266.645455 \nL 168.610753 231.346753 \nL 168.64546 266.645455 \nL 168.95782 266.645455 \nL 169.079294 231.346753 \nL 169.200767 266.645455 \nL 169.339594 266.645455 \nL 169.461067 231.346753 \nL 169.58254 266.645455 \nL 169.599894 266.645455 \nL 169.617247 231.346753 \nL 169.704014 266.645455 \nL 170.016374 266.645455 \nL 170.05108 231.346753 \nL 170.120494 266.645455 \nL 170.276674 266.645455 \nL 170.398147 231.346753 \nL 170.484914 231.346753 \nL 170.606387 266.645455 \nL 170.6758 266.645455 \nL 170.727861 231.346753 \nL 170.779921 266.645455 \nL 170.797274 266.645455 \nL 170.814627 231.346753 \nL 170.901394 266.645455 \nL 170.970807 266.645455 \nL 171.005514 231.346753 \nL 171.074927 266.645455 \nL 171.317874 266.645455 \nL 171.335227 231.346753 \nL 171.421994 266.645455 \nL 171.647587 266.645455 \nL 171.751707 231.346753 \nL 171.873181 266.645455 \nL 172.029361 266.645455 \nL 172.046714 160.749351 \nL 172.133481 266.645455 \nL 172.254954 266.645455 \nL 172.272307 231.346753 \nL 172.359074 266.645455 \nL 172.862321 266.645455 \nL 172.879674 231.346753 \nL 172.966441 266.645455 \nL 173.018501 266.645455 \nL 173.035854 231.346753 \nL 173.122621 266.645455 \nL 173.747341 266.645455 \nL 173.764694 231.346753 \nL 173.851461 266.645455 \nL 174.163821 266.645455 \nL 174.233234 125.450649 \nL 174.267941 160.749351 \nL 174.389414 266.645455 \nL 174.562948 266.645455 \nL 174.580301 160.749351 \nL 174.667068 266.645455 \nL 175.343848 266.645455 \nL 175.361201 231.346753 \nL 175.447968 266.645455 \nL 175.725621 266.645455 \nL 175.760328 196.048052 \nL 175.829741 266.645455 \nL 175.916508 266.645455 \nL 176.003275 196.048052 \nL 176.037981 231.346753 \nL 176.124748 266.645455 \nL 176.142101 231.346753 \nL 176.246221 231.346753 \nL 176.367695 266.645455 \nL 176.419755 266.645455 \nL 176.437108 231.346753 \nL 176.523875 266.645455 \nL 176.541228 266.645455 \nL 176.680055 196.048052 \nL 176.801528 266.645455 \nL 176.940355 266.645455 \nL 176.957708 231.346753 \nL 177.044475 266.645455 \nL 177.460955 266.645455 \nL 177.513015 231.346753 \nL 177.565075 266.645455 \nL 177.582428 266.645455 \nL 177.599782 231.346753 \nL 177.686548 266.645455 \nL 177.860082 266.645455 \nL 177.981555 231.346753 \nL 177.998908 231.346753 \nL 178.016262 196.048052 \nL 178.103028 231.346753 \nL 178.293915 231.346753 \nL 178.311268 196.048052 \nL 178.398035 231.346753 \nL 178.502155 231.346753 \nL 178.519509 196.048052 \nL 178.606275 231.346753 \nL 178.623629 231.346753 \nL 178.710395 196.048052 \nL 178.727749 231.346753 \nL 178.745102 231.346753 \nL 178.762455 196.048052 \nL 178.779809 266.645455 \nL 178.831869 266.645455 \nL 179.178935 266.645455 \nL 179.196289 160.749351 \nL 179.283055 266.645455 \nL 179.734242 266.645455 \nL 179.821009 231.346753 \nL 179.838362 266.645455 \nL 180.046602 266.645455 \nL 180.081309 231.346753 \nL 180.150722 266.645455 \nL 180.393669 266.645455 \nL 180.463082 160.749351 \nL 180.532496 196.048052 \nL 180.549849 196.048052 \nL 180.671322 231.346753 \nL 182.875196 231.346753 \nL 182.996669 266.645455 \nL 183.187556 266.645455 \nL 183.256969 125.450649 \nL 183.309029 231.346753 \nL 183.361089 266.645455 \nL 183.378443 196.048052 \nL 183.413149 231.346753 \nL 183.465209 231.346753 \nL 183.517269 196.048052 \nL 183.569329 231.346753 \nL 183.829629 231.346753 \nL 183.951103 266.645455 \nL 184.645236 266.645455 \nL 184.66259 231.346753 \nL 184.749356 266.645455 \nL 184.992303 266.645455 \nL 185.009656 196.048052 \nL 185.096423 266.645455 \nL 185.113776 231.346753 \nL 185.200543 266.645455 \nL 185.217896 266.645455 \nL 185.33937 231.346753 \nL 185.356723 231.346753 \nL 185.460843 266.645455 \nL 185.582316 231.346753 \nL 185.70379 266.645455 \nL 185.80791 266.645455 \nL 185.85997 231.346753 \nL 185.91203 266.645455 \nL 185.929383 266.645455 \nL 185.946736 231.346753 \nL 186.033503 266.645455 \nL 186.259097 266.645455 \nL 186.27645 231.346753 \nL 186.363217 266.645455 \nL 186.397923 266.645455 \nL 186.415277 231.346753 \nL 186.502043 266.645455 \nL 186.675577 266.645455 \nL 186.814403 196.048052 \nL 186.831757 196.048052 \nL 186.95323 231.346753 \nL 187.126763 231.346753 \nL 187.248237 266.645455 \nL 187.959723 266.645455 \nL 187.977077 231.346753 \nL 188.063843 266.645455 \nL 188.30679 266.645455 \nL 188.341497 196.048052 \nL 188.41091 266.645455 \nL 188.428264 266.645455 \nL 188.445617 231.346753 \nL 188.532384 266.645455 \nL 188.653857 266.645455 \nL 188.67121 231.346753 \nL 188.757977 266.645455 \nL 189.070337 266.645455 \nL 189.19181 231.346753 \nL 189.313284 266.645455 \nL 189.330637 266.645455 \nL 189.50417 125.450649 \nL 189.677704 266.645455 \nL 189.71241 266.645455 \nL 189.781824 231.346753 \nL 189.81653 266.645455 \nL 189.851237 266.645455 \nL 189.97271 231.346753 \nL 189.990064 231.346753 \nL 190.007417 196.048052 \nL 190.02477 266.645455 \nL 190.07683 266.645455 \nL 190.233011 266.645455 \nL 190.337131 231.346753 \nL 190.458604 266.645455 \nL 190.909791 266.645455 \nL 190.927144 231.346753 \nL 191.013911 266.645455 \nL 191.187444 266.645455 \nL 191.291564 231.346753 \nL 191.413037 266.645455 \nL 191.465097 266.645455 \nL 191.586571 160.749351 \nL 191.690691 160.749351 \nL 191.812164 266.645455 \nL 192.037758 266.645455 \nL 192.124524 125.450649 \nL 192.141878 266.645455 \nL 192.523651 266.645455 \nL 192.645124 231.346753 \nL 192.749244 231.346753 \nL 192.870718 266.645455 \nL 193.634264 266.645455 \nL 193.721031 231.346753 \nL 193.738384 266.645455 \nL 194.033391 266.645455 \nL 194.068098 231.346753 \nL 194.137511 266.645455 \nL 194.658111 266.645455 \nL 194.675465 231.346753 \nL 194.762231 266.645455 \nL 195.005178 266.645455 \nL 195.039885 231.346753 \nL 195.109298 266.645455 \nL 195.161358 266.645455 \nL 195.178711 231.346753 \nL 195.265478 266.645455 \nL 195.491071 266.645455 \nL 195.508425 231.346753 \nL 195.595191 266.645455 \nL 195.907552 266.645455 \nL 195.959612 231.346753 \nL 196.011672 266.645455 \nL 196.271972 266.645455 \nL 196.289325 231.346753 \nL 196.376092 266.645455 \nL 197.052872 266.645455 \nL 197.104932 231.346753 \nL 197.156992 266.645455 \nL 197.816418 266.645455 \nL 197.937892 231.346753 \nL 197.955245 231.346753 \nL 198.076719 266.645455 \nL 199.360865 266.645455 \nL 199.378219 231.346753 \nL 199.464985 266.645455 \nL 199.655872 266.645455 \nL 199.673225 231.346753 \nL 199.759992 266.645455 \nL 199.846759 266.645455 \nL 199.864112 231.346753 \nL 199.950879 266.645455 \nL 200.332652 266.645455 \nL 200.436772 196.048052 \nL 200.454126 231.346753 \nL 200.488832 231.346753 \nL 200.506186 160.749351 \nL 200.523539 266.645455 \nL 200.575599 231.346753 \nL 200.697072 266.645455 \nL 200.974726 266.645455 \nL 200.992079 125.450649 \nL 201.078846 266.645455 \nL 201.668859 266.645455 \nL 201.686212 125.450649 \nL 201.772979 266.645455 \nL 202.953006 266.645455 \nL 203.039773 125.450649 \nL 203.057126 266.645455 \nL 203.265366 266.645455 \nL 203.386839 160.749351 \nL 203.508313 266.645455 \nL 203.75126 266.645455 \nL 203.785966 231.346753 \nL 203.85538 266.645455 \nL 203.924793 266.645455 \nL 203.942146 231.346753 \nL 204.028913 266.645455 \nL 204.16774 266.645455 \nL 204.185093 231.346753 \nL 204.27186 266.645455 \nL 204.462746 266.645455 \nL 204.4801 231.346753 \nL 204.566866 266.645455 \nL 206.163373 266.645455 \nL 206.284847 231.346753 \nL 206.40632 231.346753 \nL 206.527793 266.645455 \nL 206.649267 266.645455 \nL 206.66662 160.749351 \nL 206.753387 266.645455 \nL 207.065747 266.645455 \nL 207.169867 125.450649 \nL 207.18722 160.749351 \nL 207.308693 266.645455 \nL 207.464873 266.645455 \nL 207.586347 125.450649 \nL 207.70782 266.645455 \nL 208.1243 266.645455 \nL 208.245774 125.450649 \nL 208.28048 125.450649 \nL 208.454014 266.645455 \nL 208.818434 266.645455 \nL 208.85314 196.048052 \nL 208.922554 266.645455 \nL 209.443154 266.645455 \nL 209.495214 160.749351 \nL 209.547274 266.645455 \nL 209.599334 266.645455 \nL 209.720807 231.346753 \nL 209.946401 231.346753 \nL 210.015814 19.554545 \nL 210.067874 125.450649 \nL 210.501707 125.450649 \nL 210.519061 90.151948 \nL 210.605827 125.450649 \nL 210.970247 125.450649 \nL 211.039661 19.554545 \nL 211.074367 125.450649 \nL 211.247901 125.450649 \nL 211.334667 19.554545 \nL 211.352021 125.450649 \nL 211.369374 125.450649 \nL 211.386727 19.554545 \nL 211.421434 266.645455 \nL 211.473494 160.749351 \nL 211.490848 160.749351 \nL 211.612321 266.645455 \nL 212.254394 266.645455 \nL 212.271748 231.346753 \nL 212.358514 266.645455 \nL 212.549401 266.645455 \nL 212.601461 196.048052 \nL 212.653521 266.645455 \nL 212.688228 266.645455 \nL 212.705581 231.346753 \nL 212.792348 266.645455 \nL 213.243534 266.645455 \nL 213.365008 231.346753 \nL 213.486481 266.645455 \nL 213.746781 266.645455 \nL 213.764135 231.346753 \nL 213.850901 266.645455 \nL 214.076495 266.645455 \nL 214.145908 231.346753 \nL 214.180615 266.645455 \nL 214.267381 266.645455 \nL 214.302088 231.346753 \nL 214.371501 266.645455 \nL 214.562388 266.645455 \nL 214.631801 160.749351 \nL 214.666508 266.645455 \nL 214.718568 266.645455 \nL 214.840041 231.346753 \nL 214.961515 266.645455 \nL 215.117695 266.645455 \nL 215.221815 231.346753 \nL 215.343288 266.645455 \nL 215.430055 266.645455 \nL 215.516822 231.346753 \nL 215.534175 266.645455 \nL 215.568882 266.645455 \nL 215.673002 231.346753 \nL 215.742415 266.645455 \nL 215.777122 231.346753 \nL 215.794475 160.749351 \nL 215.881242 231.346753 \nL 215.915948 231.346753 \nL 215.933302 266.645455 \nL 215.968008 196.048052 \nL 216.020068 231.346753 \nL 216.054775 231.346753 \nL 216.072128 266.645455 \nL 216.158895 231.346753 \nL 216.176248 231.346753 \nL 216.193602 196.048052 \nL 216.280368 231.346753 \nL 216.349782 231.346753 \nL 216.401842 160.749351 \nL 216.471255 266.645455 \nL 216.575375 266.645455 \nL 216.679495 231.346753 \nL 216.800968 266.645455 \nL 217.009208 266.645455 \nL 217.026562 231.346753 \nL 217.113328 266.645455 \nL 217.200095 266.645455 \nL 217.269509 231.346753 \nL 217.304215 266.645455 \nL 217.408335 266.645455 \nL 217.443042 231.346753 \nL 217.512455 266.645455 \nL 217.547162 266.645455 \nL 217.651282 231.346753 \nL 217.772755 266.645455 \nL 217.790109 266.645455 \nL 217.894229 231.346753 \nL 217.946289 266.645455 \nL 217.998349 231.346753 \nL 218.536302 231.346753 \nL 218.657775 266.645455 \nL 218.692482 266.645455 \nL 218.779249 231.346753 \nL 218.796602 266.645455 \nL 218.952782 266.645455 \nL 218.970135 231.346753 \nL 219.056902 266.645455 \nL 219.074255 266.645455 \nL 219.091609 231.346753 \nL 219.178376 266.645455 \nL 219.421322 266.645455 \nL 219.438676 231.346753 \nL 219.525442 266.645455 \nL 219.716329 266.645455 \nL 219.733682 231.346753 \nL 219.820449 266.645455 \nL 219.837802 266.645455 \nL 219.855156 231.346753 \nL 219.941922 266.645455 \nL 220.046042 266.645455 \nL 220.167516 231.346753 \nL 220.288989 266.645455 \nL 220.341049 266.645455 \nL 220.445169 231.346753 \nL 220.566642 266.645455 \nL 220.618702 266.645455 \nL 220.636056 125.450649 \nL 220.722822 266.645455 \nL 220.826942 125.450649 \nL 220.948416 266.645455 \nL 221.017829 125.450649 \nL 221.052536 266.645455 \nL 221.069889 266.645455 \nL 221.191363 125.450649 \nL 221.295483 266.645455 \nL 221.312836 231.346753 \nL 221.382249 266.645455 \nL 221.503723 125.450649 \nL 221.625196 266.645455 \nL 221.642549 266.645455 \nL 221.764023 125.450649 \nL 221.920203 125.450649 \nL 222.041676 266.645455 \nL 222.076383 266.645455 \nL 222.111089 125.450649 \nL 222.180503 266.645455 \nL 222.909343 266.645455 \nL 222.926696 231.346753 \nL 223.013463 266.645455 \nL 223.117583 266.645455 \nL 223.169643 231.346753 \nL 223.221703 266.645455 \nL 223.25641 266.645455 \nL 223.343176 231.346753 \nL 223.36053 266.645455 \nL 223.655536 266.645455 \nL 223.690243 231.346753 \nL 223.759656 266.645455 \nL 224.488496 266.645455 \nL 224.540556 231.346753 \nL 224.592616 266.645455 \nL 225.720583 266.645455 \nL 225.842057 231.346753 \nL 225.96353 266.645455 \nL 226.102357 266.645455 \nL 226.11971 125.450649 \nL 226.206477 266.645455 \nL 226.27589 266.645455 \nL 226.293243 231.346753 \nL 226.38001 266.645455 \nL 226.414717 266.645455 \nL 226.53619 125.450649 \nL 226.657663 266.645455 \nL 226.74443 266.645455 \nL 226.831197 125.450649 \nL 226.84855 266.645455 \nL 226.970024 266.645455 \nL 227.091497 125.450649 \nL 227.21297 266.645455 \nL 227.247677 266.645455 \nL 227.36915 125.450649 \nL 227.42121 125.450649 \nL 227.542684 266.645455 \nL 228.028577 266.645455 \nL 228.063284 231.346753 \nL 228.132697 266.645455 \nL 228.271524 266.645455 \nL 228.288877 231.346753 \nL 228.375644 266.645455 \nL 228.46241 266.645455 \nL 228.479764 231.346753 \nL 228.56653 266.645455 \nL 229.000364 266.645455 \nL 229.052424 231.346753 \nL 229.104484 266.645455 \nL 229.954797 266.645455 \nL 229.972151 125.450649 \nL 230.058917 231.346753 \nL 230.180391 231.346753 \nL 230.301864 125.450649 \nL 230.405984 266.645455 \nL 230.423337 231.346753 \nL 230.458044 231.346753 \nL 230.579517 266.645455 \nL 230.718344 266.645455 \nL 230.805111 196.048052 \nL 230.822464 266.645455 \nL 231.065411 266.645455 \nL 231.100118 231.346753 \nL 231.169531 266.645455 \nL 231.881018 266.645455 \nL 231.898371 125.450649 \nL 231.985138 266.645455 \nL 232.071904 266.645455 \nL 232.123964 196.048052 \nL 232.176024 266.645455 \nL 232.523091 266.645455 \nL 232.540444 231.346753 \nL 232.627211 266.645455 \nL 232.852805 266.645455 \nL 232.922218 231.346753 \nL 232.956925 266.645455 \nL 233.182518 266.645455 \nL 233.303991 231.346753 \nL 233.425465 266.645455 \nL 234.189011 266.645455 \nL 234.275778 231.346753 \nL 234.293131 266.645455 \nL 234.605491 266.645455 \nL 234.692258 231.346753 \nL 234.709612 266.645455 \nL 234.935205 266.645455 \nL 234.952558 231.346753 \nL 235.039325 266.645455 \nL 235.421098 266.645455 \nL 235.542572 231.346753 \nL 235.559925 231.346753 \nL 235.681398 266.645455 \nL 235.854932 266.645455 \nL 235.872285 231.346753 \nL 235.959052 266.645455 \nL 236.687892 266.645455 \nL 236.705245 231.346753 \nL 236.792012 266.645455 \nL 237.919979 266.645455 \nL 237.937332 231.346753 \nL 238.024099 266.645455 \nL 238.319105 266.645455 \nL 238.388519 231.346753 \nL 238.423225 266.645455 \nL 238.475285 266.645455 \nL 238.509992 231.346753 \nL 238.579406 266.645455 \nL 238.891766 266.645455 \nL 238.909119 231.346753 \nL 238.995886 266.645455 \nL 239.013239 266.645455 \nL 239.134712 231.346753 \nL 239.256186 266.645455 \nL 240.575039 266.645455 \nL 240.592393 231.346753 \nL 240.679159 266.645455 \nL 241.303879 266.645455 \nL 241.355939 196.048052 \nL 241.407999 266.645455 \nL 241.685653 266.645455 \nL 241.703006 231.346753 \nL 241.789773 266.645455 \nL 241.980659 266.645455 \nL 241.998013 231.346753 \nL 242.084779 266.645455 \nL 242.119486 266.645455 \nL 242.136839 231.346753 \nL 242.223606 266.645455 \nL 242.431846 266.645455 \nL 242.4492 231.346753 \nL 242.535966 266.645455 \nL 244.2713 266.645455 \nL 244.306006 231.346753 \nL 244.37542 266.645455 \nL 244.548953 266.645455 \nL 244.58366 196.048052 \nL 244.653073 266.645455 \nL 245.243087 266.645455 \nL 245.26044 231.346753 \nL 245.347207 266.645455 \nL 245.399267 266.645455 \nL 245.52074 231.346753 \nL 245.538093 231.346753 \nL 245.659567 266.645455 \nL 245.67692 266.645455 \nL 245.798393 231.346753 \nL 245.815747 231.346753 \nL 245.93722 266.645455 \nL 246.023987 266.645455 \nL 246.04134 231.346753 \nL 246.128107 266.645455 \nL 246.787534 266.645455 \nL 246.804887 231.346753 \nL 246.891654 266.645455 \nL 246.995774 266.645455 \nL 247.08254 231.346753 \nL 247.099894 266.645455 \nL 247.516374 266.645455 \nL 247.533727 196.048052 \nL 247.620494 266.645455 \nL 247.689907 266.645455 \nL 247.70726 231.346753 \nL 247.794027 266.645455 \nL 248.158447 266.645455 \nL 248.1758 231.346753 \nL 248.262567 266.645455 \nL 248.331981 266.645455 \nL 248.401394 231.346753 \nL 248.436101 266.645455 \nL 248.470807 266.645455 \nL 248.522867 231.346753 \nL 248.574927 266.645455 \nL 248.748461 266.645455 \nL 248.783167 231.346753 \nL 248.852581 266.645455 \nL 248.939347 266.645455 \nL 248.974054 231.346753 \nL 249.043467 266.645455 \nL 249.702894 266.645455 \nL 249.772307 196.048052 \nL 249.824367 231.346753 \nL 249.945841 231.346753 \nL 250.067314 266.645455 \nL 250.431734 266.645455 \nL 250.449088 196.048052 \nL 250.535854 266.645455 \nL 251.195281 266.645455 \nL 251.229988 231.346753 \nL 251.299401 266.645455 \nL 251.577054 266.645455 \nL 251.629114 231.346753 \nL 251.681174 266.645455 \nL 252.271188 266.645455 \nL 252.305895 231.346753 \nL 252.375308 266.645455 \nL 252.531488 266.645455 \nL 252.652961 231.346753 \nL 253.277681 231.346753 \nL 253.399155 266.645455 \nL 253.711515 266.645455 \nL 253.832988 231.346753 \nL 253.850341 231.346753 \nL 253.937108 266.645455 \nL 253.954461 231.346753 \nL 254.127995 231.346753 \nL 254.197408 160.749351 \nL 254.214762 196.048052 \nL 254.336235 266.645455 \nL 254.509768 266.645455 \nL 254.579182 231.346753 \nL 254.613888 266.645455 \nL 254.631242 266.645455 \nL 254.700655 196.048052 \nL 254.735362 231.346753 \nL 254.856835 266.645455 \nL 254.995662 266.645455 \nL 255.082428 231.346753 \nL 255.099782 266.645455 \nL 255.342728 266.645455 \nL 255.446848 231.346753 \nL 255.550968 266.645455 \nL 255.568322 231.346753 \nL 255.655088 266.645455 \nL 255.759208 266.645455 \nL 255.880682 231.346753 \nL 256.002155 266.645455 \nL 256.019509 266.645455 \nL 256.036862 231.346753 \nL 256.123629 266.645455 \nL 256.262455 266.645455 \nL 256.331869 231.346753 \nL 256.366575 266.645455 \nL 256.401282 266.645455 \nL 256.505402 125.450649 \nL 256.626875 266.645455 \nL 256.644229 266.645455 \nL 256.730995 125.450649 \nL 256.748349 231.346753 \nL 256.817762 266.645455 \nL 256.939235 125.450649 \nL 257.008649 266.645455 \nL 257.043355 125.450649 \nL 257.078062 125.450649 \nL 257.164829 266.645455 \nL 257.182182 90.151948 \nL 257.199535 90.151948 \nL 257.303655 266.645455 \nL 257.407775 125.450649 \nL 257.529249 266.645455 \nL 257.633369 125.450649 \nL 257.650722 231.346753 \nL 257.720135 266.645455 \nL 257.737489 231.346753 \nL 257.789549 266.645455 \nL 257.858962 125.450649 \nL 257.876315 125.450649 \nL 257.911022 266.645455 \nL 257.980436 125.450649 \nL 258.032496 125.450649 \nL 258.049849 90.151948 \nL 258.136616 125.450649 \nL 258.171322 125.450649 \nL 258.188676 90.151948 \nL 258.240736 125.450649 \nL 258.344856 266.645455 \nL 258.362209 231.346753 \nL 258.379562 231.346753 \nL 258.501036 266.645455 \nL 258.639862 266.645455 \nL 258.761336 231.346753 \nL 258.796042 231.346753 \nL 258.848102 196.048052 \nL 258.917516 266.645455 \nL 259.021636 266.645455 \nL 259.056342 196.048052 \nL 259.125756 231.346753 \nL 259.212522 196.048052 \nL 259.247229 266.645455 \nL 259.333996 266.645455 \nL 259.438116 231.346753 \nL 259.559589 266.645455 \nL 259.681062 231.346753 \nL 259.802536 231.346753 \nL 259.819889 196.048052 \nL 259.906656 231.346753 \nL 260.028129 266.645455 \nL 260.062836 266.645455 \nL 260.184309 231.346753 \nL 260.201663 231.346753 \nL 260.323136 266.645455 \nL 260.566083 266.645455 \nL 260.618143 231.346753 \nL 260.670203 266.645455 \nL 260.861089 266.645455 \nL 260.913149 231.346753 \nL 260.965209 266.645455 \nL 260.999916 266.645455 \nL 261.017269 231.346753 \nL 261.104036 266.645455 \nL 261.138743 266.645455 \nL 261.156096 231.346753 \nL 261.242863 266.645455 \nL 261.832876 266.645455 \nL 261.85023 231.346753 \nL 261.936996 266.645455 \nL 262.804663 266.645455 \nL 262.89143 196.048052 \nL 262.926136 231.346753 \nL 263.04761 266.645455 \nL 263.082316 266.645455 \nL 263.186436 196.048052 \nL 263.20379 231.346753 \nL 263.221143 231.346753 \nL 263.342616 266.645455 \nL 263.72439 266.645455 \nL 263.82851 231.346753 \nL 263.949983 266.645455 \nL 264.14087 266.645455 \nL 264.24499 196.048052 \nL 264.262343 231.346753 \nL 264.383817 231.346753 \nL 264.45323 196.048052 \nL 264.487937 231.346753 \nL 264.522643 231.346753 \nL 264.644117 266.645455 \nL 264.696177 266.645455 \nL 264.71353 231.346753 \nL 264.800297 266.645455 \nL 264.991183 266.645455 \nL 265.008537 231.346753 \nL 265.095303 266.645455 \nL 265.13001 266.645455 \nL 265.147363 231.346753 \nL 265.23413 266.645455 \nL 265.44237 266.645455 \nL 265.54649 231.346753 \nL 265.667964 266.645455 \nL 266.27533 266.645455 \nL 266.37945 231.346753 \nL 266.414157 125.450649 \nL 266.500924 266.645455 \nL 266.79593 266.645455 \nL 266.813284 231.346753 \nL 266.90005 266.645455 \nL 267.16035 266.645455 \nL 267.247117 231.346753 \nL 267.26447 266.645455 \nL 267.906544 266.645455 \nL 267.941251 231.346753 \nL 268.010664 266.645455 \nL 268.323024 266.645455 \nL 268.409791 231.346753 \nL 268.427144 266.645455 \nL 268.479204 266.645455 \nL 268.496557 231.346753 \nL 268.583324 266.645455 \nL 268.756857 266.645455 \nL 268.808917 231.346753 \nL 268.860977 266.645455 \nL 268.913037 266.645455 \nL 268.930391 231.346753 \nL 269.017157 266.645455 \nL 269.503051 266.645455 \nL 269.520404 231.346753 \nL 269.607171 266.645455 \nL 269.745998 266.645455 \nL 269.798058 231.346753 \nL 269.850118 266.645455 \nL 270.145124 266.645455 \nL 270.162478 231.346753 \nL 270.249244 266.645455 \nL 270.266598 266.645455 \nL 270.405424 196.048052 \nL 270.440131 196.048052 \nL 270.578958 266.645455 \nL 270.821904 266.645455 \nL 270.839258 231.346753 \nL 270.926024 266.645455 \nL 271.012791 266.645455 \nL 271.030144 231.346753 \nL 271.116911 266.645455 \nL 271.221031 266.645455 \nL 271.290444 231.346753 \nL 271.325151 266.645455 \nL 271.359858 266.645455 \nL 271.377211 231.346753 \nL 271.463978 266.645455 \nL 271.724278 266.645455 \nL 271.741631 231.346753 \nL 271.828398 266.645455 \nL 272.921658 266.645455 \nL 273.043131 231.346753 \nL 273.164605 266.645455 \nL 273.268725 266.645455 \nL 273.286078 231.346753 \nL 273.372845 266.645455 \nL 273.442258 266.645455 \nL 273.546378 231.346753 \nL 273.667852 266.645455 \nL 273.893445 266.645455 \nL 273.997565 231.346753 \nL 274.119038 266.645455 \nL 274.171098 266.645455 \nL 274.188452 231.346753 \nL 274.275218 266.645455 \nL 274.309925 266.645455 \nL 274.431398 231.346753 \nL 274.448752 231.346753 \nL 274.570225 266.645455 \nL 274.726405 266.645455 \nL 274.813172 231.346753 \nL 274.830525 266.645455 \nL 275.056118 266.645455 \nL 275.177592 196.048052 \nL 275.316418 266.645455 \nL 275.489952 266.645455 \nL 275.524659 231.346753 \nL 275.594072 266.645455 \nL 275.958492 266.645455 \nL 275.975845 231.346753 \nL 276.062612 266.645455 \nL 276.218792 266.645455 \nL 276.236145 231.346753 \nL 276.322912 266.645455 \nL 276.427032 266.645455 \nL 276.444385 231.346753 \nL 276.531152 266.645455 \nL 276.635272 266.645455 \nL 276.687332 196.048052 \nL 276.739392 266.645455 \nL 277.051752 266.645455 \nL 277.103812 231.346753 \nL 277.155872 266.645455 \nL 277.225285 266.645455 \nL 277.242639 231.346753 \nL 277.329406 266.645455 \nL 277.468232 266.645455 \nL 277.554999 231.346753 \nL 277.572352 266.645455 \nL 277.641766 266.645455 \nL 277.659119 231.346753 \nL 277.745886 266.645455 \nL 277.884712 266.645455 \nL 277.954126 231.346753 \nL 277.988832 266.645455 \nL 278.301192 266.645455 \nL 278.318546 231.346753 \nL 278.405312 266.645455 \nL 278.717672 266.645455 \nL 278.821792 231.346753 \nL 278.943266 266.645455 \nL 279.134152 266.645455 \nL 279.220919 196.048052 \nL 279.255626 231.346753 \nL 279.377099 266.645455 \nL 279.550633 266.645455 \nL 279.567986 196.048052 \nL 279.654753 266.645455 \nL 279.689459 266.645455 \nL 279.706813 160.749351 \nL 279.793579 231.346753 \nL 279.828286 231.346753 \nL 279.880346 196.048052 \nL 279.897699 266.645455 \nL 279.915053 266.645455 \nL 279.949759 266.645455 \nL 279.984466 196.048052 \nL 280.053879 266.645455 \nL 280.105939 266.645455 \nL 280.227413 196.048052 \nL 280.314179 266.645455 \nL 280.331533 231.346753 \nL 280.366239 231.346753 \nL 280.487713 266.645455 \nL 280.574479 266.645455 \nL 280.695953 125.450649 \nL 280.852133 125.450649 \nL 280.973606 266.645455 \nL 280.990959 231.346753 \nL 281.077726 266.645455 \nL 281.216553 266.645455 \nL 281.320673 231.346753 \nL 281.442146 266.645455 \nL 281.476853 231.346753 \nL 281.546266 266.645455 \nL 281.633033 266.645455 \nL 281.650386 231.346753 \nL 281.737153 266.645455 \nL 281.806566 266.645455 \nL 281.82392 125.450649 \nL 281.910686 266.645455 \nL 282.049513 266.645455 \nL 282.08422 231.346753 \nL 282.153633 266.645455 \nL 282.257753 266.645455 \nL 282.29246 231.346753 \nL 282.361873 266.645455 \nL 282.413933 266.645455 \nL 282.483346 231.346753 \nL 282.518053 266.645455 \nL 282.55276 266.645455 \nL 282.674233 231.346753 \nL 282.743646 231.346753 \nL 282.795706 266.645455 \nL 282.847766 231.346753 \nL 282.882473 231.346753 \nL 282.899826 196.048052 \nL 282.96924 266.645455 \nL 283.0213 266.645455 \nL 283.07336 231.346753 \nL 283.12542 266.645455 \nL 283.298953 266.645455 \nL 283.316307 196.048052 \nL 283.403073 231.346753 \nL 283.524547 266.645455 \nL 283.69808 266.645455 \nL 283.819553 231.346753 \nL 283.871613 266.645455 \nL 283.90632 196.048052 \nL 283.923673 231.346753 \nL 284.045147 231.346753 \nL 284.16662 266.645455 \nL 284.236033 266.645455 \nL 284.253387 231.346753 \nL 284.340153 266.645455 \nL 284.548393 266.645455 \nL 284.652513 231.346753 \nL 284.773987 266.645455 \nL 284.878107 231.346753 \nL 284.94752 266.645455 \nL 284.964873 196.048052 \nL 284.982227 196.048052 \nL 285.1037 266.645455 \nL 285.173114 196.048052 \nL 285.225174 231.346753 \nL 285.346647 266.645455 \nL 285.433414 231.346753 \nL 285.450767 266.645455 \nL 285.78048 266.645455 \nL 285.8846 231.346753 \nL 286.006074 266.645455 \nL 286.127547 266.645455 \nL 286.231667 231.346753 \nL 286.35314 266.645455 \nL 286.630794 266.645455 \nL 286.648147 231.346753 \nL 286.734914 266.645455 \nL 287.047274 266.645455 \nL 287.064627 231.346753 \nL 287.151394 266.645455 \nL 287.463754 266.645455 \nL 287.481107 231.346753 \nL 287.567874 266.645455 \nL 287.810821 266.645455 \nL 287.897587 231.346753 \nL 287.914941 266.645455 \nL 287.984354 266.645455 \nL 288.001707 231.346753 \nL 288.088474 266.645455 \nL 288.227301 266.645455 \nL 288.348774 231.346753 \nL 288.470247 266.645455 \nL 288.574367 266.645455 \nL 288.626427 231.346753 \nL 288.678487 266.645455 \nL 288.713194 266.645455 \nL 288.765254 231.346753 \nL 288.817314 266.645455 \nL 289.129674 266.645455 \nL 289.147028 231.346753 \nL 289.233794 266.645455 \nL 289.546154 266.645455 \nL 289.650274 231.346753 \nL 289.771748 266.645455 \nL 289.910574 266.645455 \nL 289.979988 231.346753 \nL 290.014694 266.645455 \nL 290.084108 266.645455 \nL 290.101461 231.346753 \nL 290.188228 266.645455 \nL 290.379114 266.645455 \nL 290.396468 231.346753 \nL 290.483234 266.645455 \nL 290.639414 266.645455 \nL 290.708828 231.346753 \nL 290.743534 266.645455 \nL 290.795594 266.645455 \nL 290.847655 231.346753 \nL 290.899715 266.645455 \nL 291.212075 266.645455 \nL 291.316195 231.346753 \nL 291.385608 196.048052 \nL 291.437668 266.645455 \nL 291.628555 266.645455 \nL 291.645908 231.346753 \nL 291.732675 266.645455 \nL 291.992975 266.645455 \nL 292.062388 231.346753 \nL 292.097095 266.645455 \nL 292.218568 266.645455 \nL 292.287981 196.048052 \nL 292.340041 231.346753 \nL 292.461515 231.346753 \nL 292.478868 196.048052 \nL 292.548281 266.645455 \nL 292.877995 266.645455 \nL 292.895348 231.346753 \nL 292.982115 266.645455 \nL 293.034175 266.645455 \nL 293.051528 231.346753 \nL 293.138295 266.645455 \nL 293.294475 266.645455 \nL 293.311828 231.346753 \nL 293.398595 266.645455 \nL 293.919195 266.645455 \nL 293.936548 231.346753 \nL 294.023315 266.645455 \nL 294.526562 266.645455 \nL 294.648035 231.346753 \nL 294.769509 266.645455 \nL 294.908335 266.645455 \nL 294.977749 90.151948 \nL 295.012455 231.346753 \nL 295.133929 266.645455 \nL 295.515702 266.645455 \nL 295.689235 125.450649 \nL 295.723942 125.450649 \nL 295.828062 266.645455 \nL 295.845415 231.346753 \nL 295.966889 266.645455 \nL 296.175129 266.645455 \nL 296.192482 231.346753 \nL 296.279249 266.645455 \nL 296.435429 266.645455 \nL 296.487489 231.346753 \nL 296.539549 266.645455 \nL 296.608962 266.645455 \nL 296.661022 196.048052 \nL 296.730436 231.346753 \nL 296.765142 231.346753 \nL 296.886616 266.645455 \nL 296.973382 266.645455 \nL 297.094856 231.346753 \nL 297.407216 231.346753 \nL 297.493982 266.645455 \nL 297.511336 231.346753 \nL 297.615456 231.346753 \nL 297.650162 196.048052 \nL 297.719576 231.346753 \nL 297.806342 231.346753 \nL 297.927816 266.645455 \nL 298.031936 266.645455 \nL 298.049289 231.346753 \nL 298.136056 266.645455 \nL 298.240176 266.645455 \nL 298.257529 231.346753 \nL 298.344296 266.645455 \nL 298.795483 266.645455 \nL 298.812836 231.346753 \nL 298.899603 266.645455 \nL 299.940803 266.645455 \nL 300.062276 231.346753 \nL 300.183749 266.645455 \nL 300.374636 266.645455 \nL 300.391989 231.346753 \nL 300.478756 266.645455 \nL 300.80847 266.645455 \nL 300.895236 231.346753 \nL 300.91259 266.645455 \nL 301.138183 266.645455 \nL 301.155536 125.450649 \nL 301.242303 266.645455 \nL 301.79761 266.645455 \nL 301.814963 231.346753 \nL 301.90173 266.645455 \nL 302.804103 266.645455 \nL 302.83881 160.749351 \nL 302.908223 266.645455 \nL 303.289997 266.645455 \nL 303.342057 231.346753 \nL 303.394117 266.645455 \nL 303.82795 266.645455 \nL 303.845303 231.346753 \nL 303.93207 266.645455 \nL 304.331197 266.645455 \nL 304.34855 231.346753 \nL 304.435317 266.645455 \nL 304.522084 266.645455 \nL 304.539437 231.346753 \nL 304.626204 266.645455 \nL 305.18151 266.645455 \nL 305.216217 231.346753 \nL 305.28563 266.645455 \nL 305.44181 266.645455 \nL 305.476517 196.048052 \nL 305.54593 266.645455 \nL 305.771524 266.645455 \nL 305.840937 231.346753 \nL 305.875644 266.645455 \nL 306.22271 266.645455 \nL 306.240064 231.346753 \nL 306.32683 266.645455 \nL 306.691251 266.645455 \nL 306.760664 231.346753 \nL 306.795371 266.645455 \nL 307.090377 266.645455 \nL 307.177144 231.346753 \nL 307.194497 266.645455 \nL 307.350677 266.645455 \nL 307.368031 231.346753 \nL 307.454797 266.645455 \nL 307.524211 266.645455 \nL 307.645684 231.346753 \nL 307.767157 266.645455 \nL 307.871277 266.645455 \nL 307.992751 231.346753 \nL 308.010104 231.346753 \nL 308.131577 266.645455 \nL 308.322464 266.645455 \nL 308.339818 231.346753 \nL 308.426584 266.645455 \nL 308.738944 266.645455 \nL 308.756298 231.346753 \nL 308.843064 266.645455 \nL 308.912478 266.645455 \nL 308.999244 231.346753 \nL 309.016598 266.645455 \nL 309.138071 266.645455 \nL 309.172778 125.450649 \nL 309.242191 231.346753 \nL 309.363664 266.645455 \nL 309.519844 266.645455 \nL 309.589258 231.346753 \nL 309.623964 266.645455 \nL 309.693378 266.645455 \nL 309.710731 231.346753 \nL 309.797498 266.645455 \nL 310.213978 266.645455 \nL 310.231331 231.346753 \nL 310.318098 266.645455 \nL 311.012231 266.645455 \nL 311.029585 231.346753 \nL 311.116351 266.645455 \nL 311.289885 266.645455 \nL 311.376651 125.450649 \nL 311.394005 266.645455 \nL 311.584891 266.645455 \nL 311.602245 231.346753 \nL 311.689011 266.645455 \nL 311.862545 266.645455 \nL 311.879898 231.346753 \nL 311.966665 266.645455 \nL 312.209612 266.645455 \nL 312.226965 231.346753 \nL 312.313732 266.645455 \nL 313.354932 266.645455 \nL 313.372285 231.346753 \nL 313.459052 266.645455 \nL 313.684645 266.645455 \nL 313.719352 231.346753 \nL 313.788765 266.645455 \nL 313.840825 266.645455 \nL 313.858178 231.346753 \nL 313.944945 266.645455 \nL 314.309365 266.645455 \nL 314.326719 231.346753 \nL 314.413485 266.645455 \nL 314.569665 266.645455 \nL 314.604372 125.450649 \nL 314.673785 266.645455 \nL 315.263799 266.645455 \nL 315.281152 231.346753 \nL 315.367919 266.645455 \nL 315.419979 266.645455 \nL 315.437332 231.346753 \nL 315.524099 266.645455 \nL 315.662925 266.645455 \nL 315.680279 196.048052 \nL 315.767045 231.346753 \nL 315.957932 231.346753 \nL 316.079406 266.645455 \nL 316.131466 231.346753 \nL 316.183526 266.645455 \nL 316.738832 266.645455 \nL 316.756186 231.346753 \nL 316.842952 266.645455 \nL 316.929719 266.645455 \nL 317.033839 231.346753 \nL 317.155312 266.645455 \nL 317.172666 266.645455 \nL 317.294139 231.346753 \nL 317.398259 266.645455 \nL 317.485026 231.346753 \nL 317.502379 266.645455 \nL 317.866799 266.645455 \nL 317.970919 231.346753 \nL 318.092393 266.645455 \nL 318.317986 266.645455 \nL 318.439459 231.346753 \nL 318.612993 231.346753 \nL 318.734466 266.645455 \nL 318.942706 266.645455 \nL 319.012119 231.346753 \nL 319.046826 266.645455 \nL 319.064179 266.645455 \nL 319.081533 231.346753 \nL 319.168299 266.645455 \nL 319.376539 266.645455 \nL 319.445953 231.346753 \nL 319.480659 266.645455 \nL 319.550073 266.645455 \nL 319.567426 231.346753 \nL 319.654193 266.645455 \nL 320.018613 266.645455 \nL 320.035966 231.346753 \nL 320.122733 266.645455 \nL 320.31362 266.645455 \nL 320.330973 231.346753 \nL 320.41774 266.645455 \nL 320.556566 266.645455 \nL 320.608626 231.346753 \nL 320.660686 266.645455 \nL 320.799513 266.645455 \nL 320.816866 231.346753 \nL 320.903633 266.645455 \nL 320.920986 266.645455 \nL 320.9904 231.346753 \nL 321.025106 266.645455 \nL 321.111873 266.645455 \nL 321.14658 231.346753 \nL 321.215993 266.645455 \nL 321.268053 266.645455 \nL 321.285406 231.346753 \nL 321.372173 266.645455 \nL 322.08366 266.645455 \nL 322.101013 231.346753 \nL 322.18778 266.645455 \nL 322.44808 266.645455 \nL 322.482787 231.346753 \nL 322.5522 266.645455 \nL 322.847207 266.645455 \nL 322.881913 231.346753 \nL 322.951327 266.645455 \nL 323.246333 266.645455 \nL 323.28104 231.346753 \nL 323.350453 266.645455 \nL 323.523987 266.645455 \nL 323.54134 231.346753 \nL 323.628107 266.645455 \nL 323.871054 266.645455 \nL 323.888407 125.450649 \nL 323.975174 266.645455 \nL 324.183414 266.645455 \nL 324.200767 231.346753 \nL 324.287534 266.645455 \nL 324.73872 266.645455 \nL 324.756074 231.346753 \nL 324.84284 266.645455 \nL 325.328734 266.645455 \nL 325.346087 231.346753 \nL 325.432854 266.645455 \nL 325.51962 266.645455 \nL 325.536974 231.346753 \nL 325.62374 266.645455 \nL 325.936101 266.645455 \nL 326.022867 231.346753 \nL 326.040221 266.645455 \nL 326.074927 266.645455 \nL 326.161694 231.346753 \nL 326.179047 266.645455 \nL 326.213754 266.645455 \nL 326.231107 231.346753 \nL 326.317874 266.645455 \nL 326.387287 266.645455 \nL 326.404641 125.450649 \nL 326.491407 266.645455 \nL 326.803767 266.645455 \nL 326.838474 160.749351 \nL 326.907887 266.645455 \nL 327.081421 266.645455 \nL 327.202894 231.346753 \nL 327.289661 266.645455 \nL 327.307014 160.749351 \nL 327.393781 266.645455 \nL 327.654081 266.645455 \nL 327.671434 160.749351 \nL 327.758201 266.645455 \nL 327.792908 266.645455 \nL 327.914381 231.346753 \nL 328.035854 266.645455 \nL 328.139974 160.749351 \nL 328.261448 266.645455 \nL 328.313508 266.645455 \nL 328.400274 196.048052 \nL 328.434981 231.346753 \nL 328.487041 231.346753 \nL 328.539101 125.450649 \nL 328.591161 231.346753 \nL 328.608514 231.346753 \nL 328.625868 125.450649 \nL 328.712634 231.346753 \nL 328.990288 231.346753 \nL 329.111761 196.048052 \nL 329.233234 266.645455 \nL 329.250588 266.645455 \nL 329.285294 160.749351 \nL 329.354708 266.645455 \nL 329.476181 266.645455 \nL 329.528241 231.346753 \nL 329.580301 266.645455 \nL 329.875308 266.645455 \nL 329.944721 231.346753 \nL 329.979428 266.645455 \nL 330.274435 266.645455 \nL 330.291788 231.346753 \nL 330.378555 266.645455 \nL 330.604148 266.645455 \nL 330.621501 231.346753 \nL 330.708268 266.645455 \nL 330.916508 266.645455 \nL 330.933861 231.346753 \nL 331.020628 266.645455 \nL 331.246221 266.645455 \nL 331.350341 231.346753 \nL 331.471815 266.645455 \nL 331.593288 266.645455 \nL 331.714762 231.346753 \nL 331.732115 231.346753 \nL 331.853588 266.645455 \nL 332.183302 266.645455 \nL 332.200655 231.346753 \nL 332.287422 266.645455 \nL 332.860082 266.645455 \nL 332.981555 231.346753 \nL 333.103028 266.645455 \nL 333.137735 266.645455 \nL 333.172442 231.346753 \nL 333.241855 266.645455 \nL 333.398035 266.645455 \nL 333.415388 125.450649 \nL 333.519509 160.749351 \nL 333.554215 160.749351 \nL 333.675689 266.645455 \nL 333.693042 266.645455 \nL 333.710395 125.450649 \nL 333.797162 231.346753 \nL 333.918635 266.645455 \nL 333.935989 266.645455 \nL 334.040109 231.346753 \nL 334.092169 160.749351 \nL 334.161582 266.645455 \nL 334.369822 266.645455 \nL 334.404529 231.346753 \nL 334.473942 266.645455 \nL 334.578062 266.645455 \nL 334.595415 231.346753 \nL 334.682182 266.645455 \nL 334.699535 266.645455 \nL 334.716889 125.450649 \nL 334.803655 266.645455 \nL 335.046602 266.645455 \nL 335.063955 231.346753 \nL 335.150722 266.645455 \nL 335.168075 266.645455 \nL 335.237489 125.450649 \nL 335.289549 231.346753 \nL 335.376315 266.645455 \nL 335.393669 231.346753 \nL 335.428376 160.749351 \nL 335.445729 266.645455 \nL 335.480436 266.645455 \nL 335.567202 266.645455 \nL 335.584556 231.346753 \nL 335.671322 266.645455 \nL 335.810149 266.645455 \nL 335.827502 231.346753 \nL 335.914269 266.645455 \nL 335.983682 266.645455 \nL 336.070449 125.450649 \nL 336.105156 231.346753 \nL 336.157216 266.645455 \nL 336.174569 125.450649 \nL 336.261336 266.645455 \nL 336.573696 266.645455 \nL 336.625756 231.346753 \nL 336.677816 266.645455 \nL 336.764582 266.645455 \nL 336.781936 196.048052 \nL 336.868702 266.645455 \nL 336.955469 266.645455 \nL 337.076942 231.346753 \nL 337.198416 266.645455 \nL 337.354596 266.645455 \nL 337.371949 231.346753 \nL 337.458716 266.645455 \nL 337.545483 266.645455 \nL 337.562836 231.346753 \nL 337.649603 266.645455 \nL 337.701663 266.645455 \nL 337.753723 231.346753 \nL 337.805783 266.645455 \nL 337.823136 266.645455 \nL 337.857843 231.346753 \nL 337.927256 266.645455 \nL 338.031376 266.645455 \nL 338.152849 231.346753 \nL 338.187556 266.645455 \nL 338.256969 231.346753 \nL 338.326383 231.346753 \nL 338.378443 196.048052 \nL 338.413149 231.346753 \nL 338.534623 266.645455 \nL 338.551976 231.346753 \nL 338.638743 266.645455 \nL 338.794923 266.645455 \nL 338.812276 125.450649 \nL 338.899043 266.645455 \nL 338.933749 266.645455 \nL 338.951103 231.346753 \nL 339.037869 266.645455 \nL 339.471703 266.645455 \nL 339.523763 231.346753 \nL 339.575823 266.645455 \nL 339.66259 266.645455 \nL 339.679943 125.450649 \nL 339.76671 266.645455 \nL 339.81877 266.645455 \nL 339.836123 231.346753 \nL 339.92289 266.645455 \nL 340.322016 266.645455 \nL 340.33937 231.346753 \nL 340.426136 266.645455 \nL 340.738496 266.645455 \nL 340.773203 196.048052 \nL 340.842616 266.645455 \nL 341.22439 266.645455 \nL 341.241743 231.346753 \nL 341.32851 266.645455 \nL 341.779697 266.645455 \nL 341.79705 231.346753 \nL 341.883817 266.645455 \nL 342.612657 266.645455 \nL 342.63001 231.346753 \nL 342.716777 266.645455 \nL 343.237377 266.645455 \nL 343.272084 196.048052 \nL 343.341497 266.645455 \nL 343.393557 266.645455 \nL 343.497677 231.346753 \nL 343.61915 266.645455 \nL 343.653857 266.645455 \nL 343.705917 231.346753 \nL 343.757977 266.645455 \nL 343.948864 266.645455 \nL 343.966217 231.346753 \nL 344.052984 266.645455 \nL 344.590937 266.645455 \nL 344.60829 231.346753 \nL 344.695057 266.645455 \nL 345.163597 266.645455 \nL 345.180951 231.346753 \nL 345.267717 266.645455 \nL 345.319777 266.645455 \nL 345.441251 231.346753 \nL 345.458604 231.346753 \nL 345.580077 266.645455 \nL 345.649491 231.346753 \nL 345.684197 266.645455 \nL 345.736257 266.645455 \nL 345.857731 125.450649 \nL 345.979204 266.645455 \nL 346.031264 231.346753 \nL 346.083324 266.645455 \nL 346.135384 266.645455 \nL 346.222151 231.346753 \nL 346.239504 266.645455 \nL 346.308917 266.645455 \nL 346.413037 231.346753 \nL 346.534511 266.645455 \nL 346.638631 231.346753 \nL 346.760104 266.645455 \nL 347.072464 266.645455 \nL 347.107171 196.048052 \nL 347.176584 266.645455 \nL 347.193938 266.645455 \nL 347.263351 231.346753 \nL 347.298058 266.645455 \nL 347.367471 266.645455 \nL 347.384824 231.346753 \nL 347.471591 266.645455 \nL 347.488944 266.645455 \nL 347.506298 231.346753 \nL 347.593064 266.645455 \nL 347.662478 266.645455 \nL 347.679831 196.048052 \nL 347.766598 266.645455 \nL 347.888071 266.645455 \nL 347.957484 231.346753 \nL 347.992191 266.645455 \nL 348.096311 266.645455 \nL 348.113664 231.346753 \nL 348.200431 266.645455 \nL 348.252491 266.645455 \nL 348.269844 231.346753 \nL 348.356611 266.645455 \nL 348.408671 266.645455 \nL 348.426024 231.346753 \nL 348.512791 266.645455 \nL 348.651618 266.645455 \nL 348.721031 231.346753 \nL 348.755738 266.645455 \nL 348.773091 266.645455 \nL 348.790444 231.346753 \nL 348.877211 266.645455 \nL 349.553991 266.645455 \nL 349.588698 196.048052 \nL 349.658111 266.645455 \nL 349.848998 266.645455 \nL 349.953118 231.346753 \nL 350.074591 266.645455 \nL 350.196065 231.346753 \nL 350.317538 266.645455 \nL 350.386951 266.645455 \nL 350.473718 125.450649 \nL 350.491071 266.645455 \nL 350.855491 266.645455 \nL 350.872845 231.346753 \nL 350.959612 266.645455 \nL 351.133145 266.645455 \nL 351.254618 231.346753 \nL 351.271972 231.346753 \nL 351.393445 266.645455 \nL 351.514918 266.645455 \nL 351.584332 231.346753 \nL 351.619038 266.645455 \nL 351.740512 266.645455 \nL 351.757865 231.346753 \nL 351.844632 266.645455 \nL 352.052872 266.645455 \nL 352.174345 196.048052 \nL 352.313172 266.645455 \nL 352.330525 231.346753 \nL 352.417292 266.645455 \nL 352.451998 266.645455 \nL 352.469352 231.346753 \nL 352.556118 266.645455 \nL 352.712298 266.645455 \nL 352.729652 196.048052 \nL 352.816418 266.645455 \nL 352.833772 266.645455 \nL 352.868479 231.346753 \nL 352.937892 266.645455 \nL 352.972599 266.645455 \nL 353.094072 125.450649 \nL 353.111425 125.450649 \nL 353.232899 266.645455 \nL 353.337019 160.749351 \nL 353.458492 266.645455 \nL 353.510552 266.645455 \nL 353.562612 231.346753 \nL 353.614672 266.645455 \nL 353.718792 266.645455 \nL 353.736145 231.346753 \nL 353.822912 266.645455 \nL 353.840265 266.645455 \nL 353.944385 125.450649 \nL 354.065859 266.645455 \nL 354.117919 266.645455 \nL 354.135272 231.346753 \nL 354.222039 266.645455 \nL 354.412925 266.645455 \nL 354.464985 231.346753 \nL 354.517045 266.645455 \nL 354.690579 266.645455 \nL 354.707932 231.346753 \nL 354.794699 266.645455 \nL 354.846759 266.645455 \nL 354.864112 125.450649 \nL 354.950879 231.346753 \nL 355.072352 266.645455 \nL 355.107059 266.645455 \nL 355.124412 125.450649 \nL 355.211179 266.645455 \nL 355.297946 266.645455 \nL 355.315299 125.450649 \nL 355.402066 266.645455 \nL 355.540892 196.048052 \nL 355.627659 266.645455 \nL 355.662366 231.346753 \nL 355.679719 231.346753 \nL 355.766486 266.645455 \nL 355.783839 231.346753 \nL 355.818546 231.346753 \nL 355.853252 125.450649 \nL 355.940019 266.645455 \nL 355.957372 231.346753 \nL 356.044139 266.645455 \nL 356.373852 266.645455 \nL 356.391206 231.346753 \nL 356.477972 266.645455 \nL 356.616799 266.645455 \nL 356.755626 90.151948 \nL 356.877099 266.645455 \nL 357.033279 266.645455 \nL 357.050633 231.346753 \nL 357.137399 266.645455 \nL 357.206813 266.645455 \nL 357.276226 231.346753 \nL 357.310933 266.645455 \nL 357.467113 266.645455 \nL 357.484466 231.346753 \nL 357.571233 266.645455 \nL 357.623293 266.645455 \nL 357.675353 231.346753 \nL 357.727413 266.645455 \nL 357.744766 266.645455 \nL 357.796826 231.346753 \nL 357.848886 266.645455 \nL 357.866239 266.645455 \nL 357.987713 231.346753 \nL 358.091833 231.346753 \nL 358.213306 266.645455 \nL 358.300073 196.048052 \nL 358.317426 231.346753 \nL 358.438899 266.645455 \nL 358.629786 266.645455 \nL 358.664493 125.450649 \nL 358.733906 231.346753 \nL 358.75126 231.346753 \nL 358.872733 266.645455 \nL 358.9595 231.346753 \nL 358.976853 266.645455 \nL 359.2198 266.645455 \nL 359.237153 231.346753 \nL 359.32392 266.645455 \nL 359.861873 266.645455 \nL 359.879226 231.346753 \nL 359.965993 266.645455 \nL 360.191586 266.645455 \nL 360.20894 231.346753 \nL 360.295706 266.645455 \nL 360.451886 266.645455 \nL 360.5213 231.346753 \nL 360.556006 266.645455 \nL 360.67748 266.645455 \nL 360.764247 19.554545 \nL 360.851013 125.450649 \nL 361.701327 125.450649 \nL 361.71868 90.151948 \nL 361.805447 125.450649 \nL 362.412813 125.450649 \nL 362.430167 90.151948 \nL 362.516933 125.450649 \nL 362.96812 125.450649 \nL 363.1243 19.554545 \nL 363.211067 19.554545 \nL 363.33254 125.450649 \nL 363.54078 125.450649 \nL 363.558134 90.151948 \nL 363.6449 125.450649 \nL 363.85314 125.450649 \nL 363.9052 90.151948 \nL 363.95726 125.450649 \nL 364.651394 125.450649 \nL 364.668747 90.151948 \nL 364.755514 125.450649 \nL 364.929047 125.450649 \nL 364.946401 90.151948 \nL 365.033167 125.450649 \nL 365.293467 125.450649 \nL 365.414941 19.554545 \nL 366.126427 19.554545 \nL 366.247901 125.450649 \nL 366.386727 125.450649 \nL 366.404081 90.151948 \nL 366.490848 125.450649 \nL 366.629674 125.450649 \nL 366.647028 90.151948 \nL 366.733794 125.450649 \nL 366.976741 125.450649 \nL 366.994094 90.151948 \nL 367.080861 125.450649 \nL 367.237041 125.450649 \nL 367.254394 90.151948 \nL 367.341161 125.450649 \nL 367.931174 125.450649 \nL 367.948528 90.151948 \nL 368.035294 125.450649 \nL 369.666508 125.450649 \nL 369.683861 90.151948 \nL 369.770628 125.450649 \nL 369.892101 125.450649 \nL 369.909455 90.151948 \nL 369.996221 125.450649 \nL 370.430055 125.450649 \nL 370.516822 90.151948 \nL 370.534175 125.450649 \nL 371.158895 125.450649 \nL 371.176248 90.151948 \nL 371.263015 125.450649 \nL 372.599222 125.450649 \nL 372.616575 90.151948 \nL 372.703342 125.450649 \nL 372.859522 125.450649 \nL 372.876875 90.151948 \nL 372.963642 125.450649 \nL 375.150162 125.450649 \nL 375.184869 90.151948 \nL 375.254282 125.450649 \nL 375.306342 125.450649 \nL 375.323696 90.151948 \nL 375.410462 125.450649 \nL 375.722822 125.450649 \nL 375.757529 90.151948 \nL 375.826942 125.450649 \nL 375.896356 125.450649 \nL 375.931062 90.151948 \nL 376.000476 125.450649 \nL 376.642549 125.450649 \nL 376.659903 90.151948 \nL 376.746669 125.450649 \nL 377.666396 125.450649 \nL 377.683749 90.151948 \nL 377.770516 125.450649 \nL 378.343176 125.450649 \nL 378.36053 54.853247 \nL 378.447296 125.450649 \nL 378.46465 90.151948 \nL 378.551416 125.450649 \nL 378.638183 125.450649 \nL 378.655536 90.151948 \nL 378.742303 125.450649 \nL 379.45379 125.450649 \nL 379.575263 90.151948 \nL 379.592616 90.151948 \nL 379.71409 125.450649 \nL 381.518837 125.450649 \nL 381.53619 90.151948 \nL 381.622957 125.450649 \nL 382.143557 125.450649 \nL 382.16091 19.554545 \nL 382.247677 125.450649 \nL 382.31709 125.450649 \nL 382.334444 90.151948 \nL 382.42121 125.450649 \nL 382.47327 125.450649 \nL 382.490624 90.151948 \nL 382.57739 125.450649 \nL 384.486257 125.450649 \nL 384.503611 90.151948 \nL 384.590377 125.450649 \nL 385.336571 125.450649 \nL 385.353924 90.151948 \nL 385.440691 125.450649 \nL 386.672778 125.450649 \nL 386.690131 90.151948 \nL 386.776898 125.450649 \nL 387.141318 125.450649 \nL 387.193378 90.151948 \nL 387.314851 231.346753 \nL 387.349558 231.346753 \nL 387.366911 196.048052 \nL 387.401618 266.645455 \nL 387.436324 266.645455 \nL 387.627211 266.645455 \nL 387.696624 231.346753 \nL 387.731331 266.645455 \nL 387.818098 266.645455 \nL 387.887511 160.749351 \nL 387.922218 266.645455 \nL 387.939571 266.645455 \nL 387.956925 231.346753 \nL 388.043691 266.645455 \nL 388.217225 266.645455 \nL 388.234578 231.346753 \nL 388.321345 266.645455 \nL 388.807238 266.645455 \nL 388.824591 231.346753 \nL 388.911358 266.645455 \nL 389.015478 266.645455 \nL 389.084891 231.346753 \nL 389.119598 266.645455 \nL 389.136951 266.645455 \nL 389.154305 231.346753 \nL 389.241071 266.645455 \nL 389.935205 266.645455 \nL 390.039325 231.346753 \nL 390.160798 266.645455 \nL 390.369038 266.645455 \nL 390.386392 231.346753 \nL 390.473158 266.645455 \nL 390.594632 266.645455 \nL 390.611985 231.346753 \nL 390.698752 266.645455 \nL 390.837578 266.645455 \nL 390.854932 231.346753 \nL 390.941698 266.645455 \nL 391.219352 266.645455 \nL 391.236705 231.346753 \nL 391.323472 266.645455 \nL 391.635832 266.645455 \nL 391.653185 231.346753 \nL 391.739952 266.645455 \nL 391.948192 266.645455 \nL 392.052312 160.749351 \nL 392.173785 266.645455 \nL 392.382025 266.645455 \nL 392.399379 160.749351 \nL 392.486145 231.346753 \nL 392.572912 231.346753 \nL 392.694385 266.645455 \nL 392.833212 266.645455 \nL 392.919979 231.346753 \nL 392.937332 266.645455 \nL 393.006745 266.645455 \nL 393.024099 160.749351 \nL 393.110865 266.645455 \nL 393.319105 266.645455 \nL 393.423225 160.749351 \nL 393.544699 266.645455 \nL 394.047946 266.645455 \nL 394.082652 231.346753 \nL 394.152066 266.645455 \nL 394.221479 266.645455 \nL 394.342952 231.346753 \nL 394.464426 266.645455 \nL 394.776786 266.645455 \nL 394.880906 160.749351 \nL 395.002379 266.645455 \nL 395.505626 266.645455 \nL 395.522979 231.346753 \nL 395.609746 266.645455 \nL 395.661806 266.645455 \nL 395.679159 160.749351 \nL 395.765926 266.645455 \nL 395.783279 266.645455 \nL 395.835339 160.749351 \nL 395.887399 266.645455 \nL 396.147699 266.645455 \nL 396.217113 125.450649 \nL 396.251819 266.645455 \nL 396.546826 266.645455 \nL 396.668299 160.749351 \nL 396.789773 266.645455 \nL 396.998013 266.645455 \nL 397.119486 231.346753 \nL 397.240959 266.645455 \nL 397.379786 266.645455 \nL 397.397139 231.346753 \nL 397.483906 266.645455 \nL 398.12598 266.645455 \nL 398.143333 125.450649 \nL 398.2301 266.645455 \nL 398.33422 266.645455 \nL 398.420986 160.749351 \nL 398.43834 266.645455 \nL 398.629226 266.645455 \nL 398.733346 231.346753 \nL 398.768053 160.749351 \nL 398.85482 266.645455 \nL 399.028353 266.645455 \nL 399.149826 231.346753 \nL 399.2713 266.645455 \nL 399.462187 266.645455 \nL 399.548953 231.346753 \nL 399.566307 266.645455 \nL 399.878667 266.645455 \nL 399.965433 231.346753 \nL 399.982787 266.645455 \nL 400.017493 266.645455 \nL 400.0522 196.048052 \nL 400.121613 266.645455 \nL 400.98928 266.645455 \nL 401.058693 54.853247 \nL 401.0934 266.645455 \nL 401.214873 266.645455 \nL 401.336347 160.749351 \nL 401.45782 266.645455 \nL 401.579294 266.645455 \nL 401.596647 231.346753 \nL 401.683414 266.645455 \nL 401.752827 266.645455 \nL 401.77018 160.749351 \nL 401.856947 266.645455 \nL 401.97842 266.645455 \nL 402.117247 160.749351 \nL 402.221367 266.645455 \nL 402.23872 231.346753 \nL 402.29078 160.749351 \nL 402.360194 266.645455 \nL 402.377547 231.346753 \nL 402.464314 266.645455 \nL 402.81138 266.645455 \nL 402.828734 231.346753 \nL 402.9155 266.645455 \nL 403.036974 266.645455 \nL 403.07168 125.450649 \nL 403.141094 266.645455 \nL 403.453454 266.645455 \nL 403.488161 231.346753 \nL 403.557574 266.645455 \nL 403.783167 266.645455 \nL 403.817874 231.346753 \nL 403.887287 266.645455 \nL 404.060821 266.645455 \nL 404.112881 231.346753 \nL 404.164941 266.645455 \nL 404.390534 266.645455 \nL 404.407887 160.749351 \nL 404.494654 266.645455 \nL 404.512007 266.645455 \nL 404.581421 231.346753 \nL 404.616127 266.645455 \nL 404.859074 266.645455 \nL 404.945841 196.048052 \nL 404.963194 266.645455 \nL 405.344968 266.645455 \nL 405.362321 231.346753 \nL 405.449088 266.645455 \nL 405.692034 266.645455 \nL 405.778801 196.048052 \nL 405.813508 231.346753 \nL 405.934981 266.645455 \nL 406.177928 266.645455 \nL 406.195281 231.346753 \nL 406.282048 266.645455 \nL 406.490288 266.645455 \nL 406.507641 160.749351 \nL 406.594408 266.645455 \nL 406.715881 231.346753 \nL 407.010888 231.346753 \nL 407.028241 196.048052 \nL 407.045594 266.645455 \nL 407.097655 266.645455 \nL 407.427368 266.645455 \nL 407.444721 196.048052 \nL 407.531488 266.645455 \nL 407.757081 266.645455 \nL 407.861201 196.048052 \nL 407.878555 266.645455 \nL 407.965321 231.346753 \nL 408.260328 231.346753 \nL 408.277681 196.048052 \nL 408.364448 231.346753 \nL 408.537981 231.346753 \nL 408.659455 160.749351 \nL 408.798281 231.346753 \nL 408.850341 231.346753 \nL 408.971815 125.450649 \nL 409.023875 125.450649 \nL 409.145348 160.749351 \nL 409.509768 160.749351 \nL 409.527122 125.450649 \nL 409.613888 160.749351 \nL 409.874188 160.749351 \nL 409.978308 266.645455 \nL 409.995662 231.346753 \nL 410.082428 266.645455 \nL 410.099782 125.450649 \nL 410.186548 266.645455 \nL 410.203902 266.645455 \nL 410.221255 125.450649 \nL 410.308022 266.645455 \nL 410.342728 266.645455 \nL 410.412142 196.048052 \nL 410.446848 231.346753 \nL 410.498908 266.645455 \nL 410.533615 196.048052 \nL 410.550968 231.346753 \nL 410.655088 231.346753 \nL 410.689795 266.645455 \nL 410.759208 231.346753 \nL 410.811268 231.346753 \nL 410.932742 266.645455 \nL 411.227749 266.645455 \nL 411.245102 196.048052 \nL 411.331869 266.645455 \nL 411.557462 266.645455 \nL 411.626875 231.346753 \nL 411.661582 266.645455 \nL 411.696289 266.645455 \nL 411.713642 125.450649 \nL 411.800409 231.346753 \nL 411.921882 266.645455 \nL 411.973942 266.645455 \nL 412.095415 125.450649 \nL 412.216889 266.645455 \nL 412.581309 266.645455 \nL 412.616015 160.749351 \nL 412.685429 266.645455 \nL 413.605156 266.645455 \nL 413.743982 196.048052 \nL 413.761336 196.048052 \nL 413.865456 231.346753 \nL 413.882809 196.048052 \nL 413.969576 231.346753 \nL 413.986929 231.346753 \nL 414.091049 125.450649 \nL 414.212522 266.645455 \nL 414.490176 266.645455 \nL 414.542236 160.749351 \nL 414.594296 266.645455 \nL 414.698416 266.645455 \nL 414.715769 160.749351 \nL 414.802536 266.645455 \nL 414.941363 266.645455 \nL 414.958716 125.450649 \nL 415.045483 231.346753 \nL 415.166956 266.645455 \nL 415.409903 266.645455 \nL 415.461963 231.346753 \nL 415.514023 266.645455 \nL 415.583436 266.645455 \nL 415.704909 160.749351 \nL 415.861089 266.645455 \nL 415.878443 266.645455 \nL 415.913149 231.346753 \nL 415.982563 266.645455 \nL 416.190803 266.645455 \nL 416.260216 160.749351 \nL 416.294923 266.645455 \nL 416.537869 266.645455 \nL 416.555223 160.749351 \nL 416.641989 266.645455 \nL 416.780816 266.645455 \nL 416.79817 231.346753 \nL 416.884936 266.645455 \nL 417.00641 266.645455 \nL 417.093176 231.346753 \nL 417.11053 266.645455 \nL 417.457596 266.645455 \nL 417.47495 231.346753 \nL 417.561716 266.645455 \nL 417.78731 266.645455 \nL 417.908783 160.749351 \nL 418.585563 160.749351 \nL 418.707036 266.645455 \nL 418.949983 266.645455 \nL 419.019397 160.749351 \nL 419.054103 266.645455 \nL 419.782943 266.645455 \nL 419.904417 231.346753 \nL 420.02589 266.645455 \nL 420.147363 266.645455 \nL 420.268837 160.749351 \nL 420.28619 160.749351 \nL 420.407663 266.645455 \nL 420.44237 231.346753 \nL 420.511783 266.645455 \nL 420.667964 266.645455 \nL 420.789437 231.346753 \nL 421.570337 231.346753 \nL 421.69181 266.645455 \nL 422.385944 266.645455 \nL 422.438004 196.048052 \nL 422.490064 266.645455 \nL 422.559477 266.645455 \nL 422.646244 231.346753 \nL 422.663597 266.645455 \nL 422.698304 266.645455 \nL 422.733011 231.346753 \nL 422.802424 266.645455 \nL 423.218904 266.645455 \nL 423.288317 231.346753 \nL 423.323024 266.645455 \nL 423.600677 266.645455 \nL 423.722151 160.749351 \nL 424.433637 160.749351 \nL 424.520404 266.645455 \nL 424.537758 231.346753 \nL 424.555111 125.450649 \nL 424.659231 160.749351 \nL 424.693938 125.450649 \nL 424.763351 160.749351 \nL 424.884824 160.749351 \nL 425.006298 266.645455 \nL 425.023651 266.645455 \nL 425.075711 231.346753 \nL 425.127771 266.645455 \nL 425.318658 266.645455 \nL 425.336011 231.346753 \nL 425.422778 266.645455 \nL 425.717784 266.645455 \nL 425.752491 231.346753 \nL 425.821904 266.645455 \nL 425.873964 266.645455 \nL 425.891318 231.346753 \nL 425.978084 266.645455 \nL 426.203678 266.645455 \nL 426.255738 231.346753 \nL 426.307798 266.645455 \nL 427.539885 266.645455 \nL 427.626651 231.346753 \nL 427.644005 266.645455 \nL 427.869598 266.645455 \nL 427.991071 231.346753 \nL 428.112545 266.645455 \nL 428.199311 266.645455 \nL 428.216665 231.346753 \nL 428.303431 266.645455 \nL 428.563732 266.645455 \nL 428.581085 160.749351 \nL 428.667852 266.645455 \nL 428.997565 266.645455 \nL 429.014918 231.346753 \nL 429.101685 266.645455 \nL 429.535518 266.645455 \nL 429.622285 231.346753 \nL 429.639638 266.645455 \nL 430.455245 266.645455 \nL 430.472599 196.048052 \nL 430.559365 266.645455 \nL 430.837019 266.645455 \nL 430.854372 196.048052 \nL 430.941139 266.645455 \nL 431.531152 266.645455 \nL 431.565859 231.346753 \nL 431.635272 266.645455 \nL 431.652625 266.645455 \nL 431.669979 231.346753 \nL 431.756745 266.645455 \nL 431.930279 266.645455 \nL 431.947632 231.346753 \nL 432.034399 266.645455 \nL 433.127659 266.645455 \nL 433.301192 125.450649 \nL 433.318546 125.450649 \nL 433.440019 160.749351 \nL 433.457372 160.749351 \nL 433.474726 125.450649 \nL 433.561492 160.749351 \nL 433.578846 160.749351 \nL 433.700319 266.645455 \nL 433.717672 266.645455 \nL 433.752379 160.749351 \nL 433.821792 266.645455 \nL 434.064739 266.645455 \nL 434.186212 231.346753 \nL 434.845639 231.346753 \nL 434.967113 266.645455 \nL 435.262119 266.645455 \nL 435.279473 231.346753 \nL 435.366239 266.645455 \nL 436.164493 266.645455 \nL 436.181846 231.346753 \nL 436.268613 266.645455 \nL 436.442146 266.645455 \nL 436.56362 160.749351 \nL 436.685093 266.645455 \nL 436.858626 266.645455 \nL 436.87598 160.749351 \nL 436.962746 266.645455 \nL 436.997453 196.048052 \nL 437.066866 266.645455 \nL 437.691586 266.645455 \nL 437.795706 231.346753 \nL 437.91718 266.645455 \nL 438.351013 266.645455 \nL 438.472487 231.346753 \nL 438.663373 231.346753 \nL 438.784847 266.645455 \nL 439.565747 266.645455 \nL 439.5831 231.346753 \nL 439.669867 266.645455 \nL 439.878107 266.645455 \nL 439.99958 231.346753 \nL 440.121054 266.645455 \nL 440.294587 266.645455 \nL 440.329294 231.346753 \nL 440.398707 266.645455 \nL 440.41606 266.645455 \nL 440.537534 231.346753 \nL 440.659007 266.645455 \nL 440.763127 266.645455 \nL 440.78048 231.346753 \nL 440.867247 266.645455 \nL 441.61344 266.645455 \nL 441.648147 231.346753 \nL 441.71756 266.645455 \nL 442.012567 266.645455 \nL 442.047274 231.346753 \nL 442.116687 266.645455 \nL 442.429047 266.645455 \nL 442.533167 231.346753 \nL 442.654641 266.645455 \nL 442.671994 266.645455 \nL 442.689347 231.346753 \nL 442.776114 266.645455 \nL 442.914941 266.645455 \nL 442.932294 231.346753 \nL 443.019061 266.645455 \nL 443.244654 266.645455 \nL 443.279361 231.346753 \nL 443.348774 266.645455 \nL 443.643781 266.645455 \nL 443.661134 231.346753 \nL 443.747901 266.645455 \nL 443.886727 266.645455 \nL 444.025554 90.151948 \nL 444.060261 90.151948 \nL 444.199088 266.645455 \nL 444.268501 266.645455 \nL 444.389974 196.048052 \nL 444.511448 266.645455 \nL 444.841161 266.645455 \nL 444.858514 160.749351 \nL 444.945281 266.645455 \nL 445.014694 266.645455 \nL 445.049401 231.346753 \nL 445.118814 266.645455 \nL 445.379114 266.645455 \nL 445.396468 231.346753 \nL 445.483234 266.645455 \nL 445.726181 266.645455 \nL 445.778241 231.346753 \nL 445.830301 266.645455 \nL 446.194721 266.645455 \nL 446.212075 231.346753 \nL 446.298841 266.645455 \nL 446.541788 266.645455 \nL 446.559141 231.346753 \nL 446.645908 266.645455 \nL 446.732675 266.645455 \nL 446.750028 196.048052 \nL 446.836795 231.346753 \nL 446.958268 266.645455 \nL 447.756521 266.645455 \nL 447.895348 196.048052 \nL 447.912702 196.048052 \nL 448.034175 266.645455 \nL 448.207708 266.645455 \nL 448.242415 231.346753 \nL 448.311828 266.645455 \nL 448.658895 266.645455 \nL 448.745662 196.048052 \nL 448.763015 231.346753 \nL 448.867135 266.645455 \nL 448.936548 231.346753 \nL 448.971255 266.645455 \nL 449.561268 266.645455 \nL 449.578622 231.346753 \nL 449.665388 266.645455 \nL 450.099222 266.645455 \nL 450.116575 231.346753 \nL 450.203342 266.645455 \nL 451.105715 266.645455 \nL 451.192482 231.346753 \nL 451.209835 266.645455 \nL 451.261895 266.645455 \nL 451.279249 231.346753 \nL 451.366015 266.645455 \nL 451.661022 266.645455 \nL 451.765142 196.048052 \nL 451.886616 266.645455 \nL 452.077502 266.645455 \nL 452.129562 231.346753 \nL 452.181622 266.645455 \nL 452.476629 266.645455 \nL 452.493982 231.346753 \nL 452.580749 266.645455 \nL 452.650162 266.645455 \nL 452.702222 160.749351 \nL 452.754282 266.645455 \nL 453.066642 266.645455 \nL 453.118702 160.749351 \nL 453.170762 266.645455 \nL 453.483122 266.645455 \nL 453.535182 125.450649 \nL 453.587242 266.645455 \nL 453.656656 160.749351 \nL 453.691363 266.645455 \nL 453.899603 266.645455 \nL 453.951663 160.749351 \nL 454.003723 266.645455 \nL 454.090489 266.645455 \nL 454.107843 231.346753 \nL 454.194609 266.645455 \nL 454.316083 266.645455 \nL 454.368143 160.749351 \nL 454.420203 266.645455 \nL 454.437556 231.346753 \nL 454.524323 266.645455 \nL 454.732563 266.645455 \nL 454.784623 160.749351 \nL 454.836683 266.645455 \nL 454.871389 266.645455 \nL 454.888743 160.749351 \nL 454.975509 231.346753 \nL 455.096983 266.645455 \nL 455.183749 125.450649 \nL 455.201103 160.749351 \nL 455.322576 266.645455 \nL 455.478756 266.645455 \nL 455.60023 160.749351 \nL 455.617583 160.749351 \nL 455.739056 266.645455 \nL 455.80847 266.645455 \nL 455.825823 196.048052 \nL 455.91259 266.645455 \nL 455.982003 266.645455 \nL 456.01671 125.450649 \nL 456.086123 266.645455 \nL 456.346423 266.645455 \nL 456.450543 160.749351 \nL 456.572016 266.645455 \nL 456.762903 266.645455 \nL 456.867023 160.749351 \nL 456.988496 266.645455 \nL 457.00585 266.645455 \nL 457.127323 196.048052 \nL 457.231443 266.645455 \nL 457.248796 90.151948 \nL 457.335563 231.346753 \nL 457.42233 160.749351 \nL 457.439683 231.346753 \nL 457.509097 231.346753 \nL 457.63057 266.645455 \nL 457.647923 266.645455 \nL 457.699983 160.749351 \nL 457.752043 266.645455 \nL 457.856163 266.645455 \nL 457.960283 160.749351 \nL 458.064403 266.645455 \nL 458.15117 160.749351 \nL 458.168523 266.645455 \nL 458.237937 231.346753 \nL 458.272643 266.645455 \nL 458.35941 266.645455 \nL 458.376763 231.346753 \nL 458.46353 266.645455 \nL 458.480883 266.645455 \nL 458.532943 160.749351 \nL 458.585003 266.645455 \nL 458.706477 266.645455 \nL 458.72383 231.346753 \nL 458.810597 266.645455 \nL 458.82795 266.645455 \nL 458.949423 160.749351 \nL 459.070897 266.645455 \nL 459.313843 266.645455 \nL 459.365903 160.749351 \nL 459.417964 266.645455 \nL 459.539437 266.645455 \nL 459.591497 231.346753 \nL 459.643557 266.645455 \nL 459.730324 266.645455 \nL 459.81709 160.749351 \nL 459.834444 266.645455 \nL 459.903857 266.645455 \nL 459.938564 196.048052 \nL 460.007977 266.645455 \nL 460.112097 266.645455 \nL 460.198864 125.450649 \nL 460.23357 231.346753 \nL 460.268277 231.346753 \nL 460.28563 90.151948 \nL 460.320337 266.645455 \nL 460.372397 231.346753 \nL 460.49387 266.645455 \nL 460.563284 266.645455 \nL 460.65005 160.749351 \nL 460.667404 266.645455 \nL 460.684757 266.645455 \nL 460.70211 196.048052 \nL 460.788877 266.645455 \nL 460.979764 266.645455 \nL 461.031824 160.749351 \nL 461.083884 266.645455 \nL 461.101237 266.645455 \nL 461.257417 160.749351 \nL 461.448304 160.749351 \nL 461.569777 266.645455 \nL 461.812724 266.645455 \nL 461.934197 160.749351 \nL 462.073024 160.749351 \nL 462.090377 125.450649 \nL 462.177144 160.749351 \nL 462.281264 160.749351 \nL 462.402737 266.645455 \nL 462.645684 266.645455 \nL 462.767157 90.151948 \nL 462.888631 160.749351 \nL 462.992751 125.450649 \nL 463.166284 266.645455 \nL 463.200991 266.645455 \nL 463.235697 231.346753 \nL 463.305111 266.645455 \nL 463.478644 266.645455 \nL 463.600118 160.749351 \nL 463.704238 160.749351 \nL 463.756298 125.450649 \nL 463.808358 160.749351 \nL 463.981891 160.749351 \nL 464.103364 266.645455 \nL 464.224838 266.645455 \nL 464.346311 160.749351 \nL 464.450431 160.749351 \nL 464.467784 125.450649 \nL 464.554551 160.749351 \nL 464.658671 160.749351 \nL 464.676024 266.645455 \nL 464.762791 125.450649 \nL 464.814851 90.151948 \nL 464.936324 266.645455 \nL 465.023091 266.645455 \nL 465.092504 160.749351 \nL 465.127211 266.645455 \nL 465.144564 266.645455 \nL 465.266038 160.749351 \nL 465.318098 160.749351 \nL 465.439571 266.645455 \nL 465.456925 266.645455 \nL 465.474278 160.749351 \nL 465.561045 266.645455 \nL 465.665165 266.645455 \nL 465.682518 231.346753 \nL 465.769285 266.645455 \nL 466.081645 266.645455 \nL 466.098998 231.346753 \nL 466.185765 266.645455 \nL 466.307238 266.645455 \nL 466.428711 231.346753 \nL 466.515478 231.346753 \nL 466.636951 266.645455 \nL 466.914605 266.645455 \nL 466.966665 231.346753 \nL 467.018725 266.645455 \nL 467.088138 266.645455 \nL 467.105491 231.346753 \nL 467.192258 266.645455 \nL 468.667292 266.645455 \nL 468.771412 231.346753 \nL 468.823472 160.749351 \nL 468.858178 266.645455 \nL 468.962298 196.048052 \nL 469.101125 266.645455 \nL 469.187892 266.645455 \nL 469.222599 231.346753 \nL 469.292012 266.645455 \nL 469.847319 266.645455 \nL 469.864672 231.346753 \nL 469.951439 266.645455 \nL 470.211739 266.645455 \nL 470.229092 231.346753 \nL 470.315859 266.645455 \nL 470.853812 266.645455 \nL 470.905872 231.346753 \nL 470.957932 266.645455 \nL 471.131466 266.645455 \nL 471.183526 125.450649 \nL 471.235586 266.645455 \nL 471.391766 266.645455 \nL 471.409119 231.346753 \nL 471.495886 266.645455 \nL 471.652066 266.645455 \nL 471.773539 231.346753 \nL 471.947072 231.346753 \nL 472.068546 266.645455 \nL 472.346199 266.645455 \nL 472.363552 196.048052 \nL 472.450319 266.645455 \nL 472.745326 266.645455 \nL 472.762679 231.346753 \nL 472.849446 266.645455 \nL 472.866799 266.645455 \nL 472.884152 231.346753 \nL 472.970919 266.645455 \nL 472.988273 266.645455 \nL 473.005626 231.346753 \nL 473.092393 266.645455 \nL 473.231219 266.645455 \nL 473.248573 231.346753 \nL 473.335339 266.645455 \nL 474.046826 266.645455 \nL 474.064179 231.346753 \nL 474.150946 266.645455 \nL 474.168299 266.645455 \nL 474.203006 125.450649 \nL 474.289773 160.749351 \nL 474.376539 160.749351 \nL 474.480659 266.645455 \nL 474.498013 231.346753 \nL 474.619486 266.645455 \nL 474.636839 266.645455 \nL 474.654193 231.346753 \nL 474.740959 266.645455 \nL 474.793019 266.645455 \nL 474.845079 196.048052 \nL 474.914493 231.346753 \nL 475.035966 266.645455 \nL 475.348326 266.645455 \nL 475.36568 231.346753 \nL 475.452446 266.645455 \nL 475.643333 266.645455 \nL 475.7301 160.749351 \nL 475.747453 266.645455 \nL 476.09452 266.645455 \nL 476.111873 231.346753 \nL 476.19864 266.645455 \nL 476.389526 266.645455 \nL 476.441586 231.346753 \nL 476.493646 266.645455 \nL 476.71924 266.645455 \nL 476.736593 231.346753 \nL 476.82336 266.645455 \nL 476.910127 266.645455 \nL 476.92748 231.346753 \nL 477.014247 266.645455 \nL 477.673673 266.645455 \nL 477.795147 231.346753 \nL 477.91662 266.645455 \nL 478.159567 266.645455 \nL 478.22898 231.346753 \nL 478.263687 266.645455 \nL 478.28104 266.645455 \nL 478.402513 231.346753 \nL 478.48928 231.346753 \nL 478.610753 196.048052 \nL 478.732227 266.645455 \nL 478.74958 231.346753 \nL 478.836347 266.645455 \nL 478.90576 266.645455 \nL 478.923114 231.346753 \nL 479.00988 266.645455 \nL 479.304887 266.645455 \nL 479.32224 196.048052 \nL 479.409007 266.645455 \nL 479.825487 266.645455 \nL 479.84284 231.346753 \nL 479.929607 266.645455 \nL 480.085787 266.645455 \nL 480.10314 231.346753 \nL 480.189907 266.645455 \nL 480.224614 266.645455 \nL 480.36344 196.048052 \nL 480.484914 231.346753 \nL 480.57168 231.346753 \nL 480.606387 196.048052 \nL 480.6758 231.346753 \nL 481.074927 231.346753 \nL 481.231107 125.450649 \nL 481.283167 125.450649 \nL 481.404641 160.749351 \nL 481.647587 160.749351 \nL 481.769061 266.645455 \nL 481.925241 266.645455 \nL 482.046714 231.346753 \nL 482.237601 231.346753 \nL 482.272307 125.450649 \nL 482.324367 231.346753 \nL 482.445841 266.645455 \nL 482.515254 266.645455 \nL 482.532607 231.346753 \nL 482.619374 266.645455 \nL 482.897028 266.645455 \nL 482.914381 196.048052 \nL 483.001148 231.346753 \nL 483.018501 231.346753 \nL 483.139974 266.645455 \nL 483.174681 266.645455 \nL 483.244094 231.346753 \nL 483.278801 266.645455 \nL 483.556454 266.645455 \nL 483.677928 160.749351 \nL 483.799401 266.645455 \nL 484.059701 266.645455 \nL 484.094408 196.048052 \nL 484.163821 266.645455 \nL 484.181174 266.645455 \nL 484.198528 231.346753 \nL 484.285294 266.645455 \nL 484.406768 266.645455 \nL 484.441474 231.346753 \nL 484.510888 266.645455 \nL 484.701775 266.645455 \nL 484.753835 231.346753 \nL 484.805895 266.645455 \nL 485.257081 266.645455 \nL 485.378555 160.749351 \nL 485.395908 160.749351 \nL 485.447968 266.645455 \nL 485.517381 231.346753 \nL 485.638855 266.645455 \nL 485.690915 266.645455 \nL 485.708268 231.346753 \nL 485.795035 266.645455 \nL 485.951215 266.645455 \nL 485.968568 196.048052 \nL 486.055335 266.645455 \nL 486.107395 266.645455 \nL 486.142101 231.346753 \nL 486.211515 266.645455 \nL 486.228868 266.645455 \nL 486.246221 125.450649 \nL 486.332988 266.645455 \nL 486.402401 266.645455 \nL 486.419755 160.749351 \nL 486.506521 266.645455 \nL 486.523875 266.645455 \nL 486.697408 125.450649 \nL 486.818882 231.346753 \nL 486.870942 231.346753 \nL 486.992415 196.048052 \nL 487.027122 196.048052 \nL 487.131242 160.749351 \nL 487.252715 196.048052 \nL 487.322128 196.048052 \nL 487.339482 125.450649 \nL 487.356835 231.346753 \nL 487.426248 160.749351 \nL 487.443602 160.749351 \nL 487.582428 231.346753 \nL 487.617135 196.048052 \nL 487.686548 231.346753 \nL 487.790668 231.346753 \nL 487.912142 266.645455 \nL 488.050968 266.645455 \nL 488.189795 196.048052 \nL 488.224502 160.749351 \nL 488.293915 266.645455 \nL 488.311268 196.048052 \nL 488.398035 231.346753 \nL 488.432742 231.346753 \nL 488.519509 90.151948 \nL 488.536862 196.048052 \nL 488.554215 266.645455 \nL 488.588922 160.749351 \nL 488.640982 231.346753 \nL 488.658335 231.346753 \nL 488.745102 266.645455 \nL 488.762455 160.749351 \nL 488.849222 266.645455 \nL 488.918635 266.645455 \nL 489.040109 231.346753 \nL 489.161582 266.645455 \nL 489.404529 266.645455 \nL 489.508649 231.346753 \nL 489.630122 266.645455 \nL 489.786302 266.645455 \nL 489.803655 231.346753 \nL 489.890422 266.645455 \nL 490.063955 266.645455 \nL 490.081309 160.749351 \nL 490.168075 266.645455 \nL 490.220135 266.645455 \nL 490.272195 196.048052 \nL 490.341609 231.346753 \nL 490.393669 231.346753 \nL 490.411022 196.048052 \nL 490.428376 266.645455 \nL 490.480436 266.645455 \nL 490.497789 266.645455 \nL 490.515142 231.346753 \nL 490.601909 266.645455 \nL 490.636616 266.645455 \nL 490.653969 196.048052 \nL 490.740736 266.645455 \nL 491.243982 266.645455 \nL 491.382809 196.048052 \nL 491.504282 231.346753 \nL 491.903409 231.346753 \nL 491.955469 125.450649 \nL 491.972822 266.645455 \nL 492.007529 231.346753 \nL 492.129002 266.645455 \nL 492.146356 266.645455 \nL 492.267829 231.346753 \nL 492.319889 231.346753 \nL 492.354596 196.048052 \nL 492.424009 231.346753 \nL 492.441363 231.346753 \nL 492.458716 196.048052 \nL 492.528129 231.346753 \nL 492.649603 266.645455 \nL 493.170203 266.645455 \nL 493.239616 231.346753 \nL 493.274323 266.645455 \nL 493.413149 266.645455 \nL 493.430503 231.346753 \nL 493.517269 266.645455 \nL 493.760216 266.645455 \nL 493.777569 231.346753 \nL 493.864336 266.645455 \nL 494.176696 266.645455 \nL 494.194049 231.346753 \nL 494.280816 266.645455 \nL 494.784063 266.645455 \nL 494.853476 231.346753 \nL 494.888183 266.645455 \nL 494.957596 266.645455 \nL 494.97495 231.346753 \nL 495.061716 266.645455 \nL 495.113776 266.645455 \nL 495.18319 231.346753 \nL 495.217896 266.645455 \nL 495.23525 266.645455 \nL 495.322016 231.346753 \nL 495.33937 266.645455 \nL 495.460843 266.645455 \nL 495.478196 231.346753 \nL 495.564963 266.645455 \nL 496.102916 266.645455 \nL 496.189683 231.346753 \nL 496.207036 266.645455 \nL 496.259097 266.645455 \nL 496.27645 231.346753 \nL 496.363217 266.645455 \nL 496.519397 266.645455 \nL 496.606163 231.346753 \nL 496.623517 266.645455 \nL 498.011783 266.645455 \nL 498.04649 231.346753 \nL 498.115903 266.645455 \nL 498.185317 266.645455 \nL 498.20267 196.048052 \nL 498.289437 231.346753 \nL 498.30679 231.346753 \nL 498.428264 266.645455 \nL 499.13975 266.645455 \nL 499.174457 231.346753 \nL 499.24387 266.645455 \nL 499.538877 266.645455 \nL 499.55623 231.346753 \nL 499.642997 266.645455 \nL 500.146244 266.645455 \nL 500.163597 231.346753 \nL 500.250364 266.645455 \nL 500.354484 266.645455 \nL 500.475957 231.346753 \nL 500.597431 266.645455 \nL 500.736257 266.645455 \nL 500.770964 196.048052 \nL 500.840377 266.645455 \nL 500.857731 266.645455 \nL 500.979204 231.346753 \nL 501.083324 231.346753 \nL 501.135384 196.048052 \nL 501.187444 231.346753 \nL 501.222151 231.346753 \nL 501.343624 266.645455 \nL 501.517157 266.645455 \nL 501.534511 231.346753 \nL 501.621277 266.645455 \nL 501.829517 266.645455 \nL 501.933637 231.346753 \nL 502.020404 266.645455 \nL 502.037758 231.346753 \nL 502.072464 231.346753 \nL 502.193938 266.645455 \nL 502.506298 266.645455 \nL 502.523651 231.346753 \nL 502.610418 266.645455 \nL 503.183078 266.645455 \nL 503.269844 231.346753 \nL 503.287198 266.645455 \nL 503.582204 266.645455 \nL 503.668971 231.346753 \nL 503.686324 266.645455 \nL 504.016038 266.645455 \nL 504.050745 231.346753 \nL 504.120158 266.645455 \nL 504.345751 266.645455 \nL 504.449871 231.346753 \nL 504.571345 266.645455 \nL 504.658111 231.346753 \nL 504.675465 266.645455 \nL 504.692818 266.645455 \nL 504.814291 231.346753 \nL 504.883705 231.346753 \nL 504.901058 196.048052 \nL 504.987825 231.346753 \nL 505.282831 231.346753 \nL 505.404305 266.645455 \nL 505.976965 266.645455 \nL 505.994318 231.346753 \nL 506.081085 266.645455 \nL 506.133145 266.645455 \nL 506.167852 231.346753 \nL 506.237265 266.645455 \nL 506.271972 266.645455 \nL 506.289325 231.346753 \nL 506.376092 266.645455 \nL 506.480212 266.645455 \nL 506.549625 231.346753 \nL 506.584332 266.645455 \nL 506.705805 266.645455 \nL 506.827278 231.346753 \nL 506.931398 266.645455 \nL 506.948752 160.749351 \nL 507.035518 266.645455 \nL 507.052872 266.645455 \nL 507.070225 160.749351 \nL 507.156992 266.645455 \nL 507.434645 266.645455 \nL 507.504058 231.346753 \nL 507.538765 266.645455 \nL 507.608178 266.645455 \nL 507.625532 231.346753 \nL 507.712298 266.645455 \nL 507.729652 266.645455 \nL 507.833772 231.346753 \nL 507.955245 266.645455 \nL 508.597319 266.645455 \nL 508.666732 231.346753 \nL 508.701439 266.645455 \nL 508.840265 266.645455 \nL 508.944385 160.749351 \nL 509.065859 266.645455 \nL 509.135272 266.645455 \nL 509.152625 231.346753 \nL 509.239392 266.645455 \nL 509.447632 266.645455 \nL 509.499692 231.346753 \nL 509.551752 266.645455 \nL 509.673225 266.645455 \nL 509.690579 231.346753 \nL 509.777345 266.645455 \nL 509.794699 266.645455 \nL 509.812052 231.346753 \nL 509.898819 266.645455 \nL 510.107059 266.645455 \nL 510.176472 160.749351 \nL 510.228532 196.048052 \nL 510.350006 266.645455 \nL 510.540892 266.645455 \nL 510.592952 160.749351 \nL 510.645012 266.645455 \nL 510.662366 266.645455 \nL 510.783839 231.346753 \nL 510.801192 231.346753 \nL 510.922666 160.749351 \nL 511.009432 160.749351 \nL 511.026786 125.450649 \nL 511.113552 160.749351 \nL 511.148259 160.749351 \nL 511.217672 125.450649 \nL 511.252379 160.749351 \nL 511.877099 160.749351 \nL 511.981219 266.645455 \nL 511.998573 231.346753 \nL 512.015926 196.048052 \nL 512.067986 266.645455 \nL 512.085339 266.645455 \nL 512.102693 266.645455 \nL 512.137399 160.749351 \nL 512.206813 266.645455 \nL 512.310933 266.645455 \nL 512.328286 160.749351 \nL 512.415053 266.645455 \nL 512.449759 266.645455 \nL 512.501819 160.749351 \nL 512.553879 266.645455 \nL 512.675353 266.645455 \nL 512.692706 125.450649 \nL 512.779473 231.346753 \nL 512.796826 231.346753 \nL 512.814179 125.450649 \nL 512.848886 266.645455 \nL 512.900946 266.645455 \nL 512.918299 266.645455 \nL 512.935653 231.346753 \nL 513.022419 266.645455 \nL 513.230659 266.645455 \nL 513.248013 231.346753 \nL 513.334779 266.645455 \nL 513.647139 266.645455 \nL 513.664493 231.346753 \nL 513.75126 266.645455 \nL 514.06362 266.645455 \nL 514.150386 231.346753 \nL 514.16774 266.645455 \nL 514.42804 266.645455 \nL 514.462746 160.749351 \nL 514.53216 266.645455 \nL 514.549513 266.645455 \nL 514.566866 231.346753 \nL 514.653633 266.645455 \nL 514.705693 266.645455 \nL 514.723046 160.749351 \nL 514.809813 266.645455 \nL 514.89658 266.645455 \nL 514.913933 231.346753 \nL 515.0007 266.645455 \nL 515.05276 266.645455 \nL 515.070113 19.554545 \nL 515.15688 266.645455 \nL 515.31306 266.645455 \nL 515.330413 231.346753 \nL 515.41718 266.645455 \nL 515.72954 266.645455 \nL 515.798953 231.346753 \nL 515.83366 266.645455 \nL 516.14602 266.645455 \nL 516.163373 231.346753 \nL 516.25014 266.645455 \nL 516.51044 266.645455 \nL 516.61456 231.346753 \nL 516.736033 266.645455 \nL 516.97898 266.645455 \nL 517.048393 231.346753 \nL 517.0831 266.645455 \nL 517.39546 266.645455 \nL 517.412813 231.346753 \nL 517.49958 266.645455 \nL 517.621054 266.645455 \nL 517.638407 231.346753 \nL 517.725174 266.645455 \nL 517.81194 266.645455 \nL 517.881354 231.346753 \nL 517.91606 266.645455 \nL 517.96812 266.645455 \nL 517.985474 231.346753 \nL 518.07224 266.645455 \nL 518.17636 266.645455 \nL 518.297834 231.346753 \nL 518.419307 266.645455 \nL 518.610194 266.645455 \nL 518.662254 231.346753 \nL 518.714314 266.645455 \nL 518.939907 266.645455 \nL 518.95726 231.346753 \nL 519.044027 266.645455 \nL 519.06138 266.645455 \nL 519.078734 231.346753 \nL 519.1655 266.645455 \nL 519.477861 266.645455 \nL 519.529921 231.346753 \nL 519.581981 266.645455 \nL 519.894341 266.645455 \nL 519.911694 231.346753 \nL 519.998461 266.645455 \nL 520.310821 266.645455 \nL 520.328174 231.346753 \nL 520.414941 266.645455 \nL 520.709947 266.645455 \nL 520.744654 196.048052 \nL 520.814067 266.645455 \nL 520.831421 266.645455 \nL 520.952894 231.346753 \nL 521.074367 266.645455 \nL 521.143781 266.645455 \nL 521.178487 231.346753 \nL 521.247901 266.645455 \nL 521.542908 266.645455 \nL 521.647028 196.048052 \nL 521.768501 266.645455 \nL 521.976741 266.645455 \nL 522.046154 231.346753 \nL 522.080861 266.645455 \nL 522.393221 266.645455 \nL 522.410574 231.346753 \nL 522.497341 266.645455 \nL 522.809701 266.645455 \nL 522.827054 231.346753 \nL 522.913821 266.645455 \nL 523.226181 266.645455 \nL 523.312948 231.346753 \nL 523.330301 266.645455 \nL 523.590601 266.645455 \nL 523.660015 231.346753 \nL 523.694721 266.645455 \nL 524.059141 266.645455 \nL 524.163261 231.346753 \nL 524.284735 266.645455 \nL 524.440915 266.645455 \nL 524.458268 196.048052 \nL 524.545035 266.645455 \nL 524.892101 266.645455 \nL 524.909455 231.346753 \nL 524.996221 266.645455 \nL 525.239168 266.645455 \nL 525.325935 231.346753 \nL 525.343288 266.645455 \nL 525.360642 266.645455 \nL 525.377995 231.346753 \nL 525.464762 266.645455 \nL 525.725062 266.645455 \nL 525.742415 231.346753 \nL 525.829182 266.645455 \nL 526.141542 266.645455 \nL 526.158895 231.346753 \nL 526.245662 266.645455 \nL 526.505962 266.645455 \nL 526.575375 231.346753 \nL 526.610082 266.645455 \nL 526.974502 266.645455 \nL 527.026562 231.346753 \nL 527.078622 266.645455 \nL 527.321569 266.645455 \nL 527.408335 231.346753 \nL 527.425689 266.645455 \nL 527.807462 266.645455 \nL 527.876875 231.346753 \nL 527.911582 266.645455 \nL 529.577502 266.645455 \nL 529.664269 90.151948 \nL 529.681622 266.645455 \nL 529.941922 266.645455 \nL 530.063396 125.450649 \nL 530.184869 266.645455 \nL 530.306342 266.645455 \nL 530.323696 125.450649 \nL 530.410462 266.645455 \nL 530.462522 266.645455 \nL 530.479876 125.450649 \nL 530.566642 266.645455 \nL 530.722822 266.645455 \nL 530.740176 231.346753 \nL 530.826942 266.645455 \nL 530.844296 266.645455 \nL 530.896356 125.450649 \nL 530.948416 266.645455 \nL 530.983122 266.645455 \nL 531.000476 160.749351 \nL 531.087242 266.645455 \nL 531.139303 266.645455 \nL 531.243423 125.450649 \nL 531.364896 266.645455 \nL 531.607843 266.645455 \nL 531.729316 125.450649 \nL 531.850789 266.645455 \nL 532.006969 266.645455 \nL 532.024323 125.450649 \nL 532.111089 266.645455 \nL 532.128443 266.645455 \nL 532.145796 125.450649 \nL 532.232563 266.645455 \nL 532.336683 266.645455 \nL 532.354036 125.450649 \nL 532.440803 266.645455 \nL 532.544923 266.645455 \nL 532.562276 125.450649 \nL 532.649043 266.645455 \nL 532.666396 266.645455 \nL 532.683749 231.346753 \nL 532.770516 266.645455 \nL 532.857283 266.645455 \nL 532.978756 125.450649 \nL 533.10023 266.645455 \nL 533.15229 266.645455 \nL 533.169643 90.151948 \nL 533.25641 266.645455 \nL 533.325823 266.645455 \nL 533.41259 125.450649 \nL 533.429943 266.645455 \nL 533.638183 266.645455 \nL 533.655536 231.346753 \nL 533.742303 266.645455 \nL 533.759656 266.645455 \nL 533.77701 125.450649 \nL 533.863776 266.645455 \nL 533.915836 266.645455 \nL 533.93319 196.048052 \nL 534.019956 266.645455 \nL 534.124076 125.450649 \nL 534.24555 266.645455 \nL 534.419083 266.645455 \nL 534.436436 231.346753 \nL 534.523203 266.645455 \nL 534.627323 266.645455 \nL 534.644676 125.450649 \nL 534.731443 266.645455 \nL 535.39087 266.645455 \nL 535.408223 231.346753 \nL 535.49499 266.645455 \nL 535.512343 266.645455 \nL 535.616463 231.346753 \nL 535.737937 266.645455 \nL 536.102357 266.645455 \nL 536.206477 231.346753 \nL 536.32795 266.645455 \nL 536.38001 266.645455 \nL 536.397363 231.346753 \nL 536.48413 266.645455 \nL 536.501483 266.645455 \nL 536.553543 231.346753 \nL 536.605603 266.645455 \nL 536.90061 266.645455 \nL 536.917964 231.346753 \nL 537.00473 266.645455 \nL 537.05679 266.645455 \nL 537.074144 160.749351 \nL 537.16091 266.645455 \nL 537.178264 231.346753 \nL 537.26503 266.645455 \nL 537.334444 266.645455 \nL 537.36915 231.346753 \nL 537.438564 266.645455 \nL 537.94181 266.645455 \nL 537.959164 231.346753 \nL 538.04593 266.645455 \nL 538.132697 266.645455 \nL 538.15005 231.346753 \nL 538.236817 266.645455 \nL 538.271524 266.645455 \nL 538.30623 231.346753 \nL 538.375644 266.645455 \nL 538.531824 266.645455 \nL 538.549177 231.346753 \nL 538.635944 266.645455 \nL 538.72271 266.645455 \nL 538.740064 231.346753 \nL 538.82683 266.645455 \nL 539.000364 266.645455 \nL 539.035071 196.048052 \nL 539.104484 266.645455 \nL 539.139191 266.645455 \nL 539.243311 231.346753 \nL 539.364784 266.645455 \nL 539.503611 266.645455 \nL 539.520964 231.346753 \nL 539.607731 266.645455 \nL 539.642437 266.645455 \nL 539.763911 231.346753 \nL 539.885384 266.645455 \nL 539.937444 231.346753 \nL 539.989504 266.645455 \nL 540.058917 266.645455 \nL 540.076271 231.346753 \nL 540.163037 266.645455 \nL 540.336571 266.645455 \nL 540.353924 231.346753 \nL 540.440691 266.645455 \nL 540.839818 266.645455 \nL 540.874524 231.346753 \nL 540.943938 266.645455 \nL 541.169531 266.645455 \nL 541.186884 231.346753 \nL 541.273651 266.645455 \nL 541.533951 266.645455 \nL 541.568658 231.346753 \nL 541.638071 266.645455 \nL 542.019844 266.645455 \nL 542.123964 160.749351 \nL 542.245438 266.645455 \nL 542.349558 266.645455 \nL 542.418971 231.346753 \nL 542.453678 266.645455 \nL 542.696624 266.645455 \nL 542.818098 231.346753 \nL 542.939571 266.645455 \nL 543.199871 266.645455 \nL 543.217225 231.346753 \nL 543.303991 266.645455 \nL 543.963418 266.645455 \nL 544.032831 231.346753 \nL 544.067538 266.645455 \nL 544.102245 266.645455 \nL 544.154305 231.346753 \nL 544.206365 266.645455 \nL 544.223718 266.645455 \nL 544.241071 231.346753 \nL 544.327838 266.645455 \nL 544.431958 266.645455 \nL 544.449311 231.346753 \nL 544.536078 266.645455 \nL 544.761672 266.645455 \nL 544.883145 231.346753 \nL 545.004618 266.645455 \nL 545.056678 266.645455 \nL 545.074032 231.346753 \nL 545.160798 266.645455 \nL 545.230212 266.645455 \nL 545.316978 231.346753 \nL 545.334332 266.645455 \nL 545.455805 266.645455 \nL 545.473158 231.346753 \nL 545.559925 266.645455 \nL 545.698752 266.645455 \nL 545.768165 231.346753 \nL 545.802872 266.645455 \nL 545.872285 266.645455 \nL 545.993758 231.346753 \nL 546.115232 266.645455 \nL 546.566418 266.645455 \nL 546.583772 231.346753 \nL 546.670539 266.645455 \nL 546.757305 266.645455 \nL 546.774659 231.346753 \nL 546.861425 266.645455 \nL 546.948192 266.645455 \nL 546.965545 231.346753 \nL 547.052312 266.645455 \nL 547.538205 266.645455 \nL 547.555559 231.346753 \nL 547.642325 266.645455 \nL 547.729092 266.645455 \nL 547.798505 196.048052 \nL 547.850565 231.346753 \nL 547.972039 266.645455 \nL 547.989392 266.645455 \nL 548.006745 231.346753 \nL 548.093512 266.645455 \nL 548.353812 266.645455 \nL 548.371165 231.346753 \nL 548.457932 266.645455 \nL 548.648819 266.645455 \nL 548.683526 231.346753 \nL 548.752939 266.645455 \nL 548.943826 266.645455 \nL 548.961179 231.346753 \nL 549.047946 266.645455 \nL 550.349446 266.645455 \nL 550.366799 231.346753 \nL 550.453566 266.645455 \nL 550.679159 266.645455 \nL 550.696513 231.346753 \nL 550.783279 266.645455 \nL 551.060933 266.645455 \nL 551.078286 196.048052 \nL 551.165053 266.645455 \nL 551.269173 266.645455 \nL 551.303879 125.450649 \nL 551.373293 266.645455 \nL 551.650946 266.645455 \nL 551.720359 125.450649 \nL 551.755066 266.645455 \nL 551.807126 266.645455 \nL 551.893893 231.346753 \nL 551.911246 266.645455 \nL 551.945953 266.645455 \nL 551.980659 231.346753 \nL 552.050073 266.645455 \nL 552.119486 266.645455 \nL 552.136839 125.450649 \nL 552.223606 266.645455 \nL 552.240959 266.645455 \nL 552.258313 196.048052 \nL 552.345079 266.645455 \nL 552.483906 266.645455 \nL 552.55332 125.450649 \nL 552.588026 266.645455 \nL 552.76156 266.645455 \nL 552.796266 231.346753 \nL 552.86568 266.645455 \nL 552.952446 266.645455 \nL 552.9698 125.450649 \nL 553.056566 266.645455 \nL 553.07392 231.346753 \nL 553.160686 266.645455 \nL 553.264806 266.645455 \nL 553.38628 125.450649 \nL 553.507753 266.645455 \nL 553.59452 266.645455 \nL 553.733346 90.151948 \nL 553.7507 125.450649 \nL 553.872173 266.645455 \nL 554.11512 266.645455 \nL 554.21924 125.450649 \nL 554.340713 266.645455 \nL 554.410127 266.645455 \nL 554.514247 231.346753 \nL 554.618367 266.645455 \nL 554.63572 125.450649 \nL 554.722487 266.645455 \nL 554.73984 266.645455 \nL 554.774547 231.346753 \nL 554.84396 266.645455 \nL 554.913373 266.645455 \nL 554.930727 231.346753 \nL 555.017493 266.645455 \nL 555.034847 266.645455 \nL 555.0522 125.450649 \nL 555.138967 266.645455 \nL 555.243087 266.645455 \nL 555.295147 231.346753 \nL 555.347207 266.645455 \nL 555.451327 266.645455 \nL 555.46868 125.450649 \nL 555.555447 266.645455 \nL 555.642213 266.645455 \nL 555.659567 231.346753 \nL 555.746333 266.645455 \nL 555.78104 266.645455 \nL 555.88516 125.450649 \nL 555.98928 266.645455 \nL 556.006633 231.346753 \nL 556.023987 231.346753 \nL 556.14546 266.645455 \nL 556.284287 266.645455 \nL 556.30164 125.450649 \nL 556.388407 266.645455 \nL 556.40576 266.645455 \nL 556.492527 231.346753 \nL 556.50988 266.645455 \nL 556.527234 266.645455 \nL 556.544587 231.346753 \nL 556.631354 266.645455 \nL 556.700767 266.645455 \nL 556.71812 125.450649 \nL 556.804887 266.645455 \nL 556.8743 266.645455 \nL 556.891654 90.151948 \nL 556.97842 266.645455 \nL 557.03048 231.346753 \nL 557.08254 266.645455 \nL 557.117247 266.645455 \nL 557.1346 125.450649 \nL 557.221367 266.645455 \nL 557.308134 266.645455 \nL 557.360194 231.346753 \nL 557.412254 266.645455 \nL 557.533727 266.645455 \nL 557.55108 125.450649 \nL 557.637847 266.645455 \nL 557.75932 231.346753 \nL 557.828734 231.346753 \nL 557.846087 125.450649 \nL 557.932854 231.346753 \nL 558.158447 231.346753 \nL 558.1758 125.450649 \nL 558.210507 266.645455 \nL 558.262567 266.645455 \nL 558.488161 266.645455 \nL 558.592281 231.346753 \nL 558.696401 266.645455 \nL 558.800521 231.346753 \nL 558.921994 266.645455 \nL 558.974054 266.645455 \nL 559.095527 231.346753 \nL 559.147587 231.346753 \nL 559.251707 266.645455 \nL 559.321121 231.346753 \nL 559.355827 266.645455 \nL 559.407887 266.645455 \nL 559.477301 196.048052 \nL 559.529361 231.346753 \nL 559.564067 231.346753 \nL 559.685541 266.645455 \nL 559.824367 266.645455 \nL 559.945841 231.346753 \nL 560.067314 266.645455 \nL 560.206141 266.645455 \nL 560.344968 160.749351 \nL 560.449088 266.645455 \nL 560.466441 125.450649 \nL 560.553208 266.645455 \nL 560.587914 266.645455 \nL 560.605268 125.450649 \nL 560.692034 231.346753 \nL 560.761448 266.645455 \nL 560.882921 125.450649 \nL 561.004394 266.645455 \nL 561.282048 266.645455 \nL 561.299401 125.450649 \nL 561.386168 266.645455 \nL 561.403521 266.645455 \nL 561.490288 196.048052 \nL 561.524994 231.346753 \nL 561.559701 196.048052 \nL 561.646468 266.645455 \nL 561.715881 125.450649 \nL 561.750588 266.645455 \nL 561.976181 266.645455 \nL 561.993534 231.346753 \nL 562.080301 266.645455 \nL 562.097655 266.645455 \nL 562.132361 125.450649 \nL 562.201775 266.645455 \nL 562.305895 266.645455 \nL 562.323248 125.450649 \nL 562.410015 231.346753 \nL 562.427368 231.346753 \nL 562.531488 266.645455 \nL 562.548841 125.450649 \nL 562.635608 266.645455 \nL 562.705021 266.645455 \nL 562.739728 231.346753 \nL 562.809141 266.645455 \nL 562.947968 266.645455 \nL 562.965321 125.450649 \nL 563.052088 266.645455 \nL 563.104148 266.645455 \nL 563.121501 231.346753 \nL 563.208268 266.645455 \nL 563.260328 266.645455 \nL 563.381801 125.450649 \nL 563.503275 266.645455 \nL 563.520628 231.346753 \nL 563.607395 266.645455 \nL 563.763575 266.645455 \nL 563.798281 125.450649 \nL 563.867695 266.645455 \nL 564.197408 266.645455 \nL 564.214762 125.450649 \nL 564.301528 266.645455 \nL 564.370942 266.645455 \nL 564.388295 231.346753 \nL 564.475062 266.645455 \nL 564.613888 266.645455 \nL 564.631242 125.450649 \nL 564.718008 231.346753 \nL 564.804775 231.346753 \nL 564.822128 196.048052 \nL 564.856835 266.645455 \nL 564.891542 266.645455 \nL 565.030368 266.645455 \nL 565.047722 125.450649 \nL 565.134488 266.645455 \nL 565.169195 266.645455 \nL 565.186548 125.450649 \nL 565.273315 266.645455 \nL 565.290668 266.645455 \nL 565.360082 231.346753 \nL 565.394788 266.645455 \nL 565.446848 266.645455 \nL 565.464202 125.450649 \nL 565.550968 266.645455 \nL 565.689795 266.645455 \nL 565.811268 231.346753 \nL 565.863328 266.645455 \nL 565.880682 125.450649 \nL 565.967448 266.645455 \nL 566.002155 266.645455 \nL 566.123629 231.346753 \nL 566.245102 266.645455 \nL 566.279809 266.645455 \nL 566.297162 125.450649 \nL 566.383929 266.645455 \nL 566.696289 266.645455 \nL 566.817762 90.151948 \nL 566.921882 231.346753 \nL 566.939235 196.048052 \nL 566.956589 196.048052 \nL 567.078062 231.346753 \nL 567.112769 231.346753 \nL 567.130122 90.151948 \nL 567.216889 231.346753 \nL 567.251595 231.346753 \nL 567.338362 160.749351 \nL 567.355715 231.346753 \nL 567.407775 231.346753 \nL 567.511895 266.645455 \nL 567.546602 125.450649 \nL 567.616015 266.645455 \nL 567.720135 266.645455 \nL 567.789549 231.346753 \nL 567.824255 266.645455 \nL 567.858962 266.645455 \nL 567.963082 125.450649 \nL 568.084556 266.645455 \nL 568.119262 266.645455 \nL 568.188676 231.346753 \nL 568.223382 266.645455 \nL 568.327502 266.645455 \nL 568.379562 125.450649 \nL 568.448976 231.346753 \nL 568.553096 266.645455 \nL 568.587802 160.749351 \nL 568.657216 266.645455 \nL 568.778689 266.645455 \nL 568.796042 125.450649 \nL 568.882809 266.645455 \nL 569.160462 266.645455 \nL 569.212522 125.450649 \nL 569.264582 266.645455 \nL 569.403409 266.645455 \nL 569.420762 231.346753 \nL 569.507529 266.645455 \nL 569.524882 266.645455 \nL 569.629002 125.450649 \nL 569.750476 266.645455 \nL 569.906656 266.645455 \nL 569.924009 231.346753 \nL 570.010776 266.645455 \nL 570.028129 266.645455 \nL 570.045483 125.450649 \nL 570.132249 266.645455 \nL 570.340489 266.645455 \nL 570.461963 125.450649 \nL 570.583436 266.645455 \nL 570.600789 125.450649 \nL 570.687556 266.645455 \nL 570.861089 266.645455 \nL 570.878443 125.450649 \nL 570.965209 266.645455 \nL 571.069329 266.645455 \nL 571.156096 231.346753 \nL 571.173449 266.645455 \nL 571.277569 266.645455 \nL 571.294923 125.450649 \nL 571.381689 266.645455 \nL 571.451103 266.645455 \nL 571.572576 196.048052 \nL 571.694049 266.645455 \nL 571.711403 125.450649 \nL 571.79817 266.645455 \nL 571.85023 266.645455 \nL 571.989056 196.048052 \nL 572.11053 266.645455 \nL 572.127883 125.450649 \nL 572.21465 266.645455 \nL 572.37083 266.645455 \nL 572.457596 125.450649 \nL 572.47495 266.645455 \nL 572.492303 266.645455 \nL 572.544363 90.151948 \nL 572.596423 266.645455 \nL 572.73525 266.645455 \nL 572.822016 196.048052 \nL 572.856723 231.346753 \nL 572.926136 266.645455 \nL 572.94349 231.346753 \nL 572.960843 125.450649 \nL 572.99555 266.645455 \nL 573.04761 231.346753 \nL 573.169083 266.645455 \nL 573.20379 266.645455 \nL 573.25585 231.346753 \nL 573.30791 266.645455 \nL 573.35997 266.645455 \nL 573.377323 125.450649 \nL 573.46409 266.645455 \nL 573.51615 266.645455 \nL 573.585563 231.346753 \nL 573.62027 266.645455 \nL 573.707036 266.645455 \nL 573.793803 125.450649 \nL 573.811157 266.645455 \nL 573.897923 266.645455 \nL 574.019397 196.048052 \nL 574.14087 266.645455 \nL 574.19293 266.645455 \nL 574.210283 125.450649 \nL 574.29705 266.645455 \nL 574.331757 266.645455 \nL 574.435877 231.346753 \nL 574.50529 266.645455 \nL 574.539997 231.346753 \nL 574.55735 231.346753 \nL 574.60941 266.645455 \nL 574.626763 125.450649 \nL 574.71353 266.645455 \nL 574.730883 266.645455 \nL 574.748237 231.346753 \nL 574.835003 266.645455 \nL 574.956477 266.645455 \nL 575.043243 125.450649 \nL 575.060597 266.645455 \nL 575.44237 266.645455 \nL 575.459723 125.450649 \nL 575.54649 266.645455 \nL 575.615903 266.645455 \nL 575.633257 231.346753 \nL 575.720024 266.645455 \nL 575.789437 266.645455 \nL 575.876204 125.450649 \nL 575.893557 266.645455 \nL 576.049737 266.645455 \nL 576.153857 231.346753 \nL 576.27533 266.645455 \nL 576.292684 125.450649 \nL 576.37945 266.645455 \nL 576.396804 266.645455 \nL 576.414157 231.346753 \nL 576.500924 266.645455 \nL 576.69181 266.645455 \nL 576.726517 125.450649 \nL 576.79593 266.645455 \nL 576.813284 231.346753 \nL 576.90005 266.645455 \nL 576.934757 266.645455 \nL 576.969464 231.346753 \nL 577.038877 266.645455 \nL 577.10829 266.645455 \nL 577.125644 125.450649 \nL 577.21241 266.645455 \nL 577.351237 266.645455 \nL 577.385944 231.346753 \nL 577.455357 266.645455 \nL 577.52477 266.645455 \nL 577.542124 125.450649 \nL 577.628891 266.645455 \nL 577.698304 266.645455 \nL 577.715657 125.450649 \nL 577.802424 266.645455 \nL 577.819777 266.645455 \nL 577.923897 160.749351 \nL 577.958604 125.450649 \nL 578.045371 266.645455 \nL 578.062724 266.645455 \nL 578.080077 231.346753 \nL 578.166844 266.645455 \nL 578.236257 266.645455 \nL 578.357731 160.749351 \nL 578.375084 125.450649 \nL 578.392437 266.645455 \nL 578.427144 160.749351 \nL 578.548617 266.645455 \nL 578.618031 266.645455 \nL 578.635384 160.749351 \nL 578.722151 266.645455 \nL 578.774211 266.645455 \nL 578.791564 125.450649 \nL 578.895684 160.749351 \nL 578.982451 266.645455 \nL 579.017157 231.346753 \nL 579.086571 160.749351 \nL 579.121277 266.645455 \nL 579.208044 90.151948 \nL 579.242751 160.749351 \nL 579.364224 266.645455 \nL 579.416284 266.645455 \nL 579.450991 196.048052 \nL 579.520404 266.645455 \nL 579.537758 266.645455 \nL 579.641878 19.554545 \nL 579.659231 125.450649 \nL 579.780704 266.645455 \nL 579.815411 266.645455 \nL 579.867471 231.346753 \nL 579.919531 266.645455 \nL 579.936884 266.645455 \nL 580.041004 125.450649 \nL 580.058358 196.048052 \nL 580.110418 160.749351 \nL 580.162478 266.645455 \nL 580.179831 196.048052 \nL 580.266598 266.645455 \nL 580.353364 266.645455 \nL 580.457484 125.450649 \nL 580.578958 266.645455 \nL 580.613664 266.645455 \nL 580.700431 125.450649 \nL 580.717784 266.645455 \nL 580.856611 266.645455 \nL 580.873964 125.450649 \nL 580.960731 266.645455 \nL 581.168971 266.645455 \nL 581.290444 125.450649 \nL 581.342504 266.645455 \nL 581.411918 231.346753 \nL 581.533391 266.645455 \nL 581.550745 231.346753 \nL 581.637511 266.645455 \nL 581.689571 266.645455 \nL 581.706925 125.450649 \nL 581.793691 266.645455 \nL 581.932518 266.645455 \nL 581.949871 125.450649 \nL 582.036638 266.645455 \nL 582.106051 266.645455 \nL 582.123405 125.450649 \nL 582.210171 266.645455 \nL 582.314291 266.645455 \nL 582.418411 125.450649 \nL 582.435765 231.346753 \nL 582.487825 125.450649 \nL 582.522531 266.645455 \nL 582.539885 125.450649 \nL 582.626651 266.645455 \nL 582.834891 266.645455 \nL 582.956365 125.450649 \nL 583.077838 266.645455 \nL 583.129898 266.645455 \nL 583.147251 231.346753 \nL 583.234018 266.645455 \nL 583.355491 266.645455 \nL 583.407552 125.450649 \nL 583.459612 266.645455 \nL 583.650498 266.645455 \nL 583.667852 231.346753 \nL 583.754618 266.645455 \nL 583.771972 266.645455 \nL 583.789325 125.450649 \nL 583.876092 266.645455 \nL 583.893445 266.645455 \nL 583.997565 125.450649 \nL 584.119038 266.645455 \nL 584.188452 266.645455 \nL 584.205805 125.450649 \nL 584.292572 266.645455 \nL 584.552872 266.645455 \nL 584.622285 125.450649 \nL 584.656992 266.645455 \nL 584.778465 266.645455 \nL 584.882585 125.450649 \nL 584.969352 266.645455 \nL 584.986705 125.450649 \nL 585.038765 125.450649 \nL 585.160238 266.645455 \nL 585.229652 266.645455 \nL 585.316418 125.450649 \nL 585.351125 231.346753 \nL 585.368479 231.346753 \nL 585.437892 266.645455 \nL 585.455245 125.450649 \nL 585.542012 266.645455 \nL 585.663485 266.645455 \nL 585.680839 231.346753 \nL 585.767605 266.645455 \nL 585.784959 266.645455 \nL 585.906432 125.450649 \nL 586.027905 266.645455 \nL 586.114672 90.151948 \nL 586.149379 125.450649 \nL 586.270852 266.645455 \nL 586.392325 125.450649 \nL 586.513799 266.645455 \nL 586.617919 125.450649 \nL 586.739392 266.645455 \nL 586.860865 125.450649 \nL 586.947632 266.645455 \nL 586.964985 125.450649 \nL 586.999692 125.450649 \nL 587.086459 266.645455 \nL 587.103812 125.450649 \nL 587.121165 125.450649 \nL 587.242639 266.645455 \nL 587.294699 266.645455 \nL 587.312052 125.450649 \nL 587.398819 266.645455 \nL 587.520292 266.645455 \nL 587.537646 125.450649 \nL 587.624412 266.645455 \nL 587.676472 266.645455 \nL 587.797946 125.450649 \nL 587.832652 125.450649 \nL 587.936772 266.645455 \nL 587.954126 125.450649 \nL 588.040892 266.645455 \nL 588.075599 266.645455 \nL 588.162366 125.450649 \nL 588.179719 266.645455 \nL 588.266486 266.645455 \nL 588.387959 125.450649 \nL 588.509432 266.645455 \nL 588.596199 54.853247 \nL 588.613552 231.346753 \nL 588.682966 231.346753 \nL 588.735026 266.645455 \nL 588.787086 125.450649 \nL 588.839146 266.645455 \nL 588.925912 266.645455 \nL 589.047386 90.151948 \nL 589.151506 266.645455 \nL 589.272979 125.450649 \nL 589.359746 266.645455 \nL 589.377099 90.151948 \nL 589.394453 231.346753 \nL 589.446513 90.151948 \nL 589.463866 266.645455 \nL 589.515926 125.450649 \nL 589.637399 266.645455 \nL 589.758873 125.450649 \nL 589.828286 90.151948 \nL 589.880346 266.645455 \nL 590.001819 90.151948 \nL 590.053879 266.645455 \nL 590.105939 125.450649 \nL 590.210059 125.450649 \nL 590.227413 231.346753 \nL 590.314179 125.450649 \nL 590.383593 125.450649 \nL 590.505066 266.645455 \nL 590.661246 266.645455 \nL 590.765366 125.450649 \nL 590.886839 266.645455 \nL 591.043019 266.645455 \nL 591.164493 125.450649 \nL 591.25126 266.645455 \nL 591.268613 125.450649 \nL 591.30332 125.450649 \nL 591.424793 266.645455 \nL 591.51156 90.151948 \nL 591.528913 125.450649 \nL 591.650386 266.645455 \nL 591.77186 125.450649 \nL 591.893333 266.645455 \nL 592.014806 90.151948 \nL 592.13628 266.645455 \nL 592.257753 125.450649 \nL 592.379226 266.645455 \nL 592.518053 266.645455 \nL 592.622173 125.450649 \nL 592.743646 266.645455 \nL 592.86512 125.450649 \nL 592.91718 266.645455 \nL 592.96924 125.450649 \nL 593.246893 125.450649 \nL 593.264247 19.554545 \nL 593.33366 266.645455 \nL 593.351013 125.450649 \nL 593.38572 125.450649 \nL 593.507193 266.645455 \nL 593.628667 125.450649 \nL 593.75014 266.645455 \nL 593.767493 125.450649 \nL 593.85426 266.645455 \nL 593.975733 266.645455 \nL 594.01044 231.346753 \nL 594.079853 266.645455 \nL 594.16662 266.645455 \nL 594.288093 125.450649 \nL 594.409567 266.645455 \nL 594.53104 125.450649 \nL 594.652513 266.645455 \nL 594.773987 125.450649 \nL 594.89546 266.645455 \nL 594.94752 125.450649 \nL 594.99958 266.645455 \nL 595.016933 266.645455 \nL 595.034287 125.450649 \nL 595.121054 266.645455 \nL 595.190467 266.645455 \nL 595.31194 125.450649 \nL 595.433414 266.645455 \nL 595.554887 125.450649 \nL 595.67636 266.645455 \nL 595.797834 125.450649 \nL 595.919307 266.645455 \nL 596.04078 125.450649 \nL 596.09284 266.645455 \nL 596.162254 231.346753 \nL 596.19696 266.645455 \nL 596.283727 125.450649 \nL 596.4052 266.645455 \nL 596.526674 125.450649 \nL 596.648147 266.645455 \nL 596.682854 266.645455 \nL 596.804327 125.450649 \nL 596.891094 125.450649 \nL 596.9258 90.151948 \nL 596.977861 125.450649 \nL 597.099334 266.645455 \nL 597.220807 125.450649 \nL 597.238161 266.645455 \nL 597.342281 231.346753 \nL 597.429047 90.151948 \nL 597.411694 266.645455 \nL 597.463754 125.450649 \nL 597.585227 266.645455 \nL 597.619934 266.645455 \nL 597.654641 160.749351 \nL 597.724054 266.645455 \nL 597.862881 90.151948 \nL 597.967001 266.645455 \nL 598.088474 125.450649 \nL 598.209947 266.645455 \nL 598.331421 125.450649 \nL 598.452894 266.645455 \nL 598.470247 125.450649 \nL 598.557014 266.645455 \nL 598.574367 266.645455 \nL 598.643781 125.450649 \nL 598.678487 266.645455 \nL 598.765254 266.645455 \nL 598.782607 125.450649 \nL 598.869374 266.645455 \nL 598.956141 266.645455 \nL 598.973494 125.450649 \nL 599.060261 266.645455 \nL 599.181734 266.645455 \nL 599.199088 125.450649 \nL 599.285854 266.645455 \nL 599.372621 266.645455 \nL 599.494094 125.450649 \nL 599.580861 266.645455 \nL 599.598214 125.450649 \nL 599.632921 125.450649 \nL 599.754394 266.645455 \nL 599.875868 125.450649 \nL 599.997341 266.645455 \nL 600.014694 125.450649 \nL 600.101461 266.645455 \nL 600.274994 266.645455 \nL 600.292348 231.346753 \nL 600.379114 266.645455 \nL 600.587354 266.645455 \nL 600.604708 125.450649 \nL 600.708828 160.749351 \nL 600.830301 266.645455 \nL 600.847655 266.645455 \nL 600.865008 125.450649 \nL 600.951775 266.645455 \nL 601.212075 266.645455 \nL 601.333548 125.450649 \nL 601.420315 266.645455 \nL 601.455021 231.346753 \nL 601.541788 125.450649 \nL 601.524435 266.645455 \nL 601.559141 266.645455 \nL 601.593848 266.645455 \nL 601.697968 125.450649 \nL 601.819441 266.645455 \nL 601.906208 125.450649 \nL 601.923561 266.645455 \nL 602.374748 266.645455 \nL 602.392101 125.450649 \nL 602.478868 266.645455 \nL 602.496221 231.346753 \nL 602.582988 266.645455 \nL 602.669755 266.645455 \nL 602.756521 231.346753 \nL 602.773875 266.645455 \nL 603.138295 266.645455 \nL 603.190355 231.346753 \nL 603.242415 266.645455 \nL 603.259768 266.645455 \nL 603.277122 231.346753 \nL 603.363888 266.645455 \nL 603.589482 266.645455 \nL 603.676248 196.048052 \nL 603.693602 231.346753 \nL 603.745662 266.645455 \nL 603.763015 125.450649 \nL 603.849782 266.645455 \nL 604.005962 266.645455 \nL 604.023315 125.450649 \nL 604.110082 266.645455 \nL 605.168635 266.645455 \nL 605.290109 231.346753 \nL 605.307462 231.346753 \nL 605.428935 266.645455 \nL 605.689235 266.645455 \nL 605.723942 196.048052 \nL 605.793355 266.645455 \nL 606.088362 266.645455 \nL 606.123069 196.048052 \nL 606.192482 266.645455 \nL 606.383369 266.645455 \nL 606.418075 125.450649 \nL 606.487489 266.645455 \nL 606.556902 266.645455 \nL 606.678376 125.450649 \nL 606.782496 266.645455 \nL 606.799849 231.346753 \nL 606.817202 231.346753 \nL 606.938676 266.645455 \nL 607.042796 266.645455 \nL 607.094856 125.450649 \nL 607.146916 266.645455 \nL 607.198976 266.645455 \nL 607.303096 231.346753 \nL 607.424569 266.645455 \nL 607.788989 266.645455 \nL 607.806342 125.450649 \nL 607.893109 266.645455 \nL 608.153409 266.645455 \nL 608.222822 125.450649 \nL 608.257529 266.645455 \nL 608.326942 266.645455 \nL 608.344296 125.450649 \nL 608.431062 266.645455 \nL 608.500476 266.645455 \nL 608.552536 125.450649 \nL 608.604596 266.645455 \nL 608.934309 266.645455 \nL 609.021076 231.346753 \nL 609.038429 266.645455 \nL 609.055783 266.645455 \nL 609.073136 231.346753 \nL 609.159903 266.645455 \nL 609.264023 266.645455 \nL 609.350789 231.346753 \nL 609.368143 266.645455 \nL 609.437556 266.645455 \nL 609.524323 125.450649 \nL 609.541676 266.645455 \nL 610.114336 266.645455 \nL 610.201103 231.346753 \nL 610.218456 266.645455 \nL 610.669643 266.645455 \nL 610.773763 231.346753 \nL 610.895236 266.645455 \nL 611.53731 266.645455 \nL 611.554663 196.048052 \nL 611.64143 266.645455 \nL 611.867023 266.645455 \nL 611.919083 90.151948 \nL 611.971143 266.645455 \nL 612.196736 266.645455 \nL 612.300856 231.346753 \nL 612.42233 266.645455 \nL 613.272643 266.645455 \nL 613.289997 231.346753 \nL 613.376763 266.645455 \nL 613.46353 266.645455 \nL 613.56765 125.450649 \nL 613.689123 266.645455 \nL 613.741183 266.645455 \nL 613.845303 125.450649 \nL 613.966777 266.645455 \nL 614.175017 266.645455 \nL 614.279137 231.346753 \nL 614.40061 266.645455 \nL 614.799737 266.645455 \nL 614.92121 231.346753 \nL 615.042684 266.645455 \nL 615.250924 266.645455 \nL 615.372397 231.346753 \nL 615.49387 266.645455 \nL 615.65005 266.645455 \nL 615.667404 231.346753 \nL 615.75417 266.645455 \nL 615.771524 266.645455 \nL 615.85829 125.450649 \nL 615.875644 266.645455 \nL 616.17065 266.645455 \nL 616.22271 125.450649 \nL 616.27477 266.645455 \nL 616.951551 266.645455 \nL 617.073024 125.450649 \nL 617.142437 266.645455 \nL 617.177144 125.450649 \nL 617.350677 125.450649 \nL 617.472151 266.645455 \nL 617.489504 266.645455 \nL 617.506857 125.450649 \nL 617.593624 266.645455 \nL 617.680391 266.645455 \nL 617.715097 160.749351 \nL 617.784511 266.645455 \nL 617.905984 125.450649 \nL 618.027457 266.645455 \nL 618.148931 266.645455 \nL 618.166284 231.346753 \nL 618.253051 266.645455 \nL 618.513351 266.645455 \nL 618.617471 231.346753 \nL 618.738944 266.645455 \nL 618.756298 125.450649 \nL 618.843064 266.645455 \nL 619.415724 266.645455 \nL 619.433078 125.450649 \nL 619.519844 266.645455 \nL 619.571904 266.645455 \nL 619.693378 231.346753 \nL 619.710731 231.346753 \nL 619.832204 266.645455 \nL 619.849558 266.645455 \nL 619.866911 231.346753 \nL 619.953678 266.645455 \nL 620.023091 266.645455 \nL 620.092504 125.450649 \nL 620.127211 266.645455 \nL 620.613105 266.645455 \nL 620.699871 125.450649 \nL 620.717225 266.645455 \nL 621.029585 266.645455 \nL 621.116351 196.048052 \nL 621.151058 231.346753 \nL 621.203118 125.450649 \nL 621.272531 266.645455 \nL 621.394005 266.645455 \nL 621.411358 231.346753 \nL 621.498125 266.645455 \nL 621.515478 266.645455 \nL 621.550185 231.346753 \nL 621.619598 266.645455 \nL 621.654305 266.645455 \nL 621.671658 125.450649 \nL 621.758425 266.645455 \nL 621.984018 266.645455 \nL 622.018725 231.346753 \nL 622.088138 266.645455 \nL 622.244318 266.645455 \nL 622.348438 231.346753 \nL 622.469912 266.645455 \nL 622.712858 266.645455 \nL 622.747565 125.450649 \nL 622.816978 266.645455 \nL 622.903745 266.645455 \nL 622.921098 125.450649 \nL 623.007865 266.645455 \nL 623.233458 266.645455 \nL 623.337578 125.450649 \nL 623.459052 266.645455 \nL 623.511112 266.645455 \nL 623.528465 231.346753 \nL 623.615232 266.645455 \nL 623.632585 266.645455 \nL 623.649938 231.346753 \nL 623.736705 266.645455 \nL 623.771412 266.645455 \nL 623.823472 231.346753 \nL 623.875532 266.645455 \nL 623.944945 266.645455 \nL 623.962298 125.450649 \nL 624.049065 266.645455 \nL 624.101125 266.645455 \nL 624.118479 125.450649 \nL 624.205245 266.645455 \nL 624.378779 266.645455 \nL 624.396132 19.554545 \nL 624.482899 125.450649 \nL 624.795259 125.450649 \nL 624.916732 266.645455 \nL 624.934085 266.645455 \nL 625.003499 125.450649 \nL 625.038205 266.645455 \nL 625.107619 266.645455 \nL 625.229092 125.450649 \nL 625.281152 125.450649 \nL 625.298505 90.151948 \nL 625.315859 266.645455 \nL 625.593512 266.645455 \nL 625.697632 125.450649 \nL 625.819105 266.645455 \nL 626.218232 266.645455 \nL 626.252939 125.450649 \nL 626.322352 266.645455 \nL 626.478532 266.645455 \nL 626.495886 231.346753 \nL 626.582652 266.645455 \nL 626.912366 266.645455 \nL 626.981779 125.450649 \nL 627.016486 266.645455 \nL 627.259432 266.645455 \nL 627.276786 125.450649 \nL 627.363552 266.645455 \nL 627.398259 266.645455 \nL 627.485026 125.450649 \nL 627.502379 231.346753 \nL 627.623852 266.645455 \nL 627.727972 266.645455 \nL 627.762679 125.450649 \nL 627.849446 196.048052 \nL 627.901506 125.450649 \nL 627.936212 231.346753 \nL 628.040333 125.450649 \nL 628.161806 231.346753 \nL 628.213866 231.346753 \nL 628.317986 125.450649 \nL 628.439459 231.346753 \nL 628.456813 231.346753 \nL 628.560933 125.450649 \nL 628.612993 231.346753 \nL 628.665053 90.151948 \nL 628.699759 19.554545 \nL 628.786526 125.450649 \nL 629.168299 125.450649 \nL 629.289773 231.346753 \nL 629.341833 125.450649 \nL 629.393893 196.048052 \nL 629.515366 231.346753 \nL 629.550073 231.346753 \nL 629.671546 125.450649 \nL 629.758313 125.450649 \nL 629.879786 231.346753 \nL 630.10538 231.346753 \nL 630.140086 125.450649 \nL 630.2095 231.346753 \nL 630.36568 231.346753 \nL 630.383033 196.048052 \nL 630.4698 231.346753 \nL 630.556566 231.346753 \nL 630.57392 196.048052 \nL 630.660686 231.346753 \nL 631.111873 231.346753 \nL 631.129226 196.048052 \nL 631.215993 231.346753 \nL 632.118367 231.346753 \nL 632.13572 196.048052 \nL 632.222487 231.346753 \nL 632.23984 231.346753 \nL 632.309253 196.048052 \nL 632.326607 266.645455 \nL 632.34396 266.645455 \nL 632.378667 231.346753 \nL 632.44808 266.645455 \nL 632.482787 266.645455 \nL 632.569553 160.749351 \nL 632.586907 266.645455 \nL 632.65632 266.645455 \nL 632.725733 196.048052 \nL 632.777793 231.346753 \nL 632.881913 231.346753 \nL 633.003387 266.645455 \nL 633.0728 266.645455 \nL 633.090153 125.450649 \nL 633.17692 266.645455 \nL 633.211627 266.645455 \nL 633.22898 196.048052 \nL 633.315747 266.645455 \nL 633.454573 266.645455 \nL 633.523987 160.749351 \nL 633.5934 196.048052 \nL 633.610753 196.048052 \nL 633.74958 266.645455 \nL 634.356947 266.645455 \nL 634.461067 231.346753 \nL 634.565187 266.645455 \nL 634.58254 125.450649 \nL 634.669307 266.645455 \nL 634.68666 231.346753 \nL 634.773427 266.645455 \nL 634.79078 266.645455 \nL 634.8949 231.346753 \nL 635.016374 266.645455 \nL 635.224614 266.645455 \nL 635.328734 231.346753 \nL 635.450207 266.645455 \nL 635.589034 266.645455 \nL 635.6758 196.048052 \nL 635.693154 231.346753 \nL 635.814627 266.645455 \nL 636.005514 266.645455 \nL 636.057574 231.346753 \nL 636.109634 266.645455 \nL 636.491407 266.645455 \nL 636.526114 231.346753 \nL 636.595527 266.645455 \nL 637.706141 266.645455 \nL 637.740848 231.346753 \nL 637.810261 266.645455 \nL 637.949088 266.645455 \nL 638.070561 231.346753 \nL 638.105268 231.346753 \nL 638.226741 266.645455 \nL 638.504394 266.645455 \nL 638.521748 231.346753 \nL 638.608514 266.645455 \nL 640.222375 266.645455 \nL 640.291788 231.346753 \nL 640.326495 266.645455 \nL 640.430615 266.645455 \nL 640.482675 231.346753 \nL 640.534735 266.645455 \nL 640.673561 266.645455 \nL 640.795035 125.450649 \nL 640.916508 266.645455 \nL 641.055335 266.645455 \nL 641.090041 231.346753 \nL 641.159455 266.645455 \nL 641.471815 266.645455 \nL 641.489168 231.346753 \nL 641.575935 266.645455 \nL 641.905648 266.645455 \nL 641.940355 196.048052 \nL 642.009768 266.645455 \nL 643.536862 266.645455 \nL 643.606275 125.450649 \nL 643.658335 231.346753 \nL 643.675689 231.346753 \nL 643.745102 266.645455 \nL 643.779809 231.346753 \nL 643.797162 231.346753 \nL 643.814515 266.645455 \nL 643.901282 231.346753 \nL 643.935989 231.346753 \nL 643.970695 160.749351 \nL 644.022755 266.645455 \nL 644.335115 266.645455 \nL 644.439235 231.346753 \nL 644.560709 266.645455 \nL 644.803655 266.645455 \nL 644.821009 231.346753 \nL 644.907775 266.645455 \nL 645.827502 266.645455 \nL 645.844856 231.346753 \nL 645.931622 266.645455 \nL 646.278689 266.645455 \nL 646.296042 231.346753 \nL 646.382809 266.645455 \nL 646.469576 266.645455 \nL 646.556342 231.346753 \nL 646.573696 266.645455 \nL 646.608402 266.645455 \nL 646.764582 125.450649 \nL 646.886056 266.645455 \nL 646.920762 266.645455 \nL 647.042236 231.346753 \nL 647.163709 266.645455 \nL 647.302536 266.645455 \nL 647.337242 231.346753 \nL 647.406656 266.645455 \nL 647.753723 266.645455 \nL 647.805783 231.346753 \nL 647.857843 266.645455 \nL 648.309029 266.645455 \nL 648.361089 196.048052 \nL 648.413149 266.645455 \nL 648.430503 266.645455 \nL 648.447856 231.346753 \nL 648.534623 266.645455 \nL 648.569329 266.645455 \nL 648.621389 231.346753 \nL 648.673449 266.645455 \nL 648.864336 266.645455 \nL 648.916396 231.346753 \nL 648.968456 266.645455 \nL 649.020516 266.645455 \nL 649.055223 231.346753 \nL 649.124636 266.645455 \nL 649.367583 266.645455 \nL 649.489056 231.346753 \nL 649.61053 266.645455 \nL 649.784063 266.645455 \nL 649.905536 196.048052 \nL 650.02701 266.645455 \nL 650.669083 266.645455 \nL 650.70379 231.346753 \nL 650.773203 266.645455 \nL 651.502043 266.645455 \nL 651.519397 125.450649 \nL 651.606163 266.645455 \nL 651.69293 266.645455 \nL 651.710283 231.346753 \nL 651.79705 266.645455 \nL 651.883817 266.645455 \nL 651.90117 160.749351 \nL 651.987937 266.645455 \nL 652.300297 266.645455 \nL 652.36971 231.346753 \nL 652.404417 266.645455 \nL 652.73413 266.645455 \nL 652.751483 231.346753 \nL 652.83825 266.645455 \nL 653.549737 266.645455 \nL 653.67121 231.346753 \nL 653.948864 231.346753 \nL 654.070337 266.645455 \nL 654.990064 266.645455 \nL 655.007417 231.346753 \nL 655.094184 266.645455 \nL 655.180951 266.645455 \nL 655.233011 196.048052 \nL 655.285071 266.645455 \nL 655.666844 266.645455 \nL 655.718904 231.346753 \nL 655.770964 266.645455 \nL 656.048617 266.645455 \nL 656.065971 231.346753 \nL 656.152737 266.645455 \nL 656.170091 266.645455 \nL 656.187444 231.346753 \nL 656.274211 266.645455 \nL 658.096311 266.645455 \nL 658.131018 231.346753 \nL 658.200431 266.645455 \nL 658.217784 266.645455 \nL 658.235138 196.048052 \nL 658.321904 231.346753 \nL 658.339258 231.346753 \nL 658.443378 266.645455 \nL 658.547498 160.749351 \nL 658.668971 266.645455 \nL 658.929271 266.645455 \nL 658.963978 231.346753 \nL 659.033391 266.645455 \nL 659.120158 266.645455 \nL 659.137511 231.346753 \nL 659.224278 266.645455 \nL 659.328398 266.645455 \nL 659.345751 196.048052 \nL 659.432518 266.645455 \nL 659.449871 266.645455 \nL 659.467225 231.346753 \nL 659.553991 266.645455 \nL 659.727525 266.645455 \nL 659.848998 231.346753 \nL 659.866351 231.346753 \nL 659.987825 266.645455 \nL 661.011672 266.645455 \nL 661.115792 231.346753 \nL 661.237265 266.645455 \nL 661.462858 266.645455 \nL 661.480212 231.346753 \nL 661.566978 266.645455 \nL 661.896692 266.645455 \nL 661.931398 231.346753 \nL 662.000812 266.645455 \nL 662.087578 266.645455 \nL 662.104932 231.346753 \nL 662.191698 266.645455 \nL 662.313172 266.645455 \nL 662.330525 231.346753 \nL 662.417292 266.645455 \nL 663.406432 266.645455 \nL 663.510552 231.346753 \nL 663.632025 266.645455 \nL 663.961739 266.645455 \nL 663.996445 231.346753 \nL 664.065859 266.645455 \nL 664.447632 266.645455 \nL 664.482339 231.346753 \nL 664.551752 266.645455 \nL 665.211179 266.645455 \nL 665.315299 160.749351 \nL 665.350006 266.645455 \nL 665.419419 160.749351 \nL 665.523539 160.749351 \nL 665.645012 266.645455 \nL 666.477972 266.645455 \nL 666.599446 231.346753 \nL 666.877099 231.346753 \nL 666.946513 160.749351 \nL 666.981219 231.346753 \nL 666.998573 231.346753 \nL 667.033279 160.749351 \nL 667.120046 266.645455 \nL 667.432406 266.645455 \nL 667.449759 231.346753 \nL 667.536526 266.645455 \nL 667.657999 266.645455 \nL 667.675353 231.346753 \nL 667.762119 266.645455 \nL 667.779473 266.645455 \nL 667.831533 19.554545 \nL 667.900946 125.450649 \nL 668.022419 266.645455 \nL 668.091833 266.645455 \nL 668.178599 231.346753 \nL 668.195953 266.645455 \nL 669.410686 266.645455 \nL 669.53216 231.346753 \nL 669.757753 231.346753 \nL 669.79246 160.749351 \nL 669.827166 266.645455 \nL 669.84452 266.645455 \nL 670.174233 266.645455 \nL 670.20894 231.346753 \nL 670.278353 266.645455 \nL 671.40632 266.645455 \nL 671.51044 231.346753 \nL 671.631913 266.645455 \nL 672.673114 266.645455 \nL 672.70782 160.749351 \nL 672.777234 266.645455 \nL 673.1243 266.645455 \nL 673.141654 231.346753 \nL 673.22842 266.645455 \nL 673.54078 266.645455 \nL 673.558134 196.048052 \nL 673.6449 266.645455 \nL 673.95726 266.645455 \nL 674.06138 231.346753 \nL 674.182854 266.645455 \nL 674.37374 266.645455 \nL 674.477861 231.346753 \nL 674.599334 266.645455 \nL 674.790221 266.645455 \nL 674.859634 231.346753 \nL 674.894341 266.645455 \nL 674.963754 266.645455 \nL 674.981107 125.450649 \nL 675.067874 266.645455 \nL 675.206701 266.645455 \nL 675.224054 231.346753 \nL 675.310821 266.645455 \nL 675.501707 266.645455 \nL 675.519061 231.346753 \nL 675.605827 266.645455 \nL 675.623181 266.645455 \nL 675.744654 196.048052 \nL 675.796714 266.645455 \nL 675.814067 125.450649 \nL 675.831421 160.749351 \nL 675.883481 160.749351 \nL 676.039661 266.645455 \nL 676.109074 231.346753 \nL 676.143781 266.645455 \nL 676.456141 266.645455 \nL 676.560261 231.346753 \nL 676.681734 266.645455 \nL 676.872621 266.645455 \nL 676.889974 231.346753 \nL 676.976741 266.645455 \nL 677.289101 266.645455 \nL 677.306454 231.346753 \nL 677.393221 266.645455 \nL 677.705581 266.645455 \nL 677.722934 231.346753 \nL 677.809701 266.645455 \nL 678.122061 266.645455 \nL 678.208828 231.346753 \nL 678.226181 266.645455 \nL 678.538541 266.645455 \nL 678.555895 231.346753 \nL 678.642661 266.645455 \nL 678.955021 266.645455 \nL 679.024435 231.346753 \nL 679.059141 266.645455 \nL 679.371501 266.645455 \nL 679.388855 231.346753 \nL 679.475621 266.645455 \nL 679.787981 266.645455 \nL 679.805335 231.346753 \nL 679.892101 266.645455 \nL 680.204461 266.645455 \nL 680.221815 196.048052 \nL 680.308582 266.645455 \nL 680.343288 266.645455 \nL 680.360642 231.346753 \nL 680.447408 266.645455 \nL 680.620942 266.645455 \nL 680.638295 231.346753 \nL 680.725062 266.645455 \nL 680.794475 266.645455 \nL 680.811828 231.346753 \nL 680.898595 266.645455 \nL 681.037422 266.645455 \nL 681.054775 231.346753 \nL 681.141542 266.645455 \nL 681.453902 266.645455 \nL 681.558022 231.346753 \nL 681.679495 266.645455 \nL 681.870382 266.645455 \nL 681.887735 196.048052 \nL 681.974502 266.645455 \nL 682.286862 266.645455 \nL 682.304215 231.346753 \nL 682.390982 266.645455 \nL 682.460395 266.645455 \nL 682.477749 125.450649 \nL 682.564515 266.645455 \nL 682.703342 266.645455 \nL 682.720695 231.346753 \nL 682.807462 266.645455 \nL 683.119822 266.645455 \nL 683.154529 231.346753 \nL 683.223942 266.645455 \nL 683.588362 266.645455 \nL 683.605715 231.346753 \nL 683.692482 266.645455 \nL 684.403969 266.645455 \nL 684.473382 231.346753 \nL 684.508089 266.645455 \nL 684.785742 266.645455 \nL 684.820449 231.346753 \nL 684.889862 266.645455 \nL 685.202222 266.645455 \nL 685.254282 196.048052 \nL 685.306342 266.645455 \nL 685.583996 266.645455 \nL 685.688116 231.346753 \nL 685.809589 266.645455 \nL 685.913709 266.645455 \nL 686.000476 231.346753 \nL 686.017829 266.645455 \nL 686.069889 266.645455 \nL 686.104596 196.048052 \nL 686.174009 266.645455 \nL 686.330189 266.645455 \nL 686.347543 231.346753 \nL 686.434309 266.645455 \nL 686.625196 266.645455 \nL 686.642549 125.450649 \nL 686.729316 266.645455 \nL 687.683749 266.645455 \nL 687.770516 231.346753 \nL 687.787869 266.645455 \nL 687.874636 266.645455 \nL 687.891989 125.450649 \nL 687.978756 266.645455 \nL 688.10023 266.645455 \nL 688.117583 231.346753 \nL 688.20435 266.645455 \nL 688.291116 266.645455 \nL 688.30847 125.450649 \nL 688.395236 266.645455 \nL 688.51671 266.645455 \nL 688.586123 231.346753 \nL 688.62083 266.645455 \nL 689.957036 266.645455 \nL 689.97439 125.450649 \nL 690.061157 266.645455 \nL 690.252043 266.645455 \nL 690.269397 231.346753 \nL 690.356163 266.645455 \nL 690.373517 266.645455 \nL 690.39087 125.450649 \nL 690.477637 266.645455 \nL 690.564403 266.645455 \nL 690.616463 231.346753 \nL 690.668523 266.645455 \nL 690.737937 266.645455 \nL 690.80735 125.450649 \nL 690.842057 266.645455 \nL 691.032943 266.645455 \nL 691.102357 231.346753 \nL 691.137063 266.645455 \nL 691.293243 266.645455 \nL 691.397363 160.749351 \nL 691.518837 266.645455 \nL 691.553543 266.645455 \nL 691.58825 231.346753 \nL 691.657663 266.645455 \nL 692.039437 266.645455 \nL 692.05679 125.450649 \nL 692.143557 266.645455 \nL 692.455917 266.645455 \nL 692.47327 125.450649 \nL 692.560037 266.645455 \nL 692.872397 266.645455 \nL 692.88975 125.450649 \nL 692.976517 266.645455 \nL 693.080637 266.645455 \nL 693.09799 231.346753 \nL 693.184757 266.645455 \nL 694.035071 266.645455 \nL 694.052424 231.346753 \nL 694.139191 266.645455 \nL 694.156544 266.645455 \nL 694.278017 196.048052 \nL 694.312724 266.645455 \nL 694.347431 160.749351 \nL 694.364784 231.346753 \nL 694.382137 160.749351 \nL 694.434197 266.645455 \nL 694.468904 231.346753 \nL 694.590377 266.645455 \nL 694.833324 266.645455 \nL 694.850677 231.346753 \nL 694.937444 266.645455 \nL 695.267157 266.645455 \nL 695.284511 231.346753 \nL 695.371277 266.645455 \nL 695.648931 266.645455 \nL 695.666284 231.346753 \nL 695.753051 266.645455 \nL 695.995998 266.645455 \nL 696.048058 231.346753 \nL 696.100118 266.645455 \nL 696.169531 266.645455 \nL 696.291004 231.346753 \nL 696.620718 231.346753 \nL 696.638071 125.450649 \nL 696.724838 231.346753 \nL 696.863664 231.346753 \nL 696.985138 266.645455 \nL 697.228084 266.645455 \nL 697.314851 231.346753 \nL 697.332204 266.645455 \nL 697.523091 266.645455 \nL 697.592504 231.346753 \nL 697.627211 266.645455 \nL 697.661918 266.645455 \nL 697.731331 196.048052 \nL 697.783391 231.346753 \nL 697.904865 266.645455 \nL 697.974278 266.645455 \nL 697.991631 231.346753 \nL 698.078398 266.645455 \nL 698.199871 266.645455 \nL 698.217225 231.346753 \nL 698.303991 266.645455 \nL 698.529585 266.645455 \nL 698.564291 231.346753 \nL 698.633705 266.645455 \nL 698.703118 266.645455 \nL 698.720471 125.450649 \nL 698.807238 266.645455 \nL 698.894005 266.645455 \nL 698.928711 231.346753 \nL 698.998125 266.645455 \nL 699.119598 266.645455 \nL 699.136951 125.450649 \nL 699.223718 266.645455 \nL 699.449311 266.645455 \nL 699.501371 160.749351 \nL 699.553431 266.645455 \nL 699.744318 266.645455 \nL 699.779025 196.048052 \nL 699.848438 231.346753 \nL 699.969912 266.645455 \nL 700.160798 266.645455 \nL 700.247565 231.346753 \nL 700.264918 266.645455 \nL 701.375532 266.645455 \nL 701.497005 231.346753 \nL 701.618479 266.645455 \nL 701.826719 266.645455 \nL 701.844072 231.346753 \nL 701.930839 266.645455 \nL 702.034959 266.645455 \nL 702.052312 125.450649 \nL 702.139079 266.645455 \nL 702.208492 266.645455 \nL 702.329965 231.346753 \nL 702.347319 231.346753 \nL 702.451439 266.645455 \nL 702.468792 125.450649 \nL 702.555559 266.645455 \nL 702.746445 266.645455 \nL 702.781152 231.346753 \nL 702.850565 266.645455 \nL 703.162925 266.645455 \nL 703.180279 231.346753 \nL 703.267045 266.645455 \nL 703.284399 266.645455 \nL 703.301752 125.450649 \nL 703.388519 266.645455 \nL 703.405872 231.346753 \nL 703.492639 266.645455 \nL 703.527345 266.645455 \nL 703.544699 231.346753 \nL 703.631466 266.645455 \nL 704.117359 266.645455 \nL 704.134712 125.450649 \nL 704.221479 266.645455 \nL 704.429719 266.645455 \nL 704.447072 231.346753 \nL 704.533839 266.645455 \nL 704.759432 266.645455 \nL 704.794139 231.346753 \nL 704.863552 266.645455 \nL 705.141206 266.645455 \nL 705.193266 196.048052 \nL 705.245326 266.645455 \nL 705.366799 266.645455 \nL 705.384152 125.450649 \nL 705.470919 266.645455 \nL 705.991519 266.645455 \nL 706.026226 160.749351 \nL 706.095639 231.346753 \nL 706.112993 231.346753 \nL 706.234466 266.645455 \nL 706.425353 266.645455 \nL 706.477413 231.346753 \nL 706.529473 266.645455 \nL 706.841833 266.645455 \nL 706.876539 231.346753 \nL 706.945953 266.645455 \nL 707.674793 266.645455 \nL 707.692146 196.048052 \nL 707.778913 266.645455 \nL 708.4904 266.645455 \nL 708.559813 231.346753 \nL 708.59452 266.645455 \nL 708.941586 266.645455 \nL 708.95894 196.048052 \nL 709.045706 266.645455 \nL 709.392773 266.645455 \nL 709.410127 231.346753 \nL 709.496893 266.645455 \nL 710.069553 266.645455 \nL 710.191027 231.346753 \nL 710.3125 266.645455 \nL 710.347207 266.645455 \nL 710.399267 231.346753 \nL 710.451327 266.645455 \nL 711.076047 266.645455 \nL 711.128107 231.346753 \nL 711.180167 266.645455 \nL 711.40576 266.645455 \nL 711.440467 90.151948 \nL 711.527234 125.450649 \nL 711.648707 125.450649 \nL 711.752827 266.645455 \nL 711.77018 125.450649 \nL 711.856947 266.645455 \nL 711.8743 266.645455 \nL 711.909007 196.048052 \nL 711.97842 266.645455 \nL 712.03048 266.645455 \nL 712.047834 125.450649 \nL 712.1346 266.645455 \nL 712.23872 266.645455 \nL 712.256074 125.450649 \nL 712.34284 266.645455 \nL 712.44696 266.645455 \nL 712.568434 125.450649 \nL 712.724614 125.450649 \nL 712.741967 90.151948 \nL 712.828734 125.450649 \nL 712.898147 125.450649 \nL 713.002267 266.645455 \nL 713.12374 125.450649 \nL 713.245214 266.645455 \nL 713.331981 125.450649 \nL 713.349334 266.645455 \nL 713.366687 266.645455 \nL 713.488161 125.450649 \nL 713.540221 90.151948 \nL 713.609634 266.645455 \nL 713.713754 266.645455 \nL 713.731107 125.450649 \nL 713.817874 231.346753 \nL 713.835227 231.346753 \nL 713.852581 125.450649 \nL 713.869934 266.645455 \nL 713.939347 266.645455 \nL 713.956701 266.645455 \nL 714.026114 231.346753 \nL 714.060821 266.645455 \nL 714.355827 266.645455 \nL 714.407887 231.346753 \nL 714.459947 266.645455 \nL 714.720247 266.645455 \nL 714.841721 231.346753 \nL 714.893781 231.346753 \nL 715.015254 266.645455 \nL 715.206141 266.645455 \nL 715.223494 231.346753 \nL 715.310261 266.645455 \nL 715.414381 266.645455 \nL 715.431734 231.346753 \nL 715.518501 266.645455 \nL 715.987041 266.645455 \nL 716.021748 231.346753 \nL 716.091161 266.645455 \nL 716.854708 266.645455 \nL 716.941474 231.346753 \nL 716.958828 266.645455 \nL 717.305895 266.645455 \nL 717.375308 231.346753 \nL 717.410015 266.645455 \nL 717.548841 266.645455 \nL 717.566195 231.346753 \nL 717.652961 266.645455 \nL 717.670315 266.645455 \nL 717.722375 231.346753 \nL 717.774435 266.645455 \nL 718.190915 266.645455 \nL 718.208268 125.450649 \nL 718.295035 266.645455 \nL 718.676808 266.645455 \nL 718.711515 90.151948 \nL 718.798281 231.346753 \nL 718.919755 266.645455 \nL 719.006521 266.645455 \nL 719.023875 231.346753 \nL 719.110642 266.645455 \nL 719.145348 266.645455 \nL 719.266822 231.346753 \nL 719.318882 231.346753 \nL 719.440355 266.645455 \nL 719.475062 231.346753 \nL 719.544475 266.645455 \nL 720.134488 266.645455 \nL 720.238608 231.346753 \nL 720.360082 266.645455 \nL 720.585675 266.645455 \nL 720.637735 196.048052 \nL 720.689795 266.645455 \nL 720.776562 266.645455 \nL 720.811268 231.346753 \nL 720.880682 266.645455 \nL 721.401282 266.645455 \nL 721.435989 231.346753 \nL 721.505402 266.645455 \nL 721.817762 266.645455 \nL 721.939235 231.346753 \nL 721.956589 231.346753 \nL 721.973942 266.645455 \nL 722.008649 231.346753 \nL 722.026002 90.151948 \nL 722.043355 266.645455 \nL 722.112769 266.645455 \nL 722.182182 266.645455 \nL 722.199535 125.450649 \nL 722.286302 266.645455 \nL 722.321009 266.645455 \nL 722.442482 125.450649 \nL 722.563955 266.645455 \nL 722.650722 266.645455 \nL 722.702782 231.346753 \nL 722.754842 266.645455 \nL 722.945729 266.645455 \nL 723.049849 231.346753 \nL 723.101909 196.048052 \nL 723.171322 266.645455 \nL 723.188676 266.645455 \nL 723.206029 125.450649 \nL 723.292796 266.645455 \nL 723.483682 266.645455 \nL 723.501036 125.450649 \nL 723.587802 231.346753 \nL 723.639862 231.346753 \nL 723.674569 196.048052 \nL 723.743982 231.346753 \nL 723.917516 231.346753 \nL 724.038989 266.645455 \nL 724.108402 266.645455 \nL 724.125756 125.450649 \nL 724.212522 266.645455 \nL 724.351349 266.645455 \nL 724.386056 125.450649 \nL 724.455469 266.645455 \nL 724.524882 266.645455 \nL 724.542236 125.450649 \nL 724.629002 266.645455 \nL 724.733122 266.645455 \nL 724.819889 196.048052 \nL 724.854596 231.346753 \nL 724.889303 231.346753 \nL 725.010776 196.048052 \nL 725.132249 231.346753 \nL 725.236369 231.346753 \nL 725.357843 266.645455 \nL 725.531376 266.645455 \nL 725.652849 90.151948 \nL 725.774323 266.645455 \nL 726.034623 266.645455 \nL 726.069329 196.048052 \nL 726.138743 266.645455 \nL 726.433749 266.645455 \nL 726.520516 231.346753 \nL 726.537869 266.645455 \nL 726.572576 266.645455 \nL 726.694049 231.346753 \nL 726.815523 231.346753 \nL 726.832876 196.048052 \nL 726.867583 266.645455 \nL 726.90229 231.346753 \nL 727.023763 266.645455 \nL 727.440243 266.645455 \nL 727.457596 125.450649 \nL 727.544363 266.645455 \nL 727.856723 266.645455 \nL 727.978196 231.346753 \nL 728.030256 231.346753 \nL 728.04761 90.151948 \nL 728.082316 266.645455 \nL 728.134376 266.645455 \nL 728.481443 266.645455 \nL 728.550856 231.346753 \nL 728.585563 266.645455 \nL 729.002043 266.645455 \nL 729.08881 125.450649 \nL 729.106163 266.645455 \nL 729.29705 266.645455 \nL 729.418523 231.346753 \nL 729.435877 231.346753 \nL 729.55735 266.645455 \nL 729.730883 266.645455 \nL 729.748237 231.346753 \nL 729.835003 266.645455 \nL 730.685317 266.645455 \nL 730.720024 231.346753 \nL 730.789437 266.645455 \nL 731.06709 266.645455 \nL 731.084444 125.450649 \nL 731.17121 266.645455 \nL 731.414157 266.645455 \nL 731.518277 125.450649 \nL 731.63975 266.645455 \nL 731.813284 266.645455 \nL 731.934757 196.048052 \nL 732.038877 266.645455 \nL 732.05623 231.346753 \nL 732.142997 266.645455 \nL 732.229764 266.645455 \nL 732.299177 231.346753 \nL 732.333884 266.645455 \nL 733.461851 266.645455 \nL 733.583324 125.450649 \nL 733.704797 266.645455 \nL 733.947744 266.645455 \nL 733.965097 231.346753 \nL 734.051864 266.645455 \nL 734.294811 266.645455 \nL 734.416284 231.346753 \nL 734.537758 266.645455 \nL 734.711291 266.645455 \nL 734.728644 231.346753 \nL 734.815411 266.645455 \nL 734.850118 266.645455 \nL 734.867471 125.450649 \nL 734.954238 266.645455 \nL 735.249244 266.645455 \nL 735.266598 196.048052 \nL 735.353364 266.645455 \nL 735.578958 266.645455 \nL 735.596311 231.346753 \nL 735.683078 266.645455 \nL 735.821904 266.645455 \nL 735.873964 231.346753 \nL 735.926024 266.645455 \nL 735.943378 266.645455 \nL 736.030144 231.346753 \nL 736.047498 266.645455 \nL 736.394564 266.645455 \nL 736.411918 231.346753 \nL 736.498685 266.645455 \nL 736.863105 266.645455 \nL 736.880458 231.346753 \nL 736.967225 266.645455 \nL 737.210171 266.645455 \nL 737.279585 125.450649 \nL 737.331645 231.346753 \nL 737.453118 266.645455 \nL 737.574591 266.645455 \nL 737.661358 196.048052 \nL 737.678711 231.346753 \nL 737.800185 266.645455 \nL 737.886951 266.645455 \nL 737.904305 125.450649 \nL 737.991071 266.645455 \nL 738.060485 266.645455 \nL 738.077838 196.048052 \nL 738.164605 266.645455 \nL 738.459612 266.645455 \nL 738.494318 125.450649 \nL 738.563732 266.645455 \nL 739.292572 266.645455 \nL 739.414045 125.450649 \nL 739.535518 266.645455 \nL 739.726405 266.645455 \nL 739.795818 125.450649 \nL 739.830525 266.645455 \nL 740.090825 266.645455 \nL 740.108178 125.450649 \nL 740.194945 266.645455 \nL 740.212298 266.645455 \nL 740.229652 231.346753 \nL 740.316418 266.645455 \nL 740.646132 266.645455 \nL 740.680839 231.346753 \nL 740.750252 266.645455 \nL 741.045259 266.645455 \nL 741.097319 125.450649 \nL 741.149379 266.645455 \nL 741.184085 266.645455 \nL 741.201439 125.450649 \nL 741.288205 266.645455 \nL 741.565859 266.645455 \nL 741.583212 231.346753 \nL 741.669979 266.645455 \nL 742.207932 266.645455 \nL 742.225285 125.450649 \nL 742.312052 266.645455 \nL 742.850006 266.645455 \nL 742.867359 125.450649 \nL 742.954126 266.645455 \nL 743.040892 266.645455 \nL 743.127659 231.346753 \nL 743.145012 266.645455 \nL 743.457372 266.645455 \nL 743.474726 231.346753 \nL 743.561492 266.645455 \nL 743.578846 266.645455 \nL 743.596199 231.346753 \nL 743.682966 266.645455 \nL 743.839146 266.645455 \nL 743.908559 160.749351 \nL 743.960619 231.346753 \nL 744.082092 266.645455 \nL 744.290333 266.645455 \nL 744.411806 231.346753 \nL 744.550633 231.346753 \nL 744.672106 266.645455 \nL 745.105939 266.645455 \nL 745.123293 231.346753 \nL 745.210059 266.645455 \nL 745.956253 266.645455 \nL 746.077726 160.749351 \nL 746.1992 266.645455 \nL 746.372733 266.645455 \nL 746.424793 231.346753 \nL 746.476853 266.645455 \nL 746.737153 266.645455 \nL 746.82392 160.749351 \nL 746.841273 231.346753 \nL 746.87598 90.151948 \nL 746.962746 266.645455 \nL 747.2404 266.645455 \nL 747.257753 231.346753 \nL 747.34452 266.645455 \nL 747.691586 266.645455 \nL 747.70894 125.450649 \nL 747.795706 266.645455 \nL 748.142773 266.645455 \nL 748.160127 231.346753 \nL 748.246893 266.645455 \nL 748.90632 266.645455 \nL 748.923673 196.048052 \nL 749.01044 266.645455 \nL 749.305447 266.645455 \nL 749.392213 231.346753 \nL 749.409567 266.645455 \nL 749.8434 266.645455 \nL 749.860753 125.450649 \nL 749.94752 266.645455 \nL 750.138407 266.645455 \nL 750.15576 231.346753 \nL 750.242527 266.645455 \nL 750.294587 266.645455 \nL 750.364 125.450649 \nL 750.398707 266.645455 \nL 751.4052 266.645455 \nL 751.422554 231.346753 \nL 751.50932 266.645455 \nL 751.82168 266.645455 \nL 751.87374 231.346753 \nL 751.9258 266.645455 \nL 752.203454 266.645455 \nL 752.238161 231.346753 \nL 752.307574 266.645455 \nL 752.342281 266.645455 \nL 752.446401 125.450649 \nL 752.567874 266.645455 \nL 752.637287 266.645455 \nL 752.724054 231.346753 \nL 752.741407 266.645455 \nL 753.071121 266.645455 \nL 753.123181 231.346753 \nL 753.175241 266.645455 \nL 753.886727 266.645455 \nL 753.990848 231.346753 \nL 754.112321 266.645455 \nL 754.164381 266.645455 \nL 754.268501 125.450649 \nL 754.389974 266.645455 \nL 754.702334 266.645455 \nL 754.771748 231.346753 \nL 754.806454 266.645455 \nL 754.823808 266.645455 \nL 754.945281 231.346753 \nL 754.962634 231.346753 \nL 755.084108 266.645455 \nL 755.101461 125.450649 \nL 755.188228 266.645455 \nL 755.205581 266.645455 \nL 755.222934 125.450649 \nL 755.309701 266.645455 \nL 755.570001 266.645455 \nL 755.587354 231.346753 \nL 755.674121 266.645455 \nL 755.951775 266.645455 \nL 755.986481 231.346753 \nL 756.055895 266.645455 \nL 756.142661 266.645455 \nL 756.212075 231.346753 \nL 756.246781 266.645455 \nL 756.888855 266.645455 \nL 756.923561 231.346753 \nL 756.992975 266.645455 \nL 757.235921 266.645455 \nL 757.270628 196.048052 \nL 757.340041 231.346753 \nL 757.374748 231.346753 \nL 757.496221 266.645455 \nL 757.739168 266.645455 \nL 757.791228 231.346753 \nL 757.843288 266.645455 \nL 758.016822 266.645455 \nL 758.034175 160.749351 \nL 758.120942 266.645455 \nL 758.468008 266.645455 \nL 758.537422 160.749351 \nL 758.572128 231.346753 \nL 759.578622 231.346753 \nL 759.700095 196.048052 \nL 759.734802 196.048052 \nL 759.856275 231.346753 \nL 759.995102 231.346753 \nL 760.012455 196.048052 \nL 760.099222 231.346753 \nL 760.376875 231.346753 \nL 760.394229 196.048052 \nL 760.480995 231.346753 \nL 760.706589 231.346753 \nL 760.776002 125.450649 \nL 760.810709 196.048052 \nL 760.932182 231.346753 \nL 760.984242 231.346753 \nL 761.036302 196.048052 \nL 761.088362 231.346753 \nL 761.400722 231.346753 \nL 761.452782 196.048052 \nL 761.504842 231.346753 \nL 762.251036 231.346753 \nL 762.268389 196.048052 \nL 762.355156 231.346753 \nL 762.389862 231.346753 \nL 762.424569 196.048052 \nL 762.493982 231.346753 \nL 763.118702 231.346753 \nL 763.205469 160.749351 \nL 763.222822 231.346753 \nL 763.500476 231.346753 \nL 763.587242 160.749351 \nL 763.621949 196.048052 \nL 763.656656 196.048052 \nL 763.778129 231.346753 \nL 763.934309 231.346753 \nL 764.021076 196.048052 \nL 764.038429 231.346753 \nL 764.090489 231.346753 \nL 764.211963 196.048052 \nL 764.298729 196.048052 \nL 764.385496 231.346753 \nL 764.402849 196.048052 \nL 764.420203 196.048052 \nL 764.541676 231.346753 \nL 764.680503 231.346753 \nL 764.697856 196.048052 \nL 764.784623 231.346753 \nL 764.871389 231.346753 \nL 764.940803 125.450649 \nL 764.975509 231.346753 \nL 765.166396 231.346753 \nL 765.218456 196.048052 \nL 765.270516 231.346753 \nL 765.426696 231.346753 \nL 765.530816 196.048052 \nL 765.65229 231.346753 \nL 765.773763 196.048052 \nL 765.825823 196.048052 \nL 765.947296 231.346753 \nL 766.190243 231.346753 \nL 766.207596 196.048052 \nL 766.294363 231.346753 \nL 766.38113 231.346753 \nL 766.450543 160.749351 \nL 766.48525 231.346753 \nL 766.814963 231.346753 \nL 766.936436 196.048052 \nL 767.05791 231.346753 \nL 767.21409 231.346753 \nL 767.231443 160.749351 \nL 767.31821 231.346753 \nL 768.550297 231.346753 \nL 768.56765 196.048052 \nL 768.654417 231.346753 \nL 769.29649 231.346753 \nL 769.34855 196.048052 \nL 769.40061 231.346753 \nL 769.799737 231.346753 \nL 769.834444 196.048052 \nL 769.903857 231.346753 \nL 770.007977 231.346753 \nL 770.060037 196.048052 \nL 770.112097 231.346753 \nL 770.146804 231.346753 \nL 770.216217 196.048052 \nL 770.250924 231.346753 \nL 770.580637 231.346753 \nL 770.667404 196.048052 \nL 770.684757 231.346753 \nL 771.344184 231.346753 \nL 771.465657 196.048052 \nL 771.517717 196.048052 \nL 771.639191 231.346753 \nL 771.882137 231.346753 \nL 772.003611 196.048052 \nL 772.229204 196.048052 \nL 772.246557 160.749351 \nL 772.315971 231.346753 \nL 773.044811 231.346753 \nL 773.062164 160.749351 \nL 773.148931 231.346753 \nL 773.253051 231.346753 \nL 773.270404 125.450649 \nL 773.357171 231.346753 \nL 773.895124 231.346753 \nL 773.912478 125.450649 \nL 773.999244 231.346753 \nL 774.797498 231.346753 \nL 774.832204 160.749351 \nL 774.901618 231.346753 \nL 775.161918 231.346753 \nL 775.179271 196.048052 \nL 775.266038 231.346753 \nL 775.908111 231.346753 \nL 775.925465 125.450649 \nL 775.942818 266.645455 \nL 776.012231 231.346753 \nL 776.133705 266.645455 \nL 776.272531 266.645455 \nL 776.359298 231.346753 \nL 776.376651 266.645455 \nL 776.480771 266.645455 \nL 776.498125 125.450649 \nL 776.584891 266.645455 \nL 777.417852 266.645455 \nL 777.435205 231.346753 \nL 777.521972 266.645455 \nL 777.695505 266.645455 \nL 777.730212 231.346753 \nL 777.799625 266.645455 \nL 778.042572 266.645455 \nL 778.059925 125.450649 \nL 778.146692 266.645455 \nL 778.181398 231.346753 \nL 778.250812 266.645455 \nL 778.875532 266.645455 \nL 779.014358 196.048052 \nL 779.153185 266.645455 \nL 779.309365 266.645455 \nL 779.326719 231.346753 \nL 779.413485 266.645455 \nL 779.500252 266.645455 \nL 779.587019 160.749351 \nL 779.604372 266.645455 \nL 779.621725 266.645455 \nL 779.691139 125.450649 \nL 779.725845 266.645455 \nL 780.350565 266.645455 \nL 780.437332 231.346753 \nL 780.454685 266.645455 \nL 780.524099 266.645455 \nL 780.541452 231.346753 \nL 780.628219 266.645455 \nL 780.749692 266.645455 \nL 780.767045 125.450649 \nL 780.853812 266.645455 \nL 780.957932 266.645455 \nL 780.975285 231.346753 \nL 781.062052 266.645455 \nL 781.304999 266.645455 \nL 781.322352 231.346753 \nL 781.409119 266.645455 \nL 781.478532 266.645455 \nL 781.495886 231.346753 \nL 781.582652 266.645455 \nL 781.617359 266.645455 \nL 781.669419 231.346753 \nL 781.721479 266.645455 \nL 781.808246 266.645455 \nL 781.912366 231.346753 \nL 781.999132 266.645455 \nL 782.016486 125.450649 \nL 782.103252 266.645455 \nL 782.363552 266.645455 \nL 782.380906 231.346753 \nL 782.467672 266.645455 \nL 782.554439 266.645455 \nL 782.571792 160.749351 \nL 782.658559 266.645455 \nL 782.988273 266.645455 \nL 783.022979 160.749351 \nL 783.092393 266.645455 \nL 783.560933 266.645455 \nL 783.578286 231.346753 \nL 783.665053 266.645455 \nL 783.942706 266.645455 \nL 783.994766 196.048052 \nL 784.046826 266.645455 \nL 784.706253 266.645455 \nL 784.775666 125.450649 \nL 784.810373 266.645455 \nL 785.070673 266.645455 \nL 785.088026 125.450649 \nL 785.174793 266.645455 \nL 785.192146 266.645455 \nL 785.226853 231.346753 \nL 785.296266 266.645455 \nL 785.4698 266.645455 \nL 785.487153 160.749351 \nL 785.57392 266.645455 \nL 785.747453 266.645455 \nL 785.764806 125.450649 \nL 785.851573 266.645455 \nL 785.973046 266.645455 \nL 785.9904 231.346753 \nL 786.077166 266.645455 \nL 786.71924 266.645455 \nL 786.858067 90.151948 \nL 786.97954 125.450649 \nL 787.014247 125.450649 \nL 787.13572 266.645455 \nL 787.361313 266.645455 \nL 787.378667 125.450649 \nL 787.465433 266.645455 \nL 787.60426 266.645455 \nL 787.673673 231.346753 \nL 787.70838 266.645455 \nL 787.829853 266.645455 \nL 787.847207 125.450649 \nL 787.933973 266.645455 \nL 788.38516 266.645455 \nL 788.48928 125.450649 \nL 788.610753 266.645455 \nL 788.888407 266.645455 \nL 788.975174 231.346753 \nL 788.992527 266.645455 \nL 789.356947 266.645455 \nL 789.3743 231.346753 \nL 789.461067 266.645455 \nL 789.6346 266.645455 \nL 789.651954 160.749351 \nL 789.73872 266.645455 \nL 789.79078 266.645455 \nL 789.929607 125.450649 \nL 790.05108 266.645455 \nL 790.10314 266.645455 \nL 790.120494 231.346753 \nL 790.20726 266.645455 \nL 790.450207 266.645455 \nL 790.484914 160.749351 \nL 790.554327 196.048052 \nL 790.693154 266.645455 \nL 790.710507 266.645455 \nL 790.762567 125.450649 \nL 790.814627 266.645455 \nL 791.022867 266.645455 \nL 791.092281 125.450649 \nL 791.126987 266.645455 \nL 791.300521 266.645455 \nL 791.317874 196.048052 \nL 791.404641 266.645455 \nL 791.578174 266.645455 \nL 791.595527 125.450649 \nL 791.682294 266.645455 \nL 792.254954 266.645455 \nL 792.324367 231.346753 \nL 792.359074 266.645455 \nL 792.549961 266.645455 \nL 792.567314 160.749351 \nL 792.654081 266.645455 \nL 792.671434 266.645455 \nL 792.706141 231.346753 \nL 792.775554 266.645455 \nL 793.035854 266.645455 \nL 793.070561 231.346753 \nL 793.139974 266.645455 \nL 793.452334 266.645455 \nL 793.573808 231.346753 \nL 793.695281 266.645455 \nL 793.886168 266.645455 \nL 793.903521 125.450649 \nL 793.990288 266.645455 \nL 794.215881 266.645455 \nL 794.337354 125.450649 \nL 794.458828 266.645455 \nL 794.580301 125.450649 \nL 794.667068 266.645455 \nL 794.684421 125.450649 \nL 794.701775 125.450649 \nL 794.805895 266.645455 \nL 794.927368 125.450649 \nL 795.031488 266.645455 \nL 795.083548 125.450649 \nL 795.135608 266.645455 \nL 795.569441 266.645455 \nL 795.604148 196.048052 \nL 795.673561 266.645455 \nL 796.159455 266.645455 \nL 796.176808 125.450649 \nL 796.263575 266.645455 \nL 796.332988 266.645455 \nL 796.419755 125.450649 \nL 796.437108 266.645455 \nL 796.489168 90.151948 \nL 796.541228 266.645455 \nL 796.870942 266.645455 \nL 796.923002 125.450649 \nL 796.975062 231.346753 \nL 797.096535 266.645455 \nL 797.131242 266.645455 \nL 797.148595 160.749351 \nL 797.235362 266.645455 \nL 797.270068 266.645455 \nL 797.322128 125.450649 \nL 797.374188 266.645455 \nL 797.738608 266.645455 \nL 797.773315 125.450649 \nL 797.842728 266.645455 \nL 798.120382 266.645455 \nL 798.137735 231.346753 \nL 798.224502 266.645455 \nL 798.241855 266.645455 \nL 798.259208 125.450649 \nL 798.345975 266.645455 \nL 798.380682 266.645455 \nL 798.484802 90.151948 \nL 798.606275 266.645455 \nL 798.623629 266.645455 \nL 798.675689 125.450649 \nL 798.727749 266.645455 \nL 798.849222 266.645455 \nL 798.866575 125.450649 \nL 798.953342 266.645455 \nL 798.988049 266.645455 \nL 799.005402 196.048052 \nL 799.092169 266.645455 \nL 799.265702 266.645455 \nL 799.335115 231.346753 \nL 799.369822 266.645455 \nL 799.421882 266.645455 \nL 799.439235 125.450649 \nL 799.526002 266.645455 \nL 799.734242 266.645455 \nL 799.751595 231.346753 \nL 799.838362 266.645455 \nL 800.601909 266.645455 \nL 800.619262 231.346753 \nL 800.706029 266.645455 \nL 801.018389 266.645455 \nL 801.035742 90.151948 \nL 801.122509 266.645455 \nL 801.400162 266.645455 \nL 801.417516 231.346753 \nL 801.504282 266.645455 \nL 801.764582 266.645455 \nL 801.868702 196.048052 \nL 801.886056 231.346753 \nL 801.972822 231.346753 \nL 802.007529 125.450649 \nL 802.094296 266.645455 \nL 802.233122 266.645455 \nL 802.267829 231.346753 \nL 802.337242 266.645455 \nL 803.742863 266.645455 \nL 803.812276 19.554545 \nL 803.846983 266.645455 \nL 803.968456 266.645455 \nL 804.037869 231.346753 \nL 804.072576 266.645455 \nL 804.211403 266.645455 \nL 804.228756 160.749351 \nL 804.315523 231.346753 \nL 804.436996 266.645455 \nL 804.645236 266.645455 \nL 804.732003 125.450649 \nL 804.749356 266.645455 \nL 804.784063 266.645455 \nL 804.81877 231.346753 \nL 804.888183 266.645455 \nL 804.905536 266.645455 \nL 804.92289 125.450649 \nL 805.009656 266.645455 \nL 805.096423 266.645455 \nL 805.165836 231.346753 \nL 805.200543 266.645455 \nL 805.617023 266.645455 \nL 805.634376 125.450649 \nL 805.721143 266.645455 \nL 805.80791 266.645455 \nL 805.894676 160.749351 \nL 805.91203 266.645455 \nL 806.345863 266.645455 \nL 806.38057 231.346753 \nL 806.449983 266.645455 \nL 806.502043 266.645455 \nL 806.58881 125.450649 \nL 806.606163 266.645455 \nL 806.814403 266.645455 \nL 806.918523 231.346753 \nL 807.039997 266.645455 \nL 807.196177 266.645455 \nL 807.300297 231.346753 \nL 807.42177 266.645455 \nL 807.699423 266.645455 \nL 807.73413 90.151948 \nL 807.803543 266.645455 \nL 808.029137 266.645455 \nL 808.04649 196.048052 \nL 808.133257 266.645455 \nL 808.56709 266.645455 \nL 808.584444 231.346753 \nL 808.67121 266.645455 \nL 808.792684 266.645455 \nL 808.810037 196.048052 \nL 808.896804 266.645455 \nL 808.948864 266.645455 \nL 808.966217 125.450649 \nL 809.052984 266.645455 \nL 809.29593 266.645455 \nL 809.313284 231.346753 \nL 809.40005 266.645455 \nL 810.042124 266.645455 \nL 810.163597 125.450649 \nL 810.285071 266.645455 \nL 810.545371 266.645455 \nL 810.649491 160.749351 \nL 810.753611 125.450649 \nL 810.770964 266.645455 \nL 810.909791 266.645455 \nL 810.927144 125.450649 \nL 811.013911 231.346753 \nL 811.135384 266.645455 \nL 811.378331 266.645455 \nL 811.482451 231.346753 \nL 811.534511 125.450649 \nL 811.603924 266.645455 \nL 811.829517 266.645455 \nL 811.846871 231.346753 \nL 811.933637 266.645455 \nL 812.350118 266.645455 \nL 812.471591 231.346753 \nL 812.541004 231.346753 \nL 812.627771 266.645455 \nL 812.645124 160.749351 \nL 812.731891 266.645455 \nL 812.801304 125.450649 \nL 812.836011 231.346753 \nL 812.957484 266.645455 \nL 813.078958 160.749351 \nL 813.200431 266.645455 \nL 813.859858 266.645455 \nL 813.894564 196.048052 \nL 813.963978 266.645455 \nL 814.033391 266.645455 \nL 814.050745 231.346753 \nL 814.137511 266.645455 \nL 814.293691 266.645455 \nL 814.311045 125.450649 \nL 814.397811 266.645455 \nL 814.762231 266.645455 \nL 814.779585 231.346753 \nL 814.866351 266.645455 \nL 814.901058 266.645455 \nL 814.918411 125.450649 \nL 815.005178 266.645455 \nL 815.109298 266.645455 \nL 815.126651 231.346753 \nL 815.213418 266.645455 \nL 815.577838 266.645455 \nL 815.612545 231.346753 \nL 815.681958 266.645455 \nL 816.011672 266.645455 \nL 816.046378 196.048052 \nL 816.115792 266.645455 \nL 816.740512 266.645455 \nL 816.809925 160.749351 \nL 816.879338 196.048052 \nL 816.948752 160.749351 \nL 817.000812 266.645455 \nL 817.451998 266.645455 \nL 817.469352 231.346753 \nL 817.556118 266.645455 \nL 817.781712 266.645455 \nL 817.799065 231.346753 \nL 817.885832 266.645455 \nL 818.232899 266.645455 \nL 818.250252 231.346753 \nL 818.337019 266.645455 \nL 818.389079 266.645455 \nL 818.406432 196.048052 \nL 818.493199 266.645455 \nL 818.527905 266.645455 \nL 818.545259 231.346753 \nL 818.632025 266.645455 \nL 818.840265 266.645455 \nL 818.909679 231.346753 \nL 818.944385 266.645455 \nL 818.961739 266.645455 \nL 818.979092 125.450649 \nL 819.065859 266.645455 \nL 819.274099 266.645455 \nL 819.343512 125.450649 \nL 819.378219 266.645455 \nL 819.447632 266.645455 \nL 819.517045 196.048052 \nL 819.517045 196.048052 \n\" style=\"fill:none;stroke:#1f77b4;stroke-linecap:square;stroke-width:1.5;\"/>\n   </g>\n   <g id=\"patch_3\">\n    <path d=\"M 20.5625 279 \nL 20.5625 7.2 \n\" style=\"fill:none;stroke:#000000;stroke-linecap:square;stroke-linejoin:miter;stroke-width:0.8;\"/>\n   </g>\n   <g id=\"patch_4\">\n    <path d=\"M 857.5625 279 \nL 857.5625 7.2 \n\" style=\"fill:none;stroke:#000000;stroke-linecap:square;stroke-linejoin:miter;stroke-width:0.8;\"/>\n   </g>\n   <g id=\"patch_5\">\n    <path d=\"M 20.5625 279 \nL 857.5625 279 \n\" style=\"fill:none;stroke:#000000;stroke-linecap:square;stroke-linejoin:miter;stroke-width:0.8;\"/>\n   </g>\n   <g id=\"patch_6\">\n    <path d=\"M 20.5625 7.2 \nL 857.5625 7.2 \n\" style=\"fill:none;stroke:#000000;stroke-linecap:square;stroke-linejoin:miter;stroke-width:0.8;\"/>\n   </g>\n  </g>\n </g>\n <defs>\n  <clipPath id=\"p7da66ebf7f\">\n   <rect height=\"271.8\" width=\"837\" x=\"20.5625\" y=\"7.2\"/>\n  </clipPath>\n </defs>\n</svg>\n",
      "image/png": "[encoded data removed]"
     },
     "metadata": {
      "needs_background": "light"
     }
    },
    {
     "output_type": "execute_result",
     "data": {
      "text/plain": [
       "                    device_id  pm25                time\n",
       "108                    daxing   NaN 2016-01-05 12:00:00\n",
       "109                    daxing   NaN 2016-01-05 13:00:00\n",
       "212                    daxing   NaN 2016-01-09 20:00:00\n",
       "274                    daxing   NaN 2016-01-12 10:00:00\n",
       "685                    daxing   NaN 2016-01-29 13:00:00\n",
       "...                       ...   ...                 ...\n",
       "2020-12-31 20:00:00     1069A   NaN 2020-12-31 20:00:00\n",
       "2020-12-31 21:00:00     1069A   NaN 2020-12-31 21:00:00\n",
       "2020-12-31 22:00:00     1069A   NaN 2020-12-31 22:00:00\n",
       "2020-12-31 23:00:00     1069A   NaN 2020-12-31 23:00:00\n",
       "2021-01-01 00:00:00     1069A   NaN 2021-01-01 00:00:00\n",
       "\n",
       "[62844 rows x 3 columns]"
      ],
      "text/html": "<div>\n<style scoped>\n    .dataframe tbody tr th:only-of-type {\n        vertical-align: middle;\n    }\n\n    .dataframe tbody tr th {\n        vertical-align: top;\n    }\n\n    .dataframe thead th {\n        text-align: right;\n    }\n</style>\n<table border=\"1\" class=\"dataframe\">\n  <thead>\n    <tr style=\"text-align: right;\">\n      <th></th>\n      <th>device_id</th>\n      <th>pm25</th>\n      <th>time</th>\n    </tr>\n  </thead>\n  <tbody>\n    <tr>\n      <th>108</th>\n      <td>daxing</td>\n      <td>NaN</td>\n      <td>2016-01-05 12:00:00</td>\n    </tr>\n    <tr>\n      <th>109</th>\n      <td>daxing</td>\n      <td>NaN</td>\n      <td>2016-01-05 13:00:00</td>\n    </tr>\n    <tr>\n      <th>212</th>\n      <td>daxing</td>\n      <td>NaN</td>\n      <td>2016-01-09 20:00:00</td>\n    </tr>\n    <tr>\n      <th>274</th>\n      <td>daxing</td>\n      <td>NaN</td>\n      <td>2016-01-12 10:00:00</td>\n    </tr>\n    <tr>\n      <th>685</th>\n      <td>daxing</td>\n      <td>NaN</td>\n      <td>2016-01-29 13:00:00</td>\n    </tr>\n    <tr>\n      <th>...</th>\n      <td>...</td>\n      <td>...</td>\n      <td>...</td>\n    </tr>\n    <tr>\n      <th>2020-12-31 20:00:00</th>\n      <td>1069A</td>\n      <td>NaN</td>\n      <td>2020-12-31 20:00:00</td>\n    </tr>\n    <tr>\n      <th>2020-12-31 21:00:00</th>\n      <td>1069A</td>\n      <td>NaN</td>\n      <td>2020-12-31 21:00:00</td>\n    </tr>\n    <tr>\n      <th>2020-12-31 22:00:00</th>\n      <td>1069A</td>\n      <td>NaN</td>\n      <td>2020-12-31 22:00:00</td>\n    </tr>\n    <tr>\n      <th>2020-12-31 23:00:00</th>\n      <td>1069A</td>\n      <td>NaN</td>\n      <td>2020-12-31 23:00:00</td>\n    </tr>\n    <tr>\n      <th>2021-01-01 00:00:00</th>\n      <td>1069A</td>\n      <td>NaN</td>\n      <td>2021-01-01 00:00:00</td>\n    </tr>\n  </tbody>\n</table>\n<p>62844 rows × 3 columns</p>\n</div>"
     },
     "metadata": {},
     "execution_count": 33
    }
   ],
   "source": [
    "rel_fields = ['device_id', 'pm25', 'time', #'temperature', 'humidity', 'windSpeed', 'windBearing', 'precipIntensity'\n",
    "            ]\n",
    "rel_devices = [ 'qianmen', 'changping', 'daxing', 'shunyi', # Beijing\n",
    "                '1056A', # Baoding\n",
    "                '1069A', # Langfang\n",
    "                '1061A', # Zhangjiakou\n",
    "                '1037A', # Tangshan\n",
    "                ]\n",
    "\n",
    "relevant = data.measurements[rel_fields]\n",
    "relevant = relevant[relevant['device_id'].isin(rel_devices)]\n",
    "\n",
    "relevant_missing = analyse_missing_data(relevant)\n",
    "relevant_missing"
   ]
  },
  {
   "cell_type": "code",
   "execution_count": 98,
   "metadata": {},
   "outputs": [
    {
     "output_type": "display_data",
     "data": {
      "application/vnd.plotly.v1+json": {
       "config": {
        "plotlyServerURL": "https://plot.ly"
       },
       "data": [
        {
         "customdata": [
          [
           "dongsi",
           null
          ],
          [
           "tiantan",
           null
          ],
          [
           "guanyuan",
           null
          ],
          [
           "wanshouxigong",
           null
          ],
          [
           "aotizhongxin",
           null
          ],
          [
           "nongzhanguan",
           null
          ],
          [
           "wanliu",
           null
          ],
          [
           "beibuxinqu",
           null
          ],
          [
           "zhiwuyuan",
           null
          ],
          [
           "fengtaihuayuan",
           null
          ],
          [
           "yungang",
           null
          ],
          [
           "gucheng",
           null
          ],
          [
           "fangshan",
           null
          ],
          [
           "daxing",
           null
          ],
          [
           "yizhuang",
           null
          ],
          [
           "tongzhou",
           null
          ],
          [
           "shunyi",
           null
          ],
          [
           "changping",
           null
          ],
          [
           "mentougou",
           null
          ],
          [
           "pinggu",
           null
          ],
          [
           "huairou",
           null
          ],
          [
           "miyun",
           null
          ],
          [
           "yanqing",
           null
          ],
          [
           "dingling",
           null
          ],
          [
           "badaling",
           null
          ],
          [
           "miyunshuiku",
           null
          ],
          [
           "donggaocun",
           null
          ],
          [
           "yongledian",
           null
          ],
          [
           "yufa",
           null
          ],
          [
           "liulihe",
           null
          ],
          [
           "qianmen",
           null
          ],
          [
           "yongdingmennei",
           null
          ],
          [
           "xizhimenbei",
           null
          ],
          [
           "nansanhuan",
           null
          ],
          [
           "dongsihuan",
           null
          ],
          [
           "1029A",
           "Staff Hospital"
          ],
          [
           "1030A",
           "High-tech Zone"
          ],
          [
           "1031A",
           "Northwest Water Source"
          ],
          [
           "1032A",
           "Southwest Higher Education"
          ],
          [
           "1033A",
           "Century Park"
          ],
          [
           "1034A",
           "People's Hall"
          ],
          [
           "1035A",
           "Fenglong Mountain"
          ],
          [
           "1036A",
           "Supply and Marketing Cooperative"
          ],
          [
           "1037A",
           "radar station"
          ],
          [
           "1038A",
           "Material Bureau"
          ],
          [
           "1039A",
           "Ceramic Company"
          ],
          [
           "1040A",
           "Twelfth Middle School"
          ],
          [
           "1041A",
           "Xiaoshan"
          ],
          [
           "1042A",
           "Beidaihe Environmental Protection Bureau"
          ],
          [
           "1043A",
           "the first pass"
          ],
          [
           "1044A",
           "Monitoring Station"
          ],
          [
           "1045A",
           "Municipal Government"
          ],
          [
           "1046A",
           "Jianshe Building"
          ],
          [
           "1047A",
           "Environmental Protection Bureau"
          ],
          [
           "1048A",
           "East Sewage Treatment Plant"
          ],
          [
           "1049A",
           "Mining Institute"
          ],
          [
           "1050A",
           "Congtai Park"
          ],
          [
           "1051A",
           "Swimming Pool"
          ],
          [
           "1052A",
           "Huadian District 2"
          ],
          [
           "1053A",
           "Reception Center"
          ],
          [
           "1054A",
           "Surface Water Plant"
          ],
          [
           "1055A",
           "Film Factory"
          ],
          [
           "1056A",
           "Monitoring Station"
          ],
          [
           "1057A",
           "People's Park"
          ],
          [
           "1058A",
           "Tanji Factory"
          ],
          [
           "1059A",
           "Hardware Depot"
          ],
          [
           "1060A",
           "Century Plaza"
          ],
          [
           "1061A",
           "North Pump House"
          ],
          [
           "1062A",
           "Railway"
          ],
          [
           "1063A",
           "Bank of China"
          ],
          [
           "1064A",
           "Development Zone"
          ],
          [
           "1065A",
           "Cultural Center"
          ],
          [
           "1066A",
           "Li Palace"
          ],
          [
           "1067A",
           "Medicinal Materials Company"
          ],
          [
           "1068A",
           "Development Zone"
          ],
          [
           "1069A",
           "Environmental Monitoring Supervision Center"
          ],
          [
           "1070A",
           "Beihua University of Aeronautics and Astronautics"
          ],
          [
           "1071A",
           "Cang County Urban Construction Bureau"
          ],
          [
           "1072A",
           "TV relay station"
          ],
          [
           "1073A",
           "Municipal Environmental Protection Bureau"
          ],
          [
           "1074A",
           "North Motor Factory"
          ],
          [
           "1075A",
           "City Monitoring Station"
          ],
          [
           "1076A",
           "Municipal Environmental Protection Bureau"
          ],
          [
           "1077A",
           "Dahuo Spring"
          ],
          [
           "1078A",
           "Xing Teachers College"
          ],
          [
           "1079A",
           "Road and Bridge Company"
          ],
          [
           "1080A",
           "Municipal Environmental Protection Bureau"
          ]
         ],
         "hovertemplate": "<b>%{hovertext}</b><br><br>lat=%{lat}<br>lon=%{lon}<br>device_id=%{customdata[0]}<br>device_name=%{customdata[1]}<br>color=%{marker.color}<extra></extra>",
         "hovertext": [
          "Beijing",
          "Beijing",
          "Beijing",
          "Beijing",
          "Beijing",
          "Beijing",
          "Beijing",
          "Beijing",
          "Beijing",
          "Beijing",
          "Beijing",
          "Beijing",
          "Beijing",
          "Beijing",
          "Beijing",
          "Beijing",
          "Beijing",
          "Beijing",
          "Beijing",
          "Beijing",
          "Beijing",
          "Beijing",
          "Beijing",
          "Beijing",
          "Beijing",
          "Beijing",
          "Beijing",
          "Beijing",
          "Beijing",
          "Beijing",
          "Beijing",
          "Beijing",
          "Beijing",
          "Beijing",
          "Beijing",
          "Shijiazhuang",
          "Shijiazhuang",
          "Shijiazhuang",
          "Shijiazhuang",
          "Shijiazhuang",
          "Shijiazhuang",
          "Shijiazhuang",
          "Tangshan",
          "Tangshan",
          "Tangshan",
          "Tangshan",
          "Tangshan",
          "Tangshan",
          "Qinhuangdao",
          "Qinhuangdao",
          "Qinhuangdao",
          "Qinhuangdao",
          "Qinhuangdao",
          "Handan",
          "Handan",
          "Handan",
          "Handan",
          "Baoding",
          "Baoding",
          "Baoding",
          "Baoding",
          "Baoding",
          "Baoding",
          "Zhangjiakou",
          "Zhangjiakou",
          "Zhangjiakou",
          "Zhangjiakou",
          "Zhangjiakou",
          "Chengde",
          "Chengde",
          "Chengde",
          "Chengde",
          "Chengde",
          "Langfang",
          "Langfang",
          "Langfang",
          "Langfang",
          "Cangzhou",
          "Cangzhou",
          "Cangzhou",
          "Hengshui",
          "Hengshui",
          "Hengshui",
          "Xingtai",
          "Xingtai",
          "Xingtai",
          "Xingtai"
         ],
         "lat": [
          39.929,
          39.886,
          39.929,
          39.878,
          39.982,
          39.937,
          39.987,
          40.09,
          40.002,
          39.863,
          39.824,
          39.914,
          39.742,
          39.718,
          39.795,
          39.886,
          40.127,
          40.217,
          39.937,
          40.143,
          40.328,
          40.37,
          40.453,
          40.292,
          40.365,
          40.499,
          40.1,
          39.712,
          39.52,
          39.58,
          39.899,
          39.876,
          39.954,
          39.856,
          39.939,
          38.0513,
          38.0398,
          38.1398,
          38.00583333,
          38.01777778,
          38.0524,
          37.9097,
          39.6308,
          39.643,
          39.6407,
          39.6679,
          39.65782,
          39.6295,
          39.8283,
          40.0181,
          39.9567,
          39.9358,
          39.9419,
          36.61763,
          36.6164,
          36.5776,
          36.61981,
          38.8632,
          38.8957,
          38.9108,
          38.8416,
          38.8756,
          38.8707,
          40.8367,
          40.79481,
          40.8115,
          40.7688,
          40.8725,
          40.9161,
          40.9843,
          40.9359,
          40.9733,
          41.0112,
          39.5178,
          39.5747,
          39.5571,
          39.5343,
          38.2991,
          38.3254,
          38.3228,
          37.7575,
          37.7379,
          37.739,
          37.0967,
          37.0533,
          37.0964,
          37.062
         ],
         "legendgroup": "",
         "lon": [
          116.417,
          116.407,
          116.339,
          116.352,
          116.397,
          116.461,
          116.287,
          116.174,
          116.207,
          116.279,
          116.146,
          116.184,
          116.136,
          116.404,
          116.506,
          116.663,
          116.655,
          116.23,
          116.106,
          117.1,
          116.628,
          116.832,
          115.972,
          116.22,
          115.988,
          116.911,
          117.12,
          116.783,
          116.3,
          116,
          116.395,
          116.394,
          116.349,
          116.368,
          116.483,
          114.4548,
          114.6046,
          114.5019,
          114.4586111,
          114.53305559999998,
          114.5214,
          114.3541,
          118.1662,
          118.144,
          118.1853,
          118.2185,
          118.1838,
          118.1997,
          119.5259,
          119.7624,
          119.6023,
          119.607,
          119.5369,
          114.5129,
          114.5426,
          114.5035,
          114.4965,
          115.493,
          115.5223,
          115.4713,
          115.4612,
          115.442,
          115.5214,
          114.8985,
          114.892,
          114.8814,
          114.9032,
          114.904,
          117.9664,
          117.9525,
          117.963,
          117.8184,
          117.9384,
          116.6838,
          116.7729,
          116.715,
          116.7464,
          116.8854,
          116.8584,
          116.8709,
          115.6951,
          115.6426,
          115.6906,
          114.4821,
          114.5261,
          114.5331,
          114.4854
         ],
         "marker": {
          "color": [
           0,
           0,
           0,
           0,
           0,
           0,
           0,
           0,
           0,
           0,
           0,
           0,
           0,
           0,
           0,
           0,
           0,
           0,
           0,
           0,
           0,
           0,
           0,
           0,
           0,
           0,
           0,
           0,
           0,
           0,
           0,
           0,
           0,
           0,
           0,
           1,
           1,
           1,
           1,
           1,
           1,
           1,
           1,
           1,
           1,
           1,
           1,
           1,
           1,
           1,
           1,
           1,
           1,
           1,
           1,
           1,
           1,
           1,
           1,
           1,
           1,
           1,
           1,
           1,
           1,
           1,
           1,
           1,
           1,
           1,
           1,
           1,
           1,
           1,
           1,
           1,
           1,
           1,
           1,
           1,
           1,
           1,
           1,
           1,
           1,
           1,
           1
          ],
          "coloraxis": "coloraxis"
         },
         "mode": "markers",
         "name": "",
         "showlegend": false,
         "subplot": "mapbox",
         "type": "scattermapbox"
        }
       ],
       "layout": {
        "autosize": true,
        "coloraxis": {
         "colorbar": {
          "title": {
           "text": "color"
          }
         },
         "colorscale": [
          [
           0,
           "rgb(0,0,0)"
          ],
          [
           0.25,
           "rgb(230,0,0)"
          ],
          [
           0.5,
           "rgb(230,210,0)"
          ],
          [
           0.75,
           "rgb(255,255,255)"
          ],
          [
           1,
           "rgb(160,200,255)"
          ]
         ]
        },
        "height": 700,
        "hovermode": "closest",
        "legend": {
         "tracegroupgap": 0
        },
        "mapbox": {
         "bearing": 0,
         "center": {
          "lat": 39,
          "lon": 117
         },
         "domain": {
          "x": [
           0,
           1
          ],
          "y": [
           0,
           1
          ]
         },
         "pitch": 0,
         "style": "stamen-terrain",
         "zoom": 5
        },
        "margin": {
         "t": 60
        },
        "showlegend": false,
        "template": {
         "data": {
          "bar": [
           {
            "error_x": {
             "color": "#2a3f5f"
            },
            "error_y": {
             "color": "#2a3f5f"
            },
            "marker": {
             "line": {
              "color": "#E5ECF6",
              "width": 0.5
             }
            },
            "type": "bar"
           }
          ],
          "barpolar": [
           {
            "marker": {
             "line": {
              "color": "#E5ECF6",
              "width": 0.5
             }
            },
            "type": "barpolar"
           }
          ],
          "carpet": [
           {
            "aaxis": {
             "endlinecolor": "#2a3f5f",
             "gridcolor": "white",
             "linecolor": "white",
             "minorgridcolor": "white",
             "startlinecolor": "#2a3f5f"
            },
            "baxis": {
             "endlinecolor": "#2a3f5f",
             "gridcolor": "white",
             "linecolor": "white",
             "minorgridcolor": "white",
             "startlinecolor": "#2a3f5f"
            },
            "type": "carpet"
           }
          ],
          "choropleth": [
           {
            "colorbar": {
             "outlinewidth": 0,
             "ticks": ""
            },
            "type": "choropleth"
           }
          ],
          "contour": [
           {
            "colorbar": {
             "outlinewidth": 0,
             "ticks": ""
            },
            "colorscale": [
             [
              0,
              "#0d0887"
             ],
             [
              0.1111111111111111,
              "#46039f"
             ],
             [
              0.2222222222222222,
              "#7201a8"
             ],
             [
              0.3333333333333333,
              "#9c179e"
             ],
             [
              0.4444444444444444,
              "#bd3786"
             ],
             [
              0.5555555555555556,
              "#d8576b"
             ],
             [
              0.6666666666666666,
              "#ed7953"
             ],
             [
              0.7777777777777778,
              "#fb9f3a"
             ],
             [
              0.8888888888888888,
              "#fdca26"
             ],
             [
              1,
              "#f0f921"
             ]
            ],
            "type": "contour"
           }
          ],
          "contourcarpet": [
           {
            "colorbar": {
             "outlinewidth": 0,
             "ticks": ""
            },
            "type": "contourcarpet"
           }
          ],
          "heatmap": [
           {
            "colorbar": {
             "outlinewidth": 0,
             "ticks": ""
            },
            "colorscale": [
             [
              0,
              "#0d0887"
             ],
             [
              0.1111111111111111,
              "#46039f"
             ],
             [
              0.2222222222222222,
              "#7201a8"
             ],
             [
              0.3333333333333333,
              "#9c179e"
             ],
             [
              0.4444444444444444,
              "#bd3786"
             ],
             [
              0.5555555555555556,
              "#d8576b"
             ],
             [
              0.6666666666666666,
              "#ed7953"
             ],
             [
              0.7777777777777778,
              "#fb9f3a"
             ],
             [
              0.8888888888888888,
              "#fdca26"
             ],
             [
              1,
              "#f0f921"
             ]
            ],
            "type": "heatmap"
           }
          ],
          "heatmapgl": [
           {
            "colorbar": {
             "outlinewidth": 0,
             "ticks": ""
            },
            "colorscale": [
             [
              0,
              "#0d0887"
             ],
             [
              0.1111111111111111,
              "#46039f"
             ],
             [
              0.2222222222222222,
              "#7201a8"
             ],
             [
              0.3333333333333333,
              "#9c179e"
             ],
             [
              0.4444444444444444,
              "#bd3786"
             ],
             [
              0.5555555555555556,
              "#d8576b"
             ],
             [
              0.6666666666666666,
              "#ed7953"
             ],
             [
              0.7777777777777778,
              "#fb9f3a"
             ],
             [
              0.8888888888888888,
              "#fdca26"
             ],
             [
              1,
              "#f0f921"
             ]
            ],
            "type": "heatmapgl"
           }
          ],
          "histogram": [
           {
            "marker": {
             "colorbar": {
              "outlinewidth": 0,
              "ticks": ""
             }
            },
            "type": "histogram"
           }
          ],
          "histogram2d": [
           {
            "colorbar": {
             "outlinewidth": 0,
             "ticks": ""
            },
            "colorscale": [
             [
              0,
              "#0d0887"
             ],
             [
              0.1111111111111111,
              "#46039f"
             ],
             [
              0.2222222222222222,
              "#7201a8"
             ],
             [
              0.3333333333333333,
              "#9c179e"
             ],
             [
              0.4444444444444444,
              "#bd3786"
             ],
             [
              0.5555555555555556,
              "#d8576b"
             ],
             [
              0.6666666666666666,
              "#ed7953"
             ],
             [
              0.7777777777777778,
              "#fb9f3a"
             ],
             [
              0.8888888888888888,
              "#fdca26"
             ],
             [
              1,
              "#f0f921"
             ]
            ],
            "type": "histogram2d"
           }
          ],
          "histogram2dcontour": [
           {
            "colorbar": {
             "outlinewidth": 0,
             "ticks": ""
            },
            "colorscale": [
             [
              0,
              "#0d0887"
             ],
             [
              0.1111111111111111,
              "#46039f"
             ],
             [
              0.2222222222222222,
              "#7201a8"
             ],
             [
              0.3333333333333333,
              "#9c179e"
             ],
             [
              0.4444444444444444,
              "#bd3786"
             ],
             [
              0.5555555555555556,
              "#d8576b"
             ],
             [
              0.6666666666666666,
              "#ed7953"
             ],
             [
              0.7777777777777778,
              "#fb9f3a"
             ],
             [
              0.8888888888888888,
              "#fdca26"
             ],
             [
              1,
              "#f0f921"
             ]
            ],
            "type": "histogram2dcontour"
           }
          ],
          "mesh3d": [
           {
            "colorbar": {
             "outlinewidth": 0,
             "ticks": ""
            },
            "type": "mesh3d"
           }
          ],
          "parcoords": [
           {
            "line": {
             "colorbar": {
              "outlinewidth": 0,
              "ticks": ""
             }
            },
            "type": "parcoords"
           }
          ],
          "pie": [
           {
            "automargin": true,
            "type": "pie"
           }
          ],
          "scatter": [
           {
            "marker": {
             "colorbar": {
              "outlinewidth": 0,
              "ticks": ""
             }
            },
            "type": "scatter"
           }
          ],
          "scatter3d": [
           {
            "line": {
             "colorbar": {
              "outlinewidth": 0,
              "ticks": ""
             }
            },
            "marker": {
             "colorbar": {
              "outlinewidth": 0,
              "ticks": ""
             }
            },
            "type": "scatter3d"
           }
          ],
          "scattercarpet": [
           {
            "marker": {
             "colorbar": {
              "outlinewidth": 0,
              "ticks": ""
             }
            },
            "type": "scattercarpet"
           }
          ],
          "scattergeo": [
           {
            "marker": {
             "colorbar": {
              "outlinewidth": 0,
              "ticks": ""
             }
            },
            "type": "scattergeo"
           }
          ],
          "scattergl": [
           {
            "marker": {
             "colorbar": {
              "outlinewidth": 0,
              "ticks": ""
             }
            },
            "type": "scattergl"
           }
          ],
          "scattermapbox": [
           {
            "marker": {
             "colorbar": {
              "outlinewidth": 0,
              "ticks": ""
             }
            },
            "type": "scattermapbox"
           }
          ],
          "scatterpolar": [
           {
            "marker": {
             "colorbar": {
              "outlinewidth": 0,
              "ticks": ""
             }
            },
            "type": "scatterpolar"
           }
          ],
          "scatterpolargl": [
           {
            "marker": {
             "colorbar": {
              "outlinewidth": 0,
              "ticks": ""
             }
            },
            "type": "scatterpolargl"
           }
          ],
          "scatterternary": [
           {
            "marker": {
             "colorbar": {
              "outlinewidth": 0,
              "ticks": ""
             }
            },
            "type": "scatterternary"
           }
          ],
          "surface": [
           {
            "colorbar": {
             "outlinewidth": 0,
             "ticks": ""
            },
            "colorscale": [
             [
              0,
              "#0d0887"
             ],
             [
              0.1111111111111111,
              "#46039f"
             ],
             [
              0.2222222222222222,
              "#7201a8"
             ],
             [
              0.3333333333333333,
              "#9c179e"
             ],
             [
              0.4444444444444444,
              "#bd3786"
             ],
             [
              0.5555555555555556,
              "#d8576b"
             ],
             [
              0.6666666666666666,
              "#ed7953"
             ],
             [
              0.7777777777777778,
              "#fb9f3a"
             ],
             [
              0.8888888888888888,
              "#fdca26"
             ],
             [
              1,
              "#f0f921"
             ]
            ],
            "type": "surface"
           }
          ],
          "table": [
           {
            "cells": {
             "fill": {
              "color": "#EBF0F8"
             },
             "line": {
              "color": "white"
             }
            },
            "header": {
             "fill": {
              "color": "#C8D4E3"
             },
             "line": {
              "color": "white"
             }
            },
            "type": "table"
           }
          ]
         },
         "layout": {
          "annotationdefaults": {
           "arrowcolor": "#2a3f5f",
           "arrowhead": 0,
           "arrowwidth": 1
          },
          "autotypenumbers": "strict",
          "coloraxis": {
           "colorbar": {
            "outlinewidth": 0,
            "ticks": ""
           }
          },
          "colorscale": {
           "diverging": [
            [
             0,
             "#8e0152"
            ],
            [
             0.1,
             "#c51b7d"
            ],
            [
             0.2,
             "#de77ae"
            ],
            [
             0.3,
             "#f1b6da"
            ],
            [
             0.4,
             "#fde0ef"
            ],
            [
             0.5,
             "#f7f7f7"
            ],
            [
             0.6,
             "#e6f5d0"
            ],
            [
             0.7,
             "#b8e186"
            ],
            [
             0.8,
             "#7fbc41"
            ],
            [
             0.9,
             "#4d9221"
            ],
            [
             1,
             "#276419"
            ]
           ],
           "sequential": [
            [
             0,
             "#0d0887"
            ],
            [
             0.1111111111111111,
             "#46039f"
            ],
            [
             0.2222222222222222,
             "#7201a8"
            ],
            [
             0.3333333333333333,
             "#9c179e"
            ],
            [
             0.4444444444444444,
             "#bd3786"
            ],
            [
             0.5555555555555556,
             "#d8576b"
            ],
            [
             0.6666666666666666,
             "#ed7953"
            ],
            [
             0.7777777777777778,
             "#fb9f3a"
            ],
            [
             0.8888888888888888,
             "#fdca26"
            ],
            [
             1,
             "#f0f921"
            ]
           ],
           "sequentialminus": [
            [
             0,
             "#0d0887"
            ],
            [
             0.1111111111111111,
             "#46039f"
            ],
            [
             0.2222222222222222,
             "#7201a8"
            ],
            [
             0.3333333333333333,
             "#9c179e"
            ],
            [
             0.4444444444444444,
             "#bd3786"
            ],
            [
             0.5555555555555556,
             "#d8576b"
            ],
            [
             0.6666666666666666,
             "#ed7953"
            ],
            [
             0.7777777777777778,
             "#fb9f3a"
            ],
            [
             0.8888888888888888,
             "#fdca26"
            ],
            [
             1,
             "#f0f921"
            ]
           ]
          },
          "colorway": [
           "#636efa",
           "#EF553B",
           "#00cc96",
           "#ab63fa",
           "#FFA15A",
           "#19d3f3",
           "#FF6692",
           "#B6E880",
           "#FF97FF",
           "#FECB52"
          ],
          "font": {
           "color": "#2a3f5f"
          },
          "geo": {
           "bgcolor": "white",
           "lakecolor": "white",
           "landcolor": "#E5ECF6",
           "showlakes": true,
           "showland": true,
           "subunitcolor": "white"
          },
          "hoverlabel": {
           "align": "left"
          },
          "hovermode": "closest",
          "mapbox": {
           "style": "light"
          },
          "paper_bgcolor": "white",
          "plot_bgcolor": "#E5ECF6",
          "polar": {
           "angularaxis": {
            "gridcolor": "white",
            "linecolor": "white",
            "ticks": ""
           },
           "bgcolor": "#E5ECF6",
           "radialaxis": {
            "gridcolor": "white",
            "linecolor": "white",
            "ticks": ""
           }
          },
          "scene": {
           "xaxis": {
            "backgroundcolor": "#E5ECF6",
            "gridcolor": "white",
            "gridwidth": 2,
            "linecolor": "white",
            "showbackground": true,
            "ticks": "",
            "zerolinecolor": "white"
           },
           "yaxis": {
            "backgroundcolor": "#E5ECF6",
            "gridcolor": "white",
            "gridwidth": 2,
            "linecolor": "white",
            "showbackground": true,
            "ticks": "",
            "zerolinecolor": "white"
           },
           "zaxis": {
            "backgroundcolor": "#E5ECF6",
            "gridcolor": "white",
            "gridwidth": 2,
            "linecolor": "white",
            "showbackground": true,
            "ticks": "",
            "zerolinecolor": "white"
           }
          },
          "shapedefaults": {
           "line": {
            "color": "#2a3f5f"
           }
          },
          "ternary": {
           "aaxis": {
            "gridcolor": "white",
            "linecolor": "white",
            "ticks": ""
           },
           "baxis": {
            "gridcolor": "white",
            "linecolor": "white",
            "ticks": ""
           },
           "bgcolor": "#E5ECF6",
           "caxis": {
            "gridcolor": "white",
            "linecolor": "white",
            "ticks": ""
           }
          },
          "title": {
           "x": 0.05
          },
          "xaxis": {
           "automargin": true,
           "gridcolor": "white",
           "linecolor": "white",
           "ticks": "",
           "title": {
            "standoff": 15
           },
           "zerolinecolor": "white",
           "zerolinewidth": 2
          },
          "yaxis": {
           "automargin": true,
           "gridcolor": "white",
           "linecolor": "white",
           "ticks": "",
           "title": {
            "standoff": 15
           },
           "zerolinecolor": "white",
           "zerolinewidth": 2
          }
         }
        },
        "title": {
         "text": "Devices"
        },
        "width": 1000
       }
      }
     },
     "metadata": {}
    }
   ],
   "source": [
    "show_sensor_map(data.metadata)"
   ]
  },
  {
   "source": [
    "Super surrounding\n",
    "- Baoding (south-west)\n",
    "- Langfang (south-east)\n",
    "- Zhangjiakou (north)\n",
    "- Tangshan (east)\n",
    "\n",
    "In the area:\n",
    "- Shijiazhuang (south-west)\n",
    "\n",
    "Beijing:\n",
    "- qianmen (center)\n",
    "- changping (north)\n",
    "- daxing (south)\n",
    "- shunyi (north-east)"
   ],
   "cell_type": "markdown",
   "metadata": {}
  }
 ]
}