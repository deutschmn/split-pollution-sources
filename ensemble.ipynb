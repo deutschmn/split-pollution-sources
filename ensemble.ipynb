{
 "metadata": {
  "language_info": {
   "codemirror_mode": {
    "name": "ipython",
    "version": 3
   },
   "file_extension": ".py",
   "mimetype": "text/x-python",
   "name": "python",
   "nbconvert_exporter": "python",
   "pygments_lexer": "ipython3",
   "version": "3.7.7"
  },
  "orig_nbformat": 2,
  "kernelspec": {
   "name": "python377jvsc74a57bd0e774977668b7c0ae8309835a5187aa7fbf7669e7d0bb59755bc63e573643edcd",
   "display_name": "Python 3.7.7 64-bit"
  },
  "metadata": {
   "interpreter": {
    "hash": "e774977668b7c0ae8309835a5187aa7fbf7669e7d0bb59755bc63e573643edcd"
   }
  }
 },
 "nbformat": 4,
 "nbformat_minor": 2,
 "cells": [
  {
   "cell_type": "code",
   "execution_count": 1,
   "metadata": {},
   "outputs": [],
   "source": [
    "import numpy as np\n",
    "import pandas as pd\n",
    "from tqdm.notebook import tqdm\n",
    "import ndpretty\n",
    "from functools import reduce\n",
    "\n",
    "import gnn_prep\n",
    "from gnn_prep import Experiment\n",
    "from ensemble import ensemblify"
   ]
  },
  {
   "cell_type": "code",
   "execution_count": 2,
   "metadata": {},
   "outputs": [],
   "source": [
    "ndpretty.default()"
   ]
  },
  {
   "cell_type": "code",
   "execution_count": 3,
   "metadata": {},
   "outputs": [
    {
     "output_type": "display_data",
     "data": {
      "text/plain": "HBox(children=(IntProgress(value=0, max=5), HTML(value='')))",
      "application/vnd.jupyter.widget-view+json": {
       "version_major": 2,
       "version_minor": 0,
       "model_id": "f1cd49d1923c4a74b7778a35d0f56eca"
      }
     },
     "metadata": {}
    },
    {
     "output_type": "stream",
     "name": "stdout",
     "text": [
      "\nLoaded 5 experiments\n"
     ]
    }
   ],
   "source": [
    "gnn_data_path=\"Previous work/PM2.5-GNN/data/\"\n",
    "gnn_experiment_path = gnn_data_path + \"results/\"\n",
    "\n",
    "dataset_name = \"DS3_city\"\n",
    "\n",
    "devices_path = f\"{gnn_data_path}city_{dataset_name}.txt\"\n",
    "city_txt = pd.read_csv(devices_path, sep=' ', header=None, index_col=0)\n",
    "devices = list(city_txt[1])\n",
    "\n",
    "experiments = {\n",
    "    **{\"SGNN3_0_168_%02d\" % i: \"0_168/1/SplitGNN_3/2021-04-21_07-51-46/%02d/\" % i for i in range(5)}\n",
    "}\n",
    "\n",
    "start_date = \"2020-01-01 01:00:00\"\n",
    "end_date = \"2020-03-01 01:00:00\"\n",
    "for name, path in tqdm(experiments.items()):\n",
    "    experiments[name] = Experiment.load(name, gnn_experiment_path + path, start_date, devices)\n",
    "\n",
    "print(f\"Loaded {len(experiments)} experiments\")"
   ]
  },
  {
   "cell_type": "code",
   "execution_count": 19,
   "metadata": {},
   "outputs": [],
   "source": [
    "name = \"SGNN3_0_168_deep_ensemble\""
   ]
  },
  {
   "cell_type": "code",
   "execution_count": 20,
   "metadata": {},
   "outputs": [
    {
     "output_type": "execute_result",
     "data": {
      "text/plain": [
       "Experiment 'SGNN3_0_168_deep_ensemble'"
      ]
     },
     "metadata": {},
     "execution_count": 20
    }
   ],
   "source": []
  },
  {
   "cell_type": "code",
   "execution_count": 21,
   "metadata": {},
   "outputs": [
    {
     "output_type": "execute_result",
     "data": {
      "text/plain": [
       "Experiment 'SGNN3_0_168_ensemble'"
      ]
     },
     "metadata": {},
     "execution_count": 21
    }
   ],
   "source": [
    "ensemblify(experiments, \"SGNN3_0_168_ensemble\")"
   ]
  }
 ]
}