{
 "metadata": {
  "language_info": {
   "codemirror_mode": {
    "name": "ipython",
    "version": 3
   },
   "file_extension": ".py",
   "mimetype": "text/x-python",
   "name": "python",
   "nbconvert_exporter": "python",
   "pygments_lexer": "ipython3",
   "version": "3.7.7"
  },
  "orig_nbformat": 2,
  "kernelspec": {
   "name": "python377jvsc74a57bd0e774977668b7c0ae8309835a5187aa7fbf7669e7d0bb59755bc63e573643edcd",
   "display_name": "Python 3.7.7 64-bit"
  },
  "metadata": {
   "interpreter": {
    "hash": "e774977668b7c0ae8309835a5187aa7fbf7669e7d0bb59755bc63e573643edcd"
   }
  }
 },
 "nbformat": 4,
 "nbformat_minor": 2,
 "cells": [
  {
   "cell_type": "code",
   "execution_count": 1,
   "metadata": {},
   "outputs": [],
   "source": [
    "from ipywidgets import interact, interactive, fixed, interact_manual\n",
    "import ipywidgets as widgets\n",
    "\n",
    "import numpy as np\n",
    "import pandas as pd\n",
    "from tqdm.notebook import tqdm\n",
    "\n",
    "import matplotlib.pyplot as plt\n",
    "import ndpretty\n",
    "\n",
    "import data_prep\n",
    "import gnn_prep\n",
    "from gnn_prep import Experiment\n",
    "from ensemble import ensemblify, deep_ensemblify\n",
    "import widget_util\n",
    "\n",
    "import plotly.graph_objects as go\n",
    "import plotly.express as px\n",
    "import itertools"
   ]
  },
  {
   "cell_type": "code",
   "execution_count": 2,
   "metadata": {},
   "outputs": [],
   "source": [
    "ndpretty.default()"
   ]
  },
  {
   "source": [
    "# Analyse experiment results"
   ],
   "cell_type": "markdown",
   "metadata": {}
  },
  {
   "cell_type": "code",
   "execution_count": 4,
   "metadata": {},
   "outputs": [],
   "source": [
    "gnn_data_path=\"Previous work/PM2.5-GNN/data/\"\n",
    "gnn_experiment_path = gnn_data_path + \"results/\"\n",
    "\n",
    "devices_path = f\"{gnn_data_path}city_{dataset_name}.txt\"\n",
    "city_txt = pd.read_csv(devices_path, sep=' ', header=None, index_col=0)\n",
    "devices = list(city_txt[1])"
   ]
  },
  {
   "cell_type": "code",
   "execution_count": 3,
   "metadata": {},
   "outputs": [
    {
     "output_type": "display_data",
     "data": {
      "text/plain": "HBox(children=(IntProgress(value=0, max=87), HTML(value='')))",
      "application/vnd.jupyter.widget-view+json": {
       "version_major": 2,
       "version_minor": 0,
       "model_id": "9287715c1ad14ce383afa26d8dc8e259"
      }
     },
     "metadata": {}
    },
    {
     "output_type": "stream",
     "name": "stdout",
     "text": [
      "\n",
      "Loaded air quality data from 87 devices. No weather data for []\n"
     ]
    }
   ],
   "source": [
    "dataset_name = \"DS2\" # \"DS3_city\"\n",
    "\n",
    "if dataset_name == \"DS2\":\n",
    "    data = data_prep.load_beijing_data()\n",
    "elif dataset_name == \"DS3_city\":\n",
    "    data = data_prep.load_hebei_city_data() \n",
    "else:\n",
    "    raise RuntimeError(\"Unknown dataset\")"
   ]
  },
  {
   "cell_type": "code",
   "execution_count": 5,
   "metadata": {},
   "outputs": [
    {
     "output_type": "display_data",
     "data": {
      "text/plain": "HBox(children=(IntProgress(value=0, max=6), HTML(value='')))",
      "application/vnd.jupyter.widget-view+json": {
       "version_major": 2,
       "version_minor": 0,
       "model_id": "5329c8f2b7364c7e8228b13396bafce7"
      }
     },
     "metadata": {}
    },
    {
     "output_type": "stream",
     "name": "stdout",
     "text": [
      "\nLoaded 12 experiments\n"
     ]
    }
   ],
   "source": [
    "exp_paths = {\n",
    "    \"PM25_GNN\": \"0_336/1/PM25_GNN/2021-03-29_09-16-24/01/\",\n",
    "    #**{\"SGNN3_0-24_%02d\" % i: \"0_24/1/SplitGNN_3/2021-04-07_23-09-24/%02d/\" % i for i in range(5)},\n",
    "    **{\"SGNN3_0-336_%02d\" % i: \"0_336/1/SplitGNN_3/2021-04-19_09-49-03/%02d/\" % i for i in range(5)}, # good runs!\n",
    "    # **{\"SGNN3_0_168_%02d\" % i: \"0_168/1/SplitGNN_3/2021-04-21_07-51-46/%02d/\" % i for i in range(5)},\n",
    "    #**{\"SGNN3_0_24_%02d\" % i: \"0_24/1/SplitGNN_3/2021-04-30_07-25-12/%02d/\" % i for i in range(5)},\n",
    "    #**{\"SGNN3_1_24_%02d\" % i: \"1_24/1/SplitGNN_3/2021-04-30_08-37-48/%02d/\" % i for i in range(5)},\n",
    "    #**{\"SGNN3.2_1_24_%02d\" % i: \"1_24/1/SplitGNN_3_2/2021-05-04_09-00-51/%02d/\" % i for i in range(5)},\n",
    "    #**{\"PM25_GNN_1_24_%02d\" % i: \"1_24/1/PM25_GNN/2021-05-04_09-01-57/%02d/\" % i for i in range(5)},\n",
    "}\n",
    "\n",
    "start_date = \"2020-10-01 01:00:00\"\n",
    "end_date = \"2020-12-31 01:00:00\"\n",
    "\n",
    "experiments = {}\n",
    "for name, path in tqdm(exp_paths.items()):\n",
    "    experiments[name] = Experiment.load(name, gnn_experiment_path + path, start_date, devices)\n",
    "    # experiments[name + \" - with start\"] = Experiment.load(name, gnn_experiment_path + path, start_date, devices)\n",
    "    # experiments[name + \" - first pred\"] = Experiment.load(name, gnn_experiment_path + path, None, devices)\n",
    "\n",
    "\n",
    "print(f\"Loaded {len(experiments)} experiments\")"
   ]
  },
  {
   "cell_type": "code",
   "execution_count": 13,
   "metadata": {},
   "outputs": [
    {
     "output_type": "stream",
     "name": "stdout",
     "text": [
      "5536×336×12×1 float32 ndarray\n"
     ]
    },
    {
     "output_type": "display_data",
     "data": {
      "text/plain": "interactive(children=(Text(value='[:100, :100, 0, 0]', description='Slice:', placeholder='e.g. [:100, :100, 0,…",
      "application/vnd.jupyter.widget-view+json": {
       "version_major": 2,
       "version_minor": 0,
       "model_id": "127dec90ebd94650819b06a7def14542"
      }
     },
     "metadata": {}
    },
    {
     "output_type": "execute_result",
     "data": {
      "text/plain": []
     },
     "metadata": {},
     "execution_count": 13
    }
   ],
   "source": [
    "experiments[\"PM25_GNN - with start\"].pred_npy"
   ]
  },
  {
   "cell_type": "code",
   "execution_count": 6,
   "metadata": {},
   "outputs": [],
   "source": [
    "# ensemble_name = \"SGNN3_0_168_ensemble\"\n",
    "# ensemble = ensemblify(experiments, ensemble_name)\n",
    "\n",
    "# deep_ensemble_name = \"SGNN3_0_168_deep_ensemble\"\n",
    "# experiments[deep_ensemble_name] = deep_ensemblify(experiments, deep_ensemble_name)\n",
    "# experiments[ensemble_name] = ensemble"
   ]
  },
  {
   "cell_type": "code",
   "execution_count": 7,
   "metadata": {},
   "outputs": [],
   "source": [
    "df = data.measurements.copy()\n",
    "df.index = df['time']\n",
    "ground_truth = df[df['device_id'].isin(devices)]"
   ]
  },
  {
   "cell_type": "code",
   "execution_count": 8,
   "metadata": {},
   "outputs": [],
   "source": [
    "device_widget = widgets.Select(\n",
    "    options=devices,\n",
    "    rows=5,\n",
    "    description='Device'\n",
    ")\n",
    "\n",
    "exp_widget = widgets.SelectMultiple(\n",
    "    options=experiments.keys(),\n",
    "    rows=10,\n",
    "    description='Exps'\n",
    ")\n",
    "\n",
    "date_widget = widget_util.get_date_slider(data, start=None)"
   ]
  },
  {
   "cell_type": "code",
   "execution_count": 11,
   "metadata": {},
   "outputs": [
    {
     "output_type": "execute_result",
     "data": {
      "text/plain": [
       "{'PM25_GNN - with start': Experiment 'PM25_GNN',\n",
       " 'PM25_GNN - first pred': Experiment 'PM25_GNN',\n",
       " 'SGNN3_0-336_00 - with start': Experiment 'SGNN3_0-336_00',\n",
       " 'SGNN3_0-336_00 - first pred': Experiment 'SGNN3_0-336_00',\n",
       " 'SGNN3_0-336_01 - with start': Experiment 'SGNN3_0-336_01',\n",
       " 'SGNN3_0-336_01 - first pred': Experiment 'SGNN3_0-336_01',\n",
       " 'SGNN3_0-336_02 - with start': Experiment 'SGNN3_0-336_02',\n",
       " 'SGNN3_0-336_02 - first pred': Experiment 'SGNN3_0-336_02',\n",
       " 'SGNN3_0-336_03 - with start': Experiment 'SGNN3_0-336_03',\n",
       " 'SGNN3_0-336_03 - first pred': Experiment 'SGNN3_0-336_03',\n",
       " 'SGNN3_0-336_04 - with start': Experiment 'SGNN3_0-336_04',\n",
       " 'SGNN3_0-336_04 - first pred': Experiment 'SGNN3_0-336_04'}"
      ]
     },
     "metadata": {},
     "execution_count": 11
    }
   ],
   "source": [
    "experiments"
   ]
  },
  {
   "cell_type": "code",
   "execution_count": 9,
   "metadata": {},
   "outputs": [
    {
     "output_type": "display_data",
     "data": {
      "text/plain": "interactive(children=(SelectMultiple(description='Exps', options=('PM25_GNN - with start', 'PM25_GNN - first p…",
      "application/vnd.jupyter.widget-view+json": {
       "version_major": 2,
       "version_minor": 0,
       "model_id": "fec8589c476c4305a0322227e3c8df7c"
      }
     },
     "metadata": {}
    },
    {
     "output_type": "execute_result",
     "data": {
      "text/plain": [
       "<function __main__.plot_results(ground_truth, exps, selected_exps, device, date_range, feature, events)>"
      ]
     },
     "metadata": {},
     "execution_count": 9
    }
   ],
   "source": [
    "def plot_results(ground_truth, exps, selected_exps, device, date_range, feature, events):\n",
    "    plt.figure(figsize=(10,5))\n",
    "\n",
    "    # plot events\n",
    "    for event in events:\n",
    "        plt.axvspan(event.start, event.end, color=event.color, alpha=0.1, label=event.name)\n",
    "\n",
    "    # plot ground truth\n",
    "    (start, end) = date_range\n",
    "    y = ground_truth[(ground_truth['device_id'] == device) & (ground_truth['time'] >= start) & (ground_truth['time'] < end)]\n",
    "    plt.plot(y['time'], y[feature], label='ground truth')\n",
    "\n",
    "    # plot experiment predictions\n",
    "    for e in selected_exps:\n",
    "        exp = exps[e]\n",
    "        df = exp.preds\n",
    "        y = df[(df['device_id'] == device) & (df['time'] >= start) & (df['time'] < end)]\n",
    "        plt.plot(y['time'], y[feature], label=e)\n",
    "\n",
    "    plt.tight_layout()\n",
    "    plt.title(f\"{feature} @ {device}\")\n",
    "    plt.legend(loc='upper left')\n",
    "    axes = plt.gca()\n",
    "    axes.set_xlim([start,end])\n",
    "    plt.show()\n",
    "\n",
    "    # plot R values for device\n",
    "    for e in selected_exps:\n",
    "        R_in, R_out = exps[e].R_in, exps[e].R_out\n",
    "        if R_in is not None and R_out is not None:\n",
    "            R_in[device].plot(kind='area', title=f\"R_in for {e} @ {device}\")\n",
    "            R_out[device].plot(kind='area', title=f\"R_out for {e} @ {device}\")\n",
    "\n",
    "interact_manual(plot_results, ground_truth=fixed(ground_truth), exps=fixed(experiments), selected_exps=exp_widget, device=device_widget, date_range=date_widget, feature=fixed('pm25'), events=fixed(data.events))"
   ]
  },
  {
   "source": [
    "## Sankey diagram"
   ],
   "cell_type": "markdown",
   "metadata": {}
  },
  {
   "cell_type": "code",
   "execution_count": 10,
   "metadata": {},
   "outputs": [
    {
     "output_type": "error",
     "ename": "KeyError",
     "evalue": "'SGNN3_0_168_00'",
     "traceback": [
      "\u001b[0;31m---------------------------------------------------------------------------\u001b[0m",
      "\u001b[0;31mKeyError\u001b[0m                                  Traceback (most recent call last)",
      "\u001b[0;32m<ipython-input-10-21e4b741dcfb>\u001b[0m in \u001b[0;36m<module>\u001b[0;34m\u001b[0m\n\u001b[0;32m----> 1\u001b[0;31m \u001b[0mexp\u001b[0m \u001b[0;34m=\u001b[0m \u001b[0mexperiments\u001b[0m\u001b[0;34m[\u001b[0m\u001b[0;34m\"SGNN3_0_168_00\"\u001b[0m\u001b[0;34m]\u001b[0m\u001b[0;34m\u001b[0m\u001b[0;34m\u001b[0m\u001b[0m\n\u001b[0m\u001b[1;32m      2\u001b[0m \u001b[0mstart_time_idx\u001b[0m \u001b[0;34m=\u001b[0m \u001b[0;36m0\u001b[0m\u001b[0;34m\u001b[0m\u001b[0;34m\u001b[0m\u001b[0m\n\u001b[1;32m      3\u001b[0m \u001b[0mpred_time_idx\u001b[0m \u001b[0;34m=\u001b[0m \u001b[0;36m0\u001b[0m\u001b[0;34m\u001b[0m\u001b[0;34m\u001b[0m\u001b[0m\n\u001b[1;32m      4\u001b[0m \u001b[0mplot_threshold\u001b[0m \u001b[0;34m=\u001b[0m \u001b[0;36m0.3\u001b[0m \u001b[0;31m# plot only edges with an r_i higher than this threshold\u001b[0m\u001b[0;34m\u001b[0m\u001b[0;34m\u001b[0m\u001b[0m\n",
      "\u001b[0;31mKeyError\u001b[0m: 'SGNN3_0_168_00'"
     ]
    }
   ],
   "source": [
    "exp = experiments[\"SGNN3_0_168_00\"]\n",
    "start_time_idx = 0\n",
    "pred_time_idx = 0\n",
    "plot_threshold = 0.3 # plot only edges with an r_i higher than this threshold"
   ]
  },
  {
   "cell_type": "code",
   "execution_count": 17,
   "metadata": {},
   "outputs": [],
   "source": [
    "labels = exp.devices\n",
    "R = exp.R_npy[start_time_idx, pred_time_idx]\n",
    "\n",
    "target = list(itertools.chain(*[[i] * len(labels) for i in range(len(labels))]))\n",
    "source = list(range(len(labels))) * len(labels)\n",
    "values = list(R.flatten())"
   ]
  },
  {
   "source": [
    "Filter according to threshold."
   ],
   "cell_type": "markdown",
   "metadata": {}
  },
  {
   "cell_type": "code",
   "execution_count": 18,
   "metadata": {},
   "outputs": [
    {
     "output_type": "stream",
     "name": "stdout",
     "text": [
      "Plotting 16 edges\n"
     ]
    }
   ],
   "source": [
    "target_filtered, source_filtered, values_filtered = [], [], []\n",
    "\n",
    "for t, s, v in zip(target, source, values):\n",
    "    if v > plot_threshold:\n",
    "        target_filtered.append(t)\n",
    "        source_filtered.append(s)\n",
    "        values_filtered.append(v)\n",
    "\n",
    "print(f\"Plotting {len(source_filtered)} edges\")"
   ]
  },
  {
   "cell_type": "code",
   "execution_count": 19,
   "metadata": {},
   "outputs": [
    {
     "output_type": "display_data",
     "data": {
      "application/vnd.plotly.v1+json": {
       "config": {
        "plotlyServerURL": "https://plot.ly"
       },
       "data": [
        {
         "link": {
          "color": [
           "#30a4ca",
           "#54c8df",
           "#e7b000",
           "#f3d573",
           "#30a4ca",
           "#da8200",
           "#003786",
           "#003786",
           "#0e58a8",
           "#f3d573",
           "#000000",
           "#e7b000",
           "#f3d573",
           "#217eb8",
           "#30a4ca",
           "#001f4d"
          ],
          "source": [
           5,
           6,
           10,
           9,
           5,
           11,
           2,
           2,
           3,
           9,
           0,
           10,
           9,
           4,
           5,
           1
          ],
          "target": [
           0,
           0,
           2,
           3,
           4,
           4,
           5,
           6,
           7,
           7,
           8,
           9,
           10,
           11,
           11,
           12
          ],
          "value": [
           0.3602808713912964,
           0.3655969202518463,
           0.3138153553009033,
           0.818149209022522,
           0.4221201539039612,
           0.3464343845844269,
           0.5518302321434021,
           0.4901260435581207,
           0.40848681330680847,
           0.509161651134491,
           0.42608460783958435,
           0.3591447174549103,
           0.4239601492881775,
           0.4626080095767975,
           0.36653774976730347,
           0.7545701861381531
          ]
         },
         "node": {
          "color": [
           "#000000",
           "#001f4d",
           "#003786",
           "#0e58a8",
           "#217eb8",
           "#30a4ca",
           "#54c8df",
           "#9be4ef",
           "#e1e9d1",
           "#f3d573",
           "#e7b000",
           "#da8200",
           "#c65400"
          ],
          "hoverinfo": "none",
          "label": [
           "baoding",
           "beijing",
           "cangzhou",
           "chengde",
           "handan",
           "hengshui",
           "langfang",
           "qinhuangdao",
           "shijiazhuang",
           "tangshan",
           "tianjin",
           "xingtai",
           "zhangjiakou"
          ],
          "pad": 15
         },
         "type": "sankey"
        }
       ],
       "layout": {
        "font": {
         "size": 10
        },
        "height": 700,
        "template": {
         "data": {
          "bar": [
           {
            "error_x": {
             "color": "#2a3f5f"
            },
            "error_y": {
             "color": "#2a3f5f"
            },
            "marker": {
             "line": {
              "color": "#E5ECF6",
              "width": 0.5
             }
            },
            "type": "bar"
           }
          ],
          "barpolar": [
           {
            "marker": {
             "line": {
              "color": "#E5ECF6",
              "width": 0.5
             }
            },
            "type": "barpolar"
           }
          ],
          "carpet": [
           {
            "aaxis": {
             "endlinecolor": "#2a3f5f",
             "gridcolor": "white",
             "linecolor": "white",
             "minorgridcolor": "white",
             "startlinecolor": "#2a3f5f"
            },
            "baxis": {
             "endlinecolor": "#2a3f5f",
             "gridcolor": "white",
             "linecolor": "white",
             "minorgridcolor": "white",
             "startlinecolor": "#2a3f5f"
            },
            "type": "carpet"
           }
          ],
          "choropleth": [
           {
            "colorbar": {
             "outlinewidth": 0,
             "ticks": ""
            },
            "type": "choropleth"
           }
          ],
          "contour": [
           {
            "colorbar": {
             "outlinewidth": 0,
             "ticks": ""
            },
            "colorscale": [
             [
              0,
              "#0d0887"
             ],
             [
              0.1111111111111111,
              "#46039f"
             ],
             [
              0.2222222222222222,
              "#7201a8"
             ],
             [
              0.3333333333333333,
              "#9c179e"
             ],
             [
              0.4444444444444444,
              "#bd3786"
             ],
             [
              0.5555555555555556,
              "#d8576b"
             ],
             [
              0.6666666666666666,
              "#ed7953"
             ],
             [
              0.7777777777777778,
              "#fb9f3a"
             ],
             [
              0.8888888888888888,
              "#fdca26"
             ],
             [
              1,
              "#f0f921"
             ]
            ],
            "type": "contour"
           }
          ],
          "contourcarpet": [
           {
            "colorbar": {
             "outlinewidth": 0,
             "ticks": ""
            },
            "type": "contourcarpet"
           }
          ],
          "heatmap": [
           {
            "colorbar": {
             "outlinewidth": 0,
             "ticks": ""
            },
            "colorscale": [
             [
              0,
              "#0d0887"
             ],
             [
              0.1111111111111111,
              "#46039f"
             ],
             [
              0.2222222222222222,
              "#7201a8"
             ],
             [
              0.3333333333333333,
              "#9c179e"
             ],
             [
              0.4444444444444444,
              "#bd3786"
             ],
             [
              0.5555555555555556,
              "#d8576b"
             ],
             [
              0.6666666666666666,
              "#ed7953"
             ],
             [
              0.7777777777777778,
              "#fb9f3a"
             ],
             [
              0.8888888888888888,
              "#fdca26"
             ],
             [
              1,
              "#f0f921"
             ]
            ],
            "type": "heatmap"
           }
          ],
          "heatmapgl": [
           {
            "colorbar": {
             "outlinewidth": 0,
             "ticks": ""
            },
            "colorscale": [
             [
              0,
              "#0d0887"
             ],
             [
              0.1111111111111111,
              "#46039f"
             ],
             [
              0.2222222222222222,
              "#7201a8"
             ],
             [
              0.3333333333333333,
              "#9c179e"
             ],
             [
              0.4444444444444444,
              "#bd3786"
             ],
             [
              0.5555555555555556,
              "#d8576b"
             ],
             [
              0.6666666666666666,
              "#ed7953"
             ],
             [
              0.7777777777777778,
              "#fb9f3a"
             ],
             [
              0.8888888888888888,
              "#fdca26"
             ],
             [
              1,
              "#f0f921"
             ]
            ],
            "type": "heatmapgl"
           }
          ],
          "histogram": [
           {
            "marker": {
             "colorbar": {
              "outlinewidth": 0,
              "ticks": ""
             }
            },
            "type": "histogram"
           }
          ],
          "histogram2d": [
           {
            "colorbar": {
             "outlinewidth": 0,
             "ticks": ""
            },
            "colorscale": [
             [
              0,
              "#0d0887"
             ],
             [
              0.1111111111111111,
              "#46039f"
             ],
             [
              0.2222222222222222,
              "#7201a8"
             ],
             [
              0.3333333333333333,
              "#9c179e"
             ],
             [
              0.4444444444444444,
              "#bd3786"
             ],
             [
              0.5555555555555556,
              "#d8576b"
             ],
             [
              0.6666666666666666,
              "#ed7953"
             ],
             [
              0.7777777777777778,
              "#fb9f3a"
             ],
             [
              0.8888888888888888,
              "#fdca26"
             ],
             [
              1,
              "#f0f921"
             ]
            ],
            "type": "histogram2d"
           }
          ],
          "histogram2dcontour": [
           {
            "colorbar": {
             "outlinewidth": 0,
             "ticks": ""
            },
            "colorscale": [
             [
              0,
              "#0d0887"
             ],
             [
              0.1111111111111111,
              "#46039f"
             ],
             [
              0.2222222222222222,
              "#7201a8"
             ],
             [
              0.3333333333333333,
              "#9c179e"
             ],
             [
              0.4444444444444444,
              "#bd3786"
             ],
             [
              0.5555555555555556,
              "#d8576b"
             ],
             [
              0.6666666666666666,
              "#ed7953"
             ],
             [
              0.7777777777777778,
              "#fb9f3a"
             ],
             [
              0.8888888888888888,
              "#fdca26"
             ],
             [
              1,
              "#f0f921"
             ]
            ],
            "type": "histogram2dcontour"
           }
          ],
          "mesh3d": [
           {
            "colorbar": {
             "outlinewidth": 0,
             "ticks": ""
            },
            "type": "mesh3d"
           }
          ],
          "parcoords": [
           {
            "line": {
             "colorbar": {
              "outlinewidth": 0,
              "ticks": ""
             }
            },
            "type": "parcoords"
           }
          ],
          "pie": [
           {
            "automargin": true,
            "type": "pie"
           }
          ],
          "scatter": [
           {
            "marker": {
             "colorbar": {
              "outlinewidth": 0,
              "ticks": ""
             }
            },
            "type": "scatter"
           }
          ],
          "scatter3d": [
           {
            "line": {
             "colorbar": {
              "outlinewidth": 0,
              "ticks": ""
             }
            },
            "marker": {
             "colorbar": {
              "outlinewidth": 0,
              "ticks": ""
             }
            },
            "type": "scatter3d"
           }
          ],
          "scattercarpet": [
           {
            "marker": {
             "colorbar": {
              "outlinewidth": 0,
              "ticks": ""
             }
            },
            "type": "scattercarpet"
           }
          ],
          "scattergeo": [
           {
            "marker": {
             "colorbar": {
              "outlinewidth": 0,
              "ticks": ""
             }
            },
            "type": "scattergeo"
           }
          ],
          "scattergl": [
           {
            "marker": {
             "colorbar": {
              "outlinewidth": 0,
              "ticks": ""
             }
            },
            "type": "scattergl"
           }
          ],
          "scattermapbox": [
           {
            "marker": {
             "colorbar": {
              "outlinewidth": 0,
              "ticks": ""
             }
            },
            "type": "scattermapbox"
           }
          ],
          "scatterpolar": [
           {
            "marker": {
             "colorbar": {
              "outlinewidth": 0,
              "ticks": ""
             }
            },
            "type": "scatterpolar"
           }
          ],
          "scatterpolargl": [
           {
            "marker": {
             "colorbar": {
              "outlinewidth": 0,
              "ticks": ""
             }
            },
            "type": "scatterpolargl"
           }
          ],
          "scatterternary": [
           {
            "marker": {
             "colorbar": {
              "outlinewidth": 0,
              "ticks": ""
             }
            },
            "type": "scatterternary"
           }
          ],
          "surface": [
           {
            "colorbar": {
             "outlinewidth": 0,
             "ticks": ""
            },
            "colorscale": [
             [
              0,
              "#0d0887"
             ],
             [
              0.1111111111111111,
              "#46039f"
             ],
             [
              0.2222222222222222,
              "#7201a8"
             ],
             [
              0.3333333333333333,
              "#9c179e"
             ],
             [
              0.4444444444444444,
              "#bd3786"
             ],
             [
              0.5555555555555556,
              "#d8576b"
             ],
             [
              0.6666666666666666,
              "#ed7953"
             ],
             [
              0.7777777777777778,
              "#fb9f3a"
             ],
             [
              0.8888888888888888,
              "#fdca26"
             ],
             [
              1,
              "#f0f921"
             ]
            ],
            "type": "surface"
           }
          ],
          "table": [
           {
            "cells": {
             "fill": {
              "color": "#EBF0F8"
             },
             "line": {
              "color": "white"
             }
            },
            "header": {
             "fill": {
              "color": "#C8D4E3"
             },
             "line": {
              "color": "white"
             }
            },
            "type": "table"
           }
          ]
         },
         "layout": {
          "annotationdefaults": {
           "arrowcolor": "#2a3f5f",
           "arrowhead": 0,
           "arrowwidth": 1
          },
          "autotypenumbers": "strict",
          "coloraxis": {
           "colorbar": {
            "outlinewidth": 0,
            "ticks": ""
           }
          },
          "colorscale": {
           "diverging": [
            [
             0,
             "#8e0152"
            ],
            [
             0.1,
             "#c51b7d"
            ],
            [
             0.2,
             "#de77ae"
            ],
            [
             0.3,
             "#f1b6da"
            ],
            [
             0.4,
             "#fde0ef"
            ],
            [
             0.5,
             "#f7f7f7"
            ],
            [
             0.6,
             "#e6f5d0"
            ],
            [
             0.7,
             "#b8e186"
            ],
            [
             0.8,
             "#7fbc41"
            ],
            [
             0.9,
             "#4d9221"
            ],
            [
             1,
             "#276419"
            ]
           ],
           "sequential": [
            [
             0,
             "#0d0887"
            ],
            [
             0.1111111111111111,
             "#46039f"
            ],
            [
             0.2222222222222222,
             "#7201a8"
            ],
            [
             0.3333333333333333,
             "#9c179e"
            ],
            [
             0.4444444444444444,
             "#bd3786"
            ],
            [
             0.5555555555555556,
             "#d8576b"
            ],
            [
             0.6666666666666666,
             "#ed7953"
            ],
            [
             0.7777777777777778,
             "#fb9f3a"
            ],
            [
             0.8888888888888888,
             "#fdca26"
            ],
            [
             1,
             "#f0f921"
            ]
           ],
           "sequentialminus": [
            [
             0,
             "#0d0887"
            ],
            [
             0.1111111111111111,
             "#46039f"
            ],
            [
             0.2222222222222222,
             "#7201a8"
            ],
            [
             0.3333333333333333,
             "#9c179e"
            ],
            [
             0.4444444444444444,
             "#bd3786"
            ],
            [
             0.5555555555555556,
             "#d8576b"
            ],
            [
             0.6666666666666666,
             "#ed7953"
            ],
            [
             0.7777777777777778,
             "#fb9f3a"
            ],
            [
             0.8888888888888888,
             "#fdca26"
            ],
            [
             1,
             "#f0f921"
            ]
           ]
          },
          "colorway": [
           "#636efa",
           "#EF553B",
           "#00cc96",
           "#ab63fa",
           "#FFA15A",
           "#19d3f3",
           "#FF6692",
           "#B6E880",
           "#FF97FF",
           "#FECB52"
          ],
          "font": {
           "color": "#2a3f5f"
          },
          "geo": {
           "bgcolor": "white",
           "lakecolor": "white",
           "landcolor": "#E5ECF6",
           "showlakes": true,
           "showland": true,
           "subunitcolor": "white"
          },
          "hoverlabel": {
           "align": "left"
          },
          "hovermode": "closest",
          "mapbox": {
           "style": "light"
          },
          "paper_bgcolor": "white",
          "plot_bgcolor": "#E5ECF6",
          "polar": {
           "angularaxis": {
            "gridcolor": "white",
            "linecolor": "white",
            "ticks": ""
           },
           "bgcolor": "#E5ECF6",
           "radialaxis": {
            "gridcolor": "white",
            "linecolor": "white",
            "ticks": ""
           }
          },
          "scene": {
           "xaxis": {
            "backgroundcolor": "#E5ECF6",
            "gridcolor": "white",
            "gridwidth": 2,
            "linecolor": "white",
            "showbackground": true,
            "ticks": "",
            "zerolinecolor": "white"
           },
           "yaxis": {
            "backgroundcolor": "#E5ECF6",
            "gridcolor": "white",
            "gridwidth": 2,
            "linecolor": "white",
            "showbackground": true,
            "ticks": "",
            "zerolinecolor": "white"
           },
           "zaxis": {
            "backgroundcolor": "#E5ECF6",
            "gridcolor": "white",
            "gridwidth": 2,
            "linecolor": "white",
            "showbackground": true,
            "ticks": "",
            "zerolinecolor": "white"
           }
          },
          "shapedefaults": {
           "line": {
            "color": "#2a3f5f"
           }
          },
          "ternary": {
           "aaxis": {
            "gridcolor": "white",
            "linecolor": "white",
            "ticks": ""
           },
           "baxis": {
            "gridcolor": "white",
            "linecolor": "white",
            "ticks": ""
           },
           "bgcolor": "#E5ECF6",
           "caxis": {
            "gridcolor": "white",
            "linecolor": "white",
            "ticks": ""
           }
          },
          "title": {
           "x": 0.05
          },
          "xaxis": {
           "automargin": true,
           "gridcolor": "white",
           "linecolor": "white",
           "ticks": "",
           "title": {
            "standoff": 15
           },
           "zerolinecolor": "white",
           "zerolinewidth": 2
          },
          "yaxis": {
           "automargin": true,
           "gridcolor": "white",
           "linecolor": "white",
           "ticks": "",
           "title": {
            "standoff": 15
           },
           "zerolinecolor": "white",
           "zerolinewidth": 2
          }
         }
        },
        "width": 1200
       }
      },
      "text/html": "<div>                            <div id=\"5b2956ec-5c29-42fa-a05e-67b40096a674\" class=\"plotly-graph-div\" style=\"height:700px; width:1200px;\"></div>            <script type=\"text/javascript\">                require([\"plotly\"], function(Plotly) {                    window.PLOTLYENV=window.PLOTLYENV || {};                                    if (document.getElementById(\"5b2956ec-5c29-42fa-a05e-67b40096a674\")) {                    Plotly.newPlot(                        \"5b2956ec-5c29-42fa-a05e-67b40096a674\",                        [{\"link\": {\"color\": [\"#30a4ca\", \"#54c8df\", \"#e7b000\", \"#f3d573\", \"#30a4ca\", \"#da8200\", \"#003786\", \"#003786\", \"#0e58a8\", \"#f3d573\", \"#000000\", \"#e7b000\", \"#f3d573\", \"#217eb8\", \"#30a4ca\", \"#001f4d\"], \"source\": [5, 6, 10, 9, 5, 11, 2, 2, 3, 9, 0, 10, 9, 4, 5, 1], \"target\": [0, 0, 2, 3, 4, 4, 5, 6, 7, 7, 8, 9, 10, 11, 11, 12], \"value\": [0.3602808713912964, 0.3655969202518463, 0.3138153553009033, 0.818149209022522, 0.4221201539039612, 0.3464343845844269, 0.5518302321434021, 0.4901260435581207, 0.40848681330680847, 0.509161651134491, 0.42608460783958435, 0.3591447174549103, 0.4239601492881775, 0.4626080095767975, 0.36653774976730347, 0.7545701861381531]}, \"node\": {\"color\": [\"#000000\", \"#001f4d\", \"#003786\", \"#0e58a8\", \"#217eb8\", \"#30a4ca\", \"#54c8df\", \"#9be4ef\", \"#e1e9d1\", \"#f3d573\", \"#e7b000\", \"#da8200\", \"#c65400\"], \"hoverinfo\": \"none\", \"label\": [\"baoding\", \"beijing\", \"cangzhou\", \"chengde\", \"handan\", \"hengshui\", \"langfang\", \"qinhuangdao\", \"shijiazhuang\", \"tangshan\", \"tianjin\", \"xingtai\", \"zhangjiakou\"], \"pad\": 15}, \"type\": \"sankey\"}],                        {\"font\": {\"size\": 10}, \"height\": 700, \"template\": {\"data\": {\"bar\": [{\"error_x\": {\"color\": \"#2a3f5f\"}, \"error_y\": {\"color\": \"#2a3f5f\"}, \"marker\": {\"line\": {\"color\": \"#E5ECF6\", \"width\": 0.5}}, \"type\": \"bar\"}], \"barpolar\": [{\"marker\": {\"line\": {\"color\": \"#E5ECF6\", \"width\": 0.5}}, \"type\": \"barpolar\"}], \"carpet\": [{\"aaxis\": {\"endlinecolor\": \"#2a3f5f\", \"gridcolor\": \"white\", \"linecolor\": \"white\", \"minorgridcolor\": \"white\", \"startlinecolor\": \"#2a3f5f\"}, \"baxis\": {\"endlinecolor\": \"#2a3f5f\", \"gridcolor\": \"white\", \"linecolor\": \"white\", \"minorgridcolor\": \"white\", \"startlinecolor\": \"#2a3f5f\"}, \"type\": \"carpet\"}], \"choropleth\": [{\"colorbar\": {\"outlinewidth\": 0, \"ticks\": \"\"}, \"type\": \"choropleth\"}], \"contour\": [{\"colorbar\": {\"outlinewidth\": 0, \"ticks\": \"\"}, \"colorscale\": [[0.0, \"#0d0887\"], [0.1111111111111111, \"#46039f\"], [0.2222222222222222, \"#7201a8\"], [0.3333333333333333, \"#9c179e\"], [0.4444444444444444, \"#bd3786\"], [0.5555555555555556, \"#d8576b\"], [0.6666666666666666, \"#ed7953\"], [0.7777777777777778, \"#fb9f3a\"], [0.8888888888888888, \"#fdca26\"], [1.0, \"#f0f921\"]], \"type\": \"contour\"}], \"contourcarpet\": [{\"colorbar\": {\"outlinewidth\": 0, \"ticks\": \"\"}, \"type\": \"contourcarpet\"}], \"heatmap\": [{\"colorbar\": {\"outlinewidth\": 0, \"ticks\": \"\"}, \"colorscale\": [[0.0, \"#0d0887\"], [0.1111111111111111, \"#46039f\"], [0.2222222222222222, \"#7201a8\"], [0.3333333333333333, \"#9c179e\"], [0.4444444444444444, \"#bd3786\"], [0.5555555555555556, \"#d8576b\"], [0.6666666666666666, \"#ed7953\"], [0.7777777777777778, \"#fb9f3a\"], [0.8888888888888888, \"#fdca26\"], [1.0, \"#f0f921\"]], \"type\": \"heatmap\"}], \"heatmapgl\": [{\"colorbar\": {\"outlinewidth\": 0, \"ticks\": \"\"}, \"colorscale\": [[0.0, \"#0d0887\"], [0.1111111111111111, \"#46039f\"], [0.2222222222222222, \"#7201a8\"], [0.3333333333333333, \"#9c179e\"], [0.4444444444444444, \"#bd3786\"], [0.5555555555555556, \"#d8576b\"], [0.6666666666666666, \"#ed7953\"], [0.7777777777777778, \"#fb9f3a\"], [0.8888888888888888, \"#fdca26\"], [1.0, \"#f0f921\"]], \"type\": \"heatmapgl\"}], \"histogram\": [{\"marker\": {\"colorbar\": {\"outlinewidth\": 0, \"ticks\": \"\"}}, \"type\": \"histogram\"}], \"histogram2d\": [{\"colorbar\": {\"outlinewidth\": 0, \"ticks\": \"\"}, \"colorscale\": [[0.0, \"#0d0887\"], [0.1111111111111111, \"#46039f\"], [0.2222222222222222, \"#7201a8\"], [0.3333333333333333, \"#9c179e\"], [0.4444444444444444, \"#bd3786\"], [0.5555555555555556, \"#d8576b\"], [0.6666666666666666, \"#ed7953\"], [0.7777777777777778, \"#fb9f3a\"], [0.8888888888888888, \"#fdca26\"], [1.0, \"#f0f921\"]], \"type\": \"histogram2d\"}], \"histogram2dcontour\": [{\"colorbar\": {\"outlinewidth\": 0, \"ticks\": \"\"}, \"colorscale\": [[0.0, \"#0d0887\"], [0.1111111111111111, \"#46039f\"], [0.2222222222222222, \"#7201a8\"], [0.3333333333333333, \"#9c179e\"], [0.4444444444444444, \"#bd3786\"], [0.5555555555555556, \"#d8576b\"], [0.6666666666666666, \"#ed7953\"], [0.7777777777777778, \"#fb9f3a\"], [0.8888888888888888, \"#fdca26\"], [1.0, \"#f0f921\"]], \"type\": \"histogram2dcontour\"}], \"mesh3d\": [{\"colorbar\": {\"outlinewidth\": 0, \"ticks\": \"\"}, \"type\": \"mesh3d\"}], \"parcoords\": [{\"line\": {\"colorbar\": {\"outlinewidth\": 0, \"ticks\": \"\"}}, \"type\": \"parcoords\"}], \"pie\": [{\"automargin\": true, \"type\": \"pie\"}], \"scatter\": [{\"marker\": {\"colorbar\": {\"outlinewidth\": 0, \"ticks\": \"\"}}, \"type\": \"scatter\"}], \"scatter3d\": [{\"line\": {\"colorbar\": {\"outlinewidth\": 0, \"ticks\": \"\"}}, \"marker\": {\"colorbar\": {\"outlinewidth\": 0, \"ticks\": \"\"}}, \"type\": \"scatter3d\"}], \"scattercarpet\": [{\"marker\": {\"colorbar\": {\"outlinewidth\": 0, \"ticks\": \"\"}}, \"type\": \"scattercarpet\"}], \"scattergeo\": [{\"marker\": {\"colorbar\": {\"outlinewidth\": 0, \"ticks\": \"\"}}, \"type\": \"scattergeo\"}], \"scattergl\": [{\"marker\": {\"colorbar\": {\"outlinewidth\": 0, \"ticks\": \"\"}}, \"type\": \"scattergl\"}], \"scattermapbox\": [{\"marker\": {\"colorbar\": {\"outlinewidth\": 0, \"ticks\": \"\"}}, \"type\": \"scattermapbox\"}], \"scatterpolar\": [{\"marker\": {\"colorbar\": {\"outlinewidth\": 0, \"ticks\": \"\"}}, \"type\": \"scatterpolar\"}], \"scatterpolargl\": [{\"marker\": {\"colorbar\": {\"outlinewidth\": 0, \"ticks\": \"\"}}, \"type\": \"scatterpolargl\"}], \"scatterternary\": [{\"marker\": {\"colorbar\": {\"outlinewidth\": 0, \"ticks\": \"\"}}, \"type\": \"scatterternary\"}], \"surface\": [{\"colorbar\": {\"outlinewidth\": 0, \"ticks\": \"\"}, \"colorscale\": [[0.0, \"#0d0887\"], [0.1111111111111111, \"#46039f\"], [0.2222222222222222, \"#7201a8\"], [0.3333333333333333, \"#9c179e\"], [0.4444444444444444, \"#bd3786\"], [0.5555555555555556, \"#d8576b\"], [0.6666666666666666, \"#ed7953\"], [0.7777777777777778, \"#fb9f3a\"], [0.8888888888888888, \"#fdca26\"], [1.0, \"#f0f921\"]], \"type\": \"surface\"}], \"table\": [{\"cells\": {\"fill\": {\"color\": \"#EBF0F8\"}, \"line\": {\"color\": \"white\"}}, \"header\": {\"fill\": {\"color\": \"#C8D4E3\"}, \"line\": {\"color\": \"white\"}}, \"type\": \"table\"}]}, \"layout\": {\"annotationdefaults\": {\"arrowcolor\": \"#2a3f5f\", \"arrowhead\": 0, \"arrowwidth\": 1}, \"autotypenumbers\": \"strict\", \"coloraxis\": {\"colorbar\": {\"outlinewidth\": 0, \"ticks\": \"\"}}, \"colorscale\": {\"diverging\": [[0, \"#8e0152\"], [0.1, \"#c51b7d\"], [0.2, \"#de77ae\"], [0.3, \"#f1b6da\"], [0.4, \"#fde0ef\"], [0.5, \"#f7f7f7\"], [0.6, \"#e6f5d0\"], [0.7, \"#b8e186\"], [0.8, \"#7fbc41\"], [0.9, \"#4d9221\"], [1, \"#276419\"]], \"sequential\": [[0.0, \"#0d0887\"], [0.1111111111111111, \"#46039f\"], [0.2222222222222222, \"#7201a8\"], [0.3333333333333333, \"#9c179e\"], [0.4444444444444444, \"#bd3786\"], [0.5555555555555556, \"#d8576b\"], [0.6666666666666666, \"#ed7953\"], [0.7777777777777778, \"#fb9f3a\"], [0.8888888888888888, \"#fdca26\"], [1.0, \"#f0f921\"]], \"sequentialminus\": [[0.0, \"#0d0887\"], [0.1111111111111111, \"#46039f\"], [0.2222222222222222, \"#7201a8\"], [0.3333333333333333, \"#9c179e\"], [0.4444444444444444, \"#bd3786\"], [0.5555555555555556, \"#d8576b\"], [0.6666666666666666, \"#ed7953\"], [0.7777777777777778, \"#fb9f3a\"], [0.8888888888888888, \"#fdca26\"], [1.0, \"#f0f921\"]]}, \"colorway\": [\"#636efa\", \"#EF553B\", \"#00cc96\", \"#ab63fa\", \"#FFA15A\", \"#19d3f3\", \"#FF6692\", \"#B6E880\", \"#FF97FF\", \"#FECB52\"], \"font\": {\"color\": \"#2a3f5f\"}, \"geo\": {\"bgcolor\": \"white\", \"lakecolor\": \"white\", \"landcolor\": \"#E5ECF6\", \"showlakes\": true, \"showland\": true, \"subunitcolor\": \"white\"}, \"hoverlabel\": {\"align\": \"left\"}, \"hovermode\": \"closest\", \"mapbox\": {\"style\": \"light\"}, \"paper_bgcolor\": \"white\", \"plot_bgcolor\": \"#E5ECF6\", \"polar\": {\"angularaxis\": {\"gridcolor\": \"white\", \"linecolor\": \"white\", \"ticks\": \"\"}, \"bgcolor\": \"#E5ECF6\", \"radialaxis\": {\"gridcolor\": \"white\", \"linecolor\": \"white\", \"ticks\": \"\"}}, \"scene\": {\"xaxis\": {\"backgroundcolor\": \"#E5ECF6\", \"gridcolor\": \"white\", \"gridwidth\": 2, \"linecolor\": \"white\", \"showbackground\": true, \"ticks\": \"\", \"zerolinecolor\": \"white\"}, \"yaxis\": {\"backgroundcolor\": \"#E5ECF6\", \"gridcolor\": \"white\", \"gridwidth\": 2, \"linecolor\": \"white\", \"showbackground\": true, \"ticks\": \"\", \"zerolinecolor\": \"white\"}, \"zaxis\": {\"backgroundcolor\": \"#E5ECF6\", \"gridcolor\": \"white\", \"gridwidth\": 2, \"linecolor\": \"white\", \"showbackground\": true, \"ticks\": \"\", \"zerolinecolor\": \"white\"}}, \"shapedefaults\": {\"line\": {\"color\": \"#2a3f5f\"}}, \"ternary\": {\"aaxis\": {\"gridcolor\": \"white\", \"linecolor\": \"white\", \"ticks\": \"\"}, \"baxis\": {\"gridcolor\": \"white\", \"linecolor\": \"white\", \"ticks\": \"\"}, \"bgcolor\": \"#E5ECF6\", \"caxis\": {\"gridcolor\": \"white\", \"linecolor\": \"white\", \"ticks\": \"\"}}, \"title\": {\"x\": 0.05}, \"xaxis\": {\"automargin\": true, \"gridcolor\": \"white\", \"linecolor\": \"white\", \"ticks\": \"\", \"title\": {\"standoff\": 15}, \"zerolinecolor\": \"white\", \"zerolinewidth\": 2}, \"yaxis\": {\"automargin\": true, \"gridcolor\": \"white\", \"linecolor\": \"white\", \"ticks\": \"\", \"title\": {\"standoff\": 15}, \"zerolinecolor\": \"white\", \"zerolinewidth\": 2}}}, \"width\": 1200},                        {\"responsive\": true}                    ).then(function(){\n                            \nvar gd = document.getElementById('5b2956ec-5c29-42fa-a05e-67b40096a674');\nvar x = new MutationObserver(function (mutations, observer) {{\n        var display = window.getComputedStyle(gd).display;\n        if (!display || display === 'none') {{\n            console.log([gd, 'removed!']);\n            Plotly.purge(gd);\n            observer.disconnect();\n        }}\n}});\n\n// Listen for the removal of the full notebook cells\nvar notebookContainer = gd.closest('#notebook-container');\nif (notebookContainer) {{\n    x.observe(notebookContainer, {childList: true});\n}}\n\n// Listen for the clearing of the current output cell\nvar outputEl = gd.closest('.output');\nif (outputEl) {{\n    x.observe(outputEl, {childList: true});\n}}\n\n                        })                };                });            </script>        </div>"
     },
     "metadata": {}
    }
   ],
   "source": [
    "colormap = px.colors.cyclical.IceFire\n",
    "assert len(colormap) > len(labels), \"Not enough colours for nodes\"\n",
    "\n",
    "fig = go.Figure(data=[go.Sankey(\n",
    "    node = dict(\n",
    "      pad = 15,\n",
    "      label = labels,\n",
    "      color = list(map(lambda i: colormap[i], range(len(labels)))),\n",
    "      hoverinfo = 'none'\n",
    "    ),\n",
    "    link = dict(\n",
    "      source = source_filtered,\n",
    "      target = target_filtered,\n",
    "      value = values_filtered,\n",
    "      color = list(map(lambda i: colormap[i], source_filtered)),\n",
    "      #hoverinfo = 'none'\n",
    "  ))], layout={'width': 1200, 'height': 700})\n",
    "\n",
    "fig.update_layout(font_size=10)\n",
    "fig.show()"
   ]
  },
  {
   "source": [
    "## New plotting"
   ],
   "cell_type": "markdown",
   "metadata": {}
  },
  {
   "cell_type": "code",
   "execution_count": 31,
   "metadata": {},
   "outputs": [
    {
     "output_type": "execute_result",
     "data": {
      "text/plain": [
       "Experiment 'SGNN3_0-336_00'"
      ]
     },
     "metadata": {},
     "execution_count": 31
    }
   ],
   "source": [
    "exp = experiments[\"SGNN3_0-336_00\"]\n",
    "exp"
   ]
  },
  {
   "cell_type": "code",
   "execution_count": 39,
   "metadata": {},
   "outputs": [
    {
     "output_type": "execute_result",
     "data": {
      "text/plain": [
       "['1029A',\n",
       " '1037A',\n",
       " '1046A',\n",
       " '1056A',\n",
       " '1061A',\n",
       " '1065A',\n",
       " '1068A',\n",
       " '1072A',\n",
       " 'changping',\n",
       " 'daxing',\n",
       " 'qianmen',\n",
       " 'shunyi']"
      ]
     },
     "metadata": {},
     "execution_count": 39
    }
   ],
   "source": [
    "exp.devices"
   ]
  },
  {
   "cell_type": "code",
   "execution_count": 35,
   "metadata": {},
   "outputs": [],
   "source": [
    "time_df = pd.DataFrame(exp.time_npy).applymap(pd.Timestamp.fromtimestamp)"
   ]
  },
  {
   "cell_type": "code",
   "execution_count": 38,
   "metadata": {},
   "outputs": [],
   "source": []
  },
  {
   "cell_type": "code",
   "execution_count": 42,
   "metadata": {},
   "outputs": [
    {
     "output_type": "execute_result",
     "data": {
      "text/plain": [
       "                    device_id       pm25                time\n",
       "time                                                        \n",
       "2020-12-02 01:00:00     1029A  51.640736 2020-12-02 01:00:00\n",
       "2020-12-02 02:00:00     1029A  49.936935 2020-12-02 02:00:00\n",
       "2020-12-02 03:00:00     1029A  53.263573 2020-12-02 03:00:00\n",
       "2020-12-02 04:00:00     1029A  56.981144 2020-12-02 04:00:00\n",
       "2020-12-02 05:00:00     1029A  60.321495 2020-12-02 05:00:00\n",
       "...                       ...        ...                 ...\n",
       "2020-12-19 18:00:00    shunyi  46.884476 2020-12-19 18:00:00\n",
       "2020-12-19 19:00:00    shunyi  49.094585 2020-12-19 19:00:00\n",
       "2020-12-19 20:00:00    shunyi  50.890945 2020-12-19 20:00:00\n",
       "2020-12-19 21:00:00    shunyi  51.976299 2020-12-19 21:00:00\n",
       "2020-12-19 22:00:00    shunyi  53.533302 2020-12-19 22:00:00\n",
       "\n",
       "[4032 rows x 3 columns]"
      ],
      "text/html": "<div>\n<style scoped>\n    .dataframe tbody tr th:only-of-type {\n        vertical-align: middle;\n    }\n\n    .dataframe tbody tr th {\n        vertical-align: top;\n    }\n\n    .dataframe thead th {\n        text-align: right;\n    }\n</style>\n<table border=\"1\" class=\"dataframe\">\n  <thead>\n    <tr style=\"text-align: right;\">\n      <th></th>\n      <th>device_id</th>\n      <th>pm25</th>\n      <th>time</th>\n    </tr>\n    <tr>\n      <th>time</th>\n      <th></th>\n      <th></th>\n      <th></th>\n    </tr>\n  </thead>\n  <tbody>\n    <tr>\n      <th>2020-12-02 01:00:00</th>\n      <td>1029A</td>\n      <td>51.640736</td>\n      <td>2020-12-02 01:00:00</td>\n    </tr>\n    <tr>\n      <th>2020-12-02 02:00:00</th>\n      <td>1029A</td>\n      <td>49.936935</td>\n      <td>2020-12-02 02:00:00</td>\n    </tr>\n    <tr>\n      <th>2020-12-02 03:00:00</th>\n      <td>1029A</td>\n      <td>53.263573</td>\n      <td>2020-12-02 03:00:00</td>\n    </tr>\n    <tr>\n      <th>2020-12-02 04:00:00</th>\n      <td>1029A</td>\n      <td>56.981144</td>\n      <td>2020-12-02 04:00:00</td>\n    </tr>\n    <tr>\n      <th>2020-12-02 05:00:00</th>\n      <td>1029A</td>\n      <td>60.321495</td>\n      <td>2020-12-02 05:00:00</td>\n    </tr>\n    <tr>\n      <th>...</th>\n      <td>...</td>\n      <td>...</td>\n      <td>...</td>\n    </tr>\n    <tr>\n      <th>2020-12-19 18:00:00</th>\n      <td>shunyi</td>\n      <td>46.884476</td>\n      <td>2020-12-19 18:00:00</td>\n    </tr>\n    <tr>\n      <th>2020-12-19 19:00:00</th>\n      <td>shunyi</td>\n      <td>49.094585</td>\n      <td>2020-12-19 19:00:00</td>\n    </tr>\n    <tr>\n      <th>2020-12-19 20:00:00</th>\n      <td>shunyi</td>\n      <td>50.890945</td>\n      <td>2020-12-19 20:00:00</td>\n    </tr>\n    <tr>\n      <th>2020-12-19 21:00:00</th>\n      <td>shunyi</td>\n      <td>51.976299</td>\n      <td>2020-12-19 21:00:00</td>\n    </tr>\n    <tr>\n      <th>2020-12-19 22:00:00</th>\n      <td>shunyi</td>\n      <td>53.533302</td>\n      <td>2020-12-19 22:00:00</td>\n    </tr>\n  </tbody>\n</table>\n<p>4032 rows × 3 columns</p>\n</div>"
     },
     "metadata": {},
     "execution_count": 42
    }
   ],
   "source": [
    "exp.preds"
   ]
  },
  {
   "cell_type": "code",
   "execution_count": 43,
   "metadata": {},
   "outputs": [],
   "source": []
  },
  {
   "cell_type": "code",
   "execution_count": 45,
   "metadata": {},
   "outputs": [
    {
     "output_type": "execute_result",
     "data": {
      "text/plain": [
       "                    device_id       pm25\n",
       "0                                       \n",
       "2020-01-01 01:00:00     1029A  52.416451\n",
       "2020-01-01 02:00:00     1029A  52.635353\n",
       "2020-01-01 03:00:00     1029A  52.768593\n",
       "2020-01-01 04:00:00     1029A  53.352798\n",
       "2020-01-01 05:00:00     1029A  54.792267\n",
       "...                       ...        ...\n",
       "2020-12-05 22:00:00    shunyi  66.045181\n",
       "2020-12-05 23:00:00    shunyi  65.519463\n",
       "2020-12-06 00:00:00    shunyi  64.921768\n",
       "2020-12-06 01:00:00    shunyi  60.260269\n",
       "2020-12-06 02:00:00    shunyi  61.693768\n",
       "\n",
       "[66432 rows x 2 columns]"
      ],
      "text/html": "<div>\n<style scoped>\n    .dataframe tbody tr th:only-of-type {\n        vertical-align: middle;\n    }\n\n    .dataframe tbody tr th {\n        vertical-align: top;\n    }\n\n    .dataframe thead th {\n        text-align: right;\n    }\n</style>\n<table border=\"1\" class=\"dataframe\">\n  <thead>\n    <tr style=\"text-align: right;\">\n      <th></th>\n      <th>device_id</th>\n      <th>pm25</th>\n    </tr>\n    <tr>\n      <th>0</th>\n      <th></th>\n      <th></th>\n    </tr>\n  </thead>\n  <tbody>\n    <tr>\n      <th>2020-01-01 01:00:00</th>\n      <td>1029A</td>\n      <td>52.416451</td>\n    </tr>\n    <tr>\n      <th>2020-01-01 02:00:00</th>\n      <td>1029A</td>\n      <td>52.635353</td>\n    </tr>\n    <tr>\n      <th>2020-01-01 03:00:00</th>\n      <td>1029A</td>\n      <td>52.768593</td>\n    </tr>\n    <tr>\n      <th>2020-01-01 04:00:00</th>\n      <td>1029A</td>\n      <td>53.352798</td>\n    </tr>\n    <tr>\n      <th>2020-01-01 05:00:00</th>\n      <td>1029A</td>\n      <td>54.792267</td>\n    </tr>\n    <tr>\n      <th>...</th>\n      <td>...</td>\n      <td>...</td>\n    </tr>\n    <tr>\n      <th>2020-12-05 22:00:00</th>\n      <td>shunyi</td>\n      <td>66.045181</td>\n    </tr>\n    <tr>\n      <th>2020-12-05 23:00:00</th>\n      <td>shunyi</td>\n      <td>65.519463</td>\n    </tr>\n    <tr>\n      <th>2020-12-06 00:00:00</th>\n      <td>shunyi</td>\n      <td>64.921768</td>\n    </tr>\n    <tr>\n      <th>2020-12-06 01:00:00</th>\n      <td>shunyi</td>\n      <td>60.260269</td>\n    </tr>\n    <tr>\n      <th>2020-12-06 02:00:00</th>\n      <td>shunyi</td>\n      <td>61.693768</td>\n    </tr>\n  </tbody>\n</table>\n<p>66432 rows × 2 columns</p>\n</div>"
     },
     "metadata": {},
     "execution_count": 45
    }
   ],
   "source": [
    "pred_df.melt(ignore_index=False, var_name='device_id', value_name='pm25')"
   ]
  },
  {
   "cell_type": "code",
   "execution_count": 32,
   "metadata": {},
   "outputs": [
    {
     "output_type": "stream",
     "name": "stdout",
     "text": [
      "5536×336×12×1 float32 ndarray\n"
     ]
    },
    {
     "output_type": "display_data",
     "data": {
      "text/plain": "interactive(children=(Text(value='[:100, :100, 0, 0]', description='Slice:', placeholder='e.g. [:100, :100, 0,…",
      "application/vnd.jupyter.widget-view+json": {
       "version_major": 2,
       "version_minor": 0,
       "model_id": "93d97216e47b4ff985405725d8615e9c"
      }
     },
     "metadata": {}
    },
    {
     "output_type": "execute_result",
     "data": {
      "text/plain": []
     },
     "metadata": {},
     "execution_count": 32
    }
   ],
   "source": [
    "exp.pred_npy"
   ]
  }
 ]
}