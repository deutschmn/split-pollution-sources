{
 "metadata": {
  "language_info": {
   "codemirror_mode": {
    "name": "ipython",
    "version": 3
   },
   "file_extension": ".py",
   "mimetype": "text/x-python",
   "name": "python",
   "nbconvert_exporter": "python",
   "pygments_lexer": "ipython3",
   "version": "3.7.7"
  },
  "orig_nbformat": 2,
  "kernelspec": {
   "name": "python3",
   "display_name": "Python 3.7.7 64-bit",
   "metadata": {
    "interpreter": {
     "hash": "e774977668b7c0ae8309835a5187aa7fbf7669e7d0bb59755bc63e573643edcd"
    }
   }
  }
 },
 "nbformat": 4,
 "nbformat_minor": 2,
 "cells": [
  {
   "cell_type": "code",
   "execution_count": 6,
   "metadata": {},
   "outputs": [],
   "source": [
    "from ipywidgets import interact, interactive, fixed, interact_manual\n",
    "import ipywidgets as widgets\n",
    "\n",
    "import numpy as np\n",
    "import pandas as pd\n",
    "from tqdm.notebook import tqdm\n",
    "\n",
    "import matplotlib.pyplot as plt\n",
    "import ndpretty\n",
    "\n",
    "import data_prep\n",
    "import gnn_prep\n",
    "import widget_util"
   ]
  },
  {
   "cell_type": "code",
   "execution_count": 2,
   "metadata": {},
   "outputs": [
    {
     "output_type": "display_data",
     "data": {
      "text/plain": "HBox(children=(IntProgress(value=0, max=87), HTML(value='')))",
      "application/vnd.jupyter.widget-view+json": {
       "version_major": 2,
       "version_minor": 0,
       "model_id": "0123cc80304f455eb7c378ccd7311cce"
      }
     },
     "metadata": {}
    },
    {
     "output_type": "stream",
     "name": "stdout",
     "text": [
      "\n",
      "Loaded air quality data from 87 devices. No weather data for []\n"
     ]
    }
   ],
   "source": [
    "ndpretty.default()\n",
    "data = data_prep.load_beijing_data()"
   ]
  },
  {
   "source": [
    "# Analyse experiment results"
   ],
   "cell_type": "markdown",
   "metadata": {}
  },
  {
   "cell_type": "code",
   "execution_count": 3,
   "metadata": {},
   "outputs": [],
   "source": [
    "gnn_data_path=\"Previous work/PM2.5-GNN/data/\"\n",
    "gnn_experiment_path = gnn_data_path + \"results/\"\n",
    "\n",
    "dataset_name = \"DS2\"\n",
    "\n",
    "devices_path = f\"{gnn_data_path}city_{dataset_name}.txt\"\n",
    "city_txt = pd.read_csv(devices_path, sep=' ', header=None, index_col=0)\n",
    "devices = list(city_txt[1])"
   ]
  },
  {
   "cell_type": "code",
   "execution_count": 4,
   "metadata": {},
   "outputs": [],
   "source": [
    "class Experiment:\n",
    "    def __init__(self, name, path, start_date, devices):\n",
    "        self.name = name\n",
    "        self.path = path\n",
    "        self.start_date = start_date\n",
    "        self.devices = devices\n",
    "        self.preds, self.R_dict = self.load_experiment()\n",
    "\n",
    "    def load_experiment(self):\n",
    "        time_npy = np.load(self.path + 'time.npy')\n",
    "        pred_npy = np.load(self.path + 'predict.npy')\n",
    "\n",
    "        preds = gnn_prep.transform_preds_back(time_npy, pred_npy, self.devices, self.start_date, melted=True)\n",
    "\n",
    "        try:\n",
    "            R_npy = np.load(self.path + 'R.npy')\n",
    "            R_dict = gnn_prep.transform_R_back(time_npy, R_npy, self.devices, self.start_date, self.name)\n",
    "        except FileNotFoundError as e:\n",
    "            print(f\"Couldn't load R.npy for '{self.name}': {e}\")\n",
    "            R_dict = None\n",
    "\n",
    "        preds['time'] = preds.index\n",
    "        return preds, R_dict\n",
    "\n",
    "    def __repr__(self):\n",
    "        return f\"Experiment '{self.name}'\"\n",
    "        "
   ]
  },
  {
   "cell_type": "code",
   "execution_count": 7,
   "metadata": {},
   "outputs": [
    {
     "output_type": "display_data",
     "data": {
      "text/plain": "HBox(children=(IntProgress(value=0, max=6), HTML(value='')))",
      "application/vnd.jupyter.widget-view+json": {
       "version_major": 2,
       "version_minor": 0,
       "model_id": "edf2fbd9d9c74de89b0d4bcfd3036f3a"
      }
     },
     "metadata": {}
    },
    {
     "output_type": "stream",
     "name": "stdout",
     "text": [
      "\nLoaded 6 experiments\n"
     ]
    }
   ],
   "source": [
    "experiments = {\n",
    "    \"PM25_GNN\": \"0_336/1/PM25_GNN/2021-03-29_09-16-24/01/\",\n",
    "    \"SGNN3_00\": \"0_336/1/SplitGNN_3/2021-03-29_20-33-32/00/\",\n",
    "    \"SGNN3_01\": \"0_336/1/SplitGNN_3/2021-03-29_20-33-32/01/\",\n",
    "    \"SGNN3_02\": \"0_336/1/SplitGNN_3/2021-03-29_20-33-32/02/\",\n",
    "    \"SGNN3_03\": \"0_336/1/SplitGNN_3/2021-03-29_20-33-32/03/\",\n",
    "    \"SGNN3_04\": \"0_336/1/SplitGNN_3/2021-03-29_20-33-32/04/\",\n",
    "}\n",
    "\n",
    "start_date = \"2020-01-01 01:00:00\"\n",
    "end_date = \"2020-03-01 01:00:00\"\n",
    "for name, path in tqdm(experiments.items()):\n",
    "    experiments[name] = Experiment(name, gnn_experiment_path + path, start_date, devices)\n",
    "\n",
    "print(f\"Loaded {len(experiments)} experiments\")"
   ]
  },
  {
   "cell_type": "code",
   "execution_count": 8,
   "metadata": {},
   "outputs": [],
   "source": [
    "df = data.measurements.copy()\n",
    "df.index = df['time']\n",
    "ground_truth = df[df['device_id'].isin(devices)]"
   ]
  },
  {
   "cell_type": "code",
   "execution_count": 9,
   "metadata": {},
   "outputs": [],
   "source": [
    "device_widget = widgets.Select(\n",
    "    options=devices,\n",
    "    rows=5,\n",
    "    description='Device'\n",
    ")\n",
    "\n",
    "exp_widget = widgets.SelectMultiple(\n",
    "    options=experiments.keys(),\n",
    "    rows=10,\n",
    "    description='Exps'\n",
    ")\n",
    "\n",
    "date_widget = widget_util.get_date_slider(data, start=start_date)"
   ]
  },
  {
   "cell_type": "code",
   "execution_count": 10,
   "metadata": {},
   "outputs": [
    {
     "output_type": "display_data",
     "data": {
      "text/plain": "interactive(children=(SelectMultiple(description='Exps', options=('PM25_GNN', 'SGNN3_00', 'SGNN3_01', 'SGNN3_0…",
      "application/vnd.jupyter.widget-view+json": {
       "version_major": 2,
       "version_minor": 0,
       "model_id": "27016678389e4c84a92870da0de21e1d"
      }
     },
     "metadata": {}
    },
    {
     "output_type": "execute_result",
     "data": {
      "text/plain": [
       "<function __main__.plot_results(ground_truth, exps, selected_exps, device, date_range, feature, events)>"
      ]
     },
     "metadata": {},
     "execution_count": 10
    }
   ],
   "source": [
    "def plot_results(ground_truth, exps, selected_exps, device, date_range, feature, events):\n",
    "    plt.figure(figsize=(10,5))\n",
    "\n",
    "    # plot events\n",
    "    for event in events:\n",
    "        plt.axvspan(event.start, event.end, color=event.color, alpha=0.1, label=event.name)\n",
    "\n",
    "    # plot ground truth\n",
    "    (start, end) = date_range\n",
    "    y = ground_truth[(ground_truth['device_id'] == device) & (ground_truth['time'] >= start) & (ground_truth['time'] < end)]\n",
    "    plt.plot(y['time'], y[feature], label='ground truth')\n",
    "\n",
    "    # plot experiment predictions\n",
    "    for e in selected_exps:\n",
    "        exp = exps[e]\n",
    "        df = exp.preds\n",
    "        y = df[(df['device_id'] == device) & (df['time'] >= start) & (df['time'] < end)]\n",
    "        plt.plot(y['time'], y[feature], label=e)\n",
    "\n",
    "    plt.tight_layout()\n",
    "    plt.title(f\"{feature} @ {device}\")\n",
    "    plt.legend(loc='upper left')\n",
    "    axes = plt.gca()\n",
    "    axes.set_xlim([start,end])\n",
    "    plt.show()\n",
    "\n",
    "    # plot R values for device\n",
    "    for e in selected_exps:\n",
    "        R_dict = exps[e].R_dict\n",
    "        if R_dict is not None:\n",
    "            R_dict[device].plot(kind='area', title=f\"R for {e} @ {device}\")\n",
    "\n",
    "interact_manual(plot_results, ground_truth=fixed(ground_truth), exps=fixed(experiments), selected_exps=exp_widget, device=device_widget, date_range=date_widget, feature=fixed('pm25'), events=fixed(data.events))"
   ]
  }
 ]
}