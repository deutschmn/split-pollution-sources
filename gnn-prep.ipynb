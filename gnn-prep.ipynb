{
 "metadata": {
  "language_info": {
   "codemirror_mode": {
    "name": "ipython",
    "version": 3
   },
   "file_extension": ".py",
   "mimetype": "text/x-python",
   "name": "python",
   "nbconvert_exporter": "python",
   "pygments_lexer": "ipython3",
   "version": "3.9.1-final"
  },
  "orig_nbformat": 2,
  "kernelspec": {
   "name": "python3",
   "display_name": "Python 3",
   "language": "python"
  }
 },
 "nbformat": 4,
 "nbformat_minor": 2,
 "cells": [
  {
   "cell_type": "code",
   "execution_count": 1,
   "metadata": {},
   "outputs": [],
   "source": [
    "import numpy as np\n",
    "import pandas as pd\n",
    "import geopandas as gpd\n",
    "\n",
    "import datetime\n",
    "import pickle\n",
    "\n",
    "import ndpretty\n",
    "\n",
    "import data_prep"
   ]
  },
  {
   "cell_type": "code",
   "execution_count": 2,
   "metadata": {},
   "outputs": [],
   "source": [
    "ndpretty.default()"
   ]
  },
  {
   "cell_type": "code",
   "execution_count": 3,
   "metadata": {},
   "outputs": [
    {
     "output_type": "display_data",
     "data": {
      "text/plain": "HBox(children=(FloatProgress(value=0.0, max=87.0), HTML(value='')))",
      "application/vnd.jupyter.widget-view+json": {
       "version_major": 2,
       "version_minor": 0,
       "model_id": "a9e408796ce543879d74ca6a8368afcf"
      }
     },
     "metadata": {}
    },
    {
     "output_type": "stream",
     "name": "stdout",
     "text": [
      "\n",
      "Loaded air quality data from 87 devices. No weather data for ['fangshan', 'miyun', 'yanqing', 'badaling', 'miyunshuiku', 'yufa', 'liulihe', '1042A', '1043A', '1044A', '1045A', '1046A', '1047A', '1048A', '1049A', '1050A', '1067A', '1068A', '1069A', '1070A', '1074A', '1075A', '1076A']\n"
     ]
    }
   ],
   "source": [
    "data = data_prep.load_beijing_data()"
   ]
  },
  {
   "source": [
    "# PM2.5 GNN"
   ],
   "cell_type": "markdown",
   "metadata": {}
  },
  {
   "cell_type": "code",
   "execution_count": 4,
   "metadata": {},
   "outputs": [],
   "source": [
    "data_path = \"Previous work/PM2.5-GNN/data/\"\n",
    "\n",
    "know_air = np.load(data_path + \"KnowAir.npy\") # time × city × measure (17 features, 1 col for PM25)\n",
    "cities = pd.read_table(data_path + \"city.txt\", delimiter=' ', header=None)\n",
    "altitude = np.load(data_path + \"altitude.npy\")\n",
    "\n",
    "with open(data_path + \"city_dict.pkl\", 'rb') as f:\n",
    "    city_dict = pickle.load(f)"
   ]
  },
  {
   "source": [
    "There aren't any NaN values in the data for PM2.5 GNN:"
   ],
   "cell_type": "markdown",
   "metadata": {}
  },
  {
   "cell_type": "code",
   "execution_count": 5,
   "metadata": {},
   "outputs": [
    {
     "output_type": "execute_result",
     "data": {
      "text/plain": [
       "False"
      ]
     },
     "metadata": {},
     "execution_count": 5
    }
   ],
   "source": [
    "np.isnan(know_air).any()"
   ]
  },
  {
   "source": [
    "For one city, multiple sensors seem to be grouped together."
   ],
   "cell_type": "markdown",
   "metadata": {}
  },
  {
   "cell_type": "code",
   "execution_count": 6,
   "metadata": {},
   "outputs": [
    {
     "output_type": "execute_result",
     "data": {
      "text/plain": [
       "[['1001A', 116.366, 39.8673, 'Wanshouxigong'],\n",
       " ['1002A', 116.17, 40.2865, 'Dingling'],\n",
       " ['1003A', 116.434, 39.9522, 'Dongsi'],\n",
       " ['1004A', 116.434, 39.8745, 'Tiantan'],\n",
       " ['1005A', 116.473, 39.9716, 'Nongzhanguan'],\n",
       " ['1006A', 116.361, 39.9425, 'Guanyuan'],\n",
       " ['1007A', 116.315, 39.9934, 'Haidianquwanliu'],\n",
       " ['1008A', 116.72, 40.1438, 'Shunyixincheng'],\n",
       " ['1009A', 116.64399999999999, 40.3937, 'Huairouzhen'],\n",
       " ['1010A', 116.23, 40.1952, 'Changpingzhen'],\n",
       " ['1011A', 116.40700000000001, 40.0031, 'Aotizhongxin'],\n",
       " ['1012A', 116.225, 39.9279, 'Gucheng']]"
      ]
     },
     "metadata": {},
     "execution_count": 6
    }
   ],
   "source": [
    "city_dict['Beijing']"
   ]
  },
  {
   "source": [
    "The centroid of all sensor coordinates seems to be used as the cities computation location. However, the PM2.5 measurements within Beijing vary a lot. As we are focussing on Beijing, we probably shouldn't average over the whole city."
   ],
   "cell_type": "markdown",
   "metadata": {}
  },
  {
   "source": [
    "### Generate my own input data\n",
    "\n",
    "#### `city.txt`"
   ],
   "cell_type": "markdown",
   "metadata": {}
  },
  {
   "cell_type": "code",
   "execution_count": 7,
   "metadata": {},
   "outputs": [],
   "source": [
    "cities_export = data.metadata[['device_id', 'lon', 'lat']]"
   ]
  },
  {
   "cell_type": "code",
   "execution_count": 8,
   "metadata": {},
   "outputs": [],
   "source": [
    "with open(data_path + 'city_import.txt', 'w') as city_f:\n",
    "    city_f.write(cities_export.to_csv(sep=' ', header=False))"
   ]
  },
  {
   "source": [
    "#### `KnowAir.npy`"
   ],
   "cell_type": "markdown",
   "metadata": {}
  },
  {
   "source": [
    "This file seems to be `time × city × measure` whereas `measure` contains 17 weather features and 1 column for PM2.5.\n",
    "\n",
    "It includes no time steps, just the data. On the `time` dimension, it contains one entry every three hours."
   ],
   "cell_type": "markdown",
   "metadata": {}
  },
  {
   "cell_type": "code",
   "execution_count": 9,
   "metadata": {},
   "outputs": [
    {
     "output_type": "execute_result",
     "data": {
      "text/plain": [
       "(11688, Timedelta('1460 days 21:00:00'), 35064, 11688.0)"
      ]
     },
     "metadata": {},
     "execution_count": 9
    }
   ],
   "source": [
    "data_start = pd.to_datetime(\"2015-01-01 00:00\")\n",
    "data_end = pd.to_datetime(\"2018-12-31 21:00\")\n",
    "\n",
    "know_air.shape[0], pd.Timedelta(data_end - data_start), (1460 * 24 + 21 + 3), (1460 * 24 + 21 + 3) / 3"
   ]
  },
  {
   "cell_type": "code",
   "execution_count": 10,
   "metadata": {},
   "outputs": [
    {
     "output_type": "execute_result",
     "data": {
      "text/plain": [
       "116186"
      ]
     },
     "metadata": {},
     "execution_count": 10
    }
   ],
   "source": [
    "rel_devices = [ 'qianmen', 'changping', 'daxing', 'shunyi', # Beijing\n",
    "                '1056A', # Baoding\n",
    "                # '1069A', # Langfang\n",
    "                '1061A', # Zhangjiakou\n",
    "                '1037A', # Tangshan\n",
    "                ]\n",
    "\n",
    "relevant = data.measurements\n",
    "relevant = relevant[relevant['device_id'].isin(rel_devices)]\n",
    "\n",
    "export_df = pd.DataFrame()\n",
    "export_df['device_id'] = relevant['device_id']\n",
    "export_df['time'] = relevant['time']\n",
    "export_df['2m_temperature'] = relevant['temperature']\n",
    "export_df['relative_humidity+950'] = relevant['humidity'] * 100\n",
    "export_df['total_precipitation'] = relevant['precipIntensity']\n",
    "export_df['wind_speed'] = relevant['windSpeed']\n",
    "export_df['wind_direction'] = relevant['windBearing']\n",
    "export_df['pm25'] = relevant['pm25']\n",
    "export_df.index = relevant['time']\n",
    "\n",
    "# drop all times at which at least one sensors has a NaN\n",
    "missing_time = export_df[export_df.isnull().any(axis=1)]['time'].unique()\n",
    "export_df = export_df[~export_df['time'].isin(missing_time)]\n",
    "\n",
    "assert len(export_df) > 0, \"No entries to export\"\n",
    "\n",
    "len(export_df)"
   ]
  },
  {
   "cell_type": "code",
   "execution_count": 11,
   "metadata": {},
   "outputs": [
    {
     "output_type": "stream",
     "name": "stdout",
     "text": [
      "(16598×7×7) object ndarray\n"
     ]
    },
    {
     "output_type": "display_data",
     "data": {
      "text/plain": "interactive(children=(Text(value='[:100, :, 0]', description='Slice:', placeholder='e.g. [:100, :, 0]'), Outpu…",
      "application/vnd.jupyter.widget-view+json": {
       "version_major": 2,
       "version_minor": 0,
       "model_id": "e0820673ebfe4286a48a572700a7d1aa"
      }
     },
     "metadata": {}
    },
    {
     "output_type": "execute_result",
     "data": {
      "text/plain": []
     },
     "metadata": {},
     "execution_count": 11
    }
   ],
   "source": [
    "# transform from data frame to shape of KnowAir.npy\n",
    "export_grouped = export_df.groupby('device_id').apply(pd.DataFrame.to_numpy)\n",
    "y = list(map(lambda x: x[:,1:], export_grouped))\n",
    "\n",
    "# time × city × measure (17 features, 1 col for PM25)\n",
    "z = np.array(y)\n",
    "z = z.swapaxes(0, 1)\n",
    "z"
   ]
  }
 ]
}